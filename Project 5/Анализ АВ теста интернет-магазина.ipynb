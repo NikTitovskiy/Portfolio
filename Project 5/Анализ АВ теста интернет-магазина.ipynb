{
 "cells": [
  {
   "cell_type": "markdown",
   "metadata": {},
   "source": [
    "# Принятие решений в бизнесе"
   ]
  },
  {
   "cell_type": "markdown",
   "metadata": {},
   "source": [
    "**Описание проекта:**\n",
    "\n",
    "Вы — аналитик крупного интернет-магазина. Вместе с отделом маркетинга вы подготовили список гипотез для увеличения выручки."
   ]
  },
  {
   "cell_type": "markdown",
   "metadata": {},
   "source": [
    "**Цель работ:**\n",
    "    \n",
    "Приоритизация гипотез, подготовленных совместно с отделом маркетинга крупного интернет-магазина, запуск А/В-теста и анализ результатов."
   ]
  },
  {
   "cell_type": "markdown",
   "metadata": {},
   "source": [
    "**Исходные данные:**\n",
    "    \n",
    "- файл с гипотезами;\n",
    "- файл с заказами и выручкой;\n",
    "- файл с посещениями."
   ]
  },
  {
   "cell_type": "markdown",
   "metadata": {
    "toc": true
   },
   "source": [
    "<h1>Содержание<span class=\"tocSkip\"></span></h1>\n",
    "<div class=\"toc\"><ul class=\"toc-item\"><li><span><a href=\"#Загрузка-данных-и-их-подготовка-к-анализу\" data-toc-modified-id=\"Загрузка-данных-и-их-подготовка-к-анализу-1\"><span class=\"toc-item-num\">1&nbsp;&nbsp;</span>Загрузка данных и их подготовка к анализу</a></span></li><li><span><a href=\"#Приоритизация-гипотез\" data-toc-modified-id=\"Приоритизация-гипотез-2\"><span class=\"toc-item-num\">2&nbsp;&nbsp;</span>Приоритизация гипотез</a></span></li><li><span><a href=\"#Анализ-A/B-теста\" data-toc-modified-id=\"Анализ-A/B-теста-3\"><span class=\"toc-item-num\">3&nbsp;&nbsp;</span>Анализ A/B-теста</a></span><ul class=\"toc-item\"><li><span><a href=\"#Построение-графика-кумулятивной-выручки\" data-toc-modified-id=\"Построение-графика-кумулятивной-выручки-3.1\"><span class=\"toc-item-num\">3.1&nbsp;&nbsp;</span>Построение графика кумулятивной выручки</a></span></li><li><span><a href=\"#Построение-графика-кумулятивного-среднего-чека\" data-toc-modified-id=\"Построение-графика-кумулятивного-среднего-чека-3.2\"><span class=\"toc-item-num\">3.2&nbsp;&nbsp;</span>Построение графика кумулятивного среднего чека</a></span></li><li><span><a href=\"#Построение-графика-относительного-изменения-кумулятивного-среднего-чека-группы-B-к-группе-A\" data-toc-modified-id=\"Построение-графика-относительного-изменения-кумулятивного-среднего-чека-группы-B-к-группе-A-3.3\"><span class=\"toc-item-num\">3.3&nbsp;&nbsp;</span>Построение графика относительного изменения кумулятивного среднего чека группы B к группе A</a></span></li><li><span><a href=\"#Построение-графика-кумулятивного-среднего-количества-заказов-на-посетителя\" data-toc-modified-id=\"Построение-графика-кумулятивного-среднего-количества-заказов-на-посетителя-3.4\"><span class=\"toc-item-num\">3.4&nbsp;&nbsp;</span>Построение графика кумулятивного среднего количества заказов на посетителя</a></span></li><li><span><a href=\"#Построение-графика-относительного-изменения-кумулятивного-среднего-количества-заказов-на-посетителя-группы-B-к-группе-A\" data-toc-modified-id=\"Построение-графика-относительного-изменения-кумулятивного-среднего-количества-заказов-на-посетителя-группы-B-к-группе-A-3.5\"><span class=\"toc-item-num\">3.5&nbsp;&nbsp;</span>Построение графика относительного изменения кумулятивного среднего количества заказов на посетителя группы B к группе A</a></span></li><li><span><a href=\"#Построение-точеченого-графика-количества-заказов-по-пользователям\" data-toc-modified-id=\"Построение-точеченого-графика-количества-заказов-по-пользователям-3.6\"><span class=\"toc-item-num\">3.6&nbsp;&nbsp;</span>Построение точеченого графика количества заказов по пользователям</a></span></li><li><span><a href=\"#Подсчет-95-го-и-99-го-перцентилей-количества-заказов-на-пользователя.-Выбор-границы-для-определения-аномальных-пользователей\" data-toc-modified-id=\"Подсчет-95-го-и-99-го-перцентилей-количества-заказов-на-пользователя.-Выбор-границы-для-определения-аномальных-пользователей-3.7\"><span class=\"toc-item-num\">3.7&nbsp;&nbsp;</span>Подсчет 95-го и 99-го перцентилей количества заказов на пользователя. Выбор границы для определения аномальных пользователей</a></span></li><li><span><a href=\"#Построение-точеченого-графика-стоимостей-заказов\" data-toc-modified-id=\"Построение-точеченого-графика-стоимостей-заказов-3.8\"><span class=\"toc-item-num\">3.8&nbsp;&nbsp;</span>Построение точеченого графика стоимостей заказов</a></span></li><li><span><a href=\"#Подсчет-95-го-и-99-го-перцентилей-стоимостей-заказов.-Выбор-границы-для-определения-аномальных-заказов\" data-toc-modified-id=\"Подсчет-95-го-и-99-го-перцентилей-стоимостей-заказов.-Выбор-границы-для-определения-аномальных-заказов-3.9\"><span class=\"toc-item-num\">3.9&nbsp;&nbsp;</span>Подсчет 95-го и 99-го перцентилей стоимостей заказов. Выбор границы для определения аномальных заказов</a></span></li><li><span><a href=\"#Подсчет-статистической-значимости-различий-в-среднем-количестве-заказов-на-посетителя-между-группами-по-«сырым»-данным\" data-toc-modified-id=\"Подсчет-статистической-значимости-различий-в-среднем-количестве-заказов-на-посетителя-между-группами-по-«сырым»-данным-3.10\"><span class=\"toc-item-num\">3.10&nbsp;&nbsp;</span>Подсчет статистической значимости различий в среднем количестве заказов на посетителя между группами по «сырым» данным</a></span></li><li><span><a href=\"#Подсчет-статистической-значимости-различий-в-среднем-чеке-заказа-между-группами-по-«сырым»-данным\" data-toc-modified-id=\"Подсчет-статистической-значимости-различий-в-среднем-чеке-заказа-между-группами-по-«сырым»-данным-3.11\"><span class=\"toc-item-num\">3.11&nbsp;&nbsp;</span>Подсчет статистической значимости различий в среднем чеке заказа между группами по «сырым» данным</a></span></li><li><span><a href=\"#Подсчет-статистической-значимости-различий-в-среднем-количестве-заказов-на-посетителя-между-группами-по-«очищенным»-данным\" data-toc-modified-id=\"Подсчет-статистической-значимости-различий-в-среднем-количестве-заказов-на-посетителя-между-группами-по-«очищенным»-данным-3.12\"><span class=\"toc-item-num\">3.12&nbsp;&nbsp;</span>Подсчет статистической значимости различий в среднем количестве заказов на посетителя между группами по «очищенным» данным</a></span></li><li><span><a href=\"#Подсчет-статистической-значимости-различий-в-среднем-чеке-заказа-между-группами-по-«очищенным»-данным\" data-toc-modified-id=\"Подсчет-статистической-значимости-различий-в-среднем-чеке-заказа-между-группами-по-«очищенным»-данным-3.13\"><span class=\"toc-item-num\">3.13&nbsp;&nbsp;</span>Подсчет статистической значимости различий в среднем чеке заказа между группами по «очищенным» данным</a></span></li><li><span><a href=\"#Принятие-решения\" data-toc-modified-id=\"Принятие-решения-3.14\"><span class=\"toc-item-num\">3.14&nbsp;&nbsp;</span>Принятие решения</a></span></li></ul></li></ul></div>"
   ]
  },
  {
   "cell_type": "markdown",
   "metadata": {},
   "source": [
    "## Загрузка данных и их подготовка к анализу"
   ]
  },
  {
   "cell_type": "code",
   "execution_count": 1,
   "metadata": {},
   "outputs": [],
   "source": [
    "import pandas as pd\n",
    "import datetime as dt\n",
    "import numpy as np\n",
    "import matplotlib.pyplot as plt\n",
    "import scipy.stats as stats"
   ]
  },
  {
   "cell_type": "code",
   "execution_count": 2,
   "metadata": {},
   "outputs": [
    {
     "data": {
      "text/html": [
       "<div>\n",
       "<style scoped>\n",
       "    .dataframe tbody tr th:only-of-type {\n",
       "        vertical-align: middle;\n",
       "    }\n",
       "\n",
       "    .dataframe tbody tr th {\n",
       "        vertical-align: top;\n",
       "    }\n",
       "\n",
       "    .dataframe thead th {\n",
       "        text-align: right;\n",
       "    }\n",
       "</style>\n",
       "<table border=\"1\" class=\"dataframe\">\n",
       "  <thead>\n",
       "    <tr style=\"text-align: right;\">\n",
       "      <th></th>\n",
       "      <th>Hypothesis</th>\n",
       "      <th>Reach</th>\n",
       "      <th>Impact</th>\n",
       "      <th>Confidence</th>\n",
       "      <th>Efforts</th>\n",
       "    </tr>\n",
       "  </thead>\n",
       "  <tbody>\n",
       "    <tr>\n",
       "      <th>0</th>\n",
       "      <td>Добавить два новых канала привлечения трафика,...</td>\n",
       "      <td>3</td>\n",
       "      <td>10</td>\n",
       "      <td>8</td>\n",
       "      <td>6</td>\n",
       "    </tr>\n",
       "    <tr>\n",
       "      <th>1</th>\n",
       "      <td>Запустить собственную службу доставки, что сок...</td>\n",
       "      <td>2</td>\n",
       "      <td>5</td>\n",
       "      <td>4</td>\n",
       "      <td>10</td>\n",
       "    </tr>\n",
       "    <tr>\n",
       "      <th>2</th>\n",
       "      <td>Добавить блоки рекомендаций товаров на сайт ин...</td>\n",
       "      <td>8</td>\n",
       "      <td>3</td>\n",
       "      <td>7</td>\n",
       "      <td>3</td>\n",
       "    </tr>\n",
       "    <tr>\n",
       "      <th>3</th>\n",
       "      <td>Изменить структура категорий, что увеличит кон...</td>\n",
       "      <td>8</td>\n",
       "      <td>3</td>\n",
       "      <td>3</td>\n",
       "      <td>8</td>\n",
       "    </tr>\n",
       "    <tr>\n",
       "      <th>4</th>\n",
       "      <td>Изменить цвет фона главной страницы, чтобы уве...</td>\n",
       "      <td>3</td>\n",
       "      <td>1</td>\n",
       "      <td>1</td>\n",
       "      <td>1</td>\n",
       "    </tr>\n",
       "    <tr>\n",
       "      <th>5</th>\n",
       "      <td>Добавить страницу отзывов клиентов о магазине,...</td>\n",
       "      <td>3</td>\n",
       "      <td>2</td>\n",
       "      <td>2</td>\n",
       "      <td>3</td>\n",
       "    </tr>\n",
       "    <tr>\n",
       "      <th>6</th>\n",
       "      <td>Показать на главной странице баннеры с актуаль...</td>\n",
       "      <td>5</td>\n",
       "      <td>3</td>\n",
       "      <td>8</td>\n",
       "      <td>3</td>\n",
       "    </tr>\n",
       "    <tr>\n",
       "      <th>7</th>\n",
       "      <td>Добавить форму подписки на все основные страни...</td>\n",
       "      <td>10</td>\n",
       "      <td>7</td>\n",
       "      <td>8</td>\n",
       "      <td>5</td>\n",
       "    </tr>\n",
       "    <tr>\n",
       "      <th>8</th>\n",
       "      <td>Запустить акцию, дающую скидку на товар в день...</td>\n",
       "      <td>1</td>\n",
       "      <td>9</td>\n",
       "      <td>9</td>\n",
       "      <td>5</td>\n",
       "    </tr>\n",
       "  </tbody>\n",
       "</table>\n",
       "</div>"
      ],
      "text/plain": [
       "                                          Hypothesis  Reach  Impact  \\\n",
       "0  Добавить два новых канала привлечения трафика,...      3      10   \n",
       "1  Запустить собственную службу доставки, что сок...      2       5   \n",
       "2  Добавить блоки рекомендаций товаров на сайт ин...      8       3   \n",
       "3  Изменить структура категорий, что увеличит кон...      8       3   \n",
       "4  Изменить цвет фона главной страницы, чтобы уве...      3       1   \n",
       "5  Добавить страницу отзывов клиентов о магазине,...      3       2   \n",
       "6  Показать на главной странице баннеры с актуаль...      5       3   \n",
       "7  Добавить форму подписки на все основные страни...     10       7   \n",
       "8  Запустить акцию, дающую скидку на товар в день...      1       9   \n",
       "\n",
       "   Confidence  Efforts  \n",
       "0           8        6  \n",
       "1           4       10  \n",
       "2           7        3  \n",
       "3           3        8  \n",
       "4           1        1  \n",
       "5           2        3  \n",
       "6           8        3  \n",
       "7           8        5  \n",
       "8           9        5  "
      ]
     },
     "metadata": {},
     "output_type": "display_data"
    },
    {
     "name": "stdout",
     "output_type": "stream",
     "text": [
      "<class 'pandas.core.frame.DataFrame'>\n",
      "RangeIndex: 9 entries, 0 to 8\n",
      "Data columns (total 5 columns):\n",
      " #   Column      Non-Null Count  Dtype \n",
      "---  ------      --------------  ----- \n",
      " 0   Hypothesis  9 non-null      object\n",
      " 1   Reach       9 non-null      int64 \n",
      " 2   Impact      9 non-null      int64 \n",
      " 3   Confidence  9 non-null      int64 \n",
      " 4   Efforts     9 non-null      int64 \n",
      "dtypes: int64(4), object(1)\n",
      "memory usage: 488.0+ bytes\n"
     ]
    },
    {
     "data": {
      "text/plain": [
       "None"
      ]
     },
     "metadata": {},
     "output_type": "display_data"
    },
    {
     "data": {
      "text/html": [
       "<div>\n",
       "<style scoped>\n",
       "    .dataframe tbody tr th:only-of-type {\n",
       "        vertical-align: middle;\n",
       "    }\n",
       "\n",
       "    .dataframe tbody tr th {\n",
       "        vertical-align: top;\n",
       "    }\n",
       "\n",
       "    .dataframe thead th {\n",
       "        text-align: right;\n",
       "    }\n",
       "</style>\n",
       "<table border=\"1\" class=\"dataframe\">\n",
       "  <thead>\n",
       "    <tr style=\"text-align: right;\">\n",
       "      <th></th>\n",
       "      <th>transactionId</th>\n",
       "      <th>visitorId</th>\n",
       "      <th>date</th>\n",
       "      <th>revenue</th>\n",
       "      <th>group</th>\n",
       "    </tr>\n",
       "  </thead>\n",
       "  <tbody>\n",
       "    <tr>\n",
       "      <th>0</th>\n",
       "      <td>3667963787</td>\n",
       "      <td>3312258926</td>\n",
       "      <td>2019-08-15</td>\n",
       "      <td>1650</td>\n",
       "      <td>B</td>\n",
       "    </tr>\n",
       "    <tr>\n",
       "      <th>1</th>\n",
       "      <td>2804400009</td>\n",
       "      <td>3642806036</td>\n",
       "      <td>2019-08-15</td>\n",
       "      <td>730</td>\n",
       "      <td>B</td>\n",
       "    </tr>\n",
       "    <tr>\n",
       "      <th>2</th>\n",
       "      <td>2961555356</td>\n",
       "      <td>4069496402</td>\n",
       "      <td>2019-08-15</td>\n",
       "      <td>400</td>\n",
       "      <td>A</td>\n",
       "    </tr>\n",
       "    <tr>\n",
       "      <th>3</th>\n",
       "      <td>3797467345</td>\n",
       "      <td>1196621759</td>\n",
       "      <td>2019-08-15</td>\n",
       "      <td>9759</td>\n",
       "      <td>B</td>\n",
       "    </tr>\n",
       "    <tr>\n",
       "      <th>4</th>\n",
       "      <td>2282983706</td>\n",
       "      <td>2322279887</td>\n",
       "      <td>2019-08-15</td>\n",
       "      <td>2308</td>\n",
       "      <td>B</td>\n",
       "    </tr>\n",
       "  </tbody>\n",
       "</table>\n",
       "</div>"
      ],
      "text/plain": [
       "   transactionId   visitorId        date  revenue group\n",
       "0     3667963787  3312258926  2019-08-15     1650     B\n",
       "1     2804400009  3642806036  2019-08-15      730     B\n",
       "2     2961555356  4069496402  2019-08-15      400     A\n",
       "3     3797467345  1196621759  2019-08-15     9759     B\n",
       "4     2282983706  2322279887  2019-08-15     2308     B"
      ]
     },
     "metadata": {},
     "output_type": "display_data"
    },
    {
     "name": "stdout",
     "output_type": "stream",
     "text": [
      "<class 'pandas.core.frame.DataFrame'>\n",
      "RangeIndex: 1197 entries, 0 to 1196\n",
      "Data columns (total 5 columns):\n",
      " #   Column         Non-Null Count  Dtype \n",
      "---  ------         --------------  ----- \n",
      " 0   transactionId  1197 non-null   int64 \n",
      " 1   visitorId      1197 non-null   int64 \n",
      " 2   date           1197 non-null   object\n",
      " 3   revenue        1197 non-null   int64 \n",
      " 4   group          1197 non-null   object\n",
      "dtypes: int64(3), object(2)\n",
      "memory usage: 46.9+ KB\n"
     ]
    },
    {
     "data": {
      "text/plain": [
       "None"
      ]
     },
     "metadata": {},
     "output_type": "display_data"
    },
    {
     "data": {
      "text/html": [
       "<div>\n",
       "<style scoped>\n",
       "    .dataframe tbody tr th:only-of-type {\n",
       "        vertical-align: middle;\n",
       "    }\n",
       "\n",
       "    .dataframe tbody tr th {\n",
       "        vertical-align: top;\n",
       "    }\n",
       "\n",
       "    .dataframe thead th {\n",
       "        text-align: right;\n",
       "    }\n",
       "</style>\n",
       "<table border=\"1\" class=\"dataframe\">\n",
       "  <thead>\n",
       "    <tr style=\"text-align: right;\">\n",
       "      <th></th>\n",
       "      <th>date</th>\n",
       "      <th>group</th>\n",
       "      <th>visitors</th>\n",
       "    </tr>\n",
       "  </thead>\n",
       "  <tbody>\n",
       "    <tr>\n",
       "      <th>0</th>\n",
       "      <td>2019-08-01</td>\n",
       "      <td>A</td>\n",
       "      <td>719</td>\n",
       "    </tr>\n",
       "    <tr>\n",
       "      <th>1</th>\n",
       "      <td>2019-08-02</td>\n",
       "      <td>A</td>\n",
       "      <td>619</td>\n",
       "    </tr>\n",
       "    <tr>\n",
       "      <th>2</th>\n",
       "      <td>2019-08-03</td>\n",
       "      <td>A</td>\n",
       "      <td>507</td>\n",
       "    </tr>\n",
       "    <tr>\n",
       "      <th>3</th>\n",
       "      <td>2019-08-04</td>\n",
       "      <td>A</td>\n",
       "      <td>717</td>\n",
       "    </tr>\n",
       "    <tr>\n",
       "      <th>4</th>\n",
       "      <td>2019-08-05</td>\n",
       "      <td>A</td>\n",
       "      <td>756</td>\n",
       "    </tr>\n",
       "  </tbody>\n",
       "</table>\n",
       "</div>"
      ],
      "text/plain": [
       "         date group  visitors\n",
       "0  2019-08-01     A       719\n",
       "1  2019-08-02     A       619\n",
       "2  2019-08-03     A       507\n",
       "3  2019-08-04     A       717\n",
       "4  2019-08-05     A       756"
      ]
     },
     "metadata": {},
     "output_type": "display_data"
    },
    {
     "name": "stdout",
     "output_type": "stream",
     "text": [
      "<class 'pandas.core.frame.DataFrame'>\n",
      "RangeIndex: 62 entries, 0 to 61\n",
      "Data columns (total 3 columns):\n",
      " #   Column    Non-Null Count  Dtype \n",
      "---  ------    --------------  ----- \n",
      " 0   date      62 non-null     object\n",
      " 1   group     62 non-null     object\n",
      " 2   visitors  62 non-null     int64 \n",
      "dtypes: int64(1), object(2)\n",
      "memory usage: 1.6+ KB\n"
     ]
    }
   ],
   "source": [
    "hypothesis = pd.read_csv('/datasets/hypothesis.csv')\n",
    "orders = pd.read_csv('/datasets/orders.csv')\n",
    "visitors = pd.read_csv('/datasets/visitors.csv')\n",
    "\n",
    "display(hypothesis)\n",
    "display(hypothesis.info())\n",
    "\n",
    "display(orders.head())\n",
    "display(orders.info())\n",
    "\n",
    "display(visitors.head())\n",
    "visitors.info()"
   ]
  },
  {
   "cell_type": "markdown",
   "metadata": {},
   "source": [
    "Приведем названия столбцов к \"змеиному\" регистру:"
   ]
  },
  {
   "cell_type": "code",
   "execution_count": 3,
   "metadata": {},
   "outputs": [
    {
     "data": {
      "text/plain": [
       "Index(['hypothesis', 'reach', 'impact', 'confidence', 'efforts'], dtype='object')"
      ]
     },
     "metadata": {},
     "output_type": "display_data"
    },
    {
     "data": {
      "text/plain": [
       "Index(['transaction_id', 'visitor_id', 'date', 'revenue', 'group'], dtype='object')"
      ]
     },
     "execution_count": 3,
     "metadata": {},
     "output_type": "execute_result"
    }
   ],
   "source": [
    "hypothesis.columns = ['hypothesis', 'reach', 'impact', 'confidence', 'efforts']\n",
    "orders.columns = ['transaction_id', 'visitor_id', 'date', 'revenue', 'group']\n",
    "\n",
    "display(hypothesis.columns)\n",
    "orders.columns"
   ]
  },
  {
   "cell_type": "markdown",
   "metadata": {},
   "source": [
    "Проверяем наличие пропусков в данных:"
   ]
  },
  {
   "cell_type": "code",
   "execution_count": 4,
   "metadata": {
    "scrolled": true
   },
   "outputs": [
    {
     "data": {
      "text/plain": [
       "hypothesis    0\n",
       "reach         0\n",
       "impact        0\n",
       "confidence    0\n",
       "efforts       0\n",
       "dtype: int64"
      ]
     },
     "execution_count": 4,
     "metadata": {},
     "output_type": "execute_result"
    }
   ],
   "source": [
    "hypothesis.isna().sum()"
   ]
  },
  {
   "cell_type": "code",
   "execution_count": 5,
   "metadata": {
    "scrolled": true
   },
   "outputs": [
    {
     "data": {
      "text/plain": [
       "transaction_id    0\n",
       "visitor_id        0\n",
       "date              0\n",
       "revenue           0\n",
       "group             0\n",
       "dtype: int64"
      ]
     },
     "execution_count": 5,
     "metadata": {},
     "output_type": "execute_result"
    }
   ],
   "source": [
    "orders.isna().sum()"
   ]
  },
  {
   "cell_type": "code",
   "execution_count": 6,
   "metadata": {
    "scrolled": true
   },
   "outputs": [
    {
     "data": {
      "text/plain": [
       "date        0\n",
       "group       0\n",
       "visitors    0\n",
       "dtype: int64"
      ]
     },
     "execution_count": 6,
     "metadata": {},
     "output_type": "execute_result"
    }
   ],
   "source": [
    "visitors.isna().sum()"
   ]
  },
  {
   "cell_type": "markdown",
   "metadata": {},
   "source": [
    "Проверим наличие только двух исследовательских групп в данных:"
   ]
  },
  {
   "cell_type": "code",
   "execution_count": 7,
   "metadata": {},
   "outputs": [
    {
     "data": {
      "text/plain": [
       "array(['B', 'A'], dtype=object)"
      ]
     },
     "metadata": {},
     "output_type": "display_data"
    },
    {
     "data": {
      "text/plain": [
       "array(['A', 'B'], dtype=object)"
      ]
     },
     "execution_count": 7,
     "metadata": {},
     "output_type": "execute_result"
    }
   ],
   "source": [
    "display(orders['group'].unique())\n",
    "visitors['group'].unique()"
   ]
  },
  {
   "cell_type": "markdown",
   "metadata": {},
   "source": [
    "Проверим наличие явных дубликатов:"
   ]
  },
  {
   "cell_type": "code",
   "execution_count": 8,
   "metadata": {},
   "outputs": [
    {
     "data": {
      "text/plain": [
       "0"
      ]
     },
     "metadata": {},
     "output_type": "display_data"
    },
    {
     "data": {
      "text/plain": [
       "0"
      ]
     },
     "execution_count": 8,
     "metadata": {},
     "output_type": "execute_result"
    }
   ],
   "source": [
    "display(orders.duplicated().sum())\n",
    "visitors.duplicated().sum()"
   ]
  },
  {
   "cell_type": "markdown",
   "metadata": {},
   "source": [
    "Переведем данные столбцов к нужному типу:"
   ]
  },
  {
   "cell_type": "code",
   "execution_count": 9,
   "metadata": {},
   "outputs": [
    {
     "data": {
      "text/plain": [
       "Timestamp('2019-08-01 00:00:00')"
      ]
     },
     "metadata": {},
     "output_type": "display_data"
    },
    {
     "data": {
      "text/plain": [
       "Timestamp('2019-08-31 00:00:00')"
      ]
     },
     "metadata": {},
     "output_type": "display_data"
    },
    {
     "data": {
      "text/plain": [
       "Timestamp('2019-08-01 00:00:00')"
      ]
     },
     "metadata": {},
     "output_type": "display_data"
    },
    {
     "data": {
      "text/plain": [
       "Timestamp('2019-08-31 00:00:00')"
      ]
     },
     "execution_count": 9,
     "metadata": {},
     "output_type": "execute_result"
    }
   ],
   "source": [
    "orders['date'] = pd.to_datetime(orders['date'])\n",
    "visitors['date'] = pd.to_datetime(visitors['date'])\n",
    "#orders.info()\n",
    "#visitors.info()\n",
    "display(orders['date'].min())\n",
    "display(orders['date'].max())\n",
    "display(visitors['date'].min())\n",
    "visitors['date'].max()"
   ]
  },
  {
   "cell_type": "markdown",
   "metadata": {},
   "source": [
    "**Вывод: в результате проведенной предобработки данные были проверены на наличие пропусков, явных дубликатов, уникальность значений в столбцах. Названия столбцов были приведены к \"змеиному\" регистру. Данные столбцов со временем были приведены к нужному формату. Данные с заказами и посетителями представлены за август 2019 года.**"
   ]
  },
  {
   "cell_type": "markdown",
   "metadata": {},
   "source": [
    "## Приоритизация гипотез"
   ]
  },
  {
   "cell_type": "markdown",
   "metadata": {},
   "source": [
    "Применение фреймворка `ICE`. Сортировка по убыванию приоритета."
   ]
  },
  {
   "cell_type": "code",
   "execution_count": 10,
   "metadata": {
    "scrolled": true
   },
   "outputs": [
    {
     "data": {
      "text/html": [
       "<div>\n",
       "<style scoped>\n",
       "    .dataframe tbody tr th:only-of-type {\n",
       "        vertical-align: middle;\n",
       "    }\n",
       "\n",
       "    .dataframe tbody tr th {\n",
       "        vertical-align: top;\n",
       "    }\n",
       "\n",
       "    .dataframe thead th {\n",
       "        text-align: right;\n",
       "    }\n",
       "</style>\n",
       "<table border=\"1\" class=\"dataframe\">\n",
       "  <thead>\n",
       "    <tr style=\"text-align: right;\">\n",
       "      <th></th>\n",
       "      <th>hypothesis</th>\n",
       "      <th>ice</th>\n",
       "    </tr>\n",
       "  </thead>\n",
       "  <tbody>\n",
       "    <tr>\n",
       "      <th>8</th>\n",
       "      <td>Запустить акцию, дающую скидку на товар в день...</td>\n",
       "      <td>16.200000</td>\n",
       "    </tr>\n",
       "    <tr>\n",
       "      <th>0</th>\n",
       "      <td>Добавить два новых канала привлечения трафика,...</td>\n",
       "      <td>13.333333</td>\n",
       "    </tr>\n",
       "    <tr>\n",
       "      <th>7</th>\n",
       "      <td>Добавить форму подписки на все основные страни...</td>\n",
       "      <td>11.200000</td>\n",
       "    </tr>\n",
       "    <tr>\n",
       "      <th>6</th>\n",
       "      <td>Показать на главной странице баннеры с актуаль...</td>\n",
       "      <td>8.000000</td>\n",
       "    </tr>\n",
       "    <tr>\n",
       "      <th>2</th>\n",
       "      <td>Добавить блоки рекомендаций товаров на сайт ин...</td>\n",
       "      <td>7.000000</td>\n",
       "    </tr>\n",
       "    <tr>\n",
       "      <th>1</th>\n",
       "      <td>Запустить собственную службу доставки, что сок...</td>\n",
       "      <td>2.000000</td>\n",
       "    </tr>\n",
       "    <tr>\n",
       "      <th>5</th>\n",
       "      <td>Добавить страницу отзывов клиентов о магазине,...</td>\n",
       "      <td>1.333333</td>\n",
       "    </tr>\n",
       "    <tr>\n",
       "      <th>3</th>\n",
       "      <td>Изменить структура категорий, что увеличит кон...</td>\n",
       "      <td>1.125000</td>\n",
       "    </tr>\n",
       "    <tr>\n",
       "      <th>4</th>\n",
       "      <td>Изменить цвет фона главной страницы, чтобы уве...</td>\n",
       "      <td>1.000000</td>\n",
       "    </tr>\n",
       "  </tbody>\n",
       "</table>\n",
       "</div>"
      ],
      "text/plain": [
       "                                          hypothesis        ice\n",
       "8  Запустить акцию, дающую скидку на товар в день...  16.200000\n",
       "0  Добавить два новых канала привлечения трафика,...  13.333333\n",
       "7  Добавить форму подписки на все основные страни...  11.200000\n",
       "6  Показать на главной странице баннеры с актуаль...   8.000000\n",
       "2  Добавить блоки рекомендаций товаров на сайт ин...   7.000000\n",
       "1  Запустить собственную службу доставки, что сок...   2.000000\n",
       "5  Добавить страницу отзывов клиентов о магазине,...   1.333333\n",
       "3  Изменить структура категорий, что увеличит кон...   1.125000\n",
       "4  Изменить цвет фона главной страницы, чтобы уве...   1.000000"
      ]
     },
     "execution_count": 10,
     "metadata": {},
     "output_type": "execute_result"
    }
   ],
   "source": [
    "hypothesis['ice'] = hypothesis['impact']*hypothesis['confidence']/hypothesis['efforts']\n",
    "hypothesis1 = hypothesis[['hypothesis', 'ice']]\n",
    "hypothesis1.sort_values(by='ice', ascending=False)"
   ]
  },
  {
   "cell_type": "markdown",
   "metadata": {},
   "source": [
    "Применение фреймворка `RICE`. Сортировка по убыванию приоритета."
   ]
  },
  {
   "cell_type": "code",
   "execution_count": 11,
   "metadata": {
    "scrolled": true
   },
   "outputs": [
    {
     "data": {
      "text/html": [
       "<div>\n",
       "<style scoped>\n",
       "    .dataframe tbody tr th:only-of-type {\n",
       "        vertical-align: middle;\n",
       "    }\n",
       "\n",
       "    .dataframe tbody tr th {\n",
       "        vertical-align: top;\n",
       "    }\n",
       "\n",
       "    .dataframe thead th {\n",
       "        text-align: right;\n",
       "    }\n",
       "</style>\n",
       "<table border=\"1\" class=\"dataframe\">\n",
       "  <thead>\n",
       "    <tr style=\"text-align: right;\">\n",
       "      <th></th>\n",
       "      <th>hypothesis</th>\n",
       "      <th>rice</th>\n",
       "    </tr>\n",
       "  </thead>\n",
       "  <tbody>\n",
       "    <tr>\n",
       "      <th>7</th>\n",
       "      <td>Добавить форму подписки на все основные страни...</td>\n",
       "      <td>112.0</td>\n",
       "    </tr>\n",
       "    <tr>\n",
       "      <th>2</th>\n",
       "      <td>Добавить блоки рекомендаций товаров на сайт ин...</td>\n",
       "      <td>56.0</td>\n",
       "    </tr>\n",
       "    <tr>\n",
       "      <th>0</th>\n",
       "      <td>Добавить два новых канала привлечения трафика,...</td>\n",
       "      <td>40.0</td>\n",
       "    </tr>\n",
       "    <tr>\n",
       "      <th>6</th>\n",
       "      <td>Показать на главной странице баннеры с актуаль...</td>\n",
       "      <td>40.0</td>\n",
       "    </tr>\n",
       "    <tr>\n",
       "      <th>8</th>\n",
       "      <td>Запустить акцию, дающую скидку на товар в день...</td>\n",
       "      <td>16.2</td>\n",
       "    </tr>\n",
       "    <tr>\n",
       "      <th>3</th>\n",
       "      <td>Изменить структура категорий, что увеличит кон...</td>\n",
       "      <td>9.0</td>\n",
       "    </tr>\n",
       "    <tr>\n",
       "      <th>1</th>\n",
       "      <td>Запустить собственную службу доставки, что сок...</td>\n",
       "      <td>4.0</td>\n",
       "    </tr>\n",
       "    <tr>\n",
       "      <th>5</th>\n",
       "      <td>Добавить страницу отзывов клиентов о магазине,...</td>\n",
       "      <td>4.0</td>\n",
       "    </tr>\n",
       "    <tr>\n",
       "      <th>4</th>\n",
       "      <td>Изменить цвет фона главной страницы, чтобы уве...</td>\n",
       "      <td>3.0</td>\n",
       "    </tr>\n",
       "  </tbody>\n",
       "</table>\n",
       "</div>"
      ],
      "text/plain": [
       "                                          hypothesis   rice\n",
       "7  Добавить форму подписки на все основные страни...  112.0\n",
       "2  Добавить блоки рекомендаций товаров на сайт ин...   56.0\n",
       "0  Добавить два новых канала привлечения трафика,...   40.0\n",
       "6  Показать на главной странице баннеры с актуаль...   40.0\n",
       "8  Запустить акцию, дающую скидку на товар в день...   16.2\n",
       "3  Изменить структура категорий, что увеличит кон...    9.0\n",
       "1  Запустить собственную службу доставки, что сок...    4.0\n",
       "5  Добавить страницу отзывов клиентов о магазине,...    4.0\n",
       "4  Изменить цвет фона главной страницы, чтобы уве...    3.0"
      ]
     },
     "execution_count": 11,
     "metadata": {},
     "output_type": "execute_result"
    }
   ],
   "source": [
    "hypothesis['rice'] = hypothesis['reach']*hypothesis['impact']*hypothesis['confidence']/hypothesis['efforts']\n",
    "hypothesis2 = hypothesis[['hypothesis', 'rice']]\n",
    "hypothesis2.sort_values(by='rice', ascending=False)"
   ]
  },
  {
   "cell_type": "markdown",
   "metadata": {},
   "source": [
    "**Вывод: по фреймворку `ICE` 8, 0 и 7 гипотезы являются наиболее приоритетными, по фреймворку `RICE` - 7, 2, 0. Перераспределение произошло из-за того, что в формулу `RICE` добавился параметр охвата (сколько пользователей затронет изменение). Для 7, 3 и 2 гипотез он является максимальным - от 8 до 10. Для остальных гипотез не более 5. 3 гипотеза поднялась в списке не столь значительно, потому что на ее реализацию необходимы внушительные затраты. Приоритет для гипотезы 7 в 2 раза больше, чем для следующей за ней гипотезы 2, поэтому, в первую очередь необходимо проверить гипотезу 7.**"
   ]
  },
  {
   "cell_type": "markdown",
   "metadata": {},
   "source": [
    "## Анализ A/B-теста"
   ]
  },
  {
   "cell_type": "markdown",
   "metadata": {},
   "source": [
    "### Построение графика кумулятивной выручки"
   ]
  },
  {
   "cell_type": "code",
   "execution_count": 12,
   "metadata": {
    "scrolled": false
   },
   "outputs": [
    {
     "data": {
      "image/png": "[encoded data removed]",
      "text/plain": [
       "<Figure size 1800x720 with 1 Axes>"
      ]
     },
     "metadata": {
      "needs_background": "light"
     },
     "output_type": "display_data"
    }
   ],
   "source": [
    "datesgroups = orders[['date','group']].drop_duplicates() # создаем массив уникальных пар значений дат и групп теста\n",
    "\n",
    "ordersaggregated = datesgroups.apply(\n",
    "    lambda x: orders[np.logical_and(orders['date'] <= x['date'], orders['group'] == x['group'])].agg(\n",
    "    {'date' : 'max', 'group' : 'max', 'transaction_id' : 'nunique', 'visitor_id' : 'nunique', 'revenue' : 'sum'}\n",
    "      ), axis=1).sort_values(by=['date','group']) # получаем агрегированные кумулятивные по дням данные о заказах \n",
    "\n",
    "visitorsaggregated = datesgroups.apply(\n",
    "    lambda x: visitors[np.logical_and(visitors['date'] <= x['date'], visitors['group'] == x['group'])].agg(\n",
    "    {'date' : 'max', 'group' : 'max', 'visitors' : 'sum'}\n",
    "      ), axis=1).sort_values(by=['date','group']) # получаем агрегированные кумулятивные по дням данные о посетителях интернет-магазина\n",
    "\n",
    "cumulativedata = ordersaggregated.merge(visitorsaggregated, on=['date', 'group']) # объединяем кумулятивные данные в одной таблице\n",
    "cumulativedata.columns = ['date', 'group', 'orders', 'buyers', 'revenue', 'visitors']\n",
    "\n",
    "cumulativerevenuea = cumulativedata[cumulativedata['group']=='A'][['date','revenue', 'orders']] #кумулятивные данные для группы А\n",
    "cumulativerevenueb = cumulativedata[cumulativedata['group']=='B'][['date','revenue', 'orders']] #кумулятивные данные для группы B\n",
    "\n",
    "plt.figure(figsize=(25, 10))\n",
    "plt.plot(cumulativerevenuea['date'], cumulativerevenuea['revenue'], label='A')\n",
    "plt.plot(cumulativerevenueb['date'], cumulativerevenueb['revenue'], label='B')\n",
    "plt.title('Графики кумулятивной выручки')\n",
    "plt.xlabel(\"Дата\")\n",
    "plt.ylabel(\"Кумулятивная выручка\")\n",
    "plt.legend()\n",
    "plt.show()\n",
    "\n"
   ]
  },
  {
   "cell_type": "markdown",
   "metadata": {},
   "source": [
    "**Вывод: графики выручки постепенно возрастают для обеих групп. Для группы `В` отмечается резкий скачок выручки с 18 по 19 августа, вероятно, в этот день значительно увеличилось количество заказов или несколько заказов были очень крупными.**"
   ]
  },
  {
   "cell_type": "markdown",
   "metadata": {},
   "source": [
    "### Построение графика кумулятивного среднего чека"
   ]
  },
  {
   "cell_type": "code",
   "execution_count": 13,
   "metadata": {
    "scrolled": false
   },
   "outputs": [
    {
     "data": {
      "image/png": "[encoded data removed]",
      "text/plain": [
       "<Figure size 1800x720 with 1 Axes>"
      ]
     },
     "metadata": {
      "needs_background": "light"
     },
     "output_type": "display_data"
    }
   ],
   "source": [
    "plt.figure(figsize=(25, 10))\n",
    "plt.plot(cumulativerevenuea['date'], cumulativerevenuea['revenue']/cumulativerevenuea['orders'], label='A')\n",
    "plt.plot(cumulativerevenueb['date'], cumulativerevenueb['revenue']/cumulativerevenueb['orders'], label='B')\n",
    "plt.title('Графики кумулятивного среднего чека')\n",
    "plt.xlabel(\"Дата\")\n",
    "plt.ylabel(\"Кумулятивный средний чек\")\n",
    "plt.legend()\n",
    "plt.show()"
   ]
  },
  {
   "cell_type": "markdown",
   "metadata": {},
   "source": [
    "**Вывод: средний чек для группы `А`, в целом, стабилен после 13.08.2019. 19.08.2019 в группе `В`, вероятно, были дорогие заказы. Затем, до конца месяца, средний чек постепенно снижается.**"
   ]
  },
  {
   "cell_type": "markdown",
   "metadata": {},
   "source": [
    "### Построение графика относительного изменения кумулятивного среднего чека группы B к группе A"
   ]
  },
  {
   "cell_type": "code",
   "execution_count": 14,
   "metadata": {
    "scrolled": false
   },
   "outputs": [
    {
     "data": {
      "image/png": "[encoded data removed]",
      "text/plain": [
       "<Figure size 1800x720 with 1 Axes>"
      ]
     },
     "metadata": {
      "needs_background": "light"
     },
     "output_type": "display_data"
    }
   ],
   "source": [
    "mergedcumulativerevenue = cumulativerevenuea.merge(cumulativerevenueb, on='date')\n",
    "mergedcumulativerevenue['ave_check_x'] = mergedcumulativerevenue['revenue_x']/mergedcumulativerevenue['orders_x']\n",
    "mergedcumulativerevenue['ave_check_y'] = mergedcumulativerevenue['revenue_y']/mergedcumulativerevenue['orders_y']\n",
    "mergedcumulativerevenue = mergedcumulativerevenue[['date', 'ave_check_x', 'ave_check_y']]\n",
    "mergedcumulativerevenue.columns = ['date', 'ave_check_a', 'ave_check_b']\n",
    "mergedcumulativerevenue\n",
    "\n",
    "plt.figure(figsize=(25, 10))\n",
    "plt.plot(mergedcumulativerevenue['date'], mergedcumulativerevenue['ave_check_b']/mergedcumulativerevenue['ave_check_a']-1)\n",
    "plt.axhline(y=0, color='black', linestyle='--')\n",
    "plt.title('График относительного изменения кумулятивного среднего чека группы B к группе A')\n",
    "plt.xlabel(\"Дата\")\n",
    "plt.ylabel(\"Относительное изменение среднего чека\")\n",
    "plt.show()"
   ]
  },
  {
   "cell_type": "markdown",
   "metadata": {},
   "source": [
    "**Вывод: практически на протяжении всего мониторинга средний чек для группы `В` больше, чем для группы `А`. Опять же, 19.08.2019, отмечается резкий рост относительной разницы средних чеков.**"
   ]
  },
  {
   "cell_type": "markdown",
   "metadata": {},
   "source": [
    "### Построение графика кумулятивного среднего количества заказов на посетителя"
   ]
  },
  {
   "cell_type": "code",
   "execution_count": 15,
   "metadata": {
    "scrolled": false
   },
   "outputs": [
    {
     "data": {
      "image/png": "[encoded data removed]",
      "text/plain": [
       "<Figure size 1800x720 with 1 Axes>"
      ]
     },
     "metadata": {
      "needs_background": "light"
     },
     "output_type": "display_data"
    }
   ],
   "source": [
    "cumulativedata['conversion'] = cumulativedata['orders']/cumulativedata['visitors'] #подсчет кумулятивной конверсии\n",
    "cumulativeconversiona = cumulativedata[cumulativedata['group']=='A']\n",
    "cumulativeconversionb = cumulativedata[cumulativedata['group']=='B']\n",
    "#display(cumulativedata.head(20))\n",
    "\n",
    "plt.figure(figsize=(25, 10))\n",
    "plt.plot(cumulativeconversiona['date'], cumulativeconversiona['conversion'], label='A')\n",
    "plt.plot(cumulativeconversionb['date'], cumulativeconversionb['conversion'], label='B')\n",
    "plt.title('Графики кумулятивной конверсии')\n",
    "plt.xlabel(\"Дата\")\n",
    "plt.ylabel(\"Кумулятивная конверсия\")\n",
    "plt.legend()\n",
    "plt.show()"
   ]
  },
  {
   "cell_type": "markdown",
   "metadata": {},
   "source": [
    "**Вывод: Начиная с 06.08.2019 конверсия группы `B` стабильно выше, чем для группы `A`.**"
   ]
  },
  {
   "cell_type": "markdown",
   "metadata": {},
   "source": [
    "### Построение графика относительного изменения кумулятивного среднего количества заказов на посетителя группы B к группе A"
   ]
  },
  {
   "cell_type": "code",
   "execution_count": 16,
   "metadata": {
    "scrolled": false
   },
   "outputs": [
    {
     "data": {
      "image/png": "[encoded data removed]",
      "text/plain": [
       "<Figure size 1800x720 with 1 Axes>"
      ]
     },
     "metadata": {
      "needs_background": "light"
     },
     "output_type": "display_data"
    }
   ],
   "source": [
    "mergedcumulativeconversion = cumulativeconversiona.merge(cumulativeconversionb, on='date')\n",
    "mergedcumulativeconversion = mergedcumulativeconversion [['date', 'conversion_x', 'conversion_y']] \n",
    "mergedcumulativeconversion.columns = ['date', 'conversion_a', 'conversion_b']\n",
    "mergedcumulativeconversion\n",
    "\n",
    "plt.figure(figsize=(25, 10))\n",
    "plt.plot(mergedcumulativeconversion['date'], mergedcumulativeconversion['conversion_b']/mergedcumulativeconversion['conversion_a']-1)\n",
    "plt.axhline(y=0, color='black', linestyle='--')\n",
    "plt.title('График относительного изменения кумулятивной конверсии группы B к группе A')\n",
    "plt.xlabel(\"Дата\")\n",
    "plt.ylabel(\"Относительное изменение кумулятивной конверсии\")\n",
    "plt.show()"
   ]
  },
  {
   "cell_type": "markdown",
   "metadata": {},
   "source": [
    "**Вывод: до 06.08.2019 относительное изменения кумулятивной конверсии группы `B` к группе `A` было отрицательным (кроме 02.08.2023). Затем, вплоть до конца месяца, относительное изменение положительное, что говорит о стабильно лучшей конверсии группы `B`, оданко, наблюдается тенденция к снижению разницы.**"
   ]
  },
  {
   "cell_type": "markdown",
   "metadata": {},
   "source": [
    "### Построение точеченого графика количества заказов по пользователям"
   ]
  },
  {
   "cell_type": "code",
   "execution_count": 17,
   "metadata": {},
   "outputs": [
    {
     "data": {
      "text/html": [
       "<div>\n",
       "<style scoped>\n",
       "    .dataframe tbody tr th:only-of-type {\n",
       "        vertical-align: middle;\n",
       "    }\n",
       "\n",
       "    .dataframe tbody tr th {\n",
       "        vertical-align: top;\n",
       "    }\n",
       "\n",
       "    .dataframe thead th {\n",
       "        text-align: right;\n",
       "    }\n",
       "</style>\n",
       "<table border=\"1\" class=\"dataframe\">\n",
       "  <thead>\n",
       "    <tr style=\"text-align: right;\">\n",
       "      <th></th>\n",
       "      <th>visitor_id</th>\n",
       "      <th>transactions</th>\n",
       "    </tr>\n",
       "  </thead>\n",
       "  <tbody>\n",
       "    <tr>\n",
       "      <th>1023</th>\n",
       "      <td>4256040402</td>\n",
       "      <td>11</td>\n",
       "    </tr>\n",
       "    <tr>\n",
       "      <th>591</th>\n",
       "      <td>2458001652</td>\n",
       "      <td>11</td>\n",
       "    </tr>\n",
       "    <tr>\n",
       "      <th>569</th>\n",
       "      <td>2378935119</td>\n",
       "      <td>9</td>\n",
       "    </tr>\n",
       "    <tr>\n",
       "      <th>487</th>\n",
       "      <td>2038680547</td>\n",
       "      <td>8</td>\n",
       "    </tr>\n",
       "    <tr>\n",
       "      <th>44</th>\n",
       "      <td>199603092</td>\n",
       "      <td>5</td>\n",
       "    </tr>\n",
       "    <tr>\n",
       "      <th>...</th>\n",
       "      <td>...</td>\n",
       "      <td>...</td>\n",
       "    </tr>\n",
       "    <tr>\n",
       "      <th>359</th>\n",
       "      <td>1484903144</td>\n",
       "      <td>1</td>\n",
       "    </tr>\n",
       "    <tr>\n",
       "      <th>360</th>\n",
       "      <td>1485964287</td>\n",
       "      <td>1</td>\n",
       "    </tr>\n",
       "    <tr>\n",
       "      <th>361</th>\n",
       "      <td>1494664757</td>\n",
       "      <td>1</td>\n",
       "    </tr>\n",
       "    <tr>\n",
       "      <th>362</th>\n",
       "      <td>1495112755</td>\n",
       "      <td>1</td>\n",
       "    </tr>\n",
       "    <tr>\n",
       "      <th>1030</th>\n",
       "      <td>4283872382</td>\n",
       "      <td>1</td>\n",
       "    </tr>\n",
       "  </tbody>\n",
       "</table>\n",
       "<p>1031 rows × 2 columns</p>\n",
       "</div>"
      ],
      "text/plain": [
       "      visitor_id  transactions\n",
       "1023  4256040402            11\n",
       "591   2458001652            11\n",
       "569   2378935119             9\n",
       "487   2038680547             8\n",
       "44     199603092             5\n",
       "...          ...           ...\n",
       "359   1484903144             1\n",
       "360   1485964287             1\n",
       "361   1494664757             1\n",
       "362   1495112755             1\n",
       "1030  4283872382             1\n",
       "\n",
       "[1031 rows x 2 columns]"
      ]
     },
     "execution_count": 17,
     "metadata": {},
     "output_type": "execute_result"
    }
   ],
   "source": [
    "ordersbyvisitors = orders.groupby('visitor_id').agg({'transaction_id':'nunique'}).reset_index() #подсчет количества заказов для пользователей\n",
    "ordersbyvisitors.columns = ['visitor_id', 'transactions']\n",
    "ordersbyvisitors.sort_values(by='transactions', ascending=False) "
   ]
  },
  {
   "cell_type": "code",
   "execution_count": 18,
   "metadata": {
    "scrolled": false
   },
   "outputs": [
    {
     "data": {
      "image/png": "[encoded data removed]",
      "text/plain": [
       "<Figure size 1800x720 with 1 Axes>"
      ]
     },
     "metadata": {
      "needs_background": "light"
     },
     "output_type": "display_data"
    }
   ],
   "source": [
    "x_values = pd.Series(range(0,len(ordersbyvisitors)))\n",
    "\n",
    "plt.figure(figsize=(25, 10))\n",
    "plt.scatter(x_values, ordersbyvisitors['transactions']) \n",
    "plt.title('Количество заказов по пользователям')\n",
    "plt.xlabel(\"Пользователь №\")\n",
    "plt.ylabel(\"Количество заказов\")\n",
    "plt.show()"
   ]
  },
  {
   "cell_type": "markdown",
   "metadata": {},
   "source": [
    "**Вывод: большинство пользователей делали по 1-му заказу. Также пользователи делали по 2 заказа, но заметно реже.**"
   ]
  },
  {
   "cell_type": "markdown",
   "metadata": {},
   "source": [
    "### Подсчет 95-го и 99-го перцентилей количества заказов на пользователя. Выбор границы для определения аномальных пользователей"
   ]
  },
  {
   "cell_type": "code",
   "execution_count": 19,
   "metadata": {},
   "outputs": [
    {
     "data": {
      "text/plain": [
       "array([2., 4.])"
      ]
     },
     "execution_count": 19,
     "metadata": {},
     "output_type": "execute_result"
    }
   ],
   "source": [
    "np.percentile(ordersbyvisitors['transactions'], [95, 99])"
   ]
  },
  {
   "cell_type": "markdown",
   "metadata": {},
   "source": [
    "**Вывод: не более 5 % пользователей заказывали больше 2 раз, не более 1 % - более 4 раз. Выберем границу для аномалий - больше 2 заказов.**"
   ]
  },
  {
   "cell_type": "markdown",
   "metadata": {},
   "source": [
    "### Построение точеченого графика стоимостей заказов"
   ]
  },
  {
   "cell_type": "code",
   "execution_count": 20,
   "metadata": {
    "scrolled": false
   },
   "outputs": [
    {
     "data": {
      "image/png": "[encoded data removed]",
      "text/plain": [
       "<Figure size 1800x720 with 1 Axes>"
      ]
     },
     "metadata": {
      "needs_background": "light"
     },
     "output_type": "display_data"
    }
   ],
   "source": [
    "x_values = pd.Series(range(0,len(orders)))\n",
    "\n",
    "plt.figure(figsize=(25, 10))\n",
    "plt.scatter(x_values, orders['revenue']) \n",
    "plt.title('Стоимость заказов')\n",
    "plt.xlabel(\"Заказ №\")\n",
    "plt.ylabel(\"Стоимость заказа\")\n",
    "plt.axhline(y=30000, color='black', linestyle='--')\n",
    "plt.show()"
   ]
  },
  {
   "cell_type": "markdown",
   "metadata": {},
   "source": [
    "**Вывод: большинство заказов до 30 000 рублей. Есть один заказ больше 1 200 000 рублей.**"
   ]
  },
  {
   "cell_type": "markdown",
   "metadata": {},
   "source": [
    "### Подсчет 95-го и 99-го перцентилей стоимостей заказов. Выбор границы для определения аномальных заказов"
   ]
  },
  {
   "cell_type": "code",
   "execution_count": 21,
   "metadata": {},
   "outputs": [
    {
     "data": {
      "text/plain": [
       "array([28000. , 58233.2])"
      ]
     },
     "execution_count": 21,
     "metadata": {},
     "output_type": "execute_result"
    }
   ],
   "source": [
    "np.percentile(orders['revenue'], [95, 99])"
   ]
  },
  {
   "cell_type": "markdown",
   "metadata": {},
   "source": [
    "**Вывод: не более 5 % пользователей делают заказ больше 28 000 рублей, не более 1 % - более 58 233 рублей. Выберем границу для аномалий - больше 28 000 рублей.**"
   ]
  },
  {
   "cell_type": "markdown",
   "metadata": {},
   "source": [
    "### Подсчет статистической значимости различий в среднем количестве заказов на посетителя между группами по «сырым» данным"
   ]
  },
  {
   "cell_type": "markdown",
   "metadata": {},
   "source": [
    "**Нулевая гипотеза: различий в среднем количестве заказов между группами нет. Альтернативная: различия в среднем между группами есть.**"
   ]
  },
  {
   "cell_type": "markdown",
   "metadata": {},
   "source": [
    "Подготовка данных: сбор информации по выручке, заказам и посещениями для каждой группы для каждого дня и кумулятивно."
   ]
  },
  {
   "cell_type": "code",
   "execution_count": 22,
   "metadata": {
    "scrolled": false
   },
   "outputs": [
    {
     "data": {
      "text/html": [
       "<div>\n",
       "<style scoped>\n",
       "    .dataframe tbody tr th:only-of-type {\n",
       "        vertical-align: middle;\n",
       "    }\n",
       "\n",
       "    .dataframe tbody tr th {\n",
       "        vertical-align: top;\n",
       "    }\n",
       "\n",
       "    .dataframe thead th {\n",
       "        text-align: right;\n",
       "    }\n",
       "</style>\n",
       "<table border=\"1\" class=\"dataframe\">\n",
       "  <thead>\n",
       "    <tr style=\"text-align: right;\">\n",
       "      <th></th>\n",
       "      <th>date</th>\n",
       "      <th>ordersperdatea</th>\n",
       "      <th>revenueperdatea</th>\n",
       "      <th>ordersperdateb</th>\n",
       "      <th>revenueperdateb</th>\n",
       "      <th>orderscummulativea</th>\n",
       "      <th>revenuecummulativea</th>\n",
       "      <th>orderscummulativeb</th>\n",
       "      <th>revenuecummulativeb</th>\n",
       "      <th>visitorsperdatea</th>\n",
       "      <th>visitorsperdateb</th>\n",
       "      <th>visitorscummulativea</th>\n",
       "      <th>visitorscummulativeb</th>\n",
       "    </tr>\n",
       "  </thead>\n",
       "  <tbody>\n",
       "    <tr>\n",
       "      <th>0</th>\n",
       "      <td>2019-08-01</td>\n",
       "      <td>24</td>\n",
       "      <td>148579</td>\n",
       "      <td>21</td>\n",
       "      <td>101217</td>\n",
       "      <td>24</td>\n",
       "      <td>148579</td>\n",
       "      <td>21</td>\n",
       "      <td>101217</td>\n",
       "      <td>719</td>\n",
       "      <td>713</td>\n",
       "      <td>719</td>\n",
       "      <td>713</td>\n",
       "    </tr>\n",
       "    <tr>\n",
       "      <th>1</th>\n",
       "      <td>2019-08-02</td>\n",
       "      <td>20</td>\n",
       "      <td>93822</td>\n",
       "      <td>24</td>\n",
       "      <td>165531</td>\n",
       "      <td>44</td>\n",
       "      <td>242401</td>\n",
       "      <td>45</td>\n",
       "      <td>266748</td>\n",
       "      <td>619</td>\n",
       "      <td>581</td>\n",
       "      <td>1338</td>\n",
       "      <td>1294</td>\n",
       "    </tr>\n",
       "    <tr>\n",
       "      <th>2</th>\n",
       "      <td>2019-08-03</td>\n",
       "      <td>24</td>\n",
       "      <td>112473</td>\n",
       "      <td>16</td>\n",
       "      <td>114248</td>\n",
       "      <td>68</td>\n",
       "      <td>354874</td>\n",
       "      <td>61</td>\n",
       "      <td>380996</td>\n",
       "      <td>507</td>\n",
       "      <td>509</td>\n",
       "      <td>1845</td>\n",
       "      <td>1803</td>\n",
       "    </tr>\n",
       "    <tr>\n",
       "      <th>3</th>\n",
       "      <td>2019-08-04</td>\n",
       "      <td>16</td>\n",
       "      <td>70825</td>\n",
       "      <td>17</td>\n",
       "      <td>108571</td>\n",
       "      <td>84</td>\n",
       "      <td>425699</td>\n",
       "      <td>78</td>\n",
       "      <td>489567</td>\n",
       "      <td>717</td>\n",
       "      <td>770</td>\n",
       "      <td>2562</td>\n",
       "      <td>2573</td>\n",
       "    </tr>\n",
       "    <tr>\n",
       "      <th>4</th>\n",
       "      <td>2019-08-05</td>\n",
       "      <td>25</td>\n",
       "      <td>124218</td>\n",
       "      <td>23</td>\n",
       "      <td>92428</td>\n",
       "      <td>109</td>\n",
       "      <td>549917</td>\n",
       "      <td>101</td>\n",
       "      <td>581995</td>\n",
       "      <td>756</td>\n",
       "      <td>707</td>\n",
       "      <td>3318</td>\n",
       "      <td>3280</td>\n",
       "    </tr>\n",
       "  </tbody>\n",
       "</table>\n",
       "</div>"
      ],
      "text/plain": [
       "        date  ordersperdatea  revenueperdatea  ordersperdateb  \\\n",
       "0 2019-08-01              24           148579              21   \n",
       "1 2019-08-02              20            93822              24   \n",
       "2 2019-08-03              24           112473              16   \n",
       "3 2019-08-04              16            70825              17   \n",
       "4 2019-08-05              25           124218              23   \n",
       "\n",
       "   revenueperdateb  orderscummulativea  revenuecummulativea  \\\n",
       "0           101217                  24               148579   \n",
       "1           165531                  44               242401   \n",
       "2           114248                  68               354874   \n",
       "3           108571                  84               425699   \n",
       "4            92428                 109               549917   \n",
       "\n",
       "   orderscummulativeb  revenuecummulativeb  visitorsperdatea  \\\n",
       "0                  21               101217               719   \n",
       "1                  45               266748               619   \n",
       "2                  61               380996               507   \n",
       "3                  78               489567               717   \n",
       "4                 101               581995               756   \n",
       "\n",
       "   visitorsperdateb  visitorscummulativea  visitorscummulativeb  \n",
       "0               713                   719                   713  \n",
       "1               581                  1338                  1294  \n",
       "2               509                  1845                  1803  \n",
       "3               770                  2562                  2573  \n",
       "4               707                  3318                  3280  "
      ]
     },
     "execution_count": 22,
     "metadata": {},
     "output_type": "execute_result"
    }
   ],
   "source": [
    "visitorsadaily = visitors[visitors['group'] == 'A'][['date', 'visitors']]\n",
    "visitorsadaily.columns = ['date', 'visitorsperdatea']\n",
    "\n",
    "visitorsacummulative = visitorsadaily.apply(lambda x: visitorsadaily[visitorsadaily['date'] <= x['date']].agg(\n",
    "        {'date': 'max', 'visitorsperdatea': 'sum'}), axis=1)\n",
    "visitorsacummulative.columns = ['date', 'visitorscummulativea']\n",
    "\n",
    "visitorsbdaily = visitors[visitors['group'] == 'B'][['date', 'visitors']]\n",
    "visitorsbdaily.columns = ['date', 'visitorsperdateb']\n",
    "\n",
    "visitorsbcummulative = visitorsbdaily.apply(lambda x: visitorsbdaily[visitorsbdaily['date'] <= x['date']].agg(\n",
    "        {'date': 'max', 'visitorsperdateb': 'sum'}), axis=1)\n",
    "visitorsbcummulative.columns = ['date', 'visitorscummulativeb']\n",
    "\n",
    "ordersadaily = orders[orders['group'] == 'A'][['date', 'transaction_id', 'visitor_id', 'revenue']].groupby(\n",
    "    'date', as_index=False).agg({'transaction_id': pd.Series.nunique, 'revenue': 'sum'})\n",
    "ordersadaily.columns = ['date', 'ordersperdatea', 'revenueperdatea']\n",
    "\n",
    "ordersacummulative = ordersadaily.apply(lambda x: ordersadaily[ordersadaily['date'] <= x['date']].agg(\n",
    "        {'date': 'max', 'ordersperdatea': 'sum', 'revenueperdatea': 'sum'}), axis=1).sort_values(by=['date'])\n",
    "ordersacummulative.columns = ['date', 'orderscummulativea', 'revenuecummulativea']\n",
    "\n",
    "ordersbdaily = orders[orders['group'] == 'B'][['date', 'transaction_id', 'visitor_id', 'revenue']].groupby(\n",
    "    'date', as_index=False).agg({'transaction_id': pd.Series.nunique, 'revenue': 'sum'})\n",
    "ordersbdaily.columns = ['date', 'ordersperdateb', 'revenueperdateb']\n",
    "\n",
    "ordersbcummulative = ordersbdaily.apply(lambda x: ordersbdaily[ordersbdaily['date'] <= x['date']].agg(\n",
    "        {'date': 'max', 'ordersperdateb': 'sum', 'revenueperdateb': 'sum'}), axis=1).sort_values(by=['date'])\n",
    "ordersbcummulative.columns = ['date', 'orderscummulativeb', 'revenuecummulativeb']\n",
    "\n",
    "data = ordersadaily.merge(ordersbdaily, on='date').merge(ordersacummulative, on='date').merge(ordersbcummulative, on='date').merge(\n",
    "    visitorsadaily, on='date').merge(visitorsbdaily, on='date').merge(visitorsacummulative, on='date').merge(visitorsbcummulative, on='date')\n",
    "\n",
    "data.head()"
   ]
  },
  {
   "cell_type": "markdown",
   "metadata": {},
   "source": [
    "Создание переменных в которых для пользователей, которые заказали хотя бы раз, указано количество заказов:"
   ]
  },
  {
   "cell_type": "code",
   "execution_count": 23,
   "metadata": {},
   "outputs": [],
   "source": [
    "ordersbyusersa = orders[orders['group'] == 'A'].groupby('visitor_id', as_index=False).agg({'transaction_id': pd.Series.nunique})\n",
    "ordersbyusersa.columns = ['visitorid', 'orders']\n",
    "\n",
    "ordersbyusersb = orders[orders['group'] == 'B'].groupby('visitor_id', as_index=False).agg({'transaction_id': pd.Series.nunique})\n",
    "ordersbyusersb.columns = ['visitorid', 'orders']"
   ]
  },
  {
   "cell_type": "markdown",
   "metadata": {},
   "source": [
    "Создание переменных, в которых пользователям из разных групп будет соответствовать количество заказов:"
   ]
  },
  {
   "cell_type": "code",
   "execution_count": 24,
   "metadata": {},
   "outputs": [],
   "source": [
    "samplea = pd.concat([ordersbyusersa['orders'], pd.Series(0, index=np.arange(\n",
    "    data['visitorsperdatea'].sum() - len(ordersbyusersa['orders'])), name='orders')], axis=0)\n",
    "\n",
    "sampleb = pd.concat([ordersbyusersb['orders'], pd.Series(0, index=np.arange(\n",
    "    data['visitorsperdateb'].sum() - len(ordersbyusersb['orders'])), name='orders')], axis=0)"
   ]
  },
  {
   "cell_type": "markdown",
   "metadata": {},
   "source": [
    "Найдем p-value и относительный прирост среднего числа заказов группы `B`:"
   ]
  },
  {
   "cell_type": "code",
   "execution_count": 25,
   "metadata": {
    "scrolled": false
   },
   "outputs": [
    {
     "name": "stdout",
     "output_type": "stream",
     "text": [
      "a = 0.05\n",
      "p-value = 0.017\n",
      "Относительный прирост = 0.138\n"
     ]
    }
   ],
   "source": [
    "print(\"a = 0.05\")\n",
    "print(\"p-value =\", \"{0:.3f}\".format(stats.mannwhitneyu(samplea, sampleb)[1]))\n",
    "print(\"Относительный прирост =\", \"{0:.3f}\".format(sampleb.mean() / samplea.mean() - 1))"
   ]
  },
  {
   "cell_type": "markdown",
   "metadata": {},
   "source": [
    "**Вывод: при уровне значимости 0,05 (выборка не столь большая) нулевая гипотеза отвергается, соответственно, различия в среднем количестве заказов между группами есть. Относительный прирост группы `В` над группой `А` в среднем количестве заказов составляет 13,8 %.**"
   ]
  },
  {
   "cell_type": "markdown",
   "metadata": {},
   "source": [
    "### Подсчет статистической значимости различий в среднем чеке заказа между группами по «сырым» данным"
   ]
  },
  {
   "cell_type": "markdown",
   "metadata": {},
   "source": [
    "**Нулевая гипотеза: различий в среднем чеке между группами нет. Альтернативная гипотеза: различия в среднем чеке между группами есть.**"
   ]
  },
  {
   "cell_type": "code",
   "execution_count": 26,
   "metadata": {
    "scrolled": true
   },
   "outputs": [
    {
     "name": "stdout",
     "output_type": "stream",
     "text": [
      "a = 0.05\n",
      "p-value = 0.729\n",
      "Относительный прирост = 0.259\n"
     ]
    }
   ],
   "source": [
    "print(\"a = 0.05\")\n",
    "print(\"p-value =\", \"{0:.3f}\".format(stats.mannwhitneyu(orders[orders['group']=='A']['revenue'], orders[orders['group']=='B']['revenue'])[1]))\n",
    "print(\"Относительный прирост =\", \"{0:.3f}\".format(orders[orders['group']=='B']['revenue'].mean()/orders[orders['group']=='A']['revenue'].mean()-1))"
   ]
  },
  {
   "cell_type": "markdown",
   "metadata": {},
   "source": [
    "**Вывод: при уровне значимости 0,05 нулевая гипотезу отвергнуть нельзя. Однако, относительный прирост группы `В` над группой `А` в среднем чеке составляет 25,9 %.**"
   ]
  },
  {
   "cell_type": "markdown",
   "metadata": {},
   "source": [
    "### Подсчет статистической значимости различий в среднем количестве заказов на посетителя между группами по «очищенным» данным"
   ]
  },
  {
   "cell_type": "markdown",
   "metadata": {},
   "source": [
    "**Нулевая гипотеза: различий в среднем количестве заказов между группами нет. Альтернативная: различия в среднем между группами есть.**"
   ]
  },
  {
   "cell_type": "markdown",
   "metadata": {},
   "source": [
    "Посчитаем количество аномальных пользователей:"
   ]
  },
  {
   "cell_type": "code",
   "execution_count": 27,
   "metadata": {},
   "outputs": [
    {
     "name": "stdout",
     "output_type": "stream",
     "text": [
      "1099    148427295\n",
      "18      199603092\n",
      "928     204675465\n",
      "23      237748145\n",
      "37      249864742\n",
      "dtype: int64\n",
      "Количество аномальных пользователей = 74\n"
     ]
    }
   ],
   "source": [
    "userswithmanyorders = pd.concat(\n",
    "    [ordersbyusersa[ordersbyusersa['orders'] > 2]['visitorid'], ordersbyusersb[ordersbyusersb['orders'] > 2]['visitorid']], axis=0)\n",
    "userswithexpensiveorders = orders[orders['revenue'] > 28000]['visitor_id']\n",
    "\n",
    "abnormalusers = pd.concat([userswithmanyorders, userswithexpensiveorders], axis=0).drop_duplicates().sort_values()\n",
    "print(abnormalusers.head())\n",
    "print('Количество аномальных пользователей =', abnormalusers.shape[0]) \n",
    "\n",
    "#t = 74/orders['visitor_id'].nunique()*100\n",
    "#t"
   ]
  },
  {
   "cell_type": "code",
   "execution_count": 28,
   "metadata": {
    "scrolled": false
   },
   "outputs": [
    {
     "name": "stdout",
     "output_type": "stream",
     "text": [
      "a = 0.05\n",
      "p-value = 0.013\n",
      "Относительный прирост = 0.173\n"
     ]
    }
   ],
   "source": [
    "sampleafiltered = pd.concat([ordersbyusersa[np.logical_not(ordersbyusersa['visitorid'].isin(abnormalusers))]['orders'], pd.Series(\n",
    "            0, index=np.arange(data['visitorsperdatea'].sum() - len(ordersbyusersa['orders'])), name='orders')], axis=0)\n",
    "\n",
    "samplebfiltered = pd.concat([ordersbyusersb[np.logical_not(ordersbyusersb['visitorid'].isin(abnormalusers))]['orders'], pd.Series(\n",
    "            0, index=np.arange(data['visitorsperdateb'].sum() - len(ordersbyusersb['orders'])), name='orders')], axis=0)\n",
    "\n",
    "print(\"a = 0.05\")\n",
    "print(\"p-value =\", \"{0:.3f}\".format(stats.mannwhitneyu(sampleafiltered, samplebfiltered)[1]))\n",
    "print(\"Относительный прирост =\", \"{0:.3f}\".format(samplebfiltered.mean()/sampleafiltered.mean()-1)) "
   ]
  },
  {
   "cell_type": "markdown",
   "metadata": {},
   "source": [
    "**Вывод: при уровне значимости 0,05 нулевая гипотеза отвергается, соответственно, различия в среднем количестве заказов между группами есть. Относительный прирост группы `В` над группой `А` в среднем количестве заказов увеличился по сравнению с \"сырыми\" данными до 17,3 %.**"
   ]
  },
  {
   "cell_type": "markdown",
   "metadata": {},
   "source": [
    "### Подсчет статистической значимости различий в среднем чеке заказа между группами по «очищенным» данным"
   ]
  },
  {
   "cell_type": "markdown",
   "metadata": {},
   "source": [
    "**Нулевая гипотеза: различий в среднем чеке между группами нет. Альтернативная гипотеза: различия в среднем чеке между группами есть.**"
   ]
  },
  {
   "cell_type": "code",
   "execution_count": 29,
   "metadata": {
    "scrolled": true
   },
   "outputs": [
    {
     "name": "stdout",
     "output_type": "stream",
     "text": [
      "a = 0.05\n",
      "p-value = 0.738\n",
      "Относительный прирост = -0.020\n"
     ]
    }
   ],
   "source": [
    "print(\"a = 0.05\")\n",
    "print(\"p-value =\", \"{0:.3f}\".format(stats.mannwhitneyu(orders[np.logical_and(orders['group'] == 'A', np.logical_not(\n",
    "    orders['visitor_id'].isin(abnormalusers)))]['revenue'], orders[np.logical_and(orders['group'] == 'B', np.logical_not(\n",
    "    orders['visitor_id'].isin(abnormalusers)))]['revenue'])[1]))\n",
    "\n",
    "print(\"Относительный прирост =\", \"{0:.3f}\".format(orders[np.logical_and(orders['group'] == 'B', np.logical_not(orders['visitor_id'].isin(\n",
    "    abnormalusers)))]['revenue'].mean() / orders[np.logical_and(orders['group'] == 'A', np.logical_not(\n",
    "    orders['visitor_id'].isin(abnormalusers)))]['revenue'].mean() - 1)) "
   ]
  },
  {
   "cell_type": "markdown",
   "metadata": {},
   "source": [
    "**Вывод: при уровне значимости 0,05 нулевая гипотезу отвергнуть нельзя. Однако, по очищенным данным наблюдается не прирост в среднем чеке группы `В` над группой `А`, а проигрыш, хоть и незначительный - 2 %.**"
   ]
  },
  {
   "cell_type": "markdown",
   "metadata": {},
   "source": [
    "### Принятие решения"
   ]
  },
  {
   "cell_type": "markdown",
   "metadata": {},
   "source": [
    "**Кумулятивные графики конверсии и среднего чека группы А довольно стабильны во второй половине исследуемого месяца. Кумулятивные графики группы В сохраняют тенденцию к снижению после роста. Относительное изменение кумулятивного среднего чека группы В по сравнению с группой А имеет тренд снижения к 0, однако по кумулятивной конверсии отмечается стабилизизация параметра в \"положительных\" значениях. По \"очищенным\" данным различий в среднем чеке между группами нет (как и по \"сырым\"). Относительный прирост количества заказов для группы В составляет 13,8 и 17, 3 % для \"сырых\" и \"очищенных\" данных соответственно.**\n",
    "\n",
    "**На мой взгляд, тест можно заканчивать, группа В является более выигрышной, поскольку показала более высокие показатели в количестве заказов.** \n"
   ]
  }
 ],
 "metadata": {
  "ExecuteTimeLog": [
   {
    "duration": 414,
    "start_time": "2023-08-01T13:56:37.590Z"
   },
   {
    "duration": 12,
    "start_time": "2023-08-01T13:56:50.103Z"
   },
   {
    "duration": 8,
    "start_time": "2023-08-01T13:56:58.769Z"
   },
   {
    "duration": 79,
    "start_time": "2023-08-01T13:57:46.480Z"
   },
   {
    "duration": 7,
    "start_time": "2023-08-01T13:57:50.512Z"
   },
   {
    "duration": 12,
    "start_time": "2023-08-01T13:58:29.097Z"
   },
   {
    "duration": 51,
    "start_time": "2023-08-02T06:59:07.857Z"
   },
   {
    "duration": 410,
    "start_time": "2023-08-02T06:59:13.367Z"
   },
   {
    "duration": 74,
    "start_time": "2023-08-02T06:59:15.219Z"
   },
   {
    "duration": 209,
    "start_time": "2023-08-02T07:01:33.449Z"
   },
   {
    "duration": 111,
    "start_time": "2023-08-02T07:01:50.038Z"
   },
   {
    "duration": 7,
    "start_time": "2023-08-02T07:06:24.701Z"
   },
   {
    "duration": 13,
    "start_time": "2023-08-02T07:07:16.371Z"
   },
   {
    "duration": 10,
    "start_time": "2023-08-02T07:07:29.146Z"
   },
   {
    "duration": 7,
    "start_time": "2023-08-02T07:07:32.009Z"
   },
   {
    "duration": 6,
    "start_time": "2023-08-02T07:07:52.438Z"
   },
   {
    "duration": 5,
    "start_time": "2023-08-02T07:08:05.344Z"
   },
   {
    "duration": 4,
    "start_time": "2023-08-02T07:09:59.883Z"
   },
   {
    "duration": 7,
    "start_time": "2023-08-02T07:10:19.491Z"
   },
   {
    "duration": 6,
    "start_time": "2023-08-02T07:11:45.382Z"
   },
   {
    "duration": 7,
    "start_time": "2023-08-02T07:12:01.352Z"
   },
   {
    "duration": 456,
    "start_time": "2023-08-02T07:14:46.029Z"
   },
   {
    "duration": 3,
    "start_time": "2023-08-02T07:14:49.825Z"
   },
   {
    "duration": 137,
    "start_time": "2023-08-02T07:14:49.830Z"
   },
   {
    "duration": 7,
    "start_time": "2023-08-02T07:14:49.968Z"
   },
   {
    "duration": 9,
    "start_time": "2023-08-02T07:14:49.976Z"
   },
   {
    "duration": 17,
    "start_time": "2023-08-02T07:14:49.986Z"
   },
   {
    "duration": 17,
    "start_time": "2023-08-02T07:14:50.004Z"
   },
   {
    "duration": 12,
    "start_time": "2023-08-02T07:14:50.023Z"
   },
   {
    "duration": 14,
    "start_time": "2023-08-02T07:14:50.036Z"
   },
   {
    "duration": 13,
    "start_time": "2023-08-02T07:14:52.068Z"
   },
   {
    "duration": 1050,
    "start_time": "2023-08-02T07:15:40.995Z"
   },
   {
    "duration": 871,
    "start_time": "2023-08-02T07:16:12.186Z"
   },
   {
    "duration": 16,
    "start_time": "2023-08-02T07:18:41.284Z"
   },
   {
    "duration": 767,
    "start_time": "2023-08-02T07:19:36.687Z"
   },
   {
    "duration": 2,
    "start_time": "2023-08-02T07:19:52.519Z"
   },
   {
    "duration": 145,
    "start_time": "2023-08-02T07:19:52.523Z"
   },
   {
    "duration": 8,
    "start_time": "2023-08-02T07:19:52.670Z"
   },
   {
    "duration": 7,
    "start_time": "2023-08-02T07:19:52.680Z"
   },
   {
    "duration": 7,
    "start_time": "2023-08-02T07:19:52.690Z"
   },
   {
    "duration": 16,
    "start_time": "2023-08-02T07:19:52.698Z"
   },
   {
    "duration": 30,
    "start_time": "2023-08-02T07:19:52.716Z"
   },
   {
    "duration": 17,
    "start_time": "2023-08-02T07:19:52.748Z"
   },
   {
    "duration": 19,
    "start_time": "2023-08-02T07:19:56.088Z"
   },
   {
    "duration": 2,
    "start_time": "2023-08-02T07:20:20.463Z"
   },
   {
    "duration": 141,
    "start_time": "2023-08-02T07:20:20.467Z"
   },
   {
    "duration": 7,
    "start_time": "2023-08-02T07:20:20.609Z"
   },
   {
    "duration": 36,
    "start_time": "2023-08-02T07:20:20.617Z"
   },
   {
    "duration": 28,
    "start_time": "2023-08-02T07:20:20.655Z"
   },
   {
    "duration": 26,
    "start_time": "2023-08-02T07:20:20.685Z"
   },
   {
    "duration": 26,
    "start_time": "2023-08-02T07:20:20.713Z"
   },
   {
    "duration": 39,
    "start_time": "2023-08-02T07:20:20.741Z"
   },
   {
    "duration": 12,
    "start_time": "2023-08-02T07:20:25.654Z"
   },
   {
    "duration": 15,
    "start_time": "2023-08-02T07:21:17.617Z"
   },
   {
    "duration": 18,
    "start_time": "2023-08-02T07:22:15.577Z"
   },
   {
    "duration": 3,
    "start_time": "2023-08-02T07:22:19.348Z"
   },
   {
    "duration": 137,
    "start_time": "2023-08-02T07:22:19.378Z"
   },
   {
    "duration": 7,
    "start_time": "2023-08-02T07:22:19.517Z"
   },
   {
    "duration": 31,
    "start_time": "2023-08-02T07:22:19.526Z"
   },
   {
    "duration": 14,
    "start_time": "2023-08-02T07:22:19.559Z"
   },
   {
    "duration": 21,
    "start_time": "2023-08-02T07:22:19.575Z"
   },
   {
    "duration": 16,
    "start_time": "2023-08-02T07:22:19.597Z"
   },
   {
    "duration": 12,
    "start_time": "2023-08-02T07:22:19.615Z"
   },
   {
    "duration": 18,
    "start_time": "2023-08-02T07:22:22.697Z"
   },
   {
    "duration": 14,
    "start_time": "2023-08-02T07:23:28.574Z"
   },
   {
    "duration": 47,
    "start_time": "2023-08-02T07:23:59.151Z"
   },
   {
    "duration": 13,
    "start_time": "2023-08-02T07:24:22.639Z"
   },
   {
    "duration": 12,
    "start_time": "2023-08-02T07:24:32.599Z"
   },
   {
    "duration": 113,
    "start_time": "2023-08-02T07:31:26.518Z"
   },
   {
    "duration": 4301,
    "start_time": "2023-08-02T07:35:06.458Z"
   },
   {
    "duration": 3,
    "start_time": "2023-08-02T07:35:28.808Z"
   },
   {
    "duration": 133,
    "start_time": "2023-08-02T07:35:28.814Z"
   },
   {
    "duration": 9,
    "start_time": "2023-08-02T07:35:28.949Z"
   },
   {
    "duration": 18,
    "start_time": "2023-08-02T07:35:28.960Z"
   },
   {
    "duration": 10,
    "start_time": "2023-08-02T07:35:28.981Z"
   },
   {
    "duration": 11,
    "start_time": "2023-08-02T07:35:28.993Z"
   },
   {
    "duration": 9,
    "start_time": "2023-08-02T07:35:29.006Z"
   },
   {
    "duration": 16,
    "start_time": "2023-08-02T07:35:29.017Z"
   },
   {
    "duration": 37,
    "start_time": "2023-08-02T07:35:29.035Z"
   },
   {
    "duration": 11,
    "start_time": "2023-08-02T07:35:32.666Z"
   },
   {
    "duration": 11,
    "start_time": "2023-08-02T07:36:45.308Z"
   },
   {
    "duration": 13,
    "start_time": "2023-08-02T07:36:50.362Z"
   },
   {
    "duration": 16,
    "start_time": "2023-08-02T07:36:56.579Z"
   },
   {
    "duration": 10,
    "start_time": "2023-08-02T07:37:05.617Z"
   },
   {
    "duration": 10,
    "start_time": "2023-08-02T07:37:11.608Z"
   },
   {
    "duration": 10,
    "start_time": "2023-08-02T07:37:19.802Z"
   },
   {
    "duration": 11,
    "start_time": "2023-08-02T07:37:27.917Z"
   },
   {
    "duration": 11,
    "start_time": "2023-08-02T07:37:59.344Z"
   },
   {
    "duration": 13,
    "start_time": "2023-08-02T07:40:28.236Z"
   },
   {
    "duration": 3,
    "start_time": "2023-08-02T08:15:56.492Z"
   },
   {
    "duration": 157,
    "start_time": "2023-08-02T08:15:56.498Z"
   },
   {
    "duration": 6,
    "start_time": "2023-08-02T08:15:56.657Z"
   },
   {
    "duration": 28,
    "start_time": "2023-08-02T08:15:56.664Z"
   },
   {
    "duration": 42,
    "start_time": "2023-08-02T08:15:56.694Z"
   },
   {
    "duration": 25,
    "start_time": "2023-08-02T08:15:56.739Z"
   },
   {
    "duration": 40,
    "start_time": "2023-08-02T08:15:56.765Z"
   },
   {
    "duration": 29,
    "start_time": "2023-08-02T08:15:56.807Z"
   },
   {
    "duration": 39,
    "start_time": "2023-08-02T08:15:56.838Z"
   },
   {
    "duration": 20,
    "start_time": "2023-08-02T08:15:56.878Z"
   },
   {
    "duration": 78,
    "start_time": "2023-08-02T08:15:56.901Z"
   },
   {
    "duration": 6,
    "start_time": "2023-08-02T08:31:58.368Z"
   },
   {
    "duration": 15,
    "start_time": "2023-08-02T08:32:02.135Z"
   },
   {
    "duration": 3,
    "start_time": "2023-08-02T08:33:52.792Z"
   },
   {
    "duration": 145,
    "start_time": "2023-08-02T08:33:52.798Z"
   },
   {
    "duration": 7,
    "start_time": "2023-08-02T08:33:52.945Z"
   },
   {
    "duration": 15,
    "start_time": "2023-08-02T08:33:52.954Z"
   },
   {
    "duration": 32,
    "start_time": "2023-08-02T08:33:52.972Z"
   },
   {
    "duration": 9,
    "start_time": "2023-08-02T08:33:53.006Z"
   },
   {
    "duration": 14,
    "start_time": "2023-08-02T08:33:53.017Z"
   },
   {
    "duration": 21,
    "start_time": "2023-08-02T08:33:53.033Z"
   },
   {
    "duration": 22,
    "start_time": "2023-08-02T08:33:53.057Z"
   },
   {
    "duration": 20,
    "start_time": "2023-08-02T08:33:53.081Z"
   },
   {
    "duration": 21,
    "start_time": "2023-08-02T08:33:53.102Z"
   },
   {
    "duration": 223,
    "start_time": "2023-08-02T08:37:52.085Z"
   },
   {
    "duration": 165,
    "start_time": "2023-08-02T08:38:08.467Z"
   },
   {
    "duration": 326,
    "start_time": "2023-08-02T08:40:29.746Z"
   },
   {
    "duration": 287,
    "start_time": "2023-08-02T08:41:34.920Z"
   },
   {
    "duration": 270,
    "start_time": "2023-08-02T08:42:21.876Z"
   },
   {
    "duration": 271,
    "start_time": "2023-08-02T08:42:29.947Z"
   },
   {
    "duration": 275,
    "start_time": "2023-08-02T08:42:54.184Z"
   },
   {
    "duration": 280,
    "start_time": "2023-08-02T08:44:00.566Z"
   },
   {
    "duration": 295,
    "start_time": "2023-08-02T08:47:54.902Z"
   },
   {
    "duration": 367,
    "start_time": "2023-08-02T08:47:59.420Z"
   },
   {
    "duration": 115,
    "start_time": "2023-08-02T08:47:59.789Z"
   },
   {
    "duration": 6,
    "start_time": "2023-08-02T08:47:59.906Z"
   },
   {
    "duration": 12,
    "start_time": "2023-08-02T08:47:59.915Z"
   },
   {
    "duration": 10,
    "start_time": "2023-08-02T08:47:59.929Z"
   },
   {
    "duration": 11,
    "start_time": "2023-08-02T08:47:59.941Z"
   },
   {
    "duration": 7,
    "start_time": "2023-08-02T08:47:59.971Z"
   },
   {
    "duration": 17,
    "start_time": "2023-08-02T08:47:59.979Z"
   },
   {
    "duration": 42,
    "start_time": "2023-08-02T08:47:59.997Z"
   },
   {
    "duration": 45,
    "start_time": "2023-08-02T08:48:00.042Z"
   },
   {
    "duration": 40,
    "start_time": "2023-08-02T08:48:00.089Z"
   },
   {
    "duration": 579,
    "start_time": "2023-08-02T08:48:03.675Z"
   },
   {
    "duration": 520,
    "start_time": "2023-08-02T08:48:24.966Z"
   },
   {
    "duration": 552,
    "start_time": "2023-08-02T08:48:50.715Z"
   },
   {
    "duration": 538,
    "start_time": "2023-08-02T08:48:54.587Z"
   },
   {
    "duration": 257,
    "start_time": "2023-08-02T08:54:12.852Z"
   },
   {
    "duration": 12,
    "start_time": "2023-08-02T09:00:20.339Z"
   },
   {
    "duration": 17,
    "start_time": "2023-08-02T09:03:28.625Z"
   },
   {
    "duration": 10,
    "start_time": "2023-08-02T09:03:59.633Z"
   },
   {
    "duration": 15,
    "start_time": "2023-08-02T09:04:05.837Z"
   },
   {
    "duration": 18,
    "start_time": "2023-08-02T09:04:51.352Z"
   },
   {
    "duration": 18,
    "start_time": "2023-08-02T09:06:02.299Z"
   },
   {
    "duration": 3203,
    "start_time": "2023-08-02T09:08:05.011Z"
   },
   {
    "duration": 479,
    "start_time": "2023-08-02T09:08:35.943Z"
   },
   {
    "duration": 306,
    "start_time": "2023-08-02T09:19:55.077Z"
   },
   {
    "duration": 281,
    "start_time": "2023-08-02T09:21:17.324Z"
   },
   {
    "duration": 404,
    "start_time": "2023-08-02T09:21:26.292Z"
   },
   {
    "duration": 291,
    "start_time": "2023-08-02T09:21:42.227Z"
   },
   {
    "duration": 310,
    "start_time": "2023-08-02T09:22:08.711Z"
   },
   {
    "duration": 27,
    "start_time": "2023-08-02T09:25:36.239Z"
   },
   {
    "duration": 17,
    "start_time": "2023-08-02T09:27:21.341Z"
   },
   {
    "duration": 440,
    "start_time": "2023-08-02T09:28:28.445Z"
   },
   {
    "duration": 385,
    "start_time": "2023-08-02T09:29:04.984Z"
   },
   {
    "duration": 313,
    "start_time": "2023-08-02T09:41:19.791Z"
   },
   {
    "duration": 128,
    "start_time": "2023-08-02T09:41:28.728Z"
   },
   {
    "duration": 17,
    "start_time": "2023-08-02T09:41:52.137Z"
   },
   {
    "duration": 9,
    "start_time": "2023-08-02T09:41:58.955Z"
   },
   {
    "duration": 353,
    "start_time": "2023-08-02T09:42:49.725Z"
   },
   {
    "duration": 13,
    "start_time": "2023-08-02T09:43:08.538Z"
   },
   {
    "duration": 11,
    "start_time": "2023-08-02T09:43:48.448Z"
   },
   {
    "duration": 9,
    "start_time": "2023-08-02T09:45:20.825Z"
   },
   {
    "duration": 119,
    "start_time": "2023-08-02T09:45:41.724Z"
   },
   {
    "duration": 189,
    "start_time": "2023-08-02T09:45:51.064Z"
   },
   {
    "duration": 6,
    "start_time": "2023-08-02T09:50:29.373Z"
   },
   {
    "duration": 197,
    "start_time": "2023-08-02T09:54:29.314Z"
   },
   {
    "duration": 192,
    "start_time": "2023-08-02T09:54:47.340Z"
   },
   {
    "duration": 206,
    "start_time": "2023-08-02T09:55:17.246Z"
   },
   {
    "duration": 190,
    "start_time": "2023-08-02T09:55:40.919Z"
   },
   {
    "duration": 377,
    "start_time": "2023-08-02T09:56:34.088Z"
   },
   {
    "duration": 178,
    "start_time": "2023-08-02T09:56:47.624Z"
   },
   {
    "duration": 293,
    "start_time": "2023-08-02T09:56:53.395Z"
   },
   {
    "duration": 284,
    "start_time": "2023-08-02T09:57:04.112Z"
   },
   {
    "duration": 306,
    "start_time": "2023-08-02T09:57:08.591Z"
   },
   {
    "duration": 283,
    "start_time": "2023-08-02T09:57:13.834Z"
   },
   {
    "duration": 271,
    "start_time": "2023-08-02T09:57:20.223Z"
   },
   {
    "duration": 320,
    "start_time": "2023-08-02T09:57:24.668Z"
   },
   {
    "duration": 8,
    "start_time": "2023-08-02T09:59:00.330Z"
   },
   {
    "duration": 6,
    "start_time": "2023-08-02T09:59:07.923Z"
   },
   {
    "duration": 11,
    "start_time": "2023-08-02T10:20:49.452Z"
   },
   {
    "duration": 5361,
    "start_time": "2023-08-02T10:22:20.019Z"
   },
   {
    "duration": 9,
    "start_time": "2023-08-02T10:22:39.628Z"
   },
   {
    "duration": 11,
    "start_time": "2023-08-02T10:22:59.547Z"
   },
   {
    "duration": 10,
    "start_time": "2023-08-02T10:23:19.525Z"
   },
   {
    "duration": 105,
    "start_time": "2023-08-02T10:23:22.473Z"
   },
   {
    "duration": 8,
    "start_time": "2023-08-02T10:23:27.192Z"
   },
   {
    "duration": 10,
    "start_time": "2023-08-02T10:23:31.170Z"
   },
   {
    "duration": 3475,
    "start_time": "2023-08-02T10:23:43.730Z"
   },
   {
    "duration": 12,
    "start_time": "2023-08-02T10:24:11.374Z"
   },
   {
    "duration": 3928,
    "start_time": "2023-08-02T10:24:17.022Z"
   },
   {
    "duration": 7,
    "start_time": "2023-08-02T10:24:36.632Z"
   },
   {
    "duration": 11,
    "start_time": "2023-08-02T10:24:39.409Z"
   },
   {
    "duration": 4,
    "start_time": "2023-08-02T10:25:44.078Z"
   },
   {
    "duration": 10,
    "start_time": "2023-08-02T10:25:48.991Z"
   },
   {
    "duration": 12,
    "start_time": "2023-08-02T10:27:47.789Z"
   },
   {
    "duration": 6120,
    "start_time": "2023-08-02T10:30:06.952Z"
   },
   {
    "duration": 13,
    "start_time": "2023-08-02T10:30:39.424Z"
   },
   {
    "duration": 9,
    "start_time": "2023-08-02T11:04:52.232Z"
   },
   {
    "duration": 67,
    "start_time": "2023-08-02T11:04:58.225Z"
   },
   {
    "duration": 60,
    "start_time": "2023-08-02T11:05:36.163Z"
   },
   {
    "duration": 217,
    "start_time": "2023-08-02T11:05:54.135Z"
   },
   {
    "duration": 233,
    "start_time": "2023-08-02T11:07:19.719Z"
   },
   {
    "duration": 226,
    "start_time": "2023-08-02T11:07:46.989Z"
   },
   {
    "duration": 610,
    "start_time": "2023-08-02T11:09:25.499Z"
   },
   {
    "duration": 218,
    "start_time": "2023-08-02T11:09:41.604Z"
   },
   {
    "duration": 223,
    "start_time": "2023-08-02T11:09:57.108Z"
   },
   {
    "duration": 158,
    "start_time": "2023-08-02T11:24:21.834Z"
   },
   {
    "duration": 490,
    "start_time": "2023-08-02T11:25:08.574Z"
   },
   {
    "duration": 121,
    "start_time": "2023-08-02T11:25:09.066Z"
   },
   {
    "duration": 9,
    "start_time": "2023-08-02T11:25:09.190Z"
   },
   {
    "duration": 23,
    "start_time": "2023-08-02T11:25:09.200Z"
   },
   {
    "duration": 31,
    "start_time": "2023-08-02T11:25:09.226Z"
   },
   {
    "duration": 16,
    "start_time": "2023-08-02T11:25:09.259Z"
   },
   {
    "duration": 23,
    "start_time": "2023-08-02T11:25:09.277Z"
   },
   {
    "duration": 19,
    "start_time": "2023-08-02T11:25:09.302Z"
   },
   {
    "duration": 25,
    "start_time": "2023-08-02T11:25:09.322Z"
   },
   {
    "duration": 23,
    "start_time": "2023-08-02T11:25:09.349Z"
   },
   {
    "duration": 31,
    "start_time": "2023-08-02T11:25:09.374Z"
   },
   {
    "duration": 555,
    "start_time": "2023-08-02T11:25:09.407Z"
   },
   {
    "duration": 279,
    "start_time": "2023-08-02T11:25:09.965Z"
   },
   {
    "duration": 414,
    "start_time": "2023-08-02T11:25:10.247Z"
   },
   {
    "duration": 306,
    "start_time": "2023-08-02T11:25:10.670Z"
   },
   {
    "duration": 391,
    "start_time": "2023-08-02T11:25:10.978Z"
   },
   {
    "duration": 15,
    "start_time": "2023-08-02T11:25:11.371Z"
   },
   {
    "duration": 201,
    "start_time": "2023-08-02T11:25:11.388Z"
   },
   {
    "duration": 6,
    "start_time": "2023-08-02T11:25:11.591Z"
   },
   {
    "duration": 426,
    "start_time": "2023-08-02T11:25:11.599Z"
   },
   {
    "duration": 6,
    "start_time": "2023-08-02T11:25:12.027Z"
   },
   {
    "duration": 60,
    "start_time": "2023-08-02T11:25:12.035Z"
   },
   {
    "duration": 278,
    "start_time": "2023-08-02T11:25:12.097Z"
   },
   {
    "duration": 195,
    "start_time": "2023-08-02T11:25:17.820Z"
   },
   {
    "duration": 168,
    "start_time": "2023-08-02T11:25:31.703Z"
   },
   {
    "duration": 217,
    "start_time": "2023-08-02T11:26:22.279Z"
   },
   {
    "duration": 214,
    "start_time": "2023-08-02T11:26:27.181Z"
   },
   {
    "duration": 224,
    "start_time": "2023-08-02T11:26:55.170Z"
   },
   {
    "duration": 160,
    "start_time": "2023-08-02T11:28:54.095Z"
   },
   {
    "duration": 380,
    "start_time": "2023-08-02T11:29:40.288Z"
   },
   {
    "duration": 7,
    "start_time": "2023-08-02T11:29:56.916Z"
   },
   {
    "duration": 406,
    "start_time": "2023-08-02T11:31:39.477Z"
   },
   {
    "duration": 25,
    "start_time": "2023-08-02T11:32:17.445Z"
   },
   {
    "duration": 24,
    "start_time": "2023-08-02T11:32:32.129Z"
   },
   {
    "duration": 26,
    "start_time": "2023-08-02T11:39:57.119Z"
   },
   {
    "duration": 12,
    "start_time": "2023-08-02T11:40:33.469Z"
   },
   {
    "duration": 13,
    "start_time": "2023-08-02T11:49:20.606Z"
   },
   {
    "duration": 9,
    "start_time": "2023-08-02T11:49:27.565Z"
   },
   {
    "duration": 9,
    "start_time": "2023-08-02T11:50:03.883Z"
   },
   {
    "duration": 9,
    "start_time": "2023-08-02T11:50:09.652Z"
   },
   {
    "duration": 10,
    "start_time": "2023-08-02T11:51:14.969Z"
   },
   {
    "duration": 12,
    "start_time": "2023-08-02T11:51:18.097Z"
   },
   {
    "duration": 11,
    "start_time": "2023-08-02T11:51:31.186Z"
   },
   {
    "duration": 18,
    "start_time": "2023-08-02T11:51:37.565Z"
   },
   {
    "duration": 11,
    "start_time": "2023-08-02T11:51:41.996Z"
   },
   {
    "duration": 9,
    "start_time": "2023-08-02T11:51:55.544Z"
   },
   {
    "duration": 11,
    "start_time": "2023-08-02T11:52:00.708Z"
   },
   {
    "duration": 11,
    "start_time": "2023-08-02T11:52:05.916Z"
   },
   {
    "duration": 12,
    "start_time": "2023-08-02T11:52:10.811Z"
   },
   {
    "duration": 12,
    "start_time": "2023-08-02T11:52:24.166Z"
   },
   {
    "duration": 12,
    "start_time": "2023-08-02T11:52:28.063Z"
   },
   {
    "duration": 12,
    "start_time": "2023-08-02T11:52:48.316Z"
   },
   {
    "duration": 12,
    "start_time": "2023-08-02T11:52:53.914Z"
   },
   {
    "duration": 12,
    "start_time": "2023-08-02T11:53:01.840Z"
   },
   {
    "duration": 11,
    "start_time": "2023-08-02T11:53:13.742Z"
   },
   {
    "duration": 34,
    "start_time": "2023-08-02T11:58:40.805Z"
   },
   {
    "duration": 13,
    "start_time": "2023-08-02T12:07:41.890Z"
   },
   {
    "duration": 16,
    "start_time": "2023-08-02T12:07:56.120Z"
   },
   {
    "duration": 16,
    "start_time": "2023-08-02T12:18:46.639Z"
   },
   {
    "duration": 7,
    "start_time": "2023-08-02T12:19:02.115Z"
   },
   {
    "duration": 7,
    "start_time": "2023-08-02T12:19:29.930Z"
   },
   {
    "duration": 8,
    "start_time": "2023-08-02T12:19:44.025Z"
   },
   {
    "duration": 15,
    "start_time": "2023-08-02T12:20:08.062Z"
   },
   {
    "duration": 9,
    "start_time": "2023-08-02T12:20:23.353Z"
   },
   {
    "duration": 10,
    "start_time": "2023-08-02T12:21:34.920Z"
   },
   {
    "duration": 4,
    "start_time": "2023-08-02T12:22:48.595Z"
   },
   {
    "duration": 2,
    "start_time": "2023-08-02T12:41:25.695Z"
   },
   {
    "duration": 132,
    "start_time": "2023-08-02T12:41:25.701Z"
   },
   {
    "duration": 6,
    "start_time": "2023-08-02T12:41:25.835Z"
   },
   {
    "duration": 12,
    "start_time": "2023-08-02T12:41:25.843Z"
   },
   {
    "duration": 14,
    "start_time": "2023-08-02T12:41:25.857Z"
   },
   {
    "duration": 23,
    "start_time": "2023-08-02T12:41:25.873Z"
   },
   {
    "duration": 8,
    "start_time": "2023-08-02T12:41:25.898Z"
   },
   {
    "duration": 15,
    "start_time": "2023-08-02T12:41:25.908Z"
   },
   {
    "duration": 13,
    "start_time": "2023-08-02T12:41:25.924Z"
   },
   {
    "duration": 48,
    "start_time": "2023-08-02T12:41:25.939Z"
   },
   {
    "duration": 30,
    "start_time": "2023-08-02T12:41:25.989Z"
   },
   {
    "duration": 638,
    "start_time": "2023-08-02T12:41:26.021Z"
   },
   {
    "duration": 292,
    "start_time": "2023-08-02T12:41:26.660Z"
   },
   {
    "duration": 402,
    "start_time": "2023-08-02T12:41:26.954Z"
   },
   {
    "duration": 314,
    "start_time": "2023-08-02T12:41:27.358Z"
   },
   {
    "duration": 395,
    "start_time": "2023-08-02T12:41:27.674Z"
   },
   {
    "duration": 13,
    "start_time": "2023-08-02T12:41:28.071Z"
   },
   {
    "duration": 209,
    "start_time": "2023-08-02T12:41:28.086Z"
   },
   {
    "duration": 5,
    "start_time": "2023-08-02T12:41:28.297Z"
   },
   {
    "duration": 324,
    "start_time": "2023-08-02T12:41:28.304Z"
   },
   {
    "duration": 5,
    "start_time": "2023-08-02T12:41:28.631Z"
   },
   {
    "duration": 265,
    "start_time": "2023-08-02T12:41:28.638Z"
   },
   {
    "duration": 153,
    "start_time": "2023-08-02T12:41:28.905Z"
   },
   {
    "duration": 13,
    "start_time": "2023-08-02T12:41:29.060Z"
   },
   {
    "duration": 32,
    "start_time": "2023-08-02T12:41:29.075Z"
   },
   {
    "duration": 15,
    "start_time": "2023-08-02T12:41:29.109Z"
   },
   {
    "duration": 11,
    "start_time": "2023-08-02T12:41:29.126Z"
   },
   {
    "duration": 61,
    "start_time": "2023-08-02T12:41:29.139Z"
   },
   {
    "duration": 17,
    "start_time": "2023-08-02T12:41:29.204Z"
   },
   {
    "duration": 1242,
    "start_time": "2023-08-02T12:51:45.134Z"
   },
   {
    "duration": 257,
    "start_time": "2023-08-02T12:51:46.378Z"
   },
   {
    "duration": 12,
    "start_time": "2023-08-02T12:51:46.637Z"
   },
   {
    "duration": 39,
    "start_time": "2023-08-02T12:51:46.651Z"
   },
   {
    "duration": 27,
    "start_time": "2023-08-02T12:51:46.692Z"
   },
   {
    "duration": 19,
    "start_time": "2023-08-02T12:51:46.721Z"
   },
   {
    "duration": 31,
    "start_time": "2023-08-02T12:51:46.742Z"
   },
   {
    "duration": 33,
    "start_time": "2023-08-02T12:51:46.774Z"
   },
   {
    "duration": 46,
    "start_time": "2023-08-02T12:51:46.809Z"
   },
   {
    "duration": 27,
    "start_time": "2023-08-02T12:51:46.858Z"
   },
   {
    "duration": 18,
    "start_time": "2023-08-02T12:51:46.888Z"
   },
   {
    "duration": 661,
    "start_time": "2023-08-02T12:51:46.909Z"
   },
   {
    "duration": 276,
    "start_time": "2023-08-02T12:51:47.572Z"
   },
   {
    "duration": 463,
    "start_time": "2023-08-02T12:51:47.850Z"
   },
   {
    "duration": 338,
    "start_time": "2023-08-02T12:51:48.315Z"
   },
   {
    "duration": 386,
    "start_time": "2023-08-02T12:51:48.655Z"
   },
   {
    "duration": 12,
    "start_time": "2023-08-02T12:51:49.043Z"
   },
   {
    "duration": 197,
    "start_time": "2023-08-02T12:51:49.057Z"
   },
   {
    "duration": 4,
    "start_time": "2023-08-02T12:51:49.256Z"
   },
   {
    "duration": 352,
    "start_time": "2023-08-02T12:51:49.262Z"
   },
   {
    "duration": 5,
    "start_time": "2023-08-02T12:51:49.616Z"
   },
   {
    "duration": 248,
    "start_time": "2023-08-02T12:51:49.623Z"
   },
   {
    "duration": 199,
    "start_time": "2023-08-02T12:51:49.872Z"
   },
   {
    "duration": 18,
    "start_time": "2023-08-02T12:51:50.073Z"
   },
   {
    "duration": 32,
    "start_time": "2023-08-02T12:51:50.092Z"
   },
   {
    "duration": 10,
    "start_time": "2023-08-02T12:51:50.125Z"
   },
   {
    "duration": 10,
    "start_time": "2023-08-02T12:51:50.137Z"
   },
   {
    "duration": 50,
    "start_time": "2023-08-02T12:51:50.150Z"
   },
   {
    "duration": 13,
    "start_time": "2023-08-02T12:51:50.201Z"
   },
   {
    "duration": 68,
    "start_time": "2023-08-03T07:43:13.286Z"
   },
   {
    "duration": 1314,
    "start_time": "2023-08-03T07:43:18.986Z"
   },
   {
    "duration": 249,
    "start_time": "2023-08-03T07:43:20.302Z"
   },
   {
    "duration": 8,
    "start_time": "2023-08-03T07:43:20.553Z"
   },
   {
    "duration": 11,
    "start_time": "2023-08-03T07:43:20.564Z"
   },
   {
    "duration": 15,
    "start_time": "2023-08-03T07:43:20.577Z"
   },
   {
    "duration": 31,
    "start_time": "2023-08-03T07:43:20.595Z"
   },
   {
    "duration": 122,
    "start_time": "2023-08-03T07:43:20.629Z"
   },
   {
    "duration": 0,
    "start_time": "2023-08-03T07:43:20.754Z"
   },
   {
    "duration": 1,
    "start_time": "2023-08-03T07:43:20.755Z"
   },
   {
    "duration": 0,
    "start_time": "2023-08-03T07:43:20.757Z"
   },
   {
    "duration": 0,
    "start_time": "2023-08-03T07:43:20.758Z"
   },
   {
    "duration": 0,
    "start_time": "2023-08-03T07:43:20.759Z"
   },
   {
    "duration": 0,
    "start_time": "2023-08-03T07:43:20.760Z"
   },
   {
    "duration": 1,
    "start_time": "2023-08-03T07:43:20.761Z"
   },
   {
    "duration": 0,
    "start_time": "2023-08-03T07:43:20.763Z"
   },
   {
    "duration": 0,
    "start_time": "2023-08-03T07:43:20.764Z"
   },
   {
    "duration": 0,
    "start_time": "2023-08-03T07:43:20.765Z"
   },
   {
    "duration": 0,
    "start_time": "2023-08-03T07:43:20.767Z"
   },
   {
    "duration": 0,
    "start_time": "2023-08-03T07:43:20.768Z"
   },
   {
    "duration": 0,
    "start_time": "2023-08-03T07:43:20.769Z"
   },
   {
    "duration": 0,
    "start_time": "2023-08-03T07:43:20.770Z"
   },
   {
    "duration": 0,
    "start_time": "2023-08-03T07:43:20.770Z"
   },
   {
    "duration": 0,
    "start_time": "2023-08-03T07:43:20.771Z"
   },
   {
    "duration": 0,
    "start_time": "2023-08-03T07:43:20.773Z"
   },
   {
    "duration": 0,
    "start_time": "2023-08-03T07:43:20.774Z"
   },
   {
    "duration": 0,
    "start_time": "2023-08-03T07:43:20.775Z"
   },
   {
    "duration": 0,
    "start_time": "2023-08-03T07:43:20.777Z"
   },
   {
    "duration": 0,
    "start_time": "2023-08-03T07:43:20.778Z"
   },
   {
    "duration": 0,
    "start_time": "2023-08-03T07:43:20.780Z"
   },
   {
    "duration": 0,
    "start_time": "2023-08-03T07:43:20.781Z"
   },
   {
    "duration": 1303,
    "start_time": "2023-08-03T07:43:44.502Z"
   },
   {
    "duration": 139,
    "start_time": "2023-08-03T07:43:45.807Z"
   },
   {
    "duration": 8,
    "start_time": "2023-08-03T07:43:45.948Z"
   },
   {
    "duration": 7,
    "start_time": "2023-08-03T07:43:45.958Z"
   },
   {
    "duration": 36,
    "start_time": "2023-08-03T07:43:45.967Z"
   },
   {
    "duration": 25,
    "start_time": "2023-08-03T07:43:46.004Z"
   },
   {
    "duration": 16,
    "start_time": "2023-08-03T07:43:46.031Z"
   },
   {
    "duration": 15,
    "start_time": "2023-08-03T07:43:46.049Z"
   },
   {
    "duration": 12,
    "start_time": "2023-08-03T07:43:46.065Z"
   },
   {
    "duration": 42,
    "start_time": "2023-08-03T07:43:46.081Z"
   },
   {
    "duration": 16,
    "start_time": "2023-08-03T07:43:46.125Z"
   },
   {
    "duration": 635,
    "start_time": "2023-08-03T07:43:46.143Z"
   },
   {
    "duration": 271,
    "start_time": "2023-08-03T07:43:46.780Z"
   },
   {
    "duration": 350,
    "start_time": "2023-08-03T07:43:47.055Z"
   },
   {
    "duration": 377,
    "start_time": "2023-08-03T07:43:47.406Z"
   },
   {
    "duration": 476,
    "start_time": "2023-08-03T07:43:47.785Z"
   },
   {
    "duration": 17,
    "start_time": "2023-08-03T07:43:48.263Z"
   },
   {
    "duration": 276,
    "start_time": "2023-08-03T07:43:48.282Z"
   },
   {
    "duration": 5,
    "start_time": "2023-08-03T07:43:48.560Z"
   },
   {
    "duration": 395,
    "start_time": "2023-08-03T07:43:48.567Z"
   },
   {
    "duration": 7,
    "start_time": "2023-08-03T07:43:48.964Z"
   },
   {
    "duration": 328,
    "start_time": "2023-08-03T07:43:48.974Z"
   },
   {
    "duration": 221,
    "start_time": "2023-08-03T07:43:49.303Z"
   },
   {
    "duration": 8,
    "start_time": "2023-08-03T07:43:49.527Z"
   },
   {
    "duration": 46,
    "start_time": "2023-08-03T07:43:49.536Z"
   },
   {
    "duration": 13,
    "start_time": "2023-08-03T07:43:49.584Z"
   },
   {
    "duration": 28,
    "start_time": "2023-08-03T07:43:49.599Z"
   },
   {
    "duration": 42,
    "start_time": "2023-08-03T07:43:49.629Z"
   },
   {
    "duration": 18,
    "start_time": "2023-08-03T07:43:49.673Z"
   },
   {
    "duration": 102,
    "start_time": "2023-08-03T09:00:31.527Z"
   },
   {
    "duration": 394,
    "start_time": "2023-08-03T09:02:00.383Z"
   },
   {
    "duration": 642,
    "start_time": "2023-08-03T09:04:30.726Z"
   },
   {
    "duration": 50,
    "start_time": "2023-08-03T09:07:45.036Z"
   },
   {
    "duration": 1628,
    "start_time": "2023-08-03T09:07:50.537Z"
   },
   {
    "duration": 280,
    "start_time": "2023-08-03T09:07:52.168Z"
   },
   {
    "duration": 7,
    "start_time": "2023-08-03T09:07:52.450Z"
   },
   {
    "duration": 28,
    "start_time": "2023-08-03T09:07:52.458Z"
   },
   {
    "duration": 69,
    "start_time": "2023-08-03T09:07:52.488Z"
   },
   {
    "duration": 48,
    "start_time": "2023-08-03T09:07:52.559Z"
   },
   {
    "duration": 99,
    "start_time": "2023-08-03T09:07:52.618Z"
   },
   {
    "duration": 59,
    "start_time": "2023-08-03T09:07:52.729Z"
   },
   {
    "duration": 81,
    "start_time": "2023-08-03T09:07:52.790Z"
   },
   {
    "duration": 66,
    "start_time": "2023-08-03T09:07:52.873Z"
   },
   {
    "duration": 63,
    "start_time": "2023-08-03T09:07:52.941Z"
   },
   {
    "duration": 665,
    "start_time": "2023-08-03T09:07:58.641Z"
   },
   {
    "duration": 312,
    "start_time": "2023-08-03T09:08:33.138Z"
   },
   {
    "duration": 485,
    "start_time": "2023-08-03T09:08:54.252Z"
   },
   {
    "duration": 332,
    "start_time": "2023-08-03T09:09:36.594Z"
   },
   {
    "duration": 419,
    "start_time": "2023-08-03T09:10:15.041Z"
   },
   {
    "duration": 76,
    "start_time": "2023-08-03T09:11:38.680Z"
   },
   {
    "duration": 3,
    "start_time": "2023-08-03T09:11:42.295Z"
   },
   {
    "duration": 173,
    "start_time": "2023-08-03T09:11:42.301Z"
   },
   {
    "duration": 7,
    "start_time": "2023-08-03T09:11:42.476Z"
   },
   {
    "duration": 7,
    "start_time": "2023-08-03T09:11:42.485Z"
   },
   {
    "duration": 51,
    "start_time": "2023-08-03T09:11:42.494Z"
   },
   {
    "duration": 7,
    "start_time": "2023-08-03T09:11:42.547Z"
   },
   {
    "duration": 11,
    "start_time": "2023-08-03T09:11:42.556Z"
   },
   {
    "duration": 10,
    "start_time": "2023-08-03T09:11:42.569Z"
   },
   {
    "duration": 16,
    "start_time": "2023-08-03T09:11:42.581Z"
   },
   {
    "duration": 19,
    "start_time": "2023-08-03T09:11:42.598Z"
   },
   {
    "duration": 36,
    "start_time": "2023-08-03T09:11:42.622Z"
   },
   {
    "duration": 645,
    "start_time": "2023-08-03T09:11:42.660Z"
   },
   {
    "duration": 314,
    "start_time": "2023-08-03T09:11:43.307Z"
   },
   {
    "duration": 527,
    "start_time": "2023-08-03T09:11:43.623Z"
   },
   {
    "duration": 332,
    "start_time": "2023-08-03T09:11:44.152Z"
   },
   {
    "duration": 457,
    "start_time": "2023-08-03T09:11:44.486Z"
   },
   {
    "duration": 14,
    "start_time": "2023-08-03T09:11:44.945Z"
   },
   {
    "duration": 245,
    "start_time": "2023-08-03T09:11:47.401Z"
   },
   {
    "duration": 336,
    "start_time": "2023-08-03T09:12:54.657Z"
   },
   {
    "duration": 14,
    "start_time": "2023-08-03T10:06:01.555Z"
   },
   {
    "duration": 4,
    "start_time": "2023-08-03T10:06:05.838Z"
   },
   {
    "duration": 176,
    "start_time": "2023-08-03T10:06:05.852Z"
   },
   {
    "duration": 9,
    "start_time": "2023-08-03T10:06:06.031Z"
   },
   {
    "duration": 38,
    "start_time": "2023-08-03T10:06:06.042Z"
   },
   {
    "duration": 26,
    "start_time": "2023-08-03T10:06:06.082Z"
   },
   {
    "duration": 57,
    "start_time": "2023-08-03T10:06:06.111Z"
   },
   {
    "duration": 22,
    "start_time": "2023-08-03T10:06:06.171Z"
   },
   {
    "duration": 61,
    "start_time": "2023-08-03T10:06:06.196Z"
   },
   {
    "duration": 28,
    "start_time": "2023-08-03T10:06:06.259Z"
   },
   {
    "duration": 14,
    "start_time": "2023-08-03T10:06:06.289Z"
   },
   {
    "duration": 60,
    "start_time": "2023-08-03T10:06:06.304Z"
   },
   {
    "duration": 645,
    "start_time": "2023-08-03T10:06:06.366Z"
   },
   {
    "duration": 331,
    "start_time": "2023-08-03T10:06:07.016Z"
   },
   {
    "duration": 414,
    "start_time": "2023-08-03T10:06:07.349Z"
   },
   {
    "duration": 347,
    "start_time": "2023-08-03T10:06:07.765Z"
   },
   {
    "duration": 417,
    "start_time": "2023-08-03T10:06:08.114Z"
   },
   {
    "duration": 17,
    "start_time": "2023-08-03T10:06:08.533Z"
   },
   {
    "duration": 392,
    "start_time": "2023-08-03T10:06:08.553Z"
   },
   {
    "duration": 36,
    "start_time": "2023-08-03T10:06:08.947Z"
   },
   {
    "duration": 434,
    "start_time": "2023-08-03T10:06:08.985Z"
   },
   {
    "duration": 18,
    "start_time": "2023-08-03T10:06:09.421Z"
   },
   {
    "duration": 277,
    "start_time": "2023-08-03T10:06:09.449Z"
   },
   {
    "duration": 174,
    "start_time": "2023-08-03T10:06:09.730Z"
   },
   {
    "duration": 11,
    "start_time": "2023-08-03T10:06:09.906Z"
   },
   {
    "duration": 36,
    "start_time": "2023-08-03T10:06:12.423Z"
   },
   {
    "duration": 82,
    "start_time": "2023-08-03T10:08:47.605Z"
   },
   {
    "duration": 14,
    "start_time": "2023-08-03T10:09:11.485Z"
   },
   {
    "duration": 19,
    "start_time": "2023-08-03T10:09:50.486Z"
   },
   {
    "duration": 7,
    "start_time": "2023-08-03T10:09:55.008Z"
   },
   {
    "duration": 179,
    "start_time": "2023-08-03T10:09:55.018Z"
   },
   {
    "duration": 10,
    "start_time": "2023-08-03T10:09:55.199Z"
   },
   {
    "duration": 26,
    "start_time": "2023-08-03T10:09:55.211Z"
   },
   {
    "duration": 17,
    "start_time": "2023-08-03T10:09:55.240Z"
   },
   {
    "duration": 20,
    "start_time": "2023-08-03T10:09:55.259Z"
   },
   {
    "duration": 15,
    "start_time": "2023-08-03T10:09:55.282Z"
   },
   {
    "duration": 9,
    "start_time": "2023-08-03T10:09:55.299Z"
   },
   {
    "duration": 35,
    "start_time": "2023-08-03T10:09:55.310Z"
   },
   {
    "duration": 15,
    "start_time": "2023-08-03T10:09:55.347Z"
   },
   {
    "duration": 14,
    "start_time": "2023-08-03T10:09:55.364Z"
   },
   {
    "duration": 709,
    "start_time": "2023-08-03T10:09:55.380Z"
   },
   {
    "duration": 348,
    "start_time": "2023-08-03T10:09:56.092Z"
   },
   {
    "duration": 417,
    "start_time": "2023-08-03T10:09:56.444Z"
   },
   {
    "duration": 333,
    "start_time": "2023-08-03T10:09:56.863Z"
   },
   {
    "duration": 428,
    "start_time": "2023-08-03T10:09:57.199Z"
   },
   {
    "duration": 16,
    "start_time": "2023-08-03T10:09:57.629Z"
   },
   {
    "duration": 270,
    "start_time": "2023-08-03T10:09:57.647Z"
   },
   {
    "duration": 8,
    "start_time": "2023-08-03T10:09:57.921Z"
   },
   {
    "duration": 340,
    "start_time": "2023-08-03T10:09:57.932Z"
   },
   {
    "duration": 7,
    "start_time": "2023-08-03T10:09:58.274Z"
   },
   {
    "duration": 257,
    "start_time": "2023-08-03T10:09:58.282Z"
   },
   {
    "duration": 184,
    "start_time": "2023-08-03T10:09:58.541Z"
   },
   {
    "duration": 8,
    "start_time": "2023-08-03T10:09:58.731Z"
   },
   {
    "duration": 38,
    "start_time": "2023-08-03T10:09:58.741Z"
   },
   {
    "duration": 28,
    "start_time": "2023-08-03T10:09:58.782Z"
   },
   {
    "duration": 22,
    "start_time": "2023-08-03T10:09:58.817Z"
   },
   {
    "duration": 42,
    "start_time": "2023-08-03T10:10:00.897Z"
   },
   {
    "duration": 21,
    "start_time": "2023-08-03T10:10:20.818Z"
   },
   {
    "duration": 1268,
    "start_time": "2023-08-03T10:17:36.530Z"
   },
   {
    "duration": 160,
    "start_time": "2023-08-03T10:17:37.800Z"
   },
   {
    "duration": 8,
    "start_time": "2023-08-03T10:17:37.962Z"
   },
   {
    "duration": 39,
    "start_time": "2023-08-03T10:17:37.972Z"
   },
   {
    "duration": 13,
    "start_time": "2023-08-03T10:17:38.019Z"
   },
   {
    "duration": 19,
    "start_time": "2023-08-03T10:17:38.034Z"
   },
   {
    "duration": 12,
    "start_time": "2023-08-03T10:17:38.055Z"
   },
   {
    "duration": 15,
    "start_time": "2023-08-03T10:17:38.069Z"
   },
   {
    "duration": 37,
    "start_time": "2023-08-03T10:17:38.085Z"
   },
   {
    "duration": 15,
    "start_time": "2023-08-03T10:17:38.128Z"
   },
   {
    "duration": 27,
    "start_time": "2023-08-03T10:17:38.145Z"
   },
   {
    "duration": 686,
    "start_time": "2023-08-03T10:17:38.173Z"
   },
   {
    "duration": 333,
    "start_time": "2023-08-03T10:17:38.862Z"
   },
   {
    "duration": 535,
    "start_time": "2023-08-03T10:17:39.197Z"
   },
   {
    "duration": 387,
    "start_time": "2023-08-03T10:17:39.735Z"
   },
   {
    "duration": 414,
    "start_time": "2023-08-03T10:17:40.124Z"
   },
   {
    "duration": 18,
    "start_time": "2023-08-03T10:17:40.540Z"
   },
   {
    "duration": 297,
    "start_time": "2023-08-03T10:17:40.561Z"
   },
   {
    "duration": 7,
    "start_time": "2023-08-03T10:17:40.859Z"
   },
   {
    "duration": 447,
    "start_time": "2023-08-03T10:17:40.878Z"
   },
   {
    "duration": 7,
    "start_time": "2023-08-03T10:17:41.333Z"
   },
   {
    "duration": 262,
    "start_time": "2023-08-03T10:17:41.342Z"
   },
   {
    "duration": 219,
    "start_time": "2023-08-03T10:17:41.609Z"
   },
   {
    "duration": 8,
    "start_time": "2023-08-03T10:17:41.832Z"
   },
   {
    "duration": 37,
    "start_time": "2023-08-03T10:17:41.842Z"
   },
   {
    "duration": 12,
    "start_time": "2023-08-03T10:17:41.881Z"
   },
   {
    "duration": 35,
    "start_time": "2023-08-03T10:17:41.895Z"
   },
   {
    "duration": 46,
    "start_time": "2023-08-03T10:17:41.934Z"
   },
   {
    "duration": 20,
    "start_time": "2023-08-03T10:17:41.982Z"
   },
   {
    "duration": 995,
    "start_time": "2023-08-03T11:36:40.638Z"
   },
   {
    "duration": 150,
    "start_time": "2023-08-03T11:36:41.635Z"
   },
   {
    "duration": 5,
    "start_time": "2023-08-03T11:36:41.786Z"
   },
   {
    "duration": 7,
    "start_time": "2023-08-03T11:36:41.792Z"
   },
   {
    "duration": 8,
    "start_time": "2023-08-03T11:36:41.800Z"
   },
   {
    "duration": 8,
    "start_time": "2023-08-03T11:36:41.809Z"
   },
   {
    "duration": 19,
    "start_time": "2023-08-03T11:36:41.819Z"
   },
   {
    "duration": 8,
    "start_time": "2023-08-03T11:36:41.839Z"
   },
   {
    "duration": 13,
    "start_time": "2023-08-03T11:36:41.848Z"
   },
   {
    "duration": 9,
    "start_time": "2023-08-03T11:36:41.863Z"
   },
   {
    "duration": 9,
    "start_time": "2023-08-03T11:36:41.873Z"
   },
   {
    "duration": 550,
    "start_time": "2023-08-03T11:36:41.883Z"
   },
   {
    "duration": 243,
    "start_time": "2023-08-03T11:36:42.435Z"
   },
   {
    "duration": 353,
    "start_time": "2023-08-03T11:36:42.680Z"
   },
   {
    "duration": 312,
    "start_time": "2023-08-03T11:36:43.035Z"
   },
   {
    "duration": 329,
    "start_time": "2023-08-03T11:36:43.348Z"
   },
   {
    "duration": 10,
    "start_time": "2023-08-03T11:36:43.679Z"
   },
   {
    "duration": 198,
    "start_time": "2023-08-03T11:36:43.690Z"
   },
   {
    "duration": 3,
    "start_time": "2023-08-03T11:36:43.890Z"
   },
   {
    "duration": 335,
    "start_time": "2023-08-03T11:36:43.895Z"
   },
   {
    "duration": 5,
    "start_time": "2023-08-03T11:36:44.232Z"
   },
   {
    "duration": 181,
    "start_time": "2023-08-03T11:36:44.238Z"
   },
   {
    "duration": 118,
    "start_time": "2023-08-03T11:36:44.430Z"
   },
   {
    "duration": 6,
    "start_time": "2023-08-03T11:36:44.549Z"
   },
   {
    "duration": 31,
    "start_time": "2023-08-03T11:36:44.556Z"
   },
   {
    "duration": 16,
    "start_time": "2023-08-03T11:36:44.589Z"
   },
   {
    "duration": 49,
    "start_time": "2023-08-03T11:36:44.606Z"
   },
   {
    "duration": 22,
    "start_time": "2023-08-03T11:36:44.658Z"
   },
   {
    "duration": 10,
    "start_time": "2023-08-03T11:36:44.682Z"
   }
  ],
  "kernelspec": {
   "display_name": "Python 3 (ipykernel)",
   "language": "python",
   "name": "python3"
  },
  "language_info": {
   "codemirror_mode": {
    "name": "ipython",
    "version": 3
   },
   "file_extension": ".py",
   "mimetype": "text/x-python",
   "name": "python",
   "nbconvert_exporter": "python",
   "pygments_lexer": "ipython3",
   "version": "3.10.9"
  },
  "toc": {
   "base_numbering": 1,
   "nav_menu": {},
   "number_sections": true,
   "sideBar": true,
   "skip_h1_title": true,
   "title_cell": "Содержание",
   "title_sidebar": "Contents",
   "toc_cell": true,
   "toc_position": {},
   "toc_section_display": true,
   "toc_window_display": false
  }
 },
 "nbformat": 4,
 "nbformat_minor": 2
}
