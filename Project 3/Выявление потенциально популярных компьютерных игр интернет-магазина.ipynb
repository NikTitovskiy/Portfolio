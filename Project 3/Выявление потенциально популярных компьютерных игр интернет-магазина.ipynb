{
 "cells": [
  {
   "cell_type": "markdown",
   "metadata": {},
   "source": [
    "# Сборный проект № 1"
   ]
  },
  {
   "cell_type": "markdown",
   "metadata": {},
   "source": [
    "# Оглавление\n",
    "\n",
    "1. [Описание проекта](#one)\n",
    "\n",
    "2. [Загрузка данных и знакомство с ними](#two)\n",
    "\n",
    "3. [Подготовка данных](#three)\n",
    "\n",
    "4. [Исследовательский анализ данных](#four)\n",
    "\n",
    "5. [Портрет пользователя каждого региона](#five)\n",
    "\n",
    "6. [Проверка гипотез](#six)\n",
    "\n",
    "7. [Общий вывод](#seven)"
   ]
  },
  {
   "cell_type": "markdown",
   "metadata": {},
   "source": [
    "## Описание проекта <a id='one'></a>"
   ]
  },
  {
   "cell_type": "markdown",
   "metadata": {},
   "source": [
    "Вы работаете в интернет-магазине «Стримчик», который продаёт по всему миру компьютерные игры. Из открытых источников доступны исторические данные о продажах игр, оценки пользователей и экспертов, жанры и платформы (например, Xbox или PlayStation). Вам нужно выявить определяющие успешность игры закономерности. Это позволит сделать ставку на потенциально популярный продукт и спланировать рекламные кампании.\n",
    "\n",
    "Перед вами данные до 2016 года. Представим, что сейчас декабрь 2016 г., и вы планируете кампанию на 2017-й. Нужно отработать принцип работы с данными. Неважно, прогнозируете ли вы продажи на 2017 год по данным 2016-го или же 2027-й — по данным 2026 года.\n",
    "\n",
    "В наборе данных попадается аббревиатура ESRB (Entertainment Software Rating Board) — это ассоциация, определяющая возрастной рейтинг компьютерных игр. ESRB оценивает игровой контент и присваивает ему подходящую возрастную категорию, например, «Для взрослых», «Для детей младшего возраста» или «Для подростков»."
   ]
  },
  {
   "cell_type": "markdown",
   "metadata": {},
   "source": [
    "## Загрузка данных и знакомство с ними <a id='two'></a>"
   ]
  },
  {
   "cell_type": "code",
   "execution_count": 1,
   "metadata": {},
   "outputs": [],
   "source": [
    "import pandas as pd\n",
    "import matplotlib.pyplot as plt\n",
    "from scipy import stats as st"
   ]
  },
  {
   "cell_type": "code",
   "execution_count": 2,
   "metadata": {
    "scrolled": true
   },
   "outputs": [
    {
     "name": "stdout",
     "output_type": "stream",
     "text": [
      "<class 'pandas.core.frame.DataFrame'>\n",
      "RangeIndex: 16715 entries, 0 to 16714\n",
      "Data columns (total 11 columns):\n",
      " #   Column           Non-Null Count  Dtype  \n",
      "---  ------           --------------  -----  \n",
      " 0   Name             16713 non-null  object \n",
      " 1   Platform         16715 non-null  object \n",
      " 2   Year_of_Release  16446 non-null  float64\n",
      " 3   Genre            16713 non-null  object \n",
      " 4   NA_sales         16715 non-null  float64\n",
      " 5   EU_sales         16715 non-null  float64\n",
      " 6   JP_sales         16715 non-null  float64\n",
      " 7   Other_sales      16715 non-null  float64\n",
      " 8   Critic_Score     8137 non-null   float64\n",
      " 9   User_Score       10014 non-null  object \n",
      " 10  Rating           9949 non-null   object \n",
      "dtypes: float64(6), object(5)\n",
      "memory usage: 1.4+ MB\n"
     ]
    },
    {
     "data": {
      "text/html": [
       "<div>\n",
       "<style scoped>\n",
       "    .dataframe tbody tr th:only-of-type {\n",
       "        vertical-align: middle;\n",
       "    }\n",
       "\n",
       "    .dataframe tbody tr th {\n",
       "        vertical-align: top;\n",
       "    }\n",
       "\n",
       "    .dataframe thead th {\n",
       "        text-align: right;\n",
       "    }\n",
       "</style>\n",
       "<table border=\"1\" class=\"dataframe\">\n",
       "  <thead>\n",
       "    <tr style=\"text-align: right;\">\n",
       "      <th></th>\n",
       "      <th>Name</th>\n",
       "      <th>Platform</th>\n",
       "      <th>Year_of_Release</th>\n",
       "      <th>Genre</th>\n",
       "      <th>NA_sales</th>\n",
       "      <th>EU_sales</th>\n",
       "      <th>JP_sales</th>\n",
       "      <th>Other_sales</th>\n",
       "      <th>Critic_Score</th>\n",
       "      <th>User_Score</th>\n",
       "      <th>Rating</th>\n",
       "    </tr>\n",
       "  </thead>\n",
       "  <tbody>\n",
       "    <tr>\n",
       "      <th>0</th>\n",
       "      <td>Wii Sports</td>\n",
       "      <td>Wii</td>\n",
       "      <td>2006.0</td>\n",
       "      <td>Sports</td>\n",
       "      <td>41.36</td>\n",
       "      <td>28.96</td>\n",
       "      <td>3.77</td>\n",
       "      <td>8.45</td>\n",
       "      <td>76.0</td>\n",
       "      <td>8</td>\n",
       "      <td>E</td>\n",
       "    </tr>\n",
       "    <tr>\n",
       "      <th>1</th>\n",
       "      <td>Super Mario Bros.</td>\n",
       "      <td>NES</td>\n",
       "      <td>1985.0</td>\n",
       "      <td>Platform</td>\n",
       "      <td>29.08</td>\n",
       "      <td>3.58</td>\n",
       "      <td>6.81</td>\n",
       "      <td>0.77</td>\n",
       "      <td>NaN</td>\n",
       "      <td>NaN</td>\n",
       "      <td>NaN</td>\n",
       "    </tr>\n",
       "    <tr>\n",
       "      <th>2</th>\n",
       "      <td>Mario Kart Wii</td>\n",
       "      <td>Wii</td>\n",
       "      <td>2008.0</td>\n",
       "      <td>Racing</td>\n",
       "      <td>15.68</td>\n",
       "      <td>12.76</td>\n",
       "      <td>3.79</td>\n",
       "      <td>3.29</td>\n",
       "      <td>82.0</td>\n",
       "      <td>8.3</td>\n",
       "      <td>E</td>\n",
       "    </tr>\n",
       "    <tr>\n",
       "      <th>3</th>\n",
       "      <td>Wii Sports Resort</td>\n",
       "      <td>Wii</td>\n",
       "      <td>2009.0</td>\n",
       "      <td>Sports</td>\n",
       "      <td>15.61</td>\n",
       "      <td>10.93</td>\n",
       "      <td>3.28</td>\n",
       "      <td>2.95</td>\n",
       "      <td>80.0</td>\n",
       "      <td>8</td>\n",
       "      <td>E</td>\n",
       "    </tr>\n",
       "    <tr>\n",
       "      <th>4</th>\n",
       "      <td>Pokemon Red/Pokemon Blue</td>\n",
       "      <td>GB</td>\n",
       "      <td>1996.0</td>\n",
       "      <td>Role-Playing</td>\n",
       "      <td>11.27</td>\n",
       "      <td>8.89</td>\n",
       "      <td>10.22</td>\n",
       "      <td>1.00</td>\n",
       "      <td>NaN</td>\n",
       "      <td>NaN</td>\n",
       "      <td>NaN</td>\n",
       "    </tr>\n",
       "  </tbody>\n",
       "</table>\n",
       "</div>"
      ],
      "text/plain": [
       "                       Name Platform  Year_of_Release         Genre  NA_sales  \\\n",
       "0                Wii Sports      Wii           2006.0        Sports     41.36   \n",
       "1         Super Mario Bros.      NES           1985.0      Platform     29.08   \n",
       "2            Mario Kart Wii      Wii           2008.0        Racing     15.68   \n",
       "3         Wii Sports Resort      Wii           2009.0        Sports     15.61   \n",
       "4  Pokemon Red/Pokemon Blue       GB           1996.0  Role-Playing     11.27   \n",
       "\n",
       "   EU_sales  JP_sales  Other_sales  Critic_Score User_Score Rating  \n",
       "0     28.96      3.77         8.45          76.0          8      E  \n",
       "1      3.58      6.81         0.77           NaN        NaN    NaN  \n",
       "2     12.76      3.79         3.29          82.0        8.3      E  \n",
       "3     10.93      3.28         2.95          80.0          8      E  \n",
       "4      8.89     10.22         1.00           NaN        NaN    NaN  "
      ]
     },
     "metadata": {},
     "output_type": "display_data"
    },
    {
     "data": {
      "text/html": [
       "<div>\n",
       "<style scoped>\n",
       "    .dataframe tbody tr th:only-of-type {\n",
       "        vertical-align: middle;\n",
       "    }\n",
       "\n",
       "    .dataframe tbody tr th {\n",
       "        vertical-align: top;\n",
       "    }\n",
       "\n",
       "    .dataframe thead th {\n",
       "        text-align: right;\n",
       "    }\n",
       "</style>\n",
       "<table border=\"1\" class=\"dataframe\">\n",
       "  <thead>\n",
       "    <tr style=\"text-align: right;\">\n",
       "      <th></th>\n",
       "      <th>Name</th>\n",
       "      <th>Platform</th>\n",
       "      <th>Year_of_Release</th>\n",
       "      <th>Genre</th>\n",
       "      <th>NA_sales</th>\n",
       "      <th>EU_sales</th>\n",
       "      <th>JP_sales</th>\n",
       "      <th>Other_sales</th>\n",
       "      <th>Critic_Score</th>\n",
       "      <th>User_Score</th>\n",
       "      <th>Rating</th>\n",
       "    </tr>\n",
       "  </thead>\n",
       "  <tbody>\n",
       "    <tr>\n",
       "      <th>16710</th>\n",
       "      <td>Samurai Warriors: Sanada Maru</td>\n",
       "      <td>PS3</td>\n",
       "      <td>2016.0</td>\n",
       "      <td>Action</td>\n",
       "      <td>0.00</td>\n",
       "      <td>0.00</td>\n",
       "      <td>0.01</td>\n",
       "      <td>0.0</td>\n",
       "      <td>NaN</td>\n",
       "      <td>NaN</td>\n",
       "      <td>NaN</td>\n",
       "    </tr>\n",
       "    <tr>\n",
       "      <th>16711</th>\n",
       "      <td>LMA Manager 2007</td>\n",
       "      <td>X360</td>\n",
       "      <td>2006.0</td>\n",
       "      <td>Sports</td>\n",
       "      <td>0.00</td>\n",
       "      <td>0.01</td>\n",
       "      <td>0.00</td>\n",
       "      <td>0.0</td>\n",
       "      <td>NaN</td>\n",
       "      <td>NaN</td>\n",
       "      <td>NaN</td>\n",
       "    </tr>\n",
       "    <tr>\n",
       "      <th>16712</th>\n",
       "      <td>Haitaka no Psychedelica</td>\n",
       "      <td>PSV</td>\n",
       "      <td>2016.0</td>\n",
       "      <td>Adventure</td>\n",
       "      <td>0.00</td>\n",
       "      <td>0.00</td>\n",
       "      <td>0.01</td>\n",
       "      <td>0.0</td>\n",
       "      <td>NaN</td>\n",
       "      <td>NaN</td>\n",
       "      <td>NaN</td>\n",
       "    </tr>\n",
       "    <tr>\n",
       "      <th>16713</th>\n",
       "      <td>Spirits &amp; Spells</td>\n",
       "      <td>GBA</td>\n",
       "      <td>2003.0</td>\n",
       "      <td>Platform</td>\n",
       "      <td>0.01</td>\n",
       "      <td>0.00</td>\n",
       "      <td>0.00</td>\n",
       "      <td>0.0</td>\n",
       "      <td>NaN</td>\n",
       "      <td>NaN</td>\n",
       "      <td>NaN</td>\n",
       "    </tr>\n",
       "    <tr>\n",
       "      <th>16714</th>\n",
       "      <td>Winning Post 8 2016</td>\n",
       "      <td>PSV</td>\n",
       "      <td>2016.0</td>\n",
       "      <td>Simulation</td>\n",
       "      <td>0.00</td>\n",
       "      <td>0.00</td>\n",
       "      <td>0.01</td>\n",
       "      <td>0.0</td>\n",
       "      <td>NaN</td>\n",
       "      <td>NaN</td>\n",
       "      <td>NaN</td>\n",
       "    </tr>\n",
       "  </tbody>\n",
       "</table>\n",
       "</div>"
      ],
      "text/plain": [
       "                                Name Platform  Year_of_Release       Genre  \\\n",
       "16710  Samurai Warriors: Sanada Maru      PS3           2016.0      Action   \n",
       "16711               LMA Manager 2007     X360           2006.0      Sports   \n",
       "16712        Haitaka no Psychedelica      PSV           2016.0   Adventure   \n",
       "16713               Spirits & Spells      GBA           2003.0    Platform   \n",
       "16714            Winning Post 8 2016      PSV           2016.0  Simulation   \n",
       "\n",
       "       NA_sales  EU_sales  JP_sales  Other_sales  Critic_Score User_Score  \\\n",
       "16710      0.00      0.00      0.01          0.0           NaN        NaN   \n",
       "16711      0.00      0.01      0.00          0.0           NaN        NaN   \n",
       "16712      0.00      0.00      0.01          0.0           NaN        NaN   \n",
       "16713      0.01      0.00      0.00          0.0           NaN        NaN   \n",
       "16714      0.00      0.00      0.01          0.0           NaN        NaN   \n",
       "\n",
       "      Rating  \n",
       "16710    NaN  \n",
       "16711    NaN  \n",
       "16712    NaN  \n",
       "16713    NaN  \n",
       "16714    NaN  "
      ]
     },
     "metadata": {},
     "output_type": "display_data"
    },
    {
     "data": {
      "text/plain": [
       "Index(['Name', 'Platform', 'Year_of_Release', 'Genre', 'NA_sales', 'EU_sales',\n",
       "       'JP_sales', 'Other_sales', 'Critic_Score', 'User_Score', 'Rating'],\n",
       "      dtype='object')"
      ]
     },
     "execution_count": 2,
     "metadata": {},
     "output_type": "execute_result"
    }
   ],
   "source": [
    "data = pd.read_csv('/datasets/games.csv')\n",
    "data.info()#общая информация \n",
    "display(data.head())\n",
    "display(data.tail())\n",
    "data.columns#контроль названий столбцов"
   ]
  },
  {
   "cell_type": "code",
   "execution_count": 3,
   "metadata": {
    "scrolled": true
   },
   "outputs": [
    {
     "data": {
      "image/png": "[encoded data removed]",
      "text/plain": [
       "<Figure size 720x1080 with 6 Axes>"
      ]
     },
     "metadata": {
      "needs_background": "light"
     },
     "output_type": "display_data"
    }
   ],
   "source": [
    "data.hist(figsize=(10, 15))#гистограммы по всей таблице\n",
    "plt.show()"
   ]
  },
  {
   "cell_type": "markdown",
   "metadata": {},
   "source": [
    "**Вывод: всего в датафрейме 16715 строк. Названия всех столбцов необходимо привести к строчному виду (пробелов в названиях нет, \"змеиный\" регистр соблюден). Нет пропущенных значений в столбцах с платформой и продажами в Северной Америке, Европе, Японии, других странах. В остальных столбцах есть пропущенные значения. Необходимо заменить типы данных в некоторых столбцах.**    "
   ]
  },
  {
   "cell_type": "markdown",
   "metadata": {},
   "source": [
    "## Подготовка данных <a id='three'></a>"
   ]
  },
  {
   "cell_type": "markdown",
   "metadata": {},
   "source": [
    "Переименование столбцов:"
   ]
  },
  {
   "cell_type": "code",
   "execution_count": 4,
   "metadata": {
    "scrolled": true
   },
   "outputs": [
    {
     "data": {
      "text/html": [
       "<div>\n",
       "<style scoped>\n",
       "    .dataframe tbody tr th:only-of-type {\n",
       "        vertical-align: middle;\n",
       "    }\n",
       "\n",
       "    .dataframe tbody tr th {\n",
       "        vertical-align: top;\n",
       "    }\n",
       "\n",
       "    .dataframe thead th {\n",
       "        text-align: right;\n",
       "    }\n",
       "</style>\n",
       "<table border=\"1\" class=\"dataframe\">\n",
       "  <thead>\n",
       "    <tr style=\"text-align: right;\">\n",
       "      <th></th>\n",
       "      <th>name</th>\n",
       "      <th>platform</th>\n",
       "      <th>year_of_release</th>\n",
       "      <th>genre</th>\n",
       "      <th>na_sales</th>\n",
       "      <th>eu_sales</th>\n",
       "      <th>jp_sales</th>\n",
       "      <th>other_sales</th>\n",
       "      <th>critic_score</th>\n",
       "      <th>user_score</th>\n",
       "      <th>rating</th>\n",
       "    </tr>\n",
       "  </thead>\n",
       "  <tbody>\n",
       "    <tr>\n",
       "      <th>0</th>\n",
       "      <td>Wii Sports</td>\n",
       "      <td>Wii</td>\n",
       "      <td>2006.0</td>\n",
       "      <td>Sports</td>\n",
       "      <td>41.36</td>\n",
       "      <td>28.96</td>\n",
       "      <td>3.77</td>\n",
       "      <td>8.45</td>\n",
       "      <td>76.0</td>\n",
       "      <td>8</td>\n",
       "      <td>E</td>\n",
       "    </tr>\n",
       "    <tr>\n",
       "      <th>1</th>\n",
       "      <td>Super Mario Bros.</td>\n",
       "      <td>NES</td>\n",
       "      <td>1985.0</td>\n",
       "      <td>Platform</td>\n",
       "      <td>29.08</td>\n",
       "      <td>3.58</td>\n",
       "      <td>6.81</td>\n",
       "      <td>0.77</td>\n",
       "      <td>NaN</td>\n",
       "      <td>NaN</td>\n",
       "      <td>NaN</td>\n",
       "    </tr>\n",
       "    <tr>\n",
       "      <th>2</th>\n",
       "      <td>Mario Kart Wii</td>\n",
       "      <td>Wii</td>\n",
       "      <td>2008.0</td>\n",
       "      <td>Racing</td>\n",
       "      <td>15.68</td>\n",
       "      <td>12.76</td>\n",
       "      <td>3.79</td>\n",
       "      <td>3.29</td>\n",
       "      <td>82.0</td>\n",
       "      <td>8.3</td>\n",
       "      <td>E</td>\n",
       "    </tr>\n",
       "    <tr>\n",
       "      <th>3</th>\n",
       "      <td>Wii Sports Resort</td>\n",
       "      <td>Wii</td>\n",
       "      <td>2009.0</td>\n",
       "      <td>Sports</td>\n",
       "      <td>15.61</td>\n",
       "      <td>10.93</td>\n",
       "      <td>3.28</td>\n",
       "      <td>2.95</td>\n",
       "      <td>80.0</td>\n",
       "      <td>8</td>\n",
       "      <td>E</td>\n",
       "    </tr>\n",
       "    <tr>\n",
       "      <th>4</th>\n",
       "      <td>Pokemon Red/Pokemon Blue</td>\n",
       "      <td>GB</td>\n",
       "      <td>1996.0</td>\n",
       "      <td>Role-Playing</td>\n",
       "      <td>11.27</td>\n",
       "      <td>8.89</td>\n",
       "      <td>10.22</td>\n",
       "      <td>1.00</td>\n",
       "      <td>NaN</td>\n",
       "      <td>NaN</td>\n",
       "      <td>NaN</td>\n",
       "    </tr>\n",
       "  </tbody>\n",
       "</table>\n",
       "</div>"
      ],
      "text/plain": [
       "                       name platform  year_of_release         genre  na_sales  \\\n",
       "0                Wii Sports      Wii           2006.0        Sports     41.36   \n",
       "1         Super Mario Bros.      NES           1985.0      Platform     29.08   \n",
       "2            Mario Kart Wii      Wii           2008.0        Racing     15.68   \n",
       "3         Wii Sports Resort      Wii           2009.0        Sports     15.61   \n",
       "4  Pokemon Red/Pokemon Blue       GB           1996.0  Role-Playing     11.27   \n",
       "\n",
       "   eu_sales  jp_sales  other_sales  critic_score user_score rating  \n",
       "0     28.96      3.77         8.45          76.0          8      E  \n",
       "1      3.58      6.81         0.77           NaN        NaN    NaN  \n",
       "2     12.76      3.79         3.29          82.0        8.3      E  \n",
       "3     10.93      3.28         2.95          80.0          8      E  \n",
       "4      8.89     10.22         1.00           NaN        NaN    NaN  "
      ]
     },
     "execution_count": 4,
     "metadata": {},
     "output_type": "execute_result"
    }
   ],
   "source": [
    "data = data.rename(columns={'Name':'name', 'Platform':'platform', 'Year_of_Release':'year_of_release', 'Genre':'genre', \n",
    "                            'NA_sales':'na_sales', 'EU_sales':'eu_sales', 'JP_sales':'jp_sales', 'Other_sales':'other_sales',\n",
    "                            'Critic_Score':'critic_score', 'User_Score':'user_score', 'Rating':'rating'})\n",
    "data.head()"
   ]
  },
  {
   "cell_type": "markdown",
   "metadata": {},
   "source": [
    "Работа с пропущенными значениями и замена типов данных:"
   ]
  },
  {
   "cell_type": "code",
   "execution_count": 5,
   "metadata": {
    "scrolled": true
   },
   "outputs": [
    {
     "data": {
      "text/plain": [
       "name                  2\n",
       "platform              0\n",
       "year_of_release     269\n",
       "genre                 2\n",
       "na_sales              0\n",
       "eu_sales              0\n",
       "jp_sales              0\n",
       "other_sales           0\n",
       "critic_score       8578\n",
       "user_score         6701\n",
       "rating             6766\n",
       "dtype: int64"
      ]
     },
     "metadata": {},
     "output_type": "display_data"
    }
   ],
   "source": [
    "display(data.isna().sum())\n",
    "data_before_clean = data['platform'].count()#количество строк до удаления"
   ]
  },
  {
   "cell_type": "code",
   "execution_count": 6,
   "metadata": {
    "scrolled": false
   },
   "outputs": [
    {
     "name": "stdout",
     "output_type": "stream",
     "text": [
      "В датафрейме представлены данные с 1980.0 до 2016.0, таким образом за 36.0 лет.\n"
     ]
    }
   ],
   "source": [
    "first_year = data['year_of_release'].min()\n",
    "last_year = data['year_of_release'].max()\n",
    "print(f'В датафрейме представлены данные с {first_year} до {last_year}, таким образом за {last_year-first_year} лет.')"
   ]
  },
  {
   "cell_type": "code",
   "execution_count": 7,
   "metadata": {
    "scrolled": false
   },
   "outputs": [
    {
     "name": "stdout",
     "output_type": "stream",
     "text": [
      "Число строк с пропущенным годом выпуска составляет 1.6%\n"
     ]
    }
   ],
   "source": [
    "percent_of_na_year = data['year_of_release'].isna().sum() / data['platform'].count()\n",
    "print(f'Число строк с пропущенным годом выпуска составляет {percent_of_na_year:.1%}')"
   ]
  },
  {
   "cell_type": "markdown",
   "metadata": {},
   "source": [
    "Для экономии вычислительной памяти переведем значения столбца `year_of_release` в целые числа, однако первоначально удалим строки с пропущенным годом выпуска, поскольку они занимают всего 1,6 % от всех данных. Также удалим строки с пропущенными названием и жанром игры, поскольку их крайне мало."
   ]
  },
  {
   "cell_type": "code",
   "execution_count": 8,
   "metadata": {
    "scrolled": false
   },
   "outputs": [
    {
     "data": {
      "text/plain": [
       "name                  0\n",
       "platform              0\n",
       "year_of_release       0\n",
       "genre                 0\n",
       "na_sales              0\n",
       "eu_sales              0\n",
       "jp_sales              0\n",
       "other_sales           0\n",
       "critic_score       8461\n",
       "user_score         6605\n",
       "rating             6676\n",
       "dtype: int64"
      ]
     },
     "execution_count": 8,
     "metadata": {},
     "output_type": "execute_result"
    }
   ],
   "source": [
    "data = data.dropna(subset=['year_of_release', 'name', 'genre']).reset_index(drop=True)\n",
    "data['year_of_release'] = data['year_of_release'].astype('int') \n",
    "data.isna().sum()"
   ]
  },
  {
   "cell_type": "markdown",
   "metadata": {},
   "source": [
    "Ознакомимся с оставшимися пропущенными значениями:"
   ]
  },
  {
   "cell_type": "code",
   "execution_count": 9,
   "metadata": {},
   "outputs": [
    {
     "name": "stdout",
     "output_type": "stream",
     "text": [
      "Число строк с пропущенным рейтингом составляет 40.2%, а для столбцов с оценками критиков и рейтингом еще больше.\n"
     ]
    }
   ],
   "source": [
    "percent_of_na_user_score = data['user_score'].isna().sum() / data['platform'].count()\n",
    "print(f'Число строк с пропущенным рейтингом составляет {percent_of_na_user_score:.1%}, а для столбцов с оценками критиков и рейтингом еще больше.')"
   ]
  },
  {
   "cell_type": "code",
   "execution_count": 10,
   "metadata": {
    "scrolled": true
   },
   "outputs": [
    {
     "data": {
      "text/plain": [
       "array([76., nan, 82., 80., 89., 58., 87., 91., 61., 97., 95., 77., 88.,\n",
       "       83., 94., 93., 85., 86., 98., 96., 90., 84., 73., 74., 78., 92.,\n",
       "       71., 72., 68., 62., 49., 67., 81., 66., 56., 79., 70., 59., 64.,\n",
       "       75., 60., 63., 69., 50., 25., 42., 44., 55., 48., 57., 29., 47.,\n",
       "       65., 54., 20., 53., 37., 38., 33., 52., 30., 32., 43., 45., 51.,\n",
       "       40., 46., 39., 34., 41., 36., 31., 27., 35., 26., 19., 28., 23.,\n",
       "       24., 21., 17., 13.])"
      ]
     },
     "metadata": {},
     "output_type": "display_data"
    },
    {
     "data": {
      "text/plain": [
       "array(['8', nan, '8.3', '8.5', '6.6', '8.4', '8.6', '7.7', '6.3', '7.4',\n",
       "       '8.2', '9', '7.9', '8.1', '8.7', '7.1', '3.4', '5.3', '4.8', '3.2',\n",
       "       '8.9', '6.4', '7.8', '7.5', '2.6', '7.2', '9.2', '7', '7.3', '4.3',\n",
       "       '7.6', '5.7', '5', '9.1', '6.5', 'tbd', '8.8', '6.9', '9.4', '6.8',\n",
       "       '6.1', '6.7', '5.4', '4', '4.9', '4.5', '9.3', '6.2', '4.2', '6',\n",
       "       '3.7', '4.1', '5.8', '5.6', '5.5', '4.4', '4.6', '5.9', '3.9',\n",
       "       '3.1', '2.9', '5.2', '3.3', '4.7', '5.1', '3.5', '2.5', '1.9', '3',\n",
       "       '2.7', '2.2', '2', '9.5', '2.1', '3.6', '2.8', '1.8', '3.8', '0',\n",
       "       '1.6', '9.6', '2.4', '1.7', '1.1', '0.3', '1.5', '0.7', '1.2',\n",
       "       '2.3', '0.5', '1.3', '0.2', '0.6', '1.4', '0.9', '1', '9.7'],\n",
       "      dtype=object)"
      ]
     },
     "metadata": {},
     "output_type": "display_data"
    },
    {
     "data": {
      "text/plain": [
       "array(['E', nan, 'M', 'T', 'E10+', 'K-A', 'AO', 'EC', 'RP'], dtype=object)"
      ]
     },
     "execution_count": 10,
     "metadata": {},
     "output_type": "execute_result"
    }
   ],
   "source": [
    "display(data['critic_score'].unique())\n",
    "display(data['user_score'].unique())\n",
    "data['rating'].unique()"
   ]
  },
  {
   "cell_type": "code",
   "execution_count": 11,
   "metadata": {},
   "outputs": [
    {
     "data": {
      "text/plain": [
       "2376"
      ]
     },
     "execution_count": 11,
     "metadata": {},
     "output_type": "execute_result"
    }
   ],
   "source": [
    "data.loc[data['user_score'] == 'tbd', 'user_score'].count()"
   ]
  },
  {
   "cell_type": "markdown",
   "metadata": {},
   "source": [
    "В данных 2376 строк со оценкой пользователей `tbd`, вероятно, это просто пропущенные значения и можно их заменить на nan. Затем изменим тип данных для столбца на вещественный."
   ]
  },
  {
   "cell_type": "code",
   "execution_count": 12,
   "metadata": {
    "scrolled": true
   },
   "outputs": [
    {
     "data": {
      "text/plain": [
       "array([8. , nan, 8.3, 8.5, 6.6, 8.4, 8.6, 7.7, 6.3, 7.4, 8.2, 9. , 7.9,\n",
       "       8.1, 8.7, 7.1, 3.4, 5.3, 4.8, 3.2, 8.9, 6.4, 7.8, 7.5, 2.6, 7.2,\n",
       "       9.2, 7. , 7.3, 4.3, 7.6, 5.7, 5. , 9.1, 6.5, 8.8, 6.9, 9.4, 6.8,\n",
       "       6.1, 6.7, 5.4, 4. , 4.9, 4.5, 9.3, 6.2, 4.2, 6. , 3.7, 4.1, 5.8,\n",
       "       5.6, 5.5, 4.4, 4.6, 5.9, 3.9, 3.1, 2.9, 5.2, 3.3, 4.7, 5.1, 3.5,\n",
       "       2.5, 1.9, 3. , 2.7, 2.2, 2. , 9.5, 2.1, 3.6, 2.8, 1.8, 3.8, 0. ,\n",
       "       1.6, 9.6, 2.4, 1.7, 1.1, 0.3, 1.5, 0.7, 1.2, 2.3, 0.5, 1.3, 0.2,\n",
       "       0.6, 1.4, 0.9, 1. , 9.7])"
      ]
     },
     "metadata": {},
     "output_type": "display_data"
    },
    {
     "name": "stdout",
     "output_type": "stream",
     "text": [
      "<class 'pandas.core.frame.DataFrame'>\n",
      "RangeIndex: 16444 entries, 0 to 16443\n",
      "Data columns (total 11 columns):\n",
      " #   Column           Non-Null Count  Dtype  \n",
      "---  ------           --------------  -----  \n",
      " 0   name             16444 non-null  object \n",
      " 1   platform         16444 non-null  object \n",
      " 2   year_of_release  16444 non-null  int64  \n",
      " 3   genre            16444 non-null  object \n",
      " 4   na_sales         16444 non-null  float64\n",
      " 5   eu_sales         16444 non-null  float64\n",
      " 6   jp_sales         16444 non-null  float64\n",
      " 7   other_sales      16444 non-null  float64\n",
      " 8   critic_score     7983 non-null   float64\n",
      " 9   user_score       7463 non-null   float64\n",
      " 10  rating           9768 non-null   object \n",
      "dtypes: float64(6), int64(1), object(4)\n",
      "memory usage: 1.4+ MB\n"
     ]
    }
   ],
   "source": [
    "data.loc[data['user_score'] == 'tbd', 'user_score'] = float('nan')\n",
    "data['user_score'] = data['user_score'].astype('float')\n",
    "display(data['user_score'].unique())\n",
    "data.info()"
   ]
  },
  {
   "cell_type": "markdown",
   "metadata": {},
   "source": [
    "Пропуски в столбцах с оценками и рейтингом встречаются очень часто, поэтому удалить строки с пропусками нельзя, а заполнить каким-либо значением не представляется возможным, поскольку это может повлиять на результат. Пропуски в значениях могли возникнуть в результате того, что когда еще были старые игры им не могли ставить оценки и рейтинг, а потом они вышли из использования. Также могут быть пропуски для новых игр, потому что им не успели поставить оценки и рейтинг."
   ]
  },
  {
   "cell_type": "markdown",
   "metadata": {},
   "source": [
    "Проверка явных дубликатов:"
   ]
  },
  {
   "cell_type": "code",
   "execution_count": 13,
   "metadata": {
    "scrolled": true
   },
   "outputs": [
    {
     "data": {
      "text/plain": [
       "0"
      ]
     },
     "execution_count": 13,
     "metadata": {},
     "output_type": "execute_result"
    }
   ],
   "source": [
    "data.duplicated().sum()"
   ]
  },
  {
   "cell_type": "markdown",
   "metadata": {},
   "source": [
    "Явных дубликатов в датафрейме нет."
   ]
  },
  {
   "cell_type": "markdown",
   "metadata": {},
   "source": [
    "Проверка неявных дубликатов:"
   ]
  },
  {
   "cell_type": "code",
   "execution_count": 14,
   "metadata": {
    "scrolled": true
   },
   "outputs": [
    {
     "data": {
      "text/html": [
       "<div>\n",
       "<style scoped>\n",
       "    .dataframe tbody tr th:only-of-type {\n",
       "        vertical-align: middle;\n",
       "    }\n",
       "\n",
       "    .dataframe tbody tr th {\n",
       "        vertical-align: top;\n",
       "    }\n",
       "\n",
       "    .dataframe thead th {\n",
       "        text-align: right;\n",
       "    }\n",
       "</style>\n",
       "<table border=\"1\" class=\"dataframe\">\n",
       "  <thead>\n",
       "    <tr style=\"text-align: right;\">\n",
       "      <th></th>\n",
       "      <th>name</th>\n",
       "      <th>platform</th>\n",
       "      <th>year_of_release</th>\n",
       "    </tr>\n",
       "  </thead>\n",
       "  <tbody>\n",
       "    <tr>\n",
       "      <th>15969</th>\n",
       "      <td>Madden NFL 13</td>\n",
       "      <td>PS3</td>\n",
       "      <td>2012</td>\n",
       "    </tr>\n",
       "  </tbody>\n",
       "</table>\n",
       "</div>"
      ],
      "text/plain": [
       "                name platform  year_of_release\n",
       "15969  Madden NFL 13      PS3             2012"
      ]
     },
     "execution_count": 14,
     "metadata": {},
     "output_type": "execute_result"
    }
   ],
   "source": [
    "data_dup = data[['name', 'platform', 'year_of_release']]\n",
    "duplicated_data_dup = data_dup[data_dup.duplicated()].head()\n",
    "duplicated_data_dup"
   ]
  },
  {
   "cell_type": "markdown",
   "metadata": {},
   "source": [
    "Отмечается дублирование игры `Madden NFL 13` на `PS3` в `2012` года. Проверим это в основном датафрейме."
   ]
  },
  {
   "cell_type": "code",
   "execution_count": 15,
   "metadata": {
    "scrolled": false
   },
   "outputs": [
    {
     "data": {
      "text/html": [
       "<div>\n",
       "<style scoped>\n",
       "    .dataframe tbody tr th:only-of-type {\n",
       "        vertical-align: middle;\n",
       "    }\n",
       "\n",
       "    .dataframe tbody tr th {\n",
       "        vertical-align: top;\n",
       "    }\n",
       "\n",
       "    .dataframe thead th {\n",
       "        text-align: right;\n",
       "    }\n",
       "</style>\n",
       "<table border=\"1\" class=\"dataframe\">\n",
       "  <thead>\n",
       "    <tr style=\"text-align: right;\">\n",
       "      <th></th>\n",
       "      <th>name</th>\n",
       "      <th>platform</th>\n",
       "      <th>year_of_release</th>\n",
       "      <th>genre</th>\n",
       "      <th>na_sales</th>\n",
       "      <th>eu_sales</th>\n",
       "      <th>jp_sales</th>\n",
       "      <th>other_sales</th>\n",
       "      <th>critic_score</th>\n",
       "      <th>user_score</th>\n",
       "      <th>rating</th>\n",
       "    </tr>\n",
       "  </thead>\n",
       "  <tbody>\n",
       "    <tr>\n",
       "      <th>600</th>\n",
       "      <td>Madden NFL 13</td>\n",
       "      <td>PS3</td>\n",
       "      <td>2012</td>\n",
       "      <td>Sports</td>\n",
       "      <td>2.11</td>\n",
       "      <td>0.22</td>\n",
       "      <td>0.0</td>\n",
       "      <td>0.23</td>\n",
       "      <td>83.0</td>\n",
       "      <td>5.5</td>\n",
       "      <td>E</td>\n",
       "    </tr>\n",
       "    <tr>\n",
       "      <th>15969</th>\n",
       "      <td>Madden NFL 13</td>\n",
       "      <td>PS3</td>\n",
       "      <td>2012</td>\n",
       "      <td>Sports</td>\n",
       "      <td>0.00</td>\n",
       "      <td>0.01</td>\n",
       "      <td>0.0</td>\n",
       "      <td>0.00</td>\n",
       "      <td>83.0</td>\n",
       "      <td>5.5</td>\n",
       "      <td>E</td>\n",
       "    </tr>\n",
       "  </tbody>\n",
       "</table>\n",
       "</div>"
      ],
      "text/plain": [
       "                name platform  year_of_release   genre  na_sales  eu_sales  \\\n",
       "600    Madden NFL 13      PS3             2012  Sports      2.11      0.22   \n",
       "15969  Madden NFL 13      PS3             2012  Sports      0.00      0.01   \n",
       "\n",
       "       jp_sales  other_sales  critic_score  user_score rating  \n",
       "600         0.0         0.23          83.0         5.5      E  \n",
       "15969       0.0         0.00          83.0         5.5      E  "
      ]
     },
     "execution_count": 15,
     "metadata": {},
     "output_type": "execute_result"
    }
   ],
   "source": [
    "data.loc[(data['name'] == 'Madden NFL 13') & (data['platform'] == 'PS3') & (data['year_of_release'] == 2012)]"
   ]
  },
  {
   "cell_type": "markdown",
   "metadata": {},
   "source": [
    "Отмечается различие только в столбце `eu_sales`. Сложим выручку по Европе и удалим строку с индексом 15969."
   ]
  },
  {
   "cell_type": "code",
   "execution_count": 16,
   "metadata": {},
   "outputs": [
    {
     "data": {
      "text/html": [
       "<div>\n",
       "<style scoped>\n",
       "    .dataframe tbody tr th:only-of-type {\n",
       "        vertical-align: middle;\n",
       "    }\n",
       "\n",
       "    .dataframe tbody tr th {\n",
       "        vertical-align: top;\n",
       "    }\n",
       "\n",
       "    .dataframe thead th {\n",
       "        text-align: right;\n",
       "    }\n",
       "</style>\n",
       "<table border=\"1\" class=\"dataframe\">\n",
       "  <thead>\n",
       "    <tr style=\"text-align: right;\">\n",
       "      <th></th>\n",
       "      <th>name</th>\n",
       "      <th>platform</th>\n",
       "      <th>year_of_release</th>\n",
       "      <th>genre</th>\n",
       "      <th>na_sales</th>\n",
       "      <th>eu_sales</th>\n",
       "      <th>jp_sales</th>\n",
       "      <th>other_sales</th>\n",
       "      <th>critic_score</th>\n",
       "      <th>user_score</th>\n",
       "      <th>rating</th>\n",
       "    </tr>\n",
       "  </thead>\n",
       "  <tbody>\n",
       "    <tr>\n",
       "      <th>0</th>\n",
       "      <td>Wii Sports</td>\n",
       "      <td>Wii</td>\n",
       "      <td>2006</td>\n",
       "      <td>Sports</td>\n",
       "      <td>41.36</td>\n",
       "      <td>28.96</td>\n",
       "      <td>3.77</td>\n",
       "      <td>8.45</td>\n",
       "      <td>76.0</td>\n",
       "      <td>8.0</td>\n",
       "      <td>E</td>\n",
       "    </tr>\n",
       "    <tr>\n",
       "      <th>1</th>\n",
       "      <td>Super Mario Bros.</td>\n",
       "      <td>NES</td>\n",
       "      <td>1985</td>\n",
       "      <td>Platform</td>\n",
       "      <td>29.08</td>\n",
       "      <td>3.58</td>\n",
       "      <td>6.81</td>\n",
       "      <td>0.77</td>\n",
       "      <td>NaN</td>\n",
       "      <td>NaN</td>\n",
       "      <td>NaN</td>\n",
       "    </tr>\n",
       "    <tr>\n",
       "      <th>2</th>\n",
       "      <td>Mario Kart Wii</td>\n",
       "      <td>Wii</td>\n",
       "      <td>2008</td>\n",
       "      <td>Racing</td>\n",
       "      <td>15.68</td>\n",
       "      <td>12.76</td>\n",
       "      <td>3.79</td>\n",
       "      <td>3.29</td>\n",
       "      <td>82.0</td>\n",
       "      <td>8.3</td>\n",
       "      <td>E</td>\n",
       "    </tr>\n",
       "    <tr>\n",
       "      <th>3</th>\n",
       "      <td>Wii Sports Resort</td>\n",
       "      <td>Wii</td>\n",
       "      <td>2009</td>\n",
       "      <td>Sports</td>\n",
       "      <td>15.61</td>\n",
       "      <td>10.93</td>\n",
       "      <td>3.28</td>\n",
       "      <td>2.95</td>\n",
       "      <td>80.0</td>\n",
       "      <td>8.0</td>\n",
       "      <td>E</td>\n",
       "    </tr>\n",
       "    <tr>\n",
       "      <th>4</th>\n",
       "      <td>Pokemon Red/Pokemon Blue</td>\n",
       "      <td>GB</td>\n",
       "      <td>1996</td>\n",
       "      <td>Role-Playing</td>\n",
       "      <td>11.27</td>\n",
       "      <td>8.89</td>\n",
       "      <td>10.22</td>\n",
       "      <td>1.00</td>\n",
       "      <td>NaN</td>\n",
       "      <td>NaN</td>\n",
       "      <td>NaN</td>\n",
       "    </tr>\n",
       "    <tr>\n",
       "      <th>...</th>\n",
       "      <td>...</td>\n",
       "      <td>...</td>\n",
       "      <td>...</td>\n",
       "      <td>...</td>\n",
       "      <td>...</td>\n",
       "      <td>...</td>\n",
       "      <td>...</td>\n",
       "      <td>...</td>\n",
       "      <td>...</td>\n",
       "      <td>...</td>\n",
       "      <td>...</td>\n",
       "    </tr>\n",
       "    <tr>\n",
       "      <th>16438</th>\n",
       "      <td>Samurai Warriors: Sanada Maru</td>\n",
       "      <td>PS3</td>\n",
       "      <td>2016</td>\n",
       "      <td>Action</td>\n",
       "      <td>0.00</td>\n",
       "      <td>0.00</td>\n",
       "      <td>0.01</td>\n",
       "      <td>0.00</td>\n",
       "      <td>NaN</td>\n",
       "      <td>NaN</td>\n",
       "      <td>NaN</td>\n",
       "    </tr>\n",
       "    <tr>\n",
       "      <th>16439</th>\n",
       "      <td>LMA Manager 2007</td>\n",
       "      <td>X360</td>\n",
       "      <td>2006</td>\n",
       "      <td>Sports</td>\n",
       "      <td>0.00</td>\n",
       "      <td>0.01</td>\n",
       "      <td>0.00</td>\n",
       "      <td>0.00</td>\n",
       "      <td>NaN</td>\n",
       "      <td>NaN</td>\n",
       "      <td>NaN</td>\n",
       "    </tr>\n",
       "    <tr>\n",
       "      <th>16440</th>\n",
       "      <td>Haitaka no Psychedelica</td>\n",
       "      <td>PSV</td>\n",
       "      <td>2016</td>\n",
       "      <td>Adventure</td>\n",
       "      <td>0.00</td>\n",
       "      <td>0.00</td>\n",
       "      <td>0.01</td>\n",
       "      <td>0.00</td>\n",
       "      <td>NaN</td>\n",
       "      <td>NaN</td>\n",
       "      <td>NaN</td>\n",
       "    </tr>\n",
       "    <tr>\n",
       "      <th>16441</th>\n",
       "      <td>Spirits &amp; Spells</td>\n",
       "      <td>GBA</td>\n",
       "      <td>2003</td>\n",
       "      <td>Platform</td>\n",
       "      <td>0.01</td>\n",
       "      <td>0.00</td>\n",
       "      <td>0.00</td>\n",
       "      <td>0.00</td>\n",
       "      <td>NaN</td>\n",
       "      <td>NaN</td>\n",
       "      <td>NaN</td>\n",
       "    </tr>\n",
       "    <tr>\n",
       "      <th>16442</th>\n",
       "      <td>Winning Post 8 2016</td>\n",
       "      <td>PSV</td>\n",
       "      <td>2016</td>\n",
       "      <td>Simulation</td>\n",
       "      <td>0.00</td>\n",
       "      <td>0.00</td>\n",
       "      <td>0.01</td>\n",
       "      <td>0.00</td>\n",
       "      <td>NaN</td>\n",
       "      <td>NaN</td>\n",
       "      <td>NaN</td>\n",
       "    </tr>\n",
       "  </tbody>\n",
       "</table>\n",
       "<p>16443 rows × 11 columns</p>\n",
       "</div>"
      ],
      "text/plain": [
       "                                name platform  year_of_release         genre  \\\n",
       "0                         Wii Sports      Wii             2006        Sports   \n",
       "1                  Super Mario Bros.      NES             1985      Platform   \n",
       "2                     Mario Kart Wii      Wii             2008        Racing   \n",
       "3                  Wii Sports Resort      Wii             2009        Sports   \n",
       "4           Pokemon Red/Pokemon Blue       GB             1996  Role-Playing   \n",
       "...                              ...      ...              ...           ...   \n",
       "16438  Samurai Warriors: Sanada Maru      PS3             2016        Action   \n",
       "16439               LMA Manager 2007     X360             2006        Sports   \n",
       "16440        Haitaka no Psychedelica      PSV             2016     Adventure   \n",
       "16441               Spirits & Spells      GBA             2003      Platform   \n",
       "16442            Winning Post 8 2016      PSV             2016    Simulation   \n",
       "\n",
       "       na_sales  eu_sales  jp_sales  other_sales  critic_score  user_score  \\\n",
       "0         41.36     28.96      3.77         8.45          76.0         8.0   \n",
       "1         29.08      3.58      6.81         0.77           NaN         NaN   \n",
       "2         15.68     12.76      3.79         3.29          82.0         8.3   \n",
       "3         15.61     10.93      3.28         2.95          80.0         8.0   \n",
       "4         11.27      8.89     10.22         1.00           NaN         NaN   \n",
       "...         ...       ...       ...          ...           ...         ...   \n",
       "16438      0.00      0.00      0.01         0.00           NaN         NaN   \n",
       "16439      0.00      0.01      0.00         0.00           NaN         NaN   \n",
       "16440      0.00      0.00      0.01         0.00           NaN         NaN   \n",
       "16441      0.01      0.00      0.00         0.00           NaN         NaN   \n",
       "16442      0.00      0.00      0.01         0.00           NaN         NaN   \n",
       "\n",
       "      rating  \n",
       "0          E  \n",
       "1        NaN  \n",
       "2          E  \n",
       "3          E  \n",
       "4        NaN  \n",
       "...      ...  \n",
       "16438    NaN  \n",
       "16439    NaN  \n",
       "16440    NaN  \n",
       "16441    NaN  \n",
       "16442    NaN  \n",
       "\n",
       "[16443 rows x 11 columns]"
      ]
     },
     "execution_count": 16,
     "metadata": {},
     "output_type": "execute_result"
    }
   ],
   "source": [
    "data.loc[600, 'eu_sales'] = data.loc[600, 'eu_sales'] + data.loc[15969, 'eu_sales']\n",
    "data = data.drop(15969).reset_index(drop=True)\n",
    "data"
   ]
  },
  {
   "cell_type": "markdown",
   "metadata": {},
   "source": [
    "Добавим столбец с суммарными продажами по всем регионам:"
   ]
  },
  {
   "cell_type": "code",
   "execution_count": 17,
   "metadata": {},
   "outputs": [
    {
     "data": {
      "text/html": [
       "<div>\n",
       "<style scoped>\n",
       "    .dataframe tbody tr th:only-of-type {\n",
       "        vertical-align: middle;\n",
       "    }\n",
       "\n",
       "    .dataframe tbody tr th {\n",
       "        vertical-align: top;\n",
       "    }\n",
       "\n",
       "    .dataframe thead th {\n",
       "        text-align: right;\n",
       "    }\n",
       "</style>\n",
       "<table border=\"1\" class=\"dataframe\">\n",
       "  <thead>\n",
       "    <tr style=\"text-align: right;\">\n",
       "      <th></th>\n",
       "      <th>year_of_release</th>\n",
       "      <th>na_sales</th>\n",
       "      <th>eu_sales</th>\n",
       "      <th>jp_sales</th>\n",
       "      <th>other_sales</th>\n",
       "      <th>critic_score</th>\n",
       "      <th>user_score</th>\n",
       "      <th>total_sales</th>\n",
       "    </tr>\n",
       "  </thead>\n",
       "  <tbody>\n",
       "    <tr>\n",
       "      <th>count</th>\n",
       "      <td>16443.000000</td>\n",
       "      <td>16443.000000</td>\n",
       "      <td>16443.000000</td>\n",
       "      <td>16443.000000</td>\n",
       "      <td>16443.000000</td>\n",
       "      <td>7982.000000</td>\n",
       "      <td>7462.000000</td>\n",
       "      <td>16443.000000</td>\n",
       "    </tr>\n",
       "    <tr>\n",
       "      <th>mean</th>\n",
       "      <td>2006.485921</td>\n",
       "      <td>0.264028</td>\n",
       "      <td>0.145939</td>\n",
       "      <td>0.078492</td>\n",
       "      <td>0.047597</td>\n",
       "      <td>68.992608</td>\n",
       "      <td>7.126548</td>\n",
       "      <td>0.536056</td>\n",
       "    </tr>\n",
       "    <tr>\n",
       "      <th>std</th>\n",
       "      <td>5.875546</td>\n",
       "      <td>0.818400</td>\n",
       "      <td>0.506731</td>\n",
       "      <td>0.311109</td>\n",
       "      <td>0.188011</td>\n",
       "      <td>13.920049</td>\n",
       "      <td>1.499429</td>\n",
       "      <td>1.558829</td>\n",
       "    </tr>\n",
       "    <tr>\n",
       "      <th>min</th>\n",
       "      <td>1980.000000</td>\n",
       "      <td>0.000000</td>\n",
       "      <td>0.000000</td>\n",
       "      <td>0.000000</td>\n",
       "      <td>0.000000</td>\n",
       "      <td>13.000000</td>\n",
       "      <td>0.000000</td>\n",
       "      <td>0.000000</td>\n",
       "    </tr>\n",
       "    <tr>\n",
       "      <th>25%</th>\n",
       "      <td>2003.000000</td>\n",
       "      <td>0.000000</td>\n",
       "      <td>0.000000</td>\n",
       "      <td>0.000000</td>\n",
       "      <td>0.000000</td>\n",
       "      <td>60.000000</td>\n",
       "      <td>6.400000</td>\n",
       "      <td>0.060000</td>\n",
       "    </tr>\n",
       "    <tr>\n",
       "      <th>50%</th>\n",
       "      <td>2007.000000</td>\n",
       "      <td>0.080000</td>\n",
       "      <td>0.020000</td>\n",
       "      <td>0.000000</td>\n",
       "      <td>0.010000</td>\n",
       "      <td>71.000000</td>\n",
       "      <td>7.500000</td>\n",
       "      <td>0.170000</td>\n",
       "    </tr>\n",
       "    <tr>\n",
       "      <th>75%</th>\n",
       "      <td>2010.000000</td>\n",
       "      <td>0.240000</td>\n",
       "      <td>0.110000</td>\n",
       "      <td>0.040000</td>\n",
       "      <td>0.030000</td>\n",
       "      <td>79.000000</td>\n",
       "      <td>8.200000</td>\n",
       "      <td>0.470000</td>\n",
       "    </tr>\n",
       "    <tr>\n",
       "      <th>max</th>\n",
       "      <td>2016.000000</td>\n",
       "      <td>41.360000</td>\n",
       "      <td>28.960000</td>\n",
       "      <td>10.220000</td>\n",
       "      <td>10.570000</td>\n",
       "      <td>98.000000</td>\n",
       "      <td>9.700000</td>\n",
       "      <td>82.540000</td>\n",
       "    </tr>\n",
       "  </tbody>\n",
       "</table>\n",
       "</div>"
      ],
      "text/plain": [
       "       year_of_release      na_sales      eu_sales      jp_sales  \\\n",
       "count     16443.000000  16443.000000  16443.000000  16443.000000   \n",
       "mean       2006.485921      0.264028      0.145939      0.078492   \n",
       "std           5.875546      0.818400      0.506731      0.311109   \n",
       "min        1980.000000      0.000000      0.000000      0.000000   \n",
       "25%        2003.000000      0.000000      0.000000      0.000000   \n",
       "50%        2007.000000      0.080000      0.020000      0.000000   \n",
       "75%        2010.000000      0.240000      0.110000      0.040000   \n",
       "max        2016.000000     41.360000     28.960000     10.220000   \n",
       "\n",
       "        other_sales  critic_score   user_score   total_sales  \n",
       "count  16443.000000   7982.000000  7462.000000  16443.000000  \n",
       "mean       0.047597     68.992608     7.126548      0.536056  \n",
       "std        0.188011     13.920049     1.499429      1.558829  \n",
       "min        0.000000     13.000000     0.000000      0.000000  \n",
       "25%        0.000000     60.000000     6.400000      0.060000  \n",
       "50%        0.010000     71.000000     7.500000      0.170000  \n",
       "75%        0.030000     79.000000     8.200000      0.470000  \n",
       "max       10.570000     98.000000     9.700000     82.540000  "
      ]
     },
     "execution_count": 17,
     "metadata": {},
     "output_type": "execute_result"
    }
   ],
   "source": [
    "data['total_sales'] = data['na_sales'] + data['eu_sales'] + data['jp_sales'] + data['other_sales']\n",
    "data.describe()"
   ]
  },
  {
   "cell_type": "code",
   "execution_count": 18,
   "metadata": {
    "scrolled": true
   },
   "outputs": [
    {
     "name": "stdout",
     "output_type": "stream",
     "text": [
      "После обработки данных из датафрейма было удалено 1.6% первоначальных данных.\n"
     ]
    }
   ],
   "source": [
    "data_after_clean = data['platform'].count()#количество строк после удаления\n",
    "clean = 1-data_after_clean/data_before_clean\n",
    "print(f'После обработки данных из датафрейма было удалено {clean:.1%} первоначальных данных.')"
   ]
  },
  {
   "cell_type": "markdown",
   "metadata": {},
   "source": [
    "**Вывод: в результате обработки данных были переименованы столбцы. Также были удалены строки с пропущенными значениями в столбцах `year_of_release`, `name`, `genre`. Таким образом, было удалено 1,6 % первоначальных данных. Пропущенные значения остались только в столбцах `critic_score`, `user_score`, `rating`, их заполнение не представляется возможным. Пропуски в значениях могли возникнуть в результате того, что когда еще были старые игры им не могли ставить оценки и рейтинг, а потом они вышли из использования. Также могут быть пропуски для новых игр, потому что им не успели поставить оценки и рейтинг. В столбце `user_score` значения `tbd`, вероятнее всего являлись пропусками, поэтому их заменили на вещественное `nan`. Также были изменены типы данных в столбцах `year_of_release`, `user_score`. Явных дубликатов в датафрейме не выявлено, был выявлен один неявный дубликат. Помимо этого был добавлен столбец с суммарными продажами по всем регионам.**"
   ]
  },
  {
   "cell_type": "markdown",
   "metadata": {},
   "source": [
    "## Исследовательский анализ данных <a id='four'></a>"
   ]
  },
  {
   "cell_type": "markdown",
   "metadata": {},
   "source": [
    "Количество выпущенных игр за каждый год:"
   ]
  },
  {
   "cell_type": "code",
   "execution_count": 19,
   "metadata": {
    "scrolled": false
   },
   "outputs": [
    {
     "data": {
      "image/png": "[encoded data removed]",
      "text/plain": [
       "<Figure size 432x288 with 1 Axes>"
      ]
     },
     "metadata": {
      "needs_background": "light"
     },
     "output_type": "display_data"
    },
    {
     "data": {
      "text/html": [
       "<div>\n",
       "<style scoped>\n",
       "    .dataframe tbody tr th:only-of-type {\n",
       "        vertical-align: middle;\n",
       "    }\n",
       "\n",
       "    .dataframe tbody tr th {\n",
       "        vertical-align: top;\n",
       "    }\n",
       "\n",
       "    .dataframe thead th {\n",
       "        text-align: right;\n",
       "    }\n",
       "</style>\n",
       "<table border=\"1\" class=\"dataframe\">\n",
       "  <thead>\n",
       "    <tr style=\"text-align: right;\">\n",
       "      <th></th>\n",
       "      <th>year_of_release</th>\n",
       "      <th>name</th>\n",
       "    </tr>\n",
       "  </thead>\n",
       "  <tbody>\n",
       "    <tr>\n",
       "      <th>0</th>\n",
       "      <td>1980</td>\n",
       "      <td>9</td>\n",
       "    </tr>\n",
       "    <tr>\n",
       "      <th>1</th>\n",
       "      <td>1981</td>\n",
       "      <td>46</td>\n",
       "    </tr>\n",
       "    <tr>\n",
       "      <th>2</th>\n",
       "      <td>1982</td>\n",
       "      <td>36</td>\n",
       "    </tr>\n",
       "    <tr>\n",
       "      <th>3</th>\n",
       "      <td>1983</td>\n",
       "      <td>17</td>\n",
       "    </tr>\n",
       "    <tr>\n",
       "      <th>4</th>\n",
       "      <td>1984</td>\n",
       "      <td>14</td>\n",
       "    </tr>\n",
       "    <tr>\n",
       "      <th>5</th>\n",
       "      <td>1985</td>\n",
       "      <td>14</td>\n",
       "    </tr>\n",
       "    <tr>\n",
       "      <th>6</th>\n",
       "      <td>1986</td>\n",
       "      <td>21</td>\n",
       "    </tr>\n",
       "    <tr>\n",
       "      <th>7</th>\n",
       "      <td>1987</td>\n",
       "      <td>16</td>\n",
       "    </tr>\n",
       "    <tr>\n",
       "      <th>8</th>\n",
       "      <td>1988</td>\n",
       "      <td>15</td>\n",
       "    </tr>\n",
       "    <tr>\n",
       "      <th>9</th>\n",
       "      <td>1989</td>\n",
       "      <td>17</td>\n",
       "    </tr>\n",
       "    <tr>\n",
       "      <th>10</th>\n",
       "      <td>1990</td>\n",
       "      <td>16</td>\n",
       "    </tr>\n",
       "    <tr>\n",
       "      <th>11</th>\n",
       "      <td>1991</td>\n",
       "      <td>41</td>\n",
       "    </tr>\n",
       "    <tr>\n",
       "      <th>12</th>\n",
       "      <td>1992</td>\n",
       "      <td>43</td>\n",
       "    </tr>\n",
       "    <tr>\n",
       "      <th>13</th>\n",
       "      <td>1993</td>\n",
       "      <td>60</td>\n",
       "    </tr>\n",
       "    <tr>\n",
       "      <th>14</th>\n",
       "      <td>1994</td>\n",
       "      <td>121</td>\n",
       "    </tr>\n",
       "    <tr>\n",
       "      <th>15</th>\n",
       "      <td>1995</td>\n",
       "      <td>219</td>\n",
       "    </tr>\n",
       "    <tr>\n",
       "      <th>16</th>\n",
       "      <td>1996</td>\n",
       "      <td>263</td>\n",
       "    </tr>\n",
       "    <tr>\n",
       "      <th>17</th>\n",
       "      <td>1997</td>\n",
       "      <td>289</td>\n",
       "    </tr>\n",
       "    <tr>\n",
       "      <th>18</th>\n",
       "      <td>1998</td>\n",
       "      <td>379</td>\n",
       "    </tr>\n",
       "    <tr>\n",
       "      <th>19</th>\n",
       "      <td>1999</td>\n",
       "      <td>338</td>\n",
       "    </tr>\n",
       "    <tr>\n",
       "      <th>20</th>\n",
       "      <td>2000</td>\n",
       "      <td>350</td>\n",
       "    </tr>\n",
       "    <tr>\n",
       "      <th>21</th>\n",
       "      <td>2001</td>\n",
       "      <td>482</td>\n",
       "    </tr>\n",
       "    <tr>\n",
       "      <th>22</th>\n",
       "      <td>2002</td>\n",
       "      <td>829</td>\n",
       "    </tr>\n",
       "    <tr>\n",
       "      <th>23</th>\n",
       "      <td>2003</td>\n",
       "      <td>775</td>\n",
       "    </tr>\n",
       "    <tr>\n",
       "      <th>24</th>\n",
       "      <td>2004</td>\n",
       "      <td>762</td>\n",
       "    </tr>\n",
       "    <tr>\n",
       "      <th>25</th>\n",
       "      <td>2005</td>\n",
       "      <td>939</td>\n",
       "    </tr>\n",
       "    <tr>\n",
       "      <th>26</th>\n",
       "      <td>2006</td>\n",
       "      <td>1006</td>\n",
       "    </tr>\n",
       "    <tr>\n",
       "      <th>27</th>\n",
       "      <td>2007</td>\n",
       "      <td>1197</td>\n",
       "    </tr>\n",
       "    <tr>\n",
       "      <th>28</th>\n",
       "      <td>2008</td>\n",
       "      <td>1427</td>\n",
       "    </tr>\n",
       "    <tr>\n",
       "      <th>29</th>\n",
       "      <td>2009</td>\n",
       "      <td>1426</td>\n",
       "    </tr>\n",
       "    <tr>\n",
       "      <th>30</th>\n",
       "      <td>2010</td>\n",
       "      <td>1255</td>\n",
       "    </tr>\n",
       "    <tr>\n",
       "      <th>31</th>\n",
       "      <td>2011</td>\n",
       "      <td>1136</td>\n",
       "    </tr>\n",
       "    <tr>\n",
       "      <th>32</th>\n",
       "      <td>2012</td>\n",
       "      <td>652</td>\n",
       "    </tr>\n",
       "    <tr>\n",
       "      <th>33</th>\n",
       "      <td>2013</td>\n",
       "      <td>544</td>\n",
       "    </tr>\n",
       "    <tr>\n",
       "      <th>34</th>\n",
       "      <td>2014</td>\n",
       "      <td>581</td>\n",
       "    </tr>\n",
       "    <tr>\n",
       "      <th>35</th>\n",
       "      <td>2015</td>\n",
       "      <td>606</td>\n",
       "    </tr>\n",
       "    <tr>\n",
       "      <th>36</th>\n",
       "      <td>2016</td>\n",
       "      <td>502</td>\n",
       "    </tr>\n",
       "  </tbody>\n",
       "</table>\n",
       "</div>"
      ],
      "text/plain": [
       "    year_of_release  name\n",
       "0              1980     9\n",
       "1              1981    46\n",
       "2              1982    36\n",
       "3              1983    17\n",
       "4              1984    14\n",
       "5              1985    14\n",
       "6              1986    21\n",
       "7              1987    16\n",
       "8              1988    15\n",
       "9              1989    17\n",
       "10             1990    16\n",
       "11             1991    41\n",
       "12             1992    43\n",
       "13             1993    60\n",
       "14             1994   121\n",
       "15             1995   219\n",
       "16             1996   263\n",
       "17             1997   289\n",
       "18             1998   379\n",
       "19             1999   338\n",
       "20             2000   350\n",
       "21             2001   482\n",
       "22             2002   829\n",
       "23             2003   775\n",
       "24             2004   762\n",
       "25             2005   939\n",
       "26             2006  1006\n",
       "27             2007  1197\n",
       "28             2008  1427\n",
       "29             2009  1426\n",
       "30             2010  1255\n",
       "31             2011  1136\n",
       "32             2012   652\n",
       "33             2013   544\n",
       "34             2014   581\n",
       "35             2015   606\n",
       "36             2016   502"
      ]
     },
     "execution_count": 19,
     "metadata": {},
     "output_type": "execute_result"
    }
   ],
   "source": [
    "games_for_year = data.pivot_table(index='year_of_release', values='name', aggfunc='count').reset_index()\n",
    "games_for_year.plot(x='year_of_release', y='name', kind='bar', title='количество выпущенных игр в год')\n",
    "plt.show()\n",
    "games_for_year"
   ]
  },
  {
   "cell_type": "markdown",
   "metadata": {},
   "source": [
    "До 1994 года выпускалось менее 100 игр в год. Затем, до 2006 года, выпускалось менее 1000 игр в год. С 2006 по 2011 выпускалось более 1000 игр в год. В 2012 году произошло резкое снижение количества выпущенных игр в год (до 653) и затем, вплоть до 2016 года, количество игр в год не превышало 606. Данные до 1994 году могут быть не столь важны."
   ]
  },
  {
   "cell_type": "markdown",
   "metadata": {},
   "source": [
    "Изменение продаж по платформам:"
   ]
  },
  {
   "cell_type": "code",
   "execution_count": 20,
   "metadata": {
    "scrolled": true
   },
   "outputs": [
    {
     "data": {
      "text/html": [
       "<div>\n",
       "<style scoped>\n",
       "    .dataframe tbody tr th:only-of-type {\n",
       "        vertical-align: middle;\n",
       "    }\n",
       "\n",
       "    .dataframe tbody tr th {\n",
       "        vertical-align: top;\n",
       "    }\n",
       "\n",
       "    .dataframe thead th {\n",
       "        text-align: right;\n",
       "    }\n",
       "</style>\n",
       "<table border=\"1\" class=\"dataframe\">\n",
       "  <thead>\n",
       "    <tr style=\"text-align: right;\">\n",
       "      <th></th>\n",
       "      <th>platform</th>\n",
       "      <th>total_sales</th>\n",
       "    </tr>\n",
       "  </thead>\n",
       "  <tbody>\n",
       "    <tr>\n",
       "      <th>0</th>\n",
       "      <td>PS2</td>\n",
       "      <td>1233.56</td>\n",
       "    </tr>\n",
       "    <tr>\n",
       "      <th>1</th>\n",
       "      <td>X360</td>\n",
       "      <td>961.24</td>\n",
       "    </tr>\n",
       "    <tr>\n",
       "      <th>2</th>\n",
       "      <td>PS3</td>\n",
       "      <td>931.34</td>\n",
       "    </tr>\n",
       "    <tr>\n",
       "      <th>3</th>\n",
       "      <td>Wii</td>\n",
       "      <td>891.18</td>\n",
       "    </tr>\n",
       "    <tr>\n",
       "      <th>4</th>\n",
       "      <td>DS</td>\n",
       "      <td>802.78</td>\n",
       "    </tr>\n",
       "    <tr>\n",
       "      <th>5</th>\n",
       "      <td>PS</td>\n",
       "      <td>727.58</td>\n",
       "    </tr>\n",
       "    <tr>\n",
       "      <th>6</th>\n",
       "      <td>PS4</td>\n",
       "      <td>314.14</td>\n",
       "    </tr>\n",
       "    <tr>\n",
       "      <th>7</th>\n",
       "      <td>GBA</td>\n",
       "      <td>312.88</td>\n",
       "    </tr>\n",
       "    <tr>\n",
       "      <th>8</th>\n",
       "      <td>PSP</td>\n",
       "      <td>289.53</td>\n",
       "    </tr>\n",
       "    <tr>\n",
       "      <th>9</th>\n",
       "      <td>3DS</td>\n",
       "      <td>257.81</td>\n",
       "    </tr>\n",
       "    <tr>\n",
       "      <th>10</th>\n",
       "      <td>PC</td>\n",
       "      <td>255.76</td>\n",
       "    </tr>\n",
       "    <tr>\n",
       "      <th>11</th>\n",
       "      <td>GB</td>\n",
       "      <td>254.43</td>\n",
       "    </tr>\n",
       "    <tr>\n",
       "      <th>12</th>\n",
       "      <td>XB</td>\n",
       "      <td>251.57</td>\n",
       "    </tr>\n",
       "    <tr>\n",
       "      <th>13</th>\n",
       "      <td>NES</td>\n",
       "      <td>251.05</td>\n",
       "    </tr>\n",
       "    <tr>\n",
       "      <th>14</th>\n",
       "      <td>N64</td>\n",
       "      <td>218.01</td>\n",
       "    </tr>\n",
       "    <tr>\n",
       "      <th>15</th>\n",
       "      <td>SNES</td>\n",
       "      <td>200.04</td>\n",
       "    </tr>\n",
       "    <tr>\n",
       "      <th>16</th>\n",
       "      <td>GC</td>\n",
       "      <td>196.73</td>\n",
       "    </tr>\n",
       "    <tr>\n",
       "      <th>17</th>\n",
       "      <td>XOne</td>\n",
       "      <td>159.32</td>\n",
       "    </tr>\n",
       "    <tr>\n",
       "      <th>18</th>\n",
       "      <td>2600</td>\n",
       "      <td>86.48</td>\n",
       "    </tr>\n",
       "    <tr>\n",
       "      <th>19</th>\n",
       "      <td>WiiU</td>\n",
       "      <td>82.19</td>\n",
       "    </tr>\n",
       "    <tr>\n",
       "      <th>20</th>\n",
       "      <td>PSV</td>\n",
       "      <td>53.81</td>\n",
       "    </tr>\n",
       "    <tr>\n",
       "      <th>21</th>\n",
       "      <td>SAT</td>\n",
       "      <td>33.59</td>\n",
       "    </tr>\n",
       "    <tr>\n",
       "      <th>22</th>\n",
       "      <td>GEN</td>\n",
       "      <td>28.35</td>\n",
       "    </tr>\n",
       "    <tr>\n",
       "      <th>23</th>\n",
       "      <td>DC</td>\n",
       "      <td>15.95</td>\n",
       "    </tr>\n",
       "    <tr>\n",
       "      <th>24</th>\n",
       "      <td>SCD</td>\n",
       "      <td>1.86</td>\n",
       "    </tr>\n",
       "    <tr>\n",
       "      <th>25</th>\n",
       "      <td>NG</td>\n",
       "      <td>1.44</td>\n",
       "    </tr>\n",
       "    <tr>\n",
       "      <th>26</th>\n",
       "      <td>WS</td>\n",
       "      <td>1.42</td>\n",
       "    </tr>\n",
       "    <tr>\n",
       "      <th>27</th>\n",
       "      <td>TG16</td>\n",
       "      <td>0.16</td>\n",
       "    </tr>\n",
       "    <tr>\n",
       "      <th>28</th>\n",
       "      <td>3DO</td>\n",
       "      <td>0.10</td>\n",
       "    </tr>\n",
       "    <tr>\n",
       "      <th>29</th>\n",
       "      <td>GG</td>\n",
       "      <td>0.04</td>\n",
       "    </tr>\n",
       "    <tr>\n",
       "      <th>30</th>\n",
       "      <td>PCFX</td>\n",
       "      <td>0.03</td>\n",
       "    </tr>\n",
       "  </tbody>\n",
       "</table>\n",
       "</div>"
      ],
      "text/plain": [
       "   platform  total_sales\n",
       "0       PS2      1233.56\n",
       "1      X360       961.24\n",
       "2       PS3       931.34\n",
       "3       Wii       891.18\n",
       "4        DS       802.78\n",
       "5        PS       727.58\n",
       "6       PS4       314.14\n",
       "7       GBA       312.88\n",
       "8       PSP       289.53\n",
       "9       3DS       257.81\n",
       "10       PC       255.76\n",
       "11       GB       254.43\n",
       "12       XB       251.57\n",
       "13      NES       251.05\n",
       "14      N64       218.01\n",
       "15     SNES       200.04\n",
       "16       GC       196.73\n",
       "17     XOne       159.32\n",
       "18     2600        86.48\n",
       "19     WiiU        82.19\n",
       "20      PSV        53.81\n",
       "21      SAT        33.59\n",
       "22      GEN        28.35\n",
       "23       DC        15.95\n",
       "24      SCD         1.86\n",
       "25       NG         1.44\n",
       "26       WS         1.42\n",
       "27     TG16         0.16\n",
       "28      3DO         0.10\n",
       "29       GG         0.04\n",
       "30     PCFX         0.03"
      ]
     },
     "execution_count": 20,
     "metadata": {},
     "output_type": "execute_result"
    }
   ],
   "source": [
    "platform_for_total_sales = data.pivot_table(index='platform', values='total_sales', aggfunc='sum').sort_values(by='total_sales', ascending=False).reset_index()\n",
    "platform_for_total_sales\n"
   ]
  },
  {
   "cell_type": "markdown",
   "metadata": {},
   "source": [
    "Платформами с наибольшими суммарными продажами являются: `PS2`, `X360`, `PS3`, `Wii`, `DS`."
   ]
  },
  {
   "cell_type": "code",
   "execution_count": 21,
   "metadata": {
    "scrolled": true
   },
   "outputs": [
    {
     "data": {
      "image/png": "[encoded data removed]",
      "text/plain": [
       "<Figure size 432x288 with 1 Axes>"
      ]
     },
     "metadata": {
      "needs_background": "light"
     },
     "output_type": "display_data"
    },
    {
     "data": {
      "image/png": "[encoded data removed]",
      "text/plain": [
       "<Figure size 432x288 with 1 Axes>"
      ]
     },
     "metadata": {
      "needs_background": "light"
     },
     "output_type": "display_data"
    },
    {
     "data": {
      "image/png": "[encoded data removed]",
      "text/plain": [
       "<Figure size 432x288 with 1 Axes>"
      ]
     },
     "metadata": {
      "needs_background": "light"
     },
     "output_type": "display_data"
    },
    {
     "data": {
      "image/png": "[encoded data removed]",
      "text/plain": [
       "<Figure size 432x288 with 1 Axes>"
      ]
     },
     "metadata": {
      "needs_background": "light"
     },
     "output_type": "display_data"
    },
    {
     "data": {
      "image/png": "[encoded data removed]",
      "text/plain": [
       "<Figure size 432x288 with 1 Axes>"
      ]
     },
     "metadata": {
      "needs_background": "light"
     },
     "output_type": "display_data"
    }
   ],
   "source": [
    "platform_for_total_sales_top = platform_for_total_sales.loc[platform_for_total_sales['total_sales'] > 800] #срез топовых платформ\n",
    "list_of_top_platform = platform_for_total_sales_top['platform'].unique() #список топовых платформ\n",
    "for i in list_of_top_platform:\n",
    "    top_platform_visual = data.loc[data['platform'] == i].pivot_table(index='year_of_release', values='name', aggfunc='count').reset_index()\n",
    "    top_platform_visual.plot(x='year_of_release', y='name', kind='bar')\n",
    "    plt.title(i)"
   ]
  },
  {
   "cell_type": "markdown",
   "metadata": {},
   "source": [
    "Большинство топовых платформ появились после 2000 года. В среднем, они существуют 10 лет и более. На пик по продажам они выходят через 3-6 лет. Значит актульным периодом возьмем данные с 2013 года, чтобы подобрать платформы, которые будут расти или не снижатсья и в 2017 году."
   ]
  },
  {
   "cell_type": "markdown",
   "metadata": {},
   "source": [
    "Уберем из датафрейма данные до 2006 года:"
   ]
  },
  {
   "cell_type": "code",
   "execution_count": 22,
   "metadata": {
    "scrolled": true
   },
   "outputs": [
    {
     "name": "stdout",
     "output_type": "stream",
     "text": [
      "<class 'pandas.core.frame.DataFrame'>\n",
      "Int64Index: 2233 entries, 16 to 16442\n",
      "Data columns (total 12 columns):\n",
      " #   Column           Non-Null Count  Dtype  \n",
      "---  ------           --------------  -----  \n",
      " 0   name             2233 non-null   object \n",
      " 1   platform         2233 non-null   object \n",
      " 2   year_of_release  2233 non-null   int64  \n",
      " 3   genre            2233 non-null   object \n",
      " 4   na_sales         2233 non-null   float64\n",
      " 5   eu_sales         2233 non-null   float64\n",
      " 6   jp_sales         2233 non-null   float64\n",
      " 7   other_sales      2233 non-null   float64\n",
      " 8   critic_score     991 non-null    float64\n",
      " 9   user_score       1192 non-null   float64\n",
      " 10  rating           1256 non-null   object \n",
      " 11  total_sales      2233 non-null   float64\n",
      "dtypes: float64(7), int64(1), object(4)\n",
      "memory usage: 226.8+ KB\n"
     ]
    }
   ],
   "source": [
    "data_after_2013 = data.loc[data['year_of_release'] >= 2013]\n",
    "data_after_2013.info()"
   ]
  },
  {
   "cell_type": "code",
   "execution_count": 23,
   "metadata": {
    "scrolled": true
   },
   "outputs": [
    {
     "data": {
      "text/html": [
       "<div>\n",
       "<style scoped>\n",
       "    .dataframe tbody tr th:only-of-type {\n",
       "        vertical-align: middle;\n",
       "    }\n",
       "\n",
       "    .dataframe tbody tr th {\n",
       "        vertical-align: top;\n",
       "    }\n",
       "\n",
       "    .dataframe thead th {\n",
       "        text-align: right;\n",
       "    }\n",
       "</style>\n",
       "<table border=\"1\" class=\"dataframe\">\n",
       "  <thead>\n",
       "    <tr style=\"text-align: right;\">\n",
       "      <th></th>\n",
       "      <th>platform</th>\n",
       "      <th>total_sales</th>\n",
       "    </tr>\n",
       "  </thead>\n",
       "  <tbody>\n",
       "    <tr>\n",
       "      <th>0</th>\n",
       "      <td>PS4</td>\n",
       "      <td>314.14</td>\n",
       "    </tr>\n",
       "    <tr>\n",
       "      <th>1</th>\n",
       "      <td>PS3</td>\n",
       "      <td>181.43</td>\n",
       "    </tr>\n",
       "    <tr>\n",
       "      <th>2</th>\n",
       "      <td>XOne</td>\n",
       "      <td>159.32</td>\n",
       "    </tr>\n",
       "    <tr>\n",
       "      <th>3</th>\n",
       "      <td>3DS</td>\n",
       "      <td>143.25</td>\n",
       "    </tr>\n",
       "    <tr>\n",
       "      <th>4</th>\n",
       "      <td>X360</td>\n",
       "      <td>136.80</td>\n",
       "    </tr>\n",
       "    <tr>\n",
       "      <th>5</th>\n",
       "      <td>WiiU</td>\n",
       "      <td>64.63</td>\n",
       "    </tr>\n",
       "    <tr>\n",
       "      <th>6</th>\n",
       "      <td>PC</td>\n",
       "      <td>39.43</td>\n",
       "    </tr>\n",
       "    <tr>\n",
       "      <th>7</th>\n",
       "      <td>PSV</td>\n",
       "      <td>32.99</td>\n",
       "    </tr>\n",
       "    <tr>\n",
       "      <th>8</th>\n",
       "      <td>Wii</td>\n",
       "      <td>13.66</td>\n",
       "    </tr>\n",
       "    <tr>\n",
       "      <th>9</th>\n",
       "      <td>PSP</td>\n",
       "      <td>3.50</td>\n",
       "    </tr>\n",
       "    <tr>\n",
       "      <th>10</th>\n",
       "      <td>DS</td>\n",
       "      <td>1.54</td>\n",
       "    </tr>\n",
       "  </tbody>\n",
       "</table>\n",
       "</div>"
      ],
      "text/plain": [
       "   platform  total_sales\n",
       "0       PS4       314.14\n",
       "1       PS3       181.43\n",
       "2      XOne       159.32\n",
       "3       3DS       143.25\n",
       "4      X360       136.80\n",
       "5      WiiU        64.63\n",
       "6        PC        39.43\n",
       "7       PSV        32.99\n",
       "8       Wii        13.66\n",
       "9       PSP         3.50\n",
       "10       DS         1.54"
      ]
     },
     "execution_count": 23,
     "metadata": {},
     "output_type": "execute_result"
    }
   ],
   "source": [
    "data_after_2013_top = data_after_2013.pivot_table(index='platform', values='total_sales', aggfunc=['sum']).reset_index()\n",
    "data_after_2013_top.columns=['platform', 'total_sales']\n",
    "data_after_2013_top = data_after_2013_top.sort_values(by='total_sales', ascending=False).reset_index(drop=True)\n",
    "data_after_2013_top\n"
   ]
  },
  {
   "cell_type": "markdown",
   "metadata": {},
   "source": [
    "Возьмем топ-10 платформ. C 2013 года лидируют по продажам `PS4`, `PS3`, `XOne`, `3DS`, `X360`, `WiiU`, `PC`, `PSV`, `Wii`, `PSP`."
   ]
  },
  {
   "cell_type": "code",
   "execution_count": 24,
   "metadata": {},
   "outputs": [
    {
     "data": {
      "image/png": "[encoded data removed]",
      "text/plain": [
       "<Figure size 432x288 with 1 Axes>"
      ]
     },
     "metadata": {
      "needs_background": "light"
     },
     "output_type": "display_data"
    },
    {
     "data": {
      "image/png": "[encoded data removed]",
      "text/plain": [
       "<Figure size 432x288 with 1 Axes>"
      ]
     },
     "metadata": {
      "needs_background": "light"
     },
     "output_type": "display_data"
    },
    {
     "data": {
      "image/png": "[encoded data removed]",
      "text/plain": [
       "<Figure size 432x288 with 1 Axes>"
      ]
     },
     "metadata": {
      "needs_background": "light"
     },
     "output_type": "display_data"
    },
    {
     "data": {
      "image/png": "[encoded data removed]",
      "text/plain": [
       "<Figure size 432x288 with 1 Axes>"
      ]
     },
     "metadata": {
      "needs_background": "light"
     },
     "output_type": "display_data"
    },
    {
     "data": {
      "image/png": "[encoded data removed]",
      "text/plain": [
       "<Figure size 432x288 with 1 Axes>"
      ]
     },
     "metadata": {
      "needs_background": "light"
     },
     "output_type": "display_data"
    },
    {
     "data": {
      "image/png": "[encoded data removed]",
      "text/plain": [
       "<Figure size 432x288 with 1 Axes>"
      ]
     },
     "metadata": {
      "needs_background": "light"
     },
     "output_type": "display_data"
    },
    {
     "data": {
      "image/png": "[encoded data removed]",
      "text/plain": [
       "<Figure size 432x288 with 1 Axes>"
      ]
     },
     "metadata": {
      "needs_background": "light"
     },
     "output_type": "display_data"
    },
    {
     "data": {
      "image/png": "[encoded data removed]",
      "text/plain": [
       "<Figure size 432x288 with 1 Axes>"
      ]
     },
     "metadata": {
      "needs_background": "light"
     },
     "output_type": "display_data"
    },
    {
     "data": {
      "image/png": "[encoded data removed]",
      "text/plain": [
       "<Figure size 432x288 with 1 Axes>"
      ]
     },
     "metadata": {
      "needs_background": "light"
     },
     "output_type": "display_data"
    },
    {
     "data": {
      "image/png": "[encoded data removed]",
      "text/plain": [
       "<Figure size 432x288 with 1 Axes>"
      ]
     },
     "metadata": {
      "needs_background": "light"
     },
     "output_type": "display_data"
    }
   ],
   "source": [
    "data_after_2013_top10 = data_after_2013_top.loc[data_after_2013_top['total_sales'] > 2] #срез топовых платформ после 2013 года\n",
    "list_of_data_after_2013_top10 = data_after_2013_top10['platform'].unique() #список топовых платформ\n",
    "for i in list_of_data_after_2013_top10:\n",
    "    top10_platform_visual = data_after_2013.loc[data_after_2013['platform'] == i].pivot_table(index='year_of_release', values='name', aggfunc='count').reset_index()\n",
    "    top10_platform_visual.plot(x='year_of_release', y='name', kind='bar')\n",
    "    plt.title(i)"
   ]
  },
  {
   "cell_type": "markdown",
   "metadata": {},
   "source": [
    "Продажи `PS3`, `X360`, `WiiU`, `Wii`, `PSP` падают. Потенциально прибыльными можно считать `PS4`, `XOne`, `3DS`, `PC`, `PSV`. "
   ]
  },
  {
   "cell_type": "code",
   "execution_count": 25,
   "metadata": {
    "scrolled": true
   },
   "outputs": [
    {
     "data": {
      "text/plain": [
       "(0.0, 2.0)"
      ]
     },
     "execution_count": 25,
     "metadata": {},
     "output_type": "execute_result"
    },
    {
     "data": {
      "image/png": "[encoded data removed]",
      "text/plain": [
       "<Figure size 432x288 with 1 Axes>"
      ]
     },
     "metadata": {
      "needs_background": "light"
     },
     "output_type": "display_data"
    }
   ],
   "source": [
    "data_after_2013.pivot_table(index='name', columns='platform', values='total_sales', aggfunc='sum').plot(kind='box')\n",
    "plt.ylim(0, 2)"
   ]
  },
  {
   "cell_type": "markdown",
   "metadata": {},
   "source": [
    "Наибольшими значениями межквартильного размаха характеризуются платформы `PS4`, `X360`, `Wii`. Для `DS` вообще нет выбросов, возможно, для нее производят не так много игр. Наибольшим медианным значением характеризуется `X360`, наименьшим - `PSP`."
   ]
  },
  {
   "cell_type": "markdown",
   "metadata": {},
   "source": [
    "Влияние отзывов пользователей и критиков на продажи для самой популярной платформы `PS4`:"
   ]
  },
  {
   "cell_type": "code",
   "execution_count": 26,
   "metadata": {
    "scrolled": true
   },
   "outputs": [
    {
     "data": {
      "text/plain": [
       "0.40656790206178095"
      ]
     },
     "execution_count": 26,
     "metadata": {},
     "output_type": "execute_result"
    },
    {
     "data": {
      "image/png": "[encoded data removed]",
      "text/plain": [
       "<Figure size 432x288 with 1 Axes>"
      ]
     },
     "metadata": {
      "needs_background": "light"
     },
     "output_type": "display_data"
    }
   ],
   "source": [
    "data_after_2013_ps_4 = data_after_2013.loc[data_after_2013['platform'] == 'PS4'].reset_index()\n",
    "data_after_2013_ps_4.plot(x='critic_score', y='total_sales', kind='scatter', alpha=0.1, title='Зависимость продаж для PS4 от отзывов критиков')\n",
    "data_after_2013_ps_4['critic_score'].corr(data_after_2013_ps_4['total_sales'])"
   ]
  },
  {
   "cell_type": "code",
   "execution_count": 27,
   "metadata": {
    "scrolled": true
   },
   "outputs": [
    {
     "data": {
      "text/plain": [
       "-0.031957110204556376"
      ]
     },
     "execution_count": 27,
     "metadata": {},
     "output_type": "execute_result"
    },
    {
     "data": {
      "image/png": "[encoded data removed]",
      "text/plain": [
       "<Figure size 432x288 with 1 Axes>"
      ]
     },
     "metadata": {
      "needs_background": "light"
     },
     "output_type": "display_data"
    }
   ],
   "source": [
    "data_after_2013_ps_4.plot(x='user_score', y='total_sales', kind='scatter', alpha=0.1, title='Зависимость продаж для PS4 от отзывов пользователей')\n",
    "data_after_2013_ps_4['user_score'].corr(data_after_2013_ps_4['total_sales'])"
   ]
  },
  {
   "cell_type": "markdown",
   "metadata": {},
   "source": [
    "Зависимость между отзывами критиков и продажами для `PS4` достаточно сильная и она прямая. Зависимости между продажами и отзывами пользователей нет."
   ]
  },
  {
   "cell_type": "markdown",
   "metadata": {},
   "source": [
    "Проведем аналогичные манипуляции для пары потенциально прибыльных платформ в 2017 году `3DS`, `XOne`."
   ]
  },
  {
   "cell_type": "code",
   "execution_count": 28,
   "metadata": {
    "scrolled": false
   },
   "outputs": [
    {
     "data": {
      "text/plain": [
       "0.3570566142288103"
      ]
     },
     "execution_count": 28,
     "metadata": {},
     "output_type": "execute_result"
    },
    {
     "data": {
      "image/png": "[encoded data removed]",
      "text/plain": [
       "<Figure size 432x288 with 1 Axes>"
      ]
     },
     "metadata": {
      "needs_background": "light"
     },
     "output_type": "display_data"
    }
   ],
   "source": [
    "data_after_2013_3_ds = data_after_2013.loc[data_after_2013['platform'] == '3DS'].reset_index()\n",
    "data_after_2013_3_ds.plot(x='critic_score', y='total_sales', kind='scatter', alpha=0.3, title='Зависимость продаж для 3DS от отзывов критиков')\n",
    "data_after_2013_3_ds['critic_score'].corr(data_after_2013_3_ds['total_sales'])"
   ]
  },
  {
   "cell_type": "code",
   "execution_count": 29,
   "metadata": {
    "scrolled": true
   },
   "outputs": [
    {
     "data": {
      "text/plain": [
       "0.24150411773563016"
      ]
     },
     "execution_count": 29,
     "metadata": {},
     "output_type": "execute_result"
    },
    {
     "data": {
      "image/png": "[encoded data removed]",
      "text/plain": [
       "<Figure size 432x288 with 1 Axes>"
      ]
     },
     "metadata": {
      "needs_background": "light"
     },
     "output_type": "display_data"
    }
   ],
   "source": [
    "data_after_2013_3_ds.plot(x='user_score', y='total_sales', kind='scatter', alpha=0.3, title='Зависимость продаж для 3DS от отзывов пользователей')\n",
    "data_after_2013_3_ds['user_score'].corr(data_after_2013_3_ds['total_sales'])"
   ]
  },
  {
   "cell_type": "code",
   "execution_count": 30,
   "metadata": {
    "scrolled": true
   },
   "outputs": [
    {
     "data": {
      "text/plain": [
       "0.4169983280084017"
      ]
     },
     "execution_count": 30,
     "metadata": {},
     "output_type": "execute_result"
    },
    {
     "data": {
      "image/png": "[encoded data removed]",
      "text/plain": [
       "<Figure size 432x288 with 1 Axes>"
      ]
     },
     "metadata": {
      "needs_background": "light"
     },
     "output_type": "display_data"
    }
   ],
   "source": [
    "data_after_2013_xone = data_after_2013.loc[data_after_2013['platform'] == 'XOne'].reset_index()\n",
    "data_after_2013_xone.plot(x='critic_score', y='total_sales', kind='scatter', alpha=0.3, title='Зависимость продаж для XOne от отзывов критиков')\n",
    "data_after_2013_xone['critic_score'].corr(data_after_2013_xone['total_sales'])"
   ]
  },
  {
   "cell_type": "code",
   "execution_count": 31,
   "metadata": {
    "scrolled": true
   },
   "outputs": [
    {
     "data": {
      "text/plain": [
       "-0.06892505328279414"
      ]
     },
     "execution_count": 31,
     "metadata": {},
     "output_type": "execute_result"
    },
    {
     "data": {
      "image/png": "[encoded data removed]",
      "text/plain": [
       "<Figure size 432x288 with 1 Axes>"
      ]
     },
     "metadata": {
      "needs_background": "light"
     },
     "output_type": "display_data"
    }
   ],
   "source": [
    "data_after_2013_xone.plot(x='user_score', y='total_sales', kind='scatter', alpha=0.3, title='Зависимость продаж для XOne от отзывов пользователей')\n",
    "data_after_2013_xone['user_score'].corr(data_after_2013_xone['total_sales'])"
   ]
  },
  {
   "cell_type": "markdown",
   "metadata": {},
   "source": [
    "Сравнив получившиеся значения корреляции для `3DS`, `XOne` с `PS4`, можно отметить, что зависимость продаж для разных платформ в зависимости от оценки критиков есть. Зависимость для продаж от оценки пользователей либо незначительна, либо ее вовсе нет. "
   ]
  },
  {
   "cell_type": "markdown",
   "metadata": {},
   "source": [
    "Распределение игр по жанрам:"
   ]
  },
  {
   "cell_type": "code",
   "execution_count": 32,
   "metadata": {
    "scrolled": false
   },
   "outputs": [
    {
     "data": {
      "text/html": [
       "<div>\n",
       "<style scoped>\n",
       "    .dataframe tbody tr th:only-of-type {\n",
       "        vertical-align: middle;\n",
       "    }\n",
       "\n",
       "    .dataframe tbody tr th {\n",
       "        vertical-align: top;\n",
       "    }\n",
       "\n",
       "    .dataframe thead th {\n",
       "        text-align: right;\n",
       "    }\n",
       "</style>\n",
       "<table border=\"1\" class=\"dataframe\">\n",
       "  <thead>\n",
       "    <tr style=\"text-align: right;\">\n",
       "      <th></th>\n",
       "      <th>genre</th>\n",
       "      <th>name</th>\n",
       "    </tr>\n",
       "  </thead>\n",
       "  <tbody>\n",
       "    <tr>\n",
       "      <th>0</th>\n",
       "      <td>Action</td>\n",
       "      <td>766</td>\n",
       "    </tr>\n",
       "    <tr>\n",
       "      <th>1</th>\n",
       "      <td>Role-Playing</td>\n",
       "      <td>292</td>\n",
       "    </tr>\n",
       "    <tr>\n",
       "      <th>2</th>\n",
       "      <td>Adventure</td>\n",
       "      <td>245</td>\n",
       "    </tr>\n",
       "    <tr>\n",
       "      <th>3</th>\n",
       "      <td>Sports</td>\n",
       "      <td>214</td>\n",
       "    </tr>\n",
       "    <tr>\n",
       "      <th>4</th>\n",
       "      <td>Shooter</td>\n",
       "      <td>187</td>\n",
       "    </tr>\n",
       "    <tr>\n",
       "      <th>5</th>\n",
       "      <td>Misc</td>\n",
       "      <td>155</td>\n",
       "    </tr>\n",
       "    <tr>\n",
       "      <th>6</th>\n",
       "      <td>Racing</td>\n",
       "      <td>85</td>\n",
       "    </tr>\n",
       "    <tr>\n",
       "      <th>7</th>\n",
       "      <td>Fighting</td>\n",
       "      <td>80</td>\n",
       "    </tr>\n",
       "    <tr>\n",
       "      <th>8</th>\n",
       "      <td>Platform</td>\n",
       "      <td>74</td>\n",
       "    </tr>\n",
       "    <tr>\n",
       "      <th>9</th>\n",
       "      <td>Simulation</td>\n",
       "      <td>62</td>\n",
       "    </tr>\n",
       "    <tr>\n",
       "      <th>10</th>\n",
       "      <td>Strategy</td>\n",
       "      <td>56</td>\n",
       "    </tr>\n",
       "    <tr>\n",
       "      <th>11</th>\n",
       "      <td>Puzzle</td>\n",
       "      <td>17</td>\n",
       "    </tr>\n",
       "  </tbody>\n",
       "</table>\n",
       "</div>"
      ],
      "text/plain": [
       "           genre  name\n",
       "0         Action   766\n",
       "1   Role-Playing   292\n",
       "2      Adventure   245\n",
       "3         Sports   214\n",
       "4        Shooter   187\n",
       "5           Misc   155\n",
       "6         Racing    85\n",
       "7       Fighting    80\n",
       "8       Platform    74\n",
       "9     Simulation    62\n",
       "10      Strategy    56\n",
       "11        Puzzle    17"
      ]
     },
     "execution_count": 32,
     "metadata": {},
     "output_type": "execute_result"
    }
   ],
   "source": [
    "data_after_2013_genre = data_after_2013.pivot_table(index='genre', values='name', aggfunc='count').reset_index()\n",
    "data_after_2013_genre.sort_values(by='name', ascending=False).reset_index(drop=True)"
   ]
  },
  {
   "cell_type": "markdown",
   "metadata": {},
   "source": [
    "Больше 200 игр отмечается в жанрах `Action`, `Role-Playing`, `Adventure`, `Sports`. Наименее популярные игры в жанрах `Simulation`, `Strategy`, `Puzzle`."
   ]
  },
  {
   "cell_type": "code",
   "execution_count": 33,
   "metadata": {
    "scrolled": true
   },
   "outputs": [
    {
     "data": {
      "text/html": [
       "<div>\n",
       "<style scoped>\n",
       "    .dataframe tbody tr th:only-of-type {\n",
       "        vertical-align: middle;\n",
       "    }\n",
       "\n",
       "    .dataframe tbody tr th {\n",
       "        vertical-align: top;\n",
       "    }\n",
       "\n",
       "    .dataframe thead tr th {\n",
       "        text-align: left;\n",
       "    }\n",
       "</style>\n",
       "<table border=\"1\" class=\"dataframe\">\n",
       "  <thead>\n",
       "    <tr>\n",
       "      <th></th>\n",
       "      <th>genre</th>\n",
       "      <th>sum</th>\n",
       "      <th>mean</th>\n",
       "      <th>median</th>\n",
       "    </tr>\n",
       "    <tr>\n",
       "      <th></th>\n",
       "      <th></th>\n",
       "      <th>total_sales</th>\n",
       "      <th>total_sales</th>\n",
       "      <th>total_sales</th>\n",
       "    </tr>\n",
       "  </thead>\n",
       "  <tbody>\n",
       "    <tr>\n",
       "      <th>0</th>\n",
       "      <td>Action</td>\n",
       "      <td>321.87</td>\n",
       "      <td>0.420196</td>\n",
       "      <td>0.110</td>\n",
       "    </tr>\n",
       "    <tr>\n",
       "      <th>1</th>\n",
       "      <td>Adventure</td>\n",
       "      <td>23.64</td>\n",
       "      <td>0.096490</td>\n",
       "      <td>0.030</td>\n",
       "    </tr>\n",
       "    <tr>\n",
       "      <th>2</th>\n",
       "      <td>Fighting</td>\n",
       "      <td>35.31</td>\n",
       "      <td>0.441375</td>\n",
       "      <td>0.125</td>\n",
       "    </tr>\n",
       "    <tr>\n",
       "      <th>3</th>\n",
       "      <td>Misc</td>\n",
       "      <td>62.82</td>\n",
       "      <td>0.405290</td>\n",
       "      <td>0.100</td>\n",
       "    </tr>\n",
       "    <tr>\n",
       "      <th>4</th>\n",
       "      <td>Platform</td>\n",
       "      <td>42.63</td>\n",
       "      <td>0.576081</td>\n",
       "      <td>0.225</td>\n",
       "    </tr>\n",
       "    <tr>\n",
       "      <th>5</th>\n",
       "      <td>Puzzle</td>\n",
       "      <td>3.17</td>\n",
       "      <td>0.186471</td>\n",
       "      <td>0.060</td>\n",
       "    </tr>\n",
       "    <tr>\n",
       "      <th>6</th>\n",
       "      <td>Racing</td>\n",
       "      <td>39.89</td>\n",
       "      <td>0.469294</td>\n",
       "      <td>0.120</td>\n",
       "    </tr>\n",
       "    <tr>\n",
       "      <th>7</th>\n",
       "      <td>Role-Playing</td>\n",
       "      <td>145.89</td>\n",
       "      <td>0.499623</td>\n",
       "      <td>0.125</td>\n",
       "    </tr>\n",
       "    <tr>\n",
       "      <th>8</th>\n",
       "      <td>Shooter</td>\n",
       "      <td>232.98</td>\n",
       "      <td>1.245882</td>\n",
       "      <td>0.450</td>\n",
       "    </tr>\n",
       "    <tr>\n",
       "      <th>9</th>\n",
       "      <td>Simulation</td>\n",
       "      <td>21.76</td>\n",
       "      <td>0.350968</td>\n",
       "      <td>0.100</td>\n",
       "    </tr>\n",
       "    <tr>\n",
       "      <th>10</th>\n",
       "      <td>Sports</td>\n",
       "      <td>150.65</td>\n",
       "      <td>0.703972</td>\n",
       "      <td>0.240</td>\n",
       "    </tr>\n",
       "    <tr>\n",
       "      <th>11</th>\n",
       "      <td>Strategy</td>\n",
       "      <td>10.08</td>\n",
       "      <td>0.180000</td>\n",
       "      <td>0.080</td>\n",
       "    </tr>\n",
       "  </tbody>\n",
       "</table>\n",
       "</div>"
      ],
      "text/plain": [
       "           genre         sum        mean      median\n",
       "                 total_sales total_sales total_sales\n",
       "0         Action      321.87    0.420196       0.110\n",
       "1      Adventure       23.64    0.096490       0.030\n",
       "2       Fighting       35.31    0.441375       0.125\n",
       "3           Misc       62.82    0.405290       0.100\n",
       "4       Platform       42.63    0.576081       0.225\n",
       "5         Puzzle        3.17    0.186471       0.060\n",
       "6         Racing       39.89    0.469294       0.120\n",
       "7   Role-Playing      145.89    0.499623       0.125\n",
       "8        Shooter      232.98    1.245882       0.450\n",
       "9     Simulation       21.76    0.350968       0.100\n",
       "10        Sports      150.65    0.703972       0.240\n",
       "11      Strategy       10.08    0.180000       0.080"
      ]
     },
     "execution_count": 33,
     "metadata": {},
     "output_type": "execute_result"
    }
   ],
   "source": [
    "data_after_2013_genre_total_sales = data_after_2013.pivot_table(index='genre', values='total_sales', aggfunc=['sum', 'mean', 'median']).reset_index()\n",
    "data_after_2013_genre_total_sales\n",
    "#data_after_2013_genre_total_sales.sort_values(by='total_sales', ascending=False).reset_index(drop=True)"
   ]
  },
  {
   "cell_type": "markdown",
   "metadata": {},
   "source": [
    "Наибольшее количество прибыли отмечается в жанрах `Action`, `Shooter`, `Sports`, несмотря на то, что последние два находятся на 5 и 4 местах по количеству существующих игр среди всех. По среднему и медианному значениям наиболее прибыльным является жанр - `Shooter`, наименее - `Adventure`."
   ]
  },
  {
   "cell_type": "markdown",
   "metadata": {},
   "source": [
    "**Вывод:**\n",
    "- Больше 100 игр в год стали выпускать после 1994 года. Больше 1000 - после 2006 года. В 2012 году произошел резкий спад выпуска игр;\n",
    "\n",
    "- Большинство платформ с максимальными продажами для них появились после 2000 года;\n",
    "\n",
    "- Для дальнейшей аналитики был выбран актуальный период с 2013 года, поскольку на пик по продажам платформы выходят через 3-6 лет, а нам нужен прогноз на 2017 год;\n",
    "\n",
    "- Потенциально прибыльными платформами по данным обновленного датафрема можно считать платформы `PS4`, `XOne`, `3DS`, `PC`, `PSV`, поскольку продажи для них либо возрастают, либо снижаются не столь стремительно как для остальных платформ;\n",
    "\n",
    "- Зависимость продаж для разных платформ в зависимости от оценки критиков существует и она прямая. Зависимость для продаж от оценки пользователей либо незначительна, либо ее вовсе нет;\n",
    "\n",
    "- Больше 200 игр отмечается в жанрах `Action`, `Role-Playing`, `Adventure`, `Sports`. Наименее популярные игры в жанрах `Simulation`, `Strategy`, `Puzzle`;\n",
    "\n",
    "- Наиболее прибыльным является жанр - `Shooter`, наименее - `Adventure`. "
   ]
  },
  {
   "cell_type": "markdown",
   "metadata": {},
   "source": [
    "## Портрет пользователя каждого региона <a id='five'></a>"
   ]
  },
  {
   "cell_type": "markdown",
   "metadata": {},
   "source": [
    "Самые популярные платформы:"
   ]
  },
  {
   "cell_type": "code",
   "execution_count": 34,
   "metadata": {
    "scrolled": false
   },
   "outputs": [
    {
     "data": {
      "text/html": [
       "<div>\n",
       "<style scoped>\n",
       "    .dataframe tbody tr th:only-of-type {\n",
       "        vertical-align: middle;\n",
       "    }\n",
       "\n",
       "    .dataframe tbody tr th {\n",
       "        vertical-align: top;\n",
       "    }\n",
       "\n",
       "    .dataframe thead th {\n",
       "        text-align: right;\n",
       "    }\n",
       "</style>\n",
       "<table border=\"1\" class=\"dataframe\">\n",
       "  <thead>\n",
       "    <tr style=\"text-align: right;\">\n",
       "      <th></th>\n",
       "      <th>na_sales</th>\n",
       "    </tr>\n",
       "    <tr>\n",
       "      <th>platform</th>\n",
       "      <th></th>\n",
       "    </tr>\n",
       "  </thead>\n",
       "  <tbody>\n",
       "    <tr>\n",
       "      <th>PS4</th>\n",
       "      <td>108.74</td>\n",
       "    </tr>\n",
       "    <tr>\n",
       "      <th>XOne</th>\n",
       "      <td>93.12</td>\n",
       "    </tr>\n",
       "    <tr>\n",
       "      <th>X360</th>\n",
       "      <td>81.66</td>\n",
       "    </tr>\n",
       "    <tr>\n",
       "      <th>PS3</th>\n",
       "      <td>63.50</td>\n",
       "    </tr>\n",
       "    <tr>\n",
       "      <th>3DS</th>\n",
       "      <td>38.20</td>\n",
       "    </tr>\n",
       "  </tbody>\n",
       "</table>\n",
       "</div>"
      ],
      "text/plain": [
       "          na_sales\n",
       "platform          \n",
       "PS4         108.74\n",
       "XOne         93.12\n",
       "X360         81.66\n",
       "PS3          63.50\n",
       "3DS          38.20"
      ]
     },
     "metadata": {},
     "output_type": "display_data"
    },
    {
     "data": {
      "text/html": [
       "<div>\n",
       "<style scoped>\n",
       "    .dataframe tbody tr th:only-of-type {\n",
       "        vertical-align: middle;\n",
       "    }\n",
       "\n",
       "    .dataframe tbody tr th {\n",
       "        vertical-align: top;\n",
       "    }\n",
       "\n",
       "    .dataframe thead th {\n",
       "        text-align: right;\n",
       "    }\n",
       "</style>\n",
       "<table border=\"1\" class=\"dataframe\">\n",
       "  <thead>\n",
       "    <tr style=\"text-align: right;\">\n",
       "      <th></th>\n",
       "      <th>eu_sales</th>\n",
       "    </tr>\n",
       "    <tr>\n",
       "      <th>platform</th>\n",
       "      <th></th>\n",
       "    </tr>\n",
       "  </thead>\n",
       "  <tbody>\n",
       "    <tr>\n",
       "      <th>PS4</th>\n",
       "      <td>141.09</td>\n",
       "    </tr>\n",
       "    <tr>\n",
       "      <th>PS3</th>\n",
       "      <td>67.81</td>\n",
       "    </tr>\n",
       "    <tr>\n",
       "      <th>XOne</th>\n",
       "      <td>51.59</td>\n",
       "    </tr>\n",
       "    <tr>\n",
       "      <th>X360</th>\n",
       "      <td>42.52</td>\n",
       "    </tr>\n",
       "    <tr>\n",
       "      <th>3DS</th>\n",
       "      <td>30.96</td>\n",
       "    </tr>\n",
       "  </tbody>\n",
       "</table>\n",
       "</div>"
      ],
      "text/plain": [
       "          eu_sales\n",
       "platform          \n",
       "PS4         141.09\n",
       "PS3          67.81\n",
       "XOne         51.59\n",
       "X360         42.52\n",
       "3DS          30.96"
      ]
     },
     "metadata": {},
     "output_type": "display_data"
    },
    {
     "data": {
      "text/html": [
       "<div>\n",
       "<style scoped>\n",
       "    .dataframe tbody tr th:only-of-type {\n",
       "        vertical-align: middle;\n",
       "    }\n",
       "\n",
       "    .dataframe tbody tr th {\n",
       "        vertical-align: top;\n",
       "    }\n",
       "\n",
       "    .dataframe thead th {\n",
       "        text-align: right;\n",
       "    }\n",
       "</style>\n",
       "<table border=\"1\" class=\"dataframe\">\n",
       "  <thead>\n",
       "    <tr style=\"text-align: right;\">\n",
       "      <th></th>\n",
       "      <th>jp_sales</th>\n",
       "    </tr>\n",
       "    <tr>\n",
       "      <th>platform</th>\n",
       "      <th></th>\n",
       "    </tr>\n",
       "  </thead>\n",
       "  <tbody>\n",
       "    <tr>\n",
       "      <th>3DS</th>\n",
       "      <td>67.81</td>\n",
       "    </tr>\n",
       "    <tr>\n",
       "      <th>PS3</th>\n",
       "      <td>23.35</td>\n",
       "    </tr>\n",
       "    <tr>\n",
       "      <th>PSV</th>\n",
       "      <td>18.59</td>\n",
       "    </tr>\n",
       "    <tr>\n",
       "      <th>PS4</th>\n",
       "      <td>15.96</td>\n",
       "    </tr>\n",
       "    <tr>\n",
       "      <th>WiiU</th>\n",
       "      <td>10.88</td>\n",
       "    </tr>\n",
       "  </tbody>\n",
       "</table>\n",
       "</div>"
      ],
      "text/plain": [
       "          jp_sales\n",
       "platform          \n",
       "3DS          67.81\n",
       "PS3          23.35\n",
       "PSV          18.59\n",
       "PS4          15.96\n",
       "WiiU         10.88"
      ]
     },
     "execution_count": 34,
     "metadata": {},
     "output_type": "execute_result"
    }
   ],
   "source": [
    "#для Северной Америки\n",
    "data_after_2013_platform_na = data_after_2013.pivot_table(index='platform', values='na_sales', aggfunc='sum')\n",
    "display(data_after_2013_platform_na.sort_values(by='na_sales', ascending=False).head())\n",
    "#для Европы \n",
    "data_after_2013_platform_eu = data_after_2013.pivot_table(index='platform', values='eu_sales', aggfunc='sum')\n",
    "display(data_after_2013_platform_eu.sort_values(by='eu_sales', ascending=False).head())\n",
    "#для Японии\n",
    "data_after_2013_platform_jp = data_after_2013.pivot_table(index='platform', values='jp_sales', aggfunc='sum')\n",
    "data_after_2013_platform_jp.sort_values(by='jp_sales', ascending=False).head()"
   ]
  },
  {
   "cell_type": "code",
   "execution_count": 35,
   "metadata": {
    "scrolled": true
   },
   "outputs": [
    {
     "data": {
      "image/png": "[encoded data removed]",
      "text/plain": [
       "<Figure size 576x576 with 1 Axes>"
      ]
     },
     "metadata": {},
     "output_type": "display_data"
    },
    {
     "data": {
      "image/png": "[encoded data removed]",
      "text/plain": [
       "<Figure size 576x576 with 1 Axes>"
      ]
     },
     "metadata": {},
     "output_type": "display_data"
    },
    {
     "data": {
      "image/png": "[encoded data removed]",
      "text/plain": [
       "<Figure size 576x576 with 1 Axes>"
      ]
     },
     "metadata": {},
     "output_type": "display_data"
    }
   ],
   "source": [
    "data_after_2013_platform_na.sort_values(by='na_sales', ascending=False).plot(kind='pie', figsize=(8,8), y = 'na_sales', title='Платформы в Северной Америке')\n",
    "data_after_2013_platform_eu.sort_values(by='eu_sales', ascending=False).plot(kind='pie', figsize=(8,8), y = 'eu_sales', title='Платформы в Европе')\n",
    "data_after_2013_platform_jp.sort_values(by='jp_sales', ascending=False).plot(kind='pie', figsize=(8,8), y = 'jp_sales', title='Платформы в Японии')\n",
    "\n",
    "plt.show()"
   ]
  },
  {
   "cell_type": "markdown",
   "metadata": {},
   "source": [
    "Для Японии отличается наиболее популярная платформа от Северной Америки и Европы (у них одинаковая). Вероятно, она производится в Азии."
   ]
  },
  {
   "cell_type": "markdown",
   "metadata": {},
   "source": [
    "Самые популярные жанры:"
   ]
  },
  {
   "cell_type": "code",
   "execution_count": 36,
   "metadata": {
    "scrolled": true
   },
   "outputs": [
    {
     "data": {
      "text/html": [
       "<div>\n",
       "<style scoped>\n",
       "    .dataframe tbody tr th:only-of-type {\n",
       "        vertical-align: middle;\n",
       "    }\n",
       "\n",
       "    .dataframe tbody tr th {\n",
       "        vertical-align: top;\n",
       "    }\n",
       "\n",
       "    .dataframe thead th {\n",
       "        text-align: right;\n",
       "    }\n",
       "</style>\n",
       "<table border=\"1\" class=\"dataframe\">\n",
       "  <thead>\n",
       "    <tr style=\"text-align: right;\">\n",
       "      <th></th>\n",
       "      <th>na_sales</th>\n",
       "    </tr>\n",
       "    <tr>\n",
       "      <th>genre</th>\n",
       "      <th></th>\n",
       "    </tr>\n",
       "  </thead>\n",
       "  <tbody>\n",
       "    <tr>\n",
       "      <th>Action</th>\n",
       "      <td>126.05</td>\n",
       "    </tr>\n",
       "    <tr>\n",
       "      <th>Shooter</th>\n",
       "      <td>109.74</td>\n",
       "    </tr>\n",
       "    <tr>\n",
       "      <th>Sports</th>\n",
       "      <td>65.27</td>\n",
       "    </tr>\n",
       "    <tr>\n",
       "      <th>Role-Playing</th>\n",
       "      <td>46.40</td>\n",
       "    </tr>\n",
       "    <tr>\n",
       "      <th>Misc</th>\n",
       "      <td>27.49</td>\n",
       "    </tr>\n",
       "  </tbody>\n",
       "</table>\n",
       "</div>"
      ],
      "text/plain": [
       "              na_sales\n",
       "genre                 \n",
       "Action          126.05\n",
       "Shooter         109.74\n",
       "Sports           65.27\n",
       "Role-Playing     46.40\n",
       "Misc             27.49"
      ]
     },
     "metadata": {},
     "output_type": "display_data"
    },
    {
     "data": {
      "text/html": [
       "<div>\n",
       "<style scoped>\n",
       "    .dataframe tbody tr th:only-of-type {\n",
       "        vertical-align: middle;\n",
       "    }\n",
       "\n",
       "    .dataframe tbody tr th {\n",
       "        vertical-align: top;\n",
       "    }\n",
       "\n",
       "    .dataframe thead th {\n",
       "        text-align: right;\n",
       "    }\n",
       "</style>\n",
       "<table border=\"1\" class=\"dataframe\">\n",
       "  <thead>\n",
       "    <tr style=\"text-align: right;\">\n",
       "      <th></th>\n",
       "      <th>eu_sales</th>\n",
       "    </tr>\n",
       "    <tr>\n",
       "      <th>genre</th>\n",
       "      <th></th>\n",
       "    </tr>\n",
       "  </thead>\n",
       "  <tbody>\n",
       "    <tr>\n",
       "      <th>Action</th>\n",
       "      <td>118.13</td>\n",
       "    </tr>\n",
       "    <tr>\n",
       "      <th>Shooter</th>\n",
       "      <td>87.86</td>\n",
       "    </tr>\n",
       "    <tr>\n",
       "      <th>Sports</th>\n",
       "      <td>60.52</td>\n",
       "    </tr>\n",
       "    <tr>\n",
       "      <th>Role-Playing</th>\n",
       "      <td>36.97</td>\n",
       "    </tr>\n",
       "    <tr>\n",
       "      <th>Racing</th>\n",
       "      <td>20.19</td>\n",
       "    </tr>\n",
       "  </tbody>\n",
       "</table>\n",
       "</div>"
      ],
      "text/plain": [
       "              eu_sales\n",
       "genre                 \n",
       "Action          118.13\n",
       "Shooter          87.86\n",
       "Sports           60.52\n",
       "Role-Playing     36.97\n",
       "Racing           20.19"
      ]
     },
     "metadata": {},
     "output_type": "display_data"
    },
    {
     "data": {
      "text/html": [
       "<div>\n",
       "<style scoped>\n",
       "    .dataframe tbody tr th:only-of-type {\n",
       "        vertical-align: middle;\n",
       "    }\n",
       "\n",
       "    .dataframe tbody tr th {\n",
       "        vertical-align: top;\n",
       "    }\n",
       "\n",
       "    .dataframe thead th {\n",
       "        text-align: right;\n",
       "    }\n",
       "</style>\n",
       "<table border=\"1\" class=\"dataframe\">\n",
       "  <thead>\n",
       "    <tr style=\"text-align: right;\">\n",
       "      <th></th>\n",
       "      <th>jp_sales</th>\n",
       "    </tr>\n",
       "    <tr>\n",
       "      <th>genre</th>\n",
       "      <th></th>\n",
       "    </tr>\n",
       "  </thead>\n",
       "  <tbody>\n",
       "    <tr>\n",
       "      <th>Role-Playing</th>\n",
       "      <td>51.04</td>\n",
       "    </tr>\n",
       "    <tr>\n",
       "      <th>Action</th>\n",
       "      <td>40.49</td>\n",
       "    </tr>\n",
       "    <tr>\n",
       "      <th>Misc</th>\n",
       "      <td>9.20</td>\n",
       "    </tr>\n",
       "    <tr>\n",
       "      <th>Fighting</th>\n",
       "      <td>7.65</td>\n",
       "    </tr>\n",
       "    <tr>\n",
       "      <th>Shooter</th>\n",
       "      <td>6.61</td>\n",
       "    </tr>\n",
       "  </tbody>\n",
       "</table>\n",
       "</div>"
      ],
      "text/plain": [
       "              jp_sales\n",
       "genre                 \n",
       "Role-Playing     51.04\n",
       "Action           40.49\n",
       "Misc              9.20\n",
       "Fighting          7.65\n",
       "Shooter           6.61"
      ]
     },
     "execution_count": 36,
     "metadata": {},
     "output_type": "execute_result"
    }
   ],
   "source": [
    "#для Северной Америки\n",
    "data_after_2013_genre_na = data_after_2013.pivot_table(index='genre', values='na_sales', aggfunc='sum')\n",
    "display(data_after_2013_genre_na.sort_values(by='na_sales', ascending=False).head())\n",
    "#для Европы \n",
    "data_after_2013_genre_eu = data_after_2013.pivot_table(index='genre', values='eu_sales', aggfunc='sum')\n",
    "display(data_after_2013_genre_eu.sort_values(by='eu_sales', ascending=False).head())\n",
    "#для Японии\n",
    "data_after_2013_genre_jp = data_after_2013.pivot_table(index='genre', values='jp_sales', aggfunc='sum')\n",
    "data_after_2013_genre_jp.sort_values(by='jp_sales', ascending=False).head()"
   ]
  },
  {
   "cell_type": "code",
   "execution_count": 37,
   "metadata": {},
   "outputs": [
    {
     "data": {
      "image/png": "[encoded data removed]",
      "text/plain": [
       "<Figure size 576x576 with 1 Axes>"
      ]
     },
     "metadata": {},
     "output_type": "display_data"
    },
    {
     "data": {
      "image/png": "[encoded data removed]",
      "text/plain": [
       "<Figure size 576x576 with 1 Axes>"
      ]
     },
     "metadata": {},
     "output_type": "display_data"
    },
    {
     "data": {
      "image/png": "[encoded data removed]",
      "text/plain": [
       "<Figure size 576x576 with 1 Axes>"
      ]
     },
     "metadata": {},
     "output_type": "display_data"
    }
   ],
   "source": [
    "data_after_2013_genre_na.sort_values(by='na_sales', ascending=False).plot(kind='pie', figsize=(8,8), y = 'na_sales', title='Жанры в Северной Америке')\n",
    "data_after_2013_genre_eu.sort_values(by='eu_sales', ascending=False).plot(kind='pie', figsize=(8,8), y = 'eu_sales', title='Жанры в Европе')\n",
    "data_after_2013_genre_jp.sort_values(by='jp_sales', ascending=False).plot(kind='pie', figsize=(8,8), y = 'jp_sales', title='Жанры в Японии')\n",
    "\n",
    "plt.show()"
   ]
  },
  {
   "cell_type": "markdown",
   "metadata": {},
   "source": [
    "Для Северной Америки и Европы практически одинаковые наиболее популярные жанры. Для Японии наиболее популярный жанр отличается, вероятнее всего, из-за другой культуры."
   ]
  },
  {
   "cell_type": "markdown",
   "metadata": {},
   "source": [
    "Влияние рейтинга ESRB на продажи в отдельном регионе:"
   ]
  },
  {
   "cell_type": "code",
   "execution_count": 38,
   "metadata": {
    "scrolled": false
   },
   "outputs": [
    {
     "data": {
      "text/html": [
       "<div>\n",
       "<style scoped>\n",
       "    .dataframe tbody tr th:only-of-type {\n",
       "        vertical-align: middle;\n",
       "    }\n",
       "\n",
       "    .dataframe tbody tr th {\n",
       "        vertical-align: top;\n",
       "    }\n",
       "\n",
       "    .dataframe thead th {\n",
       "        text-align: right;\n",
       "    }\n",
       "</style>\n",
       "<table border=\"1\" class=\"dataframe\">\n",
       "  <thead>\n",
       "    <tr style=\"text-align: right;\">\n",
       "      <th></th>\n",
       "      <th>na_sales</th>\n",
       "    </tr>\n",
       "    <tr>\n",
       "      <th>rating</th>\n",
       "      <th></th>\n",
       "    </tr>\n",
       "  </thead>\n",
       "  <tbody>\n",
       "    <tr>\n",
       "      <th>M</th>\n",
       "      <td>165.21</td>\n",
       "    </tr>\n",
       "    <tr>\n",
       "      <th>E</th>\n",
       "      <td>79.05</td>\n",
       "    </tr>\n",
       "    <tr>\n",
       "      <th>E10+</th>\n",
       "      <td>54.24</td>\n",
       "    </tr>\n",
       "    <tr>\n",
       "      <th>T</th>\n",
       "      <td>49.79</td>\n",
       "    </tr>\n",
       "  </tbody>\n",
       "</table>\n",
       "</div>"
      ],
      "text/plain": [
       "        na_sales\n",
       "rating          \n",
       "M         165.21\n",
       "E          79.05\n",
       "E10+       54.24\n",
       "T          49.79"
      ]
     },
     "metadata": {},
     "output_type": "display_data"
    },
    {
     "data": {
      "text/html": [
       "<div>\n",
       "<style scoped>\n",
       "    .dataframe tbody tr th:only-of-type {\n",
       "        vertical-align: middle;\n",
       "    }\n",
       "\n",
       "    .dataframe tbody tr th {\n",
       "        vertical-align: top;\n",
       "    }\n",
       "\n",
       "    .dataframe thead th {\n",
       "        text-align: right;\n",
       "    }\n",
       "</style>\n",
       "<table border=\"1\" class=\"dataframe\">\n",
       "  <thead>\n",
       "    <tr style=\"text-align: right;\">\n",
       "      <th></th>\n",
       "      <th>eu_sales</th>\n",
       "    </tr>\n",
       "    <tr>\n",
       "      <th>rating</th>\n",
       "      <th></th>\n",
       "    </tr>\n",
       "  </thead>\n",
       "  <tbody>\n",
       "    <tr>\n",
       "      <th>M</th>\n",
       "      <td>145.32</td>\n",
       "    </tr>\n",
       "    <tr>\n",
       "      <th>E</th>\n",
       "      <td>83.36</td>\n",
       "    </tr>\n",
       "    <tr>\n",
       "      <th>E10+</th>\n",
       "      <td>42.69</td>\n",
       "    </tr>\n",
       "    <tr>\n",
       "      <th>T</th>\n",
       "      <td>41.95</td>\n",
       "    </tr>\n",
       "  </tbody>\n",
       "</table>\n",
       "</div>"
      ],
      "text/plain": [
       "        eu_sales\n",
       "rating          \n",
       "M         145.32\n",
       "E          83.36\n",
       "E10+       42.69\n",
       "T          41.95"
      ]
     },
     "metadata": {},
     "output_type": "display_data"
    },
    {
     "data": {
      "text/html": [
       "<div>\n",
       "<style scoped>\n",
       "    .dataframe tbody tr th:only-of-type {\n",
       "        vertical-align: middle;\n",
       "    }\n",
       "\n",
       "    .dataframe tbody tr th {\n",
       "        vertical-align: top;\n",
       "    }\n",
       "\n",
       "    .dataframe thead th {\n",
       "        text-align: right;\n",
       "    }\n",
       "</style>\n",
       "<table border=\"1\" class=\"dataframe\">\n",
       "  <thead>\n",
       "    <tr style=\"text-align: right;\">\n",
       "      <th></th>\n",
       "      <th>jp_sales</th>\n",
       "    </tr>\n",
       "    <tr>\n",
       "      <th>rating</th>\n",
       "      <th></th>\n",
       "    </tr>\n",
       "  </thead>\n",
       "  <tbody>\n",
       "    <tr>\n",
       "      <th>T</th>\n",
       "      <td>20.59</td>\n",
       "    </tr>\n",
       "    <tr>\n",
       "      <th>E</th>\n",
       "      <td>15.14</td>\n",
       "    </tr>\n",
       "    <tr>\n",
       "      <th>M</th>\n",
       "      <td>14.11</td>\n",
       "    </tr>\n",
       "    <tr>\n",
       "      <th>E10+</th>\n",
       "      <td>5.89</td>\n",
       "    </tr>\n",
       "  </tbody>\n",
       "</table>\n",
       "</div>"
      ],
      "text/plain": [
       "        jp_sales\n",
       "rating          \n",
       "T          20.59\n",
       "E          15.14\n",
       "M          14.11\n",
       "E10+        5.89"
      ]
     },
     "execution_count": 38,
     "metadata": {},
     "output_type": "execute_result"
    }
   ],
   "source": [
    "#для Северной Америки\n",
    "data_after_2013_rating_na = data_after_2013.pivot_table(index='rating', values='na_sales', aggfunc='sum')\n",
    "display(data_after_2013_rating_na.sort_values(by='na_sales', ascending=False).head())\n",
    "#для Европы \n",
    "data_after_2013_rating_eu = data_after_2013.pivot_table(index='rating', values='eu_sales', aggfunc='sum')\n",
    "display(data_after_2013_rating_eu.sort_values(by='eu_sales', ascending=False).head())\n",
    "#для Японии\n",
    "data_after_2013_rating_jp = data_after_2013.pivot_table(index='rating', values='jp_sales', aggfunc='sum')\n",
    "data_after_2013_rating_jp.sort_values(by='jp_sales', ascending=False).head()"
   ]
  },
  {
   "cell_type": "code",
   "execution_count": 39,
   "metadata": {},
   "outputs": [
    {
     "data": {
      "image/png": "[encoded data removed]",
      "text/plain": [
       "<Figure size 576x576 with 1 Axes>"
      ]
     },
     "metadata": {},
     "output_type": "display_data"
    },
    {
     "data": {
      "image/png": "[encoded data removed]",
      "text/plain": [
       "<Figure size 576x576 with 1 Axes>"
      ]
     },
     "metadata": {},
     "output_type": "display_data"
    },
    {
     "data": {
      "image/png": "[encoded data removed]",
      "text/plain": [
       "<Figure size 576x576 with 1 Axes>"
      ]
     },
     "metadata": {},
     "output_type": "display_data"
    }
   ],
   "source": [
    "data_after_2013_rating_na.sort_values(by='na_sales', ascending=False).plot(kind='pie', figsize=(8,8), y = 'na_sales', title='Рейтинг в Северной Америке')\n",
    "data_after_2013_rating_eu.sort_values(by='eu_sales', ascending=False).plot(kind='pie', figsize=(8,8), y = 'eu_sales', title='Рейтинг в Европе')\n",
    "data_after_2013_rating_jp.sort_values(by='jp_sales', ascending=False).plot(kind='pie', figsize=(8,8), y = 'jp_sales', title='Рейтинг в Японии')\n",
    "\n",
    "plt.show()"
   ]
  },
  {
   "cell_type": "markdown",
   "metadata": {},
   "source": [
    "Для Северной Америки и Европы схожее распределение продаж в зависимости от рейтинга. В Японии, в отличии от других регионов, большей популярностью пользуются продажи с рейтингом `T`, чем `M`."
   ]
  },
  {
   "cell_type": "markdown",
   "metadata": {},
   "source": [
    "**Вывод: в Японии отличается наиболее популярная платформа (вероятно, она производится в Азии) от Северной Америки и Европы (у них одинаковая). Для Северной Америки и Европы практически одинаковые наиболее популярные жанры. Для Японии наиболее популярный жанр отличается. Для Северной Америки и Европы схожее распределение продаж в зависимости от рейтинга. В Японии, в отличии от других регионов, большей популярностью пользуются продажи с рейтингом `T`, чем `M`.**"
   ]
  },
  {
   "cell_type": "markdown",
   "metadata": {},
   "source": [
    "## Проверка гипотез <a id='six'></a>"
   ]
  },
  {
   "cell_type": "markdown",
   "metadata": {},
   "source": [
    "Средние пользовательские рейтинги платформ Xbox One и PC одинаковые:"
   ]
  },
  {
   "cell_type": "markdown",
   "metadata": {},
   "source": [
    "`Нулевая гипотеза`: средние пользовательские рейтинги платформ Xbox One и PC равны.\n",
    "\n",
    "`Альтернативная гипотеза`: средние пользовательские рейтинги платформ Xbox One и PC не равны."
   ]
  },
  {
   "cell_type": "code",
   "execution_count": 40,
   "metadata": {
    "scrolled": false
   },
   "outputs": [],
   "source": [
    "xbox_one = data_after_2013.loc[data_after_2013['platform'] == 'XOne'].reset_index()\n",
    "xbox_one['user_score'] = xbox_one['user_score'].fillna(-1)#заполним NaN заглушками -1\n",
    "xbox_one = xbox_one.loc[xbox_one['user_score'] >= 0]['user_score'].reset_index(drop=True)\n",
    "\n",
    "pc = data_after_2013.loc[data_after_2013['platform'] == 'PC'].reset_index()\n",
    "pc['user_score'] = pc['user_score'].fillna(-1)#заполним NaN заглушками -1\n",
    "pc = pc.loc[pc['user_score'] >= 0]['user_score'].reset_index(drop=True)"
   ]
  },
  {
   "cell_type": "code",
   "execution_count": 41,
   "metadata": {
    "scrolled": false
   },
   "outputs": [
    {
     "name": "stdout",
     "output_type": "stream",
     "text": [
      "p-value: 0.14759594013430463\n",
      "Нет оснований отвергнуть нулевую гипотезу\n"
     ]
    }
   ],
   "source": [
    "alpha = 0.05\n",
    "result = st.ttest_ind(xbox_one, pc, equal_var=False)\n",
    "print(f'p-value: {result.pvalue}')\n",
    "if result.pvalue < alpha:\n",
    "    print('Отвергаем нулевую гипотезу')\n",
    "else:\n",
    "    print('Нет оснований отвергнуть нулевую гипотезу')"
   ]
  },
  {
   "cell_type": "markdown",
   "metadata": {},
   "source": [
    "Значение p-value больше заданного уровня значимости. Есть основание говорить, что средние пользовательские рейтинги платформ Xbox One и PC равны."
   ]
  },
  {
   "cell_type": "markdown",
   "metadata": {},
   "source": [
    "Средние пользовательские рейтинги жанров Action  и Sports разные:"
   ]
  },
  {
   "cell_type": "markdown",
   "metadata": {},
   "source": [
    "`Нулевая гипотеза`: средние пользовательские рейтинги жанров Action и Sports одинаковые.\n",
    "\n",
    "`Альтернативная гипотеза`: средние пользовательские рейтинги жанров Action и Sports разные."
   ]
  },
  {
   "cell_type": "code",
   "execution_count": 42,
   "metadata": {},
   "outputs": [],
   "source": [
    "action = data_after_2013.loc[data_after_2013['genre'] == 'Action'].reset_index()\n",
    "action['user_score'] = action['user_score'].fillna(-1)#заполним NaN заглушками -1\n",
    "action = action.loc[action['user_score'] >= 0]['user_score'].reset_index(drop=True)\n",
    "\n",
    "sports = data_after_2013.loc[data_after_2013['genre'] == 'Sports'].reset_index()\n",
    "sports['user_score'] = sports['user_score'].fillna(-1)#заполним NaN заглушками -1\n",
    "sports = sports.loc[sports['user_score'] >= 0]['user_score'].reset_index(drop=True)"
   ]
  },
  {
   "cell_type": "code",
   "execution_count": 43,
   "metadata": {
    "scrolled": true
   },
   "outputs": [
    {
     "name": "stdout",
     "output_type": "stream",
     "text": [
      "p-value: 1.4460039700704315e-20\n",
      "Отвергаем нулевую гипотезу\n"
     ]
    }
   ],
   "source": [
    "alpha = 0.05\n",
    "result = st.ttest_ind(action, sports, equal_var=False)\n",
    "print(f'p-value: {result.pvalue}')\n",
    "if result.pvalue < alpha:\n",
    "    print('Отвергаем нулевую гипотезу')\n",
    "else:\n",
    "    print('Нет оснований отвергнуть нулевую гипотезу')"
   ]
  },
  {
   "cell_type": "markdown",
   "metadata": {},
   "source": [
    "Значение p-value меньше заданного уровня значимости. Есть основание говорить, что средние пользовательские рейтинги жанров Action и Sports разные."
   ]
  },
  {
   "cell_type": "markdown",
   "metadata": {},
   "source": [
    "**Вывод: Есть основание говорить, что средние пользовательские рейтинги платформ Xbox One и PC равны. Есть основание говорить, что средние пользовательские рейтинги жанров Action и Sports разные.**"
   ]
  },
  {
   "cell_type": "markdown",
   "metadata": {},
   "source": [
    "## Общий вывод<a id='seven'></a>"
   ]
  },
  {
   "cell_type": "markdown",
   "metadata": {},
   "source": [
    "**Для проведения анализа был взят период с 2013 года, поскольку пик продаж игр для платформ происходит через 3-6 лет. По результатам проведенного анализа были выявлены следующие факторы, влияющие на продажу игр:**\n",
    "- платформа, для которой подходит игра;\n",
    "\n",
    "- оценка игры от критиков;\n",
    "\n",
    "- жанр игры.\n",
    "\n",
    "**Потенциально прибыльными можно считать платформы для игр `PS4`, `XOne`, `3DS`, `PC`, `PSV`.**\n",
    "\n",
    "**Рекомендуется для получения большей прибыли продавать игры для платформ `PS4`, `XOne` в Северную Америку и Европу, для  `3DS` в Японию.**\n",
    "\n",
    "**Также для получения большей прибыли рекомендуется продавать игры с высоким рейтингом от критиков.**\n",
    "\n",
    "**На рынок Северной Америки и Европы для получения большей прибыли рекомендуется направлять игры в жанрах `Action`, `Shooter`, `Sports`, в Японию - `Role-Playing`, `Action`.** \n",
    "\n",
    "**В Северной Америке и Европе наиболее прибыльным является жанр игры с рейтингом по ESRB `M`, в Японии - с рейтингом `T`.** \n",
    "\n"
   ]
  }
 ],
 "metadata": {
  "ExecuteTimeLog": [
   {
    "duration": 633,
    "start_time": "2023-05-29T11:34:03.614Z"
   },
   {
    "duration": 275,
    "start_time": "2023-05-29T11:34:34.674Z"
   },
   {
    "duration": 90,
    "start_time": "2023-05-29T11:34:41.096Z"
   },
   {
    "duration": 123,
    "start_time": "2023-05-29T11:35:32.952Z"
   },
   {
    "duration": 284,
    "start_time": "2023-05-29T11:36:34.040Z"
   },
   {
    "duration": 130,
    "start_time": "2023-05-29T11:36:43.341Z"
   },
   {
    "duration": 746,
    "start_time": "2023-05-29T11:38:44.603Z"
   },
   {
    "duration": 160,
    "start_time": "2023-05-29T11:38:47.357Z"
   },
   {
    "duration": 1180,
    "start_time": "2023-05-29T11:39:06.854Z"
   },
   {
    "duration": 1082,
    "start_time": "2023-05-29T11:39:40.836Z"
   },
   {
    "duration": 1223,
    "start_time": "2023-05-29T11:39:51.641Z"
   },
   {
    "duration": 3,
    "start_time": "2023-05-29T12:01:21.095Z"
   },
   {
    "duration": 94,
    "start_time": "2023-05-29T12:01:22.506Z"
   },
   {
    "duration": 3,
    "start_time": "2023-05-29T12:07:29.184Z"
   },
   {
    "duration": 103,
    "start_time": "2023-05-29T12:07:29.189Z"
   },
   {
    "duration": 777,
    "start_time": "2023-05-29T12:07:29.294Z"
   },
   {
    "duration": 3,
    "start_time": "2023-05-29T12:08:18.736Z"
   },
   {
    "duration": 128,
    "start_time": "2023-05-29T12:08:18.742Z"
   },
   {
    "duration": 915,
    "start_time": "2023-05-29T12:08:18.871Z"
   },
   {
    "duration": 3,
    "start_time": "2023-05-29T12:11:38.319Z"
   },
   {
    "duration": 110,
    "start_time": "2023-05-29T12:11:38.326Z"
   },
   {
    "duration": 801,
    "start_time": "2023-05-29T12:11:38.438Z"
   },
   {
    "duration": 3,
    "start_time": "2023-05-29T12:13:35.413Z"
   },
   {
    "duration": 112,
    "start_time": "2023-05-29T12:13:35.421Z"
   },
   {
    "duration": 773,
    "start_time": "2023-05-29T12:13:35.535Z"
   },
   {
    "duration": 5,
    "start_time": "2023-05-29T12:19:23.524Z"
   },
   {
    "duration": 7,
    "start_time": "2023-05-29T12:19:33.487Z"
   },
   {
    "duration": 2,
    "start_time": "2023-05-29T12:19:38.447Z"
   },
   {
    "duration": 122,
    "start_time": "2023-05-29T12:19:38.452Z"
   },
   {
    "duration": 844,
    "start_time": "2023-05-29T12:19:38.575Z"
   },
   {
    "duration": 8,
    "start_time": "2023-05-29T12:19:42.842Z"
   },
   {
    "duration": 16,
    "start_time": "2023-05-29T12:19:59.217Z"
   },
   {
    "duration": 983,
    "start_time": "2023-05-29T17:44:28.899Z"
   },
   {
    "duration": 211,
    "start_time": "2023-05-29T17:44:29.885Z"
   },
   {
    "duration": 750,
    "start_time": "2023-05-29T17:44:30.098Z"
   },
   {
    "duration": 26,
    "start_time": "2023-05-29T17:44:30.850Z"
   },
   {
    "duration": 118,
    "start_time": "2023-05-29T17:46:39.739Z"
   },
   {
    "duration": 38,
    "start_time": "2023-05-29T17:47:40.916Z"
   },
   {
    "duration": 16,
    "start_time": "2023-05-29T17:48:50.508Z"
   },
   {
    "duration": 7,
    "start_time": "2023-05-29T17:52:38.652Z"
   },
   {
    "duration": 134,
    "start_time": "2023-05-29T17:53:52.960Z"
   },
   {
    "duration": 101,
    "start_time": "2023-05-29T17:54:19.184Z"
   },
   {
    "duration": 414,
    "start_time": "2023-05-29T17:55:23.784Z"
   },
   {
    "duration": 130,
    "start_time": "2023-05-29T17:55:32.041Z"
   },
   {
    "duration": 148,
    "start_time": "2023-05-29T17:55:37.013Z"
   },
   {
    "duration": 18,
    "start_time": "2023-05-29T17:55:43.846Z"
   },
   {
    "duration": 4,
    "start_time": "2023-05-29T17:55:51.783Z"
   },
   {
    "duration": 9,
    "start_time": "2023-05-29T17:56:48.556Z"
   },
   {
    "duration": 5,
    "start_time": "2023-05-29T17:57:34.574Z"
   },
   {
    "duration": 130,
    "start_time": "2023-05-29T17:58:33.590Z"
   },
   {
    "duration": 4,
    "start_time": "2023-05-29T17:58:39.273Z"
   },
   {
    "duration": 16,
    "start_time": "2023-05-29T18:03:32.940Z"
   },
   {
    "duration": 21,
    "start_time": "2023-05-29T18:03:37.848Z"
   },
   {
    "duration": 12,
    "start_time": "2023-05-29T18:05:16.603Z"
   },
   {
    "duration": 12,
    "start_time": "2023-05-29T18:05:25.003Z"
   },
   {
    "duration": 3,
    "start_time": "2023-05-29T18:05:32.285Z"
   },
   {
    "duration": 135,
    "start_time": "2023-05-29T18:05:32.306Z"
   },
   {
    "duration": 718,
    "start_time": "2023-05-29T18:05:32.443Z"
   },
   {
    "duration": 15,
    "start_time": "2023-05-29T18:05:33.162Z"
   },
   {
    "duration": 10,
    "start_time": "2023-05-29T18:05:37.337Z"
   },
   {
    "duration": 19,
    "start_time": "2023-05-29T18:05:46.706Z"
   },
   {
    "duration": 11,
    "start_time": "2023-05-29T18:06:00.959Z"
   },
   {
    "duration": 5,
    "start_time": "2023-05-29T18:06:03.434Z"
   },
   {
    "duration": 5,
    "start_time": "2023-05-29T18:06:09.042Z"
   },
   {
    "duration": 19,
    "start_time": "2023-05-29T18:06:19.766Z"
   },
   {
    "duration": 10,
    "start_time": "2023-05-29T18:06:54.344Z"
   },
   {
    "duration": 12,
    "start_time": "2023-05-29T18:08:39.362Z"
   },
   {
    "duration": 19,
    "start_time": "2023-05-29T18:08:46.948Z"
   },
   {
    "duration": 23,
    "start_time": "2023-05-29T18:09:32.800Z"
   },
   {
    "duration": 10,
    "start_time": "2023-05-29T18:10:50.531Z"
   },
   {
    "duration": 6,
    "start_time": "2023-05-29T18:10:53.513Z"
   },
   {
    "duration": 5,
    "start_time": "2023-05-29T18:11:02.416Z"
   },
   {
    "duration": 12,
    "start_time": "2023-05-29T18:13:28.498Z"
   },
   {
    "duration": 4,
    "start_time": "2023-05-29T18:14:22.398Z"
   },
   {
    "duration": 18,
    "start_time": "2023-05-29T18:14:35.108Z"
   },
   {
    "duration": 9,
    "start_time": "2023-05-29T18:14:46.818Z"
   },
   {
    "duration": 15,
    "start_time": "2023-05-29T18:16:47.990Z"
   },
   {
    "duration": 3,
    "start_time": "2023-05-29T18:16:59.705Z"
   },
   {
    "duration": 87,
    "start_time": "2023-05-29T18:16:59.711Z"
   },
   {
    "duration": 670,
    "start_time": "2023-05-29T18:16:59.799Z"
   },
   {
    "duration": 16,
    "start_time": "2023-05-29T18:17:00.470Z"
   },
   {
    "duration": 49,
    "start_time": "2023-05-29T18:17:00.488Z"
   },
   {
    "duration": 26,
    "start_time": "2023-05-29T18:17:00.539Z"
   },
   {
    "duration": 36,
    "start_time": "2023-05-29T18:17:00.567Z"
   },
   {
    "duration": 50,
    "start_time": "2023-05-29T18:17:00.605Z"
   },
   {
    "duration": 10,
    "start_time": "2023-05-29T18:17:03.733Z"
   },
   {
    "duration": 21,
    "start_time": "2023-05-29T18:21:25.486Z"
   },
   {
    "duration": 2,
    "start_time": "2023-05-29T18:22:10.190Z"
   },
   {
    "duration": 110,
    "start_time": "2023-05-29T18:22:10.194Z"
   },
   {
    "duration": 676,
    "start_time": "2023-05-29T18:22:10.306Z"
   },
   {
    "duration": 16,
    "start_time": "2023-05-29T18:22:10.984Z"
   },
   {
    "duration": 32,
    "start_time": "2023-05-29T18:22:11.002Z"
   },
   {
    "duration": 22,
    "start_time": "2023-05-29T18:22:14.813Z"
   },
   {
    "duration": 6,
    "start_time": "2023-05-29T18:22:23.796Z"
   },
   {
    "duration": 23,
    "start_time": "2023-05-29T18:22:26.192Z"
   },
   {
    "duration": 2,
    "start_time": "2023-05-29T18:26:50.236Z"
   },
   {
    "duration": 90,
    "start_time": "2023-05-29T18:26:50.240Z"
   },
   {
    "duration": 716,
    "start_time": "2023-05-29T18:26:50.332Z"
   },
   {
    "duration": 15,
    "start_time": "2023-05-29T18:26:51.050Z"
   },
   {
    "duration": 16,
    "start_time": "2023-05-29T18:26:51.066Z"
   },
   {
    "duration": 27,
    "start_time": "2023-05-29T18:26:51.084Z"
   },
   {
    "duration": 13,
    "start_time": "2023-05-29T18:26:51.113Z"
   },
   {
    "duration": 8,
    "start_time": "2023-05-29T18:27:27.325Z"
   },
   {
    "duration": 5,
    "start_time": "2023-05-29T18:27:33.394Z"
   },
   {
    "duration": 5,
    "start_time": "2023-05-29T18:27:39.020Z"
   },
   {
    "duration": 18,
    "start_time": "2023-05-29T18:27:43.094Z"
   },
   {
    "duration": 16,
    "start_time": "2023-05-29T18:30:52.691Z"
   },
   {
    "duration": 6,
    "start_time": "2023-05-29T18:33:41.223Z"
   },
   {
    "duration": 9,
    "start_time": "2023-05-29T18:35:25.256Z"
   },
   {
    "duration": 11,
    "start_time": "2023-05-29T18:41:17.758Z"
   },
   {
    "duration": 7,
    "start_time": "2023-05-29T18:42:17.729Z"
   },
   {
    "duration": 10,
    "start_time": "2023-05-29T18:42:32.942Z"
   },
   {
    "duration": 10,
    "start_time": "2023-05-29T18:43:29.122Z"
   },
   {
    "duration": 71,
    "start_time": "2023-05-29T18:50:45.290Z"
   },
   {
    "duration": 2,
    "start_time": "2023-05-29T18:50:53.733Z"
   },
   {
    "duration": 99,
    "start_time": "2023-05-29T18:50:53.737Z"
   },
   {
    "duration": 643,
    "start_time": "2023-05-29T18:50:53.838Z"
   },
   {
    "duration": 15,
    "start_time": "2023-05-29T18:50:54.483Z"
   },
   {
    "duration": 21,
    "start_time": "2023-05-29T18:50:54.500Z"
   },
   {
    "duration": 5,
    "start_time": "2023-05-29T18:50:54.523Z"
   },
   {
    "duration": 14,
    "start_time": "2023-05-29T18:50:54.530Z"
   },
   {
    "duration": 30,
    "start_time": "2023-05-29T18:50:54.546Z"
   },
   {
    "duration": 11,
    "start_time": "2023-05-29T18:50:54.578Z"
   },
   {
    "duration": 28,
    "start_time": "2023-05-29T18:50:54.591Z"
   },
   {
    "duration": 98,
    "start_time": "2023-05-29T18:50:59.622Z"
   },
   {
    "duration": 92,
    "start_time": "2023-05-29T18:51:35.556Z"
   },
   {
    "duration": 118,
    "start_time": "2023-05-29T18:51:52.849Z"
   },
   {
    "duration": 70,
    "start_time": "2023-05-29T18:51:57.229Z"
   },
   {
    "duration": 74,
    "start_time": "2023-05-29T18:52:01.994Z"
   },
   {
    "duration": 5,
    "start_time": "2023-05-29T18:55:41.343Z"
   },
   {
    "duration": 8,
    "start_time": "2023-05-29T18:55:46.038Z"
   },
   {
    "duration": 4,
    "start_time": "2023-05-29T18:55:50.402Z"
   },
   {
    "duration": 7,
    "start_time": "2023-05-29T18:56:09.490Z"
   },
   {
    "duration": 11,
    "start_time": "2023-05-29T18:59:56.737Z"
   },
   {
    "duration": 22,
    "start_time": "2023-05-29T19:00:57.713Z"
   },
   {
    "duration": 11,
    "start_time": "2023-05-29T19:02:03.608Z"
   },
   {
    "duration": 6,
    "start_time": "2023-05-29T19:02:09.242Z"
   },
   {
    "duration": 6,
    "start_time": "2023-05-29T19:02:19.805Z"
   },
   {
    "duration": 8,
    "start_time": "2023-05-29T19:02:41.689Z"
   },
   {
    "duration": 3,
    "start_time": "2023-05-29T19:02:47.812Z"
   },
   {
    "duration": 129,
    "start_time": "2023-05-29T19:02:47.817Z"
   },
   {
    "duration": 723,
    "start_time": "2023-05-29T19:02:47.947Z"
   },
   {
    "duration": 26,
    "start_time": "2023-05-29T19:02:48.672Z"
   },
   {
    "duration": 21,
    "start_time": "2023-05-29T19:02:48.700Z"
   },
   {
    "duration": 5,
    "start_time": "2023-05-29T19:02:48.723Z"
   },
   {
    "duration": 23,
    "start_time": "2023-05-29T19:02:48.733Z"
   },
   {
    "duration": 17,
    "start_time": "2023-05-29T19:02:48.758Z"
   },
   {
    "duration": 5,
    "start_time": "2023-05-29T19:02:48.777Z"
   },
   {
    "duration": 28,
    "start_time": "2023-05-29T19:02:48.784Z"
   },
   {
    "duration": 16,
    "start_time": "2023-05-29T19:02:53.016Z"
   },
   {
    "duration": 7,
    "start_time": "2023-05-29T19:03:15.646Z"
   },
   {
    "duration": 7,
    "start_time": "2023-05-29T19:07:14.147Z"
   },
   {
    "duration": 5,
    "start_time": "2023-05-29T19:07:32.504Z"
   },
   {
    "duration": 15,
    "start_time": "2023-05-29T19:07:41.515Z"
   },
   {
    "duration": 14,
    "start_time": "2023-05-29T19:09:37.282Z"
   },
   {
    "duration": 28,
    "start_time": "2023-05-29T19:10:14.911Z"
   },
   {
    "duration": 28,
    "start_time": "2023-05-29T19:11:14.354Z"
   },
   {
    "duration": 24,
    "start_time": "2023-05-29T19:11:47.647Z"
   },
   {
    "duration": 4,
    "start_time": "2023-05-29T19:19:41.880Z"
   },
   {
    "duration": 5,
    "start_time": "2023-05-29T19:19:44.202Z"
   },
   {
    "duration": 11,
    "start_time": "2023-05-29T19:20:24.167Z"
   },
   {
    "duration": 3,
    "start_time": "2023-05-29T19:20:43.332Z"
   },
   {
    "duration": 99,
    "start_time": "2023-05-29T19:21:34.824Z"
   },
   {
    "duration": 141,
    "start_time": "2023-05-29T19:23:39.343Z"
   },
   {
    "duration": 80,
    "start_time": "2023-05-29T19:23:57.389Z"
   },
   {
    "duration": 5,
    "start_time": "2023-05-29T19:24:01.393Z"
   },
   {
    "duration": 4,
    "start_time": "2023-05-29T19:24:11.936Z"
   },
   {
    "duration": 5,
    "start_time": "2023-05-29T19:24:15.793Z"
   },
   {
    "duration": 3,
    "start_time": "2023-05-29T19:34:18.234Z"
   },
   {
    "duration": 108,
    "start_time": "2023-05-29T19:34:18.239Z"
   },
   {
    "duration": 731,
    "start_time": "2023-05-29T19:34:18.349Z"
   },
   {
    "duration": 18,
    "start_time": "2023-05-29T19:34:19.081Z"
   },
   {
    "duration": 49,
    "start_time": "2023-05-29T19:34:19.101Z"
   },
   {
    "duration": 5,
    "start_time": "2023-05-29T19:34:19.152Z"
   },
   {
    "duration": 6,
    "start_time": "2023-05-29T19:34:19.159Z"
   },
   {
    "duration": 33,
    "start_time": "2023-05-29T19:34:19.166Z"
   },
   {
    "duration": 19,
    "start_time": "2023-05-29T19:34:19.201Z"
   },
   {
    "duration": 20,
    "start_time": "2023-05-29T19:34:19.222Z"
   },
   {
    "duration": 12,
    "start_time": "2023-05-29T19:34:19.245Z"
   },
   {
    "duration": 29,
    "start_time": "2023-05-29T19:34:19.259Z"
   },
   {
    "duration": 21,
    "start_time": "2023-05-29T19:34:19.289Z"
   },
   {
    "duration": 45,
    "start_time": "2023-05-29T19:34:19.312Z"
   },
   {
    "duration": 4,
    "start_time": "2023-05-29T19:34:19.359Z"
   },
   {
    "duration": 1004,
    "start_time": "2023-05-30T11:52:34.566Z"
   },
   {
    "duration": 137,
    "start_time": "2023-05-30T11:52:35.573Z"
   },
   {
    "duration": 796,
    "start_time": "2023-05-30T11:52:35.712Z"
   },
   {
    "duration": 17,
    "start_time": "2023-05-30T11:52:36.510Z"
   },
   {
    "duration": 38,
    "start_time": "2023-05-30T11:52:36.529Z"
   },
   {
    "duration": 12,
    "start_time": "2023-05-30T11:52:36.569Z"
   },
   {
    "duration": 8,
    "start_time": "2023-05-30T11:52:36.582Z"
   },
   {
    "duration": 21,
    "start_time": "2023-05-30T11:52:36.592Z"
   },
   {
    "duration": 5,
    "start_time": "2023-05-30T11:52:36.615Z"
   },
   {
    "duration": 12,
    "start_time": "2023-05-30T11:52:36.622Z"
   },
   {
    "duration": 6,
    "start_time": "2023-05-30T11:52:36.636Z"
   },
   {
    "duration": 50,
    "start_time": "2023-05-30T11:52:36.643Z"
   },
   {
    "duration": 14,
    "start_time": "2023-05-30T11:52:36.694Z"
   },
   {
    "duration": 38,
    "start_time": "2023-05-30T11:52:36.711Z"
   },
   {
    "duration": 26,
    "start_time": "2023-05-30T11:52:36.751Z"
   },
   {
    "duration": 5,
    "start_time": "2023-05-30T11:55:26.924Z"
   },
   {
    "duration": 2,
    "start_time": "2023-05-30T11:55:34.120Z"
   },
   {
    "duration": 93,
    "start_time": "2023-05-30T11:55:34.124Z"
   },
   {
    "duration": 792,
    "start_time": "2023-05-30T11:55:34.218Z"
   },
   {
    "duration": 16,
    "start_time": "2023-05-30T11:55:35.012Z"
   },
   {
    "duration": 21,
    "start_time": "2023-05-30T11:55:35.030Z"
   },
   {
    "duration": 21,
    "start_time": "2023-05-30T11:55:35.052Z"
   },
   {
    "duration": 29,
    "start_time": "2023-05-30T11:55:35.075Z"
   },
   {
    "duration": 25,
    "start_time": "2023-05-30T11:55:35.106Z"
   },
   {
    "duration": 6,
    "start_time": "2023-05-30T11:55:36.960Z"
   },
   {
    "duration": 9,
    "start_time": "2023-05-30T11:55:44.608Z"
   },
   {
    "duration": 6,
    "start_time": "2023-05-30T11:55:55.236Z"
   },
   {
    "duration": 20,
    "start_time": "2023-05-30T11:56:22.449Z"
   },
   {
    "duration": 2,
    "start_time": "2023-05-30T11:57:10.513Z"
   },
   {
    "duration": 83,
    "start_time": "2023-05-30T11:57:10.555Z"
   },
   {
    "duration": 695,
    "start_time": "2023-05-30T11:57:10.640Z"
   },
   {
    "duration": 16,
    "start_time": "2023-05-30T11:57:11.337Z"
   },
   {
    "duration": 24,
    "start_time": "2023-05-30T11:57:11.355Z"
   },
   {
    "duration": 4,
    "start_time": "2023-05-30T11:57:11.382Z"
   },
   {
    "duration": 7,
    "start_time": "2023-05-30T11:57:11.387Z"
   },
   {
    "duration": 18,
    "start_time": "2023-05-30T11:57:11.395Z"
   },
   {
    "duration": 6,
    "start_time": "2023-05-30T11:57:11.415Z"
   },
   {
    "duration": 15,
    "start_time": "2023-05-30T11:57:11.422Z"
   },
   {
    "duration": 41,
    "start_time": "2023-05-30T11:57:11.439Z"
   },
   {
    "duration": 43,
    "start_time": "2023-05-30T11:57:11.482Z"
   },
   {
    "duration": 28,
    "start_time": "2023-05-30T11:57:11.527Z"
   },
   {
    "duration": 37,
    "start_time": "2023-05-30T11:57:11.557Z"
   },
   {
    "duration": 4,
    "start_time": "2023-05-30T11:57:15.313Z"
   },
   {
    "duration": 14,
    "start_time": "2023-05-30T13:00:53.105Z"
   },
   {
    "duration": 15,
    "start_time": "2023-05-30T13:00:58.750Z"
   },
   {
    "duration": 296,
    "start_time": "2023-05-30T13:01:47.145Z"
   },
   {
    "duration": 282,
    "start_time": "2023-05-30T13:02:05.554Z"
   },
   {
    "duration": 14,
    "start_time": "2023-05-30T13:02:23.103Z"
   },
   {
    "duration": 1967,
    "start_time": "2023-05-30T13:05:41.674Z"
   },
   {
    "duration": 1529,
    "start_time": "2023-05-30T13:06:40.323Z"
   },
   {
    "duration": 2000,
    "start_time": "2023-05-30T13:06:52.058Z"
   },
   {
    "duration": 495,
    "start_time": "2023-05-30T13:07:31.609Z"
   },
   {
    "duration": 344,
    "start_time": "2023-05-30T13:07:44.211Z"
   },
   {
    "duration": 393,
    "start_time": "2023-05-30T13:07:57.752Z"
   },
   {
    "duration": 361,
    "start_time": "2023-05-30T13:08:22.240Z"
   },
   {
    "duration": 18,
    "start_time": "2023-05-30T13:17:20.907Z"
   },
   {
    "duration": 179,
    "start_time": "2023-05-30T13:18:01.320Z"
   },
   {
    "duration": 14,
    "start_time": "2023-05-30T13:18:08.255Z"
   },
   {
    "duration": 15,
    "start_time": "2023-05-30T13:18:27.301Z"
   },
   {
    "duration": 15,
    "start_time": "2023-05-30T13:18:33.144Z"
   },
   {
    "duration": 11,
    "start_time": "2023-05-30T13:18:58.705Z"
   },
   {
    "duration": 18,
    "start_time": "2023-05-30T13:19:06.567Z"
   },
   {
    "duration": 17,
    "start_time": "2023-05-30T13:19:24.970Z"
   },
   {
    "duration": 18,
    "start_time": "2023-05-30T13:20:58.667Z"
   },
   {
    "duration": 9,
    "start_time": "2023-05-30T13:24:17.314Z"
   },
   {
    "duration": 6,
    "start_time": "2023-05-30T13:25:17.663Z"
   },
   {
    "duration": 76,
    "start_time": "2023-05-30T13:53:45.181Z"
   },
   {
    "duration": 886,
    "start_time": "2023-05-30T13:53:57.110Z"
   },
   {
    "duration": 921,
    "start_time": "2023-05-30T13:54:25.184Z"
   },
   {
    "duration": 198,
    "start_time": "2023-05-30T13:55:41.571Z"
   },
   {
    "duration": 19,
    "start_time": "2023-05-30T13:56:04.616Z"
   },
   {
    "duration": 940,
    "start_time": "2023-05-30T13:56:46.291Z"
   },
   {
    "duration": 869,
    "start_time": "2023-05-30T14:05:37.493Z"
   },
   {
    "duration": 5,
    "start_time": "2023-05-30T14:15:32.922Z"
   },
   {
    "duration": 16,
    "start_time": "2023-05-30T14:15:40.221Z"
   },
   {
    "duration": 15,
    "start_time": "2023-05-30T14:21:39.995Z"
   },
   {
    "duration": 16,
    "start_time": "2023-05-30T14:21:47.301Z"
   },
   {
    "duration": 1659,
    "start_time": "2023-05-30T14:27:44.020Z"
   },
   {
    "duration": 148,
    "start_time": "2023-05-30T14:27:55.107Z"
   },
   {
    "duration": 21,
    "start_time": "2023-05-30T14:28:57.305Z"
   },
   {
    "duration": 18,
    "start_time": "2023-05-30T14:29:08.994Z"
   },
   {
    "duration": 22,
    "start_time": "2023-05-30T14:29:17.800Z"
   },
   {
    "duration": 17,
    "start_time": "2023-05-30T14:29:51.368Z"
   },
   {
    "duration": 12,
    "start_time": "2023-05-30T14:30:46.810Z"
   },
   {
    "duration": 16,
    "start_time": "2023-05-30T14:30:53.210Z"
   },
   {
    "duration": 97,
    "start_time": "2023-05-30T14:31:27.021Z"
   },
   {
    "duration": 18,
    "start_time": "2023-05-30T14:31:32.657Z"
   },
   {
    "duration": 18,
    "start_time": "2023-05-30T14:31:41.896Z"
   },
   {
    "duration": 19,
    "start_time": "2023-05-30T14:31:50.480Z"
   },
   {
    "duration": 781,
    "start_time": "2023-05-30T14:36:35.347Z"
   },
   {
    "duration": 127,
    "start_time": "2023-05-30T14:45:08.808Z"
   },
   {
    "duration": 790,
    "start_time": "2023-05-30T14:45:41.541Z"
   },
   {
    "duration": 18,
    "start_time": "2023-05-30T14:46:01.111Z"
   },
   {
    "duration": 1590,
    "start_time": "2023-05-30T14:46:24.710Z"
   },
   {
    "duration": 1556,
    "start_time": "2023-05-30T14:48:56.807Z"
   },
   {
    "duration": 13,
    "start_time": "2023-05-30T14:58:24.863Z"
   },
   {
    "duration": 281,
    "start_time": "2023-05-30T14:58:55.540Z"
   },
   {
    "duration": 371,
    "start_time": "2023-05-30T14:59:18.944Z"
   },
   {
    "duration": 279,
    "start_time": "2023-05-30T14:59:31.858Z"
   },
   {
    "duration": 301,
    "start_time": "2023-05-30T15:00:02.375Z"
   },
   {
    "duration": 3,
    "start_time": "2023-05-30T15:45:14.679Z"
   },
   {
    "duration": 94,
    "start_time": "2023-05-30T15:45:14.684Z"
   },
   {
    "duration": 693,
    "start_time": "2023-05-30T15:45:14.780Z"
   },
   {
    "duration": 18,
    "start_time": "2023-05-30T15:45:15.475Z"
   },
   {
    "duration": 24,
    "start_time": "2023-05-30T15:45:15.494Z"
   },
   {
    "duration": 6,
    "start_time": "2023-05-30T15:45:15.519Z"
   },
   {
    "duration": 27,
    "start_time": "2023-05-30T15:45:15.527Z"
   },
   {
    "duration": 26,
    "start_time": "2023-05-30T15:45:15.556Z"
   },
   {
    "duration": 7,
    "start_time": "2023-05-30T15:45:15.585Z"
   },
   {
    "duration": 17,
    "start_time": "2023-05-30T15:45:15.594Z"
   },
   {
    "duration": 6,
    "start_time": "2023-05-30T15:45:15.612Z"
   },
   {
    "duration": 29,
    "start_time": "2023-05-30T15:45:15.620Z"
   },
   {
    "duration": 32,
    "start_time": "2023-05-30T15:45:15.650Z"
   },
   {
    "duration": 42,
    "start_time": "2023-05-30T15:45:15.684Z"
   },
   {
    "duration": 5,
    "start_time": "2023-05-30T15:45:15.728Z"
   },
   {
    "duration": 351,
    "start_time": "2023-05-30T15:45:15.734Z"
   },
   {
    "duration": 16,
    "start_time": "2023-05-30T15:45:16.087Z"
   },
   {
    "duration": 993,
    "start_time": "2023-05-30T15:45:16.105Z"
   },
   {
    "duration": 15,
    "start_time": "2023-05-30T15:45:17.099Z"
   },
   {
    "duration": 22,
    "start_time": "2023-05-30T15:45:17.115Z"
   },
   {
    "duration": 1522,
    "start_time": "2023-05-30T15:45:17.139Z"
   },
   {
    "duration": 294,
    "start_time": "2023-05-30T15:45:22.995Z"
   },
   {
    "duration": 179,
    "start_time": "2023-05-30T15:56:06.254Z"
   },
   {
    "duration": 5,
    "start_time": "2023-05-30T15:58:23.027Z"
   },
   {
    "duration": 22,
    "start_time": "2023-05-30T15:58:29.013Z"
   },
   {
    "duration": 255,
    "start_time": "2023-05-30T16:00:36.183Z"
   },
   {
    "duration": 142,
    "start_time": "2023-05-30T16:01:36.611Z"
   },
   {
    "duration": 146,
    "start_time": "2023-05-30T16:02:08.243Z"
   },
   {
    "duration": 126,
    "start_time": "2023-05-30T16:03:22.491Z"
   },
   {
    "duration": 142,
    "start_time": "2023-05-30T16:09:24.704Z"
   },
   {
    "duration": 169,
    "start_time": "2023-05-30T16:09:31.806Z"
   },
   {
    "duration": 146,
    "start_time": "2023-05-30T16:10:23.235Z"
   },
   {
    "duration": 150,
    "start_time": "2023-05-30T16:11:16.968Z"
   },
   {
    "duration": 146,
    "start_time": "2023-05-30T16:11:51.098Z"
   },
   {
    "duration": 9,
    "start_time": "2023-05-30T16:16:56.392Z"
   },
   {
    "duration": 18,
    "start_time": "2023-05-30T16:17:09.891Z"
   },
   {
    "duration": 14,
    "start_time": "2023-05-30T16:17:22.915Z"
   },
   {
    "duration": 16,
    "start_time": "2023-05-30T16:17:45.563Z"
   },
   {
    "duration": 15,
    "start_time": "2023-05-30T16:17:51.123Z"
   },
   {
    "duration": 15,
    "start_time": "2023-05-30T16:18:01.394Z"
   },
   {
    "duration": 16,
    "start_time": "2023-05-30T16:18:07.584Z"
   },
   {
    "duration": 15,
    "start_time": "2023-05-30T16:18:12.983Z"
   },
   {
    "duration": 15,
    "start_time": "2023-05-30T16:21:02.983Z"
   },
   {
    "duration": 2,
    "start_time": "2023-05-30T16:35:55.163Z"
   },
   {
    "duration": 87,
    "start_time": "2023-05-30T16:35:55.179Z"
   },
   {
    "duration": 757,
    "start_time": "2023-05-30T16:35:55.268Z"
   },
   {
    "duration": 17,
    "start_time": "2023-05-30T16:35:56.027Z"
   },
   {
    "duration": 13,
    "start_time": "2023-05-30T16:35:56.046Z"
   },
   {
    "duration": 5,
    "start_time": "2023-05-30T16:35:56.076Z"
   },
   {
    "duration": 7,
    "start_time": "2023-05-30T16:35:56.082Z"
   },
   {
    "duration": 25,
    "start_time": "2023-05-30T16:35:56.090Z"
   },
   {
    "duration": 6,
    "start_time": "2023-05-30T16:35:56.116Z"
   },
   {
    "duration": 25,
    "start_time": "2023-05-30T16:35:56.123Z"
   },
   {
    "duration": 5,
    "start_time": "2023-05-30T16:35:56.150Z"
   },
   {
    "duration": 36,
    "start_time": "2023-05-30T16:35:56.156Z"
   },
   {
    "duration": 13,
    "start_time": "2023-05-30T16:35:56.194Z"
   },
   {
    "duration": 36,
    "start_time": "2023-05-30T16:35:56.209Z"
   },
   {
    "duration": 4,
    "start_time": "2023-05-30T16:35:56.248Z"
   },
   {
    "duration": 324,
    "start_time": "2023-05-30T16:35:56.277Z"
   },
   {
    "duration": 16,
    "start_time": "2023-05-30T16:35:56.602Z"
   },
   {
    "duration": 846,
    "start_time": "2023-05-30T16:35:56.620Z"
   },
   {
    "duration": 21,
    "start_time": "2023-05-30T16:35:57.468Z"
   },
   {
    "duration": 30,
    "start_time": "2023-05-30T16:35:57.491Z"
   },
   {
    "duration": 1573,
    "start_time": "2023-05-30T16:35:57.523Z"
   },
   {
    "duration": 293,
    "start_time": "2023-05-30T16:35:59.097Z"
   },
   {
    "duration": 149,
    "start_time": "2023-05-30T16:35:59.392Z"
   },
   {
    "duration": 135,
    "start_time": "2023-05-30T16:35:59.543Z"
   },
   {
    "duration": 153,
    "start_time": "2023-05-30T16:35:59.680Z"
   },
   {
    "duration": 150,
    "start_time": "2023-05-30T16:35:59.835Z"
   },
   {
    "duration": 165,
    "start_time": "2023-05-30T16:35:59.987Z"
   },
   {
    "duration": 171,
    "start_time": "2023-05-30T16:36:00.154Z"
   },
   {
    "duration": 16,
    "start_time": "2023-05-30T16:36:00.327Z"
   },
   {
    "duration": 32,
    "start_time": "2023-05-30T16:36:00.344Z"
   },
   {
    "duration": 11,
    "start_time": "2023-05-30T16:46:06.943Z"
   },
   {
    "duration": 15,
    "start_time": "2023-05-30T16:46:36.959Z"
   },
   {
    "duration": 16,
    "start_time": "2023-05-30T16:47:15.975Z"
   },
   {
    "duration": 16,
    "start_time": "2023-05-30T16:47:24.515Z"
   },
   {
    "duration": 29,
    "start_time": "2023-05-30T16:50:02.202Z"
   },
   {
    "duration": 38,
    "start_time": "2023-05-30T16:50:19.031Z"
   },
   {
    "duration": 18,
    "start_time": "2023-05-30T17:33:01.783Z"
   },
   {
    "duration": 26,
    "start_time": "2023-05-30T17:33:50.816Z"
   },
   {
    "duration": 36,
    "start_time": "2023-05-30T17:34:36.635Z"
   },
   {
    "duration": 9,
    "start_time": "2023-05-30T17:39:08.234Z"
   },
   {
    "duration": 21,
    "start_time": "2023-05-30T17:39:25.472Z"
   },
   {
    "duration": 38,
    "start_time": "2023-05-30T17:41:54.280Z"
   },
   {
    "duration": 14,
    "start_time": "2023-05-30T18:28:33.098Z"
   },
   {
    "duration": 625,
    "start_time": "2023-05-30T18:29:06.033Z"
   },
   {
    "duration": 122,
    "start_time": "2023-05-30T18:29:06.660Z"
   },
   {
    "duration": 875,
    "start_time": "2023-05-30T18:29:06.784Z"
   },
   {
    "duration": 43,
    "start_time": "2023-05-30T18:29:07.662Z"
   },
   {
    "duration": 16,
    "start_time": "2023-05-30T18:29:07.708Z"
   },
   {
    "duration": 8,
    "start_time": "2023-05-30T18:29:07.727Z"
   },
   {
    "duration": 27,
    "start_time": "2023-05-30T18:29:07.738Z"
   },
   {
    "duration": 34,
    "start_time": "2023-05-30T18:29:07.767Z"
   },
   {
    "duration": 21,
    "start_time": "2023-05-30T18:29:07.803Z"
   },
   {
    "duration": 18,
    "start_time": "2023-05-30T18:29:07.826Z"
   },
   {
    "duration": 6,
    "start_time": "2023-05-30T18:29:07.846Z"
   },
   {
    "duration": 39,
    "start_time": "2023-05-30T18:29:07.853Z"
   },
   {
    "duration": 19,
    "start_time": "2023-05-30T18:29:07.894Z"
   },
   {
    "duration": 38,
    "start_time": "2023-05-30T18:29:07.916Z"
   },
   {
    "duration": 5,
    "start_time": "2023-05-30T18:29:07.956Z"
   },
   {
    "duration": 405,
    "start_time": "2023-05-30T18:29:07.962Z"
   },
   {
    "duration": 22,
    "start_time": "2023-05-30T18:29:08.378Z"
   },
   {
    "duration": 1012,
    "start_time": "2023-05-30T18:29:08.402Z"
   },
   {
    "duration": 26,
    "start_time": "2023-05-30T18:29:09.421Z"
   },
   {
    "duration": 40,
    "start_time": "2023-05-30T18:29:09.450Z"
   },
   {
    "duration": 1724,
    "start_time": "2023-05-30T18:29:09.493Z"
   },
   {
    "duration": 353,
    "start_time": "2023-05-30T18:29:11.219Z"
   },
   {
    "duration": 289,
    "start_time": "2023-05-30T18:29:11.576Z"
   },
   {
    "duration": 157,
    "start_time": "2023-05-30T18:29:11.867Z"
   },
   {
    "duration": 181,
    "start_time": "2023-05-30T18:29:12.025Z"
   },
   {
    "duration": 159,
    "start_time": "2023-05-30T18:29:12.208Z"
   },
   {
    "duration": 176,
    "start_time": "2023-05-30T18:29:12.369Z"
   },
   {
    "duration": 189,
    "start_time": "2023-05-30T18:29:12.547Z"
   },
   {
    "duration": 17,
    "start_time": "2023-05-30T18:29:12.737Z"
   },
   {
    "duration": 37,
    "start_time": "2023-05-30T18:29:12.756Z"
   },
   {
    "duration": 50,
    "start_time": "2023-05-30T18:29:12.795Z"
   },
   {
    "duration": 61,
    "start_time": "2023-05-30T18:29:12.846Z"
   },
   {
    "duration": 53,
    "start_time": "2023-05-30T18:29:12.909Z"
   },
   {
    "duration": 11,
    "start_time": "2023-05-30T18:29:17.004Z"
   },
   {
    "duration": 5,
    "start_time": "2023-05-30T18:29:43.049Z"
   },
   {
    "duration": 7,
    "start_time": "2023-05-30T18:29:54.462Z"
   },
   {
    "duration": 18,
    "start_time": "2023-05-30T18:30:02.889Z"
   },
   {
    "duration": 16,
    "start_time": "2023-05-30T18:30:33.798Z"
   },
   {
    "duration": 399,
    "start_time": "2023-05-30T18:31:47.428Z"
   },
   {
    "duration": 403,
    "start_time": "2023-05-30T18:32:18.338Z"
   },
   {
    "duration": 385,
    "start_time": "2023-05-30T18:32:22.116Z"
   },
   {
    "duration": 397,
    "start_time": "2023-05-30T18:32:58.858Z"
   },
   {
    "duration": 443,
    "start_time": "2023-05-30T18:33:04.518Z"
   },
   {
    "duration": 422,
    "start_time": "2023-05-30T18:33:37.910Z"
   },
   {
    "duration": 377,
    "start_time": "2023-05-30T18:34:48.069Z"
   },
   {
    "duration": 24,
    "start_time": "2023-05-30T18:36:49.747Z"
   },
   {
    "duration": 25,
    "start_time": "2023-05-30T18:38:05.004Z"
   },
   {
    "duration": 25,
    "start_time": "2023-05-30T18:38:14.128Z"
   },
   {
    "duration": 7,
    "start_time": "2023-05-30T18:38:30.530Z"
   },
   {
    "duration": 27,
    "start_time": "2023-05-30T18:38:35.800Z"
   },
   {
    "duration": 15,
    "start_time": "2023-05-30T18:39:56.373Z"
   },
   {
    "duration": 11,
    "start_time": "2023-05-30T18:40:13.603Z"
   },
   {
    "duration": 15,
    "start_time": "2023-05-30T18:41:36.447Z"
   },
   {
    "duration": 14,
    "start_time": "2023-05-30T18:41:43.415Z"
   },
   {
    "duration": 4,
    "start_time": "2023-05-30T18:41:55.211Z"
   },
   {
    "duration": 6,
    "start_time": "2023-05-30T18:43:33.027Z"
   },
   {
    "duration": 5,
    "start_time": "2023-05-30T18:43:53.102Z"
   },
   {
    "duration": 17,
    "start_time": "2023-05-30T18:49:05.054Z"
   },
   {
    "duration": 16,
    "start_time": "2023-05-30T18:49:35.441Z"
   },
   {
    "duration": 16,
    "start_time": "2023-05-30T18:50:15.603Z"
   },
   {
    "duration": 16,
    "start_time": "2023-05-30T18:50:23.024Z"
   },
   {
    "duration": 16,
    "start_time": "2023-05-30T18:50:27.127Z"
   },
   {
    "duration": 5,
    "start_time": "2023-05-30T18:50:50.758Z"
   },
   {
    "duration": 11,
    "start_time": "2023-05-30T18:51:41.088Z"
   },
   {
    "duration": 233,
    "start_time": "2023-05-30T18:52:13.834Z"
   },
   {
    "duration": 3,
    "start_time": "2023-05-30T19:10:08.342Z"
   },
   {
    "duration": 131,
    "start_time": "2023-05-30T19:10:08.357Z"
   },
   {
    "duration": 781,
    "start_time": "2023-05-30T19:10:08.490Z"
   },
   {
    "duration": 27,
    "start_time": "2023-05-30T19:10:09.277Z"
   },
   {
    "duration": 23,
    "start_time": "2023-05-30T19:10:09.310Z"
   },
   {
    "duration": 8,
    "start_time": "2023-05-30T19:10:09.334Z"
   },
   {
    "duration": 13,
    "start_time": "2023-05-30T19:10:09.343Z"
   },
   {
    "duration": 32,
    "start_time": "2023-05-30T19:10:09.357Z"
   },
   {
    "duration": 40,
    "start_time": "2023-05-30T19:10:09.391Z"
   },
   {
    "duration": 18,
    "start_time": "2023-05-30T19:10:09.432Z"
   },
   {
    "duration": 6,
    "start_time": "2023-05-30T19:10:09.453Z"
   },
   {
    "duration": 29,
    "start_time": "2023-05-30T19:10:09.460Z"
   },
   {
    "duration": 25,
    "start_time": "2023-05-30T19:10:09.495Z"
   },
   {
    "duration": 39,
    "start_time": "2023-05-30T19:10:09.522Z"
   },
   {
    "duration": 5,
    "start_time": "2023-05-30T19:10:09.562Z"
   },
   {
    "duration": 485,
    "start_time": "2023-05-30T19:10:09.568Z"
   },
   {
    "duration": 29,
    "start_time": "2023-05-30T19:10:10.055Z"
   },
   {
    "duration": 967,
    "start_time": "2023-05-30T19:10:10.085Z"
   },
   {
    "duration": 15,
    "start_time": "2023-05-30T19:10:11.054Z"
   },
   {
    "duration": 24,
    "start_time": "2023-05-30T19:10:11.078Z"
   },
   {
    "duration": 1727,
    "start_time": "2023-05-30T19:10:11.103Z"
   },
   {
    "duration": 464,
    "start_time": "2023-05-30T19:10:12.831Z"
   },
   {
    "duration": 168,
    "start_time": "2023-05-30T19:10:13.303Z"
   },
   {
    "duration": 161,
    "start_time": "2023-05-30T19:10:13.473Z"
   },
   {
    "duration": 189,
    "start_time": "2023-05-30T19:10:13.635Z"
   },
   {
    "duration": 168,
    "start_time": "2023-05-30T19:10:13.825Z"
   },
   {
    "duration": 196,
    "start_time": "2023-05-30T19:10:14.000Z"
   },
   {
    "duration": 187,
    "start_time": "2023-05-30T19:10:14.207Z"
   },
   {
    "duration": 31,
    "start_time": "2023-05-30T19:10:14.398Z"
   },
   {
    "duration": 32,
    "start_time": "2023-05-30T19:10:14.430Z"
   },
   {
    "duration": 66,
    "start_time": "2023-05-30T19:10:14.464Z"
   },
   {
    "duration": 38,
    "start_time": "2023-05-30T19:10:14.532Z"
   },
   {
    "duration": 60,
    "start_time": "2023-05-30T19:10:14.571Z"
   },
   {
    "duration": 11,
    "start_time": "2023-05-30T19:10:14.633Z"
   },
   {
    "duration": 9,
    "start_time": "2023-05-30T19:10:14.646Z"
   },
   {
    "duration": 8,
    "start_time": "2023-05-30T19:10:14.657Z"
   },
   {
    "duration": 47,
    "start_time": "2023-05-30T19:10:14.678Z"
   },
   {
    "duration": 4,
    "start_time": "2023-05-30T19:10:14.727Z"
   },
   {
    "duration": 9,
    "start_time": "2023-05-30T19:10:14.733Z"
   },
   {
    "duration": 1630,
    "start_time": "2023-05-31T18:04:49.612Z"
   },
   {
    "duration": 192,
    "start_time": "2023-05-31T18:04:51.246Z"
   },
   {
    "duration": 913,
    "start_time": "2023-05-31T18:04:51.439Z"
   },
   {
    "duration": 29,
    "start_time": "2023-05-31T18:04:52.364Z"
   },
   {
    "duration": 34,
    "start_time": "2023-05-31T18:04:52.395Z"
   },
   {
    "duration": 35,
    "start_time": "2023-05-31T18:04:52.432Z"
   },
   {
    "duration": 56,
    "start_time": "2023-05-31T18:04:52.469Z"
   },
   {
    "duration": 95,
    "start_time": "2023-05-31T18:04:52.528Z"
   },
   {
    "duration": 10,
    "start_time": "2023-05-31T18:04:52.625Z"
   },
   {
    "duration": 77,
    "start_time": "2023-05-31T18:04:52.639Z"
   },
   {
    "duration": 23,
    "start_time": "2023-05-31T18:04:52.719Z"
   },
   {
    "duration": 87,
    "start_time": "2023-05-31T18:04:52.747Z"
   },
   {
    "duration": 97,
    "start_time": "2023-05-31T18:04:52.836Z"
   },
   {
    "duration": 126,
    "start_time": "2023-05-31T18:04:52.936Z"
   },
   {
    "duration": 40,
    "start_time": "2023-05-31T18:04:53.069Z"
   },
   {
    "duration": 424,
    "start_time": "2023-05-31T18:04:53.112Z"
   },
   {
    "duration": 26,
    "start_time": "2023-05-31T18:04:53.538Z"
   },
   {
    "duration": 1170,
    "start_time": "2023-05-31T18:04:53.566Z"
   },
   {
    "duration": 35,
    "start_time": "2023-05-31T18:04:54.738Z"
   },
   {
    "duration": 31,
    "start_time": "2023-05-31T18:04:54.775Z"
   },
   {
    "duration": 2073,
    "start_time": "2023-05-31T18:04:54.808Z"
   },
   {
    "duration": 361,
    "start_time": "2023-05-31T18:04:56.882Z"
   },
   {
    "duration": 199,
    "start_time": "2023-05-31T18:04:57.245Z"
   },
   {
    "duration": 164,
    "start_time": "2023-05-31T18:04:57.448Z"
   },
   {
    "duration": 202,
    "start_time": "2023-05-31T18:04:57.614Z"
   },
   {
    "duration": 186,
    "start_time": "2023-05-31T18:04:57.818Z"
   },
   {
    "duration": 319,
    "start_time": "2023-05-31T18:04:58.006Z"
   },
   {
    "duration": 202,
    "start_time": "2023-05-31T18:04:58.330Z"
   },
   {
    "duration": 24,
    "start_time": "2023-05-31T18:04:58.534Z"
   },
   {
    "duration": 59,
    "start_time": "2023-05-31T18:04:58.563Z"
   },
   {
    "duration": 99,
    "start_time": "2023-05-31T18:04:58.624Z"
   },
   {
    "duration": 63,
    "start_time": "2023-05-31T18:04:58.725Z"
   },
   {
    "duration": 70,
    "start_time": "2023-05-31T18:04:58.790Z"
   },
   {
    "duration": 30,
    "start_time": "2023-05-31T18:04:58.862Z"
   },
   {
    "duration": 28,
    "start_time": "2023-05-31T18:04:58.894Z"
   },
   {
    "duration": 64,
    "start_time": "2023-05-31T18:04:58.924Z"
   },
   {
    "duration": 62,
    "start_time": "2023-05-31T18:04:58.991Z"
   },
   {
    "duration": 46,
    "start_time": "2023-05-31T18:04:59.057Z"
   },
   {
    "duration": 22,
    "start_time": "2023-05-31T18:04:59.105Z"
   },
   {
    "duration": 1305,
    "start_time": "2023-06-01T05:15:11.880Z"
   },
   {
    "duration": 127,
    "start_time": "2023-06-01T05:15:13.187Z"
   },
   {
    "duration": 728,
    "start_time": "2023-06-01T05:15:13.315Z"
   },
   {
    "duration": 16,
    "start_time": "2023-06-01T05:15:14.045Z"
   },
   {
    "duration": 27,
    "start_time": "2023-06-01T05:15:14.063Z"
   },
   {
    "duration": 5,
    "start_time": "2023-06-01T05:15:14.092Z"
   },
   {
    "duration": 17,
    "start_time": "2023-06-01T05:15:14.099Z"
   },
   {
    "duration": 29,
    "start_time": "2023-06-01T05:15:14.118Z"
   },
   {
    "duration": 15,
    "start_time": "2023-06-01T05:15:14.149Z"
   },
   {
    "duration": 41,
    "start_time": "2023-06-01T05:15:14.167Z"
   },
   {
    "duration": 9,
    "start_time": "2023-06-01T05:15:14.210Z"
   },
   {
    "duration": 47,
    "start_time": "2023-06-01T05:15:14.221Z"
   },
   {
    "duration": 19,
    "start_time": "2023-06-01T05:15:14.270Z"
   },
   {
    "duration": 11,
    "start_time": "2023-06-01T05:16:51.619Z"
   },
   {
    "duration": 9,
    "start_time": "2023-06-01T05:17:03.463Z"
   },
   {
    "duration": 10,
    "start_time": "2023-06-01T05:17:15.024Z"
   },
   {
    "duration": 8,
    "start_time": "2023-06-01T05:20:29.204Z"
   },
   {
    "duration": 18,
    "start_time": "2023-06-01T05:20:35.289Z"
   },
   {
    "duration": 13,
    "start_time": "2023-06-01T05:22:18.554Z"
   },
   {
    "duration": 11,
    "start_time": "2023-06-01T05:22:31.562Z"
   },
   {
    "duration": 13,
    "start_time": "2023-06-01T05:25:06.459Z"
   },
   {
    "duration": 4,
    "start_time": "2023-06-01T05:29:59.246Z"
   },
   {
    "duration": 4,
    "start_time": "2023-06-01T05:30:42.660Z"
   },
   {
    "duration": 4,
    "start_time": "2023-06-01T05:31:13.785Z"
   },
   {
    "duration": 15,
    "start_time": "2023-06-01T05:31:24.048Z"
   },
   {
    "duration": 20,
    "start_time": "2023-06-01T05:34:29.605Z"
   },
   {
    "duration": 17,
    "start_time": "2023-06-01T05:34:35.540Z"
   },
   {
    "duration": 2,
    "start_time": "2023-06-01T05:34:46.984Z"
   },
   {
    "duration": 96,
    "start_time": "2023-06-01T05:34:46.988Z"
   },
   {
    "duration": 618,
    "start_time": "2023-06-01T05:34:47.086Z"
   },
   {
    "duration": 14,
    "start_time": "2023-06-01T05:34:47.706Z"
   },
   {
    "duration": 10,
    "start_time": "2023-06-01T05:34:47.721Z"
   },
   {
    "duration": 4,
    "start_time": "2023-06-01T05:34:47.733Z"
   },
   {
    "duration": 8,
    "start_time": "2023-06-01T05:34:47.739Z"
   },
   {
    "duration": 37,
    "start_time": "2023-06-01T05:34:47.748Z"
   },
   {
    "duration": 5,
    "start_time": "2023-06-01T05:34:47.786Z"
   },
   {
    "duration": 11,
    "start_time": "2023-06-01T05:34:47.793Z"
   },
   {
    "duration": 6,
    "start_time": "2023-06-01T05:34:47.805Z"
   },
   {
    "duration": 19,
    "start_time": "2023-06-01T05:34:47.812Z"
   },
   {
    "duration": 12,
    "start_time": "2023-06-01T05:34:47.832Z"
   },
   {
    "duration": 42,
    "start_time": "2023-06-01T05:34:47.845Z"
   },
   {
    "duration": 13,
    "start_time": "2023-06-01T05:34:47.889Z"
   },
   {
    "duration": 19,
    "start_time": "2023-06-01T05:35:11.799Z"
   },
   {
    "duration": 17,
    "start_time": "2023-06-01T05:35:15.267Z"
   },
   {
    "duration": 3,
    "start_time": "2023-06-01T05:35:26.795Z"
   },
   {
    "duration": 101,
    "start_time": "2023-06-01T05:35:26.800Z"
   },
   {
    "duration": 700,
    "start_time": "2023-06-01T05:35:26.903Z"
   },
   {
    "duration": 16,
    "start_time": "2023-06-01T05:35:27.606Z"
   },
   {
    "duration": 19,
    "start_time": "2023-06-01T05:35:27.624Z"
   },
   {
    "duration": 5,
    "start_time": "2023-06-01T05:35:27.645Z"
   },
   {
    "duration": 14,
    "start_time": "2023-06-01T05:35:27.652Z"
   },
   {
    "duration": 54,
    "start_time": "2023-06-01T05:35:27.668Z"
   },
   {
    "duration": 5,
    "start_time": "2023-06-01T05:35:27.725Z"
   },
   {
    "duration": 32,
    "start_time": "2023-06-01T05:35:27.731Z"
   },
   {
    "duration": 5,
    "start_time": "2023-06-01T05:35:27.764Z"
   },
   {
    "duration": 36,
    "start_time": "2023-06-01T05:35:27.771Z"
   },
   {
    "duration": 14,
    "start_time": "2023-06-01T05:35:27.809Z"
   },
   {
    "duration": 15,
    "start_time": "2023-06-01T05:35:27.824Z"
   },
   {
    "duration": 14,
    "start_time": "2023-06-01T05:35:27.842Z"
   },
   {
    "duration": 16,
    "start_time": "2023-06-01T05:37:39.738Z"
   },
   {
    "duration": 1418,
    "start_time": "2023-06-01T05:38:00.571Z"
   },
   {
    "duration": 3,
    "start_time": "2023-06-01T05:38:16.226Z"
   },
   {
    "duration": 118,
    "start_time": "2023-06-01T05:38:16.231Z"
   },
   {
    "duration": 817,
    "start_time": "2023-06-01T05:38:16.350Z"
   },
   {
    "duration": 30,
    "start_time": "2023-06-01T05:38:17.169Z"
   },
   {
    "duration": 18,
    "start_time": "2023-06-01T05:38:17.202Z"
   },
   {
    "duration": 16,
    "start_time": "2023-06-01T05:38:17.222Z"
   },
   {
    "duration": 12,
    "start_time": "2023-06-01T05:38:17.240Z"
   },
   {
    "duration": 31,
    "start_time": "2023-06-01T05:38:17.254Z"
   },
   {
    "duration": 30,
    "start_time": "2023-06-01T05:38:17.286Z"
   },
   {
    "duration": 39,
    "start_time": "2023-06-01T05:38:17.318Z"
   },
   {
    "duration": 8,
    "start_time": "2023-06-01T05:38:17.360Z"
   },
   {
    "duration": 30,
    "start_time": "2023-06-01T05:38:17.371Z"
   },
   {
    "duration": 20,
    "start_time": "2023-06-01T05:38:17.403Z"
   },
   {
    "duration": 15,
    "start_time": "2023-06-01T05:38:17.425Z"
   },
   {
    "duration": 49,
    "start_time": "2023-06-01T05:38:17.443Z"
   },
   {
    "duration": 21,
    "start_time": "2023-06-01T05:38:19.010Z"
   },
   {
    "duration": 32,
    "start_time": "2023-06-01T05:38:29.037Z"
   },
   {
    "duration": 3,
    "start_time": "2023-06-01T05:38:33.829Z"
   },
   {
    "duration": 116,
    "start_time": "2023-06-01T05:38:33.833Z"
   },
   {
    "duration": 645,
    "start_time": "2023-06-01T05:38:33.951Z"
   },
   {
    "duration": 17,
    "start_time": "2023-06-01T05:38:34.598Z"
   },
   {
    "duration": 28,
    "start_time": "2023-06-01T05:38:34.618Z"
   },
   {
    "duration": 11,
    "start_time": "2023-06-01T05:38:34.649Z"
   },
   {
    "duration": 15,
    "start_time": "2023-06-01T05:38:34.662Z"
   },
   {
    "duration": 32,
    "start_time": "2023-06-01T05:38:34.679Z"
   },
   {
    "duration": 9,
    "start_time": "2023-06-01T05:38:34.713Z"
   },
   {
    "duration": 19,
    "start_time": "2023-06-01T05:38:34.724Z"
   },
   {
    "duration": 8,
    "start_time": "2023-06-01T05:38:34.745Z"
   },
   {
    "duration": 26,
    "start_time": "2023-06-01T05:38:34.755Z"
   },
   {
    "duration": 17,
    "start_time": "2023-06-01T05:38:34.786Z"
   },
   {
    "duration": 17,
    "start_time": "2023-06-01T05:38:34.805Z"
   },
   {
    "duration": 20,
    "start_time": "2023-06-01T05:38:34.824Z"
   },
   {
    "duration": 30,
    "start_time": "2023-06-01T05:38:37.505Z"
   },
   {
    "duration": 44,
    "start_time": "2023-06-01T05:39:36.933Z"
   },
   {
    "duration": 6,
    "start_time": "2023-06-01T05:39:46.626Z"
   },
   {
    "duration": 68,
    "start_time": "2023-06-01T05:51:33.610Z"
   },
   {
    "duration": 16,
    "start_time": "2023-06-01T05:51:58.174Z"
   },
   {
    "duration": 3,
    "start_time": "2023-06-01T05:52:07.671Z"
   },
   {
    "duration": 79,
    "start_time": "2023-06-01T05:52:07.683Z"
   },
   {
    "duration": 679,
    "start_time": "2023-06-01T05:52:07.763Z"
   },
   {
    "duration": 14,
    "start_time": "2023-06-01T05:52:08.444Z"
   },
   {
    "duration": 26,
    "start_time": "2023-06-01T05:52:08.459Z"
   },
   {
    "duration": 11,
    "start_time": "2023-06-01T05:52:08.487Z"
   },
   {
    "duration": 14,
    "start_time": "2023-06-01T05:52:08.500Z"
   },
   {
    "duration": 24,
    "start_time": "2023-06-01T05:52:08.516Z"
   },
   {
    "duration": 7,
    "start_time": "2023-06-01T05:52:08.542Z"
   },
   {
    "duration": 15,
    "start_time": "2023-06-01T05:52:08.551Z"
   },
   {
    "duration": 21,
    "start_time": "2023-06-01T05:52:08.568Z"
   },
   {
    "duration": 22,
    "start_time": "2023-06-01T05:52:08.591Z"
   },
   {
    "duration": 12,
    "start_time": "2023-06-01T05:52:08.615Z"
   },
   {
    "duration": 17,
    "start_time": "2023-06-01T05:52:08.628Z"
   },
   {
    "duration": 47,
    "start_time": "2023-06-01T05:52:08.648Z"
   },
   {
    "duration": 37,
    "start_time": "2023-06-01T05:52:08.696Z"
   },
   {
    "duration": 59,
    "start_time": "2023-06-01T05:52:08.735Z"
   },
   {
    "duration": 5,
    "start_time": "2023-06-01T05:52:08.796Z"
   },
   {
    "duration": 310,
    "start_time": "2023-06-01T05:52:08.803Z"
   },
   {
    "duration": 16,
    "start_time": "2023-06-01T05:52:09.114Z"
   },
   {
    "duration": 729,
    "start_time": "2023-06-01T05:52:09.131Z"
   },
   {
    "duration": 15,
    "start_time": "2023-06-01T05:52:15.803Z"
   },
   {
    "duration": 23,
    "start_time": "2023-06-01T05:52:44.380Z"
   },
   {
    "duration": 1310,
    "start_time": "2023-06-01T05:57:44.880Z"
   },
   {
    "duration": 190,
    "start_time": "2023-06-01T06:00:21.935Z"
   },
   {
    "duration": 177,
    "start_time": "2023-06-01T06:01:52.680Z"
   },
   {
    "duration": 195,
    "start_time": "2023-06-01T06:02:03.805Z"
   },
   {
    "duration": 192,
    "start_time": "2023-06-01T06:02:07.570Z"
   },
   {
    "duration": 272,
    "start_time": "2023-06-01T06:03:22.010Z"
   },
   {
    "duration": 197,
    "start_time": "2023-06-01T06:03:30.526Z"
   },
   {
    "duration": 74,
    "start_time": "2023-06-01T06:04:19.198Z"
   },
   {
    "duration": 137,
    "start_time": "2023-06-01T06:07:11.031Z"
   },
   {
    "duration": 128,
    "start_time": "2023-06-01T06:07:44.631Z"
   },
   {
    "duration": 128,
    "start_time": "2023-06-01T06:09:30.484Z"
   },
   {
    "duration": 127,
    "start_time": "2023-06-01T06:09:52.232Z"
   },
   {
    "duration": 11,
    "start_time": "2023-06-01T06:10:40.900Z"
   },
   {
    "duration": 133,
    "start_time": "2023-06-01T06:10:51.312Z"
   },
   {
    "duration": 141,
    "start_time": "2023-06-01T06:11:23.711Z"
   },
   {
    "duration": 14,
    "start_time": "2023-06-01T06:13:51.032Z"
   },
   {
    "duration": 24,
    "start_time": "2023-06-01T06:15:43.213Z"
   },
   {
    "duration": 3,
    "start_time": "2023-06-01T06:16:08.829Z"
   },
   {
    "duration": 87,
    "start_time": "2023-06-01T06:16:08.843Z"
   },
   {
    "duration": 685,
    "start_time": "2023-06-01T06:16:08.931Z"
   },
   {
    "duration": 14,
    "start_time": "2023-06-01T06:16:09.618Z"
   },
   {
    "duration": 29,
    "start_time": "2023-06-01T06:16:09.633Z"
   },
   {
    "duration": 10,
    "start_time": "2023-06-01T06:16:09.664Z"
   },
   {
    "duration": 28,
    "start_time": "2023-06-01T06:16:09.675Z"
   },
   {
    "duration": 26,
    "start_time": "2023-06-01T06:16:09.704Z"
   },
   {
    "duration": 18,
    "start_time": "2023-06-01T06:16:09.731Z"
   },
   {
    "duration": 26,
    "start_time": "2023-06-01T06:16:09.750Z"
   },
   {
    "duration": 38,
    "start_time": "2023-06-01T06:16:09.777Z"
   },
   {
    "duration": 20,
    "start_time": "2023-06-01T06:16:09.816Z"
   },
   {
    "duration": 12,
    "start_time": "2023-06-01T06:16:09.837Z"
   },
   {
    "duration": 14,
    "start_time": "2023-06-01T06:16:09.851Z"
   },
   {
    "duration": 13,
    "start_time": "2023-06-01T06:16:09.867Z"
   },
   {
    "duration": 38,
    "start_time": "2023-06-01T06:16:09.881Z"
   },
   {
    "duration": 29,
    "start_time": "2023-06-01T06:16:09.921Z"
   },
   {
    "duration": 3,
    "start_time": "2023-06-01T06:16:09.952Z"
   },
   {
    "duration": 279,
    "start_time": "2023-06-01T06:16:09.957Z"
   },
   {
    "duration": 14,
    "start_time": "2023-06-01T06:16:10.237Z"
   },
   {
    "duration": 761,
    "start_time": "2023-06-01T06:16:10.253Z"
   },
   {
    "duration": 12,
    "start_time": "2023-06-01T06:16:11.015Z"
   },
   {
    "duration": 14,
    "start_time": "2023-06-01T06:16:11.029Z"
   },
   {
    "duration": 1232,
    "start_time": "2023-06-01T06:16:11.044Z"
   },
   {
    "duration": 221,
    "start_time": "2023-06-01T06:16:12.290Z"
   },
   {
    "duration": 147,
    "start_time": "2023-06-01T06:16:12.512Z"
   },
   {
    "duration": 149,
    "start_time": "2023-06-01T06:16:12.661Z"
   },
   {
    "duration": 129,
    "start_time": "2023-06-01T06:16:12.811Z"
   },
   {
    "duration": 123,
    "start_time": "2023-06-01T06:16:12.942Z"
   },
   {
    "duration": 148,
    "start_time": "2023-06-01T06:16:13.066Z"
   },
   {
    "duration": 131,
    "start_time": "2023-06-01T06:16:13.216Z"
   },
   {
    "duration": 13,
    "start_time": "2023-06-01T06:16:13.348Z"
   },
   {
    "duration": 23,
    "start_time": "2023-06-01T06:16:16.636Z"
   },
   {
    "duration": 30,
    "start_time": "2023-06-01T06:17:23.469Z"
   },
   {
    "duration": 25,
    "start_time": "2023-06-01T06:17:28.506Z"
   },
   {
    "duration": 89,
    "start_time": "2023-06-01T06:25:34.052Z"
   },
   {
    "duration": 37,
    "start_time": "2023-06-01T06:30:02.410Z"
   },
   {
    "duration": 231,
    "start_time": "2023-06-01T06:38:28.920Z"
   },
   {
    "duration": 251,
    "start_time": "2023-06-01T06:40:04.971Z"
   },
   {
    "duration": 367,
    "start_time": "2023-06-01T06:40:39.768Z"
   },
   {
    "duration": 232,
    "start_time": "2023-06-01T06:41:40.505Z"
   },
   {
    "duration": 108,
    "start_time": "2023-06-01T06:42:41.821Z"
   },
   {
    "duration": 2,
    "start_time": "2023-06-01T06:44:00.926Z"
   },
   {
    "duration": 128,
    "start_time": "2023-06-01T06:44:00.930Z"
   },
   {
    "duration": 662,
    "start_time": "2023-06-01T06:44:01.059Z"
   },
   {
    "duration": 15,
    "start_time": "2023-06-01T06:44:01.723Z"
   },
   {
    "duration": 81,
    "start_time": "2023-06-01T06:44:01.739Z"
   },
   {
    "duration": 33,
    "start_time": "2023-06-01T06:44:01.821Z"
   },
   {
    "duration": 57,
    "start_time": "2023-06-01T06:44:01.855Z"
   },
   {
    "duration": 46,
    "start_time": "2023-06-01T06:44:01.913Z"
   },
   {
    "duration": 21,
    "start_time": "2023-06-01T06:44:01.961Z"
   },
   {
    "duration": 45,
    "start_time": "2023-06-01T06:44:01.984Z"
   },
   {
    "duration": 34,
    "start_time": "2023-06-01T06:44:02.030Z"
   },
   {
    "duration": 51,
    "start_time": "2023-06-01T06:44:02.065Z"
   },
   {
    "duration": 18,
    "start_time": "2023-06-01T06:44:02.118Z"
   },
   {
    "duration": 14,
    "start_time": "2023-06-01T06:44:02.137Z"
   },
   {
    "duration": 30,
    "start_time": "2023-06-01T06:44:02.152Z"
   },
   {
    "duration": 52,
    "start_time": "2023-06-01T06:44:02.183Z"
   },
   {
    "duration": 34,
    "start_time": "2023-06-01T06:44:02.236Z"
   },
   {
    "duration": 4,
    "start_time": "2023-06-01T06:44:02.272Z"
   },
   {
    "duration": 361,
    "start_time": "2023-06-01T06:44:02.277Z"
   },
   {
    "duration": 15,
    "start_time": "2023-06-01T06:44:02.639Z"
   },
   {
    "duration": 900,
    "start_time": "2023-06-01T06:44:02.656Z"
   },
   {
    "duration": 12,
    "start_time": "2023-06-01T06:44:03.557Z"
   },
   {
    "duration": 25,
    "start_time": "2023-06-01T06:44:03.571Z"
   },
   {
    "duration": 1291,
    "start_time": "2023-06-01T06:44:03.598Z"
   },
   {
    "duration": 214,
    "start_time": "2023-06-01T06:44:04.891Z"
   },
   {
    "duration": 151,
    "start_time": "2023-06-01T06:44:05.107Z"
   },
   {
    "duration": 160,
    "start_time": "2023-06-01T06:44:05.259Z"
   },
   {
    "duration": 141,
    "start_time": "2023-06-01T06:44:05.422Z"
   },
   {
    "duration": 241,
    "start_time": "2023-06-01T06:44:05.564Z"
   },
   {
    "duration": 153,
    "start_time": "2023-06-01T06:44:05.806Z"
   },
   {
    "duration": 171,
    "start_time": "2023-06-01T06:44:05.961Z"
   },
   {
    "duration": 21,
    "start_time": "2023-06-01T06:44:06.134Z"
   },
   {
    "duration": 40,
    "start_time": "2023-06-01T06:44:06.157Z"
   },
   {
    "duration": 49,
    "start_time": "2023-06-01T06:44:06.199Z"
   },
   {
    "duration": 10,
    "start_time": "2023-06-01T06:46:05.030Z"
   },
   {
    "duration": 447,
    "start_time": "2023-06-01T06:46:22.001Z"
   },
   {
    "duration": 1565,
    "start_time": "2023-06-01T06:49:03.310Z"
   },
   {
    "duration": 244,
    "start_time": "2023-06-01T06:49:21.196Z"
   },
   {
    "duration": 246,
    "start_time": "2023-06-01T06:49:48.852Z"
   },
   {
    "duration": 39,
    "start_time": "2023-06-01T06:50:40.400Z"
   },
   {
    "duration": 263,
    "start_time": "2023-06-01T06:50:45.620Z"
   },
   {
    "duration": 284,
    "start_time": "2023-06-01T06:51:04.722Z"
   },
   {
    "duration": 225,
    "start_time": "2023-06-01T06:51:14.420Z"
   },
   {
    "duration": 227,
    "start_time": "2023-06-01T06:51:24.401Z"
   },
   {
    "duration": 243,
    "start_time": "2023-06-01T06:51:34.432Z"
   },
   {
    "duration": 268,
    "start_time": "2023-06-01T06:51:39.203Z"
   },
   {
    "duration": 30,
    "start_time": "2023-06-01T06:53:56.622Z"
   },
   {
    "duration": 358,
    "start_time": "2023-06-01T06:54:19.859Z"
   },
   {
    "duration": 783,
    "start_time": "2023-06-01T06:54:46.750Z"
   },
   {
    "duration": 845,
    "start_time": "2023-06-01T06:55:05.811Z"
   },
   {
    "duration": 966,
    "start_time": "2023-06-01T06:56:09.311Z"
   },
   {
    "duration": 1066,
    "start_time": "2023-06-01T06:57:34.036Z"
   },
   {
    "duration": 1158,
    "start_time": "2023-06-01T06:57:44.924Z"
   },
   {
    "duration": 548,
    "start_time": "2023-06-01T06:59:04.212Z"
   },
   {
    "duration": 558,
    "start_time": "2023-06-01T06:59:33.969Z"
   },
   {
    "duration": 24,
    "start_time": "2023-06-01T07:01:20.711Z"
   },
   {
    "duration": 1051,
    "start_time": "2023-06-01T07:08:44.907Z"
   },
   {
    "duration": 573,
    "start_time": "2023-06-01T07:16:35.140Z"
   },
   {
    "duration": 571,
    "start_time": "2023-06-01T07:16:51.435Z"
   },
   {
    "duration": 1036,
    "start_time": "2023-06-01T07:17:30.308Z"
   },
   {
    "duration": 1147,
    "start_time": "2023-06-01T07:17:43.363Z"
   },
   {
    "duration": 1031,
    "start_time": "2023-06-01T07:20:06.812Z"
   },
   {
    "duration": 322,
    "start_time": "2023-06-01T07:21:53.325Z"
   },
   {
    "duration": 319,
    "start_time": "2023-06-01T07:22:02.922Z"
   },
   {
    "duration": 330,
    "start_time": "2023-06-01T07:22:16.322Z"
   },
   {
    "duration": 488,
    "start_time": "2023-06-01T07:22:32.861Z"
   },
   {
    "duration": 314,
    "start_time": "2023-06-01T07:22:51.223Z"
   },
   {
    "duration": 348,
    "start_time": "2023-06-01T07:23:25.463Z"
   },
   {
    "duration": 410,
    "start_time": "2023-06-01T07:23:34.311Z"
   },
   {
    "duration": 316,
    "start_time": "2023-06-01T07:23:38.435Z"
   },
   {
    "duration": 2,
    "start_time": "2023-06-01T07:24:53.231Z"
   },
   {
    "duration": 94,
    "start_time": "2023-06-01T07:24:53.235Z"
   },
   {
    "duration": 621,
    "start_time": "2023-06-01T07:24:53.331Z"
   },
   {
    "duration": 13,
    "start_time": "2023-06-01T07:24:53.954Z"
   },
   {
    "duration": 44,
    "start_time": "2023-06-01T07:24:53.969Z"
   },
   {
    "duration": 35,
    "start_time": "2023-06-01T07:24:54.014Z"
   },
   {
    "duration": 11,
    "start_time": "2023-06-01T07:24:54.050Z"
   },
   {
    "duration": 21,
    "start_time": "2023-06-01T07:24:54.062Z"
   },
   {
    "duration": 12,
    "start_time": "2023-06-01T07:24:54.094Z"
   },
   {
    "duration": 19,
    "start_time": "2023-06-01T07:24:54.107Z"
   },
   {
    "duration": 9,
    "start_time": "2023-06-01T07:24:54.128Z"
   },
   {
    "duration": 19,
    "start_time": "2023-06-01T07:24:54.138Z"
   },
   {
    "duration": 11,
    "start_time": "2023-06-01T07:24:54.158Z"
   },
   {
    "duration": 45,
    "start_time": "2023-06-01T07:24:54.171Z"
   },
   {
    "duration": 26,
    "start_time": "2023-06-01T07:24:54.218Z"
   },
   {
    "duration": 63,
    "start_time": "2023-06-01T07:24:54.245Z"
   },
   {
    "duration": 45,
    "start_time": "2023-06-01T07:24:54.310Z"
   },
   {
    "duration": 4,
    "start_time": "2023-06-01T07:24:54.357Z"
   },
   {
    "duration": 370,
    "start_time": "2023-06-01T07:24:54.363Z"
   },
   {
    "duration": 21,
    "start_time": "2023-06-01T07:24:54.735Z"
   },
   {
    "duration": 916,
    "start_time": "2023-06-01T07:24:54.758Z"
   },
   {
    "duration": 22,
    "start_time": "2023-06-01T07:24:55.676Z"
   },
   {
    "duration": 33,
    "start_time": "2023-06-01T07:24:55.699Z"
   },
   {
    "duration": 1336,
    "start_time": "2023-06-01T07:24:55.734Z"
   },
   {
    "duration": 213,
    "start_time": "2023-06-01T07:24:57.072Z"
   },
   {
    "duration": 138,
    "start_time": "2023-06-01T07:24:57.292Z"
   },
   {
    "duration": 147,
    "start_time": "2023-06-01T07:24:57.432Z"
   },
   {
    "duration": 141,
    "start_time": "2023-06-01T07:24:57.584Z"
   },
   {
    "duration": 227,
    "start_time": "2023-06-01T07:24:57.727Z"
   },
   {
    "duration": 156,
    "start_time": "2023-06-01T07:24:57.956Z"
   },
   {
    "duration": 134,
    "start_time": "2023-06-01T07:24:58.113Z"
   },
   {
    "duration": 14,
    "start_time": "2023-06-01T07:24:58.248Z"
   },
   {
    "duration": 60,
    "start_time": "2023-06-01T07:24:58.263Z"
   },
   {
    "duration": 36,
    "start_time": "2023-06-01T07:24:58.324Z"
   },
   {
    "duration": 254,
    "start_time": "2023-06-01T07:25:51.357Z"
   },
   {
    "duration": 251,
    "start_time": "2023-06-01T07:26:07.076Z"
   },
   {
    "duration": 8,
    "start_time": "2023-06-01T07:27:41.908Z"
   },
   {
    "duration": 333,
    "start_time": "2023-06-01T07:27:44.976Z"
   },
   {
    "duration": 324,
    "start_time": "2023-06-01T07:28:08.311Z"
   },
   {
    "duration": 312,
    "start_time": "2023-06-01T07:37:51.772Z"
   },
   {
    "duration": 296,
    "start_time": "2023-06-01T07:39:06.636Z"
   },
   {
    "duration": 269,
    "start_time": "2023-06-01T07:39:39.219Z"
   },
   {
    "duration": 193,
    "start_time": "2023-06-01T07:39:53.297Z"
   },
   {
    "duration": 191,
    "start_time": "2023-06-01T07:40:03.400Z"
   },
   {
    "duration": 665,
    "start_time": "2023-06-01T07:40:54.496Z"
   },
   {
    "duration": 36,
    "start_time": "2023-06-01T07:45:34.395Z"
   },
   {
    "duration": 800,
    "start_time": "2023-06-01T07:46:14.780Z"
   },
   {
    "duration": 716,
    "start_time": "2023-06-01T07:46:37.171Z"
   },
   {
    "duration": 37,
    "start_time": "2023-06-01T07:46:52.397Z"
   },
   {
    "duration": 736,
    "start_time": "2023-06-01T07:47:32.627Z"
   },
   {
    "duration": 28,
    "start_time": "2023-06-01T07:47:53.598Z"
   },
   {
    "duration": 905,
    "start_time": "2023-06-01T07:48:00.766Z"
   },
   {
    "duration": 28,
    "start_time": "2023-06-01T07:49:10.504Z"
   },
   {
    "duration": 407,
    "start_time": "2023-06-01T07:50:04.757Z"
   },
   {
    "duration": 95,
    "start_time": "2023-06-01T07:53:07.209Z"
   },
   {
    "duration": 11,
    "start_time": "2023-06-01T07:54:01.880Z"
   },
   {
    "duration": 4,
    "start_time": "2023-06-01T07:54:14.122Z"
   },
   {
    "duration": 9,
    "start_time": "2023-06-01T07:54:25.972Z"
   },
   {
    "duration": 11,
    "start_time": "2023-06-01T07:56:44.285Z"
   },
   {
    "duration": 4,
    "start_time": "2023-06-01T07:56:48.718Z"
   },
   {
    "duration": 81,
    "start_time": "2023-06-01T07:58:43.315Z"
   },
   {
    "duration": 1039,
    "start_time": "2023-09-01T08:48:10.638Z"
   },
   {
    "duration": 129,
    "start_time": "2023-09-01T08:48:11.679Z"
   },
   {
    "duration": 658,
    "start_time": "2023-09-01T08:48:11.809Z"
   },
   {
    "duration": 15,
    "start_time": "2023-09-01T08:48:12.469Z"
   },
   {
    "duration": 13,
    "start_time": "2023-09-01T08:48:12.485Z"
   },
   {
    "duration": 4,
    "start_time": "2023-09-01T08:48:12.499Z"
   },
   {
    "duration": 7,
    "start_time": "2023-09-01T08:48:12.523Z"
   },
   {
    "duration": 18,
    "start_time": "2023-09-01T08:48:12.532Z"
   },
   {
    "duration": 4,
    "start_time": "2023-09-01T08:48:12.552Z"
   },
   {
    "duration": 10,
    "start_time": "2023-09-01T08:48:12.559Z"
   },
   {
    "duration": 6,
    "start_time": "2023-09-01T08:48:12.571Z"
   },
   {
    "duration": 55,
    "start_time": "2023-09-01T08:48:12.579Z"
   },
   {
    "duration": 14,
    "start_time": "2023-09-01T08:48:12.635Z"
   },
   {
    "duration": 14,
    "start_time": "2023-09-01T08:48:12.651Z"
   },
   {
    "duration": 16,
    "start_time": "2023-09-01T08:48:12.666Z"
   },
   {
    "duration": 56,
    "start_time": "2023-09-01T08:48:12.684Z"
   },
   {
    "duration": 35,
    "start_time": "2023-09-01T08:48:12.742Z"
   },
   {
    "duration": 4,
    "start_time": "2023-09-01T08:48:12.779Z"
   },
   {
    "duration": 330,
    "start_time": "2023-09-01T08:48:12.785Z"
   },
   {
    "duration": 17,
    "start_time": "2023-09-01T08:48:13.123Z"
   },
   {
    "duration": 796,
    "start_time": "2023-09-01T08:48:13.142Z"
   },
   {
    "duration": 13,
    "start_time": "2023-09-01T08:48:13.940Z"
   },
   {
    "duration": 16,
    "start_time": "2023-09-01T08:48:13.955Z"
   },
   {
    "duration": 1287,
    "start_time": "2023-09-01T08:48:13.973Z"
   },
   {
    "duration": 220,
    "start_time": "2023-09-01T08:48:15.261Z"
   },
   {
    "duration": 173,
    "start_time": "2023-09-01T08:48:15.483Z"
   },
   {
    "duration": 142,
    "start_time": "2023-09-01T08:48:15.658Z"
   },
   {
    "duration": 144,
    "start_time": "2023-09-01T08:48:15.803Z"
   },
   {
    "duration": 180,
    "start_time": "2023-09-01T08:48:15.949Z"
   },
   {
    "duration": 164,
    "start_time": "2023-09-01T08:48:16.131Z"
   },
   {
    "duration": 237,
    "start_time": "2023-09-01T08:48:16.297Z"
   },
   {
    "duration": 14,
    "start_time": "2023-09-01T08:48:16.536Z"
   },
   {
    "duration": 132,
    "start_time": "2023-09-01T08:48:16.551Z"
   },
   {
    "duration": 141,
    "start_time": "2023-09-01T08:48:16.684Z"
   },
   {
    "duration": 1013,
    "start_time": "2023-09-01T08:48:16.827Z"
   },
   {
    "duration": 33,
    "start_time": "2023-09-01T08:48:17.841Z"
   },
   {
    "duration": 964,
    "start_time": "2023-09-01T08:48:17.876Z"
   },
   {
    "duration": 35,
    "start_time": "2023-09-01T08:48:18.841Z"
   },
   {
    "duration": 574,
    "start_time": "2023-09-01T08:48:18.878Z"
   },
   {
    "duration": 10,
    "start_time": "2023-09-01T08:48:19.454Z"
   },
   {
    "duration": 117,
    "start_time": "2023-09-01T08:48:19.466Z"
   },
   {
    "duration": 42,
    "start_time": "2023-09-01T08:48:19.585Z"
   },
   {
    "duration": 32,
    "start_time": "2023-09-01T08:48:19.629Z"
   }
  ],
  "kernelspec": {
   "display_name": "Python 3 (ipykernel)",
   "language": "python",
   "name": "python3"
  },
  "language_info": {
   "codemirror_mode": {
    "name": "ipython",
    "version": 3
   },
   "file_extension": ".py",
   "mimetype": "text/x-python",
   "name": "python",
   "nbconvert_exporter": "python",
   "pygments_lexer": "ipython3",
   "version": "3.10.9"
  },
  "toc": {
   "base_numbering": 1,
   "nav_menu": {},
   "number_sections": true,
   "sideBar": true,
   "skip_h1_title": true,
   "title_cell": "Table of Contents",
   "title_sidebar": "Contents",
   "toc_cell": false,
   "toc_position": {},
   "toc_section_display": true,
   "toc_window_display": false
  }
 },
 "nbformat": 4,
 "nbformat_minor": 2
}
