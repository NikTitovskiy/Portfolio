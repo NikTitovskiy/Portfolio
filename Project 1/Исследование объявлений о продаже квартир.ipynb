{
 "cells": [
  {
   "cell_type": "markdown",
   "metadata": {},
   "source": [
    "# Исследование объявлений о продаже квартир\n",
    "\n",
    "В вашем распоряжении данные сервиса Яндекс.Недвижимость — архив объявлений о продаже квартир в Санкт-Петербурге и соседних населённых пунктов за несколько лет. Нужно научиться определять рыночную стоимость объектов недвижимости. Ваша задача — установить параметры. Это позволит построить автоматизированную систему: она отследит аномалии и мошенническую деятельность. \n",
    "\n",
    "По каждой квартире на продажу доступны два вида данных. Первые вписаны пользователем, вторые — получены автоматически на основе картографических данных. Например, расстояние до центра, аэропорта, ближайшего парка и водоёма. "
   ]
  },
  {
   "cell_type": "markdown",
   "metadata": {},
   "source": [
    "### Откройте файл с данными и изучите общую информацию. "
   ]
  },
  {
   "cell_type": "markdown",
   "metadata": {},
   "source": [
    "**Импорт библиотек и знакомство с данными.**"
   ]
  },
  {
   "cell_type": "code",
   "execution_count": 1,
   "metadata": {},
   "outputs": [
    {
     "data": {
      "text/html": [
       "<div>\n",
       "<style scoped>\n",
       "    .dataframe tbody tr th:only-of-type {\n",
       "        vertical-align: middle;\n",
       "    }\n",
       "\n",
       "    .dataframe tbody tr th {\n",
       "        vertical-align: top;\n",
       "    }\n",
       "\n",
       "    .dataframe thead th {\n",
       "        text-align: right;\n",
       "    }\n",
       "</style>\n",
       "<table border=\"1\" class=\"dataframe\">\n",
       "  <thead>\n",
       "    <tr style=\"text-align: right;\">\n",
       "      <th></th>\n",
       "      <th>total_images</th>\n",
       "      <th>last_price</th>\n",
       "      <th>total_area</th>\n",
       "      <th>first_day_exposition</th>\n",
       "      <th>rooms</th>\n",
       "      <th>ceiling_height</th>\n",
       "      <th>floors_total</th>\n",
       "      <th>living_area</th>\n",
       "      <th>floor</th>\n",
       "      <th>is_apartment</th>\n",
       "      <th>...</th>\n",
       "      <th>kitchen_area</th>\n",
       "      <th>balcony</th>\n",
       "      <th>locality_name</th>\n",
       "      <th>airports_nearest</th>\n",
       "      <th>cityCenters_nearest</th>\n",
       "      <th>parks_around3000</th>\n",
       "      <th>parks_nearest</th>\n",
       "      <th>ponds_around3000</th>\n",
       "      <th>ponds_nearest</th>\n",
       "      <th>days_exposition</th>\n",
       "    </tr>\n",
       "  </thead>\n",
       "  <tbody>\n",
       "    <tr>\n",
       "      <th>0</th>\n",
       "      <td>20</td>\n",
       "      <td>13000000.0</td>\n",
       "      <td>108.00</td>\n",
       "      <td>2019-03-07T00:00:00</td>\n",
       "      <td>3</td>\n",
       "      <td>2.70</td>\n",
       "      <td>16.0</td>\n",
       "      <td>51.00</td>\n",
       "      <td>8</td>\n",
       "      <td>NaN</td>\n",
       "      <td>...</td>\n",
       "      <td>25.00</td>\n",
       "      <td>NaN</td>\n",
       "      <td>Санкт-Петербург</td>\n",
       "      <td>18863.0</td>\n",
       "      <td>16028.0</td>\n",
       "      <td>1.0</td>\n",
       "      <td>482.0</td>\n",
       "      <td>2.0</td>\n",
       "      <td>755.0</td>\n",
       "      <td>NaN</td>\n",
       "    </tr>\n",
       "    <tr>\n",
       "      <th>1</th>\n",
       "      <td>7</td>\n",
       "      <td>3350000.0</td>\n",
       "      <td>40.40</td>\n",
       "      <td>2018-12-04T00:00:00</td>\n",
       "      <td>1</td>\n",
       "      <td>NaN</td>\n",
       "      <td>11.0</td>\n",
       "      <td>18.60</td>\n",
       "      <td>1</td>\n",
       "      <td>NaN</td>\n",
       "      <td>...</td>\n",
       "      <td>11.00</td>\n",
       "      <td>2.0</td>\n",
       "      <td>посёлок Шушары</td>\n",
       "      <td>12817.0</td>\n",
       "      <td>18603.0</td>\n",
       "      <td>0.0</td>\n",
       "      <td>NaN</td>\n",
       "      <td>0.0</td>\n",
       "      <td>NaN</td>\n",
       "      <td>81.0</td>\n",
       "    </tr>\n",
       "    <tr>\n",
       "      <th>2</th>\n",
       "      <td>10</td>\n",
       "      <td>5196000.0</td>\n",
       "      <td>56.00</td>\n",
       "      <td>2015-08-20T00:00:00</td>\n",
       "      <td>2</td>\n",
       "      <td>NaN</td>\n",
       "      <td>5.0</td>\n",
       "      <td>34.30</td>\n",
       "      <td>4</td>\n",
       "      <td>NaN</td>\n",
       "      <td>...</td>\n",
       "      <td>8.30</td>\n",
       "      <td>0.0</td>\n",
       "      <td>Санкт-Петербург</td>\n",
       "      <td>21741.0</td>\n",
       "      <td>13933.0</td>\n",
       "      <td>1.0</td>\n",
       "      <td>90.0</td>\n",
       "      <td>2.0</td>\n",
       "      <td>574.0</td>\n",
       "      <td>558.0</td>\n",
       "    </tr>\n",
       "    <tr>\n",
       "      <th>3</th>\n",
       "      <td>0</td>\n",
       "      <td>64900000.0</td>\n",
       "      <td>159.00</td>\n",
       "      <td>2015-07-24T00:00:00</td>\n",
       "      <td>3</td>\n",
       "      <td>NaN</td>\n",
       "      <td>14.0</td>\n",
       "      <td>NaN</td>\n",
       "      <td>9</td>\n",
       "      <td>NaN</td>\n",
       "      <td>...</td>\n",
       "      <td>NaN</td>\n",
       "      <td>0.0</td>\n",
       "      <td>Санкт-Петербург</td>\n",
       "      <td>28098.0</td>\n",
       "      <td>6800.0</td>\n",
       "      <td>2.0</td>\n",
       "      <td>84.0</td>\n",
       "      <td>3.0</td>\n",
       "      <td>234.0</td>\n",
       "      <td>424.0</td>\n",
       "    </tr>\n",
       "    <tr>\n",
       "      <th>4</th>\n",
       "      <td>2</td>\n",
       "      <td>10000000.0</td>\n",
       "      <td>100.00</td>\n",
       "      <td>2018-06-19T00:00:00</td>\n",
       "      <td>2</td>\n",
       "      <td>3.03</td>\n",
       "      <td>14.0</td>\n",
       "      <td>32.00</td>\n",
       "      <td>13</td>\n",
       "      <td>NaN</td>\n",
       "      <td>...</td>\n",
       "      <td>41.00</td>\n",
       "      <td>NaN</td>\n",
       "      <td>Санкт-Петербург</td>\n",
       "      <td>31856.0</td>\n",
       "      <td>8098.0</td>\n",
       "      <td>2.0</td>\n",
       "      <td>112.0</td>\n",
       "      <td>1.0</td>\n",
       "      <td>48.0</td>\n",
       "      <td>121.0</td>\n",
       "    </tr>\n",
       "    <tr>\n",
       "      <th>5</th>\n",
       "      <td>10</td>\n",
       "      <td>2890000.0</td>\n",
       "      <td>30.40</td>\n",
       "      <td>2018-09-10T00:00:00</td>\n",
       "      <td>1</td>\n",
       "      <td>NaN</td>\n",
       "      <td>12.0</td>\n",
       "      <td>14.40</td>\n",
       "      <td>5</td>\n",
       "      <td>NaN</td>\n",
       "      <td>...</td>\n",
       "      <td>9.10</td>\n",
       "      <td>NaN</td>\n",
       "      <td>городской посёлок Янино-1</td>\n",
       "      <td>NaN</td>\n",
       "      <td>NaN</td>\n",
       "      <td>NaN</td>\n",
       "      <td>NaN</td>\n",
       "      <td>NaN</td>\n",
       "      <td>NaN</td>\n",
       "      <td>55.0</td>\n",
       "    </tr>\n",
       "    <tr>\n",
       "      <th>6</th>\n",
       "      <td>6</td>\n",
       "      <td>3700000.0</td>\n",
       "      <td>37.30</td>\n",
       "      <td>2017-11-02T00:00:00</td>\n",
       "      <td>1</td>\n",
       "      <td>NaN</td>\n",
       "      <td>26.0</td>\n",
       "      <td>10.60</td>\n",
       "      <td>6</td>\n",
       "      <td>NaN</td>\n",
       "      <td>...</td>\n",
       "      <td>14.40</td>\n",
       "      <td>1.0</td>\n",
       "      <td>посёлок Парголово</td>\n",
       "      <td>52996.0</td>\n",
       "      <td>19143.0</td>\n",
       "      <td>0.0</td>\n",
       "      <td>NaN</td>\n",
       "      <td>0.0</td>\n",
       "      <td>NaN</td>\n",
       "      <td>155.0</td>\n",
       "    </tr>\n",
       "    <tr>\n",
       "      <th>7</th>\n",
       "      <td>5</td>\n",
       "      <td>7915000.0</td>\n",
       "      <td>71.60</td>\n",
       "      <td>2019-04-18T00:00:00</td>\n",
       "      <td>2</td>\n",
       "      <td>NaN</td>\n",
       "      <td>24.0</td>\n",
       "      <td>NaN</td>\n",
       "      <td>22</td>\n",
       "      <td>NaN</td>\n",
       "      <td>...</td>\n",
       "      <td>18.90</td>\n",
       "      <td>2.0</td>\n",
       "      <td>Санкт-Петербург</td>\n",
       "      <td>23982.0</td>\n",
       "      <td>11634.0</td>\n",
       "      <td>0.0</td>\n",
       "      <td>NaN</td>\n",
       "      <td>0.0</td>\n",
       "      <td>NaN</td>\n",
       "      <td>NaN</td>\n",
       "    </tr>\n",
       "    <tr>\n",
       "      <th>8</th>\n",
       "      <td>20</td>\n",
       "      <td>2900000.0</td>\n",
       "      <td>33.16</td>\n",
       "      <td>2018-05-23T00:00:00</td>\n",
       "      <td>1</td>\n",
       "      <td>NaN</td>\n",
       "      <td>27.0</td>\n",
       "      <td>15.43</td>\n",
       "      <td>26</td>\n",
       "      <td>NaN</td>\n",
       "      <td>...</td>\n",
       "      <td>8.81</td>\n",
       "      <td>NaN</td>\n",
       "      <td>посёлок Мурино</td>\n",
       "      <td>NaN</td>\n",
       "      <td>NaN</td>\n",
       "      <td>NaN</td>\n",
       "      <td>NaN</td>\n",
       "      <td>NaN</td>\n",
       "      <td>NaN</td>\n",
       "      <td>189.0</td>\n",
       "    </tr>\n",
       "    <tr>\n",
       "      <th>9</th>\n",
       "      <td>18</td>\n",
       "      <td>5400000.0</td>\n",
       "      <td>61.00</td>\n",
       "      <td>2017-02-26T00:00:00</td>\n",
       "      <td>3</td>\n",
       "      <td>2.50</td>\n",
       "      <td>9.0</td>\n",
       "      <td>43.60</td>\n",
       "      <td>7</td>\n",
       "      <td>NaN</td>\n",
       "      <td>...</td>\n",
       "      <td>6.50</td>\n",
       "      <td>2.0</td>\n",
       "      <td>Санкт-Петербург</td>\n",
       "      <td>50898.0</td>\n",
       "      <td>15008.0</td>\n",
       "      <td>0.0</td>\n",
       "      <td>NaN</td>\n",
       "      <td>0.0</td>\n",
       "      <td>NaN</td>\n",
       "      <td>289.0</td>\n",
       "    </tr>\n",
       "  </tbody>\n",
       "</table>\n",
       "<p>10 rows × 22 columns</p>\n",
       "</div>"
      ],
      "text/plain": [
       "   total_images  last_price  total_area first_day_exposition  rooms  \\\n",
       "0            20  13000000.0      108.00  2019-03-07T00:00:00      3   \n",
       "1             7   3350000.0       40.40  2018-12-04T00:00:00      1   \n",
       "2            10   5196000.0       56.00  2015-08-20T00:00:00      2   \n",
       "3             0  64900000.0      159.00  2015-07-24T00:00:00      3   \n",
       "4             2  10000000.0      100.00  2018-06-19T00:00:00      2   \n",
       "5            10   2890000.0       30.40  2018-09-10T00:00:00      1   \n",
       "6             6   3700000.0       37.30  2017-11-02T00:00:00      1   \n",
       "7             5   7915000.0       71.60  2019-04-18T00:00:00      2   \n",
       "8            20   2900000.0       33.16  2018-05-23T00:00:00      1   \n",
       "9            18   5400000.0       61.00  2017-02-26T00:00:00      3   \n",
       "\n",
       "   ceiling_height  floors_total  living_area  floor is_apartment  ...  \\\n",
       "0            2.70          16.0        51.00      8          NaN  ...   \n",
       "1             NaN          11.0        18.60      1          NaN  ...   \n",
       "2             NaN           5.0        34.30      4          NaN  ...   \n",
       "3             NaN          14.0          NaN      9          NaN  ...   \n",
       "4            3.03          14.0        32.00     13          NaN  ...   \n",
       "5             NaN          12.0        14.40      5          NaN  ...   \n",
       "6             NaN          26.0        10.60      6          NaN  ...   \n",
       "7             NaN          24.0          NaN     22          NaN  ...   \n",
       "8             NaN          27.0        15.43     26          NaN  ...   \n",
       "9            2.50           9.0        43.60      7          NaN  ...   \n",
       "\n",
       "   kitchen_area  balcony              locality_name  airports_nearest  \\\n",
       "0         25.00      NaN            Санкт-Петербург           18863.0   \n",
       "1         11.00      2.0             посёлок Шушары           12817.0   \n",
       "2          8.30      0.0            Санкт-Петербург           21741.0   \n",
       "3           NaN      0.0            Санкт-Петербург           28098.0   \n",
       "4         41.00      NaN            Санкт-Петербург           31856.0   \n",
       "5          9.10      NaN  городской посёлок Янино-1               NaN   \n",
       "6         14.40      1.0          посёлок Парголово           52996.0   \n",
       "7         18.90      2.0            Санкт-Петербург           23982.0   \n",
       "8          8.81      NaN             посёлок Мурино               NaN   \n",
       "9          6.50      2.0            Санкт-Петербург           50898.0   \n",
       "\n",
       "  cityCenters_nearest  parks_around3000  parks_nearest  ponds_around3000  \\\n",
       "0             16028.0               1.0          482.0               2.0   \n",
       "1             18603.0               0.0            NaN               0.0   \n",
       "2             13933.0               1.0           90.0               2.0   \n",
       "3              6800.0               2.0           84.0               3.0   \n",
       "4              8098.0               2.0          112.0               1.0   \n",
       "5                 NaN               NaN            NaN               NaN   \n",
       "6             19143.0               0.0            NaN               0.0   \n",
       "7             11634.0               0.0            NaN               0.0   \n",
       "8                 NaN               NaN            NaN               NaN   \n",
       "9             15008.0               0.0            NaN               0.0   \n",
       "\n",
       "   ponds_nearest  days_exposition  \n",
       "0          755.0              NaN  \n",
       "1            NaN             81.0  \n",
       "2          574.0            558.0  \n",
       "3          234.0            424.0  \n",
       "4           48.0            121.0  \n",
       "5            NaN             55.0  \n",
       "6            NaN            155.0  \n",
       "7            NaN              NaN  \n",
       "8            NaN            189.0  \n",
       "9            NaN            289.0  \n",
       "\n",
       "[10 rows x 22 columns]"
      ]
     },
     "metadata": {},
     "output_type": "display_data"
    },
    {
     "data": {
      "text/html": [
       "<div>\n",
       "<style scoped>\n",
       "    .dataframe tbody tr th:only-of-type {\n",
       "        vertical-align: middle;\n",
       "    }\n",
       "\n",
       "    .dataframe tbody tr th {\n",
       "        vertical-align: top;\n",
       "    }\n",
       "\n",
       "    .dataframe thead th {\n",
       "        text-align: right;\n",
       "    }\n",
       "</style>\n",
       "<table border=\"1\" class=\"dataframe\">\n",
       "  <thead>\n",
       "    <tr style=\"text-align: right;\">\n",
       "      <th></th>\n",
       "      <th>total_images</th>\n",
       "      <th>last_price</th>\n",
       "      <th>total_area</th>\n",
       "      <th>first_day_exposition</th>\n",
       "      <th>rooms</th>\n",
       "      <th>ceiling_height</th>\n",
       "      <th>floors_total</th>\n",
       "      <th>living_area</th>\n",
       "      <th>floor</th>\n",
       "      <th>is_apartment</th>\n",
       "      <th>...</th>\n",
       "      <th>kitchen_area</th>\n",
       "      <th>balcony</th>\n",
       "      <th>locality_name</th>\n",
       "      <th>airports_nearest</th>\n",
       "      <th>cityCenters_nearest</th>\n",
       "      <th>parks_around3000</th>\n",
       "      <th>parks_nearest</th>\n",
       "      <th>ponds_around3000</th>\n",
       "      <th>ponds_nearest</th>\n",
       "      <th>days_exposition</th>\n",
       "    </tr>\n",
       "  </thead>\n",
       "  <tbody>\n",
       "    <tr>\n",
       "      <th>23689</th>\n",
       "      <td>13</td>\n",
       "      <td>3550000.0</td>\n",
       "      <td>35.30</td>\n",
       "      <td>2018-02-28T00:00:00</td>\n",
       "      <td>1</td>\n",
       "      <td>2.86</td>\n",
       "      <td>15.0</td>\n",
       "      <td>16.3</td>\n",
       "      <td>4</td>\n",
       "      <td>NaN</td>\n",
       "      <td>...</td>\n",
       "      <td>9.10</td>\n",
       "      <td>2.0</td>\n",
       "      <td>Санкт-Петербург</td>\n",
       "      <td>17284.0</td>\n",
       "      <td>16081.0</td>\n",
       "      <td>1.0</td>\n",
       "      <td>353.0</td>\n",
       "      <td>2.0</td>\n",
       "      <td>652.0</td>\n",
       "      <td>29.0</td>\n",
       "    </tr>\n",
       "    <tr>\n",
       "      <th>23690</th>\n",
       "      <td>3</td>\n",
       "      <td>5500000.0</td>\n",
       "      <td>52.00</td>\n",
       "      <td>2018-07-19T00:00:00</td>\n",
       "      <td>2</td>\n",
       "      <td>NaN</td>\n",
       "      <td>5.0</td>\n",
       "      <td>31.0</td>\n",
       "      <td>2</td>\n",
       "      <td>NaN</td>\n",
       "      <td>...</td>\n",
       "      <td>6.00</td>\n",
       "      <td>NaN</td>\n",
       "      <td>Санкт-Петербург</td>\n",
       "      <td>20151.0</td>\n",
       "      <td>6263.0</td>\n",
       "      <td>1.0</td>\n",
       "      <td>300.0</td>\n",
       "      <td>0.0</td>\n",
       "      <td>NaN</td>\n",
       "      <td>15.0</td>\n",
       "    </tr>\n",
       "    <tr>\n",
       "      <th>23691</th>\n",
       "      <td>11</td>\n",
       "      <td>9470000.0</td>\n",
       "      <td>72.90</td>\n",
       "      <td>2016-10-13T00:00:00</td>\n",
       "      <td>2</td>\n",
       "      <td>2.75</td>\n",
       "      <td>25.0</td>\n",
       "      <td>40.3</td>\n",
       "      <td>7</td>\n",
       "      <td>NaN</td>\n",
       "      <td>...</td>\n",
       "      <td>10.60</td>\n",
       "      <td>1.0</td>\n",
       "      <td>Санкт-Петербург</td>\n",
       "      <td>19424.0</td>\n",
       "      <td>4489.0</td>\n",
       "      <td>0.0</td>\n",
       "      <td>NaN</td>\n",
       "      <td>1.0</td>\n",
       "      <td>806.0</td>\n",
       "      <td>519.0</td>\n",
       "    </tr>\n",
       "    <tr>\n",
       "      <th>23692</th>\n",
       "      <td>2</td>\n",
       "      <td>1350000.0</td>\n",
       "      <td>30.00</td>\n",
       "      <td>2017-07-07T00:00:00</td>\n",
       "      <td>1</td>\n",
       "      <td>NaN</td>\n",
       "      <td>5.0</td>\n",
       "      <td>17.5</td>\n",
       "      <td>4</td>\n",
       "      <td>NaN</td>\n",
       "      <td>...</td>\n",
       "      <td>6.00</td>\n",
       "      <td>NaN</td>\n",
       "      <td>Тихвин</td>\n",
       "      <td>NaN</td>\n",
       "      <td>NaN</td>\n",
       "      <td>NaN</td>\n",
       "      <td>NaN</td>\n",
       "      <td>NaN</td>\n",
       "      <td>NaN</td>\n",
       "      <td>413.0</td>\n",
       "    </tr>\n",
       "    <tr>\n",
       "      <th>23693</th>\n",
       "      <td>9</td>\n",
       "      <td>4600000.0</td>\n",
       "      <td>62.40</td>\n",
       "      <td>2016-08-05T00:00:00</td>\n",
       "      <td>3</td>\n",
       "      <td>2.60</td>\n",
       "      <td>9.0</td>\n",
       "      <td>40.0</td>\n",
       "      <td>8</td>\n",
       "      <td>NaN</td>\n",
       "      <td>...</td>\n",
       "      <td>8.00</td>\n",
       "      <td>0.0</td>\n",
       "      <td>Петергоф</td>\n",
       "      <td>45602.0</td>\n",
       "      <td>34104.0</td>\n",
       "      <td>1.0</td>\n",
       "      <td>352.0</td>\n",
       "      <td>1.0</td>\n",
       "      <td>675.0</td>\n",
       "      <td>239.0</td>\n",
       "    </tr>\n",
       "    <tr>\n",
       "      <th>23694</th>\n",
       "      <td>9</td>\n",
       "      <td>9700000.0</td>\n",
       "      <td>133.81</td>\n",
       "      <td>2017-03-21T00:00:00</td>\n",
       "      <td>3</td>\n",
       "      <td>3.70</td>\n",
       "      <td>5.0</td>\n",
       "      <td>73.3</td>\n",
       "      <td>3</td>\n",
       "      <td>NaN</td>\n",
       "      <td>...</td>\n",
       "      <td>13.83</td>\n",
       "      <td>NaN</td>\n",
       "      <td>Санкт-Петербург</td>\n",
       "      <td>24665.0</td>\n",
       "      <td>4232.0</td>\n",
       "      <td>1.0</td>\n",
       "      <td>796.0</td>\n",
       "      <td>3.0</td>\n",
       "      <td>381.0</td>\n",
       "      <td>NaN</td>\n",
       "    </tr>\n",
       "    <tr>\n",
       "      <th>23695</th>\n",
       "      <td>14</td>\n",
       "      <td>3100000.0</td>\n",
       "      <td>59.00</td>\n",
       "      <td>2018-01-15T00:00:00</td>\n",
       "      <td>3</td>\n",
       "      <td>NaN</td>\n",
       "      <td>5.0</td>\n",
       "      <td>38.0</td>\n",
       "      <td>4</td>\n",
       "      <td>NaN</td>\n",
       "      <td>...</td>\n",
       "      <td>8.50</td>\n",
       "      <td>NaN</td>\n",
       "      <td>Тосно</td>\n",
       "      <td>NaN</td>\n",
       "      <td>NaN</td>\n",
       "      <td>NaN</td>\n",
       "      <td>NaN</td>\n",
       "      <td>NaN</td>\n",
       "      <td>NaN</td>\n",
       "      <td>45.0</td>\n",
       "    </tr>\n",
       "    <tr>\n",
       "      <th>23696</th>\n",
       "      <td>18</td>\n",
       "      <td>2500000.0</td>\n",
       "      <td>56.70</td>\n",
       "      <td>2018-02-11T00:00:00</td>\n",
       "      <td>2</td>\n",
       "      <td>NaN</td>\n",
       "      <td>3.0</td>\n",
       "      <td>29.7</td>\n",
       "      <td>1</td>\n",
       "      <td>NaN</td>\n",
       "      <td>...</td>\n",
       "      <td>NaN</td>\n",
       "      <td>NaN</td>\n",
       "      <td>село Рождествено</td>\n",
       "      <td>NaN</td>\n",
       "      <td>NaN</td>\n",
       "      <td>NaN</td>\n",
       "      <td>NaN</td>\n",
       "      <td>NaN</td>\n",
       "      <td>NaN</td>\n",
       "      <td>NaN</td>\n",
       "    </tr>\n",
       "    <tr>\n",
       "      <th>23697</th>\n",
       "      <td>13</td>\n",
       "      <td>11475000.0</td>\n",
       "      <td>76.75</td>\n",
       "      <td>2017-03-28T00:00:00</td>\n",
       "      <td>2</td>\n",
       "      <td>3.00</td>\n",
       "      <td>17.0</td>\n",
       "      <td>NaN</td>\n",
       "      <td>12</td>\n",
       "      <td>NaN</td>\n",
       "      <td>...</td>\n",
       "      <td>23.30</td>\n",
       "      <td>2.0</td>\n",
       "      <td>Санкт-Петербург</td>\n",
       "      <td>39140.0</td>\n",
       "      <td>10364.0</td>\n",
       "      <td>2.0</td>\n",
       "      <td>173.0</td>\n",
       "      <td>3.0</td>\n",
       "      <td>196.0</td>\n",
       "      <td>602.0</td>\n",
       "    </tr>\n",
       "    <tr>\n",
       "      <th>23698</th>\n",
       "      <td>4</td>\n",
       "      <td>1350000.0</td>\n",
       "      <td>32.30</td>\n",
       "      <td>2017-07-21T00:00:00</td>\n",
       "      <td>1</td>\n",
       "      <td>2.50</td>\n",
       "      <td>5.0</td>\n",
       "      <td>12.3</td>\n",
       "      <td>1</td>\n",
       "      <td>NaN</td>\n",
       "      <td>...</td>\n",
       "      <td>9.00</td>\n",
       "      <td>NaN</td>\n",
       "      <td>поселок Новый Учхоз</td>\n",
       "      <td>NaN</td>\n",
       "      <td>NaN</td>\n",
       "      <td>NaN</td>\n",
       "      <td>NaN</td>\n",
       "      <td>NaN</td>\n",
       "      <td>NaN</td>\n",
       "      <td>NaN</td>\n",
       "    </tr>\n",
       "  </tbody>\n",
       "</table>\n",
       "<p>10 rows × 22 columns</p>\n",
       "</div>"
      ],
      "text/plain": [
       "       total_images  last_price  total_area first_day_exposition  rooms  \\\n",
       "23689            13   3550000.0       35.30  2018-02-28T00:00:00      1   \n",
       "23690             3   5500000.0       52.00  2018-07-19T00:00:00      2   \n",
       "23691            11   9470000.0       72.90  2016-10-13T00:00:00      2   \n",
       "23692             2   1350000.0       30.00  2017-07-07T00:00:00      1   \n",
       "23693             9   4600000.0       62.40  2016-08-05T00:00:00      3   \n",
       "23694             9   9700000.0      133.81  2017-03-21T00:00:00      3   \n",
       "23695            14   3100000.0       59.00  2018-01-15T00:00:00      3   \n",
       "23696            18   2500000.0       56.70  2018-02-11T00:00:00      2   \n",
       "23697            13  11475000.0       76.75  2017-03-28T00:00:00      2   \n",
       "23698             4   1350000.0       32.30  2017-07-21T00:00:00      1   \n",
       "\n",
       "       ceiling_height  floors_total  living_area  floor is_apartment  ...  \\\n",
       "23689            2.86          15.0         16.3      4          NaN  ...   \n",
       "23690             NaN           5.0         31.0      2          NaN  ...   \n",
       "23691            2.75          25.0         40.3      7          NaN  ...   \n",
       "23692             NaN           5.0         17.5      4          NaN  ...   \n",
       "23693            2.60           9.0         40.0      8          NaN  ...   \n",
       "23694            3.70           5.0         73.3      3          NaN  ...   \n",
       "23695             NaN           5.0         38.0      4          NaN  ...   \n",
       "23696             NaN           3.0         29.7      1          NaN  ...   \n",
       "23697            3.00          17.0          NaN     12          NaN  ...   \n",
       "23698            2.50           5.0         12.3      1          NaN  ...   \n",
       "\n",
       "       kitchen_area  balcony        locality_name  airports_nearest  \\\n",
       "23689          9.10      2.0      Санкт-Петербург           17284.0   \n",
       "23690          6.00      NaN      Санкт-Петербург           20151.0   \n",
       "23691         10.60      1.0      Санкт-Петербург           19424.0   \n",
       "23692          6.00      NaN               Тихвин               NaN   \n",
       "23693          8.00      0.0             Петергоф           45602.0   \n",
       "23694         13.83      NaN      Санкт-Петербург           24665.0   \n",
       "23695          8.50      NaN                Тосно               NaN   \n",
       "23696           NaN      NaN     село Рождествено               NaN   \n",
       "23697         23.30      2.0      Санкт-Петербург           39140.0   \n",
       "23698          9.00      NaN  поселок Новый Учхоз               NaN   \n",
       "\n",
       "      cityCenters_nearest  parks_around3000  parks_nearest  ponds_around3000  \\\n",
       "23689             16081.0               1.0          353.0               2.0   \n",
       "23690              6263.0               1.0          300.0               0.0   \n",
       "23691              4489.0               0.0            NaN               1.0   \n",
       "23692                 NaN               NaN            NaN               NaN   \n",
       "23693             34104.0               1.0          352.0               1.0   \n",
       "23694              4232.0               1.0          796.0               3.0   \n",
       "23695                 NaN               NaN            NaN               NaN   \n",
       "23696                 NaN               NaN            NaN               NaN   \n",
       "23697             10364.0               2.0          173.0               3.0   \n",
       "23698                 NaN               NaN            NaN               NaN   \n",
       "\n",
       "       ponds_nearest  days_exposition  \n",
       "23689          652.0             29.0  \n",
       "23690            NaN             15.0  \n",
       "23691          806.0            519.0  \n",
       "23692            NaN            413.0  \n",
       "23693          675.0            239.0  \n",
       "23694          381.0              NaN  \n",
       "23695            NaN             45.0  \n",
       "23696            NaN              NaN  \n",
       "23697          196.0            602.0  \n",
       "23698            NaN              NaN  \n",
       "\n",
       "[10 rows x 22 columns]"
      ]
     },
     "execution_count": 1,
     "metadata": {},
     "output_type": "execute_result"
    }
   ],
   "source": [
    "import pandas as pd\n",
    "import matplotlib.pyplot as plt\n",
    "data = pd.read_csv('/datasets/real_estate_data.csv', sep='\\t')\n",
    "display(data.head(10))\n",
    "data.tail(10)#общий вид таблицы данных"
   ]
  },
  {
   "cell_type": "code",
   "execution_count": 2,
   "metadata": {},
   "outputs": [
    {
     "name": "stdout",
     "output_type": "stream",
     "text": [
      "<class 'pandas.core.frame.DataFrame'>\n",
      "RangeIndex: 23699 entries, 0 to 23698\n",
      "Data columns (total 22 columns):\n",
      " #   Column                Non-Null Count  Dtype  \n",
      "---  ------                --------------  -----  \n",
      " 0   total_images          23699 non-null  int64  \n",
      " 1   last_price            23699 non-null  float64\n",
      " 2   total_area            23699 non-null  float64\n",
      " 3   first_day_exposition  23699 non-null  object \n",
      " 4   rooms                 23699 non-null  int64  \n",
      " 5   ceiling_height        14504 non-null  float64\n",
      " 6   floors_total          23613 non-null  float64\n",
      " 7   living_area           21796 non-null  float64\n",
      " 8   floor                 23699 non-null  int64  \n",
      " 9   is_apartment          2775 non-null   object \n",
      " 10  studio                23699 non-null  bool   \n",
      " 11  open_plan             23699 non-null  bool   \n",
      " 12  kitchen_area          21421 non-null  float64\n",
      " 13  balcony               12180 non-null  float64\n",
      " 14  locality_name         23650 non-null  object \n",
      " 15  airports_nearest      18157 non-null  float64\n",
      " 16  cityCenters_nearest   18180 non-null  float64\n",
      " 17  parks_around3000      18181 non-null  float64\n",
      " 18  parks_nearest         8079 non-null   float64\n",
      " 19  ponds_around3000      18181 non-null  float64\n",
      " 20  ponds_nearest         9110 non-null   float64\n",
      " 21  days_exposition       20518 non-null  float64\n",
      "dtypes: bool(2), float64(14), int64(3), object(3)\n",
      "memory usage: 3.7+ MB\n"
     ]
    }
   ],
   "source": [
    "data.info()#общая информация, 22 колонки, не все данные заполнены\n",
    "data_before_clean = data['total_images'].count()"
   ]
  },
  {
   "cell_type": "code",
   "execution_count": 3,
   "metadata": {},
   "outputs": [
    {
     "data": {
      "image/png": "[encoded data removed]",
      "text/plain": [
       "<Figure size 1080x1440 with 20 Axes>"
      ]
     },
     "metadata": {
      "needs_background": "light"
     },
     "output_type": "display_data"
    }
   ],
   "source": [
    "data.hist(figsize=(15, 20))#гистограммы по всей таблице\n",
    "plt.show()"
   ]
  },
  {
   "cell_type": "markdown",
   "metadata": {},
   "source": [
    "В датафрейме всего 22 колонки и 23699 строк. В 8 колонках нет пропусков, в остальных есть пропущенные значения. Можно отметить некорректные названия некоторых столбцов, а также неверные типы данных."
   ]
  },
  {
   "cell_type": "markdown",
   "metadata": {},
   "source": [
    "### Предобработка данных"
   ]
  },
  {
   "cell_type": "markdown",
   "metadata": {},
   "source": [
    "**Переименование столбцов:**"
   ]
  },
  {
   "cell_type": "code",
   "execution_count": 4,
   "metadata": {},
   "outputs": [
    {
     "data": {
      "text/plain": [
       "Index(['total_images', 'last_price', 'total_area', 'first_day_exposition',\n",
       "       'rooms', 'ceiling_height', 'floors_total', 'living_area', 'floor',\n",
       "       'is_apartment', 'studio', 'open_plan', 'kitchen_area', 'balcony',\n",
       "       'locality_name', 'airports_nearest', 'cityCenters_nearest',\n",
       "       'parks_around3000', 'parks_nearest', 'ponds_around3000',\n",
       "       'ponds_nearest', 'days_exposition'],\n",
       "      dtype='object')"
      ]
     },
     "execution_count": 4,
     "metadata": {},
     "output_type": "execute_result"
    }
   ],
   "source": [
    "data.columns"
   ]
  },
  {
   "cell_type": "code",
   "execution_count": 5,
   "metadata": {},
   "outputs": [],
   "source": [
    "data = data.rename(columns={'cityCenters_nearest':'city_centers_nearest', \n",
    "                     'parks_around3000': 'parks_around_3000', \n",
    "                    'ponds_around3000':'ponds_around_3000'})"
   ]
  },
  {
   "cell_type": "markdown",
   "metadata": {},
   "source": [
    "**Поиск пропущенных значений:**"
   ]
  },
  {
   "cell_type": "code",
   "execution_count": 6,
   "metadata": {},
   "outputs": [
    {
     "data": {
      "text/plain": [
       "total_images                0\n",
       "last_price                  0\n",
       "total_area                  0\n",
       "first_day_exposition        0\n",
       "rooms                       0\n",
       "ceiling_height           9195\n",
       "floors_total               86\n",
       "living_area              1903\n",
       "floor                       0\n",
       "is_apartment            20924\n",
       "studio                      0\n",
       "open_plan                   0\n",
       "kitchen_area             2278\n",
       "balcony                 11519\n",
       "locality_name              49\n",
       "airports_nearest         5542\n",
       "city_centers_nearest     5519\n",
       "parks_around_3000        5518\n",
       "parks_nearest           15620\n",
       "ponds_around_3000        5518\n",
       "ponds_nearest           14589\n",
       "days_exposition          3181\n",
       "dtype: int64"
      ]
     },
     "execution_count": 6,
     "metadata": {},
     "output_type": "execute_result"
    }
   ],
   "source": [
    "data.isna().sum()"
   ]
  },
  {
   "cell_type": "markdown",
   "metadata": {},
   "source": [
    "* ceiling_height (высота потолков (м)) - пропущено 9195 значений. Вероятно, высота неизвестна продавцу, оставим как есть;\n",
    "* floors_total (всего этажей в доме) - пропущено 86 значений. Пропущенных данных не столь много, эти строки можно удалить;\n",
    "* living_area (жилая площадь в квадратных метрах (м²)) - пропущено 1903 значений. Данные не заполнены, оставим как есть;\n",
    "* is_apartment (апартаменты (булев тип)) - пропущено 20924 значений. Вероятно, это не апартаменты, заполним 'False';\n",
    "* kitchen_area (площадь кухни в квадратных метрах (м²)) - пропущено 2278 значений. Данные не заполнены, оставим как есть;\n",
    "* balcony (число балконов) - пропущено 11519 значений. Может быть нет балкона, заполним '0';\n",
    "* locality_name (название населённого пункта) - пропущено 49 значений. Пропущенных данных не столь много, эти строки можно удалить;\n",
    "* airports_nearest (расстояние до ближайшего аэропорта в метрах (м)) - пропущено 5542 значений. Вероятно, нет данных, оставим как есть;\n",
    "* city_centers_nearest (расстояние до центра города (м)) - пропущено 5519 значений. Вероятно, нет данных, оставим как есть;\n",
    "* parks_around_3000 (число парков в радиусе 3 км) - пропущено 5518 значений. Вероятно, нет данных, оставим как есть;\n",
    "* parks_nearest (расстояние до ближайшего парка (м)) - пропущено 15620 значений. Вероятно, нет данных, оставим как есть;\n",
    "* ponds_around_3000 (число водоёмов в радиусе 3 км) - пропущено 5518 значений. Вероятно, нет данных, оставим как есть;\n",
    "* ponds_nearest (расстояние до ближайшего водоёма (м)) - пропущено 14589 значений. Вероятно, нет данных, оставим как есть;\n",
    "* days_exposition (сколько дней было размещено объявление (от публикации до снятия)) - пропущено 3181 значение. Вероятно, нет данных, оставим как есть. "
   ]
  },
  {
   "cell_type": "markdown",
   "metadata": {},
   "source": [
    "**Запонение пропущенных значений:**"
   ]
  },
  {
   "cell_type": "code",
   "execution_count": 7,
   "metadata": {},
   "outputs": [],
   "source": [
    "data['is_apartment'] = data['is_apartment'].fillna('False')\n",
    "data['balcony'] = data['balcony'].fillna(0) "
   ]
  },
  {
   "cell_type": "markdown",
   "metadata": {},
   "source": [
    "**Удаление строк с пропущенными значениями:**"
   ]
  },
  {
   "cell_type": "code",
   "execution_count": 8,
   "metadata": {},
   "outputs": [
    {
     "name": "stdout",
     "output_type": "stream",
     "text": [
      "<class 'pandas.core.frame.DataFrame'>\n",
      "RangeIndex: 23565 entries, 0 to 23564\n",
      "Data columns (total 22 columns):\n",
      " #   Column                Non-Null Count  Dtype  \n",
      "---  ------                --------------  -----  \n",
      " 0   total_images          23565 non-null  int64  \n",
      " 1   last_price            23565 non-null  float64\n",
      " 2   total_area            23565 non-null  float64\n",
      " 3   first_day_exposition  23565 non-null  object \n",
      " 4   rooms                 23565 non-null  int64  \n",
      " 5   ceiling_height        14481 non-null  float64\n",
      " 6   floors_total          23565 non-null  float64\n",
      " 7   living_area           21700 non-null  float64\n",
      " 8   floor                 23565 non-null  int64  \n",
      " 9   is_apartment          23565 non-null  object \n",
      " 10  studio                23565 non-null  bool   \n",
      " 11  open_plan             23565 non-null  bool   \n",
      " 12  kitchen_area          21343 non-null  float64\n",
      " 13  balcony               23565 non-null  float64\n",
      " 14  locality_name         23565 non-null  object \n",
      " 15  airports_nearest      18041 non-null  float64\n",
      " 16  city_centers_nearest  18064 non-null  float64\n",
      " 17  parks_around_3000     18065 non-null  float64\n",
      " 18  parks_nearest         8030 non-null   float64\n",
      " 19  ponds_around_3000     18065 non-null  float64\n",
      " 20  ponds_nearest         9036 non-null   float64\n",
      " 21  days_exposition       20394 non-null  float64\n",
      "dtypes: bool(2), float64(14), int64(3), object(3)\n",
      "memory usage: 3.6+ MB\n"
     ]
    }
   ],
   "source": [
    "data = data.dropna(subset=['floors_total', 'locality_name']).reset_index(drop=True)\n",
    "data.info()"
   ]
  },
  {
   "cell_type": "markdown",
   "metadata": {},
   "source": [
    "**Изменение типов данных:**"
   ]
  },
  {
   "cell_type": "markdown",
   "metadata": {},
   "source": [
    "Тип данных необходимо изменить в столбцах `last_price`, поскольку это должны быть целые значения, `first_day_exposition`, поскольку это дата, `floors_total`, поскольку количество этажей целое значение, `is_apartment`, поскольку это булев тип, `balcony`, поскольку это отражает кол-во балконов."
   ]
  },
  {
   "cell_type": "code",
   "execution_count": 9,
   "metadata": {},
   "outputs": [
    {
     "name": "stdout",
     "output_type": "stream",
     "text": [
      "<class 'pandas.core.frame.DataFrame'>\n",
      "RangeIndex: 23565 entries, 0 to 23564\n",
      "Data columns (total 22 columns):\n",
      " #   Column                Non-Null Count  Dtype         \n",
      "---  ------                --------------  -----         \n",
      " 0   total_images          23565 non-null  int64         \n",
      " 1   last_price            23565 non-null  int64         \n",
      " 2   total_area            23565 non-null  float64       \n",
      " 3   first_day_exposition  23565 non-null  datetime64[ns]\n",
      " 4   rooms                 23565 non-null  int64         \n",
      " 5   ceiling_height        14481 non-null  float64       \n",
      " 6   floors_total          23565 non-null  int64         \n",
      " 7   living_area           21700 non-null  float64       \n",
      " 8   floor                 23565 non-null  int64         \n",
      " 9   is_apartment          23565 non-null  bool          \n",
      " 10  studio                23565 non-null  bool          \n",
      " 11  open_plan             23565 non-null  bool          \n",
      " 12  kitchen_area          21343 non-null  float64       \n",
      " 13  balcony               23565 non-null  int64         \n",
      " 14  locality_name         23565 non-null  object        \n",
      " 15  airports_nearest      18041 non-null  float64       \n",
      " 16  city_centers_nearest  18064 non-null  float64       \n",
      " 17  parks_around_3000     18065 non-null  float64       \n",
      " 18  parks_nearest         8030 non-null   float64       \n",
      " 19  ponds_around_3000     18065 non-null  float64       \n",
      " 20  ponds_nearest         9036 non-null   float64       \n",
      " 21  days_exposition       20394 non-null  float64       \n",
      "dtypes: bool(3), datetime64[ns](1), float64(11), int64(6), object(1)\n",
      "memory usage: 3.5+ MB\n"
     ]
    }
   ],
   "source": [
    "data['last_price'] = data['last_price'].astype('int')\n",
    "data['floors_total'] = data['floors_total'].astype('int')\n",
    "data['balcony'] = pd.to_numeric(data['balcony'], errors='coerce').astype('int')\n",
    "data['is_apartment'] = data['is_apartment'].astype('bool') \n",
    "data['first_day_exposition'] = pd.to_datetime(data['first_day_exposition'], format = '%Y-%m-%dT%H:%M:%S')\n",
    "\n",
    "\n",
    "data.info()"
   ]
  },
  {
   "cell_type": "markdown",
   "metadata": {},
   "source": [
    "**Устранение явных дубликатов:**"
   ]
  },
  {
   "cell_type": "code",
   "execution_count": 10,
   "metadata": {},
   "outputs": [
    {
     "data": {
      "text/plain": [
       "0"
      ]
     },
     "execution_count": 10,
     "metadata": {},
     "output_type": "execute_result"
    }
   ],
   "source": [
    "data.duplicated().sum()"
   ]
  },
  {
   "cell_type": "markdown",
   "metadata": {},
   "source": [
    "Явных дубликатов в таблице нет."
   ]
  },
  {
   "cell_type": "markdown",
   "metadata": {},
   "source": [
    "**Устранение неявных дубликатов:**"
   ]
  },
  {
   "cell_type": "code",
   "execution_count": 11,
   "metadata": {},
   "outputs": [
    {
     "data": {
      "text/plain": [
       "364"
      ]
     },
     "execution_count": 11,
     "metadata": {},
     "output_type": "execute_result"
    }
   ],
   "source": [
    "len(data['locality_name'].unique())"
   ]
  },
  {
   "cell_type": "code",
   "execution_count": 12,
   "metadata": {},
   "outputs": [
    {
     "data": {
      "text/plain": [
       "array(['бокситогорск', 'волосово', 'волхов', 'всеволожск', 'выборг',\n",
       "       'высоцк', 'гатчина', 'городской поселок большая ижора',\n",
       "       'городской поселок янино-1', 'городской посёлок будогощь',\n",
       "       'городской посёлок виллози', 'городской посёлок лесогорский',\n",
       "       'городской посёлок мга', 'городской посёлок назия',\n",
       "       'городской посёлок новоселье', 'городской посёлок павлово',\n",
       "       'городской посёлок рощино', 'городской посёлок свирьстрой',\n",
       "       'городской посёлок советский', 'городской посёлок фёдоровское',\n",
       "       'городской посёлок янино-1', 'деревня агалатово', 'деревня аро',\n",
       "       'деревня батово', 'деревня бегуницы', 'деревня белогорка',\n",
       "       'деревня большая вруда', 'деревня большая пустомержа',\n",
       "       'деревня большие колпаны', 'деревня большое рейзино',\n",
       "       'деревня большой сабск', 'деревня бор', 'деревня борисова грива',\n",
       "       'деревня ваганово', 'деревня вартемяги', 'деревня вахнова кара',\n",
       "       'деревня выскатка', 'деревня гарболово', 'деревня глинка',\n",
       "       'деревня горбунки', 'деревня гостилицы', 'деревня заклинье',\n",
       "       'деревня заневка', 'деревня зимитицы', 'деревня извара',\n",
       "       'деревня иссад', 'деревня калитино', 'деревня кальтино',\n",
       "       'деревня камышовка', 'деревня каськово', 'деревня келози',\n",
       "       'деревня кипень', 'деревня кисельня', 'деревня колтуши',\n",
       "       'деревня коркино', 'деревня котлы', 'деревня кривко',\n",
       "       'деревня кудрово', 'деревня кузьмолово', 'деревня курковицы',\n",
       "       'деревня куровицы', 'деревня куттузи', 'деревня лаврики',\n",
       "       'деревня лаголово', 'деревня лампово', 'деревня лесколово',\n",
       "       'деревня лопухинка', 'деревня лупполово',\n",
       "       'деревня малая романовка', 'деревня малое верево',\n",
       "       'деревня малое карлино', 'деревня малые колпаны',\n",
       "       'деревня мануйлово', 'деревня меньково', 'деревня мины',\n",
       "       'деревня мистолово', 'деревня ненимяки', 'деревня нижние осельки',\n",
       "       'деревня нижняя', 'деревня низино', 'деревня новое девяткино',\n",
       "       'деревня новолисино', 'деревня нурма', 'деревня оржицы',\n",
       "       'деревня парицы', 'деревня пельгора', 'деревня пеники',\n",
       "       'деревня пижма', 'деревня пикколово', 'деревня пудомяги',\n",
       "       'деревня пустынка', 'деревня пчева', 'деревня рабитицы',\n",
       "       'деревня разбегаево', 'деревня раздолье', 'деревня разметелево',\n",
       "       'деревня рапполово', 'деревня реброво', 'деревня русско',\n",
       "       'деревня сижно', 'деревня снегирёвка', 'деревня старая',\n",
       "       'деревня старая пустошь', 'деревня старое хинколово',\n",
       "       'деревня старополье', 'деревня старосиверская',\n",
       "       'деревня старые бегуницы', 'деревня суоранда',\n",
       "       'деревня сяськелево', 'деревня тарасово', 'деревня терпилицы',\n",
       "       'деревня тихковицы', 'деревня тойворово', 'деревня торосово',\n",
       "       'деревня торошковичи', 'деревня трубников бор',\n",
       "       'деревня фалилеево', 'деревня фёдоровское', 'деревня хапо-ое',\n",
       "       'деревня хязельки', 'деревня чудской бор', 'деревня шпаньково',\n",
       "       'деревня щеглово', 'деревня юкки', 'деревня ялгино',\n",
       "       'деревня яльгелево', 'деревня ям-тесово', 'зеленогорск',\n",
       "       'ивангород', 'каменногорск', 'кингисепп', 'кириши', 'кировск',\n",
       "       'колпино', 'коммунар', 'коттеджный поселок кивеннапа север',\n",
       "       'коттеджный поселок счастье', 'коттеджный посёлок лесное',\n",
       "       'красное село', 'кронштадт', 'кудрово', 'лодейное поле',\n",
       "       'ломоносов', 'луга', 'любань', 'мурино', 'никольское',\n",
       "       'новая ладога', 'отрадное', 'павловск', 'петергоф', 'пикалёво',\n",
       "       'подпорожье', 'поселок аннино', 'поселок барышево',\n",
       "       'поселок бугры', 'поселок возрождение', 'поселок войсковицы',\n",
       "       'поселок володарское', 'поселок гаврилово', 'поселок гарболово',\n",
       "       'поселок гладкое', 'поселок глажево', 'поселок глебычево',\n",
       "       'поселок гончарово', 'поселок городского типа большая ижора',\n",
       "       'поселок городского типа вырица',\n",
       "       'поселок городского типа дружная горка',\n",
       "       'поселок городского типа дубровка',\n",
       "       'поселок городского типа ефимовский',\n",
       "       'поселок городского типа имени свердлова',\n",
       "       'поселок городского типа кондратьево',\n",
       "       'поселок городского типа красный бор',\n",
       "       'поселок городского типа кузьмоловский',\n",
       "       'поселок городского типа лебяжье',\n",
       "       'поселок городского типа лесогорский',\n",
       "       'поселок городского типа назия',\n",
       "       'поселок городского типа никольский',\n",
       "       'поселок городского типа приладожский',\n",
       "       'поселок городского типа рахья', 'поселок городского типа рощино',\n",
       "       'поселок городского типа рябово',\n",
       "       'поселок городского типа синявино',\n",
       "       'поселок городского типа советский',\n",
       "       'поселок городского типа токсово',\n",
       "       'поселок городского типа форносово', 'поселок громово',\n",
       "       'поселок дружноселье', 'поселок елизаветино', 'поселок жилгородок',\n",
       "       'поселок жилпосёлок', 'поселок житково', 'поселок заводской',\n",
       "       'поселок запорожское', 'поселок зимитицы', 'поселок ильичёво',\n",
       "       'поселок калитино', 'поселок каложицы', 'поселок кингисеппский',\n",
       "       'поселок кирпичное', 'поселок кобралово', 'поселок кобринское',\n",
       "       'поселок коммунары', 'поселок коробицыно', 'поселок котельский',\n",
       "       'поселок красная долина', 'поселок красносельское',\n",
       "       'поселок лесное', 'поселок лисий нос', 'поселок лукаши',\n",
       "       'поселок любань', 'поселок мельниково', 'поселок мичуринское',\n",
       "       'поселок молодцово', 'поселок мурино', 'поселок новый свет',\n",
       "       'поселок новый учхоз', 'поселок оредеж',\n",
       "       'поселок пансионат зелёный бор', 'поселок первомайское',\n",
       "       'поселок перово', 'поселок петровское', 'поселок победа',\n",
       "       'поселок поляны', 'поселок почап', 'поселок починок',\n",
       "       'поселок пушное', 'поселок пчевжа', 'поселок рабитицы',\n",
       "       'поселок романовка', 'поселок ромашки', 'поселок рябово',\n",
       "       'поселок севастьяново', 'поселок селезнёво', 'поселок сельцо',\n",
       "       'поселок семиозерье', 'поселок семрино', 'поселок серебрянский',\n",
       "       'поселок совхозный', 'поселок станции вещево',\n",
       "       'поселок станции корнево', 'поселок станции лужайка',\n",
       "       'поселок станции приветнинское', 'поселок старая малукса',\n",
       "       'поселок стеклянный', 'поселок сумино', 'поселок суходолье',\n",
       "       'поселок тельмана', 'поселок терволово', 'поселок торковичи',\n",
       "       'поселок тёсово-4', 'поселок углово', 'поселок усть-луга',\n",
       "       'поселок ушаки', 'поселок цвелодубово', 'поселок цвылёво',\n",
       "       'посёлок александровская', 'посёлок алексеевка', 'посёлок аннино',\n",
       "       'посёлок белоостров', 'посёлок бугры', 'посёлок возрождение',\n",
       "       'посёлок войскорово', 'посёлок высокоключевой',\n",
       "       'посёлок гаврилово', 'посёлок городского типа важины',\n",
       "       'посёлок городского типа вознесенье',\n",
       "       'посёлок городского типа вырица',\n",
       "       'посёлок городского типа имени морозова',\n",
       "       'посёлок городского типа имени свердлова',\n",
       "       'посёлок городского типа красный бор',\n",
       "       'посёлок городского типа кузнечное',\n",
       "       'посёлок городского типа кузьмоловский',\n",
       "       'посёлок городского типа лебяжье', 'посёлок городского типа мга',\n",
       "       'посёлок городского типа павлово',\n",
       "       'посёлок городского типа рощино', 'посёлок городского типа рябово',\n",
       "       'посёлок городского типа сиверский',\n",
       "       'посёлок городского типа тайцы', 'посёлок городского типа токсово',\n",
       "       'посёлок городского типа ульяновка',\n",
       "       'посёлок городского типа форносово', 'посёлок дзержинского',\n",
       "       'посёлок жилгородок', 'посёлок ильичёво', 'посёлок кикерино',\n",
       "       'посёлок кобралово', 'посёлок коробицыно', 'посёлок левашово',\n",
       "       'посёлок ленинское', 'посёлок лисий нос', 'посёлок мельниково',\n",
       "       'посёлок металлострой', 'посёлок мичуринское',\n",
       "       'посёлок молодёжное', 'посёлок мурино', 'посёлок мыза-ивановка',\n",
       "       'посёлок новогорелово', 'посёлок новый свет',\n",
       "       'посёлок пансионат зелёный бор', 'посёлок парголово',\n",
       "       'посёлок перово', 'посёлок песочный', 'посёлок петро-славянка',\n",
       "       'посёлок петровское', 'посёлок платформа 69-й километр',\n",
       "       'посёлок плодовое', 'посёлок плоское', 'посёлок победа',\n",
       "       'посёлок поляны', 'посёлок понтонный',\n",
       "       'посёлок при железнодорожной станции вещево',\n",
       "       'посёлок при железнодорожной станции приветнинское',\n",
       "       'посёлок пригородный', 'посёлок пудость', 'посёлок репино',\n",
       "       'посёлок ропша', 'посёлок сапёрное', 'посёлок сапёрный',\n",
       "       'посёлок сосново', 'посёлок станции громово',\n",
       "       'посёлок станции свирь', 'посёлок старая малукса',\n",
       "       'посёлок стеклянный', 'посёлок стрельна', 'посёлок суйда',\n",
       "       'посёлок сумино', 'посёлок тельмана', 'посёлок терволово',\n",
       "       'посёлок торфяное', 'посёлок усть-ижора', 'посёлок усть-луга',\n",
       "       'посёлок форт красная горка', 'посёлок шугозеро', 'посёлок шушары',\n",
       "       'посёлок щеглово', 'приморск', 'приозерск', 'пушкин',\n",
       "       'садоводческое некоммерческое товарищество лесная поляна',\n",
       "       'садовое товарищество новая ропша',\n",
       "       'садовое товарищество приладожский', 'садовое товарищество рахья',\n",
       "       'садовое товарищество садко', 'санкт-петербург', 'светогорск',\n",
       "       'село копорье', 'село никольское', 'село павлово', 'село паша',\n",
       "       'село путилово', 'село рождествено', 'село русско-высоцкое',\n",
       "       'село старая ладога', 'село шум', 'сертолово', 'сестрорецк',\n",
       "       'сланцы', 'сосновый бор', 'сясьстрой', 'тихвин', 'тосно',\n",
       "       'шлиссельбург'], dtype=object)"
      ]
     },
     "execution_count": 12,
     "metadata": {},
     "output_type": "execute_result"
    }
   ],
   "source": [
    "data['locality_name'] = data['locality_name'].str.lower() # преобразую все названия населенных пунктов в нижний регистр\n",
    "data['locality_name'].sort_values().unique() # изучение данных"
   ]
  },
  {
   "cell_type": "code",
   "execution_count": 13,
   "metadata": {
    "scrolled": true
   },
   "outputs": [
    {
     "data": {
      "text/plain": [
       "array(['бокситогорск', 'волосово', 'волхов', 'всеволожск', 'выборг',\n",
       "       'высоцк', 'гатчина', 'деревня агалатово', 'деревня аро',\n",
       "       'деревня батово', 'деревня бегуницы', 'деревня белогорка',\n",
       "       'деревня большая вруда', 'деревня большая пустомержа',\n",
       "       'деревня большие колпаны', 'деревня большое рейзино',\n",
       "       'деревня большой сабск', 'деревня бор', 'деревня борисова грива',\n",
       "       'деревня ваганово', 'деревня вартемяги', 'деревня вахнова кара',\n",
       "       'деревня выскатка', 'деревня гарболово', 'деревня глинка',\n",
       "       'деревня горбунки', 'деревня гостилицы', 'деревня заклинье',\n",
       "       'деревня заневка', 'деревня зимитицы', 'деревня извара',\n",
       "       'деревня иссад', 'деревня калитино', 'деревня кальтино',\n",
       "       'деревня камышовка', 'деревня каськово', 'деревня келози',\n",
       "       'деревня кипень', 'деревня кисельня', 'деревня колтуши',\n",
       "       'деревня коркино', 'деревня котлы', 'деревня кривко',\n",
       "       'деревня кудрово', 'деревня кузьмолово', 'деревня курковицы',\n",
       "       'деревня куровицы', 'деревня куттузи', 'деревня лаврики',\n",
       "       'деревня лаголово', 'деревня лампово', 'деревня лесколово',\n",
       "       'деревня лопухинка', 'деревня лупполово',\n",
       "       'деревня малая романовка', 'деревня малое верево',\n",
       "       'деревня малое карлино', 'деревня малые колпаны',\n",
       "       'деревня мануйлово', 'деревня меньково', 'деревня мины',\n",
       "       'деревня мистолово', 'деревня ненимяки', 'деревня нижние осельки',\n",
       "       'деревня нижняя', 'деревня низино', 'деревня новое девяткино',\n",
       "       'деревня новолисино', 'деревня нурма', 'деревня оржицы',\n",
       "       'деревня парицы', 'деревня пельгора', 'деревня пеники',\n",
       "       'деревня пижма', 'деревня пикколово', 'деревня пудомяги',\n",
       "       'деревня пустынка', 'деревня пчева', 'деревня рабитицы',\n",
       "       'деревня разбегаево', 'деревня раздолье', 'деревня разметелево',\n",
       "       'деревня рапполово', 'деревня реброво', 'деревня русско',\n",
       "       'деревня сижно', 'деревня снегиревка', 'деревня старая',\n",
       "       'деревня старая пустошь', 'деревня старое хинколово',\n",
       "       'деревня старополье', 'деревня старосиверская',\n",
       "       'деревня старые бегуницы', 'деревня суоранда',\n",
       "       'деревня сяськелево', 'деревня тарасово', 'деревня терпилицы',\n",
       "       'деревня тихковицы', 'деревня тойворово', 'деревня торосово',\n",
       "       'деревня торошковичи', 'деревня трубников бор',\n",
       "       'деревня фалилеево', 'деревня федоровское', 'деревня хапо-ое',\n",
       "       'деревня хязельки', 'деревня чудской бор', 'деревня шпаньково',\n",
       "       'деревня щеглово', 'деревня юкки', 'деревня ялгино',\n",
       "       'деревня яльгелево', 'деревня ям-тесово', 'зеленогорск',\n",
       "       'ивангород', 'каменногорск', 'кингисепп', 'кириши', 'кировск',\n",
       "       'колпино', 'коммунар', 'коттеджный поселок кивеннапа север',\n",
       "       'коттеджный поселок лесное', 'коттеджный поселок счастье',\n",
       "       'красное село', 'кронштадт', 'кудрово', 'лодейное поле',\n",
       "       'ломоносов', 'луга', 'любань', 'мурино', 'никольское',\n",
       "       'новая ладога', 'отрадное', 'павловск', 'петергоф', 'пикалево',\n",
       "       'подпорожье', 'поселок александровская', 'поселок алексеевка',\n",
       "       'поселок аннино', 'поселок барышево', 'поселок белоостров',\n",
       "       'поселок большая ижора', 'поселок бугры', 'поселок будогощь',\n",
       "       'поселок важины', 'поселок виллози', 'поселок вознесенье',\n",
       "       'поселок возрождение', 'поселок войсковицы', 'поселок войскорово',\n",
       "       'поселок володарское', 'поселок вырица', 'поселок высокоключевой',\n",
       "       'поселок гаврилово', 'поселок гарболово', 'поселок гладкое',\n",
       "       'поселок глажево', 'поселок глебычево', 'поселок гончарово',\n",
       "       'поселок громово', 'поселок дзержинского', 'поселок дружная горка',\n",
       "       'поселок дружноселье', 'поселок дубровка', 'поселок елизаветино',\n",
       "       'поселок ефимовский', 'поселок жилгородок', 'поселок жилпоселок',\n",
       "       'поселок житково', 'поселок заводской', 'поселок запорожское',\n",
       "       'поселок зимитицы', 'поселок ильичево', 'поселок имени морозова',\n",
       "       'поселок имени свердлова', 'поселок калитино', 'поселок каложицы',\n",
       "       'поселок кикерино', 'поселок кингисеппский', 'поселок кирпичное',\n",
       "       'поселок кобралово', 'поселок кобринское', 'поселок коммунары',\n",
       "       'поселок кондратьево', 'поселок коробицыно', 'поселок котельский',\n",
       "       'поселок красная долина', 'поселок красносельское',\n",
       "       'поселок красный бор', 'поселок кузнечное',\n",
       "       'поселок кузьмоловский', 'поселок лебяжье', 'поселок левашово',\n",
       "       'поселок ленинское', 'поселок лесное', 'поселок лесогорский',\n",
       "       'поселок лисий нос', 'поселок лукаши', 'поселок любань',\n",
       "       'поселок мга', 'поселок мельниково', 'поселок металлострой',\n",
       "       'поселок мичуринское', 'поселок молодежное', 'поселок молодцово',\n",
       "       'поселок мурино', 'поселок мыза-ивановка', 'поселок назия',\n",
       "       'поселок никольский', 'поселок новогорелово', 'поселок новоселье',\n",
       "       'поселок новый свет', 'поселок новый учхоз', 'поселок оредеж',\n",
       "       'поселок павлово', 'поселок пансионат зеленый бор',\n",
       "       'поселок парголово', 'поселок первомайское', 'поселок перово',\n",
       "       'поселок песочный', 'поселок петро-славянка', 'поселок петровское',\n",
       "       'поселок платформа 69-й километр', 'поселок плодовое',\n",
       "       'поселок плоское', 'поселок победа', 'поселок поляны',\n",
       "       'поселок понтонный', 'поселок почап', 'поселок починок',\n",
       "       'поселок при железнодорожной станции вещево',\n",
       "       'поселок при железнодорожной станции приветнинское',\n",
       "       'поселок пригородный', 'поселок приладожский', 'поселок пудость',\n",
       "       'поселок пушное', 'поселок пчевжа', 'поселок рабитицы',\n",
       "       'поселок рахья', 'поселок репино', 'поселок романовка',\n",
       "       'поселок ромашки', 'поселок ропша', 'поселок рощино',\n",
       "       'поселок рябово', 'поселок саперное', 'поселок саперный',\n",
       "       'поселок свирьстрой', 'поселок севастьяново', 'поселок селезнево',\n",
       "       'поселок сельцо', 'поселок семиозерье', 'поселок семрино',\n",
       "       'поселок серебрянский', 'поселок сиверский', 'поселок синявино',\n",
       "       'поселок советский', 'поселок совхозный', 'поселок сосново',\n",
       "       'поселок станции вещево', 'поселок станции громово',\n",
       "       'поселок станции корнево', 'поселок станции лужайка',\n",
       "       'поселок станции приветнинское', 'поселок станции свирь',\n",
       "       'поселок старая малукса', 'поселок стеклянный', 'поселок стрельна',\n",
       "       'поселок суйда', 'поселок сумино', 'поселок суходолье',\n",
       "       'поселок тайцы', 'поселок тельмана', 'поселок терволово',\n",
       "       'поселок тесово-4', 'поселок токсово', 'поселок торковичи',\n",
       "       'поселок торфяное', 'поселок углово', 'поселок ульяновка',\n",
       "       'поселок усть-ижора', 'поселок усть-луга', 'поселок ушаки',\n",
       "       'поселок федоровское', 'поселок форносово',\n",
       "       'поселок форт красная горка', 'поселок цвелодубово',\n",
       "       'поселок цвылево', 'поселок шугозеро', 'поселок шушары',\n",
       "       'поселок щеглово', 'поселок янино-1', 'приморск', 'приозерск',\n",
       "       'пушкин',\n",
       "       'садоводческое некоммерческое товарищество лесная поляна',\n",
       "       'садовое товарищество новая ропша',\n",
       "       'садовое товарищество приладожский', 'садовое товарищество рахья',\n",
       "       'садовое товарищество садко', 'санкт-петербург', 'светогорск',\n",
       "       'село копорье', 'село никольское', 'село павлово', 'село паша',\n",
       "       'село путилово', 'село рождествено', 'село русско-высоцкое',\n",
       "       'село старая ладога', 'село шум', 'сертолово', 'сестрорецк',\n",
       "       'сланцы', 'сосновый бор', 'сясьстрой', 'тихвин', 'тосно',\n",
       "       'шлиссельбург'], dtype=object)"
      ]
     },
     "execution_count": 13,
     "metadata": {},
     "output_type": "execute_result"
    }
   ],
   "source": [
    "data['locality_name'] = data['locality_name'].str.replace('ё', 'е') #замена всех е на ё\n",
    "\n",
    "data['locality_name'] = data['locality_name'].str.replace('поселок городского типа', 'поселок') #замена наименования\n",
    "data['locality_name'] = data['locality_name'].str.replace('городской поселок', 'поселок') #замена наименованияи\n",
    "data['locality_name'].sort_values().unique()"
   ]
  },
  {
   "cell_type": "code",
   "execution_count": 14,
   "metadata": {},
   "outputs": [
    {
     "data": {
      "text/plain": [
       "322"
      ]
     },
     "execution_count": 14,
     "metadata": {},
     "output_type": "execute_result"
    }
   ],
   "source": [
    "len(data['locality_name'].unique())"
   ]
  },
  {
   "cell_type": "markdown",
   "metadata": {},
   "source": [
    "До устранения неявных дубликатов в таблице было `364` населенных пункта, после осталось `322`."
   ]
  },
  {
   "cell_type": "markdown",
   "metadata": {},
   "source": [
    "**Обработка аномальных значений:**"
   ]
  },
  {
   "cell_type": "code",
   "execution_count": 15,
   "metadata": {},
   "outputs": [
    {
     "data": {
      "text/html": [
       "<div>\n",
       "<style scoped>\n",
       "    .dataframe tbody tr th:only-of-type {\n",
       "        vertical-align: middle;\n",
       "    }\n",
       "\n",
       "    .dataframe tbody tr th {\n",
       "        vertical-align: top;\n",
       "    }\n",
       "\n",
       "    .dataframe thead th {\n",
       "        text-align: right;\n",
       "    }\n",
       "</style>\n",
       "<table border=\"1\" class=\"dataframe\">\n",
       "  <thead>\n",
       "    <tr style=\"text-align: right;\">\n",
       "      <th></th>\n",
       "      <th>total_images</th>\n",
       "      <th>last_price</th>\n",
       "      <th>total_area</th>\n",
       "      <th>rooms</th>\n",
       "      <th>ceiling_height</th>\n",
       "      <th>floors_total</th>\n",
       "      <th>living_area</th>\n",
       "      <th>floor</th>\n",
       "      <th>kitchen_area</th>\n",
       "      <th>balcony</th>\n",
       "      <th>airports_nearest</th>\n",
       "      <th>city_centers_nearest</th>\n",
       "      <th>parks_around_3000</th>\n",
       "      <th>parks_nearest</th>\n",
       "      <th>ponds_around_3000</th>\n",
       "      <th>ponds_nearest</th>\n",
       "      <th>days_exposition</th>\n",
       "    </tr>\n",
       "  </thead>\n",
       "  <tbody>\n",
       "    <tr>\n",
       "      <th>count</th>\n",
       "      <td>23565.000000</td>\n",
       "      <td>2.356500e+04</td>\n",
       "      <td>23565.000000</td>\n",
       "      <td>23565.000000</td>\n",
       "      <td>14481.000000</td>\n",
       "      <td>23565.000000</td>\n",
       "      <td>21700.000000</td>\n",
       "      <td>23565.000000</td>\n",
       "      <td>21343.000000</td>\n",
       "      <td>23565.000000</td>\n",
       "      <td>18041.000000</td>\n",
       "      <td>18064.000000</td>\n",
       "      <td>18065.000000</td>\n",
       "      <td>8030.000000</td>\n",
       "      <td>18065.000000</td>\n",
       "      <td>9036.000000</td>\n",
       "      <td>20394.000000</td>\n",
       "    </tr>\n",
       "    <tr>\n",
       "      <th>mean</th>\n",
       "      <td>9.878421</td>\n",
       "      <td>6.540058e+06</td>\n",
       "      <td>60.322824</td>\n",
       "      <td>2.070656</td>\n",
       "      <td>2.771283</td>\n",
       "      <td>10.675875</td>\n",
       "      <td>34.454822</td>\n",
       "      <td>5.878124</td>\n",
       "      <td>10.560994</td>\n",
       "      <td>0.593677</td>\n",
       "      <td>28797.082701</td>\n",
       "      <td>14192.656056</td>\n",
       "      <td>0.611569</td>\n",
       "      <td>490.580448</td>\n",
       "      <td>0.769499</td>\n",
       "      <td>518.289509</td>\n",
       "      <td>180.741395</td>\n",
       "    </tr>\n",
       "    <tr>\n",
       "      <th>std</th>\n",
       "      <td>5.681156</td>\n",
       "      <td>1.091093e+07</td>\n",
       "      <td>35.657060</td>\n",
       "      <td>1.078591</td>\n",
       "      <td>1.261983</td>\n",
       "      <td>6.594823</td>\n",
       "      <td>22.045359</td>\n",
       "      <td>4.871485</td>\n",
       "      <td>5.900630</td>\n",
       "      <td>0.960660</td>\n",
       "      <td>12632.499735</td>\n",
       "      <td>8613.348153</td>\n",
       "      <td>0.802088</td>\n",
       "      <td>341.572956</td>\n",
       "      <td>0.938669</td>\n",
       "      <td>278.009558</td>\n",
       "      <td>219.732782</td>\n",
       "    </tr>\n",
       "    <tr>\n",
       "      <th>min</th>\n",
       "      <td>0.000000</td>\n",
       "      <td>1.219000e+04</td>\n",
       "      <td>12.000000</td>\n",
       "      <td>0.000000</td>\n",
       "      <td>1.000000</td>\n",
       "      <td>1.000000</td>\n",
       "      <td>2.000000</td>\n",
       "      <td>1.000000</td>\n",
       "      <td>1.300000</td>\n",
       "      <td>0.000000</td>\n",
       "      <td>0.000000</td>\n",
       "      <td>181.000000</td>\n",
       "      <td>0.000000</td>\n",
       "      <td>1.000000</td>\n",
       "      <td>0.000000</td>\n",
       "      <td>13.000000</td>\n",
       "      <td>1.000000</td>\n",
       "    </tr>\n",
       "    <tr>\n",
       "      <th>25%</th>\n",
       "      <td>6.000000</td>\n",
       "      <td>3.400000e+06</td>\n",
       "      <td>40.000000</td>\n",
       "      <td>1.000000</td>\n",
       "      <td>2.510000</td>\n",
       "      <td>5.000000</td>\n",
       "      <td>18.600000</td>\n",
       "      <td>2.000000</td>\n",
       "      <td>7.000000</td>\n",
       "      <td>0.000000</td>\n",
       "      <td>18565.000000</td>\n",
       "      <td>9238.000000</td>\n",
       "      <td>0.000000</td>\n",
       "      <td>288.000000</td>\n",
       "      <td>0.000000</td>\n",
       "      <td>293.000000</td>\n",
       "      <td>45.000000</td>\n",
       "    </tr>\n",
       "    <tr>\n",
       "      <th>50%</th>\n",
       "      <td>9.000000</td>\n",
       "      <td>4.646000e+06</td>\n",
       "      <td>52.000000</td>\n",
       "      <td>2.000000</td>\n",
       "      <td>2.650000</td>\n",
       "      <td>9.000000</td>\n",
       "      <td>30.000000</td>\n",
       "      <td>4.000000</td>\n",
       "      <td>9.100000</td>\n",
       "      <td>0.000000</td>\n",
       "      <td>26757.000000</td>\n",
       "      <td>13096.500000</td>\n",
       "      <td>0.000000</td>\n",
       "      <td>455.000000</td>\n",
       "      <td>1.000000</td>\n",
       "      <td>503.000000</td>\n",
       "      <td>95.000000</td>\n",
       "    </tr>\n",
       "    <tr>\n",
       "      <th>75%</th>\n",
       "      <td>14.000000</td>\n",
       "      <td>6.790000e+06</td>\n",
       "      <td>69.700000</td>\n",
       "      <td>3.000000</td>\n",
       "      <td>2.800000</td>\n",
       "      <td>16.000000</td>\n",
       "      <td>42.300000</td>\n",
       "      <td>8.000000</td>\n",
       "      <td>12.000000</td>\n",
       "      <td>1.000000</td>\n",
       "      <td>37273.000000</td>\n",
       "      <td>16285.000000</td>\n",
       "      <td>1.000000</td>\n",
       "      <td>612.000000</td>\n",
       "      <td>1.000000</td>\n",
       "      <td>730.000000</td>\n",
       "      <td>231.000000</td>\n",
       "    </tr>\n",
       "    <tr>\n",
       "      <th>max</th>\n",
       "      <td>50.000000</td>\n",
       "      <td>7.630000e+08</td>\n",
       "      <td>900.000000</td>\n",
       "      <td>19.000000</td>\n",
       "      <td>100.000000</td>\n",
       "      <td>60.000000</td>\n",
       "      <td>409.700000</td>\n",
       "      <td>33.000000</td>\n",
       "      <td>112.000000</td>\n",
       "      <td>5.000000</td>\n",
       "      <td>84869.000000</td>\n",
       "      <td>65968.000000</td>\n",
       "      <td>3.000000</td>\n",
       "      <td>3190.000000</td>\n",
       "      <td>3.000000</td>\n",
       "      <td>1344.000000</td>\n",
       "      <td>1580.000000</td>\n",
       "    </tr>\n",
       "  </tbody>\n",
       "</table>\n",
       "</div>"
      ],
      "text/plain": [
       "       total_images    last_price    total_area         rooms  ceiling_height  \\\n",
       "count  23565.000000  2.356500e+04  23565.000000  23565.000000    14481.000000   \n",
       "mean       9.878421  6.540058e+06     60.322824      2.070656        2.771283   \n",
       "std        5.681156  1.091093e+07     35.657060      1.078591        1.261983   \n",
       "min        0.000000  1.219000e+04     12.000000      0.000000        1.000000   \n",
       "25%        6.000000  3.400000e+06     40.000000      1.000000        2.510000   \n",
       "50%        9.000000  4.646000e+06     52.000000      2.000000        2.650000   \n",
       "75%       14.000000  6.790000e+06     69.700000      3.000000        2.800000   \n",
       "max       50.000000  7.630000e+08    900.000000     19.000000      100.000000   \n",
       "\n",
       "       floors_total   living_area         floor  kitchen_area       balcony  \\\n",
       "count  23565.000000  21700.000000  23565.000000  21343.000000  23565.000000   \n",
       "mean      10.675875     34.454822      5.878124     10.560994      0.593677   \n",
       "std        6.594823     22.045359      4.871485      5.900630      0.960660   \n",
       "min        1.000000      2.000000      1.000000      1.300000      0.000000   \n",
       "25%        5.000000     18.600000      2.000000      7.000000      0.000000   \n",
       "50%        9.000000     30.000000      4.000000      9.100000      0.000000   \n",
       "75%       16.000000     42.300000      8.000000     12.000000      1.000000   \n",
       "max       60.000000    409.700000     33.000000    112.000000      5.000000   \n",
       "\n",
       "       airports_nearest  city_centers_nearest  parks_around_3000  \\\n",
       "count      18041.000000          18064.000000       18065.000000   \n",
       "mean       28797.082701          14192.656056           0.611569   \n",
       "std        12632.499735           8613.348153           0.802088   \n",
       "min            0.000000            181.000000           0.000000   \n",
       "25%        18565.000000           9238.000000           0.000000   \n",
       "50%        26757.000000          13096.500000           0.000000   \n",
       "75%        37273.000000          16285.000000           1.000000   \n",
       "max        84869.000000          65968.000000           3.000000   \n",
       "\n",
       "       parks_nearest  ponds_around_3000  ponds_nearest  days_exposition  \n",
       "count    8030.000000       18065.000000    9036.000000     20394.000000  \n",
       "mean      490.580448           0.769499     518.289509       180.741395  \n",
       "std       341.572956           0.938669     278.009558       219.732782  \n",
       "min         1.000000           0.000000      13.000000         1.000000  \n",
       "25%       288.000000           0.000000     293.000000        45.000000  \n",
       "50%       455.000000           1.000000     503.000000        95.000000  \n",
       "75%       612.000000           1.000000     730.000000       231.000000  \n",
       "max      3190.000000           3.000000    1344.000000      1580.000000  "
      ]
     },
     "execution_count": 15,
     "metadata": {},
     "output_type": "execute_result"
    }
   ],
   "source": [
    "data.describe() # описание таблицы"
   ]
  },
  {
   "cell_type": "markdown",
   "metadata": {},
   "source": [
    "В данных столбца `last_price` минимальное значение стоимости 12 190, что маловероятно. Необходимо ознакомится с данными, возможно, это выброс."
   ]
  },
  {
   "cell_type": "code",
   "execution_count": 16,
   "metadata": {},
   "outputs": [
    {
     "data": {
      "image/png": "[encoded data removed]",
      "text/plain": [
       "<Figure size 432x288 with 1 Axes>"
      ]
     },
     "metadata": {
      "needs_background": "light"
     },
     "output_type": "display_data"
    },
    {
     "data": {
      "image/png": "[encoded data removed]",
      "text/plain": [
       "<Figure size 432x288 with 1 Axes>"
      ]
     },
     "metadata": {
      "needs_background": "light"
     },
     "output_type": "display_data"
    },
    {
     "data": {
      "image/png": "[encoded data removed]",
      "text/plain": [
       "<Figure size 432x288 with 1 Axes>"
      ]
     },
     "metadata": {
      "needs_background": "light"
     },
     "output_type": "display_data"
    }
   ],
   "source": [
    "data['last_price'].plot(kind='hist', bins=100, title='Стоимость объектов')\n",
    "plt.show()\n",
    "data['last_price'].plot(kind='hist', bins=100, title='Стоимость объектов до 50 млн рублей', range=(0,50000000))\n",
    "plt.show()\n",
    "data['last_price'].plot(kind='hist', bins=100, title='Стоимость объектов до 1 млн рублей', range=(0,1000000))\n",
    "plt.show()"
   ]
  },
  {
   "cell_type": "code",
   "execution_count": 17,
   "metadata": {},
   "outputs": [
    {
     "data": {
      "text/plain": [
       "1"
      ]
     },
     "execution_count": 17,
     "metadata": {},
     "output_type": "execute_result"
    }
   ],
   "source": [
    "data.loc[data['last_price'] < 400000,'last_price'].count() # одну строку удалим из таблицы со значением стоимости меньше 400000, это аномальное значение"
   ]
  },
  {
   "cell_type": "code",
   "execution_count": 18,
   "metadata": {},
   "outputs": [],
   "source": [
    "data = data.loc[data['last_price'] > 400000]"
   ]
  },
  {
   "cell_type": "markdown",
   "metadata": {},
   "source": [
    "Рассмотрим значения столбца `total_area`."
   ]
  },
  {
   "cell_type": "code",
   "execution_count": 19,
   "metadata": {
    "scrolled": true
   },
   "outputs": [
    {
     "data": {
      "image/png": "[encoded data removed]",
      "text/plain": [
       "<Figure size 432x288 with 1 Axes>"
      ]
     },
     "metadata": {
      "needs_background": "light"
     },
     "output_type": "display_data"
    },
    {
     "data": {
      "image/png": "[encoded data removed]",
      "text/plain": [
       "<Figure size 432x288 with 1 Axes>"
      ]
     },
     "metadata": {
      "needs_background": "light"
     },
     "output_type": "display_data"
    },
    {
     "data": {
      "text/plain": [
       "23"
      ]
     },
     "execution_count": 19,
     "metadata": {},
     "output_type": "execute_result"
    }
   ],
   "source": [
    "data['total_area'].hist(bins=100)\n",
    "plt.show()\n",
    "data['total_area'].hist(bins=100, range=(400,900))\n",
    "plt.show()\n",
    "data.loc[data['total_area'] > 400,'total_area'].count() # 23 квартиры с площадью больше 400 квадратных метров, \n",
    "# возможно была ошибка и нужно разделить на 10, возможно это выбросы, которые удалим, \n",
    "# поскольку у нас максимально 19 комнат, а комната, в среднем, по 17 квадратных метров."
   ]
  },
  {
   "cell_type": "code",
   "execution_count": 20,
   "metadata": {},
   "outputs": [
    {
     "name": "stdout",
     "output_type": "stream",
     "text": [
      "<class 'pandas.core.frame.DataFrame'>\n",
      "RangeIndex: 23538 entries, 0 to 23537\n",
      "Data columns (total 22 columns):\n",
      " #   Column                Non-Null Count  Dtype         \n",
      "---  ------                --------------  -----         \n",
      " 0   total_images          23538 non-null  int64         \n",
      " 1   last_price            23538 non-null  int64         \n",
      " 2   total_area            23538 non-null  float64       \n",
      " 3   first_day_exposition  23538 non-null  datetime64[ns]\n",
      " 4   rooms                 23538 non-null  int64         \n",
      " 5   ceiling_height        14462 non-null  float64       \n",
      " 6   floors_total          23538 non-null  int64         \n",
      " 7   living_area           21680 non-null  float64       \n",
      " 8   floor                 23538 non-null  int64         \n",
      " 9   is_apartment          23538 non-null  bool          \n",
      " 10  studio                23538 non-null  bool          \n",
      " 11  open_plan             23538 non-null  bool          \n",
      " 12  kitchen_area          21321 non-null  float64       \n",
      " 13  balcony               23538 non-null  int64         \n",
      " 14  locality_name         23538 non-null  object        \n",
      " 15  airports_nearest      18017 non-null  float64       \n",
      " 16  city_centers_nearest  18038 non-null  float64       \n",
      " 17  parks_around_3000     18039 non-null  float64       \n",
      " 18  parks_nearest         8013 non-null   float64       \n",
      " 19  ponds_around_3000     18039 non-null  float64       \n",
      " 20  ponds_nearest         9021 non-null   float64       \n",
      " 21  days_exposition       20374 non-null  float64       \n",
      "dtypes: bool(3), datetime64[ns](1), float64(11), int64(6), object(1)\n",
      "memory usage: 3.5+ MB\n"
     ]
    }
   ],
   "source": [
    "data = data.loc[data['total_area'] < 400].reset_index(drop=True)\n",
    "data.info()"
   ]
  },
  {
   "cell_type": "markdown",
   "metadata": {},
   "source": [
    "Рассмотрим значения столбца `ceiling_height`."
   ]
  },
  {
   "cell_type": "code",
   "execution_count": 21,
   "metadata": {},
   "outputs": [
    {
     "data": {
      "image/png": "[encoded data removed]",
      "text/plain": [
       "<Figure size 432x288 with 1 Axes>"
      ]
     },
     "metadata": {
      "needs_background": "light"
     },
     "output_type": "display_data"
    },
    {
     "data": {
      "image/png": "[encoded data removed]",
      "text/plain": [
       "<Figure size 432x288 with 1 Axes>"
      ]
     },
     "metadata": {
      "needs_background": "light"
     },
     "output_type": "display_data"
    },
    {
     "data": {
      "image/png": "[encoded data removed]",
      "text/plain": [
       "<Figure size 432x288 with 1 Axes>"
      ]
     },
     "metadata": {
      "needs_background": "light"
     },
     "output_type": "display_data"
    },
    {
     "data": {
      "image/png": "[encoded data removed]",
      "text/plain": [
       "<Figure size 432x288 with 1 Axes>"
      ]
     },
     "metadata": {
      "needs_background": "light"
     },
     "output_type": "display_data"
    }
   ],
   "source": [
    "data['ceiling_height'].hist(bins=100)\n",
    "plt.show()\n",
    "data['ceiling_height'].hist(bins=100, range=(10,50))\n",
    "plt.show()\n",
    "data['ceiling_height'].hist(bins=100, range=(50,100))\n",
    "plt.show()\n",
    "data['ceiling_height'].hist(bins=100, range=(0,5))\n",
    "plt.show()"
   ]
  },
  {
   "cell_type": "markdown",
   "metadata": {},
   "source": [
    "Потолок с высотой 100 метров и меньше 2 метров необходимо удалить, это выброс. Потолки с высотой от 10 до 20 метров тоже необходимо удалить, маловерояны такие значения. Потолки от 20 до 36 метров могут быть случайно домножены на 10, можно разделить значения и оставить данные строки. "
   ]
  },
  {
   "cell_type": "code",
   "execution_count": 22,
   "metadata": {},
   "outputs": [
    {
     "name": "stdout",
     "output_type": "stream",
     "text": [
      "<class 'pandas.core.frame.DataFrame'>\n",
      "RangeIndex: 23520 entries, 0 to 23519\n",
      "Data columns (total 22 columns):\n",
      " #   Column                Non-Null Count  Dtype         \n",
      "---  ------                --------------  -----         \n",
      " 0   total_images          23520 non-null  int64         \n",
      " 1   last_price            23520 non-null  int64         \n",
      " 2   total_area            23520 non-null  float64       \n",
      " 3   first_day_exposition  23520 non-null  datetime64[ns]\n",
      " 4   rooms                 23520 non-null  int64         \n",
      " 5   ceiling_height        14444 non-null  float64       \n",
      " 6   floors_total          23520 non-null  int64         \n",
      " 7   living_area           21664 non-null  float64       \n",
      " 8   floor                 23520 non-null  int64         \n",
      " 9   is_apartment          23520 non-null  bool          \n",
      " 10  studio                23520 non-null  bool          \n",
      " 11  open_plan             23520 non-null  bool          \n",
      " 12  kitchen_area          21306 non-null  float64       \n",
      " 13  balcony               23520 non-null  int64         \n",
      " 14  locality_name         23520 non-null  object        \n",
      " 15  airports_nearest      18008 non-null  float64       \n",
      " 16  city_centers_nearest  18029 non-null  float64       \n",
      " 17  parks_around_3000     18030 non-null  float64       \n",
      " 18  parks_nearest         8007 non-null   float64       \n",
      " 19  ponds_around_3000     18030 non-null  float64       \n",
      " 20  ponds_nearest         9015 non-null   float64       \n",
      " 21  days_exposition       20360 non-null  float64       \n",
      "dtypes: bool(3), datetime64[ns](1), float64(11), int64(6), object(1)\n",
      "memory usage: 3.5+ MB\n"
     ]
    }
   ],
   "source": [
    "data = data.query('2 < ceiling_height < 100 | ceiling_height.isnull()').reset_index(drop=True)\n",
    "data.loc[data['ceiling_height'] > 20, 'ceiling_height'] = data.loc[data['ceiling_height'] > 20, 'ceiling_height']/10\n",
    "data = data.query('ceiling_height < 10 | ceiling_height.isnull()').reset_index(drop=True)\n",
    "data.info()"
   ]
  },
  {
   "cell_type": "markdown",
   "metadata": {},
   "source": [
    "Рассмотрим значения столбца `living_area`."
   ]
  },
  {
   "cell_type": "code",
   "execution_count": 23,
   "metadata": {},
   "outputs": [
    {
     "data": {
      "image/png": "[encoded data removed]",
      "text/plain": [
       "<Figure size 432x288 with 1 Axes>"
      ]
     },
     "metadata": {
      "needs_background": "light"
     },
     "output_type": "display_data"
    },
    {
     "data": {
      "image/png": "[encoded data removed]",
      "text/plain": [
       "<Figure size 432x288 with 1 Axes>"
      ]
     },
     "metadata": {
      "needs_background": "light"
     },
     "output_type": "display_data"
    }
   ],
   "source": [
    "data['living_area'].hist(bins=100)\n",
    "plt.show()\n",
    "data['living_area'].hist(bins=100, range=(0,20))\n",
    "plt.show()"
   ]
  },
  {
   "cell_type": "code",
   "execution_count": 24,
   "metadata": {},
   "outputs": [
    {
     "name": "stdout",
     "output_type": "stream",
     "text": [
      "<class 'pandas.core.frame.DataFrame'>\n",
      "RangeIndex: 23464 entries, 0 to 23463\n",
      "Data columns (total 22 columns):\n",
      " #   Column                Non-Null Count  Dtype         \n",
      "---  ------                --------------  -----         \n",
      " 0   total_images          23464 non-null  int64         \n",
      " 1   last_price            23464 non-null  int64         \n",
      " 2   total_area            23464 non-null  float64       \n",
      " 3   first_day_exposition  23464 non-null  datetime64[ns]\n",
      " 4   rooms                 23464 non-null  int64         \n",
      " 5   ceiling_height        14410 non-null  float64       \n",
      " 6   floors_total          23464 non-null  int64         \n",
      " 7   living_area           21608 non-null  float64       \n",
      " 8   floor                 23464 non-null  int64         \n",
      " 9   is_apartment          23464 non-null  bool          \n",
      " 10  studio                23464 non-null  bool          \n",
      " 11  open_plan             23464 non-null  bool          \n",
      " 12  kitchen_area          21264 non-null  float64       \n",
      " 13  balcony               23464 non-null  int64         \n",
      " 14  locality_name         23464 non-null  object        \n",
      " 15  airports_nearest      17963 non-null  float64       \n",
      " 16  city_centers_nearest  17984 non-null  float64       \n",
      " 17  parks_around_3000     17985 non-null  float64       \n",
      " 18  parks_nearest         7979 non-null   float64       \n",
      " 19  ponds_around_3000     17985 non-null  float64       \n",
      " 20  ponds_nearest         8986 non-null   float64       \n",
      " 21  days_exposition       20310 non-null  float64       \n",
      "dtypes: bool(3), datetime64[ns](1), float64(11), int64(6), object(1)\n",
      "memory usage: 3.5+ MB\n"
     ]
    }
   ],
   "source": [
    "data = data.query('living_area > 10 | living_area.isnull()').reset_index(drop=True)# уберем квартиры меньше 10 квадратных метров жилой площади, это выброс\n",
    "data.info()"
   ]
  },
  {
   "cell_type": "markdown",
   "metadata": {},
   "source": [
    "Рассмотрим значения столбца `kitchen_area`."
   ]
  },
  {
   "cell_type": "code",
   "execution_count": 25,
   "metadata": {},
   "outputs": [
    {
     "data": {
      "image/png": "[encoded data removed]",
      "text/plain": [
       "<Figure size 432x288 with 1 Axes>"
      ]
     },
     "metadata": {
      "needs_background": "light"
     },
     "output_type": "display_data"
    },
    {
     "data": {
      "image/png": "[encoded data removed]",
      "text/plain": [
       "<Figure size 432x288 with 1 Axes>"
      ]
     },
     "metadata": {
      "needs_background": "light"
     },
     "output_type": "display_data"
    }
   ],
   "source": [
    "data.boxplot(column='kitchen_area')\n",
    "plt.ylim(0, 25)\n",
    "plt.show()\n",
    "data['kitchen_area'].hist(bins=100, range=(0,10))\n",
    "plt.show()"
   ]
  },
  {
   "cell_type": "code",
   "execution_count": 26,
   "metadata": {},
   "outputs": [
    {
     "name": "stdout",
     "output_type": "stream",
     "text": [
      "<class 'pandas.core.frame.DataFrame'>\n",
      "RangeIndex: 23436 entries, 0 to 23435\n",
      "Data columns (total 22 columns):\n",
      " #   Column                Non-Null Count  Dtype         \n",
      "---  ------                --------------  -----         \n",
      " 0   total_images          23436 non-null  int64         \n",
      " 1   last_price            23436 non-null  int64         \n",
      " 2   total_area            23436 non-null  float64       \n",
      " 3   first_day_exposition  23436 non-null  datetime64[ns]\n",
      " 4   rooms                 23436 non-null  int64         \n",
      " 5   ceiling_height        14392 non-null  float64       \n",
      " 6   floors_total          23436 non-null  int64         \n",
      " 7   living_area           21580 non-null  float64       \n",
      " 8   floor                 23436 non-null  int64         \n",
      " 9   is_apartment          23436 non-null  bool          \n",
      " 10  studio                23436 non-null  bool          \n",
      " 11  open_plan             23436 non-null  bool          \n",
      " 12  kitchen_area          21236 non-null  float64       \n",
      " 13  balcony               23436 non-null  int64         \n",
      " 14  locality_name         23436 non-null  object        \n",
      " 15  airports_nearest      17940 non-null  float64       \n",
      " 16  city_centers_nearest  17961 non-null  float64       \n",
      " 17  parks_around_3000     17962 non-null  float64       \n",
      " 18  parks_nearest         7974 non-null   float64       \n",
      " 19  ponds_around_3000     17962 non-null  float64       \n",
      " 20  ponds_nearest         8973 non-null   float64       \n",
      " 21  days_exposition       20284 non-null  float64       \n",
      "dtypes: bool(3), datetime64[ns](1), float64(11), int64(6), object(1)\n",
      "memory usage: 3.5+ MB\n",
      "Количество оставшихся строк в датафреме 98.9%\n"
     ]
    }
   ],
   "source": [
    "data = data.query('kitchen_area >= 4 | kitchen_area.isnull()').reset_index(drop=True)# уберем квартиры c кухнями меньше 4, потому что там даже не поместятся раковина, холодильник, плита и стол\n",
    "data.info()\n",
    "data_after_clean = data['total_images'].count()\n",
    "save_data = data_after_clean / data_before_clean\n",
    "print(f'Количество оставшихся строк в датафреме {save_data:.1%}')"
   ]
  },
  {
   "cell_type": "markdown",
   "metadata": {},
   "source": [
    "После обработки аномальных значений были убраны строки с квартирами стоимостью меньше 400000 рублей, площадью более 400 м2, потолками меньше 2 метров и более 10 метров, жилой площадью менее 10 м2, площадью кухни меньше 4 м2."
   ]
  },
  {
   "cell_type": "markdown",
   "metadata": {},
   "source": [
    "Во время предобработки данных были переименованы столбцы, заполнены пропущенные значения, там, где это возможно, удалены строки, где пропущенных значений было не столь много, изменены типы данных, устранены неявные дубликаты в названиях населенных пунктов. Помимо этого, были выявлены аномальные значения в данных и удалены строки с ними. По результатам предобработки в датафрейме осталось 23436 строк из 23699 первоначальных, что составляет около 98,9 %."
   ]
  },
  {
   "cell_type": "markdown",
   "metadata": {},
   "source": [
    "\n",
    "\n",
    "\n",
    "\n",
    "### Посчитайте и добавьте в таблицу новые столбцы"
   ]
  },
  {
   "cell_type": "code",
   "execution_count": 27,
   "metadata": {},
   "outputs": [],
   "source": [
    "data['year_exposition'] = pd.DatetimeIndex(data['first_day_exposition']).year # добавление столбца с годом публикации"
   ]
  },
  {
   "cell_type": "code",
   "execution_count": 28,
   "metadata": {},
   "outputs": [],
   "source": [
    "data['month_exposition'] = pd.DatetimeIndex(data['first_day_exposition']).month # добавление столбца с месяцем публикации"
   ]
  },
  {
   "cell_type": "code",
   "execution_count": 29,
   "metadata": {},
   "outputs": [],
   "source": [
    "data['weekday_exposition'] = data['first_day_exposition'].dt.weekday # добавление столбца с днем публикации"
   ]
  },
  {
   "cell_type": "code",
   "execution_count": 30,
   "metadata": {},
   "outputs": [],
   "source": [
    "data['price_for_1_meter'] = data['last_price'] / data['total_area'] # добавление столбца с ценой квадратного метра\n",
    "data['price_for_1_meter'] = data['price_for_1_meter'].round(1)"
   ]
  },
  {
   "cell_type": "code",
   "execution_count": 31,
   "metadata": {},
   "outputs": [],
   "source": [
    "def type_floor(row):\n",
    "    if row['floor'] == 1:\n",
    "        return 'Первый'\n",
    "    elif row['floor'] == row['floors_total']:\n",
    "        return 'Последний'\n",
    "    else:\n",
    "        return 'Другой'\n",
    "    \n",
    "data['type_floor'] = data.apply(type_floor, axis=1) # добавление столбца с типом этажа"
   ]
  },
  {
   "cell_type": "code",
   "execution_count": 32,
   "metadata": {},
   "outputs": [],
   "source": [
    "data['city_centers_km'] = (data['city_centers_nearest'] / 1000).round(1) # добавление столбца с расстоянием в км до центра города"
   ]
  },
  {
   "cell_type": "code",
   "execution_count": 33,
   "metadata": {},
   "outputs": [
    {
     "data": {
      "text/html": [
       "<div>\n",
       "<style scoped>\n",
       "    .dataframe tbody tr th:only-of-type {\n",
       "        vertical-align: middle;\n",
       "    }\n",
       "\n",
       "    .dataframe tbody tr th {\n",
       "        vertical-align: top;\n",
       "    }\n",
       "\n",
       "    .dataframe thead th {\n",
       "        text-align: right;\n",
       "    }\n",
       "</style>\n",
       "<table border=\"1\" class=\"dataframe\">\n",
       "  <thead>\n",
       "    <tr style=\"text-align: right;\">\n",
       "      <th></th>\n",
       "      <th>total_images</th>\n",
       "      <th>last_price</th>\n",
       "      <th>total_area</th>\n",
       "      <th>rooms</th>\n",
       "      <th>ceiling_height</th>\n",
       "      <th>floors_total</th>\n",
       "      <th>living_area</th>\n",
       "      <th>floor</th>\n",
       "      <th>kitchen_area</th>\n",
       "      <th>balcony</th>\n",
       "      <th>...</th>\n",
       "      <th>parks_around_3000</th>\n",
       "      <th>parks_nearest</th>\n",
       "      <th>ponds_around_3000</th>\n",
       "      <th>ponds_nearest</th>\n",
       "      <th>days_exposition</th>\n",
       "      <th>year_exposition</th>\n",
       "      <th>month_exposition</th>\n",
       "      <th>weekday_exposition</th>\n",
       "      <th>price_for_1_meter</th>\n",
       "      <th>city_centers_km</th>\n",
       "    </tr>\n",
       "  </thead>\n",
       "  <tbody>\n",
       "    <tr>\n",
       "      <th>count</th>\n",
       "      <td>23436.000000</td>\n",
       "      <td>2.343600e+04</td>\n",
       "      <td>23436.000000</td>\n",
       "      <td>23436.000000</td>\n",
       "      <td>14392.000000</td>\n",
       "      <td>23436.000000</td>\n",
       "      <td>21580.000000</td>\n",
       "      <td>23436.000000</td>\n",
       "      <td>21236.000000</td>\n",
       "      <td>23436.000000</td>\n",
       "      <td>...</td>\n",
       "      <td>17962.000000</td>\n",
       "      <td>7974.000000</td>\n",
       "      <td>17962.000000</td>\n",
       "      <td>8973.000000</td>\n",
       "      <td>20284.000000</td>\n",
       "      <td>23436.000000</td>\n",
       "      <td>23436.000000</td>\n",
       "      <td>23436.000000</td>\n",
       "      <td>2.343600e+04</td>\n",
       "      <td>17961.000000</td>\n",
       "    </tr>\n",
       "    <tr>\n",
       "      <th>mean</th>\n",
       "      <td>9.878307</td>\n",
       "      <td>6.392855e+06</td>\n",
       "      <td>59.936273</td>\n",
       "      <td>2.069082</td>\n",
       "      <td>2.727613</td>\n",
       "      <td>10.673835</td>\n",
       "      <td>34.331401</td>\n",
       "      <td>5.872461</td>\n",
       "      <td>10.525213</td>\n",
       "      <td>0.593787</td>\n",
       "      <td>...</td>\n",
       "      <td>0.610901</td>\n",
       "      <td>490.597693</td>\n",
       "      <td>0.768066</td>\n",
       "      <td>518.775326</td>\n",
       "      <td>180.895977</td>\n",
       "      <td>2017.370157</td>\n",
       "      <td>6.402287</td>\n",
       "      <td>2.568100</td>\n",
       "      <td>9.909360e+04</td>\n",
       "      <td>14.206954</td>\n",
       "    </tr>\n",
       "    <tr>\n",
       "      <th>std</th>\n",
       "      <td>5.679570</td>\n",
       "      <td>8.233566e+06</td>\n",
       "      <td>32.421227</td>\n",
       "      <td>1.066133</td>\n",
       "      <td>0.290458</td>\n",
       "      <td>6.587718</td>\n",
       "      <td>20.748832</td>\n",
       "      <td>4.866039</td>\n",
       "      <td>5.736189</td>\n",
       "      <td>0.960248</td>\n",
       "      <td>...</td>\n",
       "      <td>0.802104</td>\n",
       "      <td>341.657526</td>\n",
       "      <td>0.938026</td>\n",
       "      <td>277.647381</td>\n",
       "      <td>219.965700</td>\n",
       "      <td>1.037712</td>\n",
       "      <td>3.493059</td>\n",
       "      <td>1.787617</td>\n",
       "      <td>4.813393e+04</td>\n",
       "      <td>8.615231</td>\n",
       "    </tr>\n",
       "    <tr>\n",
       "      <th>min</th>\n",
       "      <td>0.000000</td>\n",
       "      <td>4.300000e+05</td>\n",
       "      <td>13.000000</td>\n",
       "      <td>0.000000</td>\n",
       "      <td>2.200000</td>\n",
       "      <td>1.000000</td>\n",
       "      <td>10.080000</td>\n",
       "      <td>1.000000</td>\n",
       "      <td>4.000000</td>\n",
       "      <td>0.000000</td>\n",
       "      <td>...</td>\n",
       "      <td>0.000000</td>\n",
       "      <td>1.000000</td>\n",
       "      <td>0.000000</td>\n",
       "      <td>13.000000</td>\n",
       "      <td>1.000000</td>\n",
       "      <td>2014.000000</td>\n",
       "      <td>1.000000</td>\n",
       "      <td>0.000000</td>\n",
       "      <td>7.963000e+03</td>\n",
       "      <td>0.200000</td>\n",
       "    </tr>\n",
       "    <tr>\n",
       "      <th>25%</th>\n",
       "      <td>6.000000</td>\n",
       "      <td>3.420000e+06</td>\n",
       "      <td>40.000000</td>\n",
       "      <td>1.000000</td>\n",
       "      <td>2.510000</td>\n",
       "      <td>5.000000</td>\n",
       "      <td>18.700000</td>\n",
       "      <td>2.000000</td>\n",
       "      <td>7.000000</td>\n",
       "      <td>0.000000</td>\n",
       "      <td>...</td>\n",
       "      <td>0.000000</td>\n",
       "      <td>288.000000</td>\n",
       "      <td>0.000000</td>\n",
       "      <td>294.000000</td>\n",
       "      <td>45.000000</td>\n",
       "      <td>2017.000000</td>\n",
       "      <td>3.000000</td>\n",
       "      <td>1.000000</td>\n",
       "      <td>7.653060e+04</td>\n",
       "      <td>9.300000</td>\n",
       "    </tr>\n",
       "    <tr>\n",
       "      <th>50%</th>\n",
       "      <td>9.000000</td>\n",
       "      <td>4.650000e+06</td>\n",
       "      <td>52.000000</td>\n",
       "      <td>2.000000</td>\n",
       "      <td>2.650000</td>\n",
       "      <td>9.000000</td>\n",
       "      <td>30.000000</td>\n",
       "      <td>4.000000</td>\n",
       "      <td>9.100000</td>\n",
       "      <td>0.000000</td>\n",
       "      <td>...</td>\n",
       "      <td>0.000000</td>\n",
       "      <td>455.000000</td>\n",
       "      <td>0.000000</td>\n",
       "      <td>503.000000</td>\n",
       "      <td>95.000000</td>\n",
       "      <td>2017.000000</td>\n",
       "      <td>6.000000</td>\n",
       "      <td>3.000000</td>\n",
       "      <td>9.492970e+04</td>\n",
       "      <td>13.100000</td>\n",
       "    </tr>\n",
       "    <tr>\n",
       "      <th>75%</th>\n",
       "      <td>14.000000</td>\n",
       "      <td>6.790000e+06</td>\n",
       "      <td>69.700000</td>\n",
       "      <td>3.000000</td>\n",
       "      <td>2.800000</td>\n",
       "      <td>16.000000</td>\n",
       "      <td>42.300000</td>\n",
       "      <td>8.000000</td>\n",
       "      <td>12.000000</td>\n",
       "      <td>1.000000</td>\n",
       "      <td>...</td>\n",
       "      <td>1.000000</td>\n",
       "      <td>612.000000</td>\n",
       "      <td>1.000000</td>\n",
       "      <td>730.000000</td>\n",
       "      <td>231.000000</td>\n",
       "      <td>2018.000000</td>\n",
       "      <td>10.000000</td>\n",
       "      <td>4.000000</td>\n",
       "      <td>1.140351e+05</td>\n",
       "      <td>16.300000</td>\n",
       "    </tr>\n",
       "    <tr>\n",
       "      <th>max</th>\n",
       "      <td>50.000000</td>\n",
       "      <td>3.300000e+08</td>\n",
       "      <td>399.000000</td>\n",
       "      <td>19.000000</td>\n",
       "      <td>8.300000</td>\n",
       "      <td>60.000000</td>\n",
       "      <td>264.500000</td>\n",
       "      <td>33.000000</td>\n",
       "      <td>107.000000</td>\n",
       "      <td>5.000000</td>\n",
       "      <td>...</td>\n",
       "      <td>3.000000</td>\n",
       "      <td>3190.000000</td>\n",
       "      <td>3.000000</td>\n",
       "      <td>1344.000000</td>\n",
       "      <td>1580.000000</td>\n",
       "      <td>2019.000000</td>\n",
       "      <td>12.000000</td>\n",
       "      <td>6.000000</td>\n",
       "      <td>1.736842e+06</td>\n",
       "      <td>66.000000</td>\n",
       "    </tr>\n",
       "  </tbody>\n",
       "</table>\n",
       "<p>8 rows × 22 columns</p>\n",
       "</div>"
      ],
      "text/plain": [
       "       total_images    last_price    total_area         rooms  ceiling_height  \\\n",
       "count  23436.000000  2.343600e+04  23436.000000  23436.000000    14392.000000   \n",
       "mean       9.878307  6.392855e+06     59.936273      2.069082        2.727613   \n",
       "std        5.679570  8.233566e+06     32.421227      1.066133        0.290458   \n",
       "min        0.000000  4.300000e+05     13.000000      0.000000        2.200000   \n",
       "25%        6.000000  3.420000e+06     40.000000      1.000000        2.510000   \n",
       "50%        9.000000  4.650000e+06     52.000000      2.000000        2.650000   \n",
       "75%       14.000000  6.790000e+06     69.700000      3.000000        2.800000   \n",
       "max       50.000000  3.300000e+08    399.000000     19.000000        8.300000   \n",
       "\n",
       "       floors_total   living_area         floor  kitchen_area       balcony  \\\n",
       "count  23436.000000  21580.000000  23436.000000  21236.000000  23436.000000   \n",
       "mean      10.673835     34.331401      5.872461     10.525213      0.593787   \n",
       "std        6.587718     20.748832      4.866039      5.736189      0.960248   \n",
       "min        1.000000     10.080000      1.000000      4.000000      0.000000   \n",
       "25%        5.000000     18.700000      2.000000      7.000000      0.000000   \n",
       "50%        9.000000     30.000000      4.000000      9.100000      0.000000   \n",
       "75%       16.000000     42.300000      8.000000     12.000000      1.000000   \n",
       "max       60.000000    264.500000     33.000000    107.000000      5.000000   \n",
       "\n",
       "       ...  parks_around_3000  parks_nearest  ponds_around_3000  \\\n",
       "count  ...       17962.000000    7974.000000       17962.000000   \n",
       "mean   ...           0.610901     490.597693           0.768066   \n",
       "std    ...           0.802104     341.657526           0.938026   \n",
       "min    ...           0.000000       1.000000           0.000000   \n",
       "25%    ...           0.000000     288.000000           0.000000   \n",
       "50%    ...           0.000000     455.000000           0.000000   \n",
       "75%    ...           1.000000     612.000000           1.000000   \n",
       "max    ...           3.000000    3190.000000           3.000000   \n",
       "\n",
       "       ponds_nearest  days_exposition  year_exposition  month_exposition  \\\n",
       "count    8973.000000     20284.000000     23436.000000      23436.000000   \n",
       "mean      518.775326       180.895977      2017.370157          6.402287   \n",
       "std       277.647381       219.965700         1.037712          3.493059   \n",
       "min        13.000000         1.000000      2014.000000          1.000000   \n",
       "25%       294.000000        45.000000      2017.000000          3.000000   \n",
       "50%       503.000000        95.000000      2017.000000          6.000000   \n",
       "75%       730.000000       231.000000      2018.000000         10.000000   \n",
       "max      1344.000000      1580.000000      2019.000000         12.000000   \n",
       "\n",
       "       weekday_exposition  price_for_1_meter  city_centers_km  \n",
       "count        23436.000000       2.343600e+04     17961.000000  \n",
       "mean             2.568100       9.909360e+04        14.206954  \n",
       "std              1.787617       4.813393e+04         8.615231  \n",
       "min              0.000000       7.963000e+03         0.200000  \n",
       "25%              1.000000       7.653060e+04         9.300000  \n",
       "50%              3.000000       9.492970e+04        13.100000  \n",
       "75%              4.000000       1.140351e+05        16.300000  \n",
       "max              6.000000       1.736842e+06        66.000000  \n",
       "\n",
       "[8 rows x 22 columns]"
      ]
     },
     "execution_count": 33,
     "metadata": {},
     "output_type": "execute_result"
    }
   ],
   "source": [
    "data.describe()"
   ]
  },
  {
   "cell_type": "markdown",
   "metadata": {},
   "source": [
    "### Проведите исследовательский анализ данных"
   ]
  },
  {
   "cell_type": "markdown",
   "metadata": {},
   "source": [
    "Изучение, описание параметров, построение гистограмм:\n",
    "  - общая площадь;\n",
    "  - жилая площадь;\n",
    "  - площадь кухни;\n",
    "  - цена объекта;\n",
    "  - количество комнат;\n",
    "  - высота потолков;\n",
    "  - этаж квартиры;\n",
    "  - тип этажа квартиры («первый», «последний», «другой»);\n",
    "  - общее количество этажей в доме;\n",
    "  - расстояние до центра города в метрах;\n",
    "  - расстояние до ближайшего аэропорта;\n",
    "  - расстояние до ближайшего парка;\n",
    "  - день и месяц публикации объявления"
   ]
  },
  {
   "cell_type": "code",
   "execution_count": 34,
   "metadata": {},
   "outputs": [
    {
     "data": {
      "image/png": "[encoded data removed]",
      "text/plain": [
       "<Figure size 432x288 with 1 Axes>"
      ]
     },
     "metadata": {
      "needs_background": "light"
     },
     "output_type": "display_data"
    },
    {
     "data": {
      "image/png": "[encoded data removed]",
      "text/plain": [
       "<Figure size 432x288 with 1 Axes>"
      ]
     },
     "metadata": {
      "needs_background": "light"
     },
     "output_type": "display_data"
    },
    {
     "data": {
      "image/png": "[encoded data removed]",
      "text/plain": [
       "<Figure size 432x288 with 1 Axes>"
      ]
     },
     "metadata": {
      "needs_background": "light"
     },
     "output_type": "display_data"
    },
    {
     "data": {
      "image/png": "[encoded data removed]",
      "text/plain": [
       "<Figure size 432x288 with 1 Axes>"
      ]
     },
     "metadata": {
      "needs_background": "light"
     },
     "output_type": "display_data"
    },
    {
     "data": {
      "image/png": "[encoded data removed]",
      "text/plain": [
       "<Figure size 432x288 with 1 Axes>"
      ]
     },
     "metadata": {
      "needs_background": "light"
     },
     "output_type": "display_data"
    },
    {
     "data": {
      "image/png": "[encoded data removed]",
      "text/plain": [
       "<Figure size 432x288 with 1 Axes>"
      ]
     },
     "metadata": {
      "needs_background": "light"
     },
     "output_type": "display_data"
    },
    {
     "data": {
      "image/png": "[encoded data removed]",
      "text/plain": [
       "<Figure size 432x288 with 1 Axes>"
      ]
     },
     "metadata": {
      "needs_background": "light"
     },
     "output_type": "display_data"
    },
    {
     "data": {
      "image/png": "[encoded data removed]",
      "text/plain": [
       "<Figure size 432x288 with 1 Axes>"
      ]
     },
     "metadata": {
      "needs_background": "light"
     },
     "output_type": "display_data"
    },
    {
     "data": {
      "image/png": "[encoded data removed]",
      "text/plain": [
       "<Figure size 432x288 with 1 Axes>"
      ]
     },
     "metadata": {
      "needs_background": "light"
     },
     "output_type": "display_data"
    },
    {
     "data": {
      "image/png": "[encoded data removed]",
      "text/plain": [
       "<Figure size 432x288 with 1 Axes>"
      ]
     },
     "metadata": {
      "needs_background": "light"
     },
     "output_type": "display_data"
    },
    {
     "data": {
      "image/png": "[encoded data removed]",
      "text/plain": [
       "<Figure size 432x288 with 1 Axes>"
      ]
     },
     "metadata": {
      "needs_background": "light"
     },
     "output_type": "display_data"
    },
    {
     "data": {
      "image/png": "[encoded data removed]",
      "text/plain": [
       "<Figure size 432x288 with 1 Axes>"
      ]
     },
     "metadata": {
      "needs_background": "light"
     },
     "output_type": "display_data"
    },
    {
     "data": {
      "image/png": "[encoded data removed]",
      "text/plain": [
       "<Figure size 432x288 with 1 Axes>"
      ]
     },
     "metadata": {
      "needs_background": "light"
     },
     "output_type": "display_data"
    },
    {
     "data": {
      "image/png": "[encoded data removed]",
      "text/plain": [
       "<Figure size 432x288 with 1 Axes>"
      ]
     },
     "metadata": {
      "needs_background": "light"
     },
     "output_type": "display_data"
    },
    {
     "data": {
      "image/png": "[encoded data removed]",
      "text/plain": [
       "<Figure size 432x288 with 1 Axes>"
      ]
     },
     "metadata": {
      "needs_background": "light"
     },
     "output_type": "display_data"
    },
    {
     "data": {
      "image/png": "[encoded data removed]",
      "text/plain": [
       "<Figure size 432x288 with 1 Axes>"
      ]
     },
     "metadata": {
      "needs_background": "light"
     },
     "output_type": "display_data"
    },
    {
     "data": {
      "image/png": "[encoded data removed]",
      "text/plain": [
       "<Figure size 432x288 with 1 Axes>"
      ]
     },
     "metadata": {
      "needs_background": "light"
     },
     "output_type": "display_data"
    },
    {
     "data": {
      "image/png": "[encoded data removed]",
      "text/plain": [
       "<Figure size 432x288 with 1 Axes>"
      ]
     },
     "metadata": {
      "needs_background": "light"
     },
     "output_type": "display_data"
    },
    {
     "data": {
      "image/png": "[encoded data removed]",
      "text/plain": [
       "<Figure size 432x288 with 1 Axes>"
      ]
     },
     "metadata": {
      "needs_background": "light"
     },
     "output_type": "display_data"
    },
    {
     "data": {
      "image/png": "[encoded data removed]",
      "text/plain": [
       "<Figure size 432x288 with 1 Axes>"
      ]
     },
     "metadata": {
      "needs_background": "light"
     },
     "output_type": "display_data"
    },
    {
     "data": {
      "image/png": "[encoded data removed]",
      "text/plain": [
       "<Figure size 432x288 with 1 Axes>"
      ]
     },
     "metadata": {
      "needs_background": "light"
     },
     "output_type": "display_data"
    },
    {
     "data": {
      "image/png": "[encoded data removed]",
      "text/plain": [
       "<Figure size 432x288 with 1 Axes>"
      ]
     },
     "metadata": {
      "needs_background": "light"
     },
     "output_type": "display_data"
    },
    {
     "data": {
      "image/png": "[encoded data removed]",
      "text/plain": [
       "<Figure size 432x288 with 1 Axes>"
      ]
     },
     "metadata": {
      "needs_background": "light"
     },
     "output_type": "display_data"
    },
    {
     "data": {
      "image/png": "[encoded data removed]",
      "text/plain": [
       "<Figure size 432x288 with 1 Axes>"
      ]
     },
     "metadata": {
      "needs_background": "light"
     },
     "output_type": "display_data"
    },
    {
     "data": {
      "image/png": "[encoded data removed]",
      "text/plain": [
       "<Figure size 432x288 with 1 Axes>"
      ]
     },
     "metadata": {
      "needs_background": "light"
     },
     "output_type": "display_data"
    }
   ],
   "source": [
    "data['total_area'].plot(kind='hist', bins=100, title='Общая площадь')\n",
    "plt.show()\n",
    "data['total_area'].plot(kind='hist', bins=100, range=(0, 150), title='Общая площадь от 0 до 150 кв. м.')\n",
    "plt.show()\n",
    "\n",
    "data['living_area'].plot(kind='hist', bins=100, title='Жилая площадь')\n",
    "plt.show()\n",
    "data['living_area'].plot(kind='hist', bins=100, range=(0, 100), title='Жилая площадь от 0 до 100 кв. м.')\n",
    "plt.show()\n",
    "\n",
    "data['kitchen_area'].plot(kind='hist', bins=100, title='Площадь кухни')\n",
    "plt.show()\n",
    "data['kitchen_area'].plot(kind='hist', bins=100, range=(0, 40),title='Площадь кухни от 0 до 40 кв. м.')\n",
    "plt.show()\n",
    "\n",
    "data['last_price'].plot(kind='hist', bins=100, title='Цена объекта')\n",
    "plt.show()\n",
    "data['last_price'].plot(kind='hist', bins=100, range=(0, 20000000), title='Цена объекта до 20 млн. руб.')\n",
    "plt.show()\n",
    "\n",
    "data['rooms'].plot(kind='hist', bins=100, title='Количество комнат')\n",
    "plt.show()\n",
    "data['rooms'].plot(kind='hist', bins=100, range=(0, 6), title='Количество комнат до 6')\n",
    "plt.show()\n",
    "\n",
    "data['ceiling_height'].plot(kind='hist', bins=100, title='Высота потолков')\n",
    "plt.show()\n",
    "data['ceiling_height'].plot(kind='hist', bins=100, range=(2, 4), title='Высота потолков от 2 до 4 м')\n",
    "plt.show()\n",
    "\n",
    "data['floor'].plot(kind='hist', bins=100, title='Этаж квартиры')\n",
    "plt.show()\n",
    "data['floor'].plot(kind='hist', bins=100, range=(1, 20), title='Этаж квартиры до 20')\n",
    "plt.show()\n",
    "\n",
    "data['type_floor'].value_counts().plot(kind='bar', title='Тип этажа квартиры')\n",
    "plt.show()\n",
    "\n",
    "data['floors_total'].plot(kind='hist', bins=100, title='Общее количество этажей в доме')\n",
    "plt.show()\n",
    "data['floors_total'].plot(kind='hist', bins=100, range=(1, 30), title='Количество этажей до 30')\n",
    "plt.show()\n",
    "\n",
    "data['city_centers_nearest'].plot(kind='hist', bins=100, title='Расстояние до центра города в метрах')\n",
    "plt.show()\n",
    "data['city_centers_nearest'].plot(kind='hist', bins=100, range=(1, 20000), title='Расстояние до центра города до 20 км')\n",
    "plt.show()\n",
    "\n",
    "data['airports_nearest'].plot(kind='hist', bins=100, title='Расстояние до ближайшего аэропорта')\n",
    "plt.show()\n",
    "data['airports_nearest'].plot(kind='hist', bins=100, range=(5000, 60000), title='Расстояние до ближайшего аэропорта от 5 до 60 км')\n",
    "plt.show()\n",
    "\n",
    "data['parks_nearest'].plot(kind='hist', bins=100, title='Расстояние до ближайшего парка')\n",
    "plt.show()\n",
    "data['parks_nearest'].plot(kind='hist', bins=100, range=(0, 1000), title='Расстояние до ближайшего парка до 1 км')\n",
    "plt.show()\n",
    "\n",
    "data['weekday_exposition'].plot(kind='hist', bins=7, title='День публикации')\n",
    "plt.show()\n",
    "\n",
    "data['month_exposition'].plot(kind='hist', bins=12, title='Месяц публикации')\n",
    "plt.show()"
   ]
  },
  {
   "cell_type": "markdown",
   "metadata": {},
   "source": [
    "**Вывод:**\n",
    "\n",
    "- общая площадь: наиболее популярная продаваемая площадь от 30 до 70 кв. м.\n",
    "- жилая площадь: имеет два пика – на 15 и 30 кв. м. Вероятно, могут продаваться в основном 2 типа объектов: «сталинки» и «хрущевки».\n",
    "- площадь кухни: кухни меньше 5 и больше 15 кв. м. встречаются крайне редко.\n",
    "- цена объекта: большинство объектов стоит от 2,5 до 7,5 млн. рублей.\n",
    "- количество комнат: большинство объектов продается с 1-3 комнатами.\n",
    "- высота потолков: стандартная высота потолков от 2,5 до 3 м, остальные значения индивидуальные случаи.\n",
    "- этаж квартиры: большинство квартир продается с 1 по 5 этаж, вероятно, советская застройка.\n",
    "- тип этажа квартиры («первый», «последний», «другой»): наиболее популярная категория «другой», т.е. ни первый и ни последний этажи.\n",
    "- общее количество этажей в доме: больше всего пятиэтажек, что подтверждает гипотезу о советской застройке. На втором месте идут девятиэтажки.\n",
    "- расстояние до центра города в метрах: наиболее встречающееся расстояние 11-16 тыс. м. Вероятно, спальные районы за и около КАД. Также есть пик в районе 4,5 км.\n",
    "- расстояние до ближайшего аэропорта: большинство объектов находится на расстоянии от 10 до 40 тыс. метров от аэропорта.\n",
    "- расстояние до ближайшего парка: большинство объектов находится близко к парковой зоне, на расстоянии не более 800 м.\n",
    "- день и месяц публикации объявления: объявления наиболее интенсивно публикуются в будние дни. Большинство объявлений было выставлено в феврале-апреле и ноябре. Летом, в мае и в декабре наблюдается «затишье».\n"
   ]
  },
  {
   "cell_type": "markdown",
   "metadata": {},
   "source": [
    "**Как быстро продавались квартиры.** "
   ]
  },
  {
   "cell_type": "code",
   "execution_count": 35,
   "metadata": {},
   "outputs": [
    {
     "data": {
      "image/png": "[encoded data removed]",
      "text/plain": [
       "<Figure size 432x288 with 1 Axes>"
      ]
     },
     "metadata": {
      "needs_background": "light"
     },
     "output_type": "display_data"
    },
    {
     "data": {
      "image/png": "[encoded data removed]",
      "text/plain": [
       "<Figure size 432x288 with 1 Axes>"
      ]
     },
     "metadata": {
      "needs_background": "light"
     },
     "output_type": "display_data"
    },
    {
     "data": {
      "image/png": "[encoded data removed]",
      "text/plain": [
       "<Figure size 432x288 with 1 Axes>"
      ]
     },
     "metadata": {
      "needs_background": "light"
     },
     "output_type": "display_data"
    }
   ],
   "source": [
    "data['days_exposition'].plot(kind='hist', bins=100, title='Время продажи объекта')\n",
    "plt.show()\n",
    "data['days_exposition'].plot(kind='hist', bins=100, range=(0, 365), title='Время продажи до года')\n",
    "plt.show()\n",
    "data['days_exposition'].plot(kind='hist', bins=100, range=(0, 100), title='Время продажи до 100 дней')\n",
    "plt.show()"
   ]
  },
  {
   "cell_type": "code",
   "execution_count": 36,
   "metadata": {},
   "outputs": [
    {
     "data": {
      "text/plain": [
       "count    20284.000000\n",
       "mean       180.895977\n",
       "std        219.965700\n",
       "min          1.000000\n",
       "25%         45.000000\n",
       "50%         95.000000\n",
       "75%        231.000000\n",
       "max       1580.000000\n",
       "Name: days_exposition, dtype: float64"
      ]
     },
     "execution_count": 36,
     "metadata": {},
     "output_type": "execute_result"
    }
   ],
   "source": [
    "data['days_exposition'].describe()"
   ]
  },
  {
   "cell_type": "markdown",
   "metadata": {},
   "source": [
    "Всего четверть объектов продается менее, через за полтора месяца (быстрая продажа). Медианное значение составляет чуть более трех месяцев. Среднее арифметическое - практически полгода. Продажа более девяти месяце может считаться долгой. На графике отмечаются вероятные выбросы в районе 5, 30, 45, 60 и 90 дней. Возможно, это объявления, которые выставлялись платно: VIP, Gold, Silver и т.д., которые после истечения срока снимались. "
   ]
  },
  {
   "cell_type": "markdown",
   "metadata": {},
   "source": [
    "**Какие факторы больше всего влияют на полную стоимость объекта.**"
   ]
  },
  {
   "cell_type": "code",
   "execution_count": 37,
   "metadata": {
    "scrolled": true
   },
   "outputs": [
    {
     "data": {
      "text/plain": [
       "0.6879076150510994"
      ]
     },
     "execution_count": 37,
     "metadata": {},
     "output_type": "execute_result"
    },
    {
     "data": {
      "image/png": "[encoded data removed]",
      "text/plain": [
       "<Figure size 432x288 with 1 Axes>"
      ]
     },
     "metadata": {
      "needs_background": "light"
     },
     "output_type": "display_data"
    }
   ],
   "source": [
    "data.plot(x='total_area', y='last_price', kind='scatter', alpha=0.1, title='цена от общей площади') # цена от общей площади\n",
    "data['total_area'].corr(data['last_price'])"
   ]
  },
  {
   "cell_type": "code",
   "execution_count": 38,
   "metadata": {
    "scrolled": true
   },
   "outputs": [
    {
     "data": {
      "text/plain": [
       "0.6054785581282043"
      ]
     },
     "execution_count": 38,
     "metadata": {},
     "output_type": "execute_result"
    },
    {
     "data": {
      "image/png": "[encoded data removed]",
      "text/plain": [
       "<Figure size 432x288 with 1 Axes>"
      ]
     },
     "metadata": {
      "needs_background": "light"
     },
     "output_type": "display_data"
    }
   ],
   "source": [
    "data.plot(x='living_area', y='last_price', kind='scatter', alpha=0.05, title='цена от жилой площади') # цена от жилой площади\n",
    "data['living_area'].corr(data['last_price'])"
   ]
  },
  {
   "cell_type": "code",
   "execution_count": 39,
   "metadata": {
    "scrolled": true
   },
   "outputs": [
    {
     "data": {
      "text/plain": [
       "0.5313695290149104"
      ]
     },
     "execution_count": 39,
     "metadata": {},
     "output_type": "execute_result"
    },
    {
     "data": {
      "image/png": "[encoded data removed]",
      "text/plain": [
       "<Figure size 432x288 with 1 Axes>"
      ]
     },
     "metadata": {
      "needs_background": "light"
     },
     "output_type": "display_data"
    }
   ],
   "source": [
    "data.plot(x='kitchen_area', y='last_price', kind='scatter', alpha=0.1, title='цена от площади кухни') # цена от площади кухни\n",
    "data['kitchen_area'].corr(data['last_price'])"
   ]
  },
  {
   "cell_type": "code",
   "execution_count": 40,
   "metadata": {},
   "outputs": [
    {
     "data": {
      "text/plain": [
       "0.4004491262117353"
      ]
     },
     "execution_count": 40,
     "metadata": {},
     "output_type": "execute_result"
    },
    {
     "data": {
      "image/png": "[encoded data removed]",
      "text/plain": [
       "<Figure size 432x288 with 1 Axes>"
      ]
     },
     "metadata": {
      "needs_background": "light"
     },
     "output_type": "display_data"
    }
   ],
   "source": [
    "data.plot(x='rooms', y='last_price', kind='scatter', alpha=0.1, title='цена от количества комнат') # цена от количества комнат\n",
    "data['rooms'].corr(data['last_price'])"
   ]
  },
  {
   "cell_type": "code",
   "execution_count": 41,
   "metadata": {},
   "outputs": [
    {
     "data": {
      "image/png": "[encoded data removed]",
      "text/plain": [
       "<Figure size 432x288 with 1 Axes>"
      ]
     },
     "metadata": {
      "needs_background": "light"
     },
     "output_type": "display_data"
    }
   ],
   "source": [
    "def type_floor_int(word):\n",
    "    if word == 'Первый':\n",
    "        return 1\n",
    "    if word == 'Последний':\n",
    "        return 2\n",
    "    return 3\n",
    "    \n",
    "data['type_floor_int'] = data['type_floor'].apply(type_floor_int)\n",
    "\n",
    "data.plot(x='type_floor_int', y='last_price', kind='scatter', alpha=0.1, title='цена от типа этажа') # цена от типа этажа\n",
    "plt.show()"
   ]
  },
  {
   "cell_type": "code",
   "execution_count": 42,
   "metadata": {},
   "outputs": [
    {
     "data": {
      "image/png": "[encoded data removed]",
      "text/plain": [
       "<Figure size 432x288 with 1 Axes>"
      ]
     },
     "metadata": {
      "needs_background": "light"
     },
     "output_type": "display_data"
    }
   ],
   "source": [
    "data.plot(x='month_exposition', y='last_price', kind='scatter', alpha=0.1, title='цена от месяца размещения') # цена от месяца размещения\n",
    "plt.show()"
   ]
  },
  {
   "cell_type": "code",
   "execution_count": 43,
   "metadata": {},
   "outputs": [
    {
     "data": {
      "image/png": "[encoded data removed]",
      "text/plain": [
       "<Figure size 432x288 with 1 Axes>"
      ]
     },
     "metadata": {
      "needs_background": "light"
     },
     "output_type": "display_data"
    }
   ],
   "source": [
    "data.plot(x='weekday_exposition', y='last_price', kind='scatter', alpha=0.1, title='цена от дня размещения') # цена от дня размещения\n",
    "plt.show()"
   ]
  },
  {
   "cell_type": "code",
   "execution_count": 44,
   "metadata": {},
   "outputs": [
    {
     "data": {
      "image/png": "[encoded data removed]",
      "text/plain": [
       "<Figure size 432x288 with 1 Axes>"
      ]
     },
     "metadata": {
      "needs_background": "light"
     },
     "output_type": "display_data"
    }
   ],
   "source": [
    "data.plot(x='year_exposition', y='last_price', kind='scatter', alpha=0.1, title='цена от года размещения') # цена от года размещения\n",
    "plt.show()"
   ]
  },
  {
   "cell_type": "markdown",
   "metadata": {},
   "source": [
    "На полную стоимость объекта наибольшее влияние оказывает его площадь. Наибольшая корреляция отмечается между общей площадью и стоимостью, но также заметная корреляция между стоимостью и жилой площадью, а также площадью кухни. В меньшей степени стоимость зависит от количества комнат. От типа этажа, года, месяца, дня размещения объявления стоимоть совершенно не зависит."
   ]
  },
  {
   "cell_type": "markdown",
   "metadata": {},
   "source": [
    "**Cредняя цена одного квадратного метра в 10 населённых пунктах с наибольшим числом объявлений. Населённые пункты с самой высокой и низкой стоимостью квадратного метра.**"
   ]
  },
  {
   "cell_type": "code",
   "execution_count": 45,
   "metadata": {},
   "outputs": [
    {
     "data": {
      "text/html": [
       "<div>\n",
       "<style scoped>\n",
       "    .dataframe tbody tr th:only-of-type {\n",
       "        vertical-align: middle;\n",
       "    }\n",
       "\n",
       "    .dataframe tbody tr th {\n",
       "        vertical-align: top;\n",
       "    }\n",
       "\n",
       "    .dataframe thead th {\n",
       "        text-align: right;\n",
       "    }\n",
       "</style>\n",
       "<table border=\"1\" class=\"dataframe\">\n",
       "  <thead>\n",
       "    <tr style=\"text-align: right;\">\n",
       "      <th></th>\n",
       "      <th>count</th>\n",
       "      <th>mean</th>\n",
       "    </tr>\n",
       "    <tr>\n",
       "      <th>locality_name</th>\n",
       "      <th></th>\n",
       "      <th></th>\n",
       "    </tr>\n",
       "  </thead>\n",
       "  <tbody>\n",
       "    <tr>\n",
       "      <th>санкт-петербург</th>\n",
       "      <td>15554</td>\n",
       "      <td>114444.550167</td>\n",
       "    </tr>\n",
       "    <tr>\n",
       "      <th>поселок мурино</th>\n",
       "      <td>546</td>\n",
       "      <td>85397.633333</td>\n",
       "    </tr>\n",
       "    <tr>\n",
       "      <th>поселок шушары</th>\n",
       "      <td>438</td>\n",
       "      <td>78577.014384</td>\n",
       "    </tr>\n",
       "    <tr>\n",
       "      <th>всеволожск</th>\n",
       "      <td>397</td>\n",
       "      <td>68719.322166</td>\n",
       "    </tr>\n",
       "    <tr>\n",
       "      <th>пушкин</th>\n",
       "      <td>367</td>\n",
       "      <td>103079.259128</td>\n",
       "    </tr>\n",
       "    <tr>\n",
       "      <th>колпино</th>\n",
       "      <td>338</td>\n",
       "      <td>75424.581953</td>\n",
       "    </tr>\n",
       "    <tr>\n",
       "      <th>поселок парголово</th>\n",
       "      <td>327</td>\n",
       "      <td>90175.915291</td>\n",
       "    </tr>\n",
       "    <tr>\n",
       "      <th>гатчина</th>\n",
       "      <td>307</td>\n",
       "      <td>68746.147231</td>\n",
       "    </tr>\n",
       "    <tr>\n",
       "      <th>деревня кудрово</th>\n",
       "      <td>298</td>\n",
       "      <td>92463.897987</td>\n",
       "    </tr>\n",
       "    <tr>\n",
       "      <th>выборг</th>\n",
       "      <td>234</td>\n",
       "      <td>58191.164103</td>\n",
       "    </tr>\n",
       "    <tr>\n",
       "      <th>петергоф</th>\n",
       "      <td>201</td>\n",
       "      <td>84757.558706</td>\n",
       "    </tr>\n",
       "  </tbody>\n",
       "</table>\n",
       "</div>"
      ],
      "text/plain": [
       "                   count           mean\n",
       "locality_name                          \n",
       "санкт-петербург    15554  114444.550167\n",
       "поселок мурино       546   85397.633333\n",
       "поселок шушары       438   78577.014384\n",
       "всеволожск           397   68719.322166\n",
       "пушкин               367  103079.259128\n",
       "колпино              338   75424.581953\n",
       "поселок парголово    327   90175.915291\n",
       "гатчина              307   68746.147231\n",
       "деревня кудрово      298   92463.897987\n",
       "выборг               234   58191.164103\n",
       "петергоф             201   84757.558706"
      ]
     },
     "execution_count": 45,
     "metadata": {},
     "output_type": "execute_result"
    }
   ],
   "source": [
    "data_for_1_meter = data.pivot_table(index='locality_name', values='price_for_1_meter', aggfunc=['count', 'mean'])\n",
    "data_for_1_meter.columns=['count', 'mean']\n",
    "data_for_1_meter.sort_values(by='count', ascending=False).head(11)"
   ]
  },
  {
   "cell_type": "code",
   "execution_count": 46,
   "metadata": {},
   "outputs": [
    {
     "data": {
      "text/plain": [
       "83521.94857419602"
      ]
     },
     "execution_count": 46,
     "metadata": {},
     "output_type": "execute_result"
    }
   ],
   "source": [
    "count_of_10 = 205 # значение больше 11 населенного пункта в таблице и меньше 10 \n",
    "data_for_1_meter_mean = data_for_1_meter.query('count > @count_of_10')\n",
    "data_for_1_meter_mean['mean'].mean()"
   ]
  },
  {
   "cell_type": "code",
   "execution_count": 47,
   "metadata": {
    "scrolled": false
   },
   "outputs": [
    {
     "data": {
      "text/html": [
       "<div>\n",
       "<style scoped>\n",
       "    .dataframe tbody tr th:only-of-type {\n",
       "        vertical-align: middle;\n",
       "    }\n",
       "\n",
       "    .dataframe tbody tr th {\n",
       "        vertical-align: top;\n",
       "    }\n",
       "\n",
       "    .dataframe thead th {\n",
       "        text-align: right;\n",
       "    }\n",
       "</style>\n",
       "<table border=\"1\" class=\"dataframe\">\n",
       "  <thead>\n",
       "    <tr style=\"text-align: right;\">\n",
       "      <th></th>\n",
       "      <th>count</th>\n",
       "      <th>mean</th>\n",
       "    </tr>\n",
       "    <tr>\n",
       "      <th>locality_name</th>\n",
       "      <th></th>\n",
       "      <th></th>\n",
       "    </tr>\n",
       "  </thead>\n",
       "  <tbody>\n",
       "    <tr>\n",
       "      <th>зеленогорск</th>\n",
       "      <td>24</td>\n",
       "      <td>115122.800000</td>\n",
       "    </tr>\n",
       "    <tr>\n",
       "      <th>санкт-петербург</th>\n",
       "      <td>15554</td>\n",
       "      <td>114444.550167</td>\n",
       "    </tr>\n",
       "    <tr>\n",
       "      <th>поселок репино</th>\n",
       "      <td>4</td>\n",
       "      <td>104238.600000</td>\n",
       "    </tr>\n",
       "    <tr>\n",
       "      <th>пушкин</th>\n",
       "      <td>367</td>\n",
       "      <td>103079.259128</td>\n",
       "    </tr>\n",
       "    <tr>\n",
       "      <th>сестрорецк</th>\n",
       "      <td>181</td>\n",
       "      <td>101741.402762</td>\n",
       "    </tr>\n",
       "  </tbody>\n",
       "</table>\n",
       "</div>"
      ],
      "text/plain": [
       "                 count           mean\n",
       "locality_name                        \n",
       "зеленогорск         24  115122.800000\n",
       "санкт-петербург  15554  114444.550167\n",
       "поселок репино       4  104238.600000\n",
       "пушкин             367  103079.259128\n",
       "сестрорецк         181  101741.402762"
      ]
     },
     "execution_count": 47,
     "metadata": {},
     "output_type": "execute_result"
    }
   ],
   "source": [
    "data_for_1_meter.sort_values(by='mean', ascending=False).head()"
   ]
  },
  {
   "cell_type": "code",
   "execution_count": 48,
   "metadata": {
    "scrolled": false
   },
   "outputs": [
    {
     "data": {
      "text/html": [
       "<div>\n",
       "<style scoped>\n",
       "    .dataframe tbody tr th:only-of-type {\n",
       "        vertical-align: middle;\n",
       "    }\n",
       "\n",
       "    .dataframe tbody tr th {\n",
       "        vertical-align: top;\n",
       "    }\n",
       "\n",
       "    .dataframe thead th {\n",
       "        text-align: right;\n",
       "    }\n",
       "</style>\n",
       "<table border=\"1\" class=\"dataframe\">\n",
       "  <thead>\n",
       "    <tr style=\"text-align: right;\">\n",
       "      <th></th>\n",
       "      <th>count</th>\n",
       "      <th>mean</th>\n",
       "    </tr>\n",
       "    <tr>\n",
       "      <th>locality_name</th>\n",
       "      <th></th>\n",
       "      <th></th>\n",
       "    </tr>\n",
       "  </thead>\n",
       "  <tbody>\n",
       "    <tr>\n",
       "      <th>деревня старополье</th>\n",
       "      <td>3</td>\n",
       "      <td>11206.233333</td>\n",
       "    </tr>\n",
       "    <tr>\n",
       "      <th>поселок станции свирь</th>\n",
       "      <td>2</td>\n",
       "      <td>11481.500000</td>\n",
       "    </tr>\n",
       "    <tr>\n",
       "      <th>деревня вахнова кара</th>\n",
       "      <td>1</td>\n",
       "      <td>11688.300000</td>\n",
       "    </tr>\n",
       "    <tr>\n",
       "      <th>деревня выскатка</th>\n",
       "      <td>2</td>\n",
       "      <td>12335.450000</td>\n",
       "    </tr>\n",
       "    <tr>\n",
       "      <th>поселок совхозный</th>\n",
       "      <td>2</td>\n",
       "      <td>12629.150000</td>\n",
       "    </tr>\n",
       "  </tbody>\n",
       "</table>\n",
       "</div>"
      ],
      "text/plain": [
       "                       count          mean\n",
       "locality_name                             \n",
       "деревня старополье         3  11206.233333\n",
       "поселок станции свирь      2  11481.500000\n",
       "деревня вахнова кара       1  11688.300000\n",
       "деревня выскатка           2  12335.450000\n",
       "поселок совхозный          2  12629.150000"
      ]
     },
     "execution_count": 48,
     "metadata": {},
     "output_type": "execute_result"
    }
   ],
   "source": [
    "data_for_1_meter.sort_values(by='mean').head()"
   ]
  },
  {
   "cell_type": "markdown",
   "metadata": {},
   "source": [
    "Средняя цена одного кв. м. в населенных пунктах с наибольшим кол-вом объявлений - около `83500 рублей`. \n",
    "Самая высокая стоимость кв. м. отмечается в населенных пунктах: `Зеленогорск, Санкт-Петербург, поселок Репино, Пушкин, Сестрорецк`.\n",
    "Самая низкая стоимость кв. м. отмечается в населенных пунктах: `деревня Старополье, поселок станции Свирь, деревня Вахнова Кара, деревня Выскатка, поселок Совхозный`."
   ]
  },
  {
   "cell_type": "markdown",
   "metadata": {},
   "source": [
    "**Влияние расстояния от центра Санкт-Петербурга на стоимость объектов.**"
   ]
  },
  {
   "cell_type": "code",
   "execution_count": 49,
   "metadata": {},
   "outputs": [
    {
     "name": "stdout",
     "output_type": "stream",
     "text": [
      "Минимальное расстояние объекта до центра: 0.2 км\n",
      "Максимальное расстояние объекта до центра: 29.5 км\n",
      "Корреляция цены от расстояния до центра в Санкт-Петербурге: -0.31962769262475654\n"
     ]
    }
   ],
   "source": [
    "data_spb = data.query('locality_name == \"санкт-петербург\"')\n",
    "min_distance = data_spb['city_centers_km'].min()\n",
    "max_distance = data_spb['city_centers_km'].max()\n",
    "print(f'Минимальное расстояние объекта до центра: {min_distance} км')\n",
    "print(f'Максимальное расстояние объекта до центра: {max_distance} км')\n",
    "cor = data_spb['city_centers_km'].corr(data_spb['last_price'])\n",
    "print(f'Корреляция цены от расстояния до центра в Санкт-Петербурге: {cor}')"
   ]
  },
  {
   "cell_type": "code",
   "execution_count": 50,
   "metadata": {
    "scrolled": true
   },
   "outputs": [
    {
     "data": {
      "image/png": "[encoded data removed]",
      "text/plain": [
       "<Figure size 2160x720 with 1 Axes>"
      ]
     },
     "metadata": {
      "needs_background": "light"
     },
     "output_type": "display_data"
    }
   ],
   "source": [
    "data_spb.pivot_table(index='city_centers_km', values='last_price').plot(style='o', figsize=(30, 10), title='Зависимость цены от расстояния до центра Санкт-Петербурга')\n",
    "plt.show()"
   ]
  },
  {
   "cell_type": "markdown",
   "metadata": {},
   "source": [
    "Объекты в Санкт-Петербурге находятся на расстояние от центра в диапазоне 0,2-29,5 км. Коэффициент корреляции отрицательный, что означает, чем ближе объект к центру, тем больше его цена. Такой же вывод можно сделать и из графика. Самые дорогие объекты расположены на расстоянии до 7,5 км от центра. Далее цена постепенно снижается."
   ]
  },
  {
   "cell_type": "markdown",
   "metadata": {},
   "source": [
    "### Общий вывод"
   ]
  },
  {
   "cell_type": "markdown",
   "metadata": {},
   "source": [
    "- Большинство продаваемых объектов имеют площадь от 30 до 70 кв. м. с 1-3 комнатами. Также большинство объектов стоит от 2,5 до 7,5 млн. рублей. Соотвественно, если при такой квадратуре и комнатности цена будет нижен 2,5 млн. рублей необходимо пристально изучить объект, возможно, это мошенничество.\n",
    "\n",
    "- Летом обычно выставляют меньше всего объявлений, если нашли \"удачную\" цену, то тогда тщательно отнестись к покупке объекта, поскольку это может быть мошенничество, к примеру, люди все лето на даче, кто-то вторгся в их квартиру, подделал документы и продает второпях.\n",
    "\n",
    "- Большинство объектов продается в срок от 3 месяцев до полугода. Если объявление было выставлено более полугода, возможно с объектом не все в порядке, к примеру нечистые документы.\n",
    "\n",
    "- Наибольшее влияние на стоимость оказывает площадь объекта. При низкой стоимости объекта по сравнению с другими схожей квадратуры необходимо остерегаться мошенничества.\n",
    "\n",
    "- Объявление о продаже собственной недвижимости можно выставлять круглогодично, это никак не влияет на стоимость.\n",
    "\n",
    "- Самая высокая стоимость кв. м. отмечается в городах Зеленогорск, Санкт-Петербург, Пушкин, Сестрорецк, а также в поселке Репино. Санкт-Петербург и Пушкин являются крупнейшими населенными пунктами в Ленинградской области, остальные из перечисленных населенных пунктов расположены на берегу залива и являются курортными.\n",
    "\n",
    "- Самая низкая стоимость кв. м. отмечается в населенных пунктах: деревня Старополье, поселок станции Свирь, деревня Вахнова Кара, деревня Выскатка, поселок Совхозный.\n",
    "\n",
    "- В Санкт-Петербурге самые дорогие объекты расположены на расстоянии до 7,5 км от центра. Далее цена постепенно снижается."
   ]
  }
 ],
 "metadata": {
  "ExecuteTimeLog": [
   {
    "duration": 537,
    "start_time": "2023-05-10T16:29:00.547Z"
   },
   {
    "duration": 184,
    "start_time": "2023-05-10T16:29:06.315Z"
   },
   {
    "duration": 40,
    "start_time": "2023-05-10T16:29:56.426Z"
   },
   {
    "duration": 54,
    "start_time": "2023-05-10T16:30:06.177Z"
   },
   {
    "duration": 53,
    "start_time": "2023-05-10T16:30:13.015Z"
   },
   {
    "duration": 96,
    "start_time": "2023-05-10T16:30:18.191Z"
   },
   {
    "duration": 88,
    "start_time": "2023-05-10T16:31:49.664Z"
   },
   {
    "duration": 137,
    "start_time": "2023-05-10T16:32:06.662Z"
   },
   {
    "duration": 719,
    "start_time": "2023-05-10T17:39:00.339Z"
   },
   {
    "duration": 109,
    "start_time": "2023-05-10T17:39:36.057Z"
   },
   {
    "duration": 120,
    "start_time": "2023-05-10T17:39:42.668Z"
   },
   {
    "duration": 1755,
    "start_time": "2023-05-10T17:40:29.737Z"
   },
   {
    "duration": 1506,
    "start_time": "2023-05-10T17:41:06.969Z"
   },
   {
    "duration": 2712,
    "start_time": "2023-05-10T17:42:30.498Z"
   },
   {
    "duration": 18,
    "start_time": "2023-05-10T17:46:39.021Z"
   },
   {
    "duration": 2327,
    "start_time": "2023-05-10T17:47:08.322Z"
   },
   {
    "duration": 113,
    "start_time": "2023-05-10T17:47:18.725Z"
   },
   {
    "duration": 37,
    "start_time": "2023-05-10T17:55:18.596Z"
   },
   {
    "duration": 32,
    "start_time": "2023-05-10T17:55:29.464Z"
   },
   {
    "duration": 20,
    "start_time": "2023-05-10T17:56:40.034Z"
   },
   {
    "duration": 9,
    "start_time": "2023-05-10T17:56:42.818Z"
   },
   {
    "duration": 67,
    "start_time": "2023-05-10T17:57:47.083Z"
   },
   {
    "duration": 34,
    "start_time": "2023-05-10T17:57:54.836Z"
   },
   {
    "duration": 35,
    "start_time": "2023-05-10T17:58:01.375Z"
   },
   {
    "duration": 16,
    "start_time": "2023-05-10T17:58:12.999Z"
   },
   {
    "duration": 10,
    "start_time": "2023-05-10T18:37:48.202Z"
   },
   {
    "duration": 7,
    "start_time": "2023-05-10T18:37:57.123Z"
   },
   {
    "duration": 9,
    "start_time": "2023-05-10T18:38:44.544Z"
   },
   {
    "duration": 8,
    "start_time": "2023-05-10T18:39:11.073Z"
   },
   {
    "duration": 70,
    "start_time": "2023-05-10T18:55:59.253Z"
   },
   {
    "duration": 7,
    "start_time": "2023-05-10T18:58:00.451Z"
   },
   {
    "duration": 10,
    "start_time": "2023-05-10T18:58:17.440Z"
   },
   {
    "duration": 17,
    "start_time": "2023-05-10T18:58:51.510Z"
   },
   {
    "duration": 26,
    "start_time": "2023-05-10T18:59:08.681Z"
   },
   {
    "duration": 10,
    "start_time": "2023-05-10T18:59:32.458Z"
   },
   {
    "duration": 8,
    "start_time": "2023-05-10T18:59:44.995Z"
   },
   {
    "duration": 9,
    "start_time": "2023-05-10T19:01:39.781Z"
   },
   {
    "duration": 6,
    "start_time": "2023-05-10T19:01:45.442Z"
   },
   {
    "duration": 562,
    "start_time": "2023-05-10T19:02:01.259Z"
   },
   {
    "duration": 603,
    "start_time": "2023-05-10T19:02:12.455Z"
   },
   {
    "duration": 678,
    "start_time": "2023-05-10T19:02:41.179Z"
   },
   {
    "duration": 585,
    "start_time": "2023-05-10T19:03:31.153Z"
   },
   {
    "duration": 522,
    "start_time": "2023-05-10T19:03:36.537Z"
   },
   {
    "duration": 9,
    "start_time": "2023-05-10T19:06:23.339Z"
   },
   {
    "duration": 9,
    "start_time": "2023-05-10T19:08:36.389Z"
   },
   {
    "duration": 842,
    "start_time": "2023-05-10T19:08:49.487Z"
   },
   {
    "duration": 17,
    "start_time": "2023-05-10T19:08:50.331Z"
   },
   {
    "duration": 2451,
    "start_time": "2023-05-10T19:08:50.350Z"
   },
   {
    "duration": 9,
    "start_time": "2023-05-10T19:08:52.803Z"
   },
   {
    "duration": 10,
    "start_time": "2023-05-10T19:08:52.815Z"
   },
   {
    "duration": 12,
    "start_time": "2023-05-10T19:08:52.826Z"
   },
   {
    "duration": 50,
    "start_time": "2023-05-10T19:08:52.840Z"
   },
   {
    "duration": 12,
    "start_time": "2023-05-10T19:09:18.756Z"
   },
   {
    "duration": 23,
    "start_time": "2023-05-10T19:09:29.290Z"
   },
   {
    "duration": 13,
    "start_time": "2023-05-10T19:12:31.377Z"
   },
   {
    "duration": 54,
    "start_time": "2023-05-10T19:13:58.668Z"
   },
   {
    "duration": 32,
    "start_time": "2023-05-10T19:14:51.737Z"
   },
   {
    "duration": 49,
    "start_time": "2023-05-11T09:34:44.166Z"
   },
   {
    "duration": 6,
    "start_time": "2023-05-11T09:34:47.123Z"
   },
   {
    "duration": 1341,
    "start_time": "2023-05-11T09:34:53.657Z"
   },
   {
    "duration": 14,
    "start_time": "2023-05-11T09:34:55.000Z"
   },
   {
    "duration": 1850,
    "start_time": "2023-05-11T09:34:55.015Z"
   },
   {
    "duration": 78,
    "start_time": "2023-05-11T09:34:56.866Z"
   },
   {
    "duration": 0,
    "start_time": "2023-05-11T09:34:56.946Z"
   },
   {
    "duration": 0,
    "start_time": "2023-05-11T09:34:56.948Z"
   },
   {
    "duration": 0,
    "start_time": "2023-05-11T09:34:56.949Z"
   },
   {
    "duration": 0,
    "start_time": "2023-05-11T09:34:56.950Z"
   },
   {
    "duration": 8,
    "start_time": "2023-05-11T09:35:01.899Z"
   },
   {
    "duration": 7,
    "start_time": "2023-05-11T09:35:03.873Z"
   },
   {
    "duration": 4,
    "start_time": "2023-05-11T09:35:13.926Z"
   },
   {
    "duration": 5,
    "start_time": "2023-05-11T09:35:56.604Z"
   },
   {
    "duration": 170,
    "start_time": "2023-05-11T11:30:22.400Z"
   },
   {
    "duration": 158,
    "start_time": "2023-05-11T11:30:59.730Z"
   },
   {
    "duration": 9,
    "start_time": "2023-05-11T11:32:33.664Z"
   },
   {
    "duration": 34,
    "start_time": "2023-05-11T11:32:41.077Z"
   },
   {
    "duration": 32,
    "start_time": "2023-05-11T11:33:50.277Z"
   },
   {
    "duration": 11,
    "start_time": "2023-05-11T11:33:59.706Z"
   },
   {
    "duration": 10,
    "start_time": "2023-05-11T11:46:14.474Z"
   },
   {
    "duration": 25,
    "start_time": "2023-05-11T11:46:31.420Z"
   },
   {
    "duration": 176,
    "start_time": "2023-05-11T11:47:17.364Z"
   },
   {
    "duration": 19,
    "start_time": "2023-05-11T11:47:17.542Z"
   },
   {
    "duration": 1896,
    "start_time": "2023-05-11T11:47:17.563Z"
   },
   {
    "duration": 4,
    "start_time": "2023-05-11T11:47:19.460Z"
   },
   {
    "duration": 24,
    "start_time": "2023-05-11T11:47:19.466Z"
   },
   {
    "duration": 11,
    "start_time": "2023-05-11T11:47:19.491Z"
   },
   {
    "duration": 14,
    "start_time": "2023-05-11T11:47:19.503Z"
   },
   {
    "duration": 32,
    "start_time": "2023-05-11T11:47:19.518Z"
   },
   {
    "duration": 10,
    "start_time": "2023-05-11T11:47:30.048Z"
   },
   {
    "duration": 5,
    "start_time": "2023-05-11T11:47:32.148Z"
   },
   {
    "duration": 4,
    "start_time": "2023-05-11T11:47:34.219Z"
   },
   {
    "duration": 13,
    "start_time": "2023-05-11T12:13:47.532Z"
   },
   {
    "duration": 26,
    "start_time": "2023-05-11T12:14:14.447Z"
   },
   {
    "duration": 36,
    "start_time": "2023-05-11T12:14:46.288Z"
   },
   {
    "duration": 203,
    "start_time": "2023-05-11T13:09:44.788Z"
   },
   {
    "duration": 18,
    "start_time": "2023-05-11T13:14:29.110Z"
   },
   {
    "duration": 4,
    "start_time": "2023-05-11T13:18:05.764Z"
   },
   {
    "duration": 4,
    "start_time": "2023-05-11T13:18:07.890Z"
   },
   {
    "duration": 8,
    "start_time": "2023-05-11T13:18:13.750Z"
   },
   {
    "duration": 9,
    "start_time": "2023-05-11T13:19:49.573Z"
   },
   {
    "duration": 28,
    "start_time": "2023-05-11T13:20:01.344Z"
   },
   {
    "duration": 8,
    "start_time": "2023-05-11T13:21:41.069Z"
   },
   {
    "duration": 12,
    "start_time": "2023-05-11T13:26:23.026Z"
   },
   {
    "duration": 21,
    "start_time": "2023-05-11T13:26:33.618Z"
   },
   {
    "duration": 28,
    "start_time": "2023-05-11T13:27:52.262Z"
   },
   {
    "duration": 90,
    "start_time": "2023-05-11T13:28:05.576Z"
   },
   {
    "duration": 20,
    "start_time": "2023-05-11T13:28:24.930Z"
   },
   {
    "duration": 23,
    "start_time": "2023-05-11T13:28:46.378Z"
   },
   {
    "duration": 23,
    "start_time": "2023-05-11T13:29:20.553Z"
   },
   {
    "duration": 21,
    "start_time": "2023-05-11T13:31:23.255Z"
   },
   {
    "duration": 16,
    "start_time": "2023-05-11T13:33:43.085Z"
   },
   {
    "duration": 23,
    "start_time": "2023-05-11T13:35:44.366Z"
   },
   {
    "duration": 19,
    "start_time": "2023-05-11T13:39:53.101Z"
   },
   {
    "duration": 25,
    "start_time": "2023-05-11T13:40:14.633Z"
   },
   {
    "duration": 22,
    "start_time": "2023-05-11T13:40:20.688Z"
   },
   {
    "duration": 27,
    "start_time": "2023-05-11T13:40:34.116Z"
   },
   {
    "duration": 86,
    "start_time": "2023-05-11T13:40:49.411Z"
   },
   {
    "duration": 35,
    "start_time": "2023-05-11T13:41:05.285Z"
   },
   {
    "duration": 35,
    "start_time": "2023-05-11T13:41:15.112Z"
   },
   {
    "duration": 22,
    "start_time": "2023-05-11T13:41:32.240Z"
   },
   {
    "duration": 23,
    "start_time": "2023-05-11T13:41:37.501Z"
   },
   {
    "duration": 21,
    "start_time": "2023-05-11T13:41:43.385Z"
   },
   {
    "duration": 15,
    "start_time": "2023-05-11T13:42:08.639Z"
   },
   {
    "duration": 24,
    "start_time": "2023-05-11T13:42:14.624Z"
   },
   {
    "duration": 20,
    "start_time": "2023-05-11T13:42:22.553Z"
   },
   {
    "duration": 21,
    "start_time": "2023-05-11T13:42:36.028Z"
   },
   {
    "duration": 27,
    "start_time": "2023-05-11T13:43:26.848Z"
   },
   {
    "duration": 99,
    "start_time": "2023-05-11T15:37:35.307Z"
   },
   {
    "duration": 23,
    "start_time": "2023-05-11T15:37:48.747Z"
   },
   {
    "duration": 27,
    "start_time": "2023-05-11T15:39:12.828Z"
   },
   {
    "duration": 18,
    "start_time": "2023-05-11T15:39:22.229Z"
   },
   {
    "duration": 140,
    "start_time": "2023-05-11T15:39:31.136Z"
   },
   {
    "duration": 18,
    "start_time": "2023-05-11T15:39:31.279Z"
   },
   {
    "duration": 2068,
    "start_time": "2023-05-11T15:39:31.299Z"
   },
   {
    "duration": 5,
    "start_time": "2023-05-11T15:39:33.368Z"
   },
   {
    "duration": 8,
    "start_time": "2023-05-11T15:39:33.374Z"
   },
   {
    "duration": 13,
    "start_time": "2023-05-11T15:39:33.383Z"
   },
   {
    "duration": 22,
    "start_time": "2023-05-11T15:39:33.400Z"
   },
   {
    "duration": 27,
    "start_time": "2023-05-11T15:39:33.425Z"
   },
   {
    "duration": 1725,
    "start_time": "2023-05-11T15:39:34.890Z"
   },
   {
    "duration": 2102,
    "start_time": "2023-05-11T15:39:44.298Z"
   },
   {
    "duration": 1120,
    "start_time": "2023-05-11T15:39:52.529Z"
   },
   {
    "duration": 132,
    "start_time": "2023-05-11T15:39:57.623Z"
   },
   {
    "duration": 13,
    "start_time": "2023-05-11T15:39:57.758Z"
   },
   {
    "duration": 1866,
    "start_time": "2023-05-11T15:39:57.773Z"
   },
   {
    "duration": 5,
    "start_time": "2023-05-11T15:39:59.641Z"
   },
   {
    "duration": 7,
    "start_time": "2023-05-11T15:39:59.649Z"
   },
   {
    "duration": 11,
    "start_time": "2023-05-11T15:39:59.657Z"
   },
   {
    "duration": 10,
    "start_time": "2023-05-11T15:39:59.669Z"
   },
   {
    "duration": 51,
    "start_time": "2023-05-11T15:39:59.680Z"
   },
   {
    "duration": 27,
    "start_time": "2023-05-11T15:40:00.610Z"
   },
   {
    "duration": 22,
    "start_time": "2023-05-11T15:40:10.173Z"
   },
   {
    "duration": 18,
    "start_time": "2023-05-11T15:42:14.019Z"
   },
   {
    "duration": 145,
    "start_time": "2023-05-11T15:42:21.043Z"
   },
   {
    "duration": 13,
    "start_time": "2023-05-11T15:42:21.190Z"
   },
   {
    "duration": 1875,
    "start_time": "2023-05-11T15:42:21.204Z"
   },
   {
    "duration": 5,
    "start_time": "2023-05-11T15:42:23.080Z"
   },
   {
    "duration": 13,
    "start_time": "2023-05-11T15:42:23.087Z"
   },
   {
    "duration": 31,
    "start_time": "2023-05-11T15:42:23.102Z"
   },
   {
    "duration": 12,
    "start_time": "2023-05-11T15:42:23.135Z"
   },
   {
    "duration": 31,
    "start_time": "2023-05-11T15:42:23.505Z"
   },
   {
    "duration": 79,
    "start_time": "2023-05-11T15:42:36.457Z"
   },
   {
    "duration": 188,
    "start_time": "2023-05-11T15:43:26.031Z"
   },
   {
    "duration": 182,
    "start_time": "2023-05-11T15:43:44.430Z"
   },
   {
    "duration": 171,
    "start_time": "2023-05-11T15:44:02.924Z"
   },
   {
    "duration": 76,
    "start_time": "2023-05-11T15:44:33.745Z"
   },
   {
    "duration": 32,
    "start_time": "2023-05-11T15:44:48.490Z"
   },
   {
    "duration": 133,
    "start_time": "2023-05-11T15:44:57.895Z"
   },
   {
    "duration": 134,
    "start_time": "2023-05-11T15:45:09.784Z"
   },
   {
    "duration": 12,
    "start_time": "2023-05-11T15:45:09.920Z"
   },
   {
    "duration": 1743,
    "start_time": "2023-05-11T15:45:09.934Z"
   },
   {
    "duration": 4,
    "start_time": "2023-05-11T15:45:11.678Z"
   },
   {
    "duration": 11,
    "start_time": "2023-05-11T15:45:11.685Z"
   },
   {
    "duration": 21,
    "start_time": "2023-05-11T15:45:11.698Z"
   },
   {
    "duration": 10,
    "start_time": "2023-05-11T15:45:11.721Z"
   },
   {
    "duration": 30,
    "start_time": "2023-05-11T15:45:11.733Z"
   },
   {
    "duration": 70,
    "start_time": "2023-05-11T15:45:11.765Z"
   },
   {
    "duration": 130,
    "start_time": "2023-05-11T16:41:56.824Z"
   },
   {
    "duration": 12,
    "start_time": "2023-05-11T16:41:56.957Z"
   },
   {
    "duration": 1857,
    "start_time": "2023-05-11T16:41:56.971Z"
   },
   {
    "duration": 5,
    "start_time": "2023-05-11T16:41:58.830Z"
   },
   {
    "duration": 28,
    "start_time": "2023-05-11T16:41:58.836Z"
   },
   {
    "duration": 14,
    "start_time": "2023-05-11T16:41:58.865Z"
   },
   {
    "duration": 19,
    "start_time": "2023-05-11T16:41:58.880Z"
   },
   {
    "duration": 33,
    "start_time": "2023-05-11T16:41:58.900Z"
   },
   {
    "duration": 38,
    "start_time": "2023-05-11T16:42:02.262Z"
   },
   {
    "duration": 19,
    "start_time": "2023-05-11T16:44:23.630Z"
   },
   {
    "duration": 35,
    "start_time": "2023-05-11T16:48:20.068Z"
   },
   {
    "duration": 32,
    "start_time": "2023-05-11T16:51:04.295Z"
   },
   {
    "duration": 46,
    "start_time": "2023-05-11T16:51:14.511Z"
   },
   {
    "duration": 5,
    "start_time": "2023-05-11T16:58:43.539Z"
   },
   {
    "duration": 7,
    "start_time": "2023-05-11T16:58:50.759Z"
   },
   {
    "duration": 15,
    "start_time": "2023-05-11T17:03:20.529Z"
   },
   {
    "duration": 26,
    "start_time": "2023-05-11T17:07:07.613Z"
   },
   {
    "duration": 29,
    "start_time": "2023-05-11T17:08:14.371Z"
   },
   {
    "duration": 32,
    "start_time": "2023-05-11T17:08:49.470Z"
   },
   {
    "duration": 37,
    "start_time": "2023-05-11T17:09:14.907Z"
   },
   {
    "duration": 22,
    "start_time": "2023-05-11T17:09:57.830Z"
   },
   {
    "duration": 42,
    "start_time": "2023-05-11T17:10:20.801Z"
   },
   {
    "duration": 8,
    "start_time": "2023-05-11T17:10:44.665Z"
   },
   {
    "duration": 134,
    "start_time": "2023-05-11T17:10:50.420Z"
   },
   {
    "duration": 13,
    "start_time": "2023-05-11T17:10:50.556Z"
   },
   {
    "duration": 1770,
    "start_time": "2023-05-11T17:10:50.571Z"
   },
   {
    "duration": 4,
    "start_time": "2023-05-11T17:10:52.344Z"
   },
   {
    "duration": 10,
    "start_time": "2023-05-11T17:10:52.350Z"
   },
   {
    "duration": 27,
    "start_time": "2023-05-11T17:10:52.361Z"
   },
   {
    "duration": 18,
    "start_time": "2023-05-11T17:10:52.389Z"
   },
   {
    "duration": 34,
    "start_time": "2023-05-11T17:10:52.409Z"
   },
   {
    "duration": 42,
    "start_time": "2023-05-11T17:10:52.445Z"
   },
   {
    "duration": 18,
    "start_time": "2023-05-11T17:10:52.489Z"
   },
   {
    "duration": 38,
    "start_time": "2023-05-11T17:10:57.023Z"
   },
   {
    "duration": 44,
    "start_time": "2023-05-11T17:11:07.600Z"
   },
   {
    "duration": 55,
    "start_time": "2023-05-11T17:11:15.711Z"
   },
   {
    "duration": 137,
    "start_time": "2023-05-11T17:13:37.271Z"
   },
   {
    "duration": 14,
    "start_time": "2023-05-11T17:13:37.418Z"
   },
   {
    "duration": 1990,
    "start_time": "2023-05-11T17:13:37.433Z"
   },
   {
    "duration": 5,
    "start_time": "2023-05-11T17:13:39.424Z"
   },
   {
    "duration": 174,
    "start_time": "2023-05-11T17:13:39.431Z"
   },
   {
    "duration": 16,
    "start_time": "2023-05-11T17:13:39.606Z"
   },
   {
    "duration": 9,
    "start_time": "2023-05-11T17:13:39.623Z"
   },
   {
    "duration": 27,
    "start_time": "2023-05-11T17:13:39.633Z"
   },
   {
    "duration": 33,
    "start_time": "2023-05-11T17:13:39.662Z"
   },
   {
    "duration": 37,
    "start_time": "2023-05-11T17:13:39.696Z"
   },
   {
    "duration": 5,
    "start_time": "2023-05-11T17:13:40.596Z"
   },
   {
    "duration": 35,
    "start_time": "2023-05-11T17:13:45.619Z"
   },
   {
    "duration": 38,
    "start_time": "2023-05-11T17:13:55.701Z"
   },
   {
    "duration": 39,
    "start_time": "2023-05-11T17:14:09.974Z"
   },
   {
    "duration": 70,
    "start_time": "2023-05-11T17:14:16.197Z"
   },
   {
    "duration": 9,
    "start_time": "2023-05-11T17:14:59.469Z"
   },
   {
    "duration": 130,
    "start_time": "2023-05-11T17:23:23.753Z"
   },
   {
    "duration": 97,
    "start_time": "2023-05-11T17:25:40.722Z"
   },
   {
    "duration": 2,
    "start_time": "2023-05-11T17:27:19.607Z"
   },
   {
    "duration": 2,
    "start_time": "2023-05-11T17:27:28.458Z"
   },
   {
    "duration": 5,
    "start_time": "2023-05-11T17:29:49.162Z"
   },
   {
    "duration": 7,
    "start_time": "2023-05-11T17:30:10.015Z"
   },
   {
    "duration": 6,
    "start_time": "2023-05-11T17:30:20.452Z"
   },
   {
    "duration": 7,
    "start_time": "2023-05-11T17:30:43.758Z"
   },
   {
    "duration": 76,
    "start_time": "2023-05-11T17:31:24.414Z"
   },
   {
    "duration": 23,
    "start_time": "2023-05-11T17:34:19.062Z"
   },
   {
    "duration": 147,
    "start_time": "2023-05-11T17:34:26.388Z"
   },
   {
    "duration": 13,
    "start_time": "2023-05-11T17:34:26.538Z"
   },
   {
    "duration": 1846,
    "start_time": "2023-05-11T17:34:26.553Z"
   },
   {
    "duration": 5,
    "start_time": "2023-05-11T17:34:28.400Z"
   },
   {
    "duration": 5,
    "start_time": "2023-05-11T17:34:28.417Z"
   },
   {
    "duration": 41,
    "start_time": "2023-05-11T17:34:28.424Z"
   },
   {
    "duration": 12,
    "start_time": "2023-05-11T17:34:28.467Z"
   },
   {
    "duration": 26,
    "start_time": "2023-05-11T17:34:28.480Z"
   },
   {
    "duration": 34,
    "start_time": "2023-05-11T17:34:28.508Z"
   },
   {
    "duration": 26,
    "start_time": "2023-05-11T17:34:32.154Z"
   },
   {
    "duration": 7,
    "start_time": "2023-05-11T17:34:34.555Z"
   },
   {
    "duration": 49,
    "start_time": "2023-05-11T17:34:36.695Z"
   },
   {
    "duration": 65,
    "start_time": "2023-05-11T17:34:39.519Z"
   },
   {
    "duration": 6,
    "start_time": "2023-05-11T17:34:42.288Z"
   },
   {
    "duration": 97,
    "start_time": "2023-05-11T17:40:10.634Z"
   },
   {
    "duration": 113,
    "start_time": "2023-05-11T17:40:45.091Z"
   },
   {
    "duration": 72,
    "start_time": "2023-05-11T17:40:50.401Z"
   },
   {
    "duration": 97,
    "start_time": "2023-05-11T17:41:16.781Z"
   },
   {
    "duration": 174,
    "start_time": "2023-05-11T17:41:22.476Z"
   },
   {
    "duration": 26,
    "start_time": "2023-05-11T17:42:49.645Z"
   },
   {
    "duration": 15,
    "start_time": "2023-05-11T17:43:07.792Z"
   },
   {
    "duration": 14,
    "start_time": "2023-05-11T17:43:10.049Z"
   },
   {
    "duration": 6,
    "start_time": "2023-05-11T17:54:34.281Z"
   },
   {
    "duration": 8,
    "start_time": "2023-05-11T17:54:50.512Z"
   },
   {
    "duration": 123,
    "start_time": "2023-05-11T17:55:39.562Z"
   },
   {
    "duration": 243,
    "start_time": "2023-05-11T17:55:58.848Z"
   },
   {
    "duration": 9,
    "start_time": "2023-05-11T17:58:15.114Z"
   },
   {
    "duration": 12,
    "start_time": "2023-05-11T17:59:09.095Z"
   },
   {
    "duration": 11,
    "start_time": "2023-05-11T17:59:20.518Z"
   },
   {
    "duration": 13,
    "start_time": "2023-05-11T17:59:27.996Z"
   },
   {
    "duration": 12,
    "start_time": "2023-05-11T17:59:42.503Z"
   },
   {
    "duration": 12,
    "start_time": "2023-05-11T17:59:46.320Z"
   },
   {
    "duration": 15,
    "start_time": "2023-05-11T18:01:51.550Z"
   },
   {
    "duration": 6,
    "start_time": "2023-05-11T18:02:17.307Z"
   },
   {
    "duration": 8,
    "start_time": "2023-05-11T18:02:29.834Z"
   },
   {
    "duration": 460,
    "start_time": "2023-05-11T18:02:43.103Z"
   },
   {
    "duration": 3,
    "start_time": "2023-05-11T18:04:04.804Z"
   },
   {
    "duration": 4,
    "start_time": "2023-05-11T18:04:23.725Z"
   },
   {
    "duration": 4,
    "start_time": "2023-05-11T18:04:45.665Z"
   },
   {
    "duration": 5,
    "start_time": "2023-05-11T18:05:07.882Z"
   },
   {
    "duration": 11,
    "start_time": "2023-05-11T18:05:13.219Z"
   },
   {
    "duration": 7,
    "start_time": "2023-05-11T18:08:20.027Z"
   },
   {
    "duration": 12,
    "start_time": "2023-05-11T18:08:34.527Z"
   },
   {
    "duration": 8,
    "start_time": "2023-05-11T18:11:55.008Z"
   },
   {
    "duration": 278,
    "start_time": "2023-05-11T18:12:21.956Z"
   },
   {
    "duration": 135,
    "start_time": "2023-05-11T18:12:30.543Z"
   },
   {
    "duration": 222,
    "start_time": "2023-05-11T18:12:37.702Z"
   },
   {
    "duration": 1119,
    "start_time": "2023-05-11T18:12:41.501Z"
   },
   {
    "duration": 1418,
    "start_time": "2023-05-11T18:13:02.840Z"
   },
   {
    "duration": 20,
    "start_time": "2023-05-11T18:15:31.575Z"
   },
   {
    "duration": 1883,
    "start_time": "2023-05-11T18:15:31.597Z"
   },
   {
    "duration": 5,
    "start_time": "2023-05-11T18:15:33.481Z"
   },
   {
    "duration": 17,
    "start_time": "2023-05-11T18:15:33.488Z"
   },
   {
    "duration": 22,
    "start_time": "2023-05-11T18:15:33.507Z"
   },
   {
    "duration": 9,
    "start_time": "2023-05-11T18:15:33.531Z"
   },
   {
    "duration": 24,
    "start_time": "2023-05-11T18:15:33.542Z"
   },
   {
    "duration": 55,
    "start_time": "2023-05-11T18:15:33.568Z"
   },
   {
    "duration": 26,
    "start_time": "2023-05-11T18:15:33.625Z"
   },
   {
    "duration": 7,
    "start_time": "2023-05-11T18:15:33.653Z"
   },
   {
    "duration": 88,
    "start_time": "2023-05-11T18:15:33.662Z"
   },
   {
    "duration": 76,
    "start_time": "2023-05-11T18:15:33.751Z"
   },
   {
    "duration": 6,
    "start_time": "2023-05-11T18:15:33.829Z"
   },
   {
    "duration": 8,
    "start_time": "2023-05-11T18:15:33.836Z"
   },
   {
    "duration": 243,
    "start_time": "2023-05-11T18:15:33.845Z"
   },
   {
    "duration": 18,
    "start_time": "2023-05-11T18:15:34.089Z"
   },
   {
    "duration": 22,
    "start_time": "2023-05-11T18:15:34.135Z"
   },
   {
    "duration": 256,
    "start_time": "2023-05-11T18:15:34.159Z"
   },
   {
    "duration": 5,
    "start_time": "2023-05-11T18:15:34.417Z"
   },
   {
    "duration": 180,
    "start_time": "2023-05-11T18:15:34.626Z"
   },
   {
    "duration": 15,
    "start_time": "2023-05-11T18:15:35.270Z"
   },
   {
    "duration": 153,
    "start_time": "2023-05-11T18:16:27.440Z"
   },
   {
    "duration": 68,
    "start_time": "2023-05-11T18:18:17.595Z"
   },
   {
    "duration": 315,
    "start_time": "2023-05-11T18:20:38.784Z"
   },
   {
    "duration": 1258,
    "start_time": "2023-05-11T18:23:40.015Z"
   },
   {
    "duration": 14,
    "start_time": "2023-05-11T18:23:48.401Z"
   },
   {
    "duration": 15,
    "start_time": "2023-05-11T18:23:50.498Z"
   },
   {
    "duration": 151,
    "start_time": "2023-05-11T18:24:06.557Z"
   },
   {
    "duration": 16,
    "start_time": "2023-05-11T18:24:06.709Z"
   },
   {
    "duration": 1905,
    "start_time": "2023-05-11T18:24:06.726Z"
   },
   {
    "duration": 4,
    "start_time": "2023-05-11T18:24:08.634Z"
   },
   {
    "duration": 24,
    "start_time": "2023-05-11T18:24:08.640Z"
   },
   {
    "duration": 13,
    "start_time": "2023-05-11T18:24:08.666Z"
   },
   {
    "duration": 15,
    "start_time": "2023-05-11T18:24:08.681Z"
   },
   {
    "duration": 43,
    "start_time": "2023-05-11T18:24:08.698Z"
   },
   {
    "duration": 46,
    "start_time": "2023-05-11T18:24:08.743Z"
   },
   {
    "duration": 50,
    "start_time": "2023-05-11T18:24:08.793Z"
   },
   {
    "duration": 8,
    "start_time": "2023-05-11T18:24:08.845Z"
   },
   {
    "duration": 80,
    "start_time": "2023-05-11T18:24:08.855Z"
   },
   {
    "duration": 90,
    "start_time": "2023-05-11T18:24:08.937Z"
   },
   {
    "duration": 7,
    "start_time": "2023-05-11T18:24:09.029Z"
   },
   {
    "duration": 81,
    "start_time": "2023-05-11T18:24:09.038Z"
   },
   {
    "duration": 350,
    "start_time": "2023-05-11T18:24:09.120Z"
   },
   {
    "duration": 13,
    "start_time": "2023-05-11T18:24:09.471Z"
   },
   {
    "duration": 9,
    "start_time": "2023-05-11T18:24:09.486Z"
   },
   {
    "duration": 7,
    "start_time": "2023-05-11T18:24:11.199Z"
   },
   {
    "duration": 124,
    "start_time": "2023-05-11T18:24:13.134Z"
   },
   {
    "duration": 6,
    "start_time": "2023-05-11T18:24:16.667Z"
   },
   {
    "duration": 12,
    "start_time": "2023-05-11T18:24:18.731Z"
   },
   {
    "duration": 6,
    "start_time": "2023-05-11T18:24:56.710Z"
   },
   {
    "duration": 35,
    "start_time": "2023-05-11T18:25:05.564Z"
   },
   {
    "duration": 5,
    "start_time": "2023-05-11T18:25:21.934Z"
   },
   {
    "duration": 6,
    "start_time": "2023-05-11T18:25:26.462Z"
   },
   {
    "duration": 31,
    "start_time": "2023-05-11T18:25:32.825Z"
   },
   {
    "duration": 6,
    "start_time": "2023-05-11T18:25:51.535Z"
   },
   {
    "duration": 6,
    "start_time": "2023-05-11T18:26:02.973Z"
   },
   {
    "duration": 5,
    "start_time": "2023-05-11T18:26:08.900Z"
   },
   {
    "duration": 5,
    "start_time": "2023-05-11T18:27:16.490Z"
   },
   {
    "duration": 5,
    "start_time": "2023-05-11T18:27:29.942Z"
   },
   {
    "duration": 5,
    "start_time": "2023-05-11T18:27:31.387Z"
   },
   {
    "duration": 23,
    "start_time": "2023-05-11T18:27:32.800Z"
   },
   {
    "duration": 4,
    "start_time": "2023-05-11T18:28:41.073Z"
   },
   {
    "duration": 4,
    "start_time": "2023-05-11T18:29:50.703Z"
   },
   {
    "duration": 24,
    "start_time": "2023-05-11T18:30:02.857Z"
   },
   {
    "duration": 7,
    "start_time": "2023-05-11T18:30:27.804Z"
   },
   {
    "duration": 21,
    "start_time": "2023-05-11T18:30:34.722Z"
   },
   {
    "duration": 5,
    "start_time": "2023-05-11T18:30:44.153Z"
   },
   {
    "duration": 23,
    "start_time": "2023-05-11T18:30:46.040Z"
   },
   {
    "duration": 4,
    "start_time": "2023-05-11T18:32:55.147Z"
   },
   {
    "duration": 93,
    "start_time": "2023-05-11T18:39:23.156Z"
   },
   {
    "duration": 4,
    "start_time": "2023-05-11T18:39:36.059Z"
   },
   {
    "duration": 371,
    "start_time": "2023-05-11T18:40:19.791Z"
   },
   {
    "duration": 16,
    "start_time": "2023-05-11T18:50:35.641Z"
   },
   {
    "duration": 4,
    "start_time": "2023-05-11T18:50:37.345Z"
   },
   {
    "duration": 20,
    "start_time": "2023-05-11T18:50:39.015Z"
   },
   {
    "duration": 164,
    "start_time": "2023-05-11T18:51:31.232Z"
   },
   {
    "duration": 18,
    "start_time": "2023-05-11T18:51:31.398Z"
   },
   {
    "duration": 1828,
    "start_time": "2023-05-11T18:51:31.418Z"
   },
   {
    "duration": 6,
    "start_time": "2023-05-11T18:51:33.248Z"
   },
   {
    "duration": 6,
    "start_time": "2023-05-11T18:51:33.257Z"
   },
   {
    "duration": 10,
    "start_time": "2023-05-11T18:51:33.265Z"
   },
   {
    "duration": 8,
    "start_time": "2023-05-11T18:51:33.276Z"
   },
   {
    "duration": 54,
    "start_time": "2023-05-11T18:51:33.286Z"
   },
   {
    "duration": 31,
    "start_time": "2023-05-11T18:51:33.342Z"
   },
   {
    "duration": 19,
    "start_time": "2023-05-11T18:51:33.375Z"
   },
   {
    "duration": 24,
    "start_time": "2023-05-11T18:51:33.395Z"
   },
   {
    "duration": 36,
    "start_time": "2023-05-11T18:51:33.421Z"
   },
   {
    "duration": 83,
    "start_time": "2023-05-11T18:51:33.459Z"
   },
   {
    "duration": 6,
    "start_time": "2023-05-11T18:51:33.545Z"
   },
   {
    "duration": 93,
    "start_time": "2023-05-11T18:51:33.553Z"
   },
   {
    "duration": 341,
    "start_time": "2023-05-11T18:51:33.648Z"
   },
   {
    "duration": 10,
    "start_time": "2023-05-11T18:51:33.990Z"
   },
   {
    "duration": 22,
    "start_time": "2023-05-11T18:51:34.001Z"
   },
   {
    "duration": 149,
    "start_time": "2023-05-11T18:51:34.024Z"
   },
   {
    "duration": 5,
    "start_time": "2023-05-11T18:51:34.175Z"
   },
   {
    "duration": 26,
    "start_time": "2023-05-11T18:51:34.181Z"
   },
   {
    "duration": 15,
    "start_time": "2023-05-11T18:51:34.208Z"
   },
   {
    "duration": 9,
    "start_time": "2023-05-11T18:51:34.225Z"
   },
   {
    "duration": 5,
    "start_time": "2023-05-11T18:51:34.393Z"
   },
   {
    "duration": 3,
    "start_time": "2023-05-11T18:51:36.020Z"
   },
   {
    "duration": 16,
    "start_time": "2023-05-11T18:51:38.032Z"
   },
   {
    "duration": 20,
    "start_time": "2023-05-11T18:51:41.346Z"
   },
   {
    "duration": 3,
    "start_time": "2023-05-11T19:09:14.057Z"
   },
   {
    "duration": 359,
    "start_time": "2023-05-11T19:09:17.471Z"
   },
   {
    "duration": 24,
    "start_time": "2023-05-11T19:09:23.226Z"
   },
   {
    "duration": 357,
    "start_time": "2023-05-11T19:09:40.600Z"
   },
   {
    "duration": 330,
    "start_time": "2023-05-11T19:10:10.911Z"
   },
   {
    "duration": 381,
    "start_time": "2023-05-11T19:10:22.634Z"
   },
   {
    "duration": 378,
    "start_time": "2023-05-11T19:11:00.074Z"
   },
   {
    "duration": 129,
    "start_time": "2023-05-11T19:14:01.930Z"
   },
   {
    "duration": 224,
    "start_time": "2023-05-11T19:14:14.129Z"
   },
   {
    "duration": 4,
    "start_time": "2023-05-11T19:14:31.533Z"
   },
   {
    "duration": 23,
    "start_time": "2023-05-11T19:14:33.261Z"
   },
   {
    "duration": 4,
    "start_time": "2023-05-11T19:15:06.901Z"
   },
   {
    "duration": 23,
    "start_time": "2023-05-11T19:15:08.655Z"
   },
   {
    "duration": 5,
    "start_time": "2023-05-11T19:15:55.853Z"
   },
   {
    "duration": 58,
    "start_time": "2023-05-12T07:08:22.625Z"
   },
   {
    "duration": 1369,
    "start_time": "2023-05-12T07:08:29.964Z"
   },
   {
    "duration": 18,
    "start_time": "2023-05-12T07:08:31.335Z"
   },
   {
    "duration": 2296,
    "start_time": "2023-05-12T07:08:31.354Z"
   },
   {
    "duration": 5,
    "start_time": "2023-05-12T07:08:33.652Z"
   },
   {
    "duration": 20,
    "start_time": "2023-05-12T07:08:33.659Z"
   },
   {
    "duration": 15,
    "start_time": "2023-05-12T07:08:33.681Z"
   },
   {
    "duration": 29,
    "start_time": "2023-05-12T07:08:33.698Z"
   },
   {
    "duration": 36,
    "start_time": "2023-05-12T07:08:33.729Z"
   },
   {
    "duration": 34,
    "start_time": "2023-05-12T07:08:33.767Z"
   },
   {
    "duration": 22,
    "start_time": "2023-05-12T07:08:33.804Z"
   },
   {
    "duration": 7,
    "start_time": "2023-05-12T07:08:33.828Z"
   },
   {
    "duration": 74,
    "start_time": "2023-05-12T07:08:33.837Z"
   },
   {
    "duration": 88,
    "start_time": "2023-05-12T07:08:33.913Z"
   },
   {
    "duration": 6,
    "start_time": "2023-05-12T07:08:34.002Z"
   },
   {
    "duration": 92,
    "start_time": "2023-05-12T07:08:34.010Z"
   },
   {
    "duration": 411,
    "start_time": "2023-05-12T07:08:34.105Z"
   },
   {
    "duration": 14,
    "start_time": "2023-05-12T07:08:34.518Z"
   },
   {
    "duration": 14,
    "start_time": "2023-05-12T07:08:34.534Z"
   },
   {
    "duration": 174,
    "start_time": "2023-05-12T07:08:34.550Z"
   },
   {
    "duration": 145,
    "start_time": "2023-05-12T07:08:42.104Z"
   },
   {
    "duration": 42,
    "start_time": "2023-05-12T07:08:44.943Z"
   },
   {
    "duration": 755,
    "start_time": "2023-05-12T07:10:33.578Z"
   },
   {
    "duration": 9,
    "start_time": "2023-05-12T07:11:34.415Z"
   },
   {
    "duration": 10,
    "start_time": "2023-05-12T07:16:05.459Z"
   },
   {
    "duration": 143,
    "start_time": "2023-05-12T07:16:10.705Z"
   },
   {
    "duration": 120,
    "start_time": "2023-05-12T07:16:40.251Z"
   },
   {
    "duration": 111,
    "start_time": "2023-05-12T07:16:46.059Z"
   },
   {
    "duration": 125,
    "start_time": "2023-05-12T07:17:17.932Z"
   },
   {
    "duration": 121,
    "start_time": "2023-05-12T07:17:28.057Z"
   },
   {
    "duration": 209,
    "start_time": "2023-05-12T08:17:28.647Z"
   },
   {
    "duration": 195,
    "start_time": "2023-05-12T08:18:10.491Z"
   },
   {
    "duration": 192,
    "start_time": "2023-05-12T08:18:25.986Z"
   },
   {
    "duration": 196,
    "start_time": "2023-05-12T08:18:33.238Z"
   },
   {
    "duration": 11,
    "start_time": "2023-05-12T08:20:45.673Z"
   },
   {
    "duration": 167,
    "start_time": "2023-05-12T08:20:55.318Z"
   },
   {
    "duration": 19,
    "start_time": "2023-05-12T08:20:55.488Z"
   },
   {
    "duration": 2234,
    "start_time": "2023-05-12T08:20:55.508Z"
   },
   {
    "duration": 6,
    "start_time": "2023-05-12T08:20:57.745Z"
   },
   {
    "duration": 9,
    "start_time": "2023-05-12T08:20:57.752Z"
   },
   {
    "duration": 11,
    "start_time": "2023-05-12T08:20:57.762Z"
   },
   {
    "duration": 31,
    "start_time": "2023-05-12T08:20:57.774Z"
   },
   {
    "duration": 33,
    "start_time": "2023-05-12T08:20:57.807Z"
   },
   {
    "duration": 34,
    "start_time": "2023-05-12T08:20:57.841Z"
   },
   {
    "duration": 35,
    "start_time": "2023-05-12T08:20:57.877Z"
   },
   {
    "duration": 6,
    "start_time": "2023-05-12T08:20:57.914Z"
   },
   {
    "duration": 46,
    "start_time": "2023-05-12T08:20:57.922Z"
   },
   {
    "duration": 95,
    "start_time": "2023-05-12T08:20:57.970Z"
   },
   {
    "duration": 7,
    "start_time": "2023-05-12T08:20:58.067Z"
   },
   {
    "duration": 101,
    "start_time": "2023-05-12T08:20:58.076Z"
   },
   {
    "duration": 437,
    "start_time": "2023-05-12T08:20:58.181Z"
   },
   {
    "duration": 11,
    "start_time": "2023-05-12T08:20:58.621Z"
   },
   {
    "duration": 13,
    "start_time": "2023-05-12T08:20:58.633Z"
   },
   {
    "duration": 152,
    "start_time": "2023-05-12T08:20:58.648Z"
   },
   {
    "duration": 255,
    "start_time": "2023-05-12T08:20:58.802Z"
   },
   {
    "duration": 6,
    "start_time": "2023-05-12T08:20:59.059Z"
   },
   {
    "duration": 7,
    "start_time": "2023-05-12T08:20:59.067Z"
   },
   {
    "duration": 24,
    "start_time": "2023-05-12T08:20:59.076Z"
   },
   {
    "duration": 5,
    "start_time": "2023-05-12T08:20:59.102Z"
   },
   {
    "duration": 366,
    "start_time": "2023-05-12T08:20:59.109Z"
   },
   {
    "duration": 4,
    "start_time": "2023-05-12T08:20:59.477Z"
   },
   {
    "duration": 33,
    "start_time": "2023-05-12T08:20:59.483Z"
   },
   {
    "duration": 209,
    "start_time": "2023-05-12T08:20:59.520Z"
   },
   {
    "duration": 198,
    "start_time": "2023-05-12T08:21:02.549Z"
   },
   {
    "duration": 21,
    "start_time": "2023-05-12T08:21:04.805Z"
   },
   {
    "duration": 19,
    "start_time": "2023-05-12T08:21:18.721Z"
   },
   {
    "duration": 27,
    "start_time": "2023-05-12T08:21:23.897Z"
   },
   {
    "duration": 21,
    "start_time": "2023-05-12T08:22:35.986Z"
   },
   {
    "duration": 21,
    "start_time": "2023-05-12T08:22:44.033Z"
   },
   {
    "duration": 16,
    "start_time": "2023-05-12T08:23:20.805Z"
   },
   {
    "duration": 19,
    "start_time": "2023-05-12T08:23:25.618Z"
   },
   {
    "duration": 20,
    "start_time": "2023-05-12T08:23:46.399Z"
   },
   {
    "duration": 21,
    "start_time": "2023-05-12T08:23:49.613Z"
   },
   {
    "duration": 28,
    "start_time": "2023-05-12T08:23:55.153Z"
   },
   {
    "duration": 18,
    "start_time": "2023-05-12T08:24:10.716Z"
   },
   {
    "duration": 20,
    "start_time": "2023-05-12T08:24:32.868Z"
   },
   {
    "duration": 30,
    "start_time": "2023-05-12T08:25:41.854Z"
   },
   {
    "duration": 28,
    "start_time": "2023-05-12T08:26:34.929Z"
   },
   {
    "duration": 28,
    "start_time": "2023-05-12T08:26:46.062Z"
   },
   {
    "duration": 24,
    "start_time": "2023-05-12T08:27:53.061Z"
   },
   {
    "duration": 27,
    "start_time": "2023-05-12T08:28:07.778Z"
   },
   {
    "duration": 28,
    "start_time": "2023-05-12T08:28:35.273Z"
   },
   {
    "duration": 28,
    "start_time": "2023-05-12T08:28:51.964Z"
   },
   {
    "duration": 28,
    "start_time": "2023-05-12T08:29:32.746Z"
   },
   {
    "duration": 11,
    "start_time": "2023-05-12T08:30:00.686Z"
   },
   {
    "duration": 12,
    "start_time": "2023-05-12T08:30:06.920Z"
   },
   {
    "duration": 48,
    "start_time": "2023-05-12T08:30:29.991Z"
   },
   {
    "duration": 40,
    "start_time": "2023-05-12T08:30:35.298Z"
   },
   {
    "duration": 26,
    "start_time": "2023-05-12T08:30:41.728Z"
   },
   {
    "duration": 8,
    "start_time": "2023-05-12T08:31:05.075Z"
   },
   {
    "duration": 47,
    "start_time": "2023-05-12T08:34:56.576Z"
   },
   {
    "duration": 25,
    "start_time": "2023-05-12T08:35:07.406Z"
   },
   {
    "duration": 22,
    "start_time": "2023-05-12T08:41:34.956Z"
   },
   {
    "duration": 20,
    "start_time": "2023-05-12T08:41:38.084Z"
   },
   {
    "duration": 15,
    "start_time": "2023-05-12T08:41:45.251Z"
   },
   {
    "duration": 18,
    "start_time": "2023-05-12T08:41:57.089Z"
   },
   {
    "duration": 164,
    "start_time": "2023-05-12T08:42:01.658Z"
   },
   {
    "duration": 18,
    "start_time": "2023-05-12T08:42:01.824Z"
   },
   {
    "duration": 2256,
    "start_time": "2023-05-12T08:42:01.844Z"
   },
   {
    "duration": 5,
    "start_time": "2023-05-12T08:42:04.102Z"
   },
   {
    "duration": 24,
    "start_time": "2023-05-12T08:42:04.109Z"
   },
   {
    "duration": 20,
    "start_time": "2023-05-12T08:42:04.135Z"
   },
   {
    "duration": 12,
    "start_time": "2023-05-12T08:42:04.157Z"
   },
   {
    "duration": 36,
    "start_time": "2023-05-12T08:42:04.171Z"
   },
   {
    "duration": 31,
    "start_time": "2023-05-12T08:42:04.209Z"
   },
   {
    "duration": 22,
    "start_time": "2023-05-12T08:42:04.243Z"
   },
   {
    "duration": 31,
    "start_time": "2023-05-12T08:42:04.267Z"
   },
   {
    "duration": 43,
    "start_time": "2023-05-12T08:42:04.301Z"
   },
   {
    "duration": 119,
    "start_time": "2023-05-12T08:42:04.346Z"
   },
   {
    "duration": 9,
    "start_time": "2023-05-12T08:42:04.469Z"
   },
   {
    "duration": 101,
    "start_time": "2023-05-12T08:42:04.480Z"
   },
   {
    "duration": 417,
    "start_time": "2023-05-12T08:42:04.583Z"
   },
   {
    "duration": 11,
    "start_time": "2023-05-12T08:42:05.002Z"
   },
   {
    "duration": 24,
    "start_time": "2023-05-12T08:42:05.015Z"
   },
   {
    "duration": 132,
    "start_time": "2023-05-12T08:42:05.040Z"
   },
   {
    "duration": 149,
    "start_time": "2023-05-12T08:42:05.174Z"
   },
   {
    "duration": 6,
    "start_time": "2023-05-12T08:42:05.325Z"
   },
   {
    "duration": 13,
    "start_time": "2023-05-12T08:42:05.333Z"
   },
   {
    "duration": 9,
    "start_time": "2023-05-12T08:42:05.347Z"
   },
   {
    "duration": 5,
    "start_time": "2023-05-12T08:42:05.358Z"
   },
   {
    "duration": 385,
    "start_time": "2023-05-12T08:42:05.365Z"
   },
   {
    "duration": 5,
    "start_time": "2023-05-12T08:42:05.752Z"
   },
   {
    "duration": 39,
    "start_time": "2023-05-12T08:42:05.760Z"
   },
   {
    "duration": 208,
    "start_time": "2023-05-12T08:42:05.800Z"
   },
   {
    "duration": 39,
    "start_time": "2023-05-12T08:42:06.010Z"
   },
   {
    "duration": 9,
    "start_time": "2023-05-12T08:42:06.050Z"
   },
   {
    "duration": 37,
    "start_time": "2023-05-12T08:42:06.061Z"
   },
   {
    "duration": 17,
    "start_time": "2023-05-12T08:42:08.778Z"
   },
   {
    "duration": 10,
    "start_time": "2023-05-12T08:42:11.517Z"
   },
   {
    "duration": 33,
    "start_time": "2023-05-12T08:42:19.113Z"
   },
   {
    "duration": 11,
    "start_time": "2023-05-12T08:42:44.291Z"
   },
   {
    "duration": 14,
    "start_time": "2023-05-12T08:43:05.600Z"
   },
   {
    "duration": 18,
    "start_time": "2023-05-12T08:46:42.022Z"
   },
   {
    "duration": 160,
    "start_time": "2023-05-12T08:46:55.851Z"
   },
   {
    "duration": 0,
    "start_time": "2023-05-12T08:47:32.423Z"
   },
   {
    "duration": 20,
    "start_time": "2023-05-12T08:47:41.251Z"
   },
   {
    "duration": 185,
    "start_time": "2023-05-12T08:47:48.829Z"
   },
   {
    "duration": 150,
    "start_time": "2023-05-12T08:48:16.729Z"
   },
   {
    "duration": 144,
    "start_time": "2023-05-12T08:48:20.797Z"
   },
   {
    "duration": 136,
    "start_time": "2023-05-12T08:48:29.822Z"
   },
   {
    "duration": 186,
    "start_time": "2023-05-12T08:49:34.098Z"
   },
   {
    "duration": 166,
    "start_time": "2023-05-12T08:49:41.624Z"
   },
   {
    "duration": 153,
    "start_time": "2023-05-12T08:50:37.056Z"
   },
   {
    "duration": 166,
    "start_time": "2023-05-12T08:51:20.382Z"
   },
   {
    "duration": 189,
    "start_time": "2023-05-12T08:51:32.990Z"
   },
   {
    "duration": 223,
    "start_time": "2023-05-12T08:53:07.249Z"
   },
   {
    "duration": 9,
    "start_time": "2023-05-12T08:53:29.280Z"
   },
   {
    "duration": 13,
    "start_time": "2023-05-12T08:53:33.847Z"
   },
   {
    "duration": 165,
    "start_time": "2023-05-12T08:53:42.870Z"
   },
   {
    "duration": 3588,
    "start_time": "2023-05-12T08:54:57.065Z"
   },
   {
    "duration": 215,
    "start_time": "2023-05-12T08:56:16.998Z"
   },
   {
    "duration": 175,
    "start_time": "2023-05-12T08:58:50.559Z"
   },
   {
    "duration": 196,
    "start_time": "2023-05-12T08:58:58.225Z"
   },
   {
    "duration": 137,
    "start_time": "2023-05-12T08:59:42.965Z"
   },
   {
    "duration": 106,
    "start_time": "2023-05-12T09:02:12.015Z"
   },
   {
    "duration": 241,
    "start_time": "2023-05-12T09:02:22.162Z"
   },
   {
    "duration": 269,
    "start_time": "2023-05-12T09:02:41.636Z"
   },
   {
    "duration": 308,
    "start_time": "2023-05-12T09:02:54.578Z"
   },
   {
    "duration": 261,
    "start_time": "2023-05-12T09:02:59.459Z"
   },
   {
    "duration": 260,
    "start_time": "2023-05-12T09:04:37.782Z"
   },
   {
    "duration": 265,
    "start_time": "2023-05-12T09:04:43.143Z"
   },
   {
    "duration": 221,
    "start_time": "2023-05-12T09:04:57.323Z"
   },
   {
    "duration": 277,
    "start_time": "2023-05-12T09:05:05.770Z"
   },
   {
    "duration": 93,
    "start_time": "2023-05-12T11:26:46.278Z"
   },
   {
    "duration": 243,
    "start_time": "2023-05-12T11:28:41.906Z"
   },
   {
    "duration": 239,
    "start_time": "2023-05-12T11:28:48.210Z"
   },
   {
    "duration": 276,
    "start_time": "2023-05-12T11:29:03.517Z"
   },
   {
    "duration": 461,
    "start_time": "2023-05-12T11:29:37.417Z"
   },
   {
    "duration": 746,
    "start_time": "2023-05-12T11:29:43.142Z"
   },
   {
    "duration": 417,
    "start_time": "2023-05-12T11:30:12.566Z"
   },
   {
    "duration": 386,
    "start_time": "2023-05-12T11:30:21.779Z"
   },
   {
    "duration": 418,
    "start_time": "2023-05-12T11:30:41.242Z"
   },
   {
    "duration": 415,
    "start_time": "2023-05-12T11:30:48.488Z"
   },
   {
    "duration": 812,
    "start_time": "2023-05-12T11:31:13.800Z"
   },
   {
    "duration": 778,
    "start_time": "2023-05-12T11:31:33.893Z"
   },
   {
    "duration": 4,
    "start_time": "2023-05-12T11:32:42.553Z"
   },
   {
    "duration": 8,
    "start_time": "2023-05-12T11:32:44.544Z"
   },
   {
    "duration": 4,
    "start_time": "2023-05-12T11:33:45.860Z"
   },
   {
    "duration": 17,
    "start_time": "2023-05-12T11:33:51.390Z"
   },
   {
    "duration": 14,
    "start_time": "2023-05-12T11:34:00.096Z"
   },
   {
    "duration": 11,
    "start_time": "2023-05-12T11:34:04.955Z"
   },
   {
    "duration": 6,
    "start_time": "2023-05-12T11:34:10.747Z"
   },
   {
    "duration": 26,
    "start_time": "2023-05-12T11:34:12.298Z"
   },
   {
    "duration": 148,
    "start_time": "2023-05-12T11:34:26.833Z"
   },
   {
    "duration": 30,
    "start_time": "2023-05-12T11:34:26.983Z"
   },
   {
    "duration": 2105,
    "start_time": "2023-05-12T11:34:27.015Z"
   },
   {
    "duration": 4,
    "start_time": "2023-05-12T11:34:29.122Z"
   },
   {
    "duration": 8,
    "start_time": "2023-05-12T11:34:29.127Z"
   },
   {
    "duration": 17,
    "start_time": "2023-05-12T11:34:29.137Z"
   },
   {
    "duration": 9,
    "start_time": "2023-05-12T11:34:29.156Z"
   },
   {
    "duration": 50,
    "start_time": "2023-05-12T11:34:29.167Z"
   },
   {
    "duration": 267,
    "start_time": "2023-05-12T11:34:29.218Z"
   },
   {
    "duration": 30,
    "start_time": "2023-05-12T11:34:29.488Z"
   },
   {
    "duration": 6,
    "start_time": "2023-05-12T11:34:29.520Z"
   },
   {
    "duration": 41,
    "start_time": "2023-05-12T11:34:29.528Z"
   },
   {
    "duration": 91,
    "start_time": "2023-05-12T11:34:29.571Z"
   },
   {
    "duration": 7,
    "start_time": "2023-05-12T11:34:29.664Z"
   },
   {
    "duration": 105,
    "start_time": "2023-05-12T11:34:29.673Z"
   },
   {
    "duration": 778,
    "start_time": "2023-05-12T11:34:29.780Z"
   },
   {
    "duration": 7,
    "start_time": "2023-05-12T11:34:30.560Z"
   },
   {
    "duration": 11,
    "start_time": "2023-05-12T11:34:34.797Z"
   },
   {
    "duration": 17,
    "start_time": "2023-05-12T11:34:35.962Z"
   },
   {
    "duration": 8,
    "start_time": "2023-05-12T11:35:01.286Z"
   },
   {
    "duration": 153,
    "start_time": "2023-05-12T11:35:26.936Z"
   },
   {
    "duration": 30,
    "start_time": "2023-05-12T11:35:27.091Z"
   },
   {
    "duration": 2051,
    "start_time": "2023-05-12T11:35:27.122Z"
   },
   {
    "duration": 5,
    "start_time": "2023-05-12T11:35:29.175Z"
   },
   {
    "duration": 34,
    "start_time": "2023-05-12T11:35:29.183Z"
   },
   {
    "duration": 29,
    "start_time": "2023-05-12T11:35:29.219Z"
   },
   {
    "duration": 11,
    "start_time": "2023-05-12T11:35:29.249Z"
   },
   {
    "duration": 29,
    "start_time": "2023-05-12T11:35:29.262Z"
   },
   {
    "duration": 45,
    "start_time": "2023-05-12T11:35:29.294Z"
   },
   {
    "duration": 24,
    "start_time": "2023-05-12T11:35:29.341Z"
   },
   {
    "duration": 14,
    "start_time": "2023-05-12T11:35:29.367Z"
   },
   {
    "duration": 72,
    "start_time": "2023-05-12T11:35:29.399Z"
   },
   {
    "duration": 81,
    "start_time": "2023-05-12T11:35:29.472Z"
   },
   {
    "duration": 7,
    "start_time": "2023-05-12T11:35:29.556Z"
   },
   {
    "duration": 104,
    "start_time": "2023-05-12T11:35:29.565Z"
   },
   {
    "duration": 1117,
    "start_time": "2023-05-12T11:35:29.671Z"
   },
   {
    "duration": 5,
    "start_time": "2023-05-12T11:35:35.553Z"
   },
   {
    "duration": 19,
    "start_time": "2023-05-12T11:35:38.050Z"
   },
   {
    "duration": 8,
    "start_time": "2023-05-12T11:35:43.305Z"
   },
   {
    "duration": 242,
    "start_time": "2023-05-12T11:36:59.033Z"
   },
   {
    "duration": 242,
    "start_time": "2023-05-12T11:37:19.630Z"
   },
   {
    "duration": 249,
    "start_time": "2023-05-12T11:37:29.762Z"
   },
   {
    "duration": 248,
    "start_time": "2023-05-12T11:37:35.025Z"
   },
   {
    "duration": 465,
    "start_time": "2023-05-12T11:38:22.035Z"
   },
   {
    "duration": 498,
    "start_time": "2023-05-12T11:38:40.807Z"
   },
   {
    "duration": 445,
    "start_time": "2023-05-12T11:38:49.702Z"
   },
   {
    "duration": 770,
    "start_time": "2023-05-12T11:39:28.230Z"
   },
   {
    "duration": 20,
    "start_time": "2023-05-12T11:41:12.487Z"
   },
   {
    "duration": 9,
    "start_time": "2023-05-12T11:41:41.536Z"
   },
   {
    "duration": 563,
    "start_time": "2023-05-12T11:42:58.940Z"
   },
   {
    "duration": 260,
    "start_time": "2023-05-12T11:45:09.340Z"
   },
   {
    "duration": 516,
    "start_time": "2023-05-12T11:45:37.706Z"
   },
   {
    "duration": 789,
    "start_time": "2023-05-12T11:46:01.441Z"
   },
   {
    "duration": 1080,
    "start_time": "2023-05-12T11:52:36.807Z"
   },
   {
    "duration": 740,
    "start_time": "2023-05-12T11:52:47.664Z"
   },
   {
    "duration": 697,
    "start_time": "2023-05-12T11:52:52.252Z"
   },
   {
    "duration": 1482,
    "start_time": "2023-05-12T11:57:58.028Z"
   },
   {
    "duration": 10,
    "start_time": "2023-05-12T12:00:02.246Z"
   },
   {
    "duration": 7,
    "start_time": "2023-05-12T12:00:32.665Z"
   },
   {
    "duration": 20,
    "start_time": "2023-05-12T12:00:39.190Z"
   },
   {
    "duration": 14,
    "start_time": "2023-05-12T12:01:47.845Z"
   },
   {
    "duration": 968,
    "start_time": "2023-05-12T12:01:52.789Z"
   },
   {
    "duration": 13,
    "start_time": "2023-05-12T12:02:04.657Z"
   },
   {
    "duration": 158,
    "start_time": "2023-05-12T12:16:57.664Z"
   },
   {
    "duration": 16,
    "start_time": "2023-05-12T12:16:57.824Z"
   },
   {
    "duration": 2104,
    "start_time": "2023-05-12T12:16:57.841Z"
   },
   {
    "duration": 4,
    "start_time": "2023-05-12T12:16:59.947Z"
   },
   {
    "duration": 13,
    "start_time": "2023-05-12T12:16:59.954Z"
   },
   {
    "duration": 21,
    "start_time": "2023-05-12T12:16:59.969Z"
   },
   {
    "duration": 10,
    "start_time": "2023-05-12T12:16:59.997Z"
   },
   {
    "duration": 37,
    "start_time": "2023-05-12T12:17:00.009Z"
   },
   {
    "duration": 50,
    "start_time": "2023-05-12T12:17:00.049Z"
   },
   {
    "duration": 21,
    "start_time": "2023-05-12T12:17:00.101Z"
   },
   {
    "duration": 6,
    "start_time": "2023-05-12T12:17:00.123Z"
   },
   {
    "duration": 55,
    "start_time": "2023-05-12T12:17:00.131Z"
   },
   {
    "duration": 76,
    "start_time": "2023-05-12T12:17:00.188Z"
   },
   {
    "duration": 31,
    "start_time": "2023-05-12T12:17:00.268Z"
   },
   {
    "duration": 79,
    "start_time": "2023-05-12T12:17:00.301Z"
   },
   {
    "duration": 1107,
    "start_time": "2023-05-12T12:17:00.382Z"
   },
   {
    "duration": 7,
    "start_time": "2023-05-12T12:17:01.491Z"
   },
   {
    "duration": 36,
    "start_time": "2023-05-12T12:17:01.500Z"
   },
   {
    "duration": 553,
    "start_time": "2023-05-12T12:17:01.537Z"
   },
   {
    "duration": 7,
    "start_time": "2023-05-12T12:17:02.096Z"
   },
   {
    "duration": 1007,
    "start_time": "2023-05-12T12:17:02.105Z"
   },
   {
    "duration": 19,
    "start_time": "2023-05-12T12:17:08.394Z"
   },
   {
    "duration": 18,
    "start_time": "2023-05-12T12:19:47.773Z"
   },
   {
    "duration": 149,
    "start_time": "2023-05-12T12:20:04.984Z"
   },
   {
    "duration": 16,
    "start_time": "2023-05-12T12:20:05.135Z"
   },
   {
    "duration": 2462,
    "start_time": "2023-05-12T12:20:05.153Z"
   },
   {
    "duration": 4,
    "start_time": "2023-05-12T12:20:07.618Z"
   },
   {
    "duration": 11,
    "start_time": "2023-05-12T12:20:07.623Z"
   },
   {
    "duration": 19,
    "start_time": "2023-05-12T12:20:07.636Z"
   },
   {
    "duration": 9,
    "start_time": "2023-05-12T12:20:07.656Z"
   },
   {
    "duration": 37,
    "start_time": "2023-05-12T12:20:07.667Z"
   },
   {
    "duration": 29,
    "start_time": "2023-05-12T12:20:07.706Z"
   },
   {
    "duration": 19,
    "start_time": "2023-05-12T12:20:07.738Z"
   },
   {
    "duration": 6,
    "start_time": "2023-05-12T12:20:07.759Z"
   },
   {
    "duration": 68,
    "start_time": "2023-05-12T12:20:07.766Z"
   },
   {
    "duration": 72,
    "start_time": "2023-05-12T12:20:07.836Z"
   },
   {
    "duration": 6,
    "start_time": "2023-05-12T12:20:07.909Z"
   },
   {
    "duration": 88,
    "start_time": "2023-05-12T12:20:07.917Z"
   },
   {
    "duration": 762,
    "start_time": "2023-05-12T12:20:08.007Z"
   },
   {
    "duration": 5,
    "start_time": "2023-05-12T12:20:08.771Z"
   },
   {
    "duration": 22,
    "start_time": "2023-05-12T12:20:08.778Z"
   },
   {
    "duration": 476,
    "start_time": "2023-05-12T12:20:08.802Z"
   },
   {
    "duration": 6,
    "start_time": "2023-05-12T12:20:09.280Z"
   },
   {
    "duration": 1004,
    "start_time": "2023-05-12T12:20:09.298Z"
   },
   {
    "duration": 20,
    "start_time": "2023-05-12T12:20:12.339Z"
   },
   {
    "duration": 21,
    "start_time": "2023-05-12T12:20:28.217Z"
   },
   {
    "duration": 20,
    "start_time": "2023-05-12T12:20:59.064Z"
   },
   {
    "duration": 24,
    "start_time": "2023-05-12T12:22:15.093Z"
   },
   {
    "duration": 160,
    "start_time": "2023-05-12T12:22:21.499Z"
   },
   {
    "duration": 16,
    "start_time": "2023-05-12T12:22:21.662Z"
   },
   {
    "duration": 2434,
    "start_time": "2023-05-12T12:22:21.680Z"
   },
   {
    "duration": 5,
    "start_time": "2023-05-12T12:22:24.116Z"
   },
   {
    "duration": 23,
    "start_time": "2023-05-12T12:22:24.123Z"
   },
   {
    "duration": 26,
    "start_time": "2023-05-12T12:22:24.148Z"
   },
   {
    "duration": 31,
    "start_time": "2023-05-12T12:22:24.176Z"
   },
   {
    "duration": 35,
    "start_time": "2023-05-12T12:22:24.209Z"
   },
   {
    "duration": 35,
    "start_time": "2023-05-12T12:22:24.246Z"
   },
   {
    "duration": 30,
    "start_time": "2023-05-12T12:22:24.283Z"
   },
   {
    "duration": 5,
    "start_time": "2023-05-12T12:22:24.315Z"
   },
   {
    "duration": 45,
    "start_time": "2023-05-12T12:22:24.322Z"
   },
   {
    "duration": 87,
    "start_time": "2023-05-12T12:22:24.369Z"
   },
   {
    "duration": 9,
    "start_time": "2023-05-12T12:22:24.459Z"
   },
   {
    "duration": 107,
    "start_time": "2023-05-12T12:22:24.470Z"
   },
   {
    "duration": 782,
    "start_time": "2023-05-12T12:22:24.579Z"
   },
   {
    "duration": 6,
    "start_time": "2023-05-12T12:22:25.363Z"
   },
   {
    "duration": 12,
    "start_time": "2023-05-12T12:22:25.370Z"
   },
   {
    "duration": 550,
    "start_time": "2023-05-12T12:22:25.384Z"
   },
   {
    "duration": 19,
    "start_time": "2023-05-12T12:22:25.936Z"
   },
   {
    "duration": 1110,
    "start_time": "2023-05-12T12:22:25.957Z"
   },
   {
    "duration": 23,
    "start_time": "2023-05-12T12:22:30.932Z"
   },
   {
    "duration": 22,
    "start_time": "2023-05-12T12:23:07.241Z"
   },
   {
    "duration": 44,
    "start_time": "2023-05-12T12:24:10.234Z"
   },
   {
    "duration": 162,
    "start_time": "2023-05-12T12:24:14.492Z"
   },
   {
    "duration": 17,
    "start_time": "2023-05-12T12:24:14.656Z"
   },
   {
    "duration": 2798,
    "start_time": "2023-05-12T12:24:14.675Z"
   },
   {
    "duration": 8,
    "start_time": "2023-05-12T12:24:17.476Z"
   },
   {
    "duration": 8,
    "start_time": "2023-05-12T12:24:17.499Z"
   },
   {
    "duration": 29,
    "start_time": "2023-05-12T12:24:17.510Z"
   },
   {
    "duration": 17,
    "start_time": "2023-05-12T12:24:17.542Z"
   },
   {
    "duration": 76,
    "start_time": "2023-05-12T12:24:17.561Z"
   },
   {
    "duration": 35,
    "start_time": "2023-05-12T12:24:17.640Z"
   },
   {
    "duration": 23,
    "start_time": "2023-05-12T12:24:17.698Z"
   },
   {
    "duration": 7,
    "start_time": "2023-05-12T12:24:17.723Z"
   },
   {
    "duration": 67,
    "start_time": "2023-05-12T12:24:17.732Z"
   },
   {
    "duration": 77,
    "start_time": "2023-05-12T12:24:17.801Z"
   },
   {
    "duration": 8,
    "start_time": "2023-05-12T12:24:17.897Z"
   },
   {
    "duration": 97,
    "start_time": "2023-05-12T12:24:17.906Z"
   },
   {
    "duration": 798,
    "start_time": "2023-05-12T12:24:18.004Z"
   },
   {
    "duration": 7,
    "start_time": "2023-05-12T12:24:18.804Z"
   },
   {
    "duration": 9,
    "start_time": "2023-05-12T12:24:18.813Z"
   },
   {
    "duration": 530,
    "start_time": "2023-05-12T12:24:18.824Z"
   },
   {
    "duration": 55,
    "start_time": "2023-05-12T12:24:19.356Z"
   },
   {
    "duration": 1107,
    "start_time": "2023-05-12T12:24:19.414Z"
   },
   {
    "duration": 23,
    "start_time": "2023-05-12T12:24:22.956Z"
   },
   {
    "duration": 25,
    "start_time": "2023-05-12T12:25:20.221Z"
   },
   {
    "duration": 21,
    "start_time": "2023-05-12T12:25:26.184Z"
   },
   {
    "duration": 23,
    "start_time": "2023-05-12T12:25:32.101Z"
   },
   {
    "duration": 22,
    "start_time": "2023-05-12T12:25:32.896Z"
   },
   {
    "duration": 161,
    "start_time": "2023-05-12T12:25:40.339Z"
   },
   {
    "duration": 19,
    "start_time": "2023-05-12T12:25:40.502Z"
   },
   {
    "duration": 2602,
    "start_time": "2023-05-12T12:25:40.524Z"
   },
   {
    "duration": 5,
    "start_time": "2023-05-12T12:25:43.128Z"
   },
   {
    "duration": 15,
    "start_time": "2023-05-12T12:25:43.136Z"
   },
   {
    "duration": 17,
    "start_time": "2023-05-12T12:25:43.153Z"
   },
   {
    "duration": 26,
    "start_time": "2023-05-12T12:25:43.171Z"
   },
   {
    "duration": 37,
    "start_time": "2023-05-12T12:25:43.199Z"
   },
   {
    "duration": 33,
    "start_time": "2023-05-12T12:25:43.238Z"
   },
   {
    "duration": 31,
    "start_time": "2023-05-12T12:25:43.273Z"
   },
   {
    "duration": 6,
    "start_time": "2023-05-12T12:25:43.306Z"
   },
   {
    "duration": 55,
    "start_time": "2023-05-12T12:25:43.314Z"
   },
   {
    "duration": 86,
    "start_time": "2023-05-12T12:25:43.371Z"
   },
   {
    "duration": 6,
    "start_time": "2023-05-12T12:25:43.460Z"
   },
   {
    "duration": 90,
    "start_time": "2023-05-12T12:25:43.468Z"
   },
   {
    "duration": 838,
    "start_time": "2023-05-12T12:25:43.560Z"
   },
   {
    "duration": 5,
    "start_time": "2023-05-12T12:25:44.400Z"
   },
   {
    "duration": 26,
    "start_time": "2023-05-12T12:25:44.407Z"
   },
   {
    "duration": 514,
    "start_time": "2023-05-12T12:25:44.435Z"
   },
   {
    "duration": 19,
    "start_time": "2023-05-12T12:25:44.950Z"
   },
   {
    "duration": 1021,
    "start_time": "2023-05-12T12:25:44.970Z"
   },
   {
    "duration": 48,
    "start_time": "2023-05-12T12:25:47.838Z"
   },
   {
    "duration": 175,
    "start_time": "2023-05-12T12:26:02.542Z"
   },
   {
    "duration": 17,
    "start_time": "2023-05-12T12:26:02.719Z"
   },
   {
    "duration": 2274,
    "start_time": "2023-05-12T12:26:02.738Z"
   },
   {
    "duration": 5,
    "start_time": "2023-05-12T12:26:05.015Z"
   },
   {
    "duration": 16,
    "start_time": "2023-05-12T12:26:05.021Z"
   },
   {
    "duration": 12,
    "start_time": "2023-05-12T12:26:05.039Z"
   },
   {
    "duration": 11,
    "start_time": "2023-05-12T12:26:05.053Z"
   },
   {
    "duration": 48,
    "start_time": "2023-05-12T12:26:05.066Z"
   },
   {
    "duration": 36,
    "start_time": "2023-05-12T12:26:05.116Z"
   },
   {
    "duration": 21,
    "start_time": "2023-05-12T12:26:05.155Z"
   },
   {
    "duration": 8,
    "start_time": "2023-05-12T12:26:05.199Z"
   },
   {
    "duration": 58,
    "start_time": "2023-05-12T12:26:05.209Z"
   },
   {
    "duration": 71,
    "start_time": "2023-05-12T12:26:05.269Z"
   },
   {
    "duration": 8,
    "start_time": "2023-05-12T12:26:05.343Z"
   },
   {
    "duration": 116,
    "start_time": "2023-05-12T12:26:05.354Z"
   },
   {
    "duration": 1335,
    "start_time": "2023-05-12T12:26:05.473Z"
   },
   {
    "duration": 8,
    "start_time": "2023-05-12T12:26:06.810Z"
   },
   {
    "duration": 32,
    "start_time": "2023-05-12T12:26:06.821Z"
   },
   {
    "duration": 588,
    "start_time": "2023-05-12T12:26:06.857Z"
   },
   {
    "duration": 21,
    "start_time": "2023-05-12T12:26:07.447Z"
   },
   {
    "duration": 1058,
    "start_time": "2023-05-12T12:26:07.470Z"
   },
   {
    "duration": 24,
    "start_time": "2023-05-12T12:26:10.190Z"
   },
   {
    "duration": 18,
    "start_time": "2023-05-12T12:27:00.056Z"
   },
   {
    "duration": 22,
    "start_time": "2023-05-12T12:27:03.931Z"
   },
   {
    "duration": 162,
    "start_time": "2023-05-12T12:27:07.481Z"
   },
   {
    "duration": 20,
    "start_time": "2023-05-12T12:27:07.646Z"
   },
   {
    "duration": 2065,
    "start_time": "2023-05-12T12:27:07.668Z"
   },
   {
    "duration": 5,
    "start_time": "2023-05-12T12:27:09.737Z"
   },
   {
    "duration": 11,
    "start_time": "2023-05-12T12:27:09.743Z"
   },
   {
    "duration": 14,
    "start_time": "2023-05-12T12:27:09.756Z"
   },
   {
    "duration": 29,
    "start_time": "2023-05-12T12:27:09.771Z"
   },
   {
    "duration": 27,
    "start_time": "2023-05-12T12:27:09.802Z"
   },
   {
    "duration": 32,
    "start_time": "2023-05-12T12:27:09.831Z"
   },
   {
    "duration": 47,
    "start_time": "2023-05-12T12:27:09.866Z"
   },
   {
    "duration": 6,
    "start_time": "2023-05-12T12:27:09.915Z"
   },
   {
    "duration": 48,
    "start_time": "2023-05-12T12:27:09.922Z"
   },
   {
    "duration": 88,
    "start_time": "2023-05-12T12:27:09.972Z"
   },
   {
    "duration": 7,
    "start_time": "2023-05-12T12:27:10.061Z"
   },
   {
    "duration": 96,
    "start_time": "2023-05-12T12:27:10.070Z"
   },
   {
    "duration": 782,
    "start_time": "2023-05-12T12:27:10.167Z"
   },
   {
    "duration": 7,
    "start_time": "2023-05-12T12:27:10.950Z"
   },
   {
    "duration": 8,
    "start_time": "2023-05-12T12:27:10.959Z"
   },
   {
    "duration": 976,
    "start_time": "2023-05-12T12:27:10.969Z"
   },
   {
    "duration": 17,
    "start_time": "2023-05-12T12:27:11.946Z"
   },
   {
    "duration": 1011,
    "start_time": "2023-05-12T12:27:11.965Z"
   },
   {
    "duration": 20,
    "start_time": "2023-05-12T12:27:14.734Z"
   },
   {
    "duration": 22,
    "start_time": "2023-05-12T12:27:29.112Z"
   },
   {
    "duration": 24,
    "start_time": "2023-05-12T12:43:45.167Z"
   },
   {
    "duration": 998,
    "start_time": "2023-05-12T12:43:51.636Z"
   },
   {
    "duration": 53,
    "start_time": "2023-05-12T12:44:39.224Z"
   },
   {
    "duration": 1084,
    "start_time": "2023-05-12T12:44:47.614Z"
   },
   {
    "duration": 16,
    "start_time": "2023-05-12T12:44:48.700Z"
   },
   {
    "duration": 2128,
    "start_time": "2023-05-12T12:44:48.717Z"
   },
   {
    "duration": 5,
    "start_time": "2023-05-12T12:44:50.847Z"
   },
   {
    "duration": 24,
    "start_time": "2023-05-12T12:44:50.856Z"
   },
   {
    "duration": 15,
    "start_time": "2023-05-12T12:44:50.882Z"
   },
   {
    "duration": 12,
    "start_time": "2023-05-12T12:44:50.899Z"
   },
   {
    "duration": 53,
    "start_time": "2023-05-12T12:44:50.913Z"
   },
   {
    "duration": 33,
    "start_time": "2023-05-12T12:44:50.969Z"
   },
   {
    "duration": 22,
    "start_time": "2023-05-12T12:44:51.004Z"
   },
   {
    "duration": 7,
    "start_time": "2023-05-12T12:44:51.028Z"
   },
   {
    "duration": 67,
    "start_time": "2023-05-12T12:44:51.037Z"
   },
   {
    "duration": 75,
    "start_time": "2023-05-12T12:44:51.107Z"
   },
   {
    "duration": 8,
    "start_time": "2023-05-12T12:44:51.198Z"
   },
   {
    "duration": 103,
    "start_time": "2023-05-12T12:44:51.208Z"
   },
   {
    "duration": 812,
    "start_time": "2023-05-12T12:44:51.313Z"
   },
   {
    "duration": 5,
    "start_time": "2023-05-12T12:44:52.127Z"
   },
   {
    "duration": 16,
    "start_time": "2023-05-12T12:44:52.134Z"
   },
   {
    "duration": 589,
    "start_time": "2023-05-12T12:44:52.152Z"
   },
   {
    "duration": 20,
    "start_time": "2023-05-12T12:44:52.743Z"
   },
   {
    "duration": 1086,
    "start_time": "2023-05-12T12:44:52.764Z"
   },
   {
    "duration": 28,
    "start_time": "2023-05-12T12:44:56.660Z"
   },
   {
    "duration": 71,
    "start_time": "2023-05-12T12:45:49.504Z"
   },
   {
    "duration": 33,
    "start_time": "2023-05-12T12:46:16.907Z"
   },
   {
    "duration": 36,
    "start_time": "2023-05-12T12:46:20.511Z"
   },
   {
    "duration": 4,
    "start_time": "2023-05-12T12:46:23.944Z"
   },
   {
    "duration": 14,
    "start_time": "2023-05-12T12:46:27.445Z"
   },
   {
    "duration": 21,
    "start_time": "2023-05-12T12:54:37.550Z"
   },
   {
    "duration": 1394,
    "start_time": "2023-05-12T12:55:03.289Z"
   },
   {
    "duration": 15,
    "start_time": "2023-05-12T12:55:11.532Z"
   },
   {
    "duration": 20,
    "start_time": "2023-05-12T12:55:56.400Z"
   },
   {
    "duration": 15,
    "start_time": "2023-05-12T13:02:16.661Z"
   },
   {
    "duration": 157,
    "start_time": "2023-05-12T13:02:25.621Z"
   },
   {
    "duration": 17,
    "start_time": "2023-05-12T13:02:25.780Z"
   },
   {
    "duration": 2201,
    "start_time": "2023-05-12T13:02:25.799Z"
   },
   {
    "duration": 5,
    "start_time": "2023-05-12T13:02:28.002Z"
   },
   {
    "duration": 21,
    "start_time": "2023-05-12T13:02:28.010Z"
   },
   {
    "duration": 52,
    "start_time": "2023-05-12T13:02:28.033Z"
   },
   {
    "duration": 14,
    "start_time": "2023-05-12T13:02:28.086Z"
   },
   {
    "duration": 36,
    "start_time": "2023-05-12T13:02:28.102Z"
   },
   {
    "duration": 135,
    "start_time": "2023-05-12T13:02:28.141Z"
   },
   {
    "duration": 26,
    "start_time": "2023-05-12T13:02:28.280Z"
   },
   {
    "duration": 6,
    "start_time": "2023-05-12T13:02:28.307Z"
   },
   {
    "duration": 44,
    "start_time": "2023-05-12T13:02:28.314Z"
   },
   {
    "duration": 88,
    "start_time": "2023-05-12T13:02:28.360Z"
   },
   {
    "duration": 6,
    "start_time": "2023-05-12T13:02:28.450Z"
   },
   {
    "duration": 97,
    "start_time": "2023-05-12T13:02:28.458Z"
   },
   {
    "duration": 784,
    "start_time": "2023-05-12T13:02:28.557Z"
   },
   {
    "duration": 6,
    "start_time": "2023-05-12T13:02:29.343Z"
   },
   {
    "duration": 20,
    "start_time": "2023-05-12T13:02:29.350Z"
   },
   {
    "duration": 500,
    "start_time": "2023-05-12T13:02:29.372Z"
   },
   {
    "duration": 29,
    "start_time": "2023-05-12T13:02:29.874Z"
   },
   {
    "duration": 1203,
    "start_time": "2023-05-12T13:02:29.905Z"
   },
   {
    "duration": 14,
    "start_time": "2023-05-12T13:02:43.560Z"
   },
   {
    "duration": 273,
    "start_time": "2023-05-12T13:02:54.850Z"
   },
   {
    "duration": 36,
    "start_time": "2023-05-12T13:03:11.014Z"
   },
   {
    "duration": 17,
    "start_time": "2023-05-12T13:03:23.705Z"
   },
   {
    "duration": 31,
    "start_time": "2023-05-12T13:04:11.191Z"
   },
   {
    "duration": 144,
    "start_time": "2023-05-12T13:04:17.219Z"
   },
   {
    "duration": 14,
    "start_time": "2023-05-12T13:04:17.365Z"
   },
   {
    "duration": 2084,
    "start_time": "2023-05-12T13:04:17.381Z"
   },
   {
    "duration": 5,
    "start_time": "2023-05-12T13:04:19.467Z"
   },
   {
    "duration": 9,
    "start_time": "2023-05-12T13:04:19.473Z"
   },
   {
    "duration": 21,
    "start_time": "2023-05-12T13:04:19.484Z"
   },
   {
    "duration": 11,
    "start_time": "2023-05-12T13:04:19.506Z"
   },
   {
    "duration": 26,
    "start_time": "2023-05-12T13:04:19.519Z"
   },
   {
    "duration": 55,
    "start_time": "2023-05-12T13:04:19.547Z"
   },
   {
    "duration": 22,
    "start_time": "2023-05-12T13:04:19.605Z"
   },
   {
    "duration": 7,
    "start_time": "2023-05-12T13:04:19.629Z"
   },
   {
    "duration": 64,
    "start_time": "2023-05-12T13:04:19.637Z"
   },
   {
    "duration": 63,
    "start_time": "2023-05-12T13:04:19.703Z"
   },
   {
    "duration": 6,
    "start_time": "2023-05-12T13:04:19.768Z"
   },
   {
    "duration": 96,
    "start_time": "2023-05-12T13:04:19.775Z"
   },
   {
    "duration": 890,
    "start_time": "2023-05-12T13:04:19.873Z"
   },
   {
    "duration": 5,
    "start_time": "2023-05-12T13:04:20.765Z"
   },
   {
    "duration": 12,
    "start_time": "2023-05-12T13:04:20.772Z"
   },
   {
    "duration": 469,
    "start_time": "2023-05-12T13:04:20.786Z"
   },
   {
    "duration": 17,
    "start_time": "2023-05-12T13:04:21.257Z"
   },
   {
    "duration": 1198,
    "start_time": "2023-05-12T13:04:21.276Z"
   },
   {
    "duration": 39,
    "start_time": "2023-05-12T13:04:25.433Z"
   },
   {
    "duration": 29,
    "start_time": "2023-05-12T13:04:41.016Z"
   },
   {
    "duration": 20,
    "start_time": "2023-05-12T13:05:14.815Z"
   },
   {
    "duration": 19,
    "start_time": "2023-05-12T13:05:18.961Z"
   },
   {
    "duration": 19,
    "start_time": "2023-05-12T13:05:19.950Z"
   },
   {
    "duration": 150,
    "start_time": "2023-05-12T13:05:24.470Z"
   },
   {
    "duration": 14,
    "start_time": "2023-05-12T13:05:24.622Z"
   },
   {
    "duration": 2065,
    "start_time": "2023-05-12T13:05:24.637Z"
   },
   {
    "duration": 4,
    "start_time": "2023-05-12T13:05:26.704Z"
   },
   {
    "duration": 10,
    "start_time": "2023-05-12T13:05:26.709Z"
   },
   {
    "duration": 13,
    "start_time": "2023-05-12T13:05:26.721Z"
   },
   {
    "duration": 9,
    "start_time": "2023-05-12T13:05:26.735Z"
   },
   {
    "duration": 56,
    "start_time": "2023-05-12T13:05:26.746Z"
   },
   {
    "duration": 230,
    "start_time": "2023-05-12T13:05:26.804Z"
   },
   {
    "duration": 25,
    "start_time": "2023-05-12T13:05:27.038Z"
   },
   {
    "duration": 7,
    "start_time": "2023-05-12T13:05:27.066Z"
   },
   {
    "duration": 71,
    "start_time": "2023-05-12T13:05:27.074Z"
   },
   {
    "duration": 94,
    "start_time": "2023-05-12T13:05:27.147Z"
   },
   {
    "duration": 7,
    "start_time": "2023-05-12T13:05:27.242Z"
   },
   {
    "duration": 93,
    "start_time": "2023-05-12T13:05:27.250Z"
   },
   {
    "duration": 767,
    "start_time": "2023-05-12T13:05:27.344Z"
   },
   {
    "duration": 5,
    "start_time": "2023-05-12T13:05:28.114Z"
   },
   {
    "duration": 19,
    "start_time": "2023-05-12T13:05:28.121Z"
   },
   {
    "duration": 449,
    "start_time": "2023-05-12T13:05:28.142Z"
   },
   {
    "duration": 18,
    "start_time": "2023-05-12T13:05:28.597Z"
   },
   {
    "duration": 139,
    "start_time": "2023-05-12T13:05:29.689Z"
   },
   {
    "duration": 14,
    "start_time": "2023-05-12T13:05:29.830Z"
   },
   {
    "duration": 1811,
    "start_time": "2023-05-12T13:05:29.845Z"
   },
   {
    "duration": 4,
    "start_time": "2023-05-12T13:05:31.658Z"
   },
   {
    "duration": 23,
    "start_time": "2023-05-12T13:05:31.663Z"
   },
   {
    "duration": 41,
    "start_time": "2023-05-12T13:05:31.688Z"
   },
   {
    "duration": 30,
    "start_time": "2023-05-12T13:05:31.730Z"
   },
   {
    "duration": 48,
    "start_time": "2023-05-12T13:05:31.762Z"
   },
   {
    "duration": 234,
    "start_time": "2023-05-12T13:05:31.813Z"
   },
   {
    "duration": 20,
    "start_time": "2023-05-12T13:05:32.048Z"
   },
   {
    "duration": 35,
    "start_time": "2023-05-12T13:05:32.070Z"
   },
   {
    "duration": 55,
    "start_time": "2023-05-12T13:05:32.107Z"
   },
   {
    "duration": 59,
    "start_time": "2023-05-12T13:05:32.164Z"
   },
   {
    "duration": 5,
    "start_time": "2023-05-12T13:05:32.225Z"
   },
   {
    "duration": 83,
    "start_time": "2023-05-12T13:05:32.232Z"
   },
   {
    "duration": 748,
    "start_time": "2023-05-12T13:05:32.316Z"
   },
   {
    "duration": 5,
    "start_time": "2023-05-12T13:05:33.066Z"
   },
   {
    "duration": 26,
    "start_time": "2023-05-12T13:05:33.073Z"
   },
   {
    "duration": 480,
    "start_time": "2023-05-12T13:05:33.101Z"
   },
   {
    "duration": 30,
    "start_time": "2023-05-12T13:05:33.583Z"
   },
   {
    "duration": 1136,
    "start_time": "2023-05-12T13:05:33.615Z"
   },
   {
    "duration": 23,
    "start_time": "2023-05-12T13:05:40.198Z"
   },
   {
    "duration": 23,
    "start_time": "2023-05-12T13:05:43.950Z"
   },
   {
    "duration": 26,
    "start_time": "2023-05-12T13:05:44.971Z"
   },
   {
    "duration": 25,
    "start_time": "2023-05-12T13:05:45.530Z"
   },
   {
    "duration": 948,
    "start_time": "2023-05-12T13:05:47.730Z"
   },
   {
    "duration": 24,
    "start_time": "2023-05-12T13:05:50.706Z"
   },
   {
    "duration": 33,
    "start_time": "2023-05-12T13:05:58.594Z"
   },
   {
    "duration": 159,
    "start_time": "2023-05-12T13:06:27.904Z"
   },
   {
    "duration": 16,
    "start_time": "2023-05-12T13:06:28.066Z"
   },
   {
    "duration": 2201,
    "start_time": "2023-05-12T13:06:28.084Z"
   },
   {
    "duration": 11,
    "start_time": "2023-05-12T13:06:30.287Z"
   },
   {
    "duration": 45,
    "start_time": "2023-05-12T13:06:30.300Z"
   },
   {
    "duration": 30,
    "start_time": "2023-05-12T13:06:30.347Z"
   },
   {
    "duration": 35,
    "start_time": "2023-05-12T13:06:30.379Z"
   },
   {
    "duration": 74,
    "start_time": "2023-05-12T13:06:30.417Z"
   },
   {
    "duration": 36,
    "start_time": "2023-05-12T13:06:30.493Z"
   },
   {
    "duration": 31,
    "start_time": "2023-05-12T13:06:30.532Z"
   },
   {
    "duration": 29,
    "start_time": "2023-05-12T13:06:30.565Z"
   },
   {
    "duration": 68,
    "start_time": "2023-05-12T13:06:30.596Z"
   },
   {
    "duration": 70,
    "start_time": "2023-05-12T13:06:30.666Z"
   },
   {
    "duration": 7,
    "start_time": "2023-05-12T13:06:30.737Z"
   },
   {
    "duration": 95,
    "start_time": "2023-05-12T13:06:30.745Z"
   },
   {
    "duration": 742,
    "start_time": "2023-05-12T13:06:30.842Z"
   },
   {
    "duration": 12,
    "start_time": "2023-05-12T13:06:31.586Z"
   },
   {
    "duration": 37,
    "start_time": "2023-05-12T13:06:31.600Z"
   },
   {
    "duration": 514,
    "start_time": "2023-05-12T13:06:31.639Z"
   },
   {
    "duration": 24,
    "start_time": "2023-05-12T13:06:32.155Z"
   },
   {
    "duration": 1242,
    "start_time": "2023-05-12T13:06:39.961Z"
   },
   {
    "duration": 36,
    "start_time": "2023-05-12T13:06:49.834Z"
   },
   {
    "duration": 24,
    "start_time": "2023-05-12T13:06:55.055Z"
   },
   {
    "duration": 22,
    "start_time": "2023-05-12T13:07:23.255Z"
   },
   {
    "duration": 254,
    "start_time": "2023-05-12T13:08:23.119Z"
   },
   {
    "duration": 68,
    "start_time": "2023-05-12T13:09:16.994Z"
   },
   {
    "duration": 531,
    "start_time": "2023-05-12T13:09:27.153Z"
   },
   {
    "duration": 506,
    "start_time": "2023-05-12T13:09:38.925Z"
   },
   {
    "duration": 9,
    "start_time": "2023-05-12T13:11:09.460Z"
   },
   {
    "duration": 85,
    "start_time": "2023-05-12T13:11:19.297Z"
   },
   {
    "duration": 91,
    "start_time": "2023-05-12T13:11:23.811Z"
   },
   {
    "duration": 8,
    "start_time": "2023-05-12T13:11:34.055Z"
   },
   {
    "duration": 1394,
    "start_time": "2023-05-12T13:11:46.825Z"
   },
   {
    "duration": 8,
    "start_time": "2023-05-12T13:12:07.286Z"
   },
   {
    "duration": 485,
    "start_time": "2023-05-12T13:13:02.301Z"
   },
   {
    "duration": 9,
    "start_time": "2023-05-12T13:13:15.458Z"
   },
   {
    "duration": 10,
    "start_time": "2023-05-12T13:13:25.467Z"
   },
   {
    "duration": 6,
    "start_time": "2023-05-12T13:14:15.456Z"
   },
   {
    "duration": 10,
    "start_time": "2023-05-12T13:14:54.355Z"
   },
   {
    "duration": 30,
    "start_time": "2023-05-12T13:15:03.479Z"
   },
   {
    "duration": 18,
    "start_time": "2023-05-12T13:15:12.045Z"
   },
   {
    "duration": 167,
    "start_time": "2023-05-12T13:15:17.095Z"
   },
   {
    "duration": 17,
    "start_time": "2023-05-12T13:15:17.264Z"
   },
   {
    "duration": 2224,
    "start_time": "2023-05-12T13:15:17.283Z"
   },
   {
    "duration": 4,
    "start_time": "2023-05-12T13:15:19.508Z"
   },
   {
    "duration": 12,
    "start_time": "2023-05-12T13:15:19.515Z"
   },
   {
    "duration": 23,
    "start_time": "2023-05-12T13:15:19.529Z"
   },
   {
    "duration": 10,
    "start_time": "2023-05-12T13:15:19.554Z"
   },
   {
    "duration": 33,
    "start_time": "2023-05-12T13:15:19.566Z"
   },
   {
    "duration": 29,
    "start_time": "2023-05-12T13:15:19.601Z"
   },
   {
    "duration": 19,
    "start_time": "2023-05-12T13:15:19.632Z"
   },
   {
    "duration": 5,
    "start_time": "2023-05-12T13:15:19.653Z"
   },
   {
    "duration": 64,
    "start_time": "2023-05-12T13:15:19.660Z"
   },
   {
    "duration": 60,
    "start_time": "2023-05-12T13:15:19.725Z"
   },
   {
    "duration": 8,
    "start_time": "2023-05-12T13:15:19.799Z"
   },
   {
    "duration": 74,
    "start_time": "2023-05-12T13:15:19.809Z"
   },
   {
    "duration": 696,
    "start_time": "2023-05-12T13:15:19.885Z"
   },
   {
    "duration": 14,
    "start_time": "2023-05-12T13:15:20.583Z"
   },
   {
    "duration": 7,
    "start_time": "2023-05-12T13:15:20.599Z"
   },
   {
    "duration": 454,
    "start_time": "2023-05-12T13:15:20.607Z"
   },
   {
    "duration": 19,
    "start_time": "2023-05-12T13:15:21.063Z"
   },
   {
    "duration": 1217,
    "start_time": "2023-05-12T13:15:21.096Z"
   },
   {
    "duration": 32,
    "start_time": "2023-05-12T13:15:22.314Z"
   },
   {
    "duration": 483,
    "start_time": "2023-05-12T13:15:22.347Z"
   },
   {
    "duration": 19,
    "start_time": "2023-05-12T13:15:53.042Z"
   },
   {
    "duration": 523,
    "start_time": "2023-05-12T13:17:32.626Z"
   },
   {
    "duration": 467,
    "start_time": "2023-05-12T13:17:38.274Z"
   },
   {
    "duration": 20,
    "start_time": "2023-05-12T13:19:04.501Z"
   },
   {
    "duration": 23,
    "start_time": "2023-05-12T13:21:28.394Z"
   },
   {
    "duration": 160,
    "start_time": "2023-05-12T13:21:52.044Z"
   },
   {
    "duration": 17,
    "start_time": "2023-05-12T13:21:52.206Z"
   },
   {
    "duration": 2372,
    "start_time": "2023-05-12T13:21:52.225Z"
   },
   {
    "duration": 5,
    "start_time": "2023-05-12T13:21:54.599Z"
   },
   {
    "duration": 13,
    "start_time": "2023-05-12T13:21:54.607Z"
   },
   {
    "duration": 15,
    "start_time": "2023-05-12T13:21:54.622Z"
   },
   {
    "duration": 12,
    "start_time": "2023-05-12T13:21:54.639Z"
   },
   {
    "duration": 51,
    "start_time": "2023-05-12T13:21:54.653Z"
   },
   {
    "duration": 33,
    "start_time": "2023-05-12T13:21:54.706Z"
   },
   {
    "duration": 19,
    "start_time": "2023-05-12T13:21:54.741Z"
   },
   {
    "duration": 25,
    "start_time": "2023-05-12T13:21:54.762Z"
   },
   {
    "duration": 46,
    "start_time": "2023-05-12T13:21:54.798Z"
   },
   {
    "duration": 82,
    "start_time": "2023-05-12T13:21:54.846Z"
   },
   {
    "duration": 6,
    "start_time": "2023-05-12T13:21:54.931Z"
   },
   {
    "duration": 88,
    "start_time": "2023-05-12T13:21:54.939Z"
   },
   {
    "duration": 776,
    "start_time": "2023-05-12T13:21:55.029Z"
   },
   {
    "duration": 5,
    "start_time": "2023-05-12T13:21:55.807Z"
   },
   {
    "duration": 11,
    "start_time": "2023-05-12T13:21:55.814Z"
   },
   {
    "duration": 471,
    "start_time": "2023-05-12T13:21:55.827Z"
   },
   {
    "duration": 20,
    "start_time": "2023-05-12T13:21:56.299Z"
   },
   {
    "duration": 1279,
    "start_time": "2023-05-12T13:21:56.321Z"
   },
   {
    "duration": 30,
    "start_time": "2023-05-12T13:21:57.602Z"
   },
   {
    "duration": 497,
    "start_time": "2023-05-12T13:21:57.634Z"
   },
   {
    "duration": 23,
    "start_time": "2023-05-12T13:22:00.461Z"
   },
   {
    "duration": 434,
    "start_time": "2023-05-12T13:22:27.714Z"
   },
   {
    "duration": 24,
    "start_time": "2023-05-12T13:22:43.597Z"
   },
   {
    "duration": 151,
    "start_time": "2023-05-12T13:22:56.936Z"
   },
   {
    "duration": 16,
    "start_time": "2023-05-12T13:22:57.089Z"
   },
   {
    "duration": 2013,
    "start_time": "2023-05-12T13:22:57.107Z"
   },
   {
    "duration": 5,
    "start_time": "2023-05-12T13:22:59.122Z"
   },
   {
    "duration": 10,
    "start_time": "2023-05-12T13:22:59.129Z"
   },
   {
    "duration": 16,
    "start_time": "2023-05-12T13:22:59.140Z"
   },
   {
    "duration": 10,
    "start_time": "2023-05-12T13:22:59.157Z"
   },
   {
    "duration": 40,
    "start_time": "2023-05-12T13:22:59.169Z"
   },
   {
    "duration": 337,
    "start_time": "2023-05-12T13:22:59.211Z"
   },
   {
    "duration": 20,
    "start_time": "2023-05-12T13:22:59.550Z"
   },
   {
    "duration": 6,
    "start_time": "2023-05-12T13:22:59.571Z"
   },
   {
    "duration": 52,
    "start_time": "2023-05-12T13:22:59.578Z"
   },
   {
    "duration": 77,
    "start_time": "2023-05-12T13:22:59.632Z"
   },
   {
    "duration": 6,
    "start_time": "2023-05-12T13:22:59.712Z"
   },
   {
    "duration": 85,
    "start_time": "2023-05-12T13:22:59.719Z"
   },
   {
    "duration": 756,
    "start_time": "2023-05-12T13:22:59.806Z"
   },
   {
    "duration": 6,
    "start_time": "2023-05-12T13:23:00.563Z"
   },
   {
    "duration": 46,
    "start_time": "2023-05-12T13:23:00.570Z"
   },
   {
    "duration": 507,
    "start_time": "2023-05-12T13:23:00.618Z"
   },
   {
    "duration": 19,
    "start_time": "2023-05-12T13:23:01.127Z"
   },
   {
    "duration": 1093,
    "start_time": "2023-05-12T13:23:01.148Z"
   },
   {
    "duration": 34,
    "start_time": "2023-05-12T13:23:02.242Z"
   },
   {
    "duration": 517,
    "start_time": "2023-05-12T13:23:02.278Z"
   },
   {
    "duration": 24,
    "start_time": "2023-05-12T13:23:02.796Z"
   },
   {
    "duration": 919,
    "start_time": "2023-05-12T13:23:02.821Z"
   },
   {
    "duration": 26,
    "start_time": "2023-05-12T13:23:09.842Z"
   },
   {
    "duration": 157,
    "start_time": "2023-05-12T13:23:44.441Z"
   },
   {
    "duration": 15,
    "start_time": "2023-05-12T13:23:44.600Z"
   },
   {
    "duration": 1790,
    "start_time": "2023-05-12T13:23:44.616Z"
   },
   {
    "duration": 4,
    "start_time": "2023-05-12T13:23:46.408Z"
   },
   {
    "duration": 7,
    "start_time": "2023-05-12T13:23:46.414Z"
   },
   {
    "duration": 15,
    "start_time": "2023-05-12T13:23:46.423Z"
   },
   {
    "duration": 8,
    "start_time": "2023-05-12T13:23:46.440Z"
   },
   {
    "duration": 25,
    "start_time": "2023-05-12T13:23:46.450Z"
   },
   {
    "duration": 45,
    "start_time": "2023-05-12T13:23:46.477Z"
   },
   {
    "duration": 18,
    "start_time": "2023-05-12T13:23:46.525Z"
   },
   {
    "duration": 4,
    "start_time": "2023-05-12T13:23:46.545Z"
   },
   {
    "duration": 60,
    "start_time": "2023-05-12T13:23:46.551Z"
   },
   {
    "duration": 59,
    "start_time": "2023-05-12T13:23:46.613Z"
   },
   {
    "duration": 5,
    "start_time": "2023-05-12T13:23:46.674Z"
   },
   {
    "duration": 70,
    "start_time": "2023-05-12T13:23:46.696Z"
   },
   {
    "duration": 752,
    "start_time": "2023-05-12T13:23:46.767Z"
   },
   {
    "duration": 5,
    "start_time": "2023-05-12T13:23:47.521Z"
   },
   {
    "duration": 22,
    "start_time": "2023-05-12T13:23:47.527Z"
   },
   {
    "duration": 437,
    "start_time": "2023-05-12T13:23:47.550Z"
   },
   {
    "duration": 23,
    "start_time": "2023-05-12T13:23:47.988Z"
   },
   {
    "duration": 1235,
    "start_time": "2023-05-12T13:23:48.012Z"
   },
   {
    "duration": 28,
    "start_time": "2023-05-12T13:23:49.248Z"
   },
   {
    "duration": 547,
    "start_time": "2023-05-12T13:23:49.278Z"
   },
   {
    "duration": 22,
    "start_time": "2023-05-12T13:23:53.029Z"
   },
   {
    "duration": 441,
    "start_time": "2023-05-12T13:24:11.493Z"
   },
   {
    "duration": 21,
    "start_time": "2023-05-12T13:24:15.194Z"
   },
   {
    "duration": 124,
    "start_time": "2023-05-12T13:29:52.897Z"
   },
   {
    "duration": 122,
    "start_time": "2023-05-12T13:29:59.192Z"
   },
   {
    "duration": 117,
    "start_time": "2023-05-12T13:30:20.592Z"
   },
   {
    "duration": 153,
    "start_time": "2023-05-12T13:30:24.723Z"
   },
   {
    "duration": 25,
    "start_time": "2023-05-12T13:30:24.878Z"
   },
   {
    "duration": 1981,
    "start_time": "2023-05-12T13:30:24.905Z"
   },
   {
    "duration": 11,
    "start_time": "2023-05-12T13:30:26.888Z"
   },
   {
    "duration": 10,
    "start_time": "2023-05-12T13:30:26.901Z"
   },
   {
    "duration": 13,
    "start_time": "2023-05-12T13:30:26.913Z"
   },
   {
    "duration": 10,
    "start_time": "2023-05-12T13:30:26.928Z"
   },
   {
    "duration": 26,
    "start_time": "2023-05-12T13:30:26.940Z"
   },
   {
    "duration": 55,
    "start_time": "2023-05-12T13:30:26.967Z"
   },
   {
    "duration": 20,
    "start_time": "2023-05-12T13:30:27.025Z"
   },
   {
    "duration": 6,
    "start_time": "2023-05-12T13:30:27.046Z"
   },
   {
    "duration": 57,
    "start_time": "2023-05-12T13:30:27.053Z"
   },
   {
    "duration": 61,
    "start_time": "2023-05-12T13:30:27.112Z"
   },
   {
    "duration": 23,
    "start_time": "2023-05-12T13:30:27.175Z"
   },
   {
    "duration": 77,
    "start_time": "2023-05-12T13:30:27.200Z"
   },
   {
    "duration": 1159,
    "start_time": "2023-05-12T13:30:27.279Z"
   },
   {
    "duration": 5,
    "start_time": "2023-05-12T13:30:28.439Z"
   },
   {
    "duration": 11,
    "start_time": "2023-05-12T13:30:28.446Z"
   },
   {
    "duration": 445,
    "start_time": "2023-05-12T13:30:28.458Z"
   },
   {
    "duration": 20,
    "start_time": "2023-05-12T13:30:28.904Z"
   },
   {
    "duration": 1015,
    "start_time": "2023-05-12T13:30:28.926Z"
   },
   {
    "duration": 30,
    "start_time": "2023-05-12T13:30:29.942Z"
   },
   {
    "duration": 476,
    "start_time": "2023-05-12T13:30:29.974Z"
   },
   {
    "duration": 23,
    "start_time": "2023-05-12T13:30:30.451Z"
   },
   {
    "duration": 105,
    "start_time": "2023-05-12T13:30:35.269Z"
   },
   {
    "duration": 131,
    "start_time": "2023-05-12T13:30:45.457Z"
   },
   {
    "duration": 239,
    "start_time": "2023-05-12T13:31:22.936Z"
   },
   {
    "duration": 328,
    "start_time": "2023-05-12T13:31:30.147Z"
   },
   {
    "duration": 354,
    "start_time": "2023-05-12T13:31:39.923Z"
   },
   {
    "duration": 345,
    "start_time": "2023-05-12T13:31:53.351Z"
   },
   {
    "duration": 24,
    "start_time": "2023-05-12T13:32:05.331Z"
   },
   {
    "duration": 5,
    "start_time": "2023-05-12T13:32:43.617Z"
   },
   {
    "duration": 5,
    "start_time": "2023-05-12T13:32:45.016Z"
   },
   {
    "duration": 6,
    "start_time": "2023-05-12T13:32:46.249Z"
   },
   {
    "duration": 6,
    "start_time": "2023-05-12T13:32:47.568Z"
   },
   {
    "duration": 324,
    "start_time": "2023-05-12T13:32:51.356Z"
   },
   {
    "duration": 6,
    "start_time": "2023-05-12T13:32:56.550Z"
   },
   {
    "duration": 27,
    "start_time": "2023-05-12T13:32:59.924Z"
   },
   {
    "duration": 12,
    "start_time": "2023-05-12T13:38:03.130Z"
   },
   {
    "duration": 8,
    "start_time": "2023-05-12T13:38:08.010Z"
   },
   {
    "duration": 7,
    "start_time": "2023-05-12T13:38:14.998Z"
   },
   {
    "duration": 8,
    "start_time": "2023-05-12T13:38:18.609Z"
   },
   {
    "duration": 8,
    "start_time": "2023-05-12T13:38:29.994Z"
   },
   {
    "duration": 13,
    "start_time": "2023-05-12T13:39:30.978Z"
   },
   {
    "duration": 11,
    "start_time": "2023-05-12T13:39:38.242Z"
   },
   {
    "duration": 10,
    "start_time": "2023-05-12T13:40:37.547Z"
   },
   {
    "duration": 9,
    "start_time": "2023-05-12T13:40:50.002Z"
   },
   {
    "duration": 13,
    "start_time": "2023-05-12T13:40:55.831Z"
   },
   {
    "duration": 25,
    "start_time": "2023-05-12T13:40:59.446Z"
   },
   {
    "duration": 91,
    "start_time": "2023-05-12T13:41:03.761Z"
   },
   {
    "duration": 10,
    "start_time": "2023-05-12T13:47:32.767Z"
   },
   {
    "duration": 99,
    "start_time": "2023-05-12T13:47:44.204Z"
   },
   {
    "duration": 643,
    "start_time": "2023-05-12T14:17:52.795Z"
   },
   {
    "duration": 121,
    "start_time": "2023-05-12T14:18:18.695Z"
   },
   {
    "duration": 234,
    "start_time": "2023-05-12T14:19:18.361Z"
   },
   {
    "duration": 467,
    "start_time": "2023-05-12T14:19:58.196Z"
   },
   {
    "duration": 469,
    "start_time": "2023-05-12T14:20:07.590Z"
   },
   {
    "duration": 525,
    "start_time": "2023-05-12T14:20:58.325Z"
   },
   {
    "duration": 803,
    "start_time": "2023-05-12T14:22:41.696Z"
   },
   {
    "duration": 936,
    "start_time": "2023-05-12T14:23:24.914Z"
   },
   {
    "duration": 135,
    "start_time": "2023-05-12T14:26:15.463Z"
   },
   {
    "duration": 1588,
    "start_time": "2023-05-12T14:26:21.947Z"
   },
   {
    "duration": 1326,
    "start_time": "2023-05-12T14:26:58.354Z"
   },
   {
    "duration": 1559,
    "start_time": "2023-05-12T14:27:42.114Z"
   },
   {
    "duration": 2061,
    "start_time": "2023-05-12T14:28:34.004Z"
   },
   {
    "duration": 300,
    "start_time": "2023-05-12T14:29:34.340Z"
   },
   {
    "duration": 1888,
    "start_time": "2023-05-12T14:29:38.753Z"
   },
   {
    "duration": 2521,
    "start_time": "2023-05-12T14:29:50.812Z"
   },
   {
    "duration": 1921,
    "start_time": "2023-05-12T14:30:24.992Z"
   },
   {
    "duration": 2659,
    "start_time": "2023-05-12T14:30:40.299Z"
   },
   {
    "duration": 2724,
    "start_time": "2023-05-12T14:32:12.252Z"
   },
   {
    "duration": 2474,
    "start_time": "2023-05-12T14:32:56.947Z"
   },
   {
    "duration": 3496,
    "start_time": "2023-05-12T14:34:13.304Z"
   },
   {
    "duration": 3855,
    "start_time": "2023-05-12T14:34:25.480Z"
   },
   {
    "duration": 3507,
    "start_time": "2023-05-12T14:34:37.102Z"
   },
   {
    "duration": 4045,
    "start_time": "2023-05-12T14:34:43.206Z"
   },
   {
    "duration": 4528,
    "start_time": "2023-05-12T14:36:01.492Z"
   },
   {
    "duration": 4818,
    "start_time": "2023-05-12T14:36:22.353Z"
   },
   {
    "duration": 4496,
    "start_time": "2023-05-12T14:36:37.591Z"
   },
   {
    "duration": 134,
    "start_time": "2023-05-12T14:37:28.491Z"
   },
   {
    "duration": 14,
    "start_time": "2023-05-12T14:37:28.627Z"
   },
   {
    "duration": 1827,
    "start_time": "2023-05-12T14:37:28.642Z"
   },
   {
    "duration": 5,
    "start_time": "2023-05-12T14:37:30.470Z"
   },
   {
    "duration": 42,
    "start_time": "2023-05-12T14:37:30.477Z"
   },
   {
    "duration": 47,
    "start_time": "2023-05-12T14:37:30.521Z"
   },
   {
    "duration": 31,
    "start_time": "2023-05-12T14:37:30.569Z"
   },
   {
    "duration": 47,
    "start_time": "2023-05-12T14:37:30.601Z"
   },
   {
    "duration": 70,
    "start_time": "2023-05-12T14:37:30.649Z"
   },
   {
    "duration": 24,
    "start_time": "2023-05-12T14:37:30.721Z"
   },
   {
    "duration": 17,
    "start_time": "2023-05-12T14:37:30.747Z"
   },
   {
    "duration": 74,
    "start_time": "2023-05-12T14:37:30.766Z"
   },
   {
    "duration": 81,
    "start_time": "2023-05-12T14:37:30.841Z"
   },
   {
    "duration": 5,
    "start_time": "2023-05-12T14:37:30.925Z"
   },
   {
    "duration": 113,
    "start_time": "2023-05-12T14:37:30.931Z"
   },
   {
    "duration": 729,
    "start_time": "2023-05-12T14:37:31.046Z"
   },
   {
    "duration": 6,
    "start_time": "2023-05-12T14:37:31.777Z"
   },
   {
    "duration": 52,
    "start_time": "2023-05-12T14:37:31.785Z"
   },
   {
    "duration": 469,
    "start_time": "2023-05-12T14:37:31.839Z"
   },
   {
    "duration": 17,
    "start_time": "2023-05-12T14:37:32.310Z"
   },
   {
    "duration": 1398,
    "start_time": "2023-05-12T14:37:32.329Z"
   },
   {
    "duration": 31,
    "start_time": "2023-05-12T14:37:33.728Z"
   },
   {
    "duration": 520,
    "start_time": "2023-05-12T14:37:33.760Z"
   },
   {
    "duration": 33,
    "start_time": "2023-05-12T14:37:34.281Z"
   },
   {
    "duration": 378,
    "start_time": "2023-05-12T14:37:34.316Z"
   },
   {
    "duration": 27,
    "start_time": "2023-05-12T14:37:34.697Z"
   },
   {
    "duration": 5,
    "start_time": "2023-05-12T14:37:34.726Z"
   },
   {
    "duration": 13,
    "start_time": "2023-05-12T14:37:34.732Z"
   },
   {
    "duration": 10,
    "start_time": "2023-05-12T14:37:34.746Z"
   },
   {
    "duration": 6,
    "start_time": "2023-05-12T14:37:34.758Z"
   },
   {
    "duration": 354,
    "start_time": "2023-05-12T14:37:34.765Z"
   },
   {
    "duration": 4,
    "start_time": "2023-05-12T14:37:35.121Z"
   },
   {
    "duration": 88,
    "start_time": "2023-05-12T14:37:37.675Z"
   },
   {
    "duration": 71,
    "start_time": "2023-05-12T14:37:55.246Z"
   },
   {
    "duration": 91,
    "start_time": "2023-05-12T14:37:59.741Z"
   },
   {
    "duration": 96,
    "start_time": "2023-05-12T14:38:05.552Z"
   },
   {
    "duration": 4430,
    "start_time": "2023-05-12T14:38:40.622Z"
   },
   {
    "duration": 4115,
    "start_time": "2023-05-12T14:39:31.919Z"
   },
   {
    "duration": 10,
    "start_time": "2023-05-12T14:40:51.412Z"
   },
   {
    "duration": 10,
    "start_time": "2023-05-12T14:41:19.318Z"
   },
   {
    "duration": 136,
    "start_time": "2023-05-12T14:41:22.720Z"
   },
   {
    "duration": 13,
    "start_time": "2023-05-12T14:41:22.858Z"
   },
   {
    "duration": 1829,
    "start_time": "2023-05-12T14:41:22.873Z"
   },
   {
    "duration": 4,
    "start_time": "2023-05-12T14:41:24.704Z"
   },
   {
    "duration": 10,
    "start_time": "2023-05-12T14:41:24.710Z"
   },
   {
    "duration": 10,
    "start_time": "2023-05-12T14:41:24.722Z"
   },
   {
    "duration": 8,
    "start_time": "2023-05-12T14:41:24.734Z"
   },
   {
    "duration": 23,
    "start_time": "2023-05-12T14:41:24.744Z"
   },
   {
    "duration": 48,
    "start_time": "2023-05-12T14:41:24.769Z"
   },
   {
    "duration": 17,
    "start_time": "2023-05-12T14:41:24.819Z"
   },
   {
    "duration": 4,
    "start_time": "2023-05-12T14:41:24.838Z"
   },
   {
    "duration": 56,
    "start_time": "2023-05-12T14:41:24.844Z"
   },
   {
    "duration": 58,
    "start_time": "2023-05-12T14:41:24.902Z"
   },
   {
    "duration": 6,
    "start_time": "2023-05-12T14:41:24.964Z"
   },
   {
    "duration": 87,
    "start_time": "2023-05-12T14:41:24.972Z"
   },
   {
    "duration": 706,
    "start_time": "2023-05-12T14:41:25.061Z"
   },
   {
    "duration": 5,
    "start_time": "2023-05-12T14:41:25.769Z"
   },
   {
    "duration": 10,
    "start_time": "2023-05-12T14:41:25.775Z"
   },
   {
    "duration": 438,
    "start_time": "2023-05-12T14:41:25.786Z"
   },
   {
    "duration": 20,
    "start_time": "2023-05-12T14:41:26.225Z"
   },
   {
    "duration": 1430,
    "start_time": "2023-05-12T14:41:26.247Z"
   },
   {
    "duration": 39,
    "start_time": "2023-05-12T14:41:27.678Z"
   },
   {
    "duration": 455,
    "start_time": "2023-05-12T14:41:27.719Z"
   },
   {
    "duration": 25,
    "start_time": "2023-05-12T14:41:28.176Z"
   },
   {
    "duration": 332,
    "start_time": "2023-05-12T14:41:28.202Z"
   },
   {
    "duration": 20,
    "start_time": "2023-05-12T14:41:28.535Z"
   },
   {
    "duration": 12,
    "start_time": "2023-05-12T14:41:28.557Z"
   },
   {
    "duration": 10,
    "start_time": "2023-05-12T14:41:28.570Z"
   },
   {
    "duration": 16,
    "start_time": "2023-05-12T14:41:28.581Z"
   },
   {
    "duration": 5,
    "start_time": "2023-05-12T14:41:28.599Z"
   },
   {
    "duration": 307,
    "start_time": "2023-05-12T14:41:28.605Z"
   },
   {
    "duration": 4,
    "start_time": "2023-05-12T14:41:28.914Z"
   },
   {
    "duration": 98,
    "start_time": "2023-05-12T14:41:28.919Z"
   },
   {
    "duration": 3875,
    "start_time": "2023-05-12T14:41:29.019Z"
   },
   {
    "duration": 9,
    "start_time": "2023-05-12T14:41:33.297Z"
   },
   {
    "duration": 10,
    "start_time": "2023-05-12T14:41:39.589Z"
   },
   {
    "duration": 147,
    "start_time": "2023-05-12T14:41:57.795Z"
   },
   {
    "duration": 3377,
    "start_time": "2023-05-12T14:42:07.837Z"
   },
   {
    "duration": 3983,
    "start_time": "2023-05-12T14:42:55.305Z"
   },
   {
    "duration": 4927,
    "start_time": "2023-05-12T14:44:07.709Z"
   },
   {
    "duration": 4366,
    "start_time": "2023-05-12T14:44:37.613Z"
   },
   {
    "duration": 4998,
    "start_time": "2023-05-12T14:46:18.894Z"
   },
   {
    "duration": 4857,
    "start_time": "2023-05-12T14:47:25.747Z"
   },
   {
    "duration": 5574,
    "start_time": "2023-05-12T14:48:04.336Z"
   },
   {
    "duration": 5013,
    "start_time": "2023-05-12T14:48:14.703Z"
   },
   {
    "duration": 5583,
    "start_time": "2023-05-12T14:48:57.388Z"
   },
   {
    "duration": 5671,
    "start_time": "2023-05-12T14:49:53.210Z"
   },
   {
    "duration": 5880,
    "start_time": "2023-05-12T14:50:30.335Z"
   },
   {
    "duration": 6667,
    "start_time": "2023-05-12T14:51:01.203Z"
   },
   {
    "duration": 6447,
    "start_time": "2023-05-12T14:52:40.010Z"
   },
   {
    "duration": 6081,
    "start_time": "2023-05-12T14:53:07.929Z"
   },
   {
    "duration": 7096,
    "start_time": "2023-05-12T15:07:32.203Z"
   },
   {
    "duration": 194,
    "start_time": "2023-05-12T15:11:24.618Z"
   },
   {
    "duration": 189,
    "start_time": "2023-05-12T15:18:02.836Z"
   },
   {
    "duration": 28,
    "start_time": "2023-05-12T15:18:06.923Z"
   },
   {
    "duration": 11,
    "start_time": "2023-05-12T15:18:10.411Z"
   },
   {
    "duration": 9,
    "start_time": "2023-05-12T15:19:45.023Z"
   },
   {
    "duration": 509,
    "start_time": "2023-05-12T15:22:15.712Z"
   },
   {
    "duration": 480,
    "start_time": "2023-05-12T15:23:05.124Z"
   },
   {
    "duration": 462,
    "start_time": "2023-05-12T15:23:22.629Z"
   },
   {
    "duration": 767,
    "start_time": "2023-05-12T15:23:58.699Z"
   },
   {
    "duration": 9,
    "start_time": "2023-05-12T15:24:35.041Z"
   },
   {
    "duration": 201,
    "start_time": "2023-05-12T15:29:59.319Z"
   },
   {
    "duration": 218,
    "start_time": "2023-05-12T15:31:11.299Z"
   },
   {
    "duration": 201,
    "start_time": "2023-05-12T15:31:48.375Z"
   },
   {
    "duration": 169,
    "start_time": "2023-05-12T15:31:58.657Z"
   },
   {
    "duration": 174,
    "start_time": "2023-05-12T15:32:04.667Z"
   },
   {
    "duration": 185,
    "start_time": "2023-05-12T15:32:43.448Z"
   },
   {
    "duration": 188,
    "start_time": "2023-05-12T15:32:49.262Z"
   },
   {
    "duration": 216,
    "start_time": "2023-05-12T15:33:35.374Z"
   },
   {
    "duration": 199,
    "start_time": "2023-05-12T15:34:05.651Z"
   },
   {
    "duration": 247,
    "start_time": "2023-05-12T15:34:27.233Z"
   },
   {
    "duration": 198,
    "start_time": "2023-05-12T15:34:42.107Z"
   },
   {
    "duration": 258,
    "start_time": "2023-05-12T15:34:56.632Z"
   },
   {
    "duration": 166,
    "start_time": "2023-05-12T15:35:56.353Z"
   },
   {
    "duration": 550,
    "start_time": "2023-05-12T15:36:00.732Z"
   },
   {
    "duration": 184,
    "start_time": "2023-05-12T15:36:07.996Z"
   },
   {
    "duration": 11,
    "start_time": "2023-05-12T15:41:11.634Z"
   },
   {
    "duration": 23,
    "start_time": "2023-05-12T15:41:19.741Z"
   },
   {
    "duration": 202,
    "start_time": "2023-05-12T15:42:03.408Z"
   },
   {
    "duration": 186,
    "start_time": "2023-05-12T15:42:15.919Z"
   },
   {
    "duration": 170,
    "start_time": "2023-05-12T15:45:18.363Z"
   },
   {
    "duration": 173,
    "start_time": "2023-05-12T15:45:27.544Z"
   },
   {
    "duration": 184,
    "start_time": "2023-05-12T15:45:30.291Z"
   },
   {
    "duration": 71,
    "start_time": "2023-05-12T15:48:36.339Z"
   },
   {
    "duration": 34,
    "start_time": "2023-05-12T15:51:16.407Z"
   },
   {
    "duration": 6,
    "start_time": "2023-05-12T15:51:44.079Z"
   },
   {
    "duration": 8,
    "start_time": "2023-05-12T15:51:56.603Z"
   },
   {
    "duration": 9,
    "start_time": "2023-05-12T15:52:30.991Z"
   },
   {
    "duration": 71,
    "start_time": "2023-05-12T16:06:07.542Z"
   },
   {
    "duration": 14,
    "start_time": "2023-05-12T16:06:46.198Z"
   },
   {
    "duration": 11,
    "start_time": "2023-05-12T16:06:54.443Z"
   },
   {
    "duration": 11,
    "start_time": "2023-05-12T16:07:38.843Z"
   },
   {
    "duration": 11,
    "start_time": "2023-05-12T16:08:29.123Z"
   },
   {
    "duration": 12,
    "start_time": "2023-05-12T16:09:09.286Z"
   },
   {
    "duration": 3594,
    "start_time": "2023-05-12T16:36:13.712Z"
   },
   {
    "duration": 240,
    "start_time": "2023-05-12T16:36:23.591Z"
   },
   {
    "duration": 135,
    "start_time": "2023-05-12T16:36:28.546Z"
   },
   {
    "duration": 26,
    "start_time": "2023-05-12T16:36:28.683Z"
   },
   {
    "duration": 1741,
    "start_time": "2023-05-12T16:36:28.710Z"
   },
   {
    "duration": 4,
    "start_time": "2023-05-12T16:36:30.453Z"
   },
   {
    "duration": 28,
    "start_time": "2023-05-12T16:36:30.458Z"
   },
   {
    "duration": 38,
    "start_time": "2023-05-12T16:36:30.488Z"
   },
   {
    "duration": 35,
    "start_time": "2023-05-12T16:36:30.528Z"
   },
   {
    "duration": 62,
    "start_time": "2023-05-12T16:36:30.564Z"
   },
   {
    "duration": 55,
    "start_time": "2023-05-12T16:36:30.628Z"
   },
   {
    "duration": 51,
    "start_time": "2023-05-12T16:36:30.686Z"
   },
   {
    "duration": 49,
    "start_time": "2023-05-12T16:36:30.738Z"
   },
   {
    "duration": 85,
    "start_time": "2023-05-12T16:36:30.789Z"
   },
   {
    "duration": 78,
    "start_time": "2023-05-12T16:36:30.876Z"
   },
   {
    "duration": 8,
    "start_time": "2023-05-12T16:36:30.957Z"
   },
   {
    "duration": 100,
    "start_time": "2023-05-12T16:36:30.967Z"
   },
   {
    "duration": 815,
    "start_time": "2023-05-12T16:36:31.069Z"
   },
   {
    "duration": 11,
    "start_time": "2023-05-12T16:36:31.886Z"
   },
   {
    "duration": 19,
    "start_time": "2023-05-12T16:36:31.899Z"
   },
   {
    "duration": 478,
    "start_time": "2023-05-12T16:36:31.920Z"
   },
   {
    "duration": 18,
    "start_time": "2023-05-12T16:36:32.399Z"
   },
   {
    "duration": 904,
    "start_time": "2023-05-12T16:36:32.419Z"
   },
   {
    "duration": 30,
    "start_time": "2023-05-12T16:36:33.325Z"
   },
   {
    "duration": 906,
    "start_time": "2023-05-12T16:36:33.357Z"
   },
   {
    "duration": 22,
    "start_time": "2023-05-12T16:36:34.264Z"
   },
   {
    "duration": 335,
    "start_time": "2023-05-12T16:36:34.288Z"
   },
   {
    "duration": 22,
    "start_time": "2023-05-12T16:36:34.624Z"
   },
   {
    "duration": 5,
    "start_time": "2023-05-12T16:36:34.647Z"
   },
   {
    "duration": 6,
    "start_time": "2023-05-12T16:36:34.654Z"
   },
   {
    "duration": 6,
    "start_time": "2023-05-12T16:36:34.662Z"
   },
   {
    "duration": 30,
    "start_time": "2023-05-12T16:36:34.669Z"
   },
   {
    "duration": 287,
    "start_time": "2023-05-12T16:36:34.700Z"
   },
   {
    "duration": 10,
    "start_time": "2023-05-12T16:36:34.988Z"
   },
   {
    "duration": 94,
    "start_time": "2023-05-12T16:36:34.999Z"
   },
   {
    "duration": 6427,
    "start_time": "2023-05-12T16:36:35.095Z"
   },
   {
    "duration": 742,
    "start_time": "2023-05-12T16:36:41.524Z"
   },
   {
    "duration": 9,
    "start_time": "2023-05-12T16:36:42.268Z"
   },
   {
    "duration": 199,
    "start_time": "2023-05-12T16:36:42.279Z"
   },
   {
    "duration": 185,
    "start_time": "2023-05-12T16:36:42.480Z"
   },
   {
    "duration": 181,
    "start_time": "2023-05-12T16:36:42.667Z"
   },
   {
    "duration": 181,
    "start_time": "2023-05-12T16:36:42.850Z"
   },
   {
    "duration": 195,
    "start_time": "2023-05-12T16:36:43.035Z"
   },
   {
    "duration": 184,
    "start_time": "2023-05-12T16:36:43.232Z"
   },
   {
    "duration": 186,
    "start_time": "2023-05-12T16:36:43.419Z"
   },
   {
    "duration": 206,
    "start_time": "2023-05-12T16:36:43.607Z"
   },
   {
    "duration": 27,
    "start_time": "2023-05-12T16:36:43.815Z"
   },
   {
    "duration": 6,
    "start_time": "2023-05-12T16:36:43.844Z"
   },
   {
    "duration": 13,
    "start_time": "2023-05-12T16:36:43.851Z"
   },
   {
    "duration": 10,
    "start_time": "2023-05-12T16:36:43.866Z"
   },
   {
    "duration": 32,
    "start_time": "2023-05-12T16:36:43.878Z"
   },
   {
    "duration": 229,
    "start_time": "2023-05-12T16:36:46.883Z"
   },
   {
    "duration": 241,
    "start_time": "2023-05-12T16:37:49.088Z"
   },
   {
    "duration": 106,
    "start_time": "2023-05-12T20:34:39.830Z"
   },
   {
    "duration": 1596,
    "start_time": "2023-05-13T15:35:29.288Z"
   },
   {
    "duration": 16,
    "start_time": "2023-05-13T15:35:30.887Z"
   },
   {
    "duration": 1971,
    "start_time": "2023-05-13T15:35:30.906Z"
   },
   {
    "duration": 4,
    "start_time": "2023-05-13T15:35:32.879Z"
   },
   {
    "duration": 15,
    "start_time": "2023-05-13T15:35:32.885Z"
   },
   {
    "duration": 11,
    "start_time": "2023-05-13T15:35:32.902Z"
   },
   {
    "duration": 12,
    "start_time": "2023-05-13T15:35:32.915Z"
   },
   {
    "duration": 30,
    "start_time": "2023-05-13T15:35:32.929Z"
   },
   {
    "duration": 29,
    "start_time": "2023-05-13T15:35:32.961Z"
   },
   {
    "duration": 37,
    "start_time": "2023-05-13T15:35:32.994Z"
   },
   {
    "duration": 7,
    "start_time": "2023-05-13T15:35:33.033Z"
   },
   {
    "duration": 42,
    "start_time": "2023-05-13T15:35:33.042Z"
   },
   {
    "duration": 83,
    "start_time": "2023-05-13T15:35:33.086Z"
   },
   {
    "duration": 7,
    "start_time": "2023-05-13T15:35:33.172Z"
   },
   {
    "duration": 90,
    "start_time": "2023-05-13T15:35:33.181Z"
   },
   {
    "duration": 673,
    "start_time": "2023-05-13T15:35:33.273Z"
   },
   {
    "duration": 5,
    "start_time": "2023-05-13T15:35:33.947Z"
   },
   {
    "duration": 10,
    "start_time": "2023-05-13T15:35:33.954Z"
   },
   {
    "duration": 556,
    "start_time": "2023-05-13T15:35:33.965Z"
   },
   {
    "duration": 25,
    "start_time": "2023-05-13T15:35:34.523Z"
   },
   {
    "duration": 1015,
    "start_time": "2023-05-13T15:35:34.550Z"
   },
   {
    "duration": 30,
    "start_time": "2023-05-13T15:35:35.567Z"
   },
   {
    "duration": 469,
    "start_time": "2023-05-13T15:35:35.599Z"
   },
   {
    "duration": 20,
    "start_time": "2023-05-13T15:35:36.069Z"
   },
   {
    "duration": 339,
    "start_time": "2023-05-13T15:35:36.091Z"
   },
   {
    "duration": 20,
    "start_time": "2023-05-13T15:35:36.431Z"
   },
   {
    "duration": 4,
    "start_time": "2023-05-13T15:35:36.453Z"
   },
   {
    "duration": 6,
    "start_time": "2023-05-13T15:35:36.461Z"
   },
   {
    "duration": 6,
    "start_time": "2023-05-13T15:35:36.469Z"
   },
   {
    "duration": 13,
    "start_time": "2023-05-13T15:35:36.477Z"
   },
   {
    "duration": 349,
    "start_time": "2023-05-13T15:35:36.518Z"
   },
   {
    "duration": 4,
    "start_time": "2023-05-13T15:35:36.868Z"
   },
   {
    "duration": 89,
    "start_time": "2023-05-13T15:35:36.874Z"
   },
   {
    "duration": 6014,
    "start_time": "2023-05-13T15:35:36.965Z"
   },
   {
    "duration": 665,
    "start_time": "2023-05-13T15:35:42.980Z"
   },
   {
    "duration": 10,
    "start_time": "2023-05-13T15:35:43.647Z"
   },
   {
    "duration": 209,
    "start_time": "2023-05-13T15:35:43.659Z"
   },
   {
    "duration": 183,
    "start_time": "2023-05-13T15:35:43.870Z"
   },
   {
    "duration": 298,
    "start_time": "2023-05-13T15:35:44.055Z"
   },
   {
    "duration": 214,
    "start_time": "2023-05-13T15:35:44.354Z"
   },
   {
    "duration": 257,
    "start_time": "2023-05-13T15:35:44.570Z"
   },
   {
    "duration": 192,
    "start_time": "2023-05-13T15:35:44.829Z"
   },
   {
    "duration": 224,
    "start_time": "2023-05-13T15:35:45.022Z"
   },
   {
    "duration": 191,
    "start_time": "2023-05-13T15:35:45.248Z"
   },
   {
    "duration": 27,
    "start_time": "2023-05-13T15:35:45.441Z"
   },
   {
    "duration": 7,
    "start_time": "2023-05-13T15:35:45.471Z"
   },
   {
    "duration": 18,
    "start_time": "2023-05-13T15:35:45.480Z"
   },
   {
    "duration": 42,
    "start_time": "2023-05-13T15:35:45.500Z"
   },
   {
    "duration": 18,
    "start_time": "2023-05-13T15:35:45.544Z"
   },
   {
    "duration": 266,
    "start_time": "2023-05-13T15:35:45.564Z"
   },
   {
    "duration": 2587,
    "start_time": "2023-05-13T15:36:11.721Z"
   },
   {
    "duration": 68,
    "start_time": "2023-05-13T15:37:07.706Z"
   },
   {
    "duration": 135,
    "start_time": "2023-05-13T15:41:33.320Z"
   },
   {
    "duration": 14,
    "start_time": "2023-05-13T15:41:33.457Z"
   },
   {
    "duration": 2011,
    "start_time": "2023-05-13T15:41:33.473Z"
   },
   {
    "duration": 9,
    "start_time": "2023-05-13T15:41:35.486Z"
   },
   {
    "duration": 22,
    "start_time": "2023-05-13T15:41:35.497Z"
   },
   {
    "duration": 11,
    "start_time": "2023-05-13T15:41:35.521Z"
   },
   {
    "duration": 8,
    "start_time": "2023-05-13T15:41:46.647Z"
   },
   {
    "duration": 28,
    "start_time": "2023-05-13T15:42:01.742Z"
   },
   {
    "duration": 70,
    "start_time": "2023-05-13T15:42:58.506Z"
   },
   {
    "duration": 8,
    "start_time": "2023-05-13T15:43:17.734Z"
   },
   {
    "duration": 24,
    "start_time": "2023-05-13T15:43:20.396Z"
   },
   {
    "duration": 198,
    "start_time": "2023-05-13T15:43:28.641Z"
   },
   {
    "duration": 21,
    "start_time": "2023-05-13T15:43:28.841Z"
   },
   {
    "duration": 2104,
    "start_time": "2023-05-13T15:43:28.864Z"
   },
   {
    "duration": 8,
    "start_time": "2023-05-13T15:43:30.970Z"
   },
   {
    "duration": 53,
    "start_time": "2023-05-13T15:43:30.980Z"
   },
   {
    "duration": 34,
    "start_time": "2023-05-13T15:43:31.035Z"
   },
   {
    "duration": 25,
    "start_time": "2023-05-13T15:43:31.072Z"
   },
   {
    "duration": 37,
    "start_time": "2023-05-13T15:43:34.877Z"
   },
   {
    "duration": 153,
    "start_time": "2023-05-13T15:43:44.042Z"
   },
   {
    "duration": 22,
    "start_time": "2023-05-13T15:43:44.197Z"
   },
   {
    "duration": 2026,
    "start_time": "2023-05-13T15:43:44.220Z"
   },
   {
    "duration": 4,
    "start_time": "2023-05-13T15:43:46.248Z"
   },
   {
    "duration": 6,
    "start_time": "2023-05-13T15:43:46.255Z"
   },
   {
    "duration": 22,
    "start_time": "2023-05-13T15:43:46.263Z"
   },
   {
    "duration": 8,
    "start_time": "2023-05-13T15:43:47.314Z"
   },
   {
    "duration": 30,
    "start_time": "2023-05-13T15:43:50.016Z"
   },
   {
    "duration": 145,
    "start_time": "2023-05-13T15:44:19.197Z"
   },
   {
    "duration": 14,
    "start_time": "2023-05-13T15:44:19.344Z"
   },
   {
    "duration": 2035,
    "start_time": "2023-05-13T15:44:19.359Z"
   },
   {
    "duration": 5,
    "start_time": "2023-05-13T15:44:21.397Z"
   },
   {
    "duration": 17,
    "start_time": "2023-05-13T15:44:21.404Z"
   },
   {
    "duration": 26,
    "start_time": "2023-05-13T15:44:21.423Z"
   },
   {
    "duration": 8,
    "start_time": "2023-05-13T15:44:21.451Z"
   },
   {
    "duration": 35,
    "start_time": "2023-05-13T15:44:21.461Z"
   },
   {
    "duration": 31,
    "start_time": "2023-05-13T15:44:21.498Z"
   },
   {
    "duration": 19,
    "start_time": "2023-05-13T15:44:21.532Z"
   },
   {
    "duration": 6,
    "start_time": "2023-05-13T15:44:21.554Z"
   },
   {
    "duration": 87,
    "start_time": "2023-05-13T15:44:21.562Z"
   },
   {
    "duration": 110,
    "start_time": "2023-05-13T15:44:21.651Z"
   },
   {
    "duration": 8,
    "start_time": "2023-05-13T15:44:21.763Z"
   },
   {
    "duration": 105,
    "start_time": "2023-05-13T15:44:21.772Z"
   },
   {
    "duration": 827,
    "start_time": "2023-05-13T15:46:23.638Z"
   },
   {
    "duration": 1150,
    "start_time": "2023-05-13T15:46:53.072Z"
   },
   {
    "duration": 965,
    "start_time": "2023-05-13T15:47:16.723Z"
   },
   {
    "duration": 86,
    "start_time": "2023-05-13T15:48:07.623Z"
   },
   {
    "duration": 82,
    "start_time": "2023-05-13T15:49:27.183Z"
   },
   {
    "duration": 138,
    "start_time": "2023-05-13T15:57:46.338Z"
   },
   {
    "duration": 18,
    "start_time": "2023-05-13T15:57:46.478Z"
   },
   {
    "duration": 1912,
    "start_time": "2023-05-13T15:57:46.498Z"
   },
   {
    "duration": 5,
    "start_time": "2023-05-13T15:57:48.417Z"
   },
   {
    "duration": 15,
    "start_time": "2023-05-13T15:57:48.424Z"
   },
   {
    "duration": 11,
    "start_time": "2023-05-13T15:57:48.440Z"
   },
   {
    "duration": 28,
    "start_time": "2023-05-13T15:57:48.453Z"
   },
   {
    "duration": 52,
    "start_time": "2023-05-13T15:57:48.483Z"
   },
   {
    "duration": 32,
    "start_time": "2023-05-13T15:57:48.537Z"
   },
   {
    "duration": 28,
    "start_time": "2023-05-13T15:57:48.572Z"
   },
   {
    "duration": 21,
    "start_time": "2023-05-13T15:57:48.602Z"
   },
   {
    "duration": 56,
    "start_time": "2023-05-13T15:57:48.625Z"
   },
   {
    "duration": 82,
    "start_time": "2023-05-13T15:57:48.683Z"
   },
   {
    "duration": 6,
    "start_time": "2023-05-13T15:57:48.767Z"
   },
   {
    "duration": 83,
    "start_time": "2023-05-13T15:57:48.775Z"
   },
   {
    "duration": 748,
    "start_time": "2023-05-13T15:57:48.860Z"
   },
   {
    "duration": 11,
    "start_time": "2023-05-13T15:57:49.609Z"
   },
   {
    "duration": 8,
    "start_time": "2023-05-13T15:57:49.622Z"
   },
   {
    "duration": 418,
    "start_time": "2023-05-13T15:57:49.631Z"
   },
   {
    "duration": 16,
    "start_time": "2023-05-13T15:57:50.051Z"
   },
   {
    "duration": 961,
    "start_time": "2023-05-13T15:57:50.068Z"
   },
   {
    "duration": 30,
    "start_time": "2023-05-13T15:57:51.031Z"
   },
   {
    "duration": 434,
    "start_time": "2023-05-13T15:57:51.063Z"
   },
   {
    "duration": 26,
    "start_time": "2023-05-13T15:57:51.499Z"
   },
   {
    "duration": 339,
    "start_time": "2023-05-13T15:57:51.528Z"
   },
   {
    "duration": 19,
    "start_time": "2023-05-13T15:57:51.869Z"
   },
   {
    "duration": 1465,
    "start_time": "2023-05-13T16:05:09.939Z"
   },
   {
    "duration": 134,
    "start_time": "2023-05-13T16:05:16.336Z"
   },
   {
    "duration": 14,
    "start_time": "2023-05-13T16:05:16.472Z"
   },
   {
    "duration": 1808,
    "start_time": "2023-05-13T16:05:16.488Z"
   },
   {
    "duration": 5,
    "start_time": "2023-05-13T16:05:18.298Z"
   },
   {
    "duration": 17,
    "start_time": "2023-05-13T16:05:18.304Z"
   },
   {
    "duration": 9,
    "start_time": "2023-05-13T16:05:18.322Z"
   },
   {
    "duration": 5,
    "start_time": "2023-05-13T16:05:18.333Z"
   },
   {
    "duration": 21,
    "start_time": "2023-05-13T16:05:18.339Z"
   },
   {
    "duration": 23,
    "start_time": "2023-05-13T16:05:18.362Z"
   },
   {
    "duration": 44,
    "start_time": "2023-05-13T16:05:18.388Z"
   },
   {
    "duration": 5,
    "start_time": "2023-05-13T16:05:18.433Z"
   },
   {
    "duration": 40,
    "start_time": "2023-05-13T16:05:18.439Z"
   },
   {
    "duration": 85,
    "start_time": "2023-05-13T16:05:18.481Z"
   },
   {
    "duration": 6,
    "start_time": "2023-05-13T16:05:18.568Z"
   },
   {
    "duration": 81,
    "start_time": "2023-05-13T16:05:18.576Z"
   },
   {
    "duration": 743,
    "start_time": "2023-05-13T16:05:18.659Z"
   },
   {
    "duration": 6,
    "start_time": "2023-05-13T16:05:19.404Z"
   },
   {
    "duration": 12,
    "start_time": "2023-05-13T16:05:19.417Z"
   },
   {
    "duration": 419,
    "start_time": "2023-05-13T16:05:19.431Z"
   },
   {
    "duration": 18,
    "start_time": "2023-05-13T16:05:19.852Z"
   },
   {
    "duration": 928,
    "start_time": "2023-05-13T16:05:19.872Z"
   },
   {
    "duration": 39,
    "start_time": "2023-05-13T16:05:20.801Z"
   },
   {
    "duration": 447,
    "start_time": "2023-05-13T16:05:20.841Z"
   },
   {
    "duration": 28,
    "start_time": "2023-05-13T16:05:21.289Z"
   },
   {
    "duration": 311,
    "start_time": "2023-05-13T16:05:21.319Z"
   },
   {
    "duration": 18,
    "start_time": "2023-05-13T16:05:21.631Z"
   },
   {
    "duration": 4,
    "start_time": "2023-05-13T16:05:21.651Z"
   },
   {
    "duration": 19,
    "start_time": "2023-05-13T16:05:21.658Z"
   },
   {
    "duration": 8,
    "start_time": "2023-05-13T16:05:21.679Z"
   },
   {
    "duration": 6,
    "start_time": "2023-05-13T16:05:21.689Z"
   },
   {
    "duration": 461,
    "start_time": "2023-05-13T16:05:21.697Z"
   },
   {
    "duration": 5,
    "start_time": "2023-05-13T16:05:22.160Z"
   },
   {
    "duration": 104,
    "start_time": "2023-05-13T16:05:22.167Z"
   },
   {
    "duration": 5480,
    "start_time": "2023-05-13T16:05:22.273Z"
   },
   {
    "duration": 659,
    "start_time": "2023-05-13T16:05:27.755Z"
   },
   {
    "duration": 8,
    "start_time": "2023-05-13T16:05:28.417Z"
   },
   {
    "duration": 277,
    "start_time": "2023-05-13T16:05:28.426Z"
   },
   {
    "duration": 184,
    "start_time": "2023-05-13T16:05:28.704Z"
   },
   {
    "duration": 176,
    "start_time": "2023-05-13T16:05:28.890Z"
   },
   {
    "duration": 186,
    "start_time": "2023-05-13T16:05:29.067Z"
   },
   {
    "duration": 174,
    "start_time": "2023-05-13T16:13:54.160Z"
   },
   {
    "duration": 19,
    "start_time": "2023-05-13T16:13:54.371Z"
   },
   {
    "duration": 1874,
    "start_time": "2023-05-13T16:13:54.434Z"
   },
   {
    "duration": 5,
    "start_time": "2023-05-13T16:13:56.377Z"
   },
   {
    "duration": 4,
    "start_time": "2023-05-13T16:13:56.466Z"
   },
   {
    "duration": 11,
    "start_time": "2023-05-13T16:13:56.542Z"
   },
   {
    "duration": 25,
    "start_time": "2023-05-13T16:13:56.644Z"
   },
   {
    "duration": 31,
    "start_time": "2023-05-13T16:13:56.786Z"
   },
   {
    "duration": 26,
    "start_time": "2023-05-13T16:13:56.938Z"
   },
   {
    "duration": 33,
    "start_time": "2023-05-13T16:13:57.076Z"
   },
   {
    "duration": 8,
    "start_time": "2023-05-13T16:13:58.054Z"
   },
   {
    "duration": 46,
    "start_time": "2023-05-13T16:13:58.792Z"
   },
   {
    "duration": 76,
    "start_time": "2023-05-13T16:13:58.897Z"
   },
   {
    "duration": 28,
    "start_time": "2023-05-13T16:13:59.426Z"
   },
   {
    "duration": 102,
    "start_time": "2023-05-13T16:14:00.019Z"
   },
   {
    "duration": 908,
    "start_time": "2023-05-13T16:14:01.098Z"
   },
   {
    "duration": 6,
    "start_time": "2023-05-13T16:14:02.966Z"
   },
   {
    "duration": 9,
    "start_time": "2023-05-13T16:14:03.455Z"
   },
   {
    "duration": 446,
    "start_time": "2023-05-13T16:14:03.965Z"
   },
   {
    "duration": 20,
    "start_time": "2023-05-13T16:14:04.833Z"
   },
   {
    "duration": 949,
    "start_time": "2023-05-13T16:14:05.229Z"
   },
   {
    "duration": 39,
    "start_time": "2023-05-13T16:14:06.242Z"
   },
   {
    "duration": 452,
    "start_time": "2023-05-13T16:14:06.320Z"
   },
   {
    "duration": 30,
    "start_time": "2023-05-13T16:14:06.796Z"
   },
   {
    "duration": 411,
    "start_time": "2023-05-13T16:14:06.847Z"
   },
   {
    "duration": 30,
    "start_time": "2023-05-13T16:14:07.681Z"
   },
   {
    "duration": 5,
    "start_time": "2023-05-13T16:14:08.207Z"
   },
   {
    "duration": 9,
    "start_time": "2023-05-13T16:14:08.327Z"
   },
   {
    "duration": 5,
    "start_time": "2023-05-13T16:14:13.977Z"
   },
   {
    "duration": 6,
    "start_time": "2023-05-13T16:14:20.296Z"
   },
   {
    "duration": 371,
    "start_time": "2023-05-13T16:14:21.065Z"
   },
   {
    "duration": 6,
    "start_time": "2023-05-13T16:14:21.656Z"
   },
   {
    "duration": 92,
    "start_time": "2023-05-13T16:14:22.153Z"
   },
   {
    "duration": 8946,
    "start_time": "2023-05-13T16:14:22.664Z"
   },
   {
    "duration": 812,
    "start_time": "2023-05-13T16:14:32.046Z"
   },
   {
    "duration": 10,
    "start_time": "2023-05-13T16:14:33.287Z"
   },
   {
    "duration": 197,
    "start_time": "2023-05-13T16:14:33.529Z"
   },
   {
    "duration": 0,
    "start_time": "2023-05-13T16:14:38.244Z"
   },
   {
    "duration": 0,
    "start_time": "2023-05-13T16:14:38.248Z"
   },
   {
    "duration": 0,
    "start_time": "2023-05-13T16:14:38.252Z"
   },
   {
    "duration": 208,
    "start_time": "2023-05-13T16:17:28.748Z"
   },
   {
    "duration": 25,
    "start_time": "2023-05-13T16:17:28.958Z"
   },
   {
    "duration": 2109,
    "start_time": "2023-05-13T16:17:28.985Z"
   },
   {
    "duration": 6,
    "start_time": "2023-05-13T16:17:31.097Z"
   },
   {
    "duration": 10,
    "start_time": "2023-05-13T16:17:31.117Z"
   },
   {
    "duration": 36,
    "start_time": "2023-05-13T16:17:31.129Z"
   },
   {
    "duration": 39,
    "start_time": "2023-05-13T16:17:31.167Z"
   },
   {
    "duration": 71,
    "start_time": "2023-05-13T16:17:31.207Z"
   },
   {
    "duration": 47,
    "start_time": "2023-05-13T16:17:31.280Z"
   },
   {
    "duration": 33,
    "start_time": "2023-05-13T16:17:31.330Z"
   },
   {
    "duration": 8,
    "start_time": "2023-05-13T16:17:31.364Z"
   },
   {
    "duration": 81,
    "start_time": "2023-05-13T16:17:31.374Z"
   },
   {
    "duration": 70,
    "start_time": "2023-05-13T16:17:31.456Z"
   },
   {
    "duration": 7,
    "start_time": "2023-05-13T16:17:31.528Z"
   },
   {
    "duration": 98,
    "start_time": "2023-05-13T16:17:31.537Z"
   },
   {
    "duration": 919,
    "start_time": "2023-05-13T16:17:31.637Z"
   },
   {
    "duration": 7,
    "start_time": "2023-05-13T16:17:32.558Z"
   },
   {
    "duration": 35,
    "start_time": "2023-05-13T16:17:32.567Z"
   },
   {
    "duration": 453,
    "start_time": "2023-05-13T16:17:32.604Z"
   },
   {
    "duration": 23,
    "start_time": "2023-05-13T16:17:33.059Z"
   },
   {
    "duration": 931,
    "start_time": "2023-05-13T16:17:33.084Z"
   },
   {
    "duration": 44,
    "start_time": "2023-05-13T16:17:34.018Z"
   },
   {
    "duration": 531,
    "start_time": "2023-05-13T16:17:34.065Z"
   },
   {
    "duration": 35,
    "start_time": "2023-05-13T16:17:34.597Z"
   },
   {
    "duration": 406,
    "start_time": "2023-05-13T16:17:34.634Z"
   },
   {
    "duration": 23,
    "start_time": "2023-05-13T16:17:35.042Z"
   },
   {
    "duration": 6,
    "start_time": "2023-05-13T16:17:35.067Z"
   },
   {
    "duration": 7,
    "start_time": "2023-05-13T16:17:35.076Z"
   },
   {
    "duration": 33,
    "start_time": "2023-05-13T16:17:35.084Z"
   },
   {
    "duration": 6,
    "start_time": "2023-05-13T16:17:35.120Z"
   },
   {
    "duration": 366,
    "start_time": "2023-05-13T16:17:35.129Z"
   },
   {
    "duration": 5,
    "start_time": "2023-05-13T16:17:35.497Z"
   },
   {
    "duration": 195,
    "start_time": "2023-05-13T16:17:35.504Z"
   },
   {
    "duration": 5763,
    "start_time": "2023-05-13T16:17:35.701Z"
   },
   {
    "duration": 973,
    "start_time": "2023-05-13T16:17:41.465Z"
   },
   {
    "duration": 11,
    "start_time": "2023-05-13T16:17:42.440Z"
   },
   {
    "duration": 293,
    "start_time": "2023-05-13T16:17:42.454Z"
   },
   {
    "duration": 230,
    "start_time": "2023-05-13T16:17:42.749Z"
   },
   {
    "duration": 258,
    "start_time": "2023-05-13T16:17:42.981Z"
   },
   {
    "duration": 276,
    "start_time": "2023-05-13T16:17:43.242Z"
   },
   {
    "duration": 137,
    "start_time": "2023-05-13T16:22:08.092Z"
   },
   {
    "duration": 134,
    "start_time": "2023-05-13T16:23:22.181Z"
   },
   {
    "duration": 21,
    "start_time": "2023-05-13T16:23:22.318Z"
   },
   {
    "duration": 78,
    "start_time": "2023-05-13T16:23:58.738Z"
   },
   {
    "duration": 97,
    "start_time": "2023-05-13T16:24:01.746Z"
   },
   {
    "duration": 15,
    "start_time": "2023-05-13T16:24:04.514Z"
   },
   {
    "duration": 20,
    "start_time": "2023-05-13T16:24:15.153Z"
   },
   {
    "duration": 20,
    "start_time": "2023-05-13T16:24:24.910Z"
   },
   {
    "duration": 151,
    "start_time": "2023-05-13T16:25:17.587Z"
   },
   {
    "duration": 21,
    "start_time": "2023-05-13T16:25:17.740Z"
   },
   {
    "duration": 1855,
    "start_time": "2023-05-13T16:25:17.763Z"
   },
   {
    "duration": 5,
    "start_time": "2023-05-13T16:25:19.621Z"
   },
   {
    "duration": 5,
    "start_time": "2023-05-13T16:25:19.629Z"
   },
   {
    "duration": 14,
    "start_time": "2023-05-13T16:25:19.635Z"
   },
   {
    "duration": 7,
    "start_time": "2023-05-13T16:25:19.651Z"
   },
   {
    "duration": 57,
    "start_time": "2023-05-13T16:25:19.660Z"
   },
   {
    "duration": 33,
    "start_time": "2023-05-13T16:25:19.720Z"
   },
   {
    "duration": 21,
    "start_time": "2023-05-13T16:25:19.756Z"
   },
   {
    "duration": 6,
    "start_time": "2023-05-13T16:25:19.778Z"
   },
   {
    "duration": 64,
    "start_time": "2023-05-13T16:25:19.785Z"
   },
   {
    "duration": 70,
    "start_time": "2023-05-13T16:25:19.851Z"
   },
   {
    "duration": 8,
    "start_time": "2023-05-13T16:25:19.923Z"
   },
   {
    "duration": 100,
    "start_time": "2023-05-13T16:25:19.933Z"
   },
   {
    "duration": 682,
    "start_time": "2023-05-13T16:25:20.035Z"
   },
   {
    "duration": 6,
    "start_time": "2023-05-13T16:25:20.719Z"
   },
   {
    "duration": 17,
    "start_time": "2023-05-13T16:25:20.726Z"
   },
   {
    "duration": 455,
    "start_time": "2023-05-13T16:25:20.745Z"
   },
   {
    "duration": 35,
    "start_time": "2023-05-13T16:25:21.202Z"
   },
   {
    "duration": 858,
    "start_time": "2023-05-13T16:25:21.238Z"
   },
   {
    "duration": 42,
    "start_time": "2023-05-13T16:25:22.098Z"
   },
   {
    "duration": 527,
    "start_time": "2023-05-13T16:25:22.142Z"
   },
   {
    "duration": 27,
    "start_time": "2023-05-13T16:25:22.672Z"
   },
   {
    "duration": 340,
    "start_time": "2023-05-13T16:25:22.701Z"
   },
   {
    "duration": 77,
    "start_time": "2023-05-13T16:26:16.944Z"
   },
   {
    "duration": 32,
    "start_time": "2023-05-13T16:26:22.841Z"
   },
   {
    "duration": 210,
    "start_time": "2023-05-13T16:27:20.755Z"
   },
   {
    "duration": 25,
    "start_time": "2023-05-13T16:27:20.968Z"
   },
   {
    "duration": 2704,
    "start_time": "2023-05-13T16:27:21.019Z"
   },
   {
    "duration": 5,
    "start_time": "2023-05-13T16:27:23.725Z"
   },
   {
    "duration": 13,
    "start_time": "2023-05-13T16:27:23.731Z"
   },
   {
    "duration": 18,
    "start_time": "2023-05-13T16:27:23.747Z"
   },
   {
    "duration": 21,
    "start_time": "2023-05-13T16:27:23.768Z"
   },
   {
    "duration": 35,
    "start_time": "2023-05-13T16:27:23.791Z"
   },
   {
    "duration": 23,
    "start_time": "2023-05-13T16:27:23.828Z"
   },
   {
    "duration": 21,
    "start_time": "2023-05-13T16:27:23.855Z"
   },
   {
    "duration": 12,
    "start_time": "2023-05-13T16:27:23.878Z"
   },
   {
    "duration": 57,
    "start_time": "2023-05-13T16:27:23.892Z"
   },
   {
    "duration": 74,
    "start_time": "2023-05-13T16:27:23.951Z"
   },
   {
    "duration": 6,
    "start_time": "2023-05-13T16:27:24.027Z"
   },
   {
    "duration": 101,
    "start_time": "2023-05-13T16:27:24.034Z"
   },
   {
    "duration": 934,
    "start_time": "2023-05-13T16:27:24.137Z"
   },
   {
    "duration": 7,
    "start_time": "2023-05-13T16:27:25.072Z"
   },
   {
    "duration": 33,
    "start_time": "2023-05-13T16:27:25.080Z"
   },
   {
    "duration": 702,
    "start_time": "2023-05-13T16:27:25.116Z"
   },
   {
    "duration": 18,
    "start_time": "2023-05-13T16:27:25.820Z"
   },
   {
    "duration": 1340,
    "start_time": "2023-05-13T16:27:25.840Z"
   },
   {
    "duration": 53,
    "start_time": "2023-05-13T16:27:27.182Z"
   },
   {
    "duration": 681,
    "start_time": "2023-05-13T16:27:27.237Z"
   },
   {
    "duration": 27,
    "start_time": "2023-05-13T16:27:27.920Z"
   },
   {
    "duration": 501,
    "start_time": "2023-05-13T16:27:27.948Z"
   },
   {
    "duration": 33,
    "start_time": "2023-05-13T16:27:28.451Z"
   },
   {
    "duration": 6,
    "start_time": "2023-05-13T16:27:28.486Z"
   },
   {
    "duration": 10,
    "start_time": "2023-05-13T16:27:28.519Z"
   },
   {
    "duration": 8,
    "start_time": "2023-05-13T16:27:28.532Z"
   },
   {
    "duration": 8,
    "start_time": "2023-05-13T16:27:28.542Z"
   },
   {
    "duration": 598,
    "start_time": "2023-05-13T16:27:28.553Z"
   },
   {
    "duration": 6,
    "start_time": "2023-05-13T16:27:29.153Z"
   },
   {
    "duration": 136,
    "start_time": "2023-05-13T16:27:29.161Z"
   },
   {
    "duration": 6734,
    "start_time": "2023-05-13T16:27:29.302Z"
   },
   {
    "duration": 5164,
    "start_time": "2023-05-13T16:27:36.040Z"
   },
   {
    "duration": 26,
    "start_time": "2023-05-13T16:27:41.206Z"
   },
   {
    "duration": 265,
    "start_time": "2023-05-13T16:27:41.234Z"
   },
   {
    "duration": 238,
    "start_time": "2023-05-13T16:27:41.501Z"
   },
   {
    "duration": 200,
    "start_time": "2023-05-13T16:27:41.741Z"
   },
   {
    "duration": 201,
    "start_time": "2023-05-13T16:27:41.943Z"
   },
   {
    "duration": 212,
    "start_time": "2023-05-13T16:27:42.146Z"
   },
   {
    "duration": 246,
    "start_time": "2023-05-13T16:27:42.360Z"
   },
   {
    "duration": 204,
    "start_time": "2023-05-13T16:27:42.609Z"
   },
   {
    "duration": 190,
    "start_time": "2023-05-13T16:27:42.815Z"
   },
   {
    "duration": 39,
    "start_time": "2023-05-13T16:27:43.007Z"
   },
   {
    "duration": 7,
    "start_time": "2023-05-13T16:27:43.048Z"
   },
   {
    "duration": 14,
    "start_time": "2023-05-13T16:27:43.057Z"
   },
   {
    "duration": 10,
    "start_time": "2023-05-13T16:27:43.073Z"
   },
   {
    "duration": 42,
    "start_time": "2023-05-13T16:27:43.085Z"
   },
   {
    "duration": 311,
    "start_time": "2023-05-13T16:27:43.129Z"
   },
   {
    "duration": 261,
    "start_time": "2023-05-13T16:28:25.208Z"
   },
   {
    "duration": 237,
    "start_time": "2023-05-13T16:28:31.561Z"
   },
   {
    "duration": 228,
    "start_time": "2023-05-13T16:28:36.508Z"
   },
   {
    "duration": 205,
    "start_time": "2023-05-13T16:28:42.308Z"
   },
   {
    "duration": 287,
    "start_time": "2023-05-13T16:28:51.153Z"
   },
   {
    "duration": 236,
    "start_time": "2023-05-13T16:29:43.312Z"
   },
   {
    "duration": 22,
    "start_time": "2023-05-13T16:29:43.551Z"
   },
   {
    "duration": 2415,
    "start_time": "2023-05-13T16:29:43.575Z"
   },
   {
    "duration": 4,
    "start_time": "2023-05-13T16:29:45.992Z"
   },
   {
    "duration": 36,
    "start_time": "2023-05-13T16:29:45.999Z"
   },
   {
    "duration": 25,
    "start_time": "2023-05-13T16:29:46.037Z"
   },
   {
    "duration": 8,
    "start_time": "2023-05-13T16:29:46.064Z"
   },
   {
    "duration": 25,
    "start_time": "2023-05-13T16:29:46.073Z"
   },
   {
    "duration": 38,
    "start_time": "2023-05-13T16:29:46.100Z"
   },
   {
    "duration": 43,
    "start_time": "2023-05-13T16:29:46.140Z"
   },
   {
    "duration": 8,
    "start_time": "2023-05-13T16:29:46.185Z"
   },
   {
    "duration": 75,
    "start_time": "2023-05-13T16:29:46.195Z"
   },
   {
    "duration": 77,
    "start_time": "2023-05-13T16:29:46.272Z"
   },
   {
    "duration": 7,
    "start_time": "2023-05-13T16:29:46.352Z"
   },
   {
    "duration": 104,
    "start_time": "2023-05-13T16:29:46.362Z"
   },
   {
    "duration": 960,
    "start_time": "2023-05-13T16:29:46.468Z"
   },
   {
    "duration": 13,
    "start_time": "2023-05-13T16:29:47.434Z"
   },
   {
    "duration": 14,
    "start_time": "2023-05-13T16:29:47.448Z"
   },
   {
    "duration": 538,
    "start_time": "2023-05-13T16:29:47.464Z"
   },
   {
    "duration": 33,
    "start_time": "2023-05-13T16:29:48.004Z"
   },
   {
    "duration": 987,
    "start_time": "2023-05-13T16:29:48.041Z"
   },
   {
    "duration": 32,
    "start_time": "2023-05-13T16:29:49.030Z"
   },
   {
    "duration": 578,
    "start_time": "2023-05-13T16:29:49.065Z"
   },
   {
    "duration": 31,
    "start_time": "2023-05-13T16:29:49.653Z"
   },
   {
    "duration": 391,
    "start_time": "2023-05-13T16:29:49.687Z"
   },
   {
    "duration": 26,
    "start_time": "2023-05-13T16:29:50.080Z"
   },
   {
    "duration": 140,
    "start_time": "2023-05-13T16:29:50.108Z"
   },
   {
    "duration": 9,
    "start_time": "2023-05-13T16:29:50.250Z"
   },
   {
    "duration": 12,
    "start_time": "2023-05-13T16:29:50.263Z"
   },
   {
    "duration": 7,
    "start_time": "2023-05-13T16:29:50.278Z"
   },
   {
    "duration": 423,
    "start_time": "2023-05-13T16:29:50.287Z"
   },
   {
    "duration": 7,
    "start_time": "2023-05-13T16:29:50.712Z"
   },
   {
    "duration": 175,
    "start_time": "2023-05-13T16:29:50.721Z"
   },
   {
    "duration": 7626,
    "start_time": "2023-05-13T16:29:50.900Z"
   },
   {
    "duration": 895,
    "start_time": "2023-05-13T16:29:58.545Z"
   },
   {
    "duration": 16,
    "start_time": "2023-05-13T16:29:59.448Z"
   },
   {
    "duration": 277,
    "start_time": "2023-05-13T16:29:59.467Z"
   },
   {
    "duration": 213,
    "start_time": "2023-05-13T16:29:59.746Z"
   },
   {
    "duration": 231,
    "start_time": "2023-05-13T16:29:59.964Z"
   },
   {
    "duration": 314,
    "start_time": "2023-05-13T16:30:00.197Z"
   },
   {
    "duration": 229,
    "start_time": "2023-05-13T16:30:00.517Z"
   },
   {
    "duration": 230,
    "start_time": "2023-05-13T16:30:00.748Z"
   },
   {
    "duration": 266,
    "start_time": "2023-05-13T16:30:00.980Z"
   },
   {
    "duration": 197,
    "start_time": "2023-05-13T16:30:01.248Z"
   },
   {
    "duration": 38,
    "start_time": "2023-05-13T16:30:01.449Z"
   },
   {
    "duration": 50,
    "start_time": "2023-05-13T16:30:01.489Z"
   },
   {
    "duration": 52,
    "start_time": "2023-05-13T16:30:01.544Z"
   },
   {
    "duration": 80,
    "start_time": "2023-05-13T16:30:01.598Z"
   },
   {
    "duration": 82,
    "start_time": "2023-05-13T16:30:01.680Z"
   },
   {
    "duration": 453,
    "start_time": "2023-05-13T16:30:01.763Z"
   },
   {
    "duration": 1113,
    "start_time": "2023-09-01T08:07:22.733Z"
   },
   {
    "duration": 14,
    "start_time": "2023-09-01T08:07:23.847Z"
   },
   {
    "duration": 1807,
    "start_time": "2023-09-01T08:07:23.863Z"
   },
   {
    "duration": 5,
    "start_time": "2023-09-01T08:07:25.672Z"
   },
   {
    "duration": 21,
    "start_time": "2023-09-01T08:07:25.678Z"
   },
   {
    "duration": 38,
    "start_time": "2023-09-01T08:07:25.701Z"
   },
   {
    "duration": 15,
    "start_time": "2023-09-01T08:07:25.741Z"
   },
   {
    "duration": 37,
    "start_time": "2023-09-01T08:07:25.758Z"
   },
   {
    "duration": 28,
    "start_time": "2023-09-01T08:07:25.797Z"
   },
   {
    "duration": 23,
    "start_time": "2023-09-01T08:07:25.828Z"
   },
   {
    "duration": 7,
    "start_time": "2023-09-01T08:07:25.853Z"
   },
   {
    "duration": 64,
    "start_time": "2023-09-01T08:07:25.861Z"
   },
   {
    "duration": 76,
    "start_time": "2023-09-01T08:07:25.927Z"
   },
   {
    "duration": 22,
    "start_time": "2023-09-01T08:07:26.005Z"
   },
   {
    "duration": 67,
    "start_time": "2023-09-01T08:07:26.029Z"
   },
   {
    "duration": 691,
    "start_time": "2023-09-01T08:07:26.098Z"
   },
   {
    "duration": 6,
    "start_time": "2023-09-01T08:07:26.790Z"
   },
   {
    "duration": 17,
    "start_time": "2023-09-01T08:07:26.797Z"
   },
   {
    "duration": 510,
    "start_time": "2023-09-01T08:07:26.816Z"
   },
   {
    "duration": 18,
    "start_time": "2023-09-01T08:07:27.328Z"
   },
   {
    "duration": 956,
    "start_time": "2023-09-01T08:07:27.347Z"
   },
   {
    "duration": 38,
    "start_time": "2023-09-01T08:07:28.304Z"
   },
   {
    "duration": 449,
    "start_time": "2023-09-01T08:07:28.343Z"
   },
   {
    "duration": 20,
    "start_time": "2023-09-01T08:07:28.794Z"
   },
   {
    "duration": 342,
    "start_time": "2023-09-01T08:07:28.815Z"
   },
   {
    "duration": 22,
    "start_time": "2023-09-01T08:07:29.159Z"
   },
   {
    "duration": 5,
    "start_time": "2023-09-01T08:07:29.182Z"
   },
   {
    "duration": 5,
    "start_time": "2023-09-01T08:07:29.191Z"
   },
   {
    "duration": 27,
    "start_time": "2023-09-01T08:07:29.197Z"
   },
   {
    "duration": 5,
    "start_time": "2023-09-01T08:07:29.225Z"
   },
   {
    "duration": 307,
    "start_time": "2023-09-01T08:07:29.231Z"
   },
   {
    "duration": 4,
    "start_time": "2023-09-01T08:07:29.539Z"
   },
   {
    "duration": 100,
    "start_time": "2023-09-01T08:07:29.545Z"
   },
   {
    "duration": 5817,
    "start_time": "2023-09-01T08:07:29.646Z"
   },
   {
    "duration": 728,
    "start_time": "2023-09-01T08:07:35.465Z"
   },
   {
    "duration": 10,
    "start_time": "2023-09-01T08:07:36.196Z"
   },
   {
    "duration": 205,
    "start_time": "2023-09-01T08:07:36.207Z"
   },
   {
    "duration": 185,
    "start_time": "2023-09-01T08:07:36.414Z"
   },
   {
    "duration": 252,
    "start_time": "2023-09-01T08:07:36.601Z"
   },
   {
    "duration": 195,
    "start_time": "2023-09-01T08:07:36.855Z"
   },
   {
    "duration": 190,
    "start_time": "2023-09-01T08:07:37.052Z"
   },
   {
    "duration": 174,
    "start_time": "2023-09-01T08:07:37.244Z"
   },
   {
    "duration": 177,
    "start_time": "2023-09-01T08:07:37.423Z"
   },
   {
    "duration": 176,
    "start_time": "2023-09-01T08:07:37.601Z"
   },
   {
    "duration": 24,
    "start_time": "2023-09-01T08:07:37.779Z"
   },
   {
    "duration": 19,
    "start_time": "2023-09-01T08:07:37.805Z"
   },
   {
    "duration": 30,
    "start_time": "2023-09-01T08:07:37.826Z"
   },
   {
    "duration": 7,
    "start_time": "2023-09-01T08:07:37.858Z"
   },
   {
    "duration": 12,
    "start_time": "2023-09-01T08:07:37.867Z"
   },
   {
    "duration": 239,
    "start_time": "2023-09-01T08:07:37.881Z"
   }
  ],
  "kernelspec": {
   "display_name": "Python 3 (ipykernel)",
   "language": "python",
   "name": "python3"
  },
  "language_info": {
   "codemirror_mode": {
    "name": "ipython",
    "version": 3
   },
   "file_extension": ".py",
   "mimetype": "text/x-python",
   "name": "python",
   "nbconvert_exporter": "python",
   "pygments_lexer": "ipython3",
   "version": "3.10.9"
  },
  "toc": {
   "base_numbering": 1,
   "nav_menu": {},
   "number_sections": true,
   "sideBar": true,
   "skip_h1_title": true,
   "title_cell": "Table of Contents",
   "title_sidebar": "Contents",
   "toc_cell": false,
   "toc_position": {},
   "toc_section_display": true,
   "toc_window_display": false
  }
 },
 "nbformat": 4,
 "nbformat_minor": 2
}
