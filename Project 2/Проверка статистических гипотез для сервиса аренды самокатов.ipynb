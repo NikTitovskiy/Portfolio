{
 "cells": [
  {
   "cell_type": "markdown",
   "id": "b8225683",
   "metadata": {},
   "source": [
    "# Описание проекта\n",
    "Вы аналитик популярного сервиса аренды самокатов GoFast. Вам передали данные о некоторых пользователях из нескольких городов, а также об их поездках. Проанализируйте данные и проверьте некоторые гипотезы, которые могут помочь бизнесу вырасти.\n",
    "\n",
    "Чтобы совершать поездки по городу, пользователи сервиса GoFast пользуются мобильным приложением. \n",
    "\n",
    "Сервисом можно пользоваться:\n",
    "- без подписки:\n",
    " - абонентская плата отсутствует;\n",
    " - стоимость одной минуты поездки — 8 рублей;\n",
    " - стоимость старта (начала поездки) — 50 рублей;\n",
    "- с подпиской Ultra:\n",
    " - абонентская плата — 199 рублей в месяц;\n",
    " - стоимость одной минуты поездки — 6 рублей;\n",
    " - стоимость старта — бесплатно."
   ]
  },
  {
   "cell_type": "code",
   "execution_count": 1,
   "id": "72576667",
   "metadata": {},
   "outputs": [],
   "source": [
    "import pandas as pd\n",
    "import matplotlib.pyplot as plt\n",
    "import numpy as np\n",
    "from scipy import stats as st\n",
    "from math import factorial, sqrt"
   ]
  },
  {
   "cell_type": "markdown",
   "id": "c42cbe00",
   "metadata": {},
   "source": [
    "#### Шаг 1. Загрузка данных"
   ]
  },
  {
   "cell_type": "code",
   "execution_count": 2,
   "id": "eff9f206",
   "metadata": {},
   "outputs": [],
   "source": [
    "users_go = pd.read_csv('/datasets/users_go.csv') #загрузка данных о пользователях\n",
    "rides_go = pd.read_csv('/datasets/rides_go.csv') #загрузка данных о поездках\n",
    "subscriptions_go = pd.read_csv('/datasets/subscriptions_go.csv') #загрузка данных о подписках"
   ]
  },
  {
   "cell_type": "markdown",
   "id": "1f50c107",
   "metadata": {},
   "source": [
    "**Знакомство с данными:**"
   ]
  },
  {
   "cell_type": "code",
   "execution_count": 3,
   "id": "c3267e90",
   "metadata": {},
   "outputs": [
    {
     "name": "stdout",
     "output_type": "stream",
     "text": [
      "<class 'pandas.core.frame.DataFrame'>\n",
      "RangeIndex: 1565 entries, 0 to 1564\n",
      "Data columns (total 5 columns):\n",
      " #   Column             Non-Null Count  Dtype \n",
      "---  ------             --------------  ----- \n",
      " 0   user_id            1565 non-null   int64 \n",
      " 1   name               1565 non-null   object\n",
      " 2   age                1565 non-null   int64 \n",
      " 3   city               1565 non-null   object\n",
      " 4   subscription_type  1565 non-null   object\n",
      "dtypes: int64(2), object(3)\n",
      "memory usage: 61.3+ KB\n"
     ]
    },
    {
     "data": {
      "text/html": [
       "<div>\n",
       "<style scoped>\n",
       "    .dataframe tbody tr th:only-of-type {\n",
       "        vertical-align: middle;\n",
       "    }\n",
       "\n",
       "    .dataframe tbody tr th {\n",
       "        vertical-align: top;\n",
       "    }\n",
       "\n",
       "    .dataframe thead th {\n",
       "        text-align: right;\n",
       "    }\n",
       "</style>\n",
       "<table border=\"1\" class=\"dataframe\">\n",
       "  <thead>\n",
       "    <tr style=\"text-align: right;\">\n",
       "      <th></th>\n",
       "      <th>user_id</th>\n",
       "      <th>name</th>\n",
       "      <th>age</th>\n",
       "      <th>city</th>\n",
       "      <th>subscription_type</th>\n",
       "    </tr>\n",
       "  </thead>\n",
       "  <tbody>\n",
       "    <tr>\n",
       "      <th>0</th>\n",
       "      <td>1</td>\n",
       "      <td>Кира</td>\n",
       "      <td>22</td>\n",
       "      <td>Тюмень</td>\n",
       "      <td>ultra</td>\n",
       "    </tr>\n",
       "    <tr>\n",
       "      <th>1</th>\n",
       "      <td>2</td>\n",
       "      <td>Станислав</td>\n",
       "      <td>31</td>\n",
       "      <td>Омск</td>\n",
       "      <td>ultra</td>\n",
       "    </tr>\n",
       "    <tr>\n",
       "      <th>2</th>\n",
       "      <td>3</td>\n",
       "      <td>Алексей</td>\n",
       "      <td>20</td>\n",
       "      <td>Москва</td>\n",
       "      <td>ultra</td>\n",
       "    </tr>\n",
       "    <tr>\n",
       "      <th>3</th>\n",
       "      <td>4</td>\n",
       "      <td>Константин</td>\n",
       "      <td>26</td>\n",
       "      <td>Ростов-на-Дону</td>\n",
       "      <td>ultra</td>\n",
       "    </tr>\n",
       "    <tr>\n",
       "      <th>4</th>\n",
       "      <td>5</td>\n",
       "      <td>Адель</td>\n",
       "      <td>28</td>\n",
       "      <td>Омск</td>\n",
       "      <td>ultra</td>\n",
       "    </tr>\n",
       "  </tbody>\n",
       "</table>\n",
       "</div>"
      ],
      "text/plain": [
       "   user_id        name  age            city subscription_type\n",
       "0        1        Кира   22          Тюмень             ultra\n",
       "1        2   Станислав   31            Омск             ultra\n",
       "2        3     Алексей   20          Москва             ultra\n",
       "3        4  Константин   26  Ростов-на-Дону             ultra\n",
       "4        5       Адель   28            Омск             ultra"
      ]
     },
     "metadata": {},
     "output_type": "display_data"
    },
    {
     "data": {
      "text/plain": [
       "user_id              0\n",
       "name                 0\n",
       "age                  0\n",
       "city                 0\n",
       "subscription_type    0\n",
       "dtype: int64"
      ]
     },
     "metadata": {},
     "output_type": "display_data"
    },
    {
     "data": {
      "text/plain": [
       "Index(['user_id', 'name', 'age', 'city', 'subscription_type'], dtype='object')"
      ]
     },
     "execution_count": 3,
     "metadata": {},
     "output_type": "execute_result"
    }
   ],
   "source": [
    "users_go.info()\n",
    "display(users_go.head())\n",
    "display(users_go.isna().sum())\n",
    "users_go_before = users_go['user_id'].count() \n",
    "users_go.columns"
   ]
  },
  {
   "cell_type": "code",
   "execution_count": 4,
   "id": "76e3cae5",
   "metadata": {},
   "outputs": [
    {
     "name": "stdout",
     "output_type": "stream",
     "text": [
      "<class 'pandas.core.frame.DataFrame'>\n",
      "RangeIndex: 18068 entries, 0 to 18067\n",
      "Data columns (total 4 columns):\n",
      " #   Column    Non-Null Count  Dtype  \n",
      "---  ------    --------------  -----  \n",
      " 0   user_id   18068 non-null  int64  \n",
      " 1   distance  18068 non-null  float64\n",
      " 2   duration  18068 non-null  float64\n",
      " 3   date      18068 non-null  object \n",
      "dtypes: float64(2), int64(1), object(1)\n",
      "memory usage: 564.8+ KB\n"
     ]
    },
    {
     "data": {
      "text/html": [
       "<div>\n",
       "<style scoped>\n",
       "    .dataframe tbody tr th:only-of-type {\n",
       "        vertical-align: middle;\n",
       "    }\n",
       "\n",
       "    .dataframe tbody tr th {\n",
       "        vertical-align: top;\n",
       "    }\n",
       "\n",
       "    .dataframe thead th {\n",
       "        text-align: right;\n",
       "    }\n",
       "</style>\n",
       "<table border=\"1\" class=\"dataframe\">\n",
       "  <thead>\n",
       "    <tr style=\"text-align: right;\">\n",
       "      <th></th>\n",
       "      <th>user_id</th>\n",
       "      <th>distance</th>\n",
       "      <th>duration</th>\n",
       "      <th>date</th>\n",
       "    </tr>\n",
       "  </thead>\n",
       "  <tbody>\n",
       "    <tr>\n",
       "      <th>0</th>\n",
       "      <td>1</td>\n",
       "      <td>4409.919140</td>\n",
       "      <td>25.599769</td>\n",
       "      <td>2021-01-01</td>\n",
       "    </tr>\n",
       "    <tr>\n",
       "      <th>1</th>\n",
       "      <td>1</td>\n",
       "      <td>2617.592153</td>\n",
       "      <td>15.816871</td>\n",
       "      <td>2021-01-18</td>\n",
       "    </tr>\n",
       "    <tr>\n",
       "      <th>2</th>\n",
       "      <td>1</td>\n",
       "      <td>754.159807</td>\n",
       "      <td>6.232113</td>\n",
       "      <td>2021-04-20</td>\n",
       "    </tr>\n",
       "    <tr>\n",
       "      <th>3</th>\n",
       "      <td>1</td>\n",
       "      <td>2694.783254</td>\n",
       "      <td>18.511000</td>\n",
       "      <td>2021-08-11</td>\n",
       "    </tr>\n",
       "    <tr>\n",
       "      <th>4</th>\n",
       "      <td>1</td>\n",
       "      <td>4028.687306</td>\n",
       "      <td>26.265803</td>\n",
       "      <td>2021-08-28</td>\n",
       "    </tr>\n",
       "  </tbody>\n",
       "</table>\n",
       "</div>"
      ],
      "text/plain": [
       "   user_id     distance   duration        date\n",
       "0        1  4409.919140  25.599769  2021-01-01\n",
       "1        1  2617.592153  15.816871  2021-01-18\n",
       "2        1   754.159807   6.232113  2021-04-20\n",
       "3        1  2694.783254  18.511000  2021-08-11\n",
       "4        1  4028.687306  26.265803  2021-08-28"
      ]
     },
     "metadata": {},
     "output_type": "display_data"
    },
    {
     "data": {
      "text/plain": [
       "user_id     0\n",
       "distance    0\n",
       "duration    0\n",
       "date        0\n",
       "dtype: int64"
      ]
     },
     "metadata": {},
     "output_type": "display_data"
    },
    {
     "data": {
      "text/plain": [
       "Index(['user_id', 'distance', 'duration', 'date'], dtype='object')"
      ]
     },
     "execution_count": 4,
     "metadata": {},
     "output_type": "execute_result"
    }
   ],
   "source": [
    "rides_go.info()\n",
    "display(rides_go.head())\n",
    "display(rides_go.isna().sum())\n",
    "rides_go.columns"
   ]
  },
  {
   "cell_type": "code",
   "execution_count": 5,
   "id": "929472e1",
   "metadata": {
    "scrolled": false
   },
   "outputs": [
    {
     "name": "stdout",
     "output_type": "stream",
     "text": [
      "<class 'pandas.core.frame.DataFrame'>\n",
      "RangeIndex: 2 entries, 0 to 1\n",
      "Data columns (total 4 columns):\n",
      " #   Column             Non-Null Count  Dtype \n",
      "---  ------             --------------  ----- \n",
      " 0   subscription_type  2 non-null      object\n",
      " 1   minute_price       2 non-null      int64 \n",
      " 2   start_ride_price   2 non-null      int64 \n",
      " 3   subscription_fee   2 non-null      int64 \n",
      "dtypes: int64(3), object(1)\n",
      "memory usage: 192.0+ bytes\n"
     ]
    },
    {
     "data": {
      "text/html": [
       "<div>\n",
       "<style scoped>\n",
       "    .dataframe tbody tr th:only-of-type {\n",
       "        vertical-align: middle;\n",
       "    }\n",
       "\n",
       "    .dataframe tbody tr th {\n",
       "        vertical-align: top;\n",
       "    }\n",
       "\n",
       "    .dataframe thead th {\n",
       "        text-align: right;\n",
       "    }\n",
       "</style>\n",
       "<table border=\"1\" class=\"dataframe\">\n",
       "  <thead>\n",
       "    <tr style=\"text-align: right;\">\n",
       "      <th></th>\n",
       "      <th>subscription_type</th>\n",
       "      <th>minute_price</th>\n",
       "      <th>start_ride_price</th>\n",
       "      <th>subscription_fee</th>\n",
       "    </tr>\n",
       "  </thead>\n",
       "  <tbody>\n",
       "    <tr>\n",
       "      <th>0</th>\n",
       "      <td>free</td>\n",
       "      <td>8</td>\n",
       "      <td>50</td>\n",
       "      <td>0</td>\n",
       "    </tr>\n",
       "    <tr>\n",
       "      <th>1</th>\n",
       "      <td>ultra</td>\n",
       "      <td>6</td>\n",
       "      <td>0</td>\n",
       "      <td>199</td>\n",
       "    </tr>\n",
       "  </tbody>\n",
       "</table>\n",
       "</div>"
      ],
      "text/plain": [
       "  subscription_type  minute_price  start_ride_price  subscription_fee\n",
       "0              free             8                50                 0\n",
       "1             ultra             6                 0               199"
      ]
     },
     "metadata": {},
     "output_type": "display_data"
    },
    {
     "data": {
      "text/plain": [
       "subscription_type    0\n",
       "minute_price         0\n",
       "start_ride_price     0\n",
       "subscription_fee     0\n",
       "dtype: int64"
      ]
     },
     "metadata": {},
     "output_type": "display_data"
    },
    {
     "data": {
      "text/plain": [
       "Index(['subscription_type', 'minute_price', 'start_ride_price',\n",
       "       'subscription_fee'],\n",
       "      dtype='object')"
      ]
     },
     "execution_count": 5,
     "metadata": {},
     "output_type": "execute_result"
    }
   ],
   "source": [
    "subscriptions_go.info()\n",
    "display(subscriptions_go.head())\n",
    "display(subscriptions_go.isna().sum())\n",
    "subscriptions_go.columns"
   ]
  },
  {
   "cell_type": "markdown",
   "id": "881581d7",
   "metadata": {},
   "source": [
    "**Вывод: во всех таблицах отсутствуют пропущенные значения. Все типы данных подходящие, кроме столбца `date` в таблице `rides_go`. К наименованиям столбцов вопросов нет.**"
   ]
  },
  {
   "cell_type": "markdown",
   "id": "e95ebca7",
   "metadata": {},
   "source": [
    "#### Шаг 2. Предобработка данных"
   ]
  },
  {
   "cell_type": "markdown",
   "id": "9f6208a8",
   "metadata": {},
   "source": [
    "**Перевод столбца `date` к типу datetime:**"
   ]
  },
  {
   "cell_type": "code",
   "execution_count": 6,
   "id": "af6d202c",
   "metadata": {
    "scrolled": true
   },
   "outputs": [
    {
     "name": "stdout",
     "output_type": "stream",
     "text": [
      "<class 'pandas.core.frame.DataFrame'>\n",
      "RangeIndex: 18068 entries, 0 to 18067\n",
      "Data columns (total 4 columns):\n",
      " #   Column    Non-Null Count  Dtype         \n",
      "---  ------    --------------  -----         \n",
      " 0   user_id   18068 non-null  int64         \n",
      " 1   distance  18068 non-null  float64       \n",
      " 2   duration  18068 non-null  float64       \n",
      " 3   date      18068 non-null  datetime64[ns]\n",
      "dtypes: datetime64[ns](1), float64(2), int64(1)\n",
      "memory usage: 564.8 KB\n",
      "В датафрейме представлены данные с 2021-01-01 00:00:00 до 2021-12-30 00:00:00\n"
     ]
    }
   ],
   "source": [
    "rides_go['date'] = pd.to_datetime(rides_go['date'], format='%Y-%m-%d')\n",
    "rides_go.info()\n",
    "a = rides_go['date'].min()\n",
    "b = rides_go['date'].max()\n",
    "print(f'В датафрейме представлены данные с {a} до {b}')"
   ]
  },
  {
   "cell_type": "markdown",
   "id": "bd12acf6",
   "metadata": {},
   "source": [
    "**Добавление столбца с номером месяца на основе столбца `date`:**"
   ]
  },
  {
   "cell_type": "code",
   "execution_count": 7,
   "id": "d64075a2",
   "metadata": {
    "scrolled": true
   },
   "outputs": [
    {
     "data": {
      "text/html": [
       "<div>\n",
       "<style scoped>\n",
       "    .dataframe tbody tr th:only-of-type {\n",
       "        vertical-align: middle;\n",
       "    }\n",
       "\n",
       "    .dataframe tbody tr th {\n",
       "        vertical-align: top;\n",
       "    }\n",
       "\n",
       "    .dataframe thead th {\n",
       "        text-align: right;\n",
       "    }\n",
       "</style>\n",
       "<table border=\"1\" class=\"dataframe\">\n",
       "  <thead>\n",
       "    <tr style=\"text-align: right;\">\n",
       "      <th></th>\n",
       "      <th>user_id</th>\n",
       "      <th>distance</th>\n",
       "      <th>duration</th>\n",
       "      <th>date</th>\n",
       "      <th>date_month</th>\n",
       "    </tr>\n",
       "  </thead>\n",
       "  <tbody>\n",
       "    <tr>\n",
       "      <th>0</th>\n",
       "      <td>1</td>\n",
       "      <td>4409.919140</td>\n",
       "      <td>25.599769</td>\n",
       "      <td>2021-01-01</td>\n",
       "      <td>1</td>\n",
       "    </tr>\n",
       "    <tr>\n",
       "      <th>1</th>\n",
       "      <td>1</td>\n",
       "      <td>2617.592153</td>\n",
       "      <td>15.816871</td>\n",
       "      <td>2021-01-18</td>\n",
       "      <td>1</td>\n",
       "    </tr>\n",
       "    <tr>\n",
       "      <th>2</th>\n",
       "      <td>1</td>\n",
       "      <td>754.159807</td>\n",
       "      <td>6.232113</td>\n",
       "      <td>2021-04-20</td>\n",
       "      <td>4</td>\n",
       "    </tr>\n",
       "    <tr>\n",
       "      <th>3</th>\n",
       "      <td>1</td>\n",
       "      <td>2694.783254</td>\n",
       "      <td>18.511000</td>\n",
       "      <td>2021-08-11</td>\n",
       "      <td>8</td>\n",
       "    </tr>\n",
       "    <tr>\n",
       "      <th>4</th>\n",
       "      <td>1</td>\n",
       "      <td>4028.687306</td>\n",
       "      <td>26.265803</td>\n",
       "      <td>2021-08-28</td>\n",
       "      <td>8</td>\n",
       "    </tr>\n",
       "  </tbody>\n",
       "</table>\n",
       "</div>"
      ],
      "text/plain": [
       "   user_id     distance   duration       date  date_month\n",
       "0        1  4409.919140  25.599769 2021-01-01           1\n",
       "1        1  2617.592153  15.816871 2021-01-18           1\n",
       "2        1   754.159807   6.232113 2021-04-20           4\n",
       "3        1  2694.783254  18.511000 2021-08-11           8\n",
       "4        1  4028.687306  26.265803 2021-08-28           8"
      ]
     },
     "execution_count": 7,
     "metadata": {},
     "output_type": "execute_result"
    }
   ],
   "source": [
    "rides_go['date_month'] = pd.DatetimeIndex(rides_go['date']).month\n",
    "rides_go.head()"
   ]
  },
  {
   "cell_type": "markdown",
   "id": "ff73efde",
   "metadata": {},
   "source": [
    "**Утсранение явных дубликатов:**"
   ]
  },
  {
   "cell_type": "code",
   "execution_count": 8,
   "id": "bd795777",
   "metadata": {},
   "outputs": [
    {
     "data": {
      "text/plain": [
       "31"
      ]
     },
     "metadata": {},
     "output_type": "display_data"
    },
    {
     "data": {
      "text/plain": [
       "0"
      ]
     },
     "execution_count": 8,
     "metadata": {},
     "output_type": "execute_result"
    }
   ],
   "source": [
    "display(users_go.duplicated().sum()) #дубликаты в таблице users_go\n",
    "rides_go.duplicated().sum() #дубликаты в таблице rides_go"
   ]
  },
  {
   "cell_type": "code",
   "execution_count": 9,
   "id": "07c551eb",
   "metadata": {
    "scrolled": true
   },
   "outputs": [
    {
     "name": "stdout",
     "output_type": "stream",
     "text": [
      "Количество оставшихся строк в датафреме 98.0%\n"
     ]
    }
   ],
   "source": [
    "users_go = users_go.drop_duplicates()\n",
    "users_go_after = users_go['user_id'].count()\n",
    "percent = users_go_after/users_go_before\n",
    "print(f'Количество оставшихся строк в датафреме {percent:.1%}')"
   ]
  },
  {
   "cell_type": "markdown",
   "id": "9b6449ba",
   "metadata": {},
   "source": [
    "**Сравнение количества уникальных пользователей в таблицах `users_go` и `rides_go`:**"
   ]
  },
  {
   "cell_type": "code",
   "execution_count": 10,
   "id": "7a3ca4e0",
   "metadata": {
    "scrolled": true
   },
   "outputs": [
    {
     "data": {
      "text/plain": [
       "1534"
      ]
     },
     "metadata": {},
     "output_type": "display_data"
    },
    {
     "data": {
      "text/plain": [
       "1534"
      ]
     },
     "execution_count": 10,
     "metadata": {},
     "output_type": "execute_result"
    }
   ],
   "source": [
    "display(len(users_go['user_id'].unique()))\n",
    "len(rides_go['user_id'].unique())"
   ]
  },
  {
   "cell_type": "markdown",
   "id": "065b9aae",
   "metadata": {},
   "source": [
    "**Вывод: был изменен тип данных для столбца `date`. Добавлена колонка в таблицу с номером месяца. Устранены явные дубликаты после чего количество уникальных пользователей в датафреймах `users_go` и `rides_go` стало одинаковым.**"
   ]
  },
  {
   "cell_type": "markdown",
   "id": "212593c7",
   "metadata": {},
   "source": [
    "#### Шаг 3. Исследовательский анализ данных"
   ]
  },
  {
   "cell_type": "markdown",
   "id": "b95d8074",
   "metadata": {},
   "source": [
    "**Описание и визуализация общей информации о пользователях и поездках**"
   ]
  },
  {
   "cell_type": "markdown",
   "id": "91fd66a0",
   "metadata": {},
   "source": [
    "**Частота встречаемости городов:**"
   ]
  },
  {
   "cell_type": "code",
   "execution_count": 11,
   "id": "5b0a1bfb",
   "metadata": {
    "scrolled": false
   },
   "outputs": [
    {
     "data": {
      "text/plain": [
       "8"
      ]
     },
     "metadata": {},
     "output_type": "display_data"
    },
    {
     "data": {
      "text/plain": [
       "Пятигорск         219\n",
       "Екатеринбург      204\n",
       "Ростов-на-Дону    198\n",
       "Краснодар         193\n",
       "Сочи              189\n",
       "Омск              183\n",
       "Тюмень            180\n",
       "Москва            168\n",
       "Name: city, dtype: int64"
      ]
     },
     "execution_count": 11,
     "metadata": {},
     "output_type": "execute_result"
    }
   ],
   "source": [
    "display(len(users_go['city'].unique()))\n",
    "users_go['city'].value_counts()"
   ]
  },
  {
   "cell_type": "markdown",
   "id": "fa7181e7",
   "metadata": {},
   "source": [
    "Всего в данных представлены пользователи из 8 городов. Наибольшее количество пользователей из Пятигорска, наименьшее - из Москвы."
   ]
  },
  {
   "cell_type": "code",
   "execution_count": 12,
   "id": "5ba1b458",
   "metadata": {},
   "outputs": [
    {
     "data": {
      "image/png": "[encoded data removed]",
      "text/plain": [
       "<Figure size 432x288 with 1 Axes>"
      ]
     },
     "metadata": {
      "needs_background": "light"
     },
     "output_type": "display_data"
    }
   ],
   "source": [
    "users_go['city'].value_counts().plot.bar(title='Частота встречаемости городов')\n",
    "plt.show()"
   ]
  },
  {
   "cell_type": "markdown",
   "id": "66602822",
   "metadata": {},
   "source": [
    "**Соотношение пользователей с подпиской и без подписки:**"
   ]
  },
  {
   "cell_type": "code",
   "execution_count": 13,
   "id": "416e43c7",
   "metadata": {
    "scrolled": false
   },
   "outputs": [
    {
     "data": {
      "text/plain": [
       "subscription_type\n",
       "free     835\n",
       "ultra    699\n",
       "Name: user_id, dtype: int64"
      ]
     },
     "metadata": {},
     "output_type": "display_data"
    },
    {
     "name": "stdout",
     "output_type": "stream",
     "text": [
      "Количество пользователей без подписки 54.4%\n",
      "Количество пользователей с подпиской 45.6%\n"
     ]
    },
    {
     "data": {
      "image/png": "[encoded data removed]",
      "text/plain": [
       "<Figure size 432x288 with 1 Axes>"
      ]
     },
     "metadata": {
      "needs_background": "light"
     },
     "output_type": "display_data"
    }
   ],
   "source": [
    "display(users_go.groupby('subscription_type')['user_id'].count())\n",
    "free = users_go.loc[users_go['subscription_type'] == 'free', 'user_id'].count()/users_go['user_id'].count()\n",
    "ultra = users_go.loc[users_go['subscription_type'] == 'ultra', 'user_id'].count()/users_go['user_id'].count()\n",
    "print(f'Количество пользователей без подписки {free:.1%}')\n",
    "print(f'Количество пользователей с подпиской {ultra:.1%}')\n",
    "users_go['subscription_type'].value_counts().plot.bar(title='Соотношение пользователей с подпиской и без подписки')\n",
    "plt.show()"
   ]
  },
  {
   "cell_type": "markdown",
   "id": "ca12ddbf",
   "metadata": {},
   "source": [
    "Пользователей без подписки на 8,8 % больше, чем пользователей с подпиской."
   ]
  },
  {
   "cell_type": "markdown",
   "id": "5662b725",
   "metadata": {},
   "source": [
    "**Возраст пользователей:**"
   ]
  },
  {
   "cell_type": "code",
   "execution_count": 15,
   "id": "a5d36ffd",
   "metadata": {
    "scrolled": true
   },
   "outputs": [
    {
     "data": {
      "text/plain": [
       "count    1534.000000\n",
       "mean       24.903520\n",
       "std         4.572367\n",
       "min        12.000000\n",
       "25%        22.000000\n",
       "50%        25.000000\n",
       "75%        28.000000\n",
       "max        43.000000\n",
       "Name: age, dtype: float64"
      ]
     },
     "execution_count": 15,
     "metadata": {},
     "output_type": "execute_result"
    }
   ],
   "source": [
    "users_go['age'].describe()"
   ]
  },
  {
   "cell_type": "code",
   "execution_count": 16,
   "id": "99afb7c8",
   "metadata": {
    "scrolled": true
   },
   "outputs": [
    {
     "data": {
      "image/png": "[encoded data removed]",
      "text/plain": [
       "<Figure size 432x288 with 1 Axes>"
      ]
     },
     "metadata": {
      "needs_background": "light"
     },
     "output_type": "display_data"
    },
    {
     "data": {
      "text/plain": [
       "25    145\n",
       "24    132\n",
       "26    131\n",
       "23    129\n",
       "27    119\n",
       "22    119\n",
       "28    112\n",
       "21     93\n",
       "20     71\n",
       "30     68\n",
       "29     68\n",
       "31     48\n",
       "19     47\n",
       "18     46\n",
       "32     41\n",
       "33     39\n",
       "17     26\n",
       "34     19\n",
       "16     19\n",
       "35     15\n",
       "15     13\n",
       "14      9\n",
       "13      8\n",
       "36      6\n",
       "12      4\n",
       "38      3\n",
       "37      2\n",
       "39      1\n",
       "43      1\n",
       "Name: age, dtype: int64"
      ]
     },
     "execution_count": 16,
     "metadata": {},
     "output_type": "execute_result"
    }
   ],
   "source": [
    "users_go['age'].plot(kind='hist', bins=100, title='Возраст пользователей')\n",
    "plt.show()\n",
    "users_go['age'].value_counts()"
   ]
  },
  {
   "cell_type": "markdown",
   "id": "af8d154e",
   "metadata": {},
   "source": [
    "Наиболее часто сервисом пользуется группа людей возрастом от 20 до 30 лет (самый популярный возраст - 25 лет). Меньше всего сервисом пользуются люди до 15 и старше 36 лет."
   ]
  },
  {
   "cell_type": "markdown",
   "id": "89e600e1",
   "metadata": {},
   "source": [
    "**Расстояние, которое пользователь преодолел за одну поездку:**"
   ]
  },
  {
   "cell_type": "code",
   "execution_count": 17,
   "id": "acc6afeb",
   "metadata": {
    "scrolled": true
   },
   "outputs": [
    {
     "data": {
      "text/plain": [
       "count    18068.000000\n",
       "mean      3070.659976\n",
       "std       1116.831209\n",
       "min          0.855683\n",
       "25%       2543.226360\n",
       "50%       3133.609994\n",
       "75%       3776.222735\n",
       "max       7211.007745\n",
       "Name: distance, dtype: float64"
      ]
     },
     "execution_count": 17,
     "metadata": {},
     "output_type": "execute_result"
    }
   ],
   "source": [
    "rides_go['distance'].describe()"
   ]
  },
  {
   "cell_type": "code",
   "execution_count": 18,
   "id": "8ecf19bb",
   "metadata": {
    "scrolled": false
   },
   "outputs": [
    {
     "data": {
      "image/png": "[encoded data removed]",
      "text/plain": [
       "<Figure size 432x288 with 1 Axes>"
      ]
     },
     "metadata": {
      "needs_background": "light"
     },
     "output_type": "display_data"
    },
    {
     "data": {
      "image/png": "[encoded data removed]",
      "text/plain": [
       "<Figure size 432x288 with 1 Axes>"
      ]
     },
     "metadata": {
      "needs_background": "light"
     },
     "output_type": "display_data"
    }
   ],
   "source": [
    "rides_go['distance'].plot(kind='hist', bins=100, title='Расстояние, которое пользователь преодолел за одну поездку')\n",
    "plt.show()\n",
    "rides_go['distance'].plot(kind='hist', bins=100, range=(0, 1500), title='Расстояние, которое пользователь преодолел за одну поездку до 1500 м')\n",
    "plt.show()"
   ]
  },
  {
   "cell_type": "markdown",
   "id": "db5a721e",
   "metadata": {},
   "source": [
    "Чаще всего пользователи пользуются самокатом на расстояние около 3100 метров. Далее идут нисходящие тренды 7211 и до около 1500 метров. Также есть пик на расстояние около 600 метров, возможно, люди пользуются самокатом в данном случае не для прогулки, а для того, чтобы добраться до метро. "
   ]
  },
  {
   "cell_type": "markdown",
   "id": "ab193d55",
   "metadata": {},
   "source": [
    "**Продолжительность поездок:**"
   ]
  },
  {
   "cell_type": "code",
   "execution_count": 19,
   "id": "e53ca7d1",
   "metadata": {
    "scrolled": false
   },
   "outputs": [
    {
     "data": {
      "text/plain": [
       "count    18068.000000\n",
       "mean        17.805011\n",
       "std          6.091051\n",
       "min          0.500000\n",
       "25%         13.597563\n",
       "50%         17.678395\n",
       "75%         21.724800\n",
       "max         40.823963\n",
       "Name: duration, dtype: float64"
      ]
     },
     "execution_count": 19,
     "metadata": {},
     "output_type": "execute_result"
    }
   ],
   "source": [
    "rides_go['duration'].describe()"
   ]
  },
  {
   "cell_type": "code",
   "execution_count": 20,
   "id": "3ca013b2",
   "metadata": {
    "scrolled": true
   },
   "outputs": [
    {
     "data": {
      "image/png": "[encoded data removed]",
      "text/plain": [
       "<Figure size 432x288 with 1 Axes>"
      ]
     },
     "metadata": {
      "needs_background": "light"
     },
     "output_type": "display_data"
    },
    {
     "data": {
      "image/png": "[encoded data removed]",
      "text/plain": [
       "<Figure size 432x288 with 1 Axes>"
      ]
     },
     "metadata": {
      "needs_background": "light"
     },
     "output_type": "display_data"
    },
    {
     "data": {
      "text/plain": [
       "95"
      ]
     },
     "metadata": {},
     "output_type": "display_data"
    },
    {
     "data": {
      "text/plain": [
       "1364    2\n",
       "1007    2\n",
       "1243    2\n",
       "973     2\n",
       "1224    2\n",
       "       ..\n",
       "1317    1\n",
       "804     1\n",
       "931     1\n",
       "1057    1\n",
       "1176    1\n",
       "Name: user_id, Length: 90, dtype: int64"
      ]
     },
     "execution_count": 20,
     "metadata": {},
     "output_type": "execute_result"
    }
   ],
   "source": [
    "rides_go['duration'].plot(kind='hist', bins=100, title='Продолжительность поездок')\n",
    "plt.show()\n",
    "rides_go['duration'].plot(kind='hist', bins=100, range=(0,5), title='Продолжительность поездок до 5 минут')\n",
    "plt.show()\n",
    "display(rides_go.loc[rides_go['duration'] == 0.5, 'user_id'].count())\n",
    "rides_go_less_than_5_min = rides_go.loc[rides_go['duration'] == 0.5]\n",
    "rides_go_less_than_5_min['user_id'].value_counts()"
   ]
  },
  {
   "cell_type": "code",
   "execution_count": 21,
   "id": "0809cf7d",
   "metadata": {
    "scrolled": false
   },
   "outputs": [
    {
     "name": "stdout",
     "output_type": "stream",
     "text": [
      "<class 'pandas.core.frame.DataFrame'>\n",
      "Int64Index: 1534 entries, 0 to 1533\n",
      "Data columns (total 5 columns):\n",
      " #   Column             Non-Null Count  Dtype \n",
      "---  ------             --------------  ----- \n",
      " 0   user_id            1534 non-null   int64 \n",
      " 1   name               1534 non-null   object\n",
      " 2   age                1534 non-null   int64 \n",
      " 3   city               1534 non-null   object\n",
      " 4   subscription_type  1534 non-null   object\n",
      "dtypes: int64(2), object(3)\n",
      "memory usage: 71.9+ KB\n",
      "<class 'pandas.core.frame.DataFrame'>\n",
      "RangeIndex: 18068 entries, 0 to 18067\n",
      "Data columns (total 5 columns):\n",
      " #   Column      Non-Null Count  Dtype         \n",
      "---  ------      --------------  -----         \n",
      " 0   user_id     18068 non-null  int64         \n",
      " 1   distance    18068 non-null  float64       \n",
      " 2   duration    18068 non-null  float64       \n",
      " 3   date        18068 non-null  datetime64[ns]\n",
      " 4   date_month  18068 non-null  int64         \n",
      "dtypes: datetime64[ns](1), float64(2), int64(2)\n",
      "memory usage: 705.9 KB\n",
      "<class 'pandas.core.frame.DataFrame'>\n",
      "RangeIndex: 2 entries, 0 to 1\n",
      "Data columns (total 4 columns):\n",
      " #   Column             Non-Null Count  Dtype \n",
      "---  ------             --------------  ----- \n",
      " 0   subscription_type  2 non-null      object\n",
      " 1   minute_price       2 non-null      int64 \n",
      " 2   start_ride_price   2 non-null      int64 \n",
      " 3   subscription_fee   2 non-null      int64 \n",
      "dtypes: int64(3), object(1)\n",
      "memory usage: 192.0+ bytes\n"
     ]
    }
   ],
   "source": [
    "users_go.info()\n",
    "rides_go.info()\n",
    "subscriptions_go.info()"
   ]
  },
  {
   "cell_type": "markdown",
   "id": "05f085ef",
   "metadata": {},
   "source": [
    "В основном, продолжительность поездки составляет около 18 минут. Однако встречается 95 случаев, когда продолжительность поездки составила пол минуты. У пользователей, оказавшихся в такой ситуации, это случалось не более 2 раз. Соответственно, можно предположить, что самокаты могли быть разряжены и пользователям приходилось завершать сессию по использованию. "
   ]
  },
  {
   "cell_type": "markdown",
   "id": "5f10efc6",
   "metadata": {},
   "source": [
    "**Вывод:** \n",
    "\n",
    "**- всего в данных представлены пользователи из 8 городов. Наибольшее количество пользователей из Пятигорска, наименьшее - из Москвы;** \n",
    "\n",
    "**- количество пользователей без подписки равно 54.4%. Количество пользователей с подпиской составляет 45.6%;** \n",
    "\n",
    "**- наиболее часто сервисом пользуется группа людей возрастом от 20 до 30 лет (самый популярный возраст - 25 лет). Меньше всего сервисом пользуются люди до 15 и старше 36 лет;** \n",
    "\n",
    "**- чаще всего пользователи пользуются самокатом на расстояние около 3100 метров;**\n",
    "\n",
    "**- в основном, продолжительность поездки составляет около 18 минут.**"
   ]
  },
  {
   "cell_type": "markdown",
   "id": "4ef51331",
   "metadata": {},
   "source": [
    "#### Шаг 4. Объединение данных"
   ]
  },
  {
   "cell_type": "markdown",
   "id": "9be22809",
   "metadata": {},
   "source": [
    "**Создадим таблицу `users` из таблиц `users_go`, `subscriptions_go` и `rides_go`:**"
   ]
  },
  {
   "cell_type": "code",
   "execution_count": 22,
   "id": "6bf288b5",
   "metadata": {},
   "outputs": [
    {
     "data": {
      "text/html": [
       "<div>\n",
       "<style scoped>\n",
       "    .dataframe tbody tr th:only-of-type {\n",
       "        vertical-align: middle;\n",
       "    }\n",
       "\n",
       "    .dataframe tbody tr th {\n",
       "        vertical-align: top;\n",
       "    }\n",
       "\n",
       "    .dataframe thead th {\n",
       "        text-align: right;\n",
       "    }\n",
       "</style>\n",
       "<table border=\"1\" class=\"dataframe\">\n",
       "  <thead>\n",
       "    <tr style=\"text-align: right;\">\n",
       "      <th></th>\n",
       "      <th>user_id</th>\n",
       "      <th>distance</th>\n",
       "      <th>duration</th>\n",
       "      <th>date</th>\n",
       "      <th>date_month</th>\n",
       "      <th>name</th>\n",
       "      <th>age</th>\n",
       "      <th>city</th>\n",
       "      <th>subscription_type</th>\n",
       "      <th>minute_price</th>\n",
       "      <th>start_ride_price</th>\n",
       "      <th>subscription_fee</th>\n",
       "    </tr>\n",
       "  </thead>\n",
       "  <tbody>\n",
       "    <tr>\n",
       "      <th>0</th>\n",
       "      <td>1</td>\n",
       "      <td>4409.919140</td>\n",
       "      <td>25.599769</td>\n",
       "      <td>2021-01-01</td>\n",
       "      <td>1</td>\n",
       "      <td>Кира</td>\n",
       "      <td>22</td>\n",
       "      <td>Тюмень</td>\n",
       "      <td>ultra</td>\n",
       "      <td>6</td>\n",
       "      <td>0</td>\n",
       "      <td>199</td>\n",
       "    </tr>\n",
       "    <tr>\n",
       "      <th>1</th>\n",
       "      <td>1</td>\n",
       "      <td>2617.592153</td>\n",
       "      <td>15.816871</td>\n",
       "      <td>2021-01-18</td>\n",
       "      <td>1</td>\n",
       "      <td>Кира</td>\n",
       "      <td>22</td>\n",
       "      <td>Тюмень</td>\n",
       "      <td>ultra</td>\n",
       "      <td>6</td>\n",
       "      <td>0</td>\n",
       "      <td>199</td>\n",
       "    </tr>\n",
       "    <tr>\n",
       "      <th>2</th>\n",
       "      <td>1</td>\n",
       "      <td>754.159807</td>\n",
       "      <td>6.232113</td>\n",
       "      <td>2021-04-20</td>\n",
       "      <td>4</td>\n",
       "      <td>Кира</td>\n",
       "      <td>22</td>\n",
       "      <td>Тюмень</td>\n",
       "      <td>ultra</td>\n",
       "      <td>6</td>\n",
       "      <td>0</td>\n",
       "      <td>199</td>\n",
       "    </tr>\n",
       "    <tr>\n",
       "      <th>3</th>\n",
       "      <td>1</td>\n",
       "      <td>2694.783254</td>\n",
       "      <td>18.511000</td>\n",
       "      <td>2021-08-11</td>\n",
       "      <td>8</td>\n",
       "      <td>Кира</td>\n",
       "      <td>22</td>\n",
       "      <td>Тюмень</td>\n",
       "      <td>ultra</td>\n",
       "      <td>6</td>\n",
       "      <td>0</td>\n",
       "      <td>199</td>\n",
       "    </tr>\n",
       "    <tr>\n",
       "      <th>4</th>\n",
       "      <td>1</td>\n",
       "      <td>4028.687306</td>\n",
       "      <td>26.265803</td>\n",
       "      <td>2021-08-28</td>\n",
       "      <td>8</td>\n",
       "      <td>Кира</td>\n",
       "      <td>22</td>\n",
       "      <td>Тюмень</td>\n",
       "      <td>ultra</td>\n",
       "      <td>6</td>\n",
       "      <td>0</td>\n",
       "      <td>199</td>\n",
       "    </tr>\n",
       "  </tbody>\n",
       "</table>\n",
       "</div>"
      ],
      "text/plain": [
       "   user_id     distance   duration       date  date_month  name  age    city  \\\n",
       "0        1  4409.919140  25.599769 2021-01-01           1  Кира   22  Тюмень   \n",
       "1        1  2617.592153  15.816871 2021-01-18           1  Кира   22  Тюмень   \n",
       "2        1   754.159807   6.232113 2021-04-20           4  Кира   22  Тюмень   \n",
       "3        1  2694.783254  18.511000 2021-08-11           8  Кира   22  Тюмень   \n",
       "4        1  4028.687306  26.265803 2021-08-28           8  Кира   22  Тюмень   \n",
       "\n",
       "  subscription_type  minute_price  start_ride_price  subscription_fee  \n",
       "0             ultra             6                 0               199  \n",
       "1             ultra             6                 0               199  \n",
       "2             ultra             6                 0               199  \n",
       "3             ultra             6                 0               199  \n",
       "4             ultra             6                 0               199  "
      ]
     },
     "execution_count": 22,
     "metadata": {},
     "output_type": "execute_result"
    }
   ],
   "source": [
    "users=pd.merge(users_go, subscriptions_go, how='outer', on='subscription_type')\n",
    "users=pd.merge(rides_go, users, how='outer', on='user_id')\n",
    "users.head()"
   ]
  },
  {
   "cell_type": "markdown",
   "id": "13288e56",
   "metadata": {},
   "source": [
    "**Создадим датафреймы для пользователей с подпиской и без:**"
   ]
  },
  {
   "cell_type": "code",
   "execution_count": 23,
   "id": "e5a9149c",
   "metadata": {},
   "outputs": [],
   "source": [
    "users_with_free = users.loc[users['subscription_type'] == 'free']\n",
    "users_with_ultra = users.loc[users['subscription_type'] == 'ultra']"
   ]
  },
  {
   "cell_type": "markdown",
   "id": "22bfc3b2",
   "metadata": {},
   "source": [
    "**Визуализация расстояния и времени поездок для пользователей с подпиской и без:**"
   ]
  },
  {
   "cell_type": "code",
   "execution_count": 25,
   "id": "64ae9ae5",
   "metadata": {
    "scrolled": false
   },
   "outputs": [
    {
     "data": {
      "image/png": "[encoded data removed]",
      "text/plain": [
       "<Figure size 432x288 with 1 Axes>"
      ]
     },
     "metadata": {
      "needs_background": "light"
     },
     "output_type": "display_data"
    },
    {
     "data": {
      "image/png": "[encoded data removed]",
      "text/plain": [
       "<Figure size 432x288 with 1 Axes>"
      ]
     },
     "metadata": {
      "needs_background": "light"
     },
     "output_type": "display_data"
    },
    {
     "data": {
      "image/png": "[encoded data removed]",
      "text/plain": [
       "<Figure size 432x288 with 1 Axes>"
      ]
     },
     "metadata": {
      "needs_background": "light"
     },
     "output_type": "display_data"
    },
    {
     "data": {
      "image/png": "[encoded data removed]",
      "text/plain": [
       "<Figure size 432x288 with 1 Axes>"
      ]
     },
     "metadata": {
      "needs_background": "light"
     },
     "output_type": "display_data"
    }
   ],
   "source": [
    "users_with_free['distance'].plot(kind='hist', bins=100, color='g', title='Расстояние поездки для пользователей без подписки')\n",
    "plt.show()\n",
    "\n",
    "users_with_ultra['distance'].plot(kind='hist', bins=100, title='Расстояние поездки для пользователей с подпиской')\n",
    "plt.show()\n",
    "\n",
    "users_with_free['duration'].plot(kind='hist', bins=100, color='g', title='Время поездки для пользователей без подписки')\n",
    "plt.show()\n",
    "\n",
    "users_with_ultra['duration'].plot(kind='hist', bins=100, title='Время поездки для пользователей с подпиской')\n",
    "plt.show()"
   ]
  },
  {
   "cell_type": "code",
   "execution_count": 26,
   "id": "165575aa",
   "metadata": {
    "scrolled": true
   },
   "outputs": [
    {
     "data": {
      "text/plain": [
       "count    11568.000000\n",
       "mean      3045.495282\n",
       "std       1246.173806\n",
       "min          0.855683\n",
       "25%       2366.562689\n",
       "50%       3114.648465\n",
       "75%       3905.697894\n",
       "max       7211.007745\n",
       "Name: distance, dtype: float64"
      ]
     },
     "execution_count": 26,
     "metadata": {},
     "output_type": "execute_result"
    }
   ],
   "source": [
    "users_with_free['distance'].describe()"
   ]
  },
  {
   "cell_type": "code",
   "execution_count": 27,
   "id": "fde0e928",
   "metadata": {
    "scrolled": true
   },
   "outputs": [
    {
     "data": {
      "text/plain": [
       "count    6500.000000\n",
       "mean     3115.445388\n",
       "std       836.895330\n",
       "min       244.210438\n",
       "25%      2785.444017\n",
       "50%      3148.637229\n",
       "75%      3560.574425\n",
       "max      5699.769662\n",
       "Name: distance, dtype: float64"
      ]
     },
     "execution_count": 27,
     "metadata": {},
     "output_type": "execute_result"
    }
   ],
   "source": [
    "users_with_ultra['distance'].describe()"
   ]
  },
  {
   "cell_type": "code",
   "execution_count": 28,
   "id": "05421bbf",
   "metadata": {},
   "outputs": [
    {
     "data": {
      "text/plain": [
       "count    11568.000000\n",
       "mean        17.390909\n",
       "std          6.326803\n",
       "min          0.500000\n",
       "25%         12.958437\n",
       "50%         17.326890\n",
       "75%         21.594071\n",
       "max         34.948498\n",
       "Name: duration, dtype: float64"
      ]
     },
     "execution_count": 28,
     "metadata": {},
     "output_type": "execute_result"
    }
   ],
   "source": [
    "users_with_free['duration'].describe()"
   ]
  },
  {
   "cell_type": "code",
   "execution_count": 29,
   "id": "51e0a3f9",
   "metadata": {
    "scrolled": true
   },
   "outputs": [
    {
     "data": {
      "text/plain": [
       "count    6500.000000\n",
       "mean       18.541985\n",
       "std         5.572048\n",
       "min         3.760353\n",
       "25%        14.524654\n",
       "50%        18.178153\n",
       "75%        21.884129\n",
       "max        40.823963\n",
       "Name: duration, dtype: float64"
      ]
     },
     "execution_count": 29,
     "metadata": {},
     "output_type": "execute_result"
    }
   ],
   "source": [
    "users_with_ultra['duration'].describe()"
   ]
  },
  {
   "cell_type": "markdown",
   "id": "323fc6c1",
   "metadata": {},
   "source": [
    "**Вывод: в среднем, люди с подпиской проезжают на 70 метров больше, чем люди без подписки. Среднее и медианное время пользования для них также незначительно больше. Пользователи, воспользовавшиеся услугами пол минуты, оказались люди без подписки. Так что, предположение, сделанное ранее о том, что самокаты были разряжены, может быть неверным. Вероятнее всего, они не ознакомились с условиями пользования и, узнав, что с них сразу списалось 50 рублей, подумали, что так будет каждую минуту и решили завершить поездки.**"
   ]
  },
  {
   "cell_type": "markdown",
   "id": "402d620f",
   "metadata": {},
   "source": [
    "#### Шаг 5. Подсчёт выручки"
   ]
  },
  {
   "cell_type": "markdown",
   "id": "1766631b",
   "metadata": {},
   "source": [
    "**Сводная таблица по месяцам для каждого пользователя по суммарному расстоянию, суммарному времени, суммарному количеству поездок:**"
   ]
  },
  {
   "cell_type": "code",
   "execution_count": 30,
   "id": "59ec898a",
   "metadata": {
    "scrolled": true
   },
   "outputs": [
    {
     "name": "stdout",
     "output_type": "stream",
     "text": [
      "<class 'pandas.core.frame.DataFrame'>\n",
      "RangeIndex: 11331 entries, 0 to 11330\n",
      "Data columns (total 5 columns):\n",
      " #   Column      Non-Null Count  Dtype  \n",
      "---  ------      --------------  -----  \n",
      " 0   user_id     11331 non-null  int64  \n",
      " 1   date_month  11331 non-null  int64  \n",
      " 2   city        11331 non-null  int64  \n",
      " 3   distance    11331 non-null  float64\n",
      " 4   duration    11331 non-null  float64\n",
      "dtypes: float64(2), int64(3)\n",
      "memory usage: 442.7 KB\n"
     ]
    },
    {
     "data": {
      "text/html": [
       "<div>\n",
       "<style scoped>\n",
       "    .dataframe tbody tr th:only-of-type {\n",
       "        vertical-align: middle;\n",
       "    }\n",
       "\n",
       "    .dataframe tbody tr th {\n",
       "        vertical-align: top;\n",
       "    }\n",
       "\n",
       "    .dataframe thead th {\n",
       "        text-align: right;\n",
       "    }\n",
       "</style>\n",
       "<table border=\"1\" class=\"dataframe\">\n",
       "  <thead>\n",
       "    <tr style=\"text-align: right;\">\n",
       "      <th></th>\n",
       "      <th>user_id</th>\n",
       "      <th>date_month</th>\n",
       "      <th>city</th>\n",
       "      <th>distance</th>\n",
       "      <th>duration</th>\n",
       "    </tr>\n",
       "  </thead>\n",
       "  <tbody>\n",
       "    <tr>\n",
       "      <th>0</th>\n",
       "      <td>1</td>\n",
       "      <td>1</td>\n",
       "      <td>2</td>\n",
       "      <td>7027.511294</td>\n",
       "      <td>42.0</td>\n",
       "    </tr>\n",
       "    <tr>\n",
       "      <th>1</th>\n",
       "      <td>1</td>\n",
       "      <td>4</td>\n",
       "      <td>1</td>\n",
       "      <td>754.159807</td>\n",
       "      <td>7.0</td>\n",
       "    </tr>\n",
       "    <tr>\n",
       "      <th>2</th>\n",
       "      <td>1</td>\n",
       "      <td>8</td>\n",
       "      <td>2</td>\n",
       "      <td>6723.470560</td>\n",
       "      <td>46.0</td>\n",
       "    </tr>\n",
       "    <tr>\n",
       "      <th>3</th>\n",
       "      <td>1</td>\n",
       "      <td>10</td>\n",
       "      <td>2</td>\n",
       "      <td>5809.911100</td>\n",
       "      <td>32.0</td>\n",
       "    </tr>\n",
       "    <tr>\n",
       "      <th>4</th>\n",
       "      <td>1</td>\n",
       "      <td>11</td>\n",
       "      <td>3</td>\n",
       "      <td>7003.499363</td>\n",
       "      <td>56.0</td>\n",
       "    </tr>\n",
       "    <tr>\n",
       "      <th>5</th>\n",
       "      <td>1</td>\n",
       "      <td>12</td>\n",
       "      <td>2</td>\n",
       "      <td>6751.629942</td>\n",
       "      <td>28.0</td>\n",
       "    </tr>\n",
       "    <tr>\n",
       "      <th>6</th>\n",
       "      <td>2</td>\n",
       "      <td>3</td>\n",
       "      <td>3</td>\n",
       "      <td>10187.723006</td>\n",
       "      <td>63.0</td>\n",
       "    </tr>\n",
       "    <tr>\n",
       "      <th>7</th>\n",
       "      <td>2</td>\n",
       "      <td>4</td>\n",
       "      <td>2</td>\n",
       "      <td>6164.381824</td>\n",
       "      <td>40.0</td>\n",
       "    </tr>\n",
       "    <tr>\n",
       "      <th>8</th>\n",
       "      <td>2</td>\n",
       "      <td>6</td>\n",
       "      <td>1</td>\n",
       "      <td>3255.338202</td>\n",
       "      <td>14.0</td>\n",
       "    </tr>\n",
       "    <tr>\n",
       "      <th>9</th>\n",
       "      <td>2</td>\n",
       "      <td>7</td>\n",
       "      <td>2</td>\n",
       "      <td>6780.722964</td>\n",
       "      <td>48.0</td>\n",
       "    </tr>\n",
       "    <tr>\n",
       "      <th>10</th>\n",
       "      <td>2</td>\n",
       "      <td>8</td>\n",
       "      <td>1</td>\n",
       "      <td>923.007439</td>\n",
       "      <td>7.0</td>\n",
       "    </tr>\n",
       "    <tr>\n",
       "      <th>11</th>\n",
       "      <td>2</td>\n",
       "      <td>10</td>\n",
       "      <td>1</td>\n",
       "      <td>2824.636598</td>\n",
       "      <td>19.0</td>\n",
       "    </tr>\n",
       "    <tr>\n",
       "      <th>12</th>\n",
       "      <td>2</td>\n",
       "      <td>12</td>\n",
       "      <td>1</td>\n",
       "      <td>3828.248580</td>\n",
       "      <td>12.0</td>\n",
       "    </tr>\n",
       "    <tr>\n",
       "      <th>13</th>\n",
       "      <td>3</td>\n",
       "      <td>1</td>\n",
       "      <td>1</td>\n",
       "      <td>3061.777147</td>\n",
       "      <td>13.0</td>\n",
       "    </tr>\n",
       "    <tr>\n",
       "      <th>14</th>\n",
       "      <td>3</td>\n",
       "      <td>2</td>\n",
       "      <td>2</td>\n",
       "      <td>5421.152016</td>\n",
       "      <td>39.0</td>\n",
       "    </tr>\n",
       "    <tr>\n",
       "      <th>15</th>\n",
       "      <td>3</td>\n",
       "      <td>4</td>\n",
       "      <td>1</td>\n",
       "      <td>2956.651632</td>\n",
       "      <td>21.0</td>\n",
       "    </tr>\n",
       "    <tr>\n",
       "      <th>16</th>\n",
       "      <td>3</td>\n",
       "      <td>5</td>\n",
       "      <td>3</td>\n",
       "      <td>9064.026918</td>\n",
       "      <td>63.0</td>\n",
       "    </tr>\n",
       "    <tr>\n",
       "      <th>17</th>\n",
       "      <td>3</td>\n",
       "      <td>7</td>\n",
       "      <td>3</td>\n",
       "      <td>10919.595403</td>\n",
       "      <td>67.0</td>\n",
       "    </tr>\n",
       "    <tr>\n",
       "      <th>18</th>\n",
       "      <td>3</td>\n",
       "      <td>9</td>\n",
       "      <td>1</td>\n",
       "      <td>2891.012822</td>\n",
       "      <td>23.0</td>\n",
       "    </tr>\n",
       "    <tr>\n",
       "      <th>19</th>\n",
       "      <td>3</td>\n",
       "      <td>12</td>\n",
       "      <td>1</td>\n",
       "      <td>2593.381928</td>\n",
       "      <td>13.0</td>\n",
       "    </tr>\n",
       "  </tbody>\n",
       "</table>\n",
       "</div>"
      ],
      "text/plain": [
       "    user_id  date_month  city      distance  duration\n",
       "0         1           1     2   7027.511294      42.0\n",
       "1         1           4     1    754.159807       7.0\n",
       "2         1           8     2   6723.470560      46.0\n",
       "3         1          10     2   5809.911100      32.0\n",
       "4         1          11     3   7003.499363      56.0\n",
       "5         1          12     2   6751.629942      28.0\n",
       "6         2           3     3  10187.723006      63.0\n",
       "7         2           4     2   6164.381824      40.0\n",
       "8         2           6     1   3255.338202      14.0\n",
       "9         2           7     2   6780.722964      48.0\n",
       "10        2           8     1    923.007439       7.0\n",
       "11        2          10     1   2824.636598      19.0\n",
       "12        2          12     1   3828.248580      12.0\n",
       "13        3           1     1   3061.777147      13.0\n",
       "14        3           2     2   5421.152016      39.0\n",
       "15        3           4     1   2956.651632      21.0\n",
       "16        3           5     3   9064.026918      63.0\n",
       "17        3           7     3  10919.595403      67.0\n",
       "18        3           9     1   2891.012822      23.0\n",
       "19        3          12     1   2593.381928      13.0"
      ]
     },
     "execution_count": 30,
     "metadata": {},
     "output_type": "execute_result"
    }
   ],
   "source": [
    "users['duration'] = np.ceil(users['duration']) \n",
    "users_for_1_month = users.pivot_table(index=['user_id', 'date_month'], values = ['distance', 'duration', 'city'],\n",
    "                                      aggfunc={'distance':'sum', 'duration':'sum', 'city':'count'}).reset_index()\n",
    "users_for_1_month.info()\n",
    "users_for_1_month.head(20)"
   ]
  },
  {
   "cell_type": "markdown",
   "id": "c085dd4d",
   "metadata": {},
   "source": [
    "**Сводная таблица по месяцам для каждого пользователя по суммарному расстоянию, суммарному времени, суммарному количеству поездок c добавленными данными о подписке и стоимостях:**"
   ]
  },
  {
   "cell_type": "code",
   "execution_count": 31,
   "id": "6929f86d",
   "metadata": {
    "scrolled": true
   },
   "outputs": [
    {
     "name": "stdout",
     "output_type": "stream",
     "text": [
      "<class 'pandas.core.frame.DataFrame'>\n",
      "RangeIndex: 11331 entries, 0 to 11330\n",
      "Data columns (total 9 columns):\n",
      " #   Column             Non-Null Count  Dtype  \n",
      "---  ------             --------------  -----  \n",
      " 0   user_id            11331 non-null  int64  \n",
      " 1   date_month         11331 non-null  int64  \n",
      " 2   city               11331 non-null  int64  \n",
      " 3   distance           11331 non-null  float64\n",
      " 4   duration           11331 non-null  float64\n",
      " 5   subscription_type  11331 non-null  object \n",
      " 6   minute_price       11331 non-null  int64  \n",
      " 7   start_ride_price   11331 non-null  int64  \n",
      " 8   subscription_fee   11331 non-null  int64  \n",
      "dtypes: float64(2), int64(6), object(1)\n",
      "memory usage: 796.8+ KB\n"
     ]
    },
    {
     "data": {
      "text/html": [
       "<div>\n",
       "<style scoped>\n",
       "    .dataframe tbody tr th:only-of-type {\n",
       "        vertical-align: middle;\n",
       "    }\n",
       "\n",
       "    .dataframe tbody tr th {\n",
       "        vertical-align: top;\n",
       "    }\n",
       "\n",
       "    .dataframe thead th {\n",
       "        text-align: right;\n",
       "    }\n",
       "</style>\n",
       "<table border=\"1\" class=\"dataframe\">\n",
       "  <thead>\n",
       "    <tr style=\"text-align: right;\">\n",
       "      <th></th>\n",
       "      <th>user_id</th>\n",
       "      <th>date_month</th>\n",
       "      <th>city</th>\n",
       "      <th>distance</th>\n",
       "      <th>duration</th>\n",
       "      <th>subscription_type</th>\n",
       "      <th>minute_price</th>\n",
       "      <th>start_ride_price</th>\n",
       "      <th>subscription_fee</th>\n",
       "    </tr>\n",
       "  </thead>\n",
       "  <tbody>\n",
       "    <tr>\n",
       "      <th>0</th>\n",
       "      <td>1</td>\n",
       "      <td>1</td>\n",
       "      <td>2</td>\n",
       "      <td>7027.511294</td>\n",
       "      <td>42.0</td>\n",
       "      <td>ultra</td>\n",
       "      <td>6</td>\n",
       "      <td>0</td>\n",
       "      <td>199</td>\n",
       "    </tr>\n",
       "    <tr>\n",
       "      <th>1</th>\n",
       "      <td>1</td>\n",
       "      <td>4</td>\n",
       "      <td>1</td>\n",
       "      <td>754.159807</td>\n",
       "      <td>7.0</td>\n",
       "      <td>ultra</td>\n",
       "      <td>6</td>\n",
       "      <td>0</td>\n",
       "      <td>199</td>\n",
       "    </tr>\n",
       "    <tr>\n",
       "      <th>2</th>\n",
       "      <td>1</td>\n",
       "      <td>8</td>\n",
       "      <td>2</td>\n",
       "      <td>6723.470560</td>\n",
       "      <td>46.0</td>\n",
       "      <td>ultra</td>\n",
       "      <td>6</td>\n",
       "      <td>0</td>\n",
       "      <td>199</td>\n",
       "    </tr>\n",
       "    <tr>\n",
       "      <th>3</th>\n",
       "      <td>1</td>\n",
       "      <td>10</td>\n",
       "      <td>2</td>\n",
       "      <td>5809.911100</td>\n",
       "      <td>32.0</td>\n",
       "      <td>ultra</td>\n",
       "      <td>6</td>\n",
       "      <td>0</td>\n",
       "      <td>199</td>\n",
       "    </tr>\n",
       "    <tr>\n",
       "      <th>4</th>\n",
       "      <td>1</td>\n",
       "      <td>11</td>\n",
       "      <td>3</td>\n",
       "      <td>7003.499363</td>\n",
       "      <td>56.0</td>\n",
       "      <td>ultra</td>\n",
       "      <td>6</td>\n",
       "      <td>0</td>\n",
       "      <td>199</td>\n",
       "    </tr>\n",
       "  </tbody>\n",
       "</table>\n",
       "</div>"
      ],
      "text/plain": [
       "   user_id  date_month  city     distance  duration subscription_type  \\\n",
       "0        1           1     2  7027.511294      42.0             ultra   \n",
       "1        1           4     1   754.159807       7.0             ultra   \n",
       "2        1           8     2  6723.470560      46.0             ultra   \n",
       "3        1          10     2  5809.911100      32.0             ultra   \n",
       "4        1          11     3  7003.499363      56.0             ultra   \n",
       "\n",
       "   minute_price  start_ride_price  subscription_fee  \n",
       "0             6                 0               199  \n",
       "1             6                 0               199  \n",
       "2             6                 0               199  \n",
       "3             6                 0               199  \n",
       "4             6                 0               199  "
      ]
     },
     "execution_count": 31,
     "metadata": {},
     "output_type": "execute_result"
    }
   ],
   "source": [
    "one_month_revenue = users[['user_id', 'date_month','subscription_type', 'minute_price', 'start_ride_price', 'subscription_fee']]\n",
    "users_for_1_month_revenue = users_for_1_month.merge(one_month_revenue, how='left', on=['date_month', 'user_id'])\n",
    "\n",
    "users_for_1_month_revenue = users_for_1_month_revenue.drop_duplicates().reset_index(drop=True)\n",
    "users_for_1_month_revenue.info()\n",
    "users_for_1_month_revenue.head()"
   ]
  },
  {
   "cell_type": "markdown",
   "id": "e649db32",
   "metadata": {},
   "source": [
    "**Добавление столбца с выручкой:**"
   ]
  },
  {
   "cell_type": "code",
   "execution_count": 32,
   "id": "5fac74c8",
   "metadata": {
    "scrolled": false
   },
   "outputs": [
    {
     "data": {
      "text/html": [
       "<div>\n",
       "<style scoped>\n",
       "    .dataframe tbody tr th:only-of-type {\n",
       "        vertical-align: middle;\n",
       "    }\n",
       "\n",
       "    .dataframe tbody tr th {\n",
       "        vertical-align: top;\n",
       "    }\n",
       "\n",
       "    .dataframe thead th {\n",
       "        text-align: right;\n",
       "    }\n",
       "</style>\n",
       "<table border=\"1\" class=\"dataframe\">\n",
       "  <thead>\n",
       "    <tr style=\"text-align: right;\">\n",
       "      <th></th>\n",
       "      <th>user_id</th>\n",
       "      <th>date_month</th>\n",
       "      <th>city</th>\n",
       "      <th>distance</th>\n",
       "      <th>duration</th>\n",
       "      <th>subscription_type</th>\n",
       "      <th>minute_price</th>\n",
       "      <th>start_ride_price</th>\n",
       "      <th>subscription_fee</th>\n",
       "      <th>revenue</th>\n",
       "    </tr>\n",
       "  </thead>\n",
       "  <tbody>\n",
       "    <tr>\n",
       "      <th>0</th>\n",
       "      <td>1</td>\n",
       "      <td>1</td>\n",
       "      <td>2</td>\n",
       "      <td>7027.511294</td>\n",
       "      <td>42.0</td>\n",
       "      <td>ultra</td>\n",
       "      <td>6</td>\n",
       "      <td>0</td>\n",
       "      <td>199</td>\n",
       "      <td>451.0</td>\n",
       "    </tr>\n",
       "    <tr>\n",
       "      <th>1</th>\n",
       "      <td>1</td>\n",
       "      <td>4</td>\n",
       "      <td>1</td>\n",
       "      <td>754.159807</td>\n",
       "      <td>7.0</td>\n",
       "      <td>ultra</td>\n",
       "      <td>6</td>\n",
       "      <td>0</td>\n",
       "      <td>199</td>\n",
       "      <td>241.0</td>\n",
       "    </tr>\n",
       "    <tr>\n",
       "      <th>2</th>\n",
       "      <td>1</td>\n",
       "      <td>8</td>\n",
       "      <td>2</td>\n",
       "      <td>6723.470560</td>\n",
       "      <td>46.0</td>\n",
       "      <td>ultra</td>\n",
       "      <td>6</td>\n",
       "      <td>0</td>\n",
       "      <td>199</td>\n",
       "      <td>475.0</td>\n",
       "    </tr>\n",
       "    <tr>\n",
       "      <th>3</th>\n",
       "      <td>1</td>\n",
       "      <td>10</td>\n",
       "      <td>2</td>\n",
       "      <td>5809.911100</td>\n",
       "      <td>32.0</td>\n",
       "      <td>ultra</td>\n",
       "      <td>6</td>\n",
       "      <td>0</td>\n",
       "      <td>199</td>\n",
       "      <td>391.0</td>\n",
       "    </tr>\n",
       "    <tr>\n",
       "      <th>4</th>\n",
       "      <td>1</td>\n",
       "      <td>11</td>\n",
       "      <td>3</td>\n",
       "      <td>7003.499363</td>\n",
       "      <td>56.0</td>\n",
       "      <td>ultra</td>\n",
       "      <td>6</td>\n",
       "      <td>0</td>\n",
       "      <td>199</td>\n",
       "      <td>535.0</td>\n",
       "    </tr>\n",
       "  </tbody>\n",
       "</table>\n",
       "</div>"
      ],
      "text/plain": [
       "   user_id  date_month  city     distance  duration subscription_type  \\\n",
       "0        1           1     2  7027.511294      42.0             ultra   \n",
       "1        1           4     1   754.159807       7.0             ultra   \n",
       "2        1           8     2  6723.470560      46.0             ultra   \n",
       "3        1          10     2  5809.911100      32.0             ultra   \n",
       "4        1          11     3  7003.499363      56.0             ultra   \n",
       "\n",
       "   minute_price  start_ride_price  subscription_fee  revenue  \n",
       "0             6                 0               199    451.0  \n",
       "1             6                 0               199    241.0  \n",
       "2             6                 0               199    475.0  \n",
       "3             6                 0               199    391.0  \n",
       "4             6                 0               199    535.0  "
      ]
     },
     "metadata": {},
     "output_type": "display_data"
    },
    {
     "data": {
      "text/html": [
       "<div>\n",
       "<style scoped>\n",
       "    .dataframe tbody tr th:only-of-type {\n",
       "        vertical-align: middle;\n",
       "    }\n",
       "\n",
       "    .dataframe tbody tr th {\n",
       "        vertical-align: top;\n",
       "    }\n",
       "\n",
       "    .dataframe thead th {\n",
       "        text-align: right;\n",
       "    }\n",
       "</style>\n",
       "<table border=\"1\" class=\"dataframe\">\n",
       "  <thead>\n",
       "    <tr style=\"text-align: right;\">\n",
       "      <th></th>\n",
       "      <th>user_id</th>\n",
       "      <th>date_month</th>\n",
       "      <th>city</th>\n",
       "      <th>distance</th>\n",
       "      <th>duration</th>\n",
       "      <th>subscription_type</th>\n",
       "      <th>minute_price</th>\n",
       "      <th>start_ride_price</th>\n",
       "      <th>subscription_fee</th>\n",
       "      <th>revenue</th>\n",
       "    </tr>\n",
       "  </thead>\n",
       "  <tbody>\n",
       "    <tr>\n",
       "      <th>11326</th>\n",
       "      <td>1534</td>\n",
       "      <td>6</td>\n",
       "      <td>2</td>\n",
       "      <td>3409.468534</td>\n",
       "      <td>26.0</td>\n",
       "      <td>free</td>\n",
       "      <td>8</td>\n",
       "      <td>50</td>\n",
       "      <td>0</td>\n",
       "      <td>308.0</td>\n",
       "    </tr>\n",
       "    <tr>\n",
       "      <th>11327</th>\n",
       "      <td>1534</td>\n",
       "      <td>8</td>\n",
       "      <td>2</td>\n",
       "      <td>7622.453034</td>\n",
       "      <td>48.0</td>\n",
       "      <td>free</td>\n",
       "      <td>8</td>\n",
       "      <td>50</td>\n",
       "      <td>0</td>\n",
       "      <td>484.0</td>\n",
       "    </tr>\n",
       "    <tr>\n",
       "      <th>11328</th>\n",
       "      <td>1534</td>\n",
       "      <td>9</td>\n",
       "      <td>1</td>\n",
       "      <td>4928.173852</td>\n",
       "      <td>23.0</td>\n",
       "      <td>free</td>\n",
       "      <td>8</td>\n",
       "      <td>50</td>\n",
       "      <td>0</td>\n",
       "      <td>234.0</td>\n",
       "    </tr>\n",
       "    <tr>\n",
       "      <th>11329</th>\n",
       "      <td>1534</td>\n",
       "      <td>11</td>\n",
       "      <td>4</td>\n",
       "      <td>13350.015305</td>\n",
       "      <td>78.0</td>\n",
       "      <td>free</td>\n",
       "      <td>8</td>\n",
       "      <td>50</td>\n",
       "      <td>0</td>\n",
       "      <td>824.0</td>\n",
       "    </tr>\n",
       "    <tr>\n",
       "      <th>11330</th>\n",
       "      <td>1534</td>\n",
       "      <td>12</td>\n",
       "      <td>1</td>\n",
       "      <td>2371.711192</td>\n",
       "      <td>16.0</td>\n",
       "      <td>free</td>\n",
       "      <td>8</td>\n",
       "      <td>50</td>\n",
       "      <td>0</td>\n",
       "      <td>178.0</td>\n",
       "    </tr>\n",
       "  </tbody>\n",
       "</table>\n",
       "</div>"
      ],
      "text/plain": [
       "       user_id  date_month  city      distance  duration subscription_type  \\\n",
       "11326     1534           6     2   3409.468534      26.0              free   \n",
       "11327     1534           8     2   7622.453034      48.0              free   \n",
       "11328     1534           9     1   4928.173852      23.0              free   \n",
       "11329     1534          11     4  13350.015305      78.0              free   \n",
       "11330     1534          12     1   2371.711192      16.0              free   \n",
       "\n",
       "       minute_price  start_ride_price  subscription_fee  revenue  \n",
       "11326             8                50                 0    308.0  \n",
       "11327             8                50                 0    484.0  \n",
       "11328             8                50                 0    234.0  \n",
       "11329             8                50                 0    824.0  \n",
       "11330             8                50                 0    178.0  "
      ]
     },
     "metadata": {},
     "output_type": "display_data"
    },
    {
     "data": {
      "text/plain": [
       "subscription_type\n",
       "free     2234104.0\n",
       "ultra    1644537.0\n",
       "Name: revenue, dtype: float64"
      ]
     },
     "execution_count": 32,
     "metadata": {},
     "output_type": "execute_result"
    }
   ],
   "source": [
    "users_for_1_month_revenue['revenue'] = (users_for_1_month_revenue['subscription_fee'] \n",
    "                                        + users_for_1_month_revenue['start_ride_price']*users_for_1_month_revenue['city'] \n",
    "                                        + users_for_1_month_revenue['minute_price']*users_for_1_month_revenue['duration'])\n",
    "display(users_for_1_month_revenue.head())\n",
    "display(users_for_1_month_revenue.tail())\n",
    "users_for_1_month_revenue.groupby('subscription_type')['revenue'].sum()\n"
   ]
  },
  {
   "cell_type": "markdown",
   "id": "41545ac0",
   "metadata": {},
   "source": [
    "#### Шаг 6. Проверка гипотез"
   ]
  },
  {
   "cell_type": "markdown",
   "id": "45a9c432",
   "metadata": {},
   "source": [
    "Важно понять, тратят ли пользователи с подпиской больше времени на поездки? Если да, то пользователи с подпиской могут быть «выгоднее» для компании. Проверьте гипотезу. Используйте исходные данные о продолжительности каждой сессии — отдельно для подписчиков и тех, у кого нет подписки."
   ]
  },
  {
   "cell_type": "markdown",
   "id": "85682205",
   "metadata": {},
   "source": [
    "`Нулевая гипотеза`: средние значения времени на поездки пользователей из двух групп равны.\n",
    "\n",
    "`Альтернативная гипотеза`: время поездок пользователей с подпиской больше, чем время поездок пользователей без подписки."
   ]
  },
  {
   "cell_type": "code",
   "execution_count": 34,
   "id": "23ea867b",
   "metadata": {
    "scrolled": true
   },
   "outputs": [
    {
     "name": "stdout",
     "output_type": "stream",
     "text": [
      "p-value: 5.6757813771289775e-37\n",
      "Отвергаем нулевую гипотезу\n"
     ]
    }
   ],
   "source": [
    "alpha = 0.05\n",
    "result = st.ttest_ind(users_with_ultra['duration'], users_with_free['duration'], equal_var=False, alternative='greater')\n",
    "print(f'p-value: {result.pvalue}')\n",
    "if result.pvalue < alpha:\n",
    "    print('Отвергаем нулевую гипотезу')\n",
    "else:\n",
    "    print('Нет оснований отвергнуть нулевую гипотезу')"
   ]
  },
  {
   "cell_type": "markdown",
   "id": "e1d09f5b",
   "metadata": {},
   "source": [
    "**Значение p-value меньше заданного уровня значимости. Есть основание говорить, что время поездок пользователей с подпиской больше, чем время поездок пользователей без подписки.**"
   ]
  },
  {
   "cell_type": "markdown",
   "id": "797961cd",
   "metadata": {},
   "source": [
    "Расстояние одной поездки в 3130 метров — оптимальное с точки зрения износа самоката. Можно ли сказать, что расстояние, которое проезжают пользователи с подпиской за одну поездку, не превышает 3130 метров? Проверьте гипотезу и сделайте выводы."
   ]
  },
  {
   "cell_type": "markdown",
   "id": "fb815843",
   "metadata": {},
   "source": [
    "`Нулевая гипотеза`: средние расстояние одной поездки людей с подпиской равно 3130 метров.\n",
    "\n",
    "`Альтернативная гипотеза`: среднее расстояние одной поездки людей с подпиской меньше 3130 метров."
   ]
  },
  {
   "cell_type": "code",
   "execution_count": 36,
   "id": "6c045c2d",
   "metadata": {
    "scrolled": true
   },
   "outputs": [
    {
     "name": "stdout",
     "output_type": "stream",
     "text": [
      "p-value: 0.9195368847849785\n",
      "Нет оснований отвергнуть нулевую гипотезу\n"
     ]
    }
   ],
   "source": [
    "dist = users_with_ultra['distance']\n",
    "ave_dist = 3130\n",
    "alpha = 0.05\n",
    "res = st.ttest_1samp(dist, ave_dist, alternative='greater')\n",
    "print(f'p-value: {res.pvalue}')\n",
    "if res.pvalue < alpha:\n",
    "    print('Отвергаем нулевую гипотезу')\n",
    "else:\n",
    "    print('Нет оснований отвергнуть нулевую гипотезу')"
   ]
  },
  {
   "cell_type": "markdown",
   "id": "2e00cf7d",
   "metadata": {},
   "source": [
    "**Значение p-value больше заданного уровня значимости. Есть основание говорить, что среднее расстояние поездок людей с подпиской равно 3130 метрам, что не приводит к износу самокатов.**"
   ]
  },
  {
   "cell_type": "markdown",
   "id": "604d7277",
   "metadata": {},
   "source": [
    "Проверьте гипотезу о том, будет ли помесячная выручка от пользователей с подпиской по месяцам выше, чем выручка от пользователей без подписки. Сделайте вывод."
   ]
  },
  {
   "cell_type": "markdown",
   "id": "b92c5466",
   "metadata": {},
   "source": [
    "`Нулевая гипотеза`: выручка от пользователей с подпиской и без равна.\n",
    "\n",
    "`Альтернативная гипотеза`: выручка от пользователей с подпиской больше, чем от людей без подписки."
   ]
  },
  {
   "cell_type": "markdown",
   "id": "c6683181",
   "metadata": {},
   "source": [
    "**Разделим таблицу с выручкой на 2 части, в зависимости от наличия подписки:**"
   ]
  },
  {
   "cell_type": "code",
   "execution_count": 37,
   "id": "9be8efe7",
   "metadata": {
    "scrolled": true
   },
   "outputs": [],
   "source": [
    "users_for_1_month_revenue_with_free = users_for_1_month_revenue.loc[users_for_1_month_revenue['subscription_type'] == 'free'].reset_index(drop=True)\n",
    "users_for_1_month_revenue_with_ultra = users_for_1_month_revenue.loc[users_for_1_month_revenue['subscription_type'] == 'ultra'].reset_index(drop=True)"
   ]
  },
  {
   "cell_type": "code",
   "execution_count": 38,
   "id": "39c0971e",
   "metadata": {},
   "outputs": [
    {
     "name": "stdout",
     "output_type": "stream",
     "text": [
      "p-value: 8.874140893976874e-40\n",
      "Отвергаем нулевую гипотезу\n"
     ]
    }
   ],
   "source": [
    "alpha = 0.05\n",
    "result = st.ttest_ind(users_for_1_month_revenue_with_ultra['revenue'], users_for_1_month_revenue_with_free['revenue'], equal_var=False, alternative='greater')\n",
    "print(f'p-value: {result.pvalue}')\n",
    "if result.pvalue < alpha:\n",
    "    print('Отвергаем нулевую гипотезу')\n",
    "else:\n",
    "    print('Нет оснований отвергнуть нулевую гипотезу')"
   ]
  },
  {
   "cell_type": "markdown",
   "id": "cd5fc482",
   "metadata": {},
   "source": [
    "**Значение p-value меньше заданного уровня значимости. Есть основание говорить, что выручка от пользователей с подпиской больше, чем от людей без подписки.** "
   ]
  },
  {
   "cell_type": "markdown",
   "id": "74998ee3",
   "metadata": {},
   "source": [
    "Представьте такую ситуацию: техническая команда сервиса обновила сервера, с которыми взаимодействует мобильное приложение. Она надеется, что из-за этого количество обращений в техподдержку значимо снизилось. Некоторый файл содержит для каждого пользователя данные о количестве обращений до обновления и после него. Какой тест вам понадобился бы для проверки этой гипотезы?"
   ]
  },
  {
   "cell_type": "markdown",
   "id": "be2f42d6",
   "metadata": {},
   "source": [
    "**Нулевой гипотезой можно принять: количество обращений в техподдержку после обновления сервера осталось равно такому же количеству до обновления.\n",
    "Альтернативная гипотеза: количество обращений в техподдержку после обновления сервера снизилось.\n",
    "У нас есть две выборки, которые можно сравнить с помощью Т-теста, значение параметра equal_var сделать False, если выборки не равны по размеру, значение alternative сделать greater, если в st.ttest_ind на первое место поставить выборку до обновления сервера.\n",
    "Затем необходимо сравнить p-value с заданным урвонем значимости.**"
   ]
  },
  {
   "cell_type": "markdown",
   "id": "9b9e55d6",
   "metadata": {},
   "source": [
    "**Вывод: Есть основание говорить, что время поездок пользователей с подпиской больше, чем время поездок пользователей без подписки. Есть основание говорить, что среднее расстояние поездок людей с подпиской равно 3130 метрам, что не приводит к износу самокатов. Есть основание говорить, что выручка от пользователей с подпиской больше, чем от людей без подписки.**"
   ]
  },
  {
   "cell_type": "markdown",
   "id": "61213c5e",
   "metadata": {},
   "source": [
    "#### Шаг 7. Распределения (необязательное задание)"
   ]
  },
  {
   "cell_type": "markdown",
   "id": "0ecc7c95",
   "metadata": {},
   "source": [
    "Отделу маркетинга GoFast поставили задачу: нужно провести акцию с раздачей промокодов на один бесплатный месяц подписки, в рамках которой как минимум 100 существующих клиентов должны продлить эту подписку. То есть по завершении периода действия подписки пользователь может либо отказаться от неё, либо продлить, совершив соотвествующий платёж. \n",
    "Эта акция уже проводилась ранее и по итогу выяснилось, что после бесплатного пробного периода подписку продлевают 10 % пользователей. Выясните, какое минимальное количество промокодов нужно разослать, чтобы вероятность не выполнить план была примерно 5 %. Подберите параметры распределения, описывающего эту ситуацию, постройте график распределения и сформулируйте ответ на вопрос о количестве промокодов."
   ]
  },
  {
   "cell_type": "code",
   "execution_count": 39,
   "id": "95cd1d51",
   "metadata": {
    "scrolled": false
   },
   "outputs": [
    {
     "data": {
      "image/png": "[encoded data removed]",
      "text/plain": [
       "<Figure size 432x288 with 1 Axes>"
      ]
     },
     "metadata": {
      "needs_background": "light"
     },
     "output_type": "display_data"
    },
    {
     "data": {
      "text/plain": [
       "84"
      ]
     },
     "execution_count": 39,
     "metadata": {},
     "output_type": "execute_result"
    }
   ],
   "source": [
    "n = 1000 # количество попыток\n",
    "p = 0.1 # вероятность успеха\n",
    "\n",
    "distr = []\n",
    "\n",
    "for k in range(0, n + 1):\n",
    "    choose = factorial(n) / (factorial(k) * factorial(n - k))\n",
    "    prob = choose * p**k * (1 - p)**(n - k) \n",
    "    distr.append(prob)\n",
    "\n",
    "plt.bar(range(0, n + 1), distr)\n",
    "plt.show()\n",
    "\n",
    "mu = n * p\n",
    "sigma = sqrt(n * p * (1 - p))\n",
    "distr = st.norm(mu, sigma) \n",
    "\n",
    "percent=[]\n",
    "\n",
    "for m in range(1000):\n",
    "    if distr.cdf(m)<0.05:\n",
    "        percent.append(m)\n",
    "\n",
    "percent = pd.Series(percent)\n",
    "percent.max()"
   ]
  },
  {
   "cell_type": "markdown",
   "id": "b171c6fe",
   "metadata": {},
   "source": [
    "**Минимальное количество промокодов, которые нужно разослать, чтобы вероятность не выполнить план была примерно 5 %, равно 84.**"
   ]
  },
  {
   "cell_type": "markdown",
   "id": "aa1f7634",
   "metadata": {},
   "source": [
    "Отдел маркетинга рассылает клиентам push-уведомления в мобильном приложении. Клиенты могут открыть его или не открывать. Известно, что уведомления открывают около 40 % получивших клиентов. Отдел планирует разослать 1 млн уведомлений. С помощью аппроксимации постройте примерный график распределения и оцените вероятность того, что уведомление откроют не более 399,5 тыс. пользователей."
   ]
  },
  {
   "cell_type": "code",
   "execution_count": 40,
   "id": "d7d79a2d",
   "metadata": {
    "scrolled": true
   },
   "outputs": [
    {
     "name": "stdout",
     "output_type": "stream",
     "text": [
      "Вероятность того, что уведомление откроют не более 399,5 тыс. человек составляет 15.4%\n"
     ]
    }
   ],
   "source": [
    "n = 1000000\n",
    "p = 0.4\n",
    "\n",
    "mu = n * p\n",
    "sigma = sqrt(n * p * (1 - p))\n",
    "\n",
    "distr = st.norm(mu, sigma) \n",
    "\n",
    "# считаем вероятность хвоста слева от 399,5 тысяч\n",
    "result = distr.cdf(399500)\n",
    "print(f'Вероятность того, что уведомление откроют не более 399,5 тыс. человек составляет {result:.1%}')"
   ]
  },
  {
   "cell_type": "markdown",
   "id": "a2740acc",
   "metadata": {},
   "source": [
    "**Общие выводы:**\n",
    "1) После знакомства с данными было выявлено, что во всех исходных таблицах отсутствуют пропущенные значения. Все типы данных подходящие, кроме столбца `date` в таблице `rides_go`. К наименованиям столбцов вопросов нет.\n",
    "\n",
    "2) В результате предобработки данных был изменен тип данных для столбца `date`. Добавлена колонка в таблицу с номером месяца. Устранены явные дубликаты.\n",
    "\n",
    "3) Всего в данных представлены пользователи из 8 городов. Количество пользователей без подписки равно 54.4 %. Количество пользователей с подпиской составляет 45.6 %. Наиболее часто сервисом пользуется группа людей возрастом от 20 до 30 лет. Чаще всего пользователи пользуются самокатом на расстояние около 3100 метров, а продолжительность поездки составляет около 18 минут.\n",
    "\n",
    "4) После подсчета выручки стало известно, что пользователи без подписки принесли компании `2234104` рублей, а пользователи с подпиской `1644537` рублей.\n",
    "\n",
    "5) Есть основание говорить, что время поездок пользователей с подпиской больше, чем время поездок пользователей без подписки. Есть основание говорить, что среднее расстояние поездок людей с подпиской равно 3130 метрам, что не приводит к износу самокатов. Есть основание говорить, что выручка от пользователей с подпиской больше, чем от людей без подписки. Это подтверждается и в п.4, поскольку люди без подписки осуществили около 64 % от всех поездок, а выручка от составляет менее 58 % от общей.\n",
    "\n",
    "**Рекомендации:**\n",
    "1) Направлять рекламные компании на людей до 20 и старше 30 лет, поскольку они мало вовлечены в использование сервиса.\n",
    "\n",
    "2) Рассмотреть возможность предоставлять скидки после 30 минуты поездки, поскольку далее время пользования значительно снижается, но необходимо учитывать амортизацию самоката.\n",
    "\n",
    "3) Создавать промоакции для того, чтобы как можно больше людей приобретали подписку, поскольку они приносят больше выручки."
   ]
  }
 ],
 "metadata": {
  "ExecuteTimeLog": [
   {
    "duration": 72,
    "start_time": "2023-05-25T06:43:04.233Z"
   },
   {
    "duration": 445,
    "start_time": "2023-05-25T06:43:09.307Z"
   },
   {
    "duration": 106,
    "start_time": "2023-05-25T06:43:11.463Z"
   },
   {
    "duration": 182,
    "start_time": "2023-05-25T06:43:59.272Z"
   },
   {
    "duration": 79,
    "start_time": "2023-05-25T06:44:57.935Z"
   },
   {
    "duration": 32,
    "start_time": "2023-05-25T06:47:25.101Z"
   },
   {
    "duration": 15,
    "start_time": "2023-05-25T06:47:32.692Z"
   },
   {
    "duration": 45,
    "start_time": "2023-05-25T06:47:46.269Z"
   },
   {
    "duration": 21,
    "start_time": "2023-05-25T06:48:32.628Z"
   },
   {
    "duration": 17,
    "start_time": "2023-05-25T06:50:32.298Z"
   },
   {
    "duration": 92,
    "start_time": "2023-05-25T06:55:06.810Z"
   },
   {
    "duration": 28,
    "start_time": "2023-05-25T07:01:33.903Z"
   },
   {
    "duration": 21,
    "start_time": "2023-05-25T07:02:00.440Z"
   },
   {
    "duration": 8,
    "start_time": "2023-05-25T07:03:41.851Z"
   },
   {
    "duration": 90,
    "start_time": "2023-05-25T07:03:52.251Z"
   },
   {
    "duration": 29,
    "start_time": "2023-05-25T07:04:09.525Z"
   },
   {
    "duration": 35,
    "start_time": "2023-05-25T07:04:17.904Z"
   },
   {
    "duration": 25,
    "start_time": "2023-05-25T07:04:37.437Z"
   },
   {
    "duration": 21,
    "start_time": "2023-05-25T07:07:10.817Z"
   },
   {
    "duration": 10,
    "start_time": "2023-05-25T07:09:55.614Z"
   },
   {
    "duration": 6,
    "start_time": "2023-05-25T07:10:56.828Z"
   },
   {
    "duration": 39,
    "start_time": "2023-05-25T07:11:06.161Z"
   },
   {
    "duration": 13,
    "start_time": "2023-05-25T07:13:58.212Z"
   },
   {
    "duration": 14,
    "start_time": "2023-05-25T07:14:02.996Z"
   },
   {
    "duration": 16,
    "start_time": "2023-05-25T07:14:09.057Z"
   },
   {
    "duration": 8,
    "start_time": "2023-05-25T07:15:10.944Z"
   },
   {
    "duration": 14,
    "start_time": "2023-05-25T07:15:42.466Z"
   },
   {
    "duration": 16,
    "start_time": "2023-05-25T07:15:51.147Z"
   },
   {
    "duration": 13,
    "start_time": "2023-05-25T07:16:48.624Z"
   },
   {
    "duration": 15,
    "start_time": "2023-05-25T07:19:37.555Z"
   },
   {
    "duration": 23,
    "start_time": "2023-05-25T07:19:50.310Z"
   },
   {
    "duration": 31,
    "start_time": "2023-05-25T07:20:13.198Z"
   },
   {
    "duration": 20,
    "start_time": "2023-05-25T07:20:55.931Z"
   },
   {
    "duration": 3,
    "start_time": "2023-05-25T07:21:13.207Z"
   },
   {
    "duration": 119,
    "start_time": "2023-05-25T07:21:13.212Z"
   },
   {
    "duration": 20,
    "start_time": "2023-05-25T07:21:13.333Z"
   },
   {
    "duration": 38,
    "start_time": "2023-05-25T07:21:13.355Z"
   },
   {
    "duration": 20,
    "start_time": "2023-05-25T07:21:13.396Z"
   },
   {
    "duration": 45,
    "start_time": "2023-05-25T07:21:13.418Z"
   },
   {
    "duration": 19,
    "start_time": "2023-05-25T07:21:13.465Z"
   },
   {
    "duration": 22,
    "start_time": "2023-05-25T07:21:30.597Z"
   },
   {
    "duration": 29,
    "start_time": "2023-05-25T07:22:33.920Z"
   },
   {
    "duration": 55,
    "start_time": "2023-05-25T07:22:50.545Z"
   },
   {
    "duration": 30,
    "start_time": "2023-05-25T07:23:09.415Z"
   },
   {
    "duration": 4,
    "start_time": "2023-05-25T07:23:37.440Z"
   },
   {
    "duration": 99,
    "start_time": "2023-05-25T07:23:37.447Z"
   },
   {
    "duration": 47,
    "start_time": "2023-05-25T07:23:37.548Z"
   },
   {
    "duration": 37,
    "start_time": "2023-05-25T07:23:37.600Z"
   },
   {
    "duration": 52,
    "start_time": "2023-05-25T07:23:37.639Z"
   },
   {
    "duration": 25,
    "start_time": "2023-05-25T07:23:37.694Z"
   },
   {
    "duration": 18,
    "start_time": "2023-05-25T07:23:37.721Z"
   },
   {
    "duration": 23,
    "start_time": "2023-05-25T07:23:40.290Z"
   },
   {
    "duration": 10,
    "start_time": "2023-05-25T08:23:23.718Z"
   },
   {
    "duration": 18,
    "start_time": "2023-05-25T08:32:47.633Z"
   },
   {
    "duration": 12,
    "start_time": "2023-05-25T08:33:11.201Z"
   },
   {
    "duration": 12,
    "start_time": "2023-05-25T08:33:23.187Z"
   },
   {
    "duration": 17,
    "start_time": "2023-05-25T08:35:14.230Z"
   },
   {
    "duration": 2,
    "start_time": "2023-05-25T08:35:23.032Z"
   },
   {
    "duration": 121,
    "start_time": "2023-05-25T08:35:23.041Z"
   },
   {
    "duration": 47,
    "start_time": "2023-05-25T08:35:23.165Z"
   },
   {
    "duration": 50,
    "start_time": "2023-05-25T08:35:23.214Z"
   },
   {
    "duration": 49,
    "start_time": "2023-05-25T08:35:23.266Z"
   },
   {
    "duration": 64,
    "start_time": "2023-05-25T08:35:23.317Z"
   },
   {
    "duration": 29,
    "start_time": "2023-05-25T08:35:23.383Z"
   },
   {
    "duration": 29,
    "start_time": "2023-05-25T08:35:23.414Z"
   },
   {
    "duration": 13,
    "start_time": "2023-05-25T08:35:26.811Z"
   },
   {
    "duration": 11,
    "start_time": "2023-05-25T08:35:27.924Z"
   },
   {
    "duration": 19,
    "start_time": "2023-05-25T08:36:48.497Z"
   },
   {
    "duration": 11,
    "start_time": "2023-05-25T08:37:05.920Z"
   },
   {
    "duration": 4,
    "start_time": "2023-05-25T08:59:20.671Z"
   },
   {
    "duration": 120,
    "start_time": "2023-05-25T08:59:20.677Z"
   },
   {
    "duration": 23,
    "start_time": "2023-05-25T08:59:20.799Z"
   },
   {
    "duration": 46,
    "start_time": "2023-05-25T08:59:20.824Z"
   },
   {
    "duration": 37,
    "start_time": "2023-05-25T08:59:20.877Z"
   },
   {
    "duration": 21,
    "start_time": "2023-05-25T08:59:20.915Z"
   },
   {
    "duration": 57,
    "start_time": "2023-05-25T08:59:20.938Z"
   },
   {
    "duration": 14,
    "start_time": "2023-05-25T08:59:24.327Z"
   },
   {
    "duration": 8,
    "start_time": "2023-05-25T08:59:25.699Z"
   },
   {
    "duration": 5,
    "start_time": "2023-05-25T09:00:03.927Z"
   },
   {
    "duration": 5,
    "start_time": "2023-05-25T09:00:11.637Z"
   },
   {
    "duration": 6,
    "start_time": "2023-05-25T09:00:49.891Z"
   },
   {
    "duration": 7,
    "start_time": "2023-05-25T09:01:00.952Z"
   },
   {
    "duration": 13,
    "start_time": "2023-05-25T09:01:16.138Z"
   },
   {
    "duration": 6,
    "start_time": "2023-05-25T09:16:08.638Z"
   },
   {
    "duration": 7,
    "start_time": "2023-05-25T09:18:08.598Z"
   },
   {
    "duration": 7,
    "start_time": "2023-05-25T09:19:03.306Z"
   },
   {
    "duration": 7,
    "start_time": "2023-05-25T09:19:11.329Z"
   },
   {
    "duration": 7,
    "start_time": "2023-05-25T09:58:32.723Z"
   },
   {
    "duration": 7,
    "start_time": "2023-05-25T09:58:37.938Z"
   },
   {
    "duration": 6,
    "start_time": "2023-05-25T10:14:07.624Z"
   },
   {
    "duration": 8,
    "start_time": "2023-05-25T10:14:17.105Z"
   },
   {
    "duration": 8,
    "start_time": "2023-05-25T10:15:01.182Z"
   },
   {
    "duration": 9,
    "start_time": "2023-05-25T10:15:39.336Z"
   },
   {
    "duration": 11,
    "start_time": "2023-05-25T10:16:05.377Z"
   },
   {
    "duration": 529,
    "start_time": "2023-05-25T10:18:41.572Z"
   },
   {
    "duration": 82,
    "start_time": "2023-05-25T10:18:42.103Z"
   },
   {
    "duration": 28,
    "start_time": "2023-05-25T10:18:42.186Z"
   },
   {
    "duration": 23,
    "start_time": "2023-05-25T10:18:42.216Z"
   },
   {
    "duration": 44,
    "start_time": "2023-05-25T10:18:42.241Z"
   },
   {
    "duration": 16,
    "start_time": "2023-05-25T10:18:42.287Z"
   },
   {
    "duration": 13,
    "start_time": "2023-05-25T10:18:42.305Z"
   },
   {
    "duration": 53,
    "start_time": "2023-05-25T10:18:42.320Z"
   },
   {
    "duration": 7,
    "start_time": "2023-05-25T10:18:42.375Z"
   },
   {
    "duration": 21,
    "start_time": "2023-05-25T10:18:42.385Z"
   },
   {
    "duration": 12,
    "start_time": "2023-05-25T10:18:42.408Z"
   },
   {
    "duration": 15,
    "start_time": "2023-05-25T10:18:42.422Z"
   },
   {
    "duration": 12,
    "start_time": "2023-05-25T10:20:06.404Z"
   },
   {
    "duration": 218,
    "start_time": "2023-05-25T10:21:57.097Z"
   },
   {
    "duration": 273,
    "start_time": "2023-05-25T10:22:04.000Z"
   },
   {
    "duration": 330,
    "start_time": "2023-05-25T10:23:15.869Z"
   },
   {
    "duration": 20,
    "start_time": "2023-05-25T10:26:45.832Z"
   },
   {
    "duration": 12,
    "start_time": "2023-05-25T10:27:38.448Z"
   },
   {
    "duration": 319,
    "start_time": "2023-05-25T10:28:29.648Z"
   },
   {
    "duration": 1510,
    "start_time": "2023-05-25T10:43:33.369Z"
   },
   {
    "duration": 423,
    "start_time": "2023-05-25T10:43:39.171Z"
   },
   {
    "duration": 9,
    "start_time": "2023-05-25T10:52:47.006Z"
   },
   {
    "duration": 269,
    "start_time": "2023-05-25T10:53:34.806Z"
   },
   {
    "duration": 557,
    "start_time": "2023-05-25T10:54:29.152Z"
   },
   {
    "duration": 608,
    "start_time": "2023-05-25T10:55:26.467Z"
   },
   {
    "duration": 604,
    "start_time": "2023-05-25T10:56:50.147Z"
   },
   {
    "duration": 520,
    "start_time": "2023-05-25T10:57:59.599Z"
   },
   {
    "duration": 662,
    "start_time": "2023-05-25T10:58:38.136Z"
   },
   {
    "duration": 30,
    "start_time": "2023-05-25T11:31:42.359Z"
   },
   {
    "duration": 7,
    "start_time": "2023-05-25T11:35:44.501Z"
   },
   {
    "duration": 17,
    "start_time": "2023-05-25T11:35:55.591Z"
   },
   {
    "duration": 22,
    "start_time": "2023-05-25T11:36:24.652Z"
   },
   {
    "duration": 29,
    "start_time": "2023-05-25T11:36:28.059Z"
   },
   {
    "duration": 20,
    "start_time": "2023-05-25T11:37:24.106Z"
   },
   {
    "duration": 40,
    "start_time": "2023-05-25T11:37:35.960Z"
   },
   {
    "duration": 34,
    "start_time": "2023-05-25T11:37:54.385Z"
   },
   {
    "duration": 22,
    "start_time": "2023-05-25T11:38:09.569Z"
   },
   {
    "duration": 39,
    "start_time": "2023-05-25T11:41:22.397Z"
   },
   {
    "duration": 25,
    "start_time": "2023-05-25T11:41:49.776Z"
   },
   {
    "duration": 26,
    "start_time": "2023-05-25T11:42:06.366Z"
   },
   {
    "duration": 31,
    "start_time": "2023-05-25T11:42:10.287Z"
   },
   {
    "duration": 11,
    "start_time": "2023-05-25T11:42:33.195Z"
   },
   {
    "duration": 19,
    "start_time": "2023-05-25T11:42:44.851Z"
   },
   {
    "duration": 29,
    "start_time": "2023-05-25T11:43:11.869Z"
   },
   {
    "duration": 10,
    "start_time": "2023-05-25T11:43:17.444Z"
   },
   {
    "duration": 272,
    "start_time": "2023-05-25T11:48:53.795Z"
   },
   {
    "duration": 288,
    "start_time": "2023-05-25T11:49:28.670Z"
   },
   {
    "duration": 298,
    "start_time": "2023-05-25T11:49:33.370Z"
   },
   {
    "duration": 129,
    "start_time": "2023-05-25T11:49:46.583Z"
   },
   {
    "duration": 293,
    "start_time": "2023-05-25T11:49:49.419Z"
   },
   {
    "duration": 407,
    "start_time": "2023-05-25T11:50:11.548Z"
   },
   {
    "duration": 599,
    "start_time": "2023-05-25T11:50:50.186Z"
   },
   {
    "duration": 1244,
    "start_time": "2023-05-25T11:51:52.465Z"
   },
   {
    "duration": 10,
    "start_time": "2023-05-25T11:52:35.459Z"
   },
   {
    "duration": 9,
    "start_time": "2023-05-25T11:52:49.557Z"
   },
   {
    "duration": 9,
    "start_time": "2023-05-25T11:53:04.097Z"
   },
   {
    "duration": 9,
    "start_time": "2023-05-25T11:53:16.236Z"
   },
   {
    "duration": 18,
    "start_time": "2023-05-25T12:13:37.723Z"
   },
   {
    "duration": 32,
    "start_time": "2023-05-25T12:13:45.404Z"
   },
   {
    "duration": 50,
    "start_time": "2023-05-25T12:13:56.453Z"
   },
   {
    "duration": 32,
    "start_time": "2023-05-25T12:14:30.485Z"
   },
   {
    "duration": 30,
    "start_time": "2023-05-25T12:15:03.453Z"
   },
   {
    "duration": 35,
    "start_time": "2023-05-25T12:16:23.173Z"
   },
   {
    "duration": 24,
    "start_time": "2023-05-25T12:18:55.548Z"
   },
   {
    "duration": 31,
    "start_time": "2023-05-25T12:19:08.776Z"
   },
   {
    "duration": 3,
    "start_time": "2023-05-25T12:33:30.272Z"
   },
   {
    "duration": 113,
    "start_time": "2023-05-25T12:33:30.277Z"
   },
   {
    "duration": 27,
    "start_time": "2023-05-25T12:33:30.392Z"
   },
   {
    "duration": 82,
    "start_time": "2023-05-25T12:33:30.421Z"
   },
   {
    "duration": 45,
    "start_time": "2023-05-25T12:33:30.506Z"
   },
   {
    "duration": 82,
    "start_time": "2023-05-25T12:33:30.553Z"
   },
   {
    "duration": 52,
    "start_time": "2023-05-25T12:33:30.637Z"
   },
   {
    "duration": 122,
    "start_time": "2023-05-25T12:33:30.692Z"
   },
   {
    "duration": 86,
    "start_time": "2023-05-25T12:33:30.816Z"
   },
   {
    "duration": 88,
    "start_time": "2023-05-25T12:33:30.905Z"
   },
   {
    "duration": 155,
    "start_time": "2023-05-25T12:33:30.995Z"
   },
   {
    "duration": 58,
    "start_time": "2023-05-25T12:33:31.152Z"
   },
   {
    "duration": 137,
    "start_time": "2023-05-25T12:33:31.211Z"
   },
   {
    "duration": 465,
    "start_time": "2023-05-25T12:33:31.351Z"
   },
   {
    "duration": 10,
    "start_time": "2023-05-25T12:33:31.818Z"
   },
   {
    "duration": 637,
    "start_time": "2023-05-25T12:33:31.830Z"
   },
   {
    "duration": 11,
    "start_time": "2023-05-25T12:33:32.469Z"
   },
   {
    "duration": 681,
    "start_time": "2023-05-25T12:33:32.482Z"
   },
   {
    "duration": 30,
    "start_time": "2023-05-25T12:33:33.165Z"
   },
   {
    "duration": 28,
    "start_time": "2023-05-25T12:33:33.197Z"
   },
   {
    "duration": 14,
    "start_time": "2023-05-25T12:33:33.226Z"
   },
   {
    "duration": 1102,
    "start_time": "2023-05-25T12:33:33.242Z"
   },
   {
    "duration": 10,
    "start_time": "2023-05-25T12:33:34.346Z"
   },
   {
    "duration": 20,
    "start_time": "2023-05-25T12:33:34.358Z"
   },
   {
    "duration": 24,
    "start_time": "2023-05-25T12:33:34.380Z"
   },
   {
    "duration": 10,
    "start_time": "2023-05-25T12:33:34.406Z"
   },
   {
    "duration": 36,
    "start_time": "2023-05-25T12:33:34.417Z"
   },
   {
    "duration": 31,
    "start_time": "2023-05-25T12:33:34.472Z"
   },
   {
    "duration": 31,
    "start_time": "2023-05-25T12:33:45.330Z"
   },
   {
    "duration": 38,
    "start_time": "2023-05-25T12:33:47.848Z"
   },
   {
    "duration": 6,
    "start_time": "2023-05-25T12:34:22.828Z"
   },
   {
    "duration": 4,
    "start_time": "2023-05-25T12:34:25.335Z"
   },
   {
    "duration": 18,
    "start_time": "2023-05-25T12:34:33.171Z"
   },
   {
    "duration": 94,
    "start_time": "2023-05-25T12:38:50.723Z"
   },
   {
    "duration": 42,
    "start_time": "2023-05-25T12:40:11.681Z"
   },
   {
    "duration": 62,
    "start_time": "2023-05-25T12:40:25.356Z"
   },
   {
    "duration": 35,
    "start_time": "2023-05-25T12:41:42.558Z"
   },
   {
    "duration": 42,
    "start_time": "2023-05-25T12:41:57.651Z"
   },
   {
    "duration": 3,
    "start_time": "2023-05-25T12:42:49.354Z"
   },
   {
    "duration": 83,
    "start_time": "2023-05-25T12:42:49.359Z"
   },
   {
    "duration": 24,
    "start_time": "2023-05-25T12:42:49.444Z"
   },
   {
    "duration": 36,
    "start_time": "2023-05-25T12:42:49.470Z"
   },
   {
    "duration": 34,
    "start_time": "2023-05-25T12:42:49.509Z"
   },
   {
    "duration": 64,
    "start_time": "2023-05-25T12:42:49.546Z"
   },
   {
    "duration": 15,
    "start_time": "2023-05-25T12:42:49.612Z"
   },
   {
    "duration": 17,
    "start_time": "2023-05-25T12:42:49.629Z"
   },
   {
    "duration": 18,
    "start_time": "2023-05-25T12:42:49.649Z"
   },
   {
    "duration": 59,
    "start_time": "2023-05-25T12:42:49.672Z"
   },
   {
    "duration": 16,
    "start_time": "2023-05-25T12:42:49.733Z"
   },
   {
    "duration": 46,
    "start_time": "2023-05-25T12:42:49.751Z"
   },
   {
    "duration": 17,
    "start_time": "2023-05-25T12:42:49.799Z"
   },
   {
    "duration": 273,
    "start_time": "2023-05-25T12:42:49.818Z"
   },
   {
    "duration": 11,
    "start_time": "2023-05-25T12:42:50.093Z"
   },
   {
    "duration": 723,
    "start_time": "2023-05-25T12:42:50.106Z"
   },
   {
    "duration": 10,
    "start_time": "2023-05-25T12:42:50.831Z"
   },
   {
    "duration": 573,
    "start_time": "2023-05-25T12:42:50.843Z"
   },
   {
    "duration": 25,
    "start_time": "2023-05-25T12:42:51.418Z"
   },
   {
    "duration": 45,
    "start_time": "2023-05-25T12:42:51.445Z"
   },
   {
    "duration": 53,
    "start_time": "2023-05-25T12:42:51.492Z"
   },
   {
    "duration": 1181,
    "start_time": "2023-05-25T12:42:51.547Z"
   },
   {
    "duration": 10,
    "start_time": "2023-05-25T12:42:52.730Z"
   },
   {
    "duration": 11,
    "start_time": "2023-05-25T12:42:52.742Z"
   },
   {
    "duration": 37,
    "start_time": "2023-05-25T12:42:52.755Z"
   },
   {
    "duration": 10,
    "start_time": "2023-05-25T12:42:52.795Z"
   },
   {
    "duration": 37,
    "start_time": "2023-05-25T12:42:52.806Z"
   },
   {
    "duration": 37,
    "start_time": "2023-05-25T12:42:57.220Z"
   },
   {
    "duration": 41,
    "start_time": "2023-05-25T12:43:06.022Z"
   },
   {
    "duration": 44,
    "start_time": "2023-05-25T12:44:05.301Z"
   },
   {
    "duration": 36,
    "start_time": "2023-05-25T12:44:12.350Z"
   },
   {
    "duration": 3,
    "start_time": "2023-05-25T12:44:18.048Z"
   },
   {
    "duration": 89,
    "start_time": "2023-05-25T12:44:18.053Z"
   },
   {
    "duration": 24,
    "start_time": "2023-05-25T12:44:18.145Z"
   },
   {
    "duration": 31,
    "start_time": "2023-05-25T12:44:18.171Z"
   },
   {
    "duration": 22,
    "start_time": "2023-05-25T12:44:18.204Z"
   },
   {
    "duration": 25,
    "start_time": "2023-05-25T12:44:18.228Z"
   },
   {
    "duration": 34,
    "start_time": "2023-05-25T12:44:18.255Z"
   },
   {
    "duration": 20,
    "start_time": "2023-05-25T12:44:18.292Z"
   },
   {
    "duration": 19,
    "start_time": "2023-05-25T12:44:18.314Z"
   },
   {
    "duration": 14,
    "start_time": "2023-05-25T12:44:18.335Z"
   },
   {
    "duration": 29,
    "start_time": "2023-05-25T12:44:18.351Z"
   },
   {
    "duration": 41,
    "start_time": "2023-05-25T12:44:18.382Z"
   },
   {
    "duration": 28,
    "start_time": "2023-05-25T12:44:18.426Z"
   },
   {
    "duration": 317,
    "start_time": "2023-05-25T12:44:18.457Z"
   },
   {
    "duration": 11,
    "start_time": "2023-05-25T12:44:18.776Z"
   },
   {
    "duration": 598,
    "start_time": "2023-05-25T12:44:18.789Z"
   },
   {
    "duration": 10,
    "start_time": "2023-05-25T12:44:19.390Z"
   },
   {
    "duration": 647,
    "start_time": "2023-05-25T12:44:19.402Z"
   },
   {
    "duration": 36,
    "start_time": "2023-05-25T12:44:20.050Z"
   },
   {
    "duration": 26,
    "start_time": "2023-05-25T12:44:20.088Z"
   },
   {
    "duration": 35,
    "start_time": "2023-05-25T12:44:20.116Z"
   },
   {
    "duration": 1190,
    "start_time": "2023-05-25T12:44:20.153Z"
   },
   {
    "duration": 10,
    "start_time": "2023-05-25T12:44:21.345Z"
   },
   {
    "duration": 20,
    "start_time": "2023-05-25T12:44:21.357Z"
   },
   {
    "duration": 10,
    "start_time": "2023-05-25T12:44:21.380Z"
   },
   {
    "duration": 15,
    "start_time": "2023-05-25T12:44:21.392Z"
   },
   {
    "duration": 28,
    "start_time": "2023-05-25T12:44:23.841Z"
   },
   {
    "duration": 38,
    "start_time": "2023-05-25T12:44:35.799Z"
   },
   {
    "duration": 34,
    "start_time": "2023-05-25T12:44:48.538Z"
   },
   {
    "duration": 3,
    "start_time": "2023-05-25T12:44:52.600Z"
   },
   {
    "duration": 76,
    "start_time": "2023-05-25T12:44:52.606Z"
   },
   {
    "duration": 24,
    "start_time": "2023-05-25T12:44:52.684Z"
   },
   {
    "duration": 29,
    "start_time": "2023-05-25T12:44:52.710Z"
   },
   {
    "duration": 61,
    "start_time": "2023-05-25T12:44:52.741Z"
   },
   {
    "duration": 20,
    "start_time": "2023-05-25T12:44:52.804Z"
   },
   {
    "duration": 12,
    "start_time": "2023-05-25T12:44:52.826Z"
   },
   {
    "duration": 32,
    "start_time": "2023-05-25T12:44:52.840Z"
   },
   {
    "duration": 7,
    "start_time": "2023-05-25T12:44:52.875Z"
   },
   {
    "duration": 8,
    "start_time": "2023-05-25T12:44:52.884Z"
   },
   {
    "duration": 19,
    "start_time": "2023-05-25T12:44:52.894Z"
   },
   {
    "duration": 21,
    "start_time": "2023-05-25T12:44:52.916Z"
   },
   {
    "duration": 11,
    "start_time": "2023-05-25T12:44:52.939Z"
   },
   {
    "duration": 274,
    "start_time": "2023-05-25T12:44:52.974Z"
   },
   {
    "duration": 22,
    "start_time": "2023-05-25T12:44:53.250Z"
   },
   {
    "duration": 584,
    "start_time": "2023-05-25T12:44:53.274Z"
   },
   {
    "duration": 13,
    "start_time": "2023-05-25T12:44:53.860Z"
   },
   {
    "duration": 542,
    "start_time": "2023-05-25T12:44:53.875Z"
   },
   {
    "duration": 30,
    "start_time": "2023-05-25T12:44:54.419Z"
   },
   {
    "duration": 42,
    "start_time": "2023-05-25T12:44:54.451Z"
   },
   {
    "duration": 13,
    "start_time": "2023-05-25T12:44:54.495Z"
   },
   {
    "duration": 1185,
    "start_time": "2023-05-25T12:44:54.510Z"
   },
   {
    "duration": 10,
    "start_time": "2023-05-25T12:44:55.697Z"
   },
   {
    "duration": 10,
    "start_time": "2023-05-25T12:44:55.711Z"
   },
   {
    "duration": 19,
    "start_time": "2023-05-25T12:44:55.722Z"
   },
   {
    "duration": 35,
    "start_time": "2023-05-25T12:44:55.743Z"
   },
   {
    "duration": 30,
    "start_time": "2023-05-25T12:45:09.397Z"
   },
   {
    "duration": 46,
    "start_time": "2023-05-25T12:45:25.877Z"
   },
   {
    "duration": 39,
    "start_time": "2023-05-25T12:45:44.081Z"
   },
   {
    "duration": 46,
    "start_time": "2023-05-25T12:46:27.900Z"
   },
   {
    "duration": 49,
    "start_time": "2023-05-25T12:46:48.457Z"
   },
   {
    "duration": 49,
    "start_time": "2023-05-25T12:47:07.591Z"
   },
   {
    "duration": 42,
    "start_time": "2023-05-25T12:47:26.396Z"
   },
   {
    "duration": 29,
    "start_time": "2023-05-25T12:49:40.441Z"
   },
   {
    "duration": 27,
    "start_time": "2023-05-25T12:50:50.592Z"
   },
   {
    "duration": 3,
    "start_time": "2023-05-25T12:52:01.259Z"
   },
   {
    "duration": 73,
    "start_time": "2023-05-25T12:52:01.360Z"
   },
   {
    "duration": 25,
    "start_time": "2023-05-25T12:52:01.436Z"
   },
   {
    "duration": 49,
    "start_time": "2023-05-25T12:52:01.463Z"
   },
   {
    "duration": 49,
    "start_time": "2023-05-25T12:52:01.514Z"
   },
   {
    "duration": 49,
    "start_time": "2023-05-25T12:52:01.565Z"
   },
   {
    "duration": 31,
    "start_time": "2023-05-25T12:52:01.616Z"
   },
   {
    "duration": 49,
    "start_time": "2023-05-25T12:52:01.649Z"
   },
   {
    "duration": 37,
    "start_time": "2023-05-25T12:52:01.701Z"
   },
   {
    "duration": 50,
    "start_time": "2023-05-25T12:52:01.741Z"
   },
   {
    "duration": 78,
    "start_time": "2023-05-25T12:52:01.794Z"
   },
   {
    "duration": 76,
    "start_time": "2023-05-25T12:52:01.875Z"
   },
   {
    "duration": 97,
    "start_time": "2023-05-25T12:52:01.953Z"
   },
   {
    "duration": 344,
    "start_time": "2023-05-25T12:52:02.052Z"
   },
   {
    "duration": 11,
    "start_time": "2023-05-25T12:52:02.399Z"
   },
   {
    "duration": 764,
    "start_time": "2023-05-25T12:52:02.412Z"
   },
   {
    "duration": 9,
    "start_time": "2023-05-25T12:52:03.178Z"
   },
   {
    "duration": 584,
    "start_time": "2023-05-25T12:52:03.189Z"
   },
   {
    "duration": 27,
    "start_time": "2023-05-25T12:52:03.775Z"
   },
   {
    "duration": 26,
    "start_time": "2023-05-25T12:52:03.804Z"
   },
   {
    "duration": 44,
    "start_time": "2023-05-25T12:52:03.832Z"
   },
   {
    "duration": 1208,
    "start_time": "2023-05-25T12:52:03.878Z"
   },
   {
    "duration": 10,
    "start_time": "2023-05-25T12:52:05.088Z"
   },
   {
    "duration": 12,
    "start_time": "2023-05-25T12:52:05.099Z"
   },
   {
    "duration": 13,
    "start_time": "2023-05-25T12:52:05.113Z"
   },
   {
    "duration": 15,
    "start_time": "2023-05-25T12:52:05.128Z"
   },
   {
    "duration": 65,
    "start_time": "2023-05-25T12:52:05.145Z"
   },
   {
    "duration": 68,
    "start_time": "2023-05-25T12:52:05.212Z"
   },
   {
    "duration": 44,
    "start_time": "2023-05-25T12:52:10.646Z"
   },
   {
    "duration": 34,
    "start_time": "2023-05-25T12:52:34.645Z"
   },
   {
    "duration": 24,
    "start_time": "2023-05-25T12:52:47.830Z"
   },
   {
    "duration": 3,
    "start_time": "2023-05-25T12:54:44.608Z"
   },
   {
    "duration": 104,
    "start_time": "2023-05-25T12:54:44.614Z"
   },
   {
    "duration": 33,
    "start_time": "2023-05-25T12:54:44.720Z"
   },
   {
    "duration": 34,
    "start_time": "2023-05-25T12:54:44.756Z"
   },
   {
    "duration": 24,
    "start_time": "2023-05-25T12:54:44.792Z"
   },
   {
    "duration": 55,
    "start_time": "2023-05-25T12:54:44.818Z"
   },
   {
    "duration": 18,
    "start_time": "2023-05-25T12:54:44.876Z"
   },
   {
    "duration": 17,
    "start_time": "2023-05-25T12:54:44.896Z"
   },
   {
    "duration": 8,
    "start_time": "2023-05-25T12:54:44.918Z"
   },
   {
    "duration": 47,
    "start_time": "2023-05-25T12:54:44.928Z"
   },
   {
    "duration": 42,
    "start_time": "2023-05-25T12:54:44.977Z"
   },
   {
    "duration": 136,
    "start_time": "2023-05-25T12:54:45.022Z"
   },
   {
    "duration": 111,
    "start_time": "2023-05-25T12:54:45.161Z"
   },
   {
    "duration": 296,
    "start_time": "2023-05-25T12:54:45.274Z"
   },
   {
    "duration": 11,
    "start_time": "2023-05-25T12:54:45.573Z"
   },
   {
    "duration": 644,
    "start_time": "2023-05-25T12:54:45.586Z"
   },
   {
    "duration": 13,
    "start_time": "2023-05-25T12:54:46.233Z"
   },
   {
    "duration": 816,
    "start_time": "2023-05-25T12:54:46.248Z"
   },
   {
    "duration": 27,
    "start_time": "2023-05-25T12:54:47.072Z"
   },
   {
    "duration": 29,
    "start_time": "2023-05-25T12:54:47.101Z"
   },
   {
    "duration": 12,
    "start_time": "2023-05-25T12:54:47.132Z"
   },
   {
    "duration": 1183,
    "start_time": "2023-05-25T12:54:47.172Z"
   },
   {
    "duration": 21,
    "start_time": "2023-05-25T12:54:48.358Z"
   },
   {
    "duration": 11,
    "start_time": "2023-05-25T12:54:48.384Z"
   },
   {
    "duration": 18,
    "start_time": "2023-05-25T12:54:48.398Z"
   },
   {
    "duration": 32,
    "start_time": "2023-05-25T12:54:48.419Z"
   },
   {
    "duration": 60,
    "start_time": "2023-05-25T12:54:48.454Z"
   },
   {
    "duration": 84,
    "start_time": "2023-05-25T12:54:48.516Z"
   },
   {
    "duration": 229,
    "start_time": "2023-05-25T12:54:48.603Z"
   },
   {
    "duration": 49,
    "start_time": "2023-05-25T12:54:54.055Z"
   },
   {
    "duration": 30,
    "start_time": "2023-05-25T12:54:59.235Z"
   },
   {
    "duration": 35,
    "start_time": "2023-05-25T13:27:18.384Z"
   },
   {
    "duration": 50,
    "start_time": "2023-05-25T13:27:27.991Z"
   },
   {
    "duration": 26,
    "start_time": "2023-05-25T13:29:19.789Z"
   },
   {
    "duration": 33,
    "start_time": "2023-05-25T13:30:37.906Z"
   },
   {
    "duration": 28,
    "start_time": "2023-05-25T13:32:19.198Z"
   },
   {
    "duration": 41,
    "start_time": "2023-05-25T13:33:33.497Z"
   },
   {
    "duration": 57,
    "start_time": "2023-05-25T13:34:56.286Z"
   },
   {
    "duration": 33,
    "start_time": "2023-05-25T13:38:13.625Z"
   },
   {
    "duration": 35,
    "start_time": "2023-05-25T13:38:54.810Z"
   },
   {
    "duration": 42,
    "start_time": "2023-05-25T13:39:05.367Z"
   },
   {
    "duration": 31,
    "start_time": "2023-05-25T13:39:22.132Z"
   },
   {
    "duration": 35,
    "start_time": "2023-05-25T13:39:43.809Z"
   },
   {
    "duration": 3,
    "start_time": "2023-05-25T13:39:55.519Z"
   },
   {
    "duration": 68,
    "start_time": "2023-05-25T13:39:58.862Z"
   },
   {
    "duration": 34,
    "start_time": "2023-05-25T13:41:31.734Z"
   },
   {
    "duration": 33,
    "start_time": "2023-05-25T13:41:47.775Z"
   },
   {
    "duration": 32,
    "start_time": "2023-05-25T13:42:32.236Z"
   },
   {
    "duration": 36,
    "start_time": "2023-05-25T13:42:56.708Z"
   },
   {
    "duration": 25,
    "start_time": "2023-05-25T13:43:43.254Z"
   },
   {
    "duration": 38,
    "start_time": "2023-05-25T13:44:02.719Z"
   },
   {
    "duration": 30,
    "start_time": "2023-05-25T13:45:32.989Z"
   },
   {
    "duration": 38,
    "start_time": "2023-05-25T13:45:48.140Z"
   },
   {
    "duration": 47,
    "start_time": "2023-05-25T13:45:54.021Z"
   },
   {
    "duration": 10,
    "start_time": "2023-05-25T13:48:15.723Z"
   },
   {
    "duration": 10,
    "start_time": "2023-05-25T13:48:40.145Z"
   },
   {
    "duration": 30,
    "start_time": "2023-05-25T13:49:12.671Z"
   },
   {
    "duration": 28,
    "start_time": "2023-05-25T13:49:15.704Z"
   },
   {
    "duration": 24,
    "start_time": "2023-05-25T13:49:28.120Z"
   },
   {
    "duration": 27,
    "start_time": "2023-05-25T13:49:33.436Z"
   },
   {
    "duration": 40,
    "start_time": "2023-05-25T13:49:38.151Z"
   },
   {
    "duration": 25,
    "start_time": "2023-05-25T13:49:41.793Z"
   },
   {
    "duration": 36,
    "start_time": "2023-05-25T13:50:03.160Z"
   },
   {
    "duration": 34,
    "start_time": "2023-05-25T13:50:03.406Z"
   },
   {
    "duration": 31,
    "start_time": "2023-05-25T13:50:19.941Z"
   },
   {
    "duration": 20,
    "start_time": "2023-05-25T13:50:34.705Z"
   },
   {
    "duration": 44,
    "start_time": "2023-05-25T13:50:43.842Z"
   },
   {
    "duration": 38,
    "start_time": "2023-05-25T13:50:59.057Z"
   },
   {
    "duration": 46,
    "start_time": "2023-05-25T13:51:09.959Z"
   },
   {
    "duration": 34,
    "start_time": "2023-05-25T13:51:21.197Z"
   },
   {
    "duration": 48,
    "start_time": "2023-05-25T13:51:24.556Z"
   },
   {
    "duration": 37,
    "start_time": "2023-05-25T13:51:29.697Z"
   },
   {
    "duration": 50,
    "start_time": "2023-05-25T13:51:37.000Z"
   },
   {
    "duration": 44,
    "start_time": "2023-05-25T13:51:41.898Z"
   },
   {
    "duration": 8,
    "start_time": "2023-05-25T13:51:52.774Z"
   },
   {
    "duration": 72,
    "start_time": "2023-05-25T13:51:52.791Z"
   },
   {
    "duration": 30,
    "start_time": "2023-05-25T13:51:52.866Z"
   },
   {
    "duration": 26,
    "start_time": "2023-05-25T13:51:52.899Z"
   },
   {
    "duration": 60,
    "start_time": "2023-05-25T13:51:52.927Z"
   },
   {
    "duration": 24,
    "start_time": "2023-05-25T13:51:52.989Z"
   },
   {
    "duration": 12,
    "start_time": "2023-05-25T13:51:53.015Z"
   },
   {
    "duration": 48,
    "start_time": "2023-05-25T13:51:53.030Z"
   },
   {
    "duration": 11,
    "start_time": "2023-05-25T13:51:53.088Z"
   },
   {
    "duration": 9,
    "start_time": "2023-05-25T13:51:53.104Z"
   },
   {
    "duration": 12,
    "start_time": "2023-05-25T13:51:53.115Z"
   },
   {
    "duration": 42,
    "start_time": "2023-05-25T13:51:53.130Z"
   },
   {
    "duration": 24,
    "start_time": "2023-05-25T13:51:53.174Z"
   },
   {
    "duration": 296,
    "start_time": "2023-05-25T13:51:53.200Z"
   },
   {
    "duration": 12,
    "start_time": "2023-05-25T13:51:53.498Z"
   },
   {
    "duration": 616,
    "start_time": "2023-05-25T13:51:53.512Z"
   },
   {
    "duration": 11,
    "start_time": "2023-05-25T13:51:54.131Z"
   },
   {
    "duration": 618,
    "start_time": "2023-05-25T13:51:54.144Z"
   },
   {
    "duration": 38,
    "start_time": "2023-05-25T13:51:54.775Z"
   },
   {
    "duration": 74,
    "start_time": "2023-05-25T13:51:54.815Z"
   },
   {
    "duration": 61,
    "start_time": "2023-05-25T13:51:54.891Z"
   },
   {
    "duration": 1432,
    "start_time": "2023-05-25T13:51:54.954Z"
   },
   {
    "duration": 16,
    "start_time": "2023-05-25T13:51:56.394Z"
   },
   {
    "duration": 18,
    "start_time": "2023-05-25T13:51:56.414Z"
   },
   {
    "duration": 109,
    "start_time": "2023-05-25T13:51:56.434Z"
   },
   {
    "duration": 62,
    "start_time": "2023-05-25T13:51:56.545Z"
   },
   {
    "duration": 30,
    "start_time": "2023-05-25T13:52:05.739Z"
   },
   {
    "duration": 38,
    "start_time": "2023-05-25T13:52:16.453Z"
   },
   {
    "duration": 33,
    "start_time": "2023-05-25T13:52:19.834Z"
   },
   {
    "duration": 44,
    "start_time": "2023-05-25T13:52:40.105Z"
   },
   {
    "duration": 31,
    "start_time": "2023-05-25T13:52:52.597Z"
   },
   {
    "duration": 22,
    "start_time": "2023-05-25T13:53:04.102Z"
   },
   {
    "duration": 32,
    "start_time": "2023-05-25T13:53:15.590Z"
   },
   {
    "duration": 41,
    "start_time": "2023-05-25T13:53:29.850Z"
   },
   {
    "duration": 32,
    "start_time": "2023-05-25T13:53:49.988Z"
   },
   {
    "duration": 31,
    "start_time": "2023-05-25T13:53:53.842Z"
   },
   {
    "duration": 37,
    "start_time": "2023-05-25T13:54:09.752Z"
   },
   {
    "duration": 41,
    "start_time": "2023-05-25T13:54:18.512Z"
   },
   {
    "duration": 3,
    "start_time": "2023-05-25T13:54:23.593Z"
   },
   {
    "duration": 109,
    "start_time": "2023-05-25T13:54:23.599Z"
   },
   {
    "duration": 25,
    "start_time": "2023-05-25T13:54:23.710Z"
   },
   {
    "duration": 50,
    "start_time": "2023-05-25T13:54:23.737Z"
   },
   {
    "duration": 21,
    "start_time": "2023-05-25T13:54:23.790Z"
   },
   {
    "duration": 36,
    "start_time": "2023-05-25T13:54:23.813Z"
   },
   {
    "duration": 35,
    "start_time": "2023-05-25T13:54:23.851Z"
   },
   {
    "duration": 20,
    "start_time": "2023-05-25T13:54:23.889Z"
   },
   {
    "duration": 14,
    "start_time": "2023-05-25T13:54:23.911Z"
   },
   {
    "duration": 13,
    "start_time": "2023-05-25T13:54:23.927Z"
   },
   {
    "duration": 17,
    "start_time": "2023-05-25T13:54:23.941Z"
   },
   {
    "duration": 16,
    "start_time": "2023-05-25T13:54:23.960Z"
   },
   {
    "duration": 25,
    "start_time": "2023-05-25T13:54:23.977Z"
   },
   {
    "duration": 281,
    "start_time": "2023-05-25T13:54:24.005Z"
   },
   {
    "duration": 9,
    "start_time": "2023-05-25T13:54:24.288Z"
   },
   {
    "duration": 761,
    "start_time": "2023-05-25T13:54:24.299Z"
   },
   {
    "duration": 24,
    "start_time": "2023-05-25T13:54:25.062Z"
   },
   {
    "duration": 598,
    "start_time": "2023-05-25T13:54:25.088Z"
   },
   {
    "duration": 30,
    "start_time": "2023-05-25T13:54:25.693Z"
   },
   {
    "duration": 62,
    "start_time": "2023-05-25T13:54:25.725Z"
   },
   {
    "duration": 15,
    "start_time": "2023-05-25T13:54:25.789Z"
   },
   {
    "duration": 1379,
    "start_time": "2023-05-25T13:54:25.807Z"
   },
   {
    "duration": 9,
    "start_time": "2023-05-25T13:54:27.190Z"
   },
   {
    "duration": 11,
    "start_time": "2023-05-25T13:54:27.201Z"
   },
   {
    "duration": 9,
    "start_time": "2023-05-25T13:54:27.215Z"
   },
   {
    "duration": 23,
    "start_time": "2023-05-25T13:54:27.226Z"
   },
   {
    "duration": 49,
    "start_time": "2023-05-25T13:54:27.251Z"
   },
   {
    "duration": 22,
    "start_time": "2023-05-25T13:54:42.539Z"
   },
   {
    "duration": 46,
    "start_time": "2023-05-25T13:54:48.576Z"
   },
   {
    "duration": 36,
    "start_time": "2023-05-25T13:54:58.544Z"
   },
   {
    "duration": 3,
    "start_time": "2023-05-25T13:55:03.965Z"
   },
   {
    "duration": 100,
    "start_time": "2023-05-25T13:55:03.970Z"
   },
   {
    "duration": 32,
    "start_time": "2023-05-25T13:55:04.073Z"
   },
   {
    "duration": 34,
    "start_time": "2023-05-25T13:55:04.107Z"
   },
   {
    "duration": 52,
    "start_time": "2023-05-25T13:55:04.143Z"
   },
   {
    "duration": 15,
    "start_time": "2023-05-25T13:55:04.197Z"
   },
   {
    "duration": 24,
    "start_time": "2023-05-25T13:55:04.213Z"
   },
   {
    "duration": 48,
    "start_time": "2023-05-25T13:55:04.238Z"
   },
   {
    "duration": 7,
    "start_time": "2023-05-25T13:55:04.288Z"
   },
   {
    "duration": 28,
    "start_time": "2023-05-25T13:55:04.297Z"
   },
   {
    "duration": 15,
    "start_time": "2023-05-25T13:55:04.327Z"
   },
   {
    "duration": 14,
    "start_time": "2023-05-25T13:55:04.344Z"
   },
   {
    "duration": 20,
    "start_time": "2023-05-25T13:55:04.375Z"
   },
   {
    "duration": 300,
    "start_time": "2023-05-25T13:55:04.397Z"
   },
   {
    "duration": 10,
    "start_time": "2023-05-25T13:55:04.699Z"
   },
   {
    "duration": 594,
    "start_time": "2023-05-25T13:55:04.711Z"
   },
   {
    "duration": 9,
    "start_time": "2023-05-25T13:55:05.307Z"
   },
   {
    "duration": 793,
    "start_time": "2023-05-25T13:55:05.318Z"
   },
   {
    "duration": 39,
    "start_time": "2023-05-25T13:55:06.113Z"
   },
   {
    "duration": 46,
    "start_time": "2023-05-25T13:55:06.172Z"
   },
   {
    "duration": 34,
    "start_time": "2023-05-25T13:55:06.221Z"
   },
   {
    "duration": 1193,
    "start_time": "2023-05-25T13:55:06.257Z"
   },
   {
    "duration": 20,
    "start_time": "2023-05-25T13:55:07.452Z"
   },
   {
    "duration": 30,
    "start_time": "2023-05-25T13:55:07.474Z"
   },
   {
    "duration": 32,
    "start_time": "2023-05-25T13:55:07.507Z"
   },
   {
    "duration": 58,
    "start_time": "2023-05-25T13:55:07.542Z"
   },
   {
    "duration": 64,
    "start_time": "2023-05-25T13:55:07.602Z"
   },
   {
    "duration": 29,
    "start_time": "2023-05-25T13:55:11.904Z"
   },
   {
    "duration": 31,
    "start_time": "2023-05-25T13:56:45.032Z"
   },
   {
    "duration": 23,
    "start_time": "2023-05-25T13:57:03.969Z"
   },
   {
    "duration": 26,
    "start_time": "2023-05-25T13:57:10.886Z"
   },
   {
    "duration": 24,
    "start_time": "2023-05-25T13:57:25.615Z"
   },
   {
    "duration": 35,
    "start_time": "2023-05-25T13:57:40.712Z"
   },
   {
    "duration": 41,
    "start_time": "2023-05-25T13:57:56.962Z"
   },
   {
    "duration": 48,
    "start_time": "2023-05-25T13:58:05.849Z"
   },
   {
    "duration": 30,
    "start_time": "2023-05-25T13:58:24.118Z"
   },
   {
    "duration": 29,
    "start_time": "2023-05-25T13:58:39.402Z"
   },
   {
    "duration": 41,
    "start_time": "2023-05-25T13:58:52.400Z"
   },
   {
    "duration": 47,
    "start_time": "2023-05-25T13:59:04.303Z"
   },
   {
    "duration": 40,
    "start_time": "2023-05-25T13:59:44.121Z"
   },
   {
    "duration": 37,
    "start_time": "2023-05-25T13:59:50.177Z"
   },
   {
    "duration": 3,
    "start_time": "2023-05-25T13:59:56.031Z"
   },
   {
    "duration": 102,
    "start_time": "2023-05-25T13:59:56.037Z"
   },
   {
    "duration": 32,
    "start_time": "2023-05-25T13:59:56.141Z"
   },
   {
    "duration": 120,
    "start_time": "2023-05-25T13:59:56.179Z"
   },
   {
    "duration": 37,
    "start_time": "2023-05-25T13:59:56.302Z"
   },
   {
    "duration": 42,
    "start_time": "2023-05-25T13:59:56.341Z"
   },
   {
    "duration": 36,
    "start_time": "2023-05-25T13:59:56.386Z"
   },
   {
    "duration": 29,
    "start_time": "2023-05-25T13:59:56.425Z"
   },
   {
    "duration": 79,
    "start_time": "2023-05-25T13:59:56.457Z"
   },
   {
    "duration": 30,
    "start_time": "2023-05-25T13:59:56.538Z"
   },
   {
    "duration": 38,
    "start_time": "2023-05-25T13:59:56.570Z"
   },
   {
    "duration": 18,
    "start_time": "2023-05-25T13:59:56.610Z"
   },
   {
    "duration": 25,
    "start_time": "2023-05-25T13:59:56.629Z"
   },
   {
    "duration": 440,
    "start_time": "2023-05-25T13:59:56.657Z"
   },
   {
    "duration": 10,
    "start_time": "2023-05-25T13:59:57.099Z"
   },
   {
    "duration": 728,
    "start_time": "2023-05-25T13:59:57.112Z"
   },
   {
    "duration": 13,
    "start_time": "2023-05-25T13:59:57.842Z"
   },
   {
    "duration": 604,
    "start_time": "2023-05-25T13:59:57.872Z"
   },
   {
    "duration": 40,
    "start_time": "2023-05-25T13:59:58.478Z"
   },
   {
    "duration": 27,
    "start_time": "2023-05-25T13:59:58.520Z"
   },
   {
    "duration": 41,
    "start_time": "2023-05-25T13:59:58.549Z"
   },
   {
    "duration": 1311,
    "start_time": "2023-05-25T13:59:58.593Z"
   },
   {
    "duration": 11,
    "start_time": "2023-05-25T13:59:59.906Z"
   },
   {
    "duration": 15,
    "start_time": "2023-05-25T13:59:59.920Z"
   },
   {
    "duration": 49,
    "start_time": "2023-05-25T13:59:59.937Z"
   },
   {
    "duration": 13,
    "start_time": "2023-05-25T13:59:59.988Z"
   },
   {
    "duration": 55,
    "start_time": "2023-05-25T14:00:00.003Z"
   },
   {
    "duration": 69,
    "start_time": "2023-05-25T14:00:06.000Z"
   },
   {
    "duration": 47,
    "start_time": "2023-05-25T14:02:54.733Z"
   },
   {
    "duration": 41,
    "start_time": "2023-05-25T14:07:57.342Z"
   },
   {
    "duration": 49,
    "start_time": "2023-05-25T14:08:07.940Z"
   },
   {
    "duration": 45,
    "start_time": "2023-05-25T14:10:39.206Z"
   },
   {
    "duration": 47,
    "start_time": "2023-05-25T14:10:44.440Z"
   },
   {
    "duration": 85,
    "start_time": "2023-05-25T14:11:13.287Z"
   },
   {
    "duration": 444,
    "start_time": "2023-05-25T14:11:26.832Z"
   },
   {
    "duration": 161,
    "start_time": "2023-05-25T14:11:31.481Z"
   },
   {
    "duration": 118,
    "start_time": "2023-05-25T14:11:36.013Z"
   },
   {
    "duration": 6,
    "start_time": "2023-05-25T14:11:46.122Z"
   },
   {
    "duration": 19,
    "start_time": "2023-05-25T14:11:56.092Z"
   },
   {
    "duration": 15,
    "start_time": "2023-05-25T14:12:19.913Z"
   },
   {
    "duration": 23,
    "start_time": "2023-05-25T14:12:27.108Z"
   },
   {
    "duration": 4,
    "start_time": "2023-05-25T14:14:26.516Z"
   },
   {
    "duration": 37,
    "start_time": "2023-05-25T14:14:41.472Z"
   },
   {
    "duration": 41,
    "start_time": "2023-05-25T14:16:25.862Z"
   },
   {
    "duration": 699,
    "start_time": "2023-05-25T14:27:22.444Z"
   },
   {
    "duration": 78,
    "start_time": "2023-05-25T14:27:23.146Z"
   },
   {
    "duration": 42,
    "start_time": "2023-05-25T14:27:23.226Z"
   },
   {
    "duration": 49,
    "start_time": "2023-05-25T14:27:23.272Z"
   },
   {
    "duration": 37,
    "start_time": "2023-05-25T14:27:23.324Z"
   },
   {
    "duration": 73,
    "start_time": "2023-05-25T14:27:23.372Z"
   },
   {
    "duration": 39,
    "start_time": "2023-05-25T14:27:23.447Z"
   },
   {
    "duration": 18,
    "start_time": "2023-05-25T14:27:23.490Z"
   },
   {
    "duration": 10,
    "start_time": "2023-05-25T14:27:23.512Z"
   },
   {
    "duration": 44,
    "start_time": "2023-05-25T14:27:23.527Z"
   },
   {
    "duration": 13,
    "start_time": "2023-05-25T14:27:23.574Z"
   },
   {
    "duration": 18,
    "start_time": "2023-05-25T14:27:23.589Z"
   },
   {
    "duration": 20,
    "start_time": "2023-05-25T14:27:23.609Z"
   },
   {
    "duration": 461,
    "start_time": "2023-05-25T14:27:23.631Z"
   },
   {
    "duration": 19,
    "start_time": "2023-05-25T14:27:24.095Z"
   },
   {
    "duration": 803,
    "start_time": "2023-05-25T14:27:24.117Z"
   },
   {
    "duration": 14,
    "start_time": "2023-05-25T14:27:24.922Z"
   },
   {
    "duration": 929,
    "start_time": "2023-05-25T14:27:24.939Z"
   },
   {
    "duration": 41,
    "start_time": "2023-05-25T14:27:25.871Z"
   },
   {
    "duration": 32,
    "start_time": "2023-05-25T14:27:25.915Z"
   },
   {
    "duration": 29,
    "start_time": "2023-05-25T14:27:25.949Z"
   },
   {
    "duration": 1538,
    "start_time": "2023-05-25T14:27:25.981Z"
   },
   {
    "duration": 29,
    "start_time": "2023-05-25T14:27:27.522Z"
   },
   {
    "duration": 43,
    "start_time": "2023-05-25T14:27:27.554Z"
   },
   {
    "duration": 23,
    "start_time": "2023-05-25T14:27:27.599Z"
   },
   {
    "duration": 17,
    "start_time": "2023-05-25T14:27:27.625Z"
   },
   {
    "duration": 44,
    "start_time": "2023-05-25T14:27:27.645Z"
   },
   {
    "duration": 43,
    "start_time": "2023-05-25T14:27:27.693Z"
   },
   {
    "duration": 48,
    "start_time": "2023-05-25T14:27:27.739Z"
   },
   {
    "duration": 56,
    "start_time": "2023-05-25T14:44:27.298Z"
   },
   {
    "duration": 14,
    "start_time": "2023-05-25T14:44:51.618Z"
   },
   {
    "duration": 5,
    "start_time": "2023-05-25T14:45:08.167Z"
   },
   {
    "duration": 8,
    "start_time": "2023-05-25T14:45:30.613Z"
   },
   {
    "duration": 8,
    "start_time": "2023-05-25T14:45:59.252Z"
   },
   {
    "duration": 7,
    "start_time": "2023-05-25T14:46:03.955Z"
   },
   {
    "duration": 7,
    "start_time": "2023-05-25T14:46:09.850Z"
   },
   {
    "duration": 6,
    "start_time": "2023-05-25T14:46:21.201Z"
   },
   {
    "duration": 6,
    "start_time": "2023-05-25T14:54:09.318Z"
   },
   {
    "duration": 45,
    "start_time": "2023-05-26T06:29:07.808Z"
   },
   {
    "duration": 1169,
    "start_time": "2023-05-26T06:29:20.929Z"
   },
   {
    "duration": 185,
    "start_time": "2023-05-26T06:29:22.100Z"
   },
   {
    "duration": 23,
    "start_time": "2023-05-26T06:29:22.287Z"
   },
   {
    "duration": 20,
    "start_time": "2023-05-26T06:29:22.312Z"
   },
   {
    "duration": 15,
    "start_time": "2023-05-26T06:29:22.341Z"
   },
   {
    "duration": 15,
    "start_time": "2023-05-26T06:29:22.384Z"
   },
   {
    "duration": 13,
    "start_time": "2023-05-26T06:29:22.401Z"
   },
   {
    "duration": 10,
    "start_time": "2023-05-26T06:29:22.415Z"
   },
   {
    "duration": 5,
    "start_time": "2023-05-26T06:29:22.426Z"
   },
   {
    "duration": 6,
    "start_time": "2023-05-26T06:29:22.432Z"
   },
   {
    "duration": 50,
    "start_time": "2023-05-26T06:29:22.439Z"
   },
   {
    "duration": 37,
    "start_time": "2023-05-26T06:29:22.491Z"
   },
   {
    "duration": 26,
    "start_time": "2023-05-26T06:29:22.530Z"
   },
   {
    "duration": 236,
    "start_time": "2023-05-26T06:29:22.560Z"
   },
   {
    "duration": 7,
    "start_time": "2023-05-26T06:29:22.798Z"
   },
   {
    "duration": 430,
    "start_time": "2023-05-26T06:29:22.806Z"
   },
   {
    "duration": 7,
    "start_time": "2023-05-26T06:29:23.238Z"
   },
   {
    "duration": 455,
    "start_time": "2023-05-26T06:29:23.246Z"
   },
   {
    "duration": 21,
    "start_time": "2023-05-26T06:29:23.703Z"
   },
   {
    "duration": 23,
    "start_time": "2023-05-26T06:29:23.725Z"
   },
   {
    "duration": 8,
    "start_time": "2023-05-26T06:29:23.749Z"
   },
   {
    "duration": 867,
    "start_time": "2023-05-26T06:29:23.759Z"
   },
   {
    "duration": 8,
    "start_time": "2023-05-26T06:29:24.628Z"
   },
   {
    "duration": 8,
    "start_time": "2023-05-26T06:29:24.637Z"
   },
   {
    "duration": 10,
    "start_time": "2023-05-26T06:29:24.646Z"
   },
   {
    "duration": 8,
    "start_time": "2023-05-26T06:29:24.657Z"
   },
   {
    "duration": 29,
    "start_time": "2023-05-26T06:29:24.685Z"
   },
   {
    "duration": 40,
    "start_time": "2023-05-26T06:29:24.715Z"
   },
   {
    "duration": 41,
    "start_time": "2023-05-26T06:29:24.757Z"
   },
   {
    "duration": 5,
    "start_time": "2023-05-26T06:29:34.615Z"
   },
   {
    "duration": 5,
    "start_time": "2023-05-26T06:29:51.924Z"
   },
   {
    "duration": 6,
    "start_time": "2023-05-26T06:36:02.863Z"
   },
   {
    "duration": 13,
    "start_time": "2023-05-26T06:36:19.554Z"
   },
   {
    "duration": 14,
    "start_time": "2023-05-26T06:36:27.713Z"
   },
   {
    "duration": 14,
    "start_time": "2023-05-26T06:36:38.698Z"
   },
   {
    "duration": 13,
    "start_time": "2023-05-26T06:36:55.556Z"
   },
   {
    "duration": 22,
    "start_time": "2023-05-26T06:37:03.502Z"
   },
   {
    "duration": 13,
    "start_time": "2023-05-26T06:37:08.693Z"
   },
   {
    "duration": 13,
    "start_time": "2023-05-26T06:37:18.378Z"
   },
   {
    "duration": 13,
    "start_time": "2023-05-26T06:37:24.776Z"
   },
   {
    "duration": 5,
    "start_time": "2023-05-26T06:39:43.186Z"
   },
   {
    "duration": 6,
    "start_time": "2023-05-26T06:40:46.057Z"
   },
   {
    "duration": 5,
    "start_time": "2023-05-26T06:41:01.317Z"
   },
   {
    "duration": 4,
    "start_time": "2023-05-26T06:41:11.332Z"
   },
   {
    "duration": 4,
    "start_time": "2023-05-26T06:41:48.931Z"
   },
   {
    "duration": 71,
    "start_time": "2023-05-26T07:43:07.648Z"
   },
   {
    "duration": 3,
    "start_time": "2023-05-26T07:43:48.156Z"
   },
   {
    "duration": 98,
    "start_time": "2023-05-26T07:43:48.161Z"
   },
   {
    "duration": 18,
    "start_time": "2023-05-26T07:43:48.260Z"
   },
   {
    "duration": 76,
    "start_time": "2023-05-26T07:43:48.279Z"
   },
   {
    "duration": 19,
    "start_time": "2023-05-26T07:43:48.357Z"
   },
   {
    "duration": 37,
    "start_time": "2023-05-26T07:43:48.378Z"
   },
   {
    "duration": 19,
    "start_time": "2023-05-26T07:43:48.417Z"
   },
   {
    "duration": 36,
    "start_time": "2023-05-26T07:43:48.438Z"
   },
   {
    "duration": 13,
    "start_time": "2023-05-26T07:43:48.476Z"
   },
   {
    "duration": 46,
    "start_time": "2023-05-26T07:43:48.490Z"
   },
   {
    "duration": 12,
    "start_time": "2023-05-26T07:43:48.537Z"
   },
   {
    "duration": 13,
    "start_time": "2023-05-26T07:43:48.550Z"
   },
   {
    "duration": 38,
    "start_time": "2023-05-26T07:43:48.564Z"
   },
   {
    "duration": 295,
    "start_time": "2023-05-26T07:43:48.606Z"
   },
   {
    "duration": 8,
    "start_time": "2023-05-26T07:43:48.902Z"
   },
   {
    "duration": 445,
    "start_time": "2023-05-26T07:43:48.912Z"
   },
   {
    "duration": 8,
    "start_time": "2023-05-26T07:43:49.359Z"
   },
   {
    "duration": 430,
    "start_time": "2023-05-26T07:43:49.368Z"
   },
   {
    "duration": 22,
    "start_time": "2023-05-26T07:43:49.799Z"
   },
   {
    "duration": 19,
    "start_time": "2023-05-26T07:43:49.822Z"
   },
   {
    "duration": 8,
    "start_time": "2023-05-26T07:43:49.842Z"
   },
   {
    "duration": 946,
    "start_time": "2023-05-26T07:43:49.852Z"
   },
   {
    "duration": 8,
    "start_time": "2023-05-26T07:43:50.801Z"
   },
   {
    "duration": 37,
    "start_time": "2023-05-26T07:43:50.811Z"
   },
   {
    "duration": 66,
    "start_time": "2023-05-26T07:43:50.850Z"
   },
   {
    "duration": 86,
    "start_time": "2023-05-26T07:43:50.917Z"
   },
   {
    "duration": 48,
    "start_time": "2023-05-26T07:43:51.004Z"
   },
   {
    "duration": 32,
    "start_time": "2023-05-26T07:43:51.053Z"
   },
   {
    "duration": 64,
    "start_time": "2023-05-26T07:43:51.086Z"
   },
   {
    "duration": 24,
    "start_time": "2023-05-26T07:43:51.151Z"
   },
   {
    "duration": 18,
    "start_time": "2023-05-26T07:43:51.176Z"
   },
   {
    "duration": 43,
    "start_time": "2023-05-26T07:43:51.196Z"
   },
   {
    "duration": 68,
    "start_time": "2023-05-26T07:43:51.240Z"
   },
   {
    "duration": 195,
    "start_time": "2023-05-26T07:43:56.609Z"
   },
   {
    "duration": 1259,
    "start_time": "2023-05-26T07:52:25.461Z"
   },
   {
    "duration": 1230,
    "start_time": "2023-05-26T07:52:36.465Z"
   },
   {
    "duration": 4,
    "start_time": "2023-05-26T08:01:27.507Z"
   },
   {
    "duration": 120,
    "start_time": "2023-05-26T08:01:27.512Z"
   },
   {
    "duration": 18,
    "start_time": "2023-05-26T08:01:27.633Z"
   },
   {
    "duration": 42,
    "start_time": "2023-05-26T08:01:27.652Z"
   },
   {
    "duration": 17,
    "start_time": "2023-05-26T08:01:27.700Z"
   },
   {
    "duration": 34,
    "start_time": "2023-05-26T08:01:27.718Z"
   },
   {
    "duration": 18,
    "start_time": "2023-05-26T08:01:27.754Z"
   },
   {
    "duration": 37,
    "start_time": "2023-05-26T08:01:27.773Z"
   },
   {
    "duration": 31,
    "start_time": "2023-05-26T08:01:27.812Z"
   },
   {
    "duration": 13,
    "start_time": "2023-05-26T08:01:27.845Z"
   },
   {
    "duration": 22,
    "start_time": "2023-05-26T08:01:27.860Z"
   },
   {
    "duration": 34,
    "start_time": "2023-05-26T08:01:27.884Z"
   },
   {
    "duration": 8,
    "start_time": "2023-05-26T08:01:27.920Z"
   },
   {
    "duration": 370,
    "start_time": "2023-05-26T08:01:27.932Z"
   },
   {
    "duration": 8,
    "start_time": "2023-05-26T08:01:28.303Z"
   },
   {
    "duration": 450,
    "start_time": "2023-05-26T08:01:28.312Z"
   },
   {
    "duration": 8,
    "start_time": "2023-05-26T08:01:28.763Z"
   },
   {
    "duration": 471,
    "start_time": "2023-05-26T08:01:28.773Z"
   },
   {
    "duration": 19,
    "start_time": "2023-05-26T08:01:29.245Z"
   },
   {
    "duration": 45,
    "start_time": "2023-05-26T08:01:29.266Z"
   },
   {
    "duration": 9,
    "start_time": "2023-05-26T08:01:29.312Z"
   },
   {
    "duration": 985,
    "start_time": "2023-05-26T08:01:29.323Z"
   },
   {
    "duration": 7,
    "start_time": "2023-05-26T08:01:30.309Z"
   },
   {
    "duration": 28,
    "start_time": "2023-05-26T08:01:30.318Z"
   },
   {
    "duration": 87,
    "start_time": "2023-05-26T08:01:30.347Z"
   },
   {
    "duration": 36,
    "start_time": "2023-05-26T08:01:30.435Z"
   },
   {
    "duration": 75,
    "start_time": "2023-05-26T08:01:30.472Z"
   },
   {
    "duration": 59,
    "start_time": "2023-05-26T08:01:30.549Z"
   },
   {
    "duration": 135,
    "start_time": "2023-05-26T08:01:30.609Z"
   },
   {
    "duration": 61,
    "start_time": "2023-05-26T08:01:30.746Z"
   },
   {
    "duration": 122,
    "start_time": "2023-05-26T08:01:30.808Z"
   },
   {
    "duration": 209,
    "start_time": "2023-05-26T08:01:30.931Z"
   },
   {
    "duration": 277,
    "start_time": "2023-05-26T08:01:31.141Z"
   },
   {
    "duration": 310,
    "start_time": "2023-05-26T08:06:47.218Z"
   },
   {
    "duration": 329,
    "start_time": "2023-05-26T08:07:27.080Z"
   },
   {
    "duration": 304,
    "start_time": "2023-05-26T08:08:42.202Z"
   },
   {
    "duration": 135,
    "start_time": "2023-05-26T08:10:00.451Z"
   },
   {
    "duration": 302,
    "start_time": "2023-05-26T08:10:24.910Z"
   },
   {
    "duration": 220,
    "start_time": "2023-05-26T08:11:56.670Z"
   },
   {
    "duration": 193,
    "start_time": "2023-05-26T08:12:13.460Z"
   },
   {
    "duration": 194,
    "start_time": "2023-05-26T08:45:44.345Z"
   },
   {
    "duration": 282,
    "start_time": "2023-05-26T08:49:47.823Z"
   },
   {
    "duration": 12,
    "start_time": "2023-05-26T08:51:28.662Z"
   },
   {
    "duration": 415,
    "start_time": "2023-05-26T08:52:35.282Z"
   },
   {
    "duration": 3,
    "start_time": "2023-05-26T08:53:11.504Z"
   },
   {
    "duration": 77,
    "start_time": "2023-05-26T08:53:11.509Z"
   },
   {
    "duration": 22,
    "start_time": "2023-05-26T08:53:11.587Z"
   },
   {
    "duration": 19,
    "start_time": "2023-05-26T08:53:11.610Z"
   },
   {
    "duration": 15,
    "start_time": "2023-05-26T08:53:11.631Z"
   },
   {
    "duration": 45,
    "start_time": "2023-05-26T08:53:11.647Z"
   },
   {
    "duration": 9,
    "start_time": "2023-05-26T08:53:11.693Z"
   },
   {
    "duration": 10,
    "start_time": "2023-05-26T08:53:11.703Z"
   },
   {
    "duration": 4,
    "start_time": "2023-05-26T08:53:11.715Z"
   },
   {
    "duration": 4,
    "start_time": "2023-05-26T08:53:11.721Z"
   },
   {
    "duration": 14,
    "start_time": "2023-05-26T08:53:11.726Z"
   },
   {
    "duration": 10,
    "start_time": "2023-05-26T08:53:11.741Z"
   },
   {
    "duration": 7,
    "start_time": "2023-05-26T08:53:11.785Z"
   },
   {
    "duration": 233,
    "start_time": "2023-05-26T08:53:11.795Z"
   },
   {
    "duration": 7,
    "start_time": "2023-05-26T08:53:12.030Z"
   },
   {
    "duration": 458,
    "start_time": "2023-05-26T08:53:12.038Z"
   },
   {
    "duration": 7,
    "start_time": "2023-05-26T08:53:12.498Z"
   },
   {
    "duration": 518,
    "start_time": "2023-05-26T08:53:12.507Z"
   },
   {
    "duration": 19,
    "start_time": "2023-05-26T08:53:13.027Z"
   },
   {
    "duration": 37,
    "start_time": "2023-05-26T08:53:13.047Z"
   },
   {
    "duration": 9,
    "start_time": "2023-05-26T08:53:13.086Z"
   },
   {
    "duration": 834,
    "start_time": "2023-05-26T08:53:13.097Z"
   },
   {
    "duration": 7,
    "start_time": "2023-05-26T08:53:13.933Z"
   },
   {
    "duration": 11,
    "start_time": "2023-05-26T08:53:13.941Z"
   },
   {
    "duration": 7,
    "start_time": "2023-05-26T08:53:13.953Z"
   },
   {
    "duration": 25,
    "start_time": "2023-05-26T08:53:13.961Z"
   },
   {
    "duration": 29,
    "start_time": "2023-05-26T08:53:13.987Z"
   },
   {
    "duration": 153,
    "start_time": "2023-05-26T08:53:14.018Z"
   },
   {
    "duration": 41,
    "start_time": "2023-05-26T08:53:14.173Z"
   },
   {
    "duration": 6,
    "start_time": "2023-05-26T08:53:14.215Z"
   },
   {
    "duration": 16,
    "start_time": "2023-05-26T08:53:14.222Z"
   },
   {
    "duration": 11,
    "start_time": "2023-05-26T08:53:14.239Z"
   },
   {
    "duration": 30,
    "start_time": "2023-05-26T08:53:14.252Z"
   },
   {
    "duration": 352,
    "start_time": "2023-05-26T08:53:17.894Z"
   },
   {
    "duration": 202,
    "start_time": "2023-05-26T08:53:27.422Z"
   },
   {
    "duration": 400,
    "start_time": "2023-05-26T08:53:54.904Z"
   },
   {
    "duration": 204,
    "start_time": "2023-05-26T08:54:49.703Z"
   },
   {
    "duration": 5,
    "start_time": "2023-05-26T08:55:12.775Z"
   },
   {
    "duration": 298,
    "start_time": "2023-05-26T08:59:53.854Z"
   },
   {
    "duration": 23,
    "start_time": "2023-05-26T09:01:54.197Z"
   },
   {
    "duration": 12,
    "start_time": "2023-05-26T09:05:00.395Z"
   },
   {
    "duration": 9,
    "start_time": "2023-05-26T09:06:39.095Z"
   },
   {
    "duration": 11,
    "start_time": "2023-05-26T09:06:57.486Z"
   },
   {
    "duration": 192,
    "start_time": "2023-05-26T09:09:10.194Z"
   },
   {
    "duration": 183,
    "start_time": "2023-05-26T09:09:54.693Z"
   },
   {
    "duration": 3,
    "start_time": "2023-05-26T09:10:30.812Z"
   },
   {
    "duration": 111,
    "start_time": "2023-05-26T09:10:30.817Z"
   },
   {
    "duration": 24,
    "start_time": "2023-05-26T09:10:30.929Z"
   },
   {
    "duration": 43,
    "start_time": "2023-05-26T09:10:30.955Z"
   },
   {
    "duration": 37,
    "start_time": "2023-05-26T09:10:31.000Z"
   },
   {
    "duration": 34,
    "start_time": "2023-05-26T09:10:31.038Z"
   },
   {
    "duration": 33,
    "start_time": "2023-05-26T09:10:31.074Z"
   },
   {
    "duration": 55,
    "start_time": "2023-05-26T09:10:31.109Z"
   },
   {
    "duration": 62,
    "start_time": "2023-05-26T09:10:31.165Z"
   },
   {
    "duration": 90,
    "start_time": "2023-05-26T09:10:31.230Z"
   },
   {
    "duration": 80,
    "start_time": "2023-05-26T09:10:31.321Z"
   },
   {
    "duration": 27,
    "start_time": "2023-05-26T09:10:31.403Z"
   },
   {
    "duration": 100,
    "start_time": "2023-05-26T09:10:31.431Z"
   },
   {
    "duration": 285,
    "start_time": "2023-05-26T09:10:31.532Z"
   },
   {
    "duration": 9,
    "start_time": "2023-05-26T09:10:31.819Z"
   },
   {
    "duration": 549,
    "start_time": "2023-05-26T09:10:31.830Z"
   },
   {
    "duration": 8,
    "start_time": "2023-05-26T09:10:32.380Z"
   },
   {
    "duration": 580,
    "start_time": "2023-05-26T09:10:32.389Z"
   },
   {
    "duration": 26,
    "start_time": "2023-05-26T09:10:32.971Z"
   },
   {
    "duration": 18,
    "start_time": "2023-05-26T09:10:32.999Z"
   },
   {
    "duration": 19,
    "start_time": "2023-05-26T09:10:33.019Z"
   },
   {
    "duration": 912,
    "start_time": "2023-05-26T09:10:33.039Z"
   },
   {
    "duration": 7,
    "start_time": "2023-05-26T09:10:33.952Z"
   },
   {
    "duration": 128,
    "start_time": "2023-05-26T09:10:33.960Z"
   },
   {
    "duration": 16,
    "start_time": "2023-05-26T09:10:34.090Z"
   },
   {
    "duration": 55,
    "start_time": "2023-05-26T09:10:34.107Z"
   },
   {
    "duration": 76,
    "start_time": "2023-05-26T09:10:34.164Z"
   },
   {
    "duration": 53,
    "start_time": "2023-05-26T09:10:34.244Z"
   },
   {
    "duration": 30,
    "start_time": "2023-05-26T09:10:34.299Z"
   },
   {
    "duration": 13,
    "start_time": "2023-05-26T09:10:34.331Z"
   },
   {
    "duration": 22,
    "start_time": "2023-05-26T09:10:34.346Z"
   },
   {
    "duration": 18,
    "start_time": "2023-05-26T09:10:34.370Z"
   },
   {
    "duration": 6,
    "start_time": "2023-05-26T09:10:34.390Z"
   },
   {
    "duration": 206,
    "start_time": "2023-05-26T09:10:37.596Z"
   },
   {
    "duration": 107,
    "start_time": "2023-05-26T09:12:33.623Z"
   },
   {
    "duration": 114,
    "start_time": "2023-05-26T09:12:42.298Z"
   },
   {
    "duration": 171,
    "start_time": "2023-05-26T09:12:57.233Z"
   },
   {
    "duration": 182,
    "start_time": "2023-05-26T09:13:11.303Z"
   },
   {
    "duration": 199,
    "start_time": "2023-05-26T09:13:25.439Z"
   },
   {
    "duration": 181,
    "start_time": "2023-05-26T09:14:14.432Z"
   },
   {
    "duration": 1188,
    "start_time": "2023-05-26T09:15:16.812Z"
   },
   {
    "duration": 1171,
    "start_time": "2023-05-26T09:15:31.730Z"
   },
   {
    "duration": 1400,
    "start_time": "2023-05-26T09:15:43.784Z"
   },
   {
    "duration": 1447,
    "start_time": "2023-05-26T09:16:36.772Z"
   },
   {
    "duration": 1335,
    "start_time": "2023-05-26T09:17:08.202Z"
   },
   {
    "duration": 1464,
    "start_time": "2023-05-26T09:17:15.780Z"
   },
   {
    "duration": 1316,
    "start_time": "2023-05-26T09:17:24.292Z"
   },
   {
    "duration": 4,
    "start_time": "2023-05-26T09:23:10.231Z"
   },
   {
    "duration": 6,
    "start_time": "2023-05-26T09:23:17.548Z"
   },
   {
    "duration": 126,
    "start_time": "2023-05-26T09:24:22.122Z"
   },
   {
    "duration": 10,
    "start_time": "2023-05-26T09:24:30.020Z"
   },
   {
    "duration": 9,
    "start_time": "2023-05-26T09:24:38.312Z"
   },
   {
    "duration": 5,
    "start_time": "2023-05-26T09:25:02.121Z"
   },
   {
    "duration": 3,
    "start_time": "2023-05-26T09:49:06.497Z"
   },
   {
    "duration": 68,
    "start_time": "2023-05-26T09:49:06.502Z"
   },
   {
    "duration": 18,
    "start_time": "2023-05-26T09:49:06.572Z"
   },
   {
    "duration": 18,
    "start_time": "2023-05-26T09:49:06.592Z"
   },
   {
    "duration": 17,
    "start_time": "2023-05-26T09:49:06.611Z"
   },
   {
    "duration": 22,
    "start_time": "2023-05-26T09:49:06.629Z"
   },
   {
    "duration": 10,
    "start_time": "2023-05-26T09:49:06.684Z"
   },
   {
    "duration": 10,
    "start_time": "2023-05-26T09:49:06.696Z"
   },
   {
    "duration": 5,
    "start_time": "2023-05-26T09:49:06.707Z"
   },
   {
    "duration": 14,
    "start_time": "2023-05-26T09:49:06.714Z"
   },
   {
    "duration": 6,
    "start_time": "2023-05-26T09:49:06.730Z"
   },
   {
    "duration": 49,
    "start_time": "2023-05-26T09:49:06.737Z"
   },
   {
    "duration": 6,
    "start_time": "2023-05-26T09:49:06.788Z"
   },
   {
    "duration": 235,
    "start_time": "2023-05-26T09:49:06.795Z"
   },
   {
    "duration": 8,
    "start_time": "2023-05-26T09:49:07.031Z"
   },
   {
    "duration": 449,
    "start_time": "2023-05-26T09:49:07.040Z"
   },
   {
    "duration": 8,
    "start_time": "2023-05-26T09:49:07.490Z"
   },
   {
    "duration": 565,
    "start_time": "2023-05-26T09:49:07.499Z"
   },
   {
    "duration": 26,
    "start_time": "2023-05-26T09:49:08.066Z"
   },
   {
    "duration": 20,
    "start_time": "2023-05-26T09:49:08.094Z"
   },
   {
    "duration": 9,
    "start_time": "2023-05-26T09:49:08.115Z"
   },
   {
    "duration": 866,
    "start_time": "2023-05-26T09:49:08.125Z"
   },
   {
    "duration": 8,
    "start_time": "2023-05-26T09:49:08.992Z"
   },
   {
    "duration": 9,
    "start_time": "2023-05-26T09:49:09.002Z"
   },
   {
    "duration": 9,
    "start_time": "2023-05-26T09:49:09.013Z"
   },
   {
    "duration": 7,
    "start_time": "2023-05-26T09:49:09.024Z"
   },
   {
    "duration": 68,
    "start_time": "2023-05-26T09:49:09.033Z"
   },
   {
    "duration": 152,
    "start_time": "2023-05-26T09:49:09.102Z"
   },
   {
    "duration": 33,
    "start_time": "2023-05-26T09:49:09.256Z"
   },
   {
    "duration": 4,
    "start_time": "2023-05-26T09:49:09.290Z"
   },
   {
    "duration": 4,
    "start_time": "2023-05-26T09:49:09.296Z"
   },
   {
    "duration": 8,
    "start_time": "2023-05-26T09:49:09.301Z"
   },
   {
    "duration": 5,
    "start_time": "2023-05-26T09:49:09.310Z"
   },
   {
    "duration": 1360,
    "start_time": "2023-05-26T09:49:09.316Z"
   },
   {
    "duration": 8,
    "start_time": "2023-05-26T09:49:10.677Z"
   },
   {
    "duration": 5,
    "start_time": "2023-05-26T09:49:13.934Z"
   },
   {
    "duration": 3,
    "start_time": "2023-05-26T09:49:58.183Z"
   },
   {
    "duration": 79,
    "start_time": "2023-05-26T09:49:58.187Z"
   },
   {
    "duration": 19,
    "start_time": "2023-05-26T09:49:58.268Z"
   },
   {
    "duration": 20,
    "start_time": "2023-05-26T09:49:58.288Z"
   },
   {
    "duration": 35,
    "start_time": "2023-05-26T09:49:58.310Z"
   },
   {
    "duration": 12,
    "start_time": "2023-05-26T09:49:58.347Z"
   },
   {
    "duration": 25,
    "start_time": "2023-05-26T09:49:58.360Z"
   },
   {
    "duration": 12,
    "start_time": "2023-05-26T09:49:58.387Z"
   },
   {
    "duration": 12,
    "start_time": "2023-05-26T09:49:58.400Z"
   },
   {
    "duration": 5,
    "start_time": "2023-05-26T09:49:58.414Z"
   },
   {
    "duration": 6,
    "start_time": "2023-05-26T09:49:58.421Z"
   },
   {
    "duration": 8,
    "start_time": "2023-05-26T09:49:58.429Z"
   },
   {
    "duration": 6,
    "start_time": "2023-05-26T09:49:58.439Z"
   },
   {
    "duration": 244,
    "start_time": "2023-05-26T09:49:58.447Z"
   },
   {
    "duration": 8,
    "start_time": "2023-05-26T09:49:58.694Z"
   },
   {
    "duration": 468,
    "start_time": "2023-05-26T09:49:58.703Z"
   },
   {
    "duration": 15,
    "start_time": "2023-05-26T09:49:59.173Z"
   },
   {
    "duration": 428,
    "start_time": "2023-05-26T09:49:59.190Z"
   },
   {
    "duration": 19,
    "start_time": "2023-05-26T09:49:59.620Z"
   },
   {
    "duration": 20,
    "start_time": "2023-05-26T09:49:59.641Z"
   },
   {
    "duration": 30,
    "start_time": "2023-05-26T09:49:59.662Z"
   },
   {
    "duration": 994,
    "start_time": "2023-05-26T09:49:59.693Z"
   },
   {
    "duration": 6,
    "start_time": "2023-05-26T09:50:00.689Z"
   },
   {
    "duration": 42,
    "start_time": "2023-05-26T09:50:00.697Z"
   },
   {
    "duration": 12,
    "start_time": "2023-05-26T09:50:00.740Z"
   },
   {
    "duration": 33,
    "start_time": "2023-05-26T09:50:00.754Z"
   },
   {
    "duration": 58,
    "start_time": "2023-05-26T09:50:00.788Z"
   },
   {
    "duration": 30,
    "start_time": "2023-05-26T09:50:00.847Z"
   },
   {
    "duration": 35,
    "start_time": "2023-05-26T09:50:00.880Z"
   },
   {
    "duration": 21,
    "start_time": "2023-05-26T09:50:00.916Z"
   },
   {
    "duration": 34,
    "start_time": "2023-05-26T09:50:00.939Z"
   },
   {
    "duration": 27,
    "start_time": "2023-05-26T09:50:00.974Z"
   },
   {
    "duration": 11,
    "start_time": "2023-05-26T09:50:01.002Z"
   },
   {
    "duration": 1458,
    "start_time": "2023-05-26T09:50:01.014Z"
   },
   {
    "duration": 11,
    "start_time": "2023-05-26T09:50:02.474Z"
   },
   {
    "duration": 1463,
    "start_time": "2023-05-26T14:15:40.450Z"
   },
   {
    "duration": 308,
    "start_time": "2023-05-26T14:15:41.915Z"
   },
   {
    "duration": 42,
    "start_time": "2023-05-26T14:15:42.225Z"
   },
   {
    "duration": 30,
    "start_time": "2023-05-26T14:15:42.270Z"
   },
   {
    "duration": 21,
    "start_time": "2023-05-26T14:15:42.302Z"
   },
   {
    "duration": 54,
    "start_time": "2023-05-26T14:15:42.325Z"
   },
   {
    "duration": 15,
    "start_time": "2023-05-26T14:15:42.382Z"
   },
   {
    "duration": 15,
    "start_time": "2023-05-26T14:15:42.398Z"
   },
   {
    "duration": 6,
    "start_time": "2023-05-26T14:15:42.414Z"
   },
   {
    "duration": 8,
    "start_time": "2023-05-26T14:15:42.423Z"
   },
   {
    "duration": 12,
    "start_time": "2023-05-26T14:15:42.458Z"
   },
   {
    "duration": 15,
    "start_time": "2023-05-26T14:15:42.473Z"
   },
   {
    "duration": 12,
    "start_time": "2023-05-26T14:15:42.490Z"
   },
   {
    "duration": 320,
    "start_time": "2023-05-26T14:15:42.505Z"
   },
   {
    "duration": 10,
    "start_time": "2023-05-26T14:15:42.827Z"
   },
   {
    "duration": 611,
    "start_time": "2023-05-26T14:15:42.838Z"
   },
   {
    "duration": 22,
    "start_time": "2023-05-26T14:15:43.451Z"
   },
   {
    "duration": 674,
    "start_time": "2023-05-26T14:15:43.475Z"
   },
   {
    "duration": 34,
    "start_time": "2023-05-26T14:15:44.150Z"
   },
   {
    "duration": 25,
    "start_time": "2023-05-26T14:15:44.185Z"
   },
   {
    "duration": 11,
    "start_time": "2023-05-26T14:15:44.211Z"
   },
   {
    "duration": 1155,
    "start_time": "2023-05-26T14:15:44.224Z"
   },
   {
    "duration": 9,
    "start_time": "2023-05-26T14:15:45.381Z"
   },
   {
    "duration": 21,
    "start_time": "2023-05-26T14:15:45.392Z"
   },
   {
    "duration": 12,
    "start_time": "2023-05-26T14:15:45.414Z"
   },
   {
    "duration": 39,
    "start_time": "2023-05-26T14:15:45.428Z"
   },
   {
    "duration": 44,
    "start_time": "2023-05-26T14:15:45.470Z"
   },
   {
    "duration": 52,
    "start_time": "2023-05-26T14:15:45.519Z"
   },
   {
    "duration": 33,
    "start_time": "2023-05-26T14:15:45.577Z"
   },
   {
    "duration": 7,
    "start_time": "2023-05-26T14:15:45.612Z"
   },
   {
    "duration": 8,
    "start_time": "2023-05-26T14:15:45.621Z"
   },
   {
    "duration": 10,
    "start_time": "2023-05-26T14:15:45.657Z"
   },
   {
    "duration": 39,
    "start_time": "2023-05-26T14:15:45.674Z"
   },
   {
    "duration": 1873,
    "start_time": "2023-05-26T14:15:45.715Z"
   },
   {
    "duration": 6,
    "start_time": "2023-05-26T14:15:47.589Z"
   },
   {
    "duration": 233,
    "start_time": "2023-05-26T14:21:16.250Z"
   },
   {
    "duration": 7,
    "start_time": "2023-05-26T14:24:23.802Z"
   },
   {
    "duration": 112,
    "start_time": "2023-05-26T14:26:11.688Z"
   },
   {
    "duration": 10,
    "start_time": "2023-05-26T14:29:10.799Z"
   },
   {
    "duration": 21,
    "start_time": "2023-05-26T14:31:19.373Z"
   },
   {
    "duration": 8,
    "start_time": "2023-05-26T14:32:15.277Z"
   },
   {
    "duration": 8,
    "start_time": "2023-05-26T14:37:22.750Z"
   },
   {
    "duration": 6,
    "start_time": "2023-05-26T14:37:47.446Z"
   },
   {
    "duration": 1191,
    "start_time": "2023-05-27T09:09:47.748Z"
   },
   {
    "duration": 312,
    "start_time": "2023-05-27T09:09:48.941Z"
   },
   {
    "duration": 24,
    "start_time": "2023-05-27T09:09:49.255Z"
   },
   {
    "duration": 22,
    "start_time": "2023-05-27T09:09:49.280Z"
   },
   {
    "duration": 18,
    "start_time": "2023-05-27T09:09:49.304Z"
   },
   {
    "duration": 13,
    "start_time": "2023-05-27T09:09:49.324Z"
   },
   {
    "duration": 7,
    "start_time": "2023-05-27T09:10:03.700Z"
   },
   {
    "duration": 7,
    "start_time": "2023-05-27T09:10:11.389Z"
   },
   {
    "duration": 6,
    "start_time": "2023-05-27T09:10:50.648Z"
   },
   {
    "duration": 7,
    "start_time": "2023-05-27T09:10:55.298Z"
   },
   {
    "duration": 10,
    "start_time": "2023-05-27T09:11:10.685Z"
   },
   {
    "duration": 98,
    "start_time": "2023-05-27T09:12:07.893Z"
   },
   {
    "duration": 21,
    "start_time": "2023-05-27T09:12:19.384Z"
   },
   {
    "duration": 15,
    "start_time": "2023-05-27T09:12:35.130Z"
   },
   {
    "duration": 14,
    "start_time": "2023-05-27T09:13:00.301Z"
   },
   {
    "duration": 167,
    "start_time": "2023-05-27T09:18:04.151Z"
   },
   {
    "duration": 254,
    "start_time": "2023-05-27T09:18:35.851Z"
   },
   {
    "duration": 127,
    "start_time": "2023-05-27T09:20:25.125Z"
   },
   {
    "duration": 124,
    "start_time": "2023-05-27T09:20:44.285Z"
   },
   {
    "duration": 135,
    "start_time": "2023-05-27T09:20:57.229Z"
   },
   {
    "duration": 107,
    "start_time": "2023-05-27T09:22:33.010Z"
   },
   {
    "duration": 122,
    "start_time": "2023-05-27T09:23:08.910Z"
   },
   {
    "duration": 210,
    "start_time": "2023-05-27T09:23:13.803Z"
   },
   {
    "duration": 127,
    "start_time": "2023-05-27T09:24:40.059Z"
   },
   {
    "duration": 20,
    "start_time": "2023-05-27T09:26:57.744Z"
   },
   {
    "duration": 19,
    "start_time": "2023-05-27T09:27:03.253Z"
   },
   {
    "duration": 3,
    "start_time": "2023-05-27T09:30:06.319Z"
   },
   {
    "duration": 76,
    "start_time": "2023-05-27T09:30:06.323Z"
   },
   {
    "duration": 20,
    "start_time": "2023-05-27T09:30:06.401Z"
   },
   {
    "duration": 22,
    "start_time": "2023-05-27T09:30:06.422Z"
   },
   {
    "duration": 34,
    "start_time": "2023-05-27T09:30:06.446Z"
   },
   {
    "duration": 16,
    "start_time": "2023-05-27T09:30:06.482Z"
   },
   {
    "duration": 10,
    "start_time": "2023-05-27T09:30:06.499Z"
   },
   {
    "duration": 11,
    "start_time": "2023-05-27T09:30:06.511Z"
   },
   {
    "duration": 7,
    "start_time": "2023-05-27T09:30:06.524Z"
   },
   {
    "duration": 49,
    "start_time": "2023-05-27T09:30:06.533Z"
   },
   {
    "duration": 7,
    "start_time": "2023-05-27T09:30:06.586Z"
   },
   {
    "duration": 153,
    "start_time": "2023-05-27T09:30:06.595Z"
   },
   {
    "duration": 130,
    "start_time": "2023-05-27T09:30:06.750Z"
   },
   {
    "duration": 8,
    "start_time": "2023-05-27T09:30:06.882Z"
   },
   {
    "duration": 251,
    "start_time": "2023-05-27T09:30:06.892Z"
   },
   {
    "duration": 8,
    "start_time": "2023-05-27T09:30:07.144Z"
   },
   {
    "duration": 611,
    "start_time": "2023-05-27T09:30:07.153Z"
   },
   {
    "duration": 13,
    "start_time": "2023-05-27T09:30:07.766Z"
   },
   {
    "duration": 479,
    "start_time": "2023-05-27T09:30:07.780Z"
   },
   {
    "duration": 29,
    "start_time": "2023-05-27T09:30:08.260Z"
   },
   {
    "duration": 23,
    "start_time": "2023-05-27T09:30:08.291Z"
   },
   {
    "duration": 10,
    "start_time": "2023-05-27T09:30:08.316Z"
   },
   {
    "duration": 6,
    "start_time": "2023-05-27T09:30:08.328Z"
   },
   {
    "duration": 1000,
    "start_time": "2023-05-27T09:30:08.335Z"
   },
   {
    "duration": 8,
    "start_time": "2023-05-27T09:30:09.336Z"
   },
   {
    "duration": 8,
    "start_time": "2023-05-27T09:30:09.346Z"
   },
   {
    "duration": 23,
    "start_time": "2023-05-27T09:30:09.356Z"
   },
   {
    "duration": 8,
    "start_time": "2023-05-27T09:30:09.380Z"
   },
   {
    "duration": 31,
    "start_time": "2023-05-27T09:30:09.390Z"
   },
   {
    "duration": 29,
    "start_time": "2023-05-27T09:30:09.422Z"
   },
   {
    "duration": 47,
    "start_time": "2023-05-27T09:30:09.452Z"
   },
   {
    "duration": 6,
    "start_time": "2023-05-27T09:30:09.500Z"
   },
   {
    "duration": 7,
    "start_time": "2023-05-27T09:30:09.508Z"
   },
   {
    "duration": 5,
    "start_time": "2023-05-27T09:30:09.517Z"
   },
   {
    "duration": 5,
    "start_time": "2023-05-27T09:30:43.336Z"
   },
   {
    "duration": 5,
    "start_time": "2023-05-27T09:30:50.990Z"
   },
   {
    "duration": 5,
    "start_time": "2023-05-27T09:30:56.942Z"
   },
   {
    "duration": 1426,
    "start_time": "2023-05-27T15:03:59.355Z"
   },
   {
    "duration": 346,
    "start_time": "2023-05-27T15:04:00.783Z"
   },
   {
    "duration": 36,
    "start_time": "2023-05-27T15:04:01.132Z"
   },
   {
    "duration": 67,
    "start_time": "2023-05-27T15:04:01.170Z"
   },
   {
    "duration": 44,
    "start_time": "2023-05-27T15:04:01.239Z"
   },
   {
    "duration": 52,
    "start_time": "2023-05-27T15:04:01.291Z"
   },
   {
    "duration": 23,
    "start_time": "2023-05-27T15:04:01.345Z"
   },
   {
    "duration": 51,
    "start_time": "2023-05-27T15:04:01.370Z"
   },
   {
    "duration": 20,
    "start_time": "2023-05-27T15:04:01.422Z"
   },
   {
    "duration": 34,
    "start_time": "2023-05-27T15:04:01.444Z"
   },
   {
    "duration": 33,
    "start_time": "2023-05-27T15:04:01.481Z"
   },
   {
    "duration": 191,
    "start_time": "2023-05-27T15:04:01.516Z"
   },
   {
    "duration": 151,
    "start_time": "2023-05-27T15:04:01.708Z"
   },
   {
    "duration": 19,
    "start_time": "2023-05-27T15:04:01.861Z"
   },
   {
    "duration": 324,
    "start_time": "2023-05-27T15:04:01.881Z"
   },
   {
    "duration": 11,
    "start_time": "2023-05-27T15:04:02.207Z"
   },
   {
    "duration": 622,
    "start_time": "2023-05-27T15:04:02.220Z"
   },
   {
    "duration": 15,
    "start_time": "2023-05-27T15:04:02.844Z"
   },
   {
    "duration": 715,
    "start_time": "2023-05-27T15:04:02.861Z"
   },
   {
    "duration": 35,
    "start_time": "2023-05-27T15:04:03.581Z"
   },
   {
    "duration": 33,
    "start_time": "2023-05-27T15:04:03.619Z"
   },
   {
    "duration": 28,
    "start_time": "2023-05-27T15:04:03.655Z"
   },
   {
    "duration": 10,
    "start_time": "2023-05-27T15:04:03.686Z"
   },
   {
    "duration": 1302,
    "start_time": "2023-05-27T15:04:03.698Z"
   },
   {
    "duration": 10,
    "start_time": "2023-05-27T15:04:05.002Z"
   },
   {
    "duration": 9,
    "start_time": "2023-05-27T15:04:05.014Z"
   },
   {
    "duration": 11,
    "start_time": "2023-05-27T15:04:05.025Z"
   },
   {
    "duration": 11,
    "start_time": "2023-05-27T15:04:05.040Z"
   },
   {
    "duration": 49,
    "start_time": "2023-05-27T15:04:05.076Z"
   },
   {
    "duration": 147,
    "start_time": "2023-05-27T15:04:05.127Z"
   },
   {
    "duration": 38,
    "start_time": "2023-05-27T15:04:05.279Z"
   },
   {
    "duration": 9,
    "start_time": "2023-05-27T15:04:05.318Z"
   },
   {
    "duration": 6,
    "start_time": "2023-05-27T15:04:05.328Z"
   },
   {
    "duration": 18,
    "start_time": "2023-05-27T15:04:05.336Z"
   },
   {
    "duration": 33,
    "start_time": "2023-05-27T15:04:05.356Z"
   },
   {
    "duration": 30,
    "start_time": "2023-05-27T15:04:05.391Z"
   },
   {
    "duration": 9,
    "start_time": "2023-05-27T15:04:05.423Z"
   },
   {
    "duration": 1873,
    "start_time": "2023-05-27T15:04:05.435Z"
   },
   {
    "duration": 6,
    "start_time": "2023-05-27T15:04:07.315Z"
   },
   {
    "duration": 31,
    "start_time": "2023-05-27T15:08:11.204Z"
   },
   {
    "duration": 34,
    "start_time": "2023-05-27T15:08:30.042Z"
   },
   {
    "duration": 6,
    "start_time": "2023-05-27T15:08:36.546Z"
   },
   {
    "duration": 7,
    "start_time": "2023-05-27T15:08:43.444Z"
   },
   {
    "duration": 8,
    "start_time": "2023-05-27T15:08:54.707Z"
   },
   {
    "duration": 99,
    "start_time": "2023-05-27T15:10:09.612Z"
   },
   {
    "duration": 1231,
    "start_time": "2023-05-27T15:10:25.535Z"
   },
   {
    "duration": 91,
    "start_time": "2023-05-27T15:10:26.769Z"
   },
   {
    "duration": 41,
    "start_time": "2023-05-27T15:10:26.862Z"
   },
   {
    "duration": 30,
    "start_time": "2023-05-27T15:10:26.907Z"
   },
   {
    "duration": 32,
    "start_time": "2023-05-27T15:10:26.956Z"
   },
   {
    "duration": 24,
    "start_time": "2023-05-27T15:10:26.990Z"
   },
   {
    "duration": 16,
    "start_time": "2023-05-27T15:10:27.017Z"
   },
   {
    "duration": 12,
    "start_time": "2023-05-27T15:10:27.035Z"
   },
   {
    "duration": 18,
    "start_time": "2023-05-27T15:10:27.077Z"
   },
   {
    "duration": 10,
    "start_time": "2023-05-27T15:10:27.097Z"
   },
   {
    "duration": 19,
    "start_time": "2023-05-27T15:10:27.110Z"
   },
   {
    "duration": 172,
    "start_time": "2023-05-27T15:10:27.131Z"
   },
   {
    "duration": 143,
    "start_time": "2023-05-27T15:10:27.304Z"
   },
   {
    "duration": 162,
    "start_time": "2023-05-27T15:10:27.451Z"
   },
   {
    "duration": 0,
    "start_time": "2023-05-27T15:10:27.615Z"
   },
   {
    "duration": 0,
    "start_time": "2023-05-27T15:10:27.617Z"
   },
   {
    "duration": 0,
    "start_time": "2023-05-27T15:10:27.619Z"
   },
   {
    "duration": 0,
    "start_time": "2023-05-27T15:10:27.621Z"
   },
   {
    "duration": 0,
    "start_time": "2023-05-27T15:10:27.623Z"
   },
   {
    "duration": 0,
    "start_time": "2023-05-27T15:10:27.624Z"
   },
   {
    "duration": 0,
    "start_time": "2023-05-27T15:10:27.626Z"
   },
   {
    "duration": 0,
    "start_time": "2023-05-27T15:10:27.628Z"
   },
   {
    "duration": 0,
    "start_time": "2023-05-27T15:10:27.629Z"
   },
   {
    "duration": 0,
    "start_time": "2023-05-27T15:10:27.631Z"
   },
   {
    "duration": 0,
    "start_time": "2023-05-27T15:10:27.633Z"
   },
   {
    "duration": 0,
    "start_time": "2023-05-27T15:10:27.634Z"
   },
   {
    "duration": 0,
    "start_time": "2023-05-27T15:10:27.636Z"
   },
   {
    "duration": 0,
    "start_time": "2023-05-27T15:10:27.637Z"
   },
   {
    "duration": 0,
    "start_time": "2023-05-27T15:10:27.639Z"
   },
   {
    "duration": 0,
    "start_time": "2023-05-27T15:10:27.640Z"
   },
   {
    "duration": 0,
    "start_time": "2023-05-27T15:10:27.642Z"
   },
   {
    "duration": 0,
    "start_time": "2023-05-27T15:10:27.679Z"
   },
   {
    "duration": 0,
    "start_time": "2023-05-27T15:10:27.681Z"
   },
   {
    "duration": 0,
    "start_time": "2023-05-27T15:10:27.682Z"
   },
   {
    "duration": 0,
    "start_time": "2023-05-27T15:10:27.683Z"
   },
   {
    "duration": 0,
    "start_time": "2023-05-27T15:10:27.684Z"
   },
   {
    "duration": 0,
    "start_time": "2023-05-27T15:10:27.685Z"
   },
   {
    "duration": 0,
    "start_time": "2023-05-27T15:10:27.686Z"
   },
   {
    "duration": 0,
    "start_time": "2023-05-27T15:10:27.687Z"
   },
   {
    "duration": 0,
    "start_time": "2023-05-27T15:10:27.688Z"
   },
   {
    "duration": 103,
    "start_time": "2023-05-27T15:10:40.710Z"
   },
   {
    "duration": 1173,
    "start_time": "2023-05-27T15:10:53.241Z"
   },
   {
    "duration": 91,
    "start_time": "2023-05-27T15:10:54.418Z"
   },
   {
    "duration": 25,
    "start_time": "2023-05-27T15:10:54.511Z"
   },
   {
    "duration": 22,
    "start_time": "2023-05-27T15:10:54.539Z"
   },
   {
    "duration": 25,
    "start_time": "2023-05-27T15:10:54.563Z"
   },
   {
    "duration": 21,
    "start_time": "2023-05-27T15:10:54.589Z"
   },
   {
    "duration": 10,
    "start_time": "2023-05-27T15:10:54.611Z"
   },
   {
    "duration": 11,
    "start_time": "2023-05-27T15:10:54.622Z"
   },
   {
    "duration": 6,
    "start_time": "2023-05-27T15:10:54.634Z"
   },
   {
    "duration": 49,
    "start_time": "2023-05-27T15:10:54.642Z"
   },
   {
    "duration": 10,
    "start_time": "2023-05-27T15:10:54.693Z"
   },
   {
    "duration": 151,
    "start_time": "2023-05-27T15:10:54.704Z"
   },
   {
    "duration": 149,
    "start_time": "2023-05-27T15:10:54.857Z"
   },
   {
    "duration": 99,
    "start_time": "2023-05-27T15:10:55.009Z"
   },
   {
    "duration": 8,
    "start_time": "2023-05-27T15:10:55.109Z"
   },
   {
    "duration": 297,
    "start_time": "2023-05-27T15:10:55.118Z"
   },
   {
    "duration": 9,
    "start_time": "2023-05-27T15:10:55.419Z"
   },
   {
    "duration": 583,
    "start_time": "2023-05-27T15:10:55.430Z"
   },
   {
    "duration": 8,
    "start_time": "2023-05-27T15:10:56.015Z"
   },
   {
    "duration": 634,
    "start_time": "2023-05-27T15:10:56.025Z"
   },
   {
    "duration": 44,
    "start_time": "2023-05-27T15:10:56.660Z"
   },
   {
    "duration": 22,
    "start_time": "2023-05-27T15:10:56.708Z"
   },
   {
    "duration": 9,
    "start_time": "2023-05-27T15:10:56.732Z"
   },
   {
    "duration": 6,
    "start_time": "2023-05-27T15:10:56.742Z"
   },
   {
    "duration": 1167,
    "start_time": "2023-05-27T15:10:56.750Z"
   },
   {
    "duration": 9,
    "start_time": "2023-05-27T15:10:57.918Z"
   },
   {
    "duration": 8,
    "start_time": "2023-05-27T15:10:57.929Z"
   },
   {
    "duration": 9,
    "start_time": "2023-05-27T15:10:57.941Z"
   },
   {
    "duration": 13,
    "start_time": "2023-05-27T15:10:57.978Z"
   },
   {
    "duration": 36,
    "start_time": "2023-05-27T15:10:57.995Z"
   },
   {
    "duration": 80,
    "start_time": "2023-05-27T15:10:58.033Z"
   },
   {
    "duration": 31,
    "start_time": "2023-05-27T15:10:58.114Z"
   },
   {
    "duration": 9,
    "start_time": "2023-05-27T15:10:58.147Z"
   },
   {
    "duration": 6,
    "start_time": "2023-05-27T15:10:58.158Z"
   },
   {
    "duration": 14,
    "start_time": "2023-05-27T15:10:58.166Z"
   },
   {
    "duration": 17,
    "start_time": "2023-05-27T15:10:58.185Z"
   },
   {
    "duration": 9,
    "start_time": "2023-05-27T15:10:58.206Z"
   },
   {
    "duration": 6,
    "start_time": "2023-05-27T15:10:58.216Z"
   },
   {
    "duration": 1783,
    "start_time": "2023-05-27T15:10:58.223Z"
   },
   {
    "duration": 6,
    "start_time": "2023-05-27T15:11:00.010Z"
   },
   {
    "duration": 194,
    "start_time": "2023-05-27T15:12:11.124Z"
   }
  ],
  "kernelspec": {
   "display_name": "Python 3 (ipykernel)",
   "language": "python",
   "name": "python3"
  },
  "language_info": {
   "codemirror_mode": {
    "name": "ipython",
    "version": 3
   },
   "file_extension": ".py",
   "mimetype": "text/x-python",
   "name": "python",
   "nbconvert_exporter": "python",
   "pygments_lexer": "ipython3",
   "version": "3.10.9"
  },
  "toc": {
   "base_numbering": 1,
   "nav_menu": {},
   "number_sections": true,
   "sideBar": true,
   "skip_h1_title": true,
   "title_cell": "Table of Contents",
   "title_sidebar": "Contents",
   "toc_cell": false,
   "toc_position": {},
   "toc_section_display": true,
   "toc_window_display": false
  }
 },
 "nbformat": 4,
 "nbformat_minor": 5
}
